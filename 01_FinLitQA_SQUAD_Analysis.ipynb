{
  "nbformat": 4,
  "nbformat_minor": 0,
  "metadata": {
    "accelerator": "GPU",
    "colab": {
      "name": "02_FinLitQA_SQUAD_Analysis.ipynb",
      "provenance": [],
      "collapsed_sections": [],
      "toc_visible": true
    },
    "kernelspec": {
      "display_name": "Python 3",
      "language": "python",
      "name": "python3"
    },
    "language_info": {
      "codemirror_mode": {
        "name": "ipython",
        "version": 3
      },
      "file_extension": ".py",
      "mimetype": "text/x-python",
      "name": "python",
      "nbconvert_exporter": "python",
      "pygments_lexer": "ipython3",
      "version": "3.7.6"
    },
    "widgets": {
      "application/vnd.jupyter.widget-state+json": {
        "5df07a5628a74a4e853b68a6848b8261": {
          "model_module": "@jupyter-widgets/controls",
          "model_name": "HBoxModel",
          "model_module_version": "1.5.0",
          "state": {
            "_view_name": "HBoxView",
            "_dom_classes": [],
            "_model_name": "HBoxModel",
            "_view_module": "@jupyter-widgets/controls",
            "_model_module_version": "1.5.0",
            "_view_count": null,
            "_view_module_version": "1.5.0",
            "box_style": "",
            "layout": "IPY_MODEL_ebcbba87313a41e19b049d8064ff3224",
            "_model_module": "@jupyter-widgets/controls",
            "children": [
              "IPY_MODEL_1618713a27a8476c9199e60ea1a4a0c7",
              "IPY_MODEL_9962114033ba4e5d99ee43ea98ac157f",
              "IPY_MODEL_fab1847713a340f7b625a8d34f29de8f"
            ]
          }
        },
        "ebcbba87313a41e19b049d8064ff3224": {
          "model_module": "@jupyter-widgets/base",
          "model_name": "LayoutModel",
          "model_module_version": "1.2.0",
          "state": {
            "_view_name": "LayoutView",
            "grid_template_rows": null,
            "right": null,
            "justify_content": null,
            "_view_module": "@jupyter-widgets/base",
            "overflow": null,
            "_model_module_version": "1.2.0",
            "_view_count": null,
            "flex_flow": null,
            "width": null,
            "min_width": null,
            "border": null,
            "align_items": null,
            "bottom": null,
            "_model_module": "@jupyter-widgets/base",
            "top": null,
            "grid_column": null,
            "overflow_y": null,
            "overflow_x": null,
            "grid_auto_flow": null,
            "grid_area": null,
            "grid_template_columns": null,
            "flex": null,
            "_model_name": "LayoutModel",
            "justify_items": null,
            "grid_row": null,
            "max_height": null,
            "align_content": null,
            "visibility": null,
            "align_self": null,
            "height": null,
            "min_height": null,
            "padding": null,
            "grid_auto_rows": null,
            "grid_gap": null,
            "max_width": null,
            "order": null,
            "_view_module_version": "1.2.0",
            "grid_template_areas": null,
            "object_position": null,
            "object_fit": null,
            "grid_auto_columns": null,
            "margin": null,
            "display": null,
            "left": null
          }
        },
        "1618713a27a8476c9199e60ea1a4a0c7": {
          "model_module": "@jupyter-widgets/controls",
          "model_name": "HTMLModel",
          "model_module_version": "1.5.0",
          "state": {
            "_view_name": "HTMLView",
            "style": "IPY_MODEL_b65d090aeab94dd494f560a1fda1cf66",
            "_dom_classes": [],
            "description": "",
            "_model_name": "HTMLModel",
            "placeholder": "​",
            "_view_module": "@jupyter-widgets/controls",
            "_model_module_version": "1.5.0",
            "value": "100%",
            "_view_count": null,
            "_view_module_version": "1.5.0",
            "description_tooltip": null,
            "_model_module": "@jupyter-widgets/controls",
            "layout": "IPY_MODEL_aaa3314347a44883a81b23852692ae61"
          }
        },
        "9962114033ba4e5d99ee43ea98ac157f": {
          "model_module": "@jupyter-widgets/controls",
          "model_name": "FloatProgressModel",
          "model_module_version": "1.5.0",
          "state": {
            "_view_name": "ProgressView",
            "style": "IPY_MODEL_6566b644f09a4e309c7ef3a4499df709",
            "_dom_classes": [],
            "description": "",
            "_model_name": "FloatProgressModel",
            "bar_style": "success",
            "max": 2,
            "_view_module": "@jupyter-widgets/controls",
            "_model_module_version": "1.5.0",
            "value": 2,
            "_view_count": null,
            "_view_module_version": "1.5.0",
            "orientation": "horizontal",
            "min": 0,
            "description_tooltip": null,
            "_model_module": "@jupyter-widgets/controls",
            "layout": "IPY_MODEL_d112e654dd7f4afbb7a86819fbcf962b"
          }
        },
        "fab1847713a340f7b625a8d34f29de8f": {
          "model_module": "@jupyter-widgets/controls",
          "model_name": "HTMLModel",
          "model_module_version": "1.5.0",
          "state": {
            "_view_name": "HTMLView",
            "style": "IPY_MODEL_00e9d7df9ca64887aeabcd7817134eac",
            "_dom_classes": [],
            "description": "",
            "_model_name": "HTMLModel",
            "placeholder": "​",
            "_view_module": "@jupyter-widgets/controls",
            "_model_module_version": "1.5.0",
            "value": " 2/2 [00:00&lt;00:00, 51.58it/s]",
            "_view_count": null,
            "_view_module_version": "1.5.0",
            "description_tooltip": null,
            "_model_module": "@jupyter-widgets/controls",
            "layout": "IPY_MODEL_7bb98abf09bb4d89b01662f6e51caadd"
          }
        },
        "b65d090aeab94dd494f560a1fda1cf66": {
          "model_module": "@jupyter-widgets/controls",
          "model_name": "DescriptionStyleModel",
          "model_module_version": "1.5.0",
          "state": {
            "_view_name": "StyleView",
            "_model_name": "DescriptionStyleModel",
            "description_width": "",
            "_view_module": "@jupyter-widgets/base",
            "_model_module_version": "1.5.0",
            "_view_count": null,
            "_view_module_version": "1.2.0",
            "_model_module": "@jupyter-widgets/controls"
          }
        },
        "aaa3314347a44883a81b23852692ae61": {
          "model_module": "@jupyter-widgets/base",
          "model_name": "LayoutModel",
          "model_module_version": "1.2.0",
          "state": {
            "_view_name": "LayoutView",
            "grid_template_rows": null,
            "right": null,
            "justify_content": null,
            "_view_module": "@jupyter-widgets/base",
            "overflow": null,
            "_model_module_version": "1.2.0",
            "_view_count": null,
            "flex_flow": null,
            "width": null,
            "min_width": null,
            "border": null,
            "align_items": null,
            "bottom": null,
            "_model_module": "@jupyter-widgets/base",
            "top": null,
            "grid_column": null,
            "overflow_y": null,
            "overflow_x": null,
            "grid_auto_flow": null,
            "grid_area": null,
            "grid_template_columns": null,
            "flex": null,
            "_model_name": "LayoutModel",
            "justify_items": null,
            "grid_row": null,
            "max_height": null,
            "align_content": null,
            "visibility": null,
            "align_self": null,
            "height": null,
            "min_height": null,
            "padding": null,
            "grid_auto_rows": null,
            "grid_gap": null,
            "max_width": null,
            "order": null,
            "_view_module_version": "1.2.0",
            "grid_template_areas": null,
            "object_position": null,
            "object_fit": null,
            "grid_auto_columns": null,
            "margin": null,
            "display": null,
            "left": null
          }
        },
        "6566b644f09a4e309c7ef3a4499df709": {
          "model_module": "@jupyter-widgets/controls",
          "model_name": "ProgressStyleModel",
          "model_module_version": "1.5.0",
          "state": {
            "_view_name": "StyleView",
            "_model_name": "ProgressStyleModel",
            "description_width": "",
            "_view_module": "@jupyter-widgets/base",
            "_model_module_version": "1.5.0",
            "_view_count": null,
            "_view_module_version": "1.2.0",
            "bar_color": null,
            "_model_module": "@jupyter-widgets/controls"
          }
        },
        "d112e654dd7f4afbb7a86819fbcf962b": {
          "model_module": "@jupyter-widgets/base",
          "model_name": "LayoutModel",
          "model_module_version": "1.2.0",
          "state": {
            "_view_name": "LayoutView",
            "grid_template_rows": null,
            "right": null,
            "justify_content": null,
            "_view_module": "@jupyter-widgets/base",
            "overflow": null,
            "_model_module_version": "1.2.0",
            "_view_count": null,
            "flex_flow": null,
            "width": null,
            "min_width": null,
            "border": null,
            "align_items": null,
            "bottom": null,
            "_model_module": "@jupyter-widgets/base",
            "top": null,
            "grid_column": null,
            "overflow_y": null,
            "overflow_x": null,
            "grid_auto_flow": null,
            "grid_area": null,
            "grid_template_columns": null,
            "flex": null,
            "_model_name": "LayoutModel",
            "justify_items": null,
            "grid_row": null,
            "max_height": null,
            "align_content": null,
            "visibility": null,
            "align_self": null,
            "height": null,
            "min_height": null,
            "padding": null,
            "grid_auto_rows": null,
            "grid_gap": null,
            "max_width": null,
            "order": null,
            "_view_module_version": "1.2.0",
            "grid_template_areas": null,
            "object_position": null,
            "object_fit": null,
            "grid_auto_columns": null,
            "margin": null,
            "display": null,
            "left": null
          }
        },
        "00e9d7df9ca64887aeabcd7817134eac": {
          "model_module": "@jupyter-widgets/controls",
          "model_name": "DescriptionStyleModel",
          "model_module_version": "1.5.0",
          "state": {
            "_view_name": "StyleView",
            "_model_name": "DescriptionStyleModel",
            "description_width": "",
            "_view_module": "@jupyter-widgets/base",
            "_model_module_version": "1.5.0",
            "_view_count": null,
            "_view_module_version": "1.2.0",
            "_model_module": "@jupyter-widgets/controls"
          }
        },
        "7bb98abf09bb4d89b01662f6e51caadd": {
          "model_module": "@jupyter-widgets/base",
          "model_name": "LayoutModel",
          "model_module_version": "1.2.0",
          "state": {
            "_view_name": "LayoutView",
            "grid_template_rows": null,
            "right": null,
            "justify_content": null,
            "_view_module": "@jupyter-widgets/base",
            "overflow": null,
            "_model_module_version": "1.2.0",
            "_view_count": null,
            "flex_flow": null,
            "width": null,
            "min_width": null,
            "border": null,
            "align_items": null,
            "bottom": null,
            "_model_module": "@jupyter-widgets/base",
            "top": null,
            "grid_column": null,
            "overflow_y": null,
            "overflow_x": null,
            "grid_auto_flow": null,
            "grid_area": null,
            "grid_template_columns": null,
            "flex": null,
            "_model_name": "LayoutModel",
            "justify_items": null,
            "grid_row": null,
            "max_height": null,
            "align_content": null,
            "visibility": null,
            "align_self": null,
            "height": null,
            "min_height": null,
            "padding": null,
            "grid_auto_rows": null,
            "grid_gap": null,
            "max_width": null,
            "order": null,
            "_view_module_version": "1.2.0",
            "grid_template_areas": null,
            "object_position": null,
            "object_fit": null,
            "grid_auto_columns": null,
            "margin": null,
            "display": null,
            "left": null
          }
        },
        "5e6142dd0eb74094b374e46f8e8f28a2": {
          "model_module": "@jupyter-widgets/controls",
          "model_name": "HBoxModel",
          "model_module_version": "1.5.0",
          "state": {
            "_view_name": "HBoxView",
            "_dom_classes": [],
            "_model_name": "HBoxModel",
            "_view_module": "@jupyter-widgets/controls",
            "_model_module_version": "1.5.0",
            "_view_count": null,
            "_view_module_version": "1.5.0",
            "box_style": "",
            "layout": "IPY_MODEL_0457e9c72ad44441ae2627cc28649b49",
            "_model_module": "@jupyter-widgets/controls",
            "children": [
              "IPY_MODEL_c649072a03674017a2bcc9bcede691bf",
              "IPY_MODEL_200c7696a4324d9b8608cf3010787516",
              "IPY_MODEL_628f29716ac045fa88bb4cc8b105c613"
            ]
          }
        },
        "0457e9c72ad44441ae2627cc28649b49": {
          "model_module": "@jupyter-widgets/base",
          "model_name": "LayoutModel",
          "model_module_version": "1.2.0",
          "state": {
            "_view_name": "LayoutView",
            "grid_template_rows": null,
            "right": null,
            "justify_content": null,
            "_view_module": "@jupyter-widgets/base",
            "overflow": null,
            "_model_module_version": "1.2.0",
            "_view_count": null,
            "flex_flow": null,
            "width": null,
            "min_width": null,
            "border": null,
            "align_items": null,
            "bottom": null,
            "_model_module": "@jupyter-widgets/base",
            "top": null,
            "grid_column": null,
            "overflow_y": null,
            "overflow_x": null,
            "grid_auto_flow": null,
            "grid_area": null,
            "grid_template_columns": null,
            "flex": null,
            "_model_name": "LayoutModel",
            "justify_items": null,
            "grid_row": null,
            "max_height": null,
            "align_content": null,
            "visibility": null,
            "align_self": null,
            "height": null,
            "min_height": null,
            "padding": null,
            "grid_auto_rows": null,
            "grid_gap": null,
            "max_width": null,
            "order": null,
            "_view_module_version": "1.2.0",
            "grid_template_areas": null,
            "object_position": null,
            "object_fit": null,
            "grid_auto_columns": null,
            "margin": null,
            "display": null,
            "left": null
          }
        },
        "c649072a03674017a2bcc9bcede691bf": {
          "model_module": "@jupyter-widgets/controls",
          "model_name": "HTMLModel",
          "model_module_version": "1.5.0",
          "state": {
            "_view_name": "HTMLView",
            "style": "IPY_MODEL_8d17382481894fecb483ca0d4774621f",
            "_dom_classes": [],
            "description": "",
            "_model_name": "HTMLModel",
            "placeholder": "​",
            "_view_module": "@jupyter-widgets/controls",
            "_model_module_version": "1.5.0",
            "value": "100%",
            "_view_count": null,
            "_view_module_version": "1.5.0",
            "description_tooltip": null,
            "_model_module": "@jupyter-widgets/controls",
            "layout": "IPY_MODEL_1a3af1b741644fbc879f0560963047b0"
          }
        },
        "200c7696a4324d9b8608cf3010787516": {
          "model_module": "@jupyter-widgets/controls",
          "model_name": "FloatProgressModel",
          "model_module_version": "1.5.0",
          "state": {
            "_view_name": "ProgressView",
            "style": "IPY_MODEL_6809497978f248dd9187805891ab8146",
            "_dom_classes": [],
            "description": "",
            "_model_name": "FloatProgressModel",
            "bar_style": "success",
            "max": 2,
            "_view_module": "@jupyter-widgets/controls",
            "_model_module_version": "1.5.0",
            "value": 2,
            "_view_count": null,
            "_view_module_version": "1.5.0",
            "orientation": "horizontal",
            "min": 0,
            "description_tooltip": null,
            "_model_module": "@jupyter-widgets/controls",
            "layout": "IPY_MODEL_f34256b103f34121bdf01595c5063404"
          }
        },
        "628f29716ac045fa88bb4cc8b105c613": {
          "model_module": "@jupyter-widgets/controls",
          "model_name": "HTMLModel",
          "model_module_version": "1.5.0",
          "state": {
            "_view_name": "HTMLView",
            "style": "IPY_MODEL_6deede829b5d4208b62632abd16436c8",
            "_dom_classes": [],
            "description": "",
            "_model_name": "HTMLModel",
            "placeholder": "​",
            "_view_module": "@jupyter-widgets/controls",
            "_model_module_version": "1.5.0",
            "value": " 2/2 [00:00&lt;00:00, 55.37it/s]",
            "_view_count": null,
            "_view_module_version": "1.5.0",
            "description_tooltip": null,
            "_model_module": "@jupyter-widgets/controls",
            "layout": "IPY_MODEL_b1b84305a24740aba6e551e79c959914"
          }
        },
        "8d17382481894fecb483ca0d4774621f": {
          "model_module": "@jupyter-widgets/controls",
          "model_name": "DescriptionStyleModel",
          "model_module_version": "1.5.0",
          "state": {
            "_view_name": "StyleView",
            "_model_name": "DescriptionStyleModel",
            "description_width": "",
            "_view_module": "@jupyter-widgets/base",
            "_model_module_version": "1.5.0",
            "_view_count": null,
            "_view_module_version": "1.2.0",
            "_model_module": "@jupyter-widgets/controls"
          }
        },
        "1a3af1b741644fbc879f0560963047b0": {
          "model_module": "@jupyter-widgets/base",
          "model_name": "LayoutModel",
          "model_module_version": "1.2.0",
          "state": {
            "_view_name": "LayoutView",
            "grid_template_rows": null,
            "right": null,
            "justify_content": null,
            "_view_module": "@jupyter-widgets/base",
            "overflow": null,
            "_model_module_version": "1.2.0",
            "_view_count": null,
            "flex_flow": null,
            "width": null,
            "min_width": null,
            "border": null,
            "align_items": null,
            "bottom": null,
            "_model_module": "@jupyter-widgets/base",
            "top": null,
            "grid_column": null,
            "overflow_y": null,
            "overflow_x": null,
            "grid_auto_flow": null,
            "grid_area": null,
            "grid_template_columns": null,
            "flex": null,
            "_model_name": "LayoutModel",
            "justify_items": null,
            "grid_row": null,
            "max_height": null,
            "align_content": null,
            "visibility": null,
            "align_self": null,
            "height": null,
            "min_height": null,
            "padding": null,
            "grid_auto_rows": null,
            "grid_gap": null,
            "max_width": null,
            "order": null,
            "_view_module_version": "1.2.0",
            "grid_template_areas": null,
            "object_position": null,
            "object_fit": null,
            "grid_auto_columns": null,
            "margin": null,
            "display": null,
            "left": null
          }
        },
        "6809497978f248dd9187805891ab8146": {
          "model_module": "@jupyter-widgets/controls",
          "model_name": "ProgressStyleModel",
          "model_module_version": "1.5.0",
          "state": {
            "_view_name": "StyleView",
            "_model_name": "ProgressStyleModel",
            "description_width": "",
            "_view_module": "@jupyter-widgets/base",
            "_model_module_version": "1.5.0",
            "_view_count": null,
            "_view_module_version": "1.2.0",
            "bar_color": null,
            "_model_module": "@jupyter-widgets/controls"
          }
        },
        "f34256b103f34121bdf01595c5063404": {
          "model_module": "@jupyter-widgets/base",
          "model_name": "LayoutModel",
          "model_module_version": "1.2.0",
          "state": {
            "_view_name": "LayoutView",
            "grid_template_rows": null,
            "right": null,
            "justify_content": null,
            "_view_module": "@jupyter-widgets/base",
            "overflow": null,
            "_model_module_version": "1.2.0",
            "_view_count": null,
            "flex_flow": null,
            "width": null,
            "min_width": null,
            "border": null,
            "align_items": null,
            "bottom": null,
            "_model_module": "@jupyter-widgets/base",
            "top": null,
            "grid_column": null,
            "overflow_y": null,
            "overflow_x": null,
            "grid_auto_flow": null,
            "grid_area": null,
            "grid_template_columns": null,
            "flex": null,
            "_model_name": "LayoutModel",
            "justify_items": null,
            "grid_row": null,
            "max_height": null,
            "align_content": null,
            "visibility": null,
            "align_self": null,
            "height": null,
            "min_height": null,
            "padding": null,
            "grid_auto_rows": null,
            "grid_gap": null,
            "max_width": null,
            "order": null,
            "_view_module_version": "1.2.0",
            "grid_template_areas": null,
            "object_position": null,
            "object_fit": null,
            "grid_auto_columns": null,
            "margin": null,
            "display": null,
            "left": null
          }
        },
        "6deede829b5d4208b62632abd16436c8": {
          "model_module": "@jupyter-widgets/controls",
          "model_name": "DescriptionStyleModel",
          "model_module_version": "1.5.0",
          "state": {
            "_view_name": "StyleView",
            "_model_name": "DescriptionStyleModel",
            "description_width": "",
            "_view_module": "@jupyter-widgets/base",
            "_model_module_version": "1.5.0",
            "_view_count": null,
            "_view_module_version": "1.2.0",
            "_model_module": "@jupyter-widgets/controls"
          }
        },
        "b1b84305a24740aba6e551e79c959914": {
          "model_module": "@jupyter-widgets/base",
          "model_name": "LayoutModel",
          "model_module_version": "1.2.0",
          "state": {
            "_view_name": "LayoutView",
            "grid_template_rows": null,
            "right": null,
            "justify_content": null,
            "_view_module": "@jupyter-widgets/base",
            "overflow": null,
            "_model_module_version": "1.2.0",
            "_view_count": null,
            "flex_flow": null,
            "width": null,
            "min_width": null,
            "border": null,
            "align_items": null,
            "bottom": null,
            "_model_module": "@jupyter-widgets/base",
            "top": null,
            "grid_column": null,
            "overflow_y": null,
            "overflow_x": null,
            "grid_auto_flow": null,
            "grid_area": null,
            "grid_template_columns": null,
            "flex": null,
            "_model_name": "LayoutModel",
            "justify_items": null,
            "grid_row": null,
            "max_height": null,
            "align_content": null,
            "visibility": null,
            "align_self": null,
            "height": null,
            "min_height": null,
            "padding": null,
            "grid_auto_rows": null,
            "grid_gap": null,
            "max_width": null,
            "order": null,
            "_view_module_version": "1.2.0",
            "grid_template_areas": null,
            "object_position": null,
            "object_fit": null,
            "grid_auto_columns": null,
            "margin": null,
            "display": null,
            "left": null
          }
        }
      }
    }
  },
  "cells": [
    {
      "cell_type": "markdown",
      "metadata": {
        "id": "H7-H1mQqIruF"
      },
      "source": [
        "# Initialization"
      ]
    },
    {
      "cell_type": "markdown",
      "metadata": {
        "id": "1ehvAah8hP1P"
      },
      "source": [
        "This Notebook is part of the final Thesis.\n",
        "This consists of analysis, visualisation and parsing of the SQUAD dataset from Json file to Dataframe. \n",
        "\n",
        "A simple Question answering system using existing pre-trained model is also illustrated here. "
      ]
    },
    {
      "cell_type": "code",
      "metadata": {
        "id": "KjDw_Ct78Z-_",
        "colab": {
          "base_uri": "https://localhost:8080/"
        },
        "outputId": "186ebf0c-175d-45cc-bb6f-51165477ef8a"
      },
      "source": [
        "# Make sure you have a GPU running\n",
        "!nvidia-smi"
      ],
      "execution_count": null,
      "outputs": [
        {
          "output_type": "stream",
          "name": "stdout",
          "text": [
            "Fri Nov 26 16:42:10 2021       \n",
            "+-----------------------------------------------------------------------------+\n",
            "| NVIDIA-SMI 495.44       Driver Version: 460.32.03    CUDA Version: 11.2     |\n",
            "|-------------------------------+----------------------+----------------------+\n",
            "| GPU  Name        Persistence-M| Bus-Id        Disp.A | Volatile Uncorr. ECC |\n",
            "| Fan  Temp  Perf  Pwr:Usage/Cap|         Memory-Usage | GPU-Util  Compute M. |\n",
            "|                               |                      |               MIG M. |\n",
            "|===============================+======================+======================|\n",
            "|   0  Tesla P100-PCIE...  Off  | 00000000:00:04.0 Off |                    0 |\n",
            "| N/A   36C    P0    27W / 250W |      0MiB / 16280MiB |      0%      Default |\n",
            "|                               |                      |                  N/A |\n",
            "+-------------------------------+----------------------+----------------------+\n",
            "                                                                               \n",
            "+-----------------------------------------------------------------------------+\n",
            "| Processes:                                                                  |\n",
            "|  GPU   GI   CI        PID   Type   Process name                  GPU Memory |\n",
            "|        ID   ID                                                   Usage      |\n",
            "|=============================================================================|\n",
            "|  No running processes found                                                 |\n",
            "+-----------------------------------------------------------------------------+\n"
          ]
        }
      ]
    },
    {
      "cell_type": "code",
      "metadata": {
        "id": "R7cHTZ4t3XWR"
      },
      "source": [
        "import numpy as np\n",
        "import pandas as pd\n",
        "import torch\n",
        "import json\n",
        "import sys\n",
        "import time\n",
        "import datetime\n",
        "import random\n",
        "import collections\n",
        "import pprint\n",
        "from pathlib import Path"
      ],
      "execution_count": null,
      "outputs": []
    },
    {
      "cell_type": "code",
      "metadata": {
        "colab": {
          "base_uri": "https://localhost:8080/"
        },
        "id": "SO3RPVkSywZc",
        "outputId": "88249874-07f1-4708-b3eb-0674d5e18c96"
      },
      "source": [
        "from google.colab import drive\n",
        "drive.mount('/content/drive')"
      ],
      "execution_count": null,
      "outputs": [
        {
          "output_type": "stream",
          "name": "stdout",
          "text": [
            "Mounted at /content/drive\n"
          ]
        }
      ]
    },
    {
      "cell_type": "markdown",
      "metadata": {
        "id": "norwegian-vitamin"
      },
      "source": [
        "# SQuAD 2.0 Dataset\n",
        "\n",
        "The SQuAD (Stanford Question and Answering Dataset) is one of the most comprehensive and widely used dataset for Question Answering. It is a hugely popular dataset containing question and answer pairs scraped from Wikipedia, covering topics ranging from Beyonce, to Physics. \n",
        "\n",
        "The following steps are followed in this section\n",
        "1. Define SQUAD URL and Files\n",
        "2. Write the files in local SQUAD Directory\n",
        "3. View and analyse Train dataset\n",
        "4. View and analyse Test dataset\n"
      ]
    },
    {
      "cell_type": "code",
      "metadata": {
        "id": "lucky-inspector"
      },
      "source": [
        "import os\n",
        "\n",
        "squad_dir = '/content/drive/MyDrive/FinLitQA/squad'\n",
        "\n",
        "if not os.path.exists(squad_dir):\n",
        "    os.mkdir(squad_dir)"
      ],
      "execution_count": null,
      "outputs": []
    },
    {
      "cell_type": "code",
      "metadata": {
        "id": "satellite-humor"
      },
      "source": [
        "url = 'https://rajpurkar.github.io/SQuAD-explorer/dataset/'\n",
        "files = ['train-v2.0.json', 'dev-v2.0.json']"
      ],
      "execution_count": null,
      "outputs": []
    },
    {
      "cell_type": "code",
      "metadata": {
        "id": "injured-jungle"
      },
      "source": [
        "import requests\n",
        "\n",
        "for file in files:\n",
        "    res = requests.get(url+file)\n",
        "    # write to file in chunks\n",
        "    with open(os.path.join(squad_dir, file), 'wb') as f:\n",
        "        for chunk in res.iter_content(chunk_size=40):\n",
        "            f.write(chunk)"
      ],
      "execution_count": null,
      "outputs": []
    },
    {
      "cell_type": "code",
      "metadata": {
        "id": "focal-awareness"
      },
      "source": [
        "import json\n",
        "\n",
        "with open(os.path.join(squad_dir, 'train-v2.0.json'), 'rb') as f:\n",
        "    squad = json.load(f)"
      ],
      "execution_count": null,
      "outputs": []
    },
    {
      "cell_type": "code",
      "metadata": {
        "collapsed": true,
        "id": "falling-think",
        "jupyter": {
          "outputs_hidden": true
        }
      },
      "source": [
        "#squad['data'][0]"
      ],
      "execution_count": null,
      "outputs": []
    },
    {
      "cell_type": "code",
      "metadata": {
        "colab": {
          "base_uri": "https://localhost:8080/"
        },
        "id": "guilty-conspiracy",
        "outputId": "03cda546-87fb-4838-8505-65e8c15a7bdd"
      },
      "source": [
        "squad['data'][0]['paragraphs'][0]"
      ],
      "execution_count": null,
      "outputs": [
        {
          "output_type": "execute_result",
          "data": {
            "text/plain": [
              "{'context': 'Beyoncé Giselle Knowles-Carter (/biːˈjɒnseɪ/ bee-YON-say) (born September 4, 1981) is an American singer, songwriter, record producer and actress. Born and raised in Houston, Texas, she performed in various singing and dancing competitions as a child, and rose to fame in the late 1990s as lead singer of R&B girl-group Destiny\\'s Child. Managed by her father, Mathew Knowles, the group became one of the world\\'s best-selling girl groups of all time. Their hiatus saw the release of Beyoncé\\'s debut album, Dangerously in Love (2003), which established her as a solo artist worldwide, earned five Grammy Awards and featured the Billboard Hot 100 number-one singles \"Crazy in Love\" and \"Baby Boy\".',\n",
              " 'qas': [{'answers': [{'answer_start': 269, 'text': 'in the late 1990s'}],\n",
              "   'id': '56be85543aeaaa14008c9063',\n",
              "   'is_impossible': False,\n",
              "   'question': 'When did Beyonce start becoming popular?'},\n",
              "  {'answers': [{'answer_start': 207, 'text': 'singing and dancing'}],\n",
              "   'id': '56be85543aeaaa14008c9065',\n",
              "   'is_impossible': False,\n",
              "   'question': 'What areas did Beyonce compete in when she was growing up?'},\n",
              "  {'answers': [{'answer_start': 526, 'text': '2003'}],\n",
              "   'id': '56be85543aeaaa14008c9066',\n",
              "   'is_impossible': False,\n",
              "   'question': \"When did Beyonce leave Destiny's Child and become a solo singer?\"},\n",
              "  {'answers': [{'answer_start': 166, 'text': 'Houston, Texas'}],\n",
              "   'id': '56bf6b0f3aeaaa14008c9601',\n",
              "   'is_impossible': False,\n",
              "   'question': 'In what city and state did Beyonce  grow up? '},\n",
              "  {'answers': [{'answer_start': 276, 'text': 'late 1990s'}],\n",
              "   'id': '56bf6b0f3aeaaa14008c9602',\n",
              "   'is_impossible': False,\n",
              "   'question': 'In which decade did Beyonce become famous?'},\n",
              "  {'answers': [{'answer_start': 320, 'text': \"Destiny's Child\"}],\n",
              "   'id': '56bf6b0f3aeaaa14008c9603',\n",
              "   'is_impossible': False,\n",
              "   'question': 'In what R&B group was she the lead singer?'},\n",
              "  {'answers': [{'answer_start': 505, 'text': 'Dangerously in Love'}],\n",
              "   'id': '56bf6b0f3aeaaa14008c9604',\n",
              "   'is_impossible': False,\n",
              "   'question': 'What album made her a worldwide known artist?'},\n",
              "  {'answers': [{'answer_start': 360, 'text': 'Mathew Knowles'}],\n",
              "   'id': '56bf6b0f3aeaaa14008c9605',\n",
              "   'is_impossible': False,\n",
              "   'question': \"Who managed the Destiny's Child group?\"},\n",
              "  {'answers': [{'answer_start': 276, 'text': 'late 1990s'}],\n",
              "   'id': '56d43c5f2ccc5a1400d830a9',\n",
              "   'is_impossible': False,\n",
              "   'question': 'When did Beyoncé rise to fame?'},\n",
              "  {'answers': [{'answer_start': 290, 'text': 'lead singer'}],\n",
              "   'id': '56d43c5f2ccc5a1400d830aa',\n",
              "   'is_impossible': False,\n",
              "   'question': \"What role did Beyoncé have in Destiny's Child?\"},\n",
              "  {'answers': [{'answer_start': 505, 'text': 'Dangerously in Love'}],\n",
              "   'id': '56d43c5f2ccc5a1400d830ab',\n",
              "   'is_impossible': False,\n",
              "   'question': 'What was the first album Beyoncé released as a solo artist?'},\n",
              "  {'answers': [{'answer_start': 526, 'text': '2003'}],\n",
              "   'id': '56d43c5f2ccc5a1400d830ac',\n",
              "   'is_impossible': False,\n",
              "   'question': 'When did Beyoncé release Dangerously in Love?'},\n",
              "  {'answers': [{'answer_start': 590, 'text': 'five'}],\n",
              "   'id': '56d43c5f2ccc5a1400d830ad',\n",
              "   'is_impossible': False,\n",
              "   'question': 'How many Grammy awards did Beyoncé win for her first solo album?'},\n",
              "  {'answers': [{'answer_start': 290, 'text': 'lead singer'}],\n",
              "   'id': '56d43ce42ccc5a1400d830b4',\n",
              "   'is_impossible': False,\n",
              "   'question': \"What was Beyoncé's role in Destiny's Child?\"},\n",
              "  {'answers': [{'answer_start': 505, 'text': 'Dangerously in Love'}],\n",
              "   'id': '56d43ce42ccc5a1400d830b5',\n",
              "   'is_impossible': False,\n",
              "   'question': \"What was the name of Beyoncé's first solo album?\"}]}"
            ]
          },
          "metadata": {},
          "execution_count": 10
        }
      ]
    },
    {
      "cell_type": "code",
      "metadata": {
        "id": "christian-stretch"
      },
      "source": [
        "#squad['data'][-1]['paragraphs'][0]"
      ],
      "execution_count": null,
      "outputs": []
    },
    {
      "cell_type": "markdown",
      "metadata": {
        "id": "hHucuociFMJl"
      },
      "source": [
        "### Parse Training dataset\n",
        "This section includes parsing of the Training dataset. This helps converting the JSON file to Dataframe. "
      ]
    },
    {
      "cell_type": "code",
      "metadata": {
        "id": "quarterly-medline"
      },
      "source": [
        "# initialize list where we will place all of our data\n",
        "new_squad = []\n",
        "\n",
        "# we need to loop through groups -> paragraphs -> qa_pairs\n",
        "for group in squad['data']:\n",
        "    for paragraph in group['paragraphs']:\n",
        "        # we pull out the context from here\n",
        "        context = paragraph['context']\n",
        "        for qa_pair in paragraph['qas']:\n",
        "            # we pull out the question\n",
        "            question = qa_pair['question']\n",
        "            # now the logic to check if we have 'answers' or 'plausible_answers'\n",
        "            if 'answers' in qa_pair.keys() and len(qa_pair['answers']) > 0:\n",
        "                answer = qa_pair['answers'][0]['text']\n",
        "            elif 'plausible_answers' in qa_pair.keys() and len(qa_pair['plausible_answers']) > 0:\n",
        "                answer = qa_pair['plausible_answers'][0]['text']\n",
        "            else:\n",
        "                # this shouldn't happen, but just in case we just set answer = None\n",
        "                answer = None\n",
        "            # append dictionary sample to parsed squad\n",
        "            new_squad.append({\n",
        "                'question': question,\n",
        "                'answer': answer,\n",
        "                'context': context\n",
        "            })"
      ],
      "execution_count": null,
      "outputs": []
    },
    {
      "cell_type": "code",
      "metadata": {
        "colab": {
          "base_uri": "https://localhost:8080/"
        },
        "id": "destroyed-newton",
        "outputId": "d4f77b9e-ee4e-471e-e4ae-f554e3939fae"
      },
      "source": [
        "new_squad[:2], new_squad[-2:]"
      ],
      "execution_count": null,
      "outputs": [
        {
          "output_type": "execute_result",
          "data": {
            "text/plain": [
              "([{'answer': 'in the late 1990s',\n",
              "   'context': 'Beyoncé Giselle Knowles-Carter (/biːˈjɒnseɪ/ bee-YON-say) (born September 4, 1981) is an American singer, songwriter, record producer and actress. Born and raised in Houston, Texas, she performed in various singing and dancing competitions as a child, and rose to fame in the late 1990s as lead singer of R&B girl-group Destiny\\'s Child. Managed by her father, Mathew Knowles, the group became one of the world\\'s best-selling girl groups of all time. Their hiatus saw the release of Beyoncé\\'s debut album, Dangerously in Love (2003), which established her as a solo artist worldwide, earned five Grammy Awards and featured the Billboard Hot 100 number-one singles \"Crazy in Love\" and \"Baby Boy\".',\n",
              "   'question': 'When did Beyonce start becoming popular?'},\n",
              "  {'answer': 'singing and dancing',\n",
              "   'context': 'Beyoncé Giselle Knowles-Carter (/biːˈjɒnseɪ/ bee-YON-say) (born September 4, 1981) is an American singer, songwriter, record producer and actress. Born and raised in Houston, Texas, she performed in various singing and dancing competitions as a child, and rose to fame in the late 1990s as lead singer of R&B girl-group Destiny\\'s Child. Managed by her father, Mathew Knowles, the group became one of the world\\'s best-selling girl groups of all time. Their hiatus saw the release of Beyoncé\\'s debut album, Dangerously in Love (2003), which established her as a solo artist worldwide, earned five Grammy Awards and featured the Billboard Hot 100 number-one singles \"Crazy in Love\" and \"Baby Boy\".',\n",
              "   'question': 'What areas did Beyonce compete in when she was growing up?'}],\n",
              " [{'answer': 'a specifying modifier',\n",
              "   'context': 'The term \"matter\" is used throughout physics in a bewildering variety of contexts: for example, one refers to \"condensed matter physics\", \"elementary matter\", \"partonic\" matter, \"dark\" matter, \"anti\"-matter, \"strange\" matter, and \"nuclear\" matter. In discussions of matter and antimatter, normal matter has been referred to by Alfvén as koinomatter (Gk. common matter). It is fair to say that in physics, there is no broad consensus as to a general definition of matter, and the term \"matter\" usually is used in conjunction with a specifying modifier.',\n",
              "   'question': 'Matter usually does not need to be used in conjunction with what?'},\n",
              "  {'answer': 'physics',\n",
              "   'context': 'The term \"matter\" is used throughout physics in a bewildering variety of contexts: for example, one refers to \"condensed matter physics\", \"elementary matter\", \"partonic\" matter, \"dark\" matter, \"anti\"-matter, \"strange\" matter, and \"nuclear\" matter. In discussions of matter and antimatter, normal matter has been referred to by Alfvén as koinomatter (Gk. common matter). It is fair to say that in physics, there is no broad consensus as to a general definition of matter, and the term \"matter\" usually is used in conjunction with a specifying modifier.',\n",
              "   'question': 'What field of study has a variety of unusual contexts?'}])"
            ]
          },
          "metadata": {},
          "execution_count": 13
        }
      ]
    },
    {
      "cell_type": "code",
      "metadata": {
        "id": "accomplished-honduras"
      },
      "source": [
        "# Save the parsed training data to json file\n",
        "\n",
        "with open(os.path.join(squad_dir, 'train.json'), 'w') as f:\n",
        "    json.dump(new_squad, f)"
      ],
      "execution_count": null,
      "outputs": []
    },
    {
      "cell_type": "markdown",
      "metadata": {
        "id": "secondary-conservation"
      },
      "source": [
        "### Parse Validation Dataset\n",
        "\n",
        "In this section the same parsing logic is apploed to the validation dataset. "
      ]
    },
    {
      "cell_type": "code",
      "metadata": {
        "id": "variable-conjunction"
      },
      "source": [
        "squad_dir = '/content/drive/MyDrive/FinLitQA/squad'"
      ],
      "execution_count": null,
      "outputs": []
    },
    {
      "cell_type": "code",
      "metadata": {
        "id": "alpine-vampire"
      },
      "source": [
        "import os\n",
        "import json\n",
        "\n",
        "with open(os.path.join(squad_dir, 'dev-v2.0.json'), 'rb') as f:\n",
        "    squad = json.load(f)"
      ],
      "execution_count": null,
      "outputs": []
    },
    {
      "cell_type": "code",
      "metadata": {
        "colab": {
          "base_uri": "https://localhost:8080/"
        },
        "id": "female-briefing",
        "outputId": "e3cf6094-bf89-43e2-9b54-58c4ba91cbf2"
      },
      "source": [
        "# Verify structure of validation json file \n",
        "squad['data'][0]['paragraphs'][0]"
      ],
      "execution_count": null,
      "outputs": [
        {
          "output_type": "execute_result",
          "data": {
            "text/plain": [
              "{'context': 'The Normans (Norman: Nourmands; French: Normands; Latin: Normanni) were the people who in the 10th and 11th centuries gave their name to Normandy, a region in France. They were descended from Norse (\"Norman\" comes from \"Norseman\") raiders and pirates from Denmark, Iceland and Norway who, under their leader Rollo, agreed to swear fealty to King Charles III of West Francia. Through generations of assimilation and mixing with the native Frankish and Roman-Gaulish populations, their descendants would gradually merge with the Carolingian-based cultures of West Francia. The distinct cultural and ethnic identity of the Normans emerged initially in the first half of the 10th century, and it continued to evolve over the succeeding centuries.',\n",
              " 'qas': [{'answers': [{'answer_start': 159, 'text': 'France'},\n",
              "    {'answer_start': 159, 'text': 'France'},\n",
              "    {'answer_start': 159, 'text': 'France'},\n",
              "    {'answer_start': 159, 'text': 'France'}],\n",
              "   'id': '56ddde6b9a695914005b9628',\n",
              "   'is_impossible': False,\n",
              "   'question': 'In what country is Normandy located?'},\n",
              "  {'answers': [{'answer_start': 94, 'text': '10th and 11th centuries'},\n",
              "    {'answer_start': 87, 'text': 'in the 10th and 11th centuries'},\n",
              "    {'answer_start': 94, 'text': '10th and 11th centuries'},\n",
              "    {'answer_start': 94, 'text': '10th and 11th centuries'}],\n",
              "   'id': '56ddde6b9a695914005b9629',\n",
              "   'is_impossible': False,\n",
              "   'question': 'When were the Normans in Normandy?'},\n",
              "  {'answers': [{'answer_start': 256, 'text': 'Denmark, Iceland and Norway'},\n",
              "    {'answer_start': 256, 'text': 'Denmark, Iceland and Norway'},\n",
              "    {'answer_start': 256, 'text': 'Denmark, Iceland and Norway'},\n",
              "    {'answer_start': 256, 'text': 'Denmark, Iceland and Norway'}],\n",
              "   'id': '56ddde6b9a695914005b962a',\n",
              "   'is_impossible': False,\n",
              "   'question': 'From which countries did the Norse originate?'},\n",
              "  {'answers': [{'answer_start': 308, 'text': 'Rollo'},\n",
              "    {'answer_start': 308, 'text': 'Rollo'},\n",
              "    {'answer_start': 308, 'text': 'Rollo'},\n",
              "    {'answer_start': 308, 'text': 'Rollo'}],\n",
              "   'id': '56ddde6b9a695914005b962b',\n",
              "   'is_impossible': False,\n",
              "   'question': 'Who was the Norse leader?'},\n",
              "  {'answers': [{'answer_start': 671, 'text': '10th century'},\n",
              "    {'answer_start': 649, 'text': 'the first half of the 10th century'},\n",
              "    {'answer_start': 671, 'text': '10th'},\n",
              "    {'answer_start': 671, 'text': '10th'}],\n",
              "   'id': '56ddde6b9a695914005b962c',\n",
              "   'is_impossible': False,\n",
              "   'question': 'What century did the Normans first gain their separate identity?'},\n",
              "  {'answers': [],\n",
              "   'id': '5ad39d53604f3c001a3fe8d1',\n",
              "   'is_impossible': True,\n",
              "   'plausible_answers': [{'answer_start': 4, 'text': 'Normans'}],\n",
              "   'question': \"Who gave their name to Normandy in the 1000's and 1100's\"},\n",
              "  {'answers': [],\n",
              "   'id': '5ad39d53604f3c001a3fe8d2',\n",
              "   'is_impossible': True,\n",
              "   'plausible_answers': [{'answer_start': 137, 'text': 'Normandy'}],\n",
              "   'question': 'What is France a region of?'},\n",
              "  {'answers': [],\n",
              "   'id': '5ad39d53604f3c001a3fe8d3',\n",
              "   'is_impossible': True,\n",
              "   'plausible_answers': [{'answer_start': 308, 'text': 'Rollo'}],\n",
              "   'question': 'Who did King Charles III swear fealty to?'},\n",
              "  {'answers': [],\n",
              "   'id': '5ad39d53604f3c001a3fe8d4',\n",
              "   'is_impossible': True,\n",
              "   'plausible_answers': [{'answer_start': 671, 'text': '10th century'}],\n",
              "   'question': 'When did the Frankish identity emerge?'}]}"
            ]
          },
          "metadata": {},
          "execution_count": 17
        }
      ]
    },
    {
      "cell_type": "code",
      "metadata": {
        "id": "acknowledged-execution"
      },
      "source": [
        "#squad['data'][-1]['paragraphs'][0]"
      ],
      "execution_count": null,
      "outputs": []
    },
    {
      "cell_type": "code",
      "metadata": {
        "id": "serial-addiction"
      },
      "source": [
        "# Create a list of dictionaries where each dictionary contains a single question, answer, and context.\n",
        "# Remove duplicates in the answers lists.\n",
        "\n",
        "# initialize list where we will place all of our data\n",
        "new_squad = []\n",
        "\n",
        "# we need to loop through groups -> paragraphs -> qa_pairs\n",
        "for group in squad['data']:\n",
        "    for paragraph in group['paragraphs']:\n",
        "        # we pull out the context from here\n",
        "        context = paragraph['context']\n",
        "        for qa_pair in paragraph['qas']:\n",
        "            # we pull out the question\n",
        "            question = qa_pair['question']\n",
        "            # now the logic to check if we have 'answers' or 'plausible_answers'\n",
        "            if 'answers' in qa_pair.keys() and len(qa_pair['answers']) > 0:\n",
        "                answer_list = qa_pair['answers']\n",
        "            elif 'plausible_answers' in qa_pair.keys() and len(qa_pair['plausible_answers']) > 0:\n",
        "                answer_list = qa_pair['plausible_answers']\n",
        "            else:\n",
        "                # this shouldn't happen, but just in case we just set answer = []\n",
        "                answer_list = []\n",
        "            # we want to pull our the 'text' of each answer in our list of answers\n",
        "            answer_list = [item['text'] for item in answer_list]\n",
        "            # we can remove duplicate answers by converting our list to a set, and then back to a list\n",
        "            answer_list = list(set(answer_list))\n",
        "            # we iterate through each unique answer in the answer_list\n",
        "            for answer in answer_list:\n",
        "                # append dictionary sample to parsed squad\n",
        "                new_squad.append({\n",
        "                    'question': question,\n",
        "                    'answer': answer,\n",
        "                    'context': context\n",
        "                })"
      ],
      "execution_count": null,
      "outputs": []
    },
    {
      "cell_type": "code",
      "metadata": {
        "colab": {
          "base_uri": "https://localhost:8080/"
        },
        "id": "charged-istanbul",
        "outputId": "52783c0c-f207-4573-fa89-6ab277c4677d"
      },
      "source": [
        "new_squad[:3], new_squad[-2:]"
      ],
      "execution_count": null,
      "outputs": [
        {
          "output_type": "execute_result",
          "data": {
            "text/plain": [
              "([{'answer': 'France',\n",
              "   'context': 'The Normans (Norman: Nourmands; French: Normands; Latin: Normanni) were the people who in the 10th and 11th centuries gave their name to Normandy, a region in France. They were descended from Norse (\"Norman\" comes from \"Norseman\") raiders and pirates from Denmark, Iceland and Norway who, under their leader Rollo, agreed to swear fealty to King Charles III of West Francia. Through generations of assimilation and mixing with the native Frankish and Roman-Gaulish populations, their descendants would gradually merge with the Carolingian-based cultures of West Francia. The distinct cultural and ethnic identity of the Normans emerged initially in the first half of the 10th century, and it continued to evolve over the succeeding centuries.',\n",
              "   'question': 'In what country is Normandy located?'},\n",
              "  {'answer': 'in the 10th and 11th centuries',\n",
              "   'context': 'The Normans (Norman: Nourmands; French: Normands; Latin: Normanni) were the people who in the 10th and 11th centuries gave their name to Normandy, a region in France. They were descended from Norse (\"Norman\" comes from \"Norseman\") raiders and pirates from Denmark, Iceland and Norway who, under their leader Rollo, agreed to swear fealty to King Charles III of West Francia. Through generations of assimilation and mixing with the native Frankish and Roman-Gaulish populations, their descendants would gradually merge with the Carolingian-based cultures of West Francia. The distinct cultural and ethnic identity of the Normans emerged initially in the first half of the 10th century, and it continued to evolve over the succeeding centuries.',\n",
              "   'question': 'When were the Normans in Normandy?'},\n",
              "  {'answer': '10th and 11th centuries',\n",
              "   'context': 'The Normans (Norman: Nourmands; French: Normands; Latin: Normanni) were the people who in the 10th and 11th centuries gave their name to Normandy, a region in France. They were descended from Norse (\"Norman\" comes from \"Norseman\") raiders and pirates from Denmark, Iceland and Norway who, under their leader Rollo, agreed to swear fealty to King Charles III of West Francia. Through generations of assimilation and mixing with the native Frankish and Roman-Gaulish populations, their descendants would gradually merge with the Carolingian-based cultures of West Francia. The distinct cultural and ethnic identity of the Normans emerged initially in the first half of the 10th century, and it continued to evolve over the succeeding centuries.',\n",
              "   'question': 'When were the Normans in Normandy?'}],\n",
              " [{'answer': 'kilogram-force',\n",
              "   'context': 'The pound-force has a metric counterpart, less commonly used than the newton: the kilogram-force (kgf) (sometimes kilopond), is the force exerted by standard gravity on one kilogram of mass. The kilogram-force leads to an alternate, but rarely used unit of mass: the metric slug (sometimes mug or hyl) is that mass that accelerates at 1 m·s−2 when subjected to a force of 1 kgf. The kilogram-force is not a part of the modern SI system, and is generally deprecated; however it still sees use for some purposes as expressing aircraft weight, jet thrust, bicycle spoke tension, torque wrench settings and engine output torque. Other arcane units of force include the sthène, which is equivalent to 1000 N, and the kip, which is equivalent to 1000 lbf.',\n",
              "   'question': 'What force leads to a commonly used unit of mass?'},\n",
              "  {'answer': 'kilogram-force',\n",
              "   'context': 'The pound-force has a metric counterpart, less commonly used than the newton: the kilogram-force (kgf) (sometimes kilopond), is the force exerted by standard gravity on one kilogram of mass. The kilogram-force leads to an alternate, but rarely used unit of mass: the metric slug (sometimes mug or hyl) is that mass that accelerates at 1 m·s−2 when subjected to a force of 1 kgf. The kilogram-force is not a part of the modern SI system, and is generally deprecated; however it still sees use for some purposes as expressing aircraft weight, jet thrust, bicycle spoke tension, torque wrench settings and engine output torque. Other arcane units of force include the sthène, which is equivalent to 1000 N, and the kip, which is equivalent to 1000 lbf.',\n",
              "   'question': 'What force is part of the modern SI system?'}])"
            ]
          },
          "metadata": {},
          "execution_count": 20
        }
      ]
    },
    {
      "cell_type": "code",
      "metadata": {
        "id": "referenced-strip"
      },
      "source": [
        "# Save the parsed validation file to Drive\n",
        "with open(os.path.join(squad_dir, 'dev.json'), 'w') as f:\n",
        "    json.dump(new_squad, f)"
      ],
      "execution_count": null,
      "outputs": []
    },
    {
      "cell_type": "markdown",
      "metadata": {
        "id": "3l4gY1rKg6q2"
      },
      "source": [
        "### Updated Squad Train and Dataset as Dataframes"
      ]
    },
    {
      "cell_type": "code",
      "metadata": {
        "id": "uRMOSLI4fq1V"
      },
      "source": [
        "with open(os.path.join(squad_dir, 'train.json'), 'rb') as f:\n",
        "    squad_train = json.load(f)\n",
        "\n",
        "df_train = pd.DataFrame.from_dict(pd.json_normalize(squad_train), orient='columns')"
      ],
      "execution_count": null,
      "outputs": []
    },
    {
      "cell_type": "code",
      "metadata": {
        "colab": {
          "base_uri": "https://localhost:8080/",
          "height": 206
        },
        "id": "VNydmvYxgxTt",
        "outputId": "6521a6e2-ea73-4301-91ab-b394a5d6dad5"
      },
      "source": [
        "df_train.head()"
      ],
      "execution_count": null,
      "outputs": [
        {
          "output_type": "execute_result",
          "data": {
            "text/html": [
              "<div>\n",
              "<style scoped>\n",
              "    .dataframe tbody tr th:only-of-type {\n",
              "        vertical-align: middle;\n",
              "    }\n",
              "\n",
              "    .dataframe tbody tr th {\n",
              "        vertical-align: top;\n",
              "    }\n",
              "\n",
              "    .dataframe thead th {\n",
              "        text-align: right;\n",
              "    }\n",
              "</style>\n",
              "<table border=\"1\" class=\"dataframe\">\n",
              "  <thead>\n",
              "    <tr style=\"text-align: right;\">\n",
              "      <th></th>\n",
              "      <th>question</th>\n",
              "      <th>answer</th>\n",
              "      <th>context</th>\n",
              "    </tr>\n",
              "  </thead>\n",
              "  <tbody>\n",
              "    <tr>\n",
              "      <th>0</th>\n",
              "      <td>When did Beyonce start becoming popular?</td>\n",
              "      <td>in the late 1990s</td>\n",
              "      <td>Beyoncé Giselle Knowles-Carter (/biːˈjɒnseɪ/ b...</td>\n",
              "    </tr>\n",
              "    <tr>\n",
              "      <th>1</th>\n",
              "      <td>What areas did Beyonce compete in when she was...</td>\n",
              "      <td>singing and dancing</td>\n",
              "      <td>Beyoncé Giselle Knowles-Carter (/biːˈjɒnseɪ/ b...</td>\n",
              "    </tr>\n",
              "    <tr>\n",
              "      <th>2</th>\n",
              "      <td>When did Beyonce leave Destiny's Child and bec...</td>\n",
              "      <td>2003</td>\n",
              "      <td>Beyoncé Giselle Knowles-Carter (/biːˈjɒnseɪ/ b...</td>\n",
              "    </tr>\n",
              "    <tr>\n",
              "      <th>3</th>\n",
              "      <td>In what city and state did Beyonce  grow up?</td>\n",
              "      <td>Houston, Texas</td>\n",
              "      <td>Beyoncé Giselle Knowles-Carter (/biːˈjɒnseɪ/ b...</td>\n",
              "    </tr>\n",
              "    <tr>\n",
              "      <th>4</th>\n",
              "      <td>In which decade did Beyonce become famous?</td>\n",
              "      <td>late 1990s</td>\n",
              "      <td>Beyoncé Giselle Knowles-Carter (/biːˈjɒnseɪ/ b...</td>\n",
              "    </tr>\n",
              "  </tbody>\n",
              "</table>\n",
              "</div>"
            ],
            "text/plain": [
              "                                            question  ...                                            context\n",
              "0           When did Beyonce start becoming popular?  ...  Beyoncé Giselle Knowles-Carter (/biːˈjɒnseɪ/ b...\n",
              "1  What areas did Beyonce compete in when she was...  ...  Beyoncé Giselle Knowles-Carter (/biːˈjɒnseɪ/ b...\n",
              "2  When did Beyonce leave Destiny's Child and bec...  ...  Beyoncé Giselle Knowles-Carter (/biːˈjɒnseɪ/ b...\n",
              "3      In what city and state did Beyonce  grow up?   ...  Beyoncé Giselle Knowles-Carter (/biːˈjɒnseɪ/ b...\n",
              "4         In which decade did Beyonce become famous?  ...  Beyoncé Giselle Knowles-Carter (/biːˈjɒnseɪ/ b...\n",
              "\n",
              "[5 rows x 3 columns]"
            ]
          },
          "metadata": {},
          "execution_count": 23
        }
      ]
    },
    {
      "cell_type": "code",
      "metadata": {
        "colab": {
          "base_uri": "https://localhost:8080/",
          "height": 408
        },
        "id": "3_92N6IpVU9P",
        "outputId": "7fc1f4d3-ead6-42ad-e658-72b9bed02144"
      },
      "source": [
        "figsize = (10,6)\n",
        "df_train['context'].apply(len).plot.hist(title=\"Context length histogram\", bins=20, edgecolor='white', linewidth=2,\n",
        "                                         figsize=figsize, grid=True)"
      ],
      "execution_count": null,
      "outputs": [
        {
          "output_type": "execute_result",
          "data": {
            "text/plain": [
              "<matplotlib.axes._subplots.AxesSubplot at 0x7fb1d5ad6310>"
            ]
          },
          "metadata": {},
          "execution_count": 24
        },
        {
          "output_type": "display_data",
          "data": {
            "image/png": "[encoded data removed]",
            "text/plain": [
              "<Figure size 720x432 with 1 Axes>"
            ]
          },
          "metadata": {
            "needs_background": "light"
          }
        }
      ]
    },
    {
      "cell_type": "markdown",
      "source": [
        ""
      ],
      "metadata": {
        "id": "7GgExZFqv5u2"
      }
    },
    {
      "cell_type": "code",
      "metadata": {
        "colab": {
          "base_uri": "https://localhost:8080/",
          "height": 582
        },
        "id": "hf5CYxiF4OH8",
        "outputId": "e6189b0a-c15b-4281-9a7b-c097afad03a3"
      },
      "source": [
        "df_train['question'].apply(len).plot.hist(title=\"Question length histogram\", bins = range(0,200,10), \n",
        "                                          edgecolor='white', linewidth=2, figsize=figsize, grid=True)\n",
        "# bins = np.arange(data.min(), data.max()+.1, 0.1)"
      ],
      "execution_count": null,
      "outputs": [
        {
          "output_type": "error",
          "ename": "NameError",
          "evalue": "ignored",
          "traceback": [
            "\u001b[0;31m---------------------------------------------------------------------------\u001b[0m",
            "\u001b[0;31mNameError\u001b[0m                                 Traceback (most recent call last)",
            "\u001b[0;32m<ipython-input-25-59cd6110ac85>\u001b[0m in \u001b[0;36m<module>\u001b[0;34m()\u001b[0m\n\u001b[1;32m      1\u001b[0m df_train['question'].apply(len).plot.hist(title=\"Question length histogram\", bins = range(0,200,10), \n\u001b[1;32m      2\u001b[0m                                           edgecolor='white', linewidth=2, figsize=figsize, grid=True)\n\u001b[0;32m----> 3\u001b[0;31m \u001b[0mbins\u001b[0m \u001b[0;34m=\u001b[0m \u001b[0mnp\u001b[0m\u001b[0;34m.\u001b[0m\u001b[0marange\u001b[0m\u001b[0;34m(\u001b[0m\u001b[0mdata\u001b[0m\u001b[0;34m.\u001b[0m\u001b[0mmin\u001b[0m\u001b[0;34m(\u001b[0m\u001b[0;34m)\u001b[0m\u001b[0;34m,\u001b[0m \u001b[0mdata\u001b[0m\u001b[0;34m.\u001b[0m\u001b[0mmax\u001b[0m\u001b[0;34m(\u001b[0m\u001b[0;34m)\u001b[0m\u001b[0;34m+\u001b[0m\u001b[0;36m.1\u001b[0m\u001b[0;34m,\u001b[0m \u001b[0;36m0.1\u001b[0m\u001b[0;34m)\u001b[0m\u001b[0;34m\u001b[0m\u001b[0;34m\u001b[0m\u001b[0m\n\u001b[0m",
            "\u001b[0;31mNameError\u001b[0m: name 'data' is not defined"
          ]
        },
        {
          "output_type": "display_data",
          "data": {
            "image/png": "[encoded data removed]",
            "text/plain": [
              "<Figure size 720x432 with 1 Axes>"
            ]
          },
          "metadata": {
            "needs_background": "light"
          }
        }
      ]
    },
    {
      "cell_type": "code",
      "metadata": {
        "colab": {
          "base_uri": "https://localhost:8080/",
          "height": 408
        },
        "id": "-Yq6WRO35ban",
        "outputId": "f907e8d0-1e80-4b70-dea2-7737d7f12962"
      },
      "source": [
        "df_train['answer'].apply(len).plot.hist(title=\"Answer length histogram\", bins= range(0,200,10), \n",
        "                                        edgecolor='white', linewidth=2, figsize=figsize, grid=True)"
      ],
      "execution_count": null,
      "outputs": [
        {
          "output_type": "execute_result",
          "data": {
            "text/plain": [
              "<matplotlib.axes._subplots.AxesSubplot at 0x7fb1d5b6db90>"
            ]
          },
          "metadata": {},
          "execution_count": 26
        },
        {
          "output_type": "display_data",
          "data": {
            "image/png": "[encoded data removed]",
            "text/plain": [
              "<Figure size 720x432 with 1 Axes>"
            ]
          },
          "metadata": {
            "needs_background": "light"
          }
        }
      ]
    },
    {
      "cell_type": "code",
      "metadata": {
        "colab": {
          "base_uri": "https://localhost:8080/"
        },
        "id": "azVyCPqf6DBX",
        "outputId": "88bab0cc-0a49-4d43-9339-243c84149290"
      },
      "source": [
        "#@title Show Samples { run: \"auto\", display-mode: \"form\" }\n",
        "\n",
        "sample_index =  22441#@param {type:\"slider\", min:0, max:62194, step:1}\n",
        "\n",
        "def print_squad_sample(df: pd.core.frame.DataFrame, line_length: int=10, separator_length: int=100) -> None:\n",
        "  sample = df.iloc[sample_index]\n",
        "  # title = sample.title.replace('_', ' ')\n",
        "  # print('TITLE: ')\n",
        "  # print(title)\n",
        "  # print('='*separator_length)\n",
        "  context = sample.context.split()\n",
        "  print('CONTEXT: ')\n",
        "  lines = [' '.join(context[idx:idx+line_length]) for idx in range(0, len(context), line_length)]\n",
        "  for l in lines:\n",
        "      print(l)\n",
        "  print('='*separator_length)\n",
        "  questions = df[df.context.values==sample.context]\n",
        "  max_len = len(max(questions.question, key=len)) + 5\n",
        "  print(\"{: <{max_len}} {: <{max_len}}\".format('QUESTION:','ANSWER:', max_len=max_len))\n",
        "  for idx, row in questions.iterrows():\n",
        "    question = row.question\n",
        "    answer = row.answer\n",
        "    print(\"{: <{max_len}} {: <{max_len}}\".format(question,answer, max_len=max_len))\n",
        "\n",
        "print_squad_sample(df_train)"
      ],
      "execution_count": null,
      "outputs": [
        {
          "output_type": "stream",
          "name": "stdout",
          "text": [
            "CONTEXT: \n",
            "Silicon Alley, centered in Manhattan, has evolved into a metonym\n",
            "for the sphere encompassing the New York City metropolitan region's\n",
            "high technology industries involving the Internet, new media, telecommunications, digital\n",
            "media, software development, biotechnology, game design, financial technology (\"fintech\"), and\n",
            "other fields within information technology that are supported by its\n",
            "entrepreneurship ecosystem and venture capital investments. In the first half\n",
            "of 2015, Silicon Alley generated over US$3.7 billion in venture\n",
            "capital investment across a broad spectrum of high technology enterprises,\n",
            "most based in Manhattan, with others in Brooklyn, Queens, and\n",
            "elsewhere in the region. High technology startup companies and employment\n",
            "are growing in New York City and the region, bolstered\n",
            "by the city's position in North America as the leading\n",
            "Internet hub and telecommunications center, including its vicinity to several\n",
            "transatlantic fiber optic trunk lines, New York's intellectual capital, and\n",
            "its extensive outdoor wireless connectivity. Verizon Communications, headquartered at 140\n",
            "West Street in Lower Manhattan, was at the final stages\n",
            "in 2014 of completing a US$3 billion fiberoptic telecommunications upgrade\n",
            "throughout New York City. As of 2014, New York City\n",
            "hosted 300,000 employees in the tech sector.\n",
            "====================================================================================================\n",
            "QUESTION:                                                                        ANSWER:                                                                         \n",
            "In what borough is Silicon Alley located?                                        Manhattan                                                                       \n",
            "What is the street address of the headquarters of Verizon Communciations?        140 West Street                                                                 \n",
            "How much did Verizon spend on fiber optic upgrades in New York City?             US$3 billion                                                                    \n",
            "Approximately how many tech sector jobs are in New York City?                    300,000                                                                         \n",
            "The technology sector of work in NYC has how many employees in its service?      300,000                                                                         \n"
          ]
        }
      ]
    },
    {
      "cell_type": "code",
      "metadata": {
        "id": "3VEl7Tlufq4W"
      },
      "source": [
        "with open(os.path.join(squad_dir, 'dev.json'), 'rb') as f:\n",
        "    squad_dev = json.load(f)\n",
        "\n",
        "df_dev = pd.DataFrame.from_dict(pd.json_normalize(squad_dev), orient='columns')"
      ],
      "execution_count": null,
      "outputs": []
    },
    {
      "cell_type": "code",
      "metadata": {
        "colab": {
          "base_uri": "https://localhost:8080/",
          "height": 206
        },
        "id": "CLVMUmv5go-v",
        "outputId": "2bcd26f7-f6f0-483c-d3f4-84704c7e5275"
      },
      "source": [
        "df_dev.head()"
      ],
      "execution_count": null,
      "outputs": [
        {
          "output_type": "execute_result",
          "data": {
            "text/html": [
              "<div>\n",
              "<style scoped>\n",
              "    .dataframe tbody tr th:only-of-type {\n",
              "        vertical-align: middle;\n",
              "    }\n",
              "\n",
              "    .dataframe tbody tr th {\n",
              "        vertical-align: top;\n",
              "    }\n",
              "\n",
              "    .dataframe thead th {\n",
              "        text-align: right;\n",
              "    }\n",
              "</style>\n",
              "<table border=\"1\" class=\"dataframe\">\n",
              "  <thead>\n",
              "    <tr style=\"text-align: right;\">\n",
              "      <th></th>\n",
              "      <th>question</th>\n",
              "      <th>answer</th>\n",
              "      <th>context</th>\n",
              "    </tr>\n",
              "  </thead>\n",
              "  <tbody>\n",
              "    <tr>\n",
              "      <th>0</th>\n",
              "      <td>In what country is Normandy located?</td>\n",
              "      <td>France</td>\n",
              "      <td>The Normans (Norman: Nourmands; French: Norman...</td>\n",
              "    </tr>\n",
              "    <tr>\n",
              "      <th>1</th>\n",
              "      <td>When were the Normans in Normandy?</td>\n",
              "      <td>in the 10th and 11th centuries</td>\n",
              "      <td>The Normans (Norman: Nourmands; French: Norman...</td>\n",
              "    </tr>\n",
              "    <tr>\n",
              "      <th>2</th>\n",
              "      <td>When were the Normans in Normandy?</td>\n",
              "      <td>10th and 11th centuries</td>\n",
              "      <td>The Normans (Norman: Nourmands; French: Norman...</td>\n",
              "    </tr>\n",
              "    <tr>\n",
              "      <th>3</th>\n",
              "      <td>From which countries did the Norse originate?</td>\n",
              "      <td>Denmark, Iceland and Norway</td>\n",
              "      <td>The Normans (Norman: Nourmands; French: Norman...</td>\n",
              "    </tr>\n",
              "    <tr>\n",
              "      <th>4</th>\n",
              "      <td>Who was the Norse leader?</td>\n",
              "      <td>Rollo</td>\n",
              "      <td>The Normans (Norman: Nourmands; French: Norman...</td>\n",
              "    </tr>\n",
              "  </tbody>\n",
              "</table>\n",
              "</div>"
            ],
            "text/plain": [
              "                                        question  ...                                            context\n",
              "0           In what country is Normandy located?  ...  The Normans (Norman: Nourmands; French: Norman...\n",
              "1             When were the Normans in Normandy?  ...  The Normans (Norman: Nourmands; French: Norman...\n",
              "2             When were the Normans in Normandy?  ...  The Normans (Norman: Nourmands; French: Norman...\n",
              "3  From which countries did the Norse originate?  ...  The Normans (Norman: Nourmands; French: Norman...\n",
              "4                      Who was the Norse leader?  ...  The Normans (Norman: Nourmands; French: Norman...\n",
              "\n",
              "[5 rows x 3 columns]"
            ]
          },
          "metadata": {},
          "execution_count": 29
        }
      ]
    },
    {
      "cell_type": "markdown",
      "metadata": {
        "id": "_FtDVayR_k6j"
      },
      "source": [
        "### Get the counts for each Question Type"
      ]
    },
    {
      "cell_type": "code",
      "metadata": {
        "id": "sVn0UaqT_FIm"
      },
      "source": [
        "# Function to get the questions' head\n",
        "def get_ques_type(question: str) -> str:\n",
        "    \"\"\"Extract only the \"head\" froma a question\n",
        "\n",
        "    Args:\n",
        "        question: the question.\n",
        "    \"\"\"\n",
        "    return question.split()[0].strip().lower()\n"
      ],
      "execution_count": null,
      "outputs": []
    },
    {
      "cell_type": "code",
      "metadata": {
        "id": "1xLUEvKM_Rf_"
      },
      "source": [
        "df_ques_type = df_train.copy()\n",
        "\n",
        "df_ques_type['question'] = df_ques_type['question'].apply(get_ques_type)"
      ],
      "execution_count": null,
      "outputs": []
    },
    {
      "cell_type": "code",
      "metadata": {
        "colab": {
          "base_uri": "https://localhost:8080/"
        },
        "id": "FGcWHOZV-O13",
        "outputId": "ff3fa4ca-dad6-403e-fb22-51a28c287a15"
      },
      "source": [
        "total = df_ques_type.shape[0]\n",
        "print (total)\n",
        "top_qheads = df_ques_type['question'].value_counts().sort_values(ascending=False)[0:25]\n",
        "qheads = list(top_qheads.index)\n",
        "count = top_qheads.to_list()\n",
        "\n",
        "print(\"Label\\t\\tCount\\t\\tPercentage\\n\")\n",
        "for i, j in enumerate(top_qheads):\n",
        "  print(\"{: <15} {: <15} {:.1f}%\".format(qheads[i],j,j/total*100))"
      ],
      "execution_count": null,
      "outputs": [
        {
          "output_type": "stream",
          "name": "stdout",
          "text": [
            "130319\n",
            "Label\t\tCount\t\tPercentage\n",
            "\n",
            "what            59345           45.5%\n",
            "who             12536           9.6%\n",
            "how             11631           8.9%\n",
            "when            7871            6.0%\n",
            "in              6539            5.0%\n",
            "which           5721            4.4%\n",
            "where           4727            3.6%\n",
            "the             3138            2.4%\n",
            "why             1866            1.4%\n",
            "on              779             0.6%\n",
            "along           697             0.5%\n",
            "during          631             0.5%\n",
            "at              433             0.3%\n",
            "a               420             0.3%\n",
            "for             396             0.3%\n",
            "according       365             0.3%\n",
            "from            361             0.3%\n",
            "to              356             0.3%\n",
            "by              355             0.3%\n",
            "whose           331             0.3%\n",
            "after           317             0.2%\n",
            "what's          248             0.2%\n",
            "with            224             0.2%\n",
            "besides         221             0.2%\n",
            "is              219             0.2%\n"
          ]
        }
      ]
    },
    {
      "cell_type": "code",
      "metadata": {
        "colab": {
          "base_uri": "https://localhost:8080/"
        },
        "id": "6ZSYyWDHAVzF",
        "outputId": "ad811264-456d-4b6f-f3a5-6c3171733184"
      },
      "source": [
        "print (qheads)"
      ],
      "execution_count": null,
      "outputs": [
        {
          "output_type": "stream",
          "name": "stdout",
          "text": [
            "['what', 'who', 'how', 'when', 'in', 'which', 'where', 'the', 'why', 'on', 'along', 'during', 'at', 'a', 'for', 'according', 'from', 'to', 'by', 'whose', 'after', \"what's\", 'with', 'besides', 'is']\n"
          ]
        }
      ]
    },
    {
      "cell_type": "code",
      "metadata": {
        "colab": {
          "base_uri": "https://localhost:8080/",
          "height": 304
        },
        "id": "MK5JLjXMGVcF",
        "outputId": "69bb1d9f-8e63-46a7-d0e7-ebba5d650cb9"
      },
      "source": [
        "df_ques_type['question'].value_counts().sort_values(ascending=False)[0:10].plot.bar()"
      ],
      "execution_count": null,
      "outputs": [
        {
          "output_type": "execute_result",
          "data": {
            "text/plain": [
              "<matplotlib.axes._subplots.AxesSubplot at 0x7fb1d636ed90>"
            ]
          },
          "metadata": {},
          "execution_count": 34
        },
        {
          "output_type": "display_data",
          "data": {
            "image/png": "[encoded data removed]",
            "text/plain": [
              "<Figure size 432x288 with 1 Axes>"
            ]
          },
          "metadata": {
            "needs_background": "light"
          }
        }
      ]
    },
    {
      "cell_type": "code",
      "metadata": {
        "id": "ROIBpJUuC5xX"
      },
      "source": [
        ""
      ],
      "execution_count": null,
      "outputs": []
    },
    {
      "cell_type": "markdown",
      "metadata": {
        "id": "3G1ig6_XDkHB"
      },
      "source": [
        "# Visualize Question Answering\n",
        "\n",
        "In this section, an existing pre-trained Transformer model is used to Visualise the working of a Question Answering system. The model used is \"bert-large-uncased-whole-word-masking-finetuned-squad\". \n",
        "\n"
      ]
    },
    {
      "cell_type": "code",
      "metadata": {
        "id": "BIHRdNHEwNND",
        "colab": {
          "base_uri": "https://localhost:8080/"
        },
        "outputId": "46888717-3ba8-42e4-8154-753be31ae882"
      },
      "source": [
        "!pip install transformers"
      ],
      "execution_count": null,
      "outputs": [
        {
          "output_type": "stream",
          "name": "stdout",
          "text": [
            "Collecting transformers\n",
            "  Downloading transformers-4.12.5-py3-none-any.whl (3.1 MB)\n",
            "\u001b[K     |████████████████████████████████| 3.1 MB 4.2 MB/s \n",
            "\u001b[?25hRequirement already satisfied: filelock in /usr/local/lib/python3.7/dist-packages (from transformers) (3.4.0)\n",
            "Collecting sacremoses\n",
            "  Downloading sacremoses-0.0.46-py3-none-any.whl (895 kB)\n",
            "\u001b[K     |████████████████████████████████| 895 kB 57.0 MB/s \n",
            "\u001b[?25hRequirement already satisfied: tqdm>=4.27 in /usr/local/lib/python3.7/dist-packages (from transformers) (4.62.3)\n",
            "Requirement already satisfied: importlib-metadata in /usr/local/lib/python3.7/dist-packages (from transformers) (4.8.2)\n",
            "Collecting tokenizers<0.11,>=0.10.1\n",
            "  Downloading tokenizers-0.10.3-cp37-cp37m-manylinux_2_5_x86_64.manylinux1_x86_64.manylinux_2_12_x86_64.manylinux2010_x86_64.whl (3.3 MB)\n",
            "\u001b[K     |████████████████████████████████| 3.3 MB 68.7 MB/s \n",
            "\u001b[?25hRequirement already satisfied: numpy>=1.17 in /usr/local/lib/python3.7/dist-packages (from transformers) (1.19.5)\n",
            "Requirement already satisfied: requests in /usr/local/lib/python3.7/dist-packages (from transformers) (2.23.0)\n",
            "Requirement already satisfied: regex!=2019.12.17 in /usr/local/lib/python3.7/dist-packages (from transformers) (2019.12.20)\n",
            "Collecting pyyaml>=5.1\n",
            "  Downloading PyYAML-6.0-cp37-cp37m-manylinux_2_5_x86_64.manylinux1_x86_64.manylinux_2_12_x86_64.manylinux2010_x86_64.whl (596 kB)\n",
            "\u001b[K     |████████████████████████████████| 596 kB 71.0 MB/s \n",
            "\u001b[?25hRequirement already satisfied: packaging>=20.0 in /usr/local/lib/python3.7/dist-packages (from transformers) (21.3)\n",
            "Collecting huggingface-hub<1.0,>=0.1.0\n",
            "  Downloading huggingface_hub-0.1.2-py3-none-any.whl (59 kB)\n",
            "\u001b[K     |████████████████████████████████| 59 kB 9.0 MB/s \n",
            "\u001b[?25hRequirement already satisfied: typing-extensions>=3.7.4.3 in /usr/local/lib/python3.7/dist-packages (from huggingface-hub<1.0,>=0.1.0->transformers) (3.10.0.2)\n",
            "Requirement already satisfied: pyparsing!=3.0.5,>=2.0.2 in /usr/local/lib/python3.7/dist-packages (from packaging>=20.0->transformers) (3.0.6)\n",
            "Requirement already satisfied: zipp>=0.5 in /usr/local/lib/python3.7/dist-packages (from importlib-metadata->transformers) (3.6.0)\n",
            "Requirement already satisfied: chardet<4,>=3.0.2 in /usr/local/lib/python3.7/dist-packages (from requests->transformers) (3.0.4)\n",
            "Requirement already satisfied: certifi>=2017.4.17 in /usr/local/lib/python3.7/dist-packages (from requests->transformers) (2021.10.8)\n",
            "Requirement already satisfied: urllib3!=1.25.0,!=1.25.1,<1.26,>=1.21.1 in /usr/local/lib/python3.7/dist-packages (from requests->transformers) (1.24.3)\n",
            "Requirement already satisfied: idna<3,>=2.5 in /usr/local/lib/python3.7/dist-packages (from requests->transformers) (2.10)\n",
            "Requirement already satisfied: click in /usr/local/lib/python3.7/dist-packages (from sacremoses->transformers) (7.1.2)\n",
            "Requirement already satisfied: joblib in /usr/local/lib/python3.7/dist-packages (from sacremoses->transformers) (1.1.0)\n",
            "Requirement already satisfied: six in /usr/local/lib/python3.7/dist-packages (from sacremoses->transformers) (1.15.0)\n",
            "Installing collected packages: pyyaml, tokenizers, sacremoses, huggingface-hub, transformers\n",
            "  Attempting uninstall: pyyaml\n",
            "    Found existing installation: PyYAML 3.13\n",
            "    Uninstalling PyYAML-3.13:\n",
            "      Successfully uninstalled PyYAML-3.13\n",
            "Successfully installed huggingface-hub-0.1.2 pyyaml-6.0 sacremoses-0.0.46 tokenizers-0.10.3 transformers-4.12.5\n"
          ]
        }
      ]
    },
    {
      "cell_type": "code",
      "metadata": {
        "id": "thC_LrfnJHey"
      },
      "source": [
        "from transformers import BertForSequenceClassification, BertTokenizer, Trainer, TrainingArguments, \\\n",
        "BertForQuestionAnswering, DistilBertForTokenClassification, AutoTokenizer, AutoModel, AutoModelForTokenClassification\n",
        "\n",
        "import torch\n",
        "from transformers import pipeline\n",
        "import numpy as np\n",
        "import pandas as pd\n",
        "from transformers import DistilBertForTokenClassification\n",
        "\n",
        "\n",
        "# for visualizations\n",
        "import seaborn as sns\n",
        "import matplotlib.pyplot as plt"
      ],
      "execution_count": null,
      "outputs": []
    },
    {
      "cell_type": "code",
      "metadata": {
        "id": "NUxws2gHDoYR"
      },
      "source": [
        "# Common Functions: \n",
        "\n",
        "def question_answer(question, text, model, tokenizer):\n",
        "    \n",
        "    #tokenize question and text in ids as a pair\n",
        "    input_ids = tokenizer.encode(question, text)\n",
        "    \n",
        "    #string version of tokenized ids\n",
        "    tokens = tokenizer.convert_ids_to_tokens(input_ids)\n",
        "    \n",
        "    #segment IDs\n",
        "    #first occurence of [SEP] token\n",
        "    sep_idx = input_ids.index(tokenizer.sep_token_id)\n",
        "\n",
        "    #number of tokens in segment A - question\n",
        "    num_seg_a = sep_idx+1\n",
        "\n",
        "    #number of tokens in segment B - text\n",
        "    num_seg_b = len(input_ids) - num_seg_a\n",
        "    \n",
        "    #list of 0s and 1s\n",
        "    segment_ids = [0]*num_seg_a + [1]*num_seg_b\n",
        "    \n",
        "    assert len(segment_ids) == len(input_ids)\n",
        "    \n",
        "    #model output using input_ids and segment_ids\n",
        "    output = model(torch.tensor([input_ids]), token_type_ids=torch.tensor([segment_ids]))\n",
        "    \n",
        "    #reconstructing the answer\n",
        "    answer_start = torch.argmax(output.start_logits)\n",
        "    answer_end = torch.argmax(output.end_logits)\n",
        "\n",
        "    if answer_end >= answer_start:\n",
        "        answer = tokens[answer_start]\n",
        "        for i in range(answer_start+1, answer_end+1):\n",
        "            if tokens[i][0:2] == \"##\":\n",
        "                answer += tokens[i][2:]\n",
        "            else:\n",
        "                answer += \" \" + tokens[i]\n",
        "                \n",
        "    if answer.startswith(\"[CLS]\"):\n",
        "        answer = \"Unable to find the answer to your question.\"\n",
        "    \n",
        "#   print(\"Text:\\n{}\".format(text.capitalize()))\n",
        "#   print(\"\\nQuestion:\\n{}\".format(question.capitalize()))\n",
        "    print(\"\\nAnswer:\\n{}\".format(answer.capitalize()))\n",
        "\n",
        "    return output, tokens\n",
        "\n",
        "# Function to visualize the scores\n",
        "def plot_scores(x_data, y_data, data_title):\n",
        "  plt.rcParams[\"figure.figsize\"] = (20,6)\n",
        "  ax = sns.barplot(x_data, y_data, ci=None)\n",
        "  ax.set_xticklabels(ax.get_xticklabels(), rotation=90, ha=\"center\")\n",
        "  ax.grid(True)\n",
        "  plt.title(data_title)\n",
        "  plt.show()"
      ],
      "execution_count": null,
      "outputs": []
    },
    {
      "cell_type": "code",
      "metadata": {
        "id": "MIkPJxvYDoNK"
      },
      "source": [
        "# Define the model for Question answering\n",
        "model = BertForQuestionAnswering.from_pretrained('bert-large-uncased-whole-word-masking-finetuned-squad')\n",
        "tokenizer = BertTokenizer.from_pretrained('bert-large-uncased-whole-word-masking-finetuned-squad')\n"
      ],
      "execution_count": null,
      "outputs": []
    },
    {
      "cell_type": "code",
      "metadata": {
        "colab": {
          "base_uri": "https://localhost:8080/"
        },
        "id": "1qfZIrlQHa35",
        "outputId": "f3208eb8-daa0-4b5a-e92a-dfa52e9b12e7"
      },
      "source": [
        "# Get random question and answer:\n",
        "random_num = np.random.randint(0,len(df_train))\n",
        "\n",
        "question = df_train[\"question\"][random_num]\n",
        "text = df_train[\"context\"][random_num]\n",
        "print(question, \"\\n\", text)"
      ],
      "execution_count": null,
      "outputs": [
        {
          "output_type": "stream",
          "name": "stdout",
          "text": [
            "When was the first documented translation efforts by foreign Buddhist monks in China? \n",
            " The Silk Road transmission of Buddhism to China is most commonly thought to have started in the late 2nd or the 1st century CE, though the literary sources are all open to question.[note 41] The first documented translation efforts by foreign Buddhist monks in China were in the 2nd century CE, probably as a consequence of the expansion of the Kushan Empire into the Chinese territory of the Tarim Basin.\n"
          ]
        }
      ]
    },
    {
      "cell_type": "code",
      "metadata": {
        "colab": {
          "base_uri": "https://localhost:8080/"
        },
        "id": "x6SdENu8DoAU",
        "outputId": "7221e171-6d5e-43cd-c885-1e71c845ef70"
      },
      "source": [
        "# Call the Question Answer function\n",
        "\n",
        "output, tokens = question_answer(question, text, model, tokenizer)\n",
        "print(\"Original answer:\\n\", df_train.loc[df_train[\"question\"] == question][\"answer\"].values[0])"
      ],
      "execution_count": null,
      "outputs": [
        {
          "output_type": "stream",
          "name": "stdout",
          "text": [
            "\n",
            "Answer:\n",
            "2nd century ce\n",
            "Original answer:\n",
            " 2nd century CE\n"
          ]
        }
      ]
    },
    {
      "cell_type": "code",
      "metadata": {
        "colab": {
          "base_uri": "https://localhost:8080/"
        },
        "id": "VPd0Xs26GQuH",
        "outputId": "bd9a0fb3-20a9-4b95-87d7-c1f368af59c3"
      },
      "source": [
        "start_scores = output.start_logits.detach().numpy().flatten()\n",
        "end_scores = output.end_logits.detach().numpy().flatten()\n",
        "\n",
        "token_labels = []\n",
        "for i, token in enumerate(tokens):\n",
        "    token_labels.append(\"{}-{}\".format(token,i))\n",
        "\n",
        "print(len(token_labels))"
      ],
      "execution_count": null,
      "outputs": [
        {
          "output_type": "stream",
          "name": "stdout",
          "text": [
            "96\n"
          ]
        }
      ]
    },
    {
      "cell_type": "code",
      "metadata": {
        "colab": {
          "base_uri": "https://localhost:8080/",
          "height": 493
        },
        "id": "_pNHTuYZG0kL",
        "outputId": "a0491e5e-a159-413f-bbe3-1104be6d3609"
      },
      "source": [
        "plot_scores (token_labels[:80], start_scores[:80], \"Start word scores\")"
      ],
      "execution_count": null,
      "outputs": [
        {
          "output_type": "stream",
          "name": "stderr",
          "text": [
            "/usr/local/lib/python3.7/dist-packages/seaborn/_decorators.py:43: FutureWarning: Pass the following variables as keyword args: x, y. From version 0.12, the only valid positional argument will be `data`, and passing other arguments without an explicit keyword will result in an error or misinterpretation.\n",
            "  FutureWarning\n"
          ]
        },
        {
          "output_type": "display_data",
          "data": {
            "image/png": "[encoded data removed]",
            "text/plain": [
              "<Figure size 1440x432 with 1 Axes>"
            ]
          },
          "metadata": {
            "needs_background": "light"
          }
        }
      ]
    },
    {
      "cell_type": "code",
      "metadata": {
        "colab": {
          "base_uri": "https://localhost:8080/",
          "height": 494
        },
        "id": "FMvCPtiGHy_2",
        "outputId": "d2f8d627-b729-4555-f3a9-d9cd905d8439"
      },
      "source": [
        "plot_scores (token_labels[:80], end_scores[:80], \"End word scores\")"
      ],
      "execution_count": null,
      "outputs": [
        {
          "output_type": "stream",
          "name": "stderr",
          "text": [
            "/usr/local/lib/python3.7/dist-packages/seaborn/_decorators.py:43: FutureWarning: Pass the following variables as keyword args: x, y. From version 0.12, the only valid positional argument will be `data`, and passing other arguments without an explicit keyword will result in an error or misinterpretation.\n",
            "  FutureWarning\n"
          ]
        },
        {
          "output_type": "display_data",
          "data": {
            "image/png": "[encoded data removed]",
            "text/plain": [
              "<Figure size 1440x432 with 1 Axes>"
            ]
          },
          "metadata": {
            "needs_background": "light"
          }
        }
      ]
    },
    {
      "cell_type": "markdown",
      "metadata": {
        "id": "rhm4-bSuR-hF"
      },
      "source": [
        "# SQUAD dataset analysis using transformer load_dataset"
      ]
    },
    {
      "cell_type": "code",
      "metadata": {
        "colab": {
          "base_uri": "https://localhost:8080/"
        },
        "id": "O5hDtVJnMASS",
        "outputId": "1533d842-90e9-4e56-e7ae-69586af3485f"
      },
      "source": [
        "!pip install datasets"
      ],
      "execution_count": null,
      "outputs": [
        {
          "output_type": "stream",
          "name": "stdout",
          "text": [
            "Collecting datasets\n",
            "  Downloading datasets-1.15.1-py3-none-any.whl (290 kB)\n",
            "\u001b[K     |████████████████████████████████| 290 kB 5.0 MB/s \n",
            "\u001b[?25hRequirement already satisfied: huggingface-hub<1.0.0,>=0.1.0 in /usr/local/lib/python3.7/dist-packages (from datasets) (0.1.2)\n",
            "Requirement already satisfied: numpy>=1.17 in /usr/local/lib/python3.7/dist-packages (from datasets) (1.19.5)\n",
            "Collecting fsspec[http]>=2021.05.0\n",
            "  Downloading fsspec-2021.11.0-py3-none-any.whl (132 kB)\n",
            "\u001b[K     |████████████████████████████████| 132 kB 71.5 MB/s \n",
            "\u001b[?25hRequirement already satisfied: multiprocess in /usr/local/lib/python3.7/dist-packages (from datasets) (0.70.12.2)\n",
            "Requirement already satisfied: dill in /usr/local/lib/python3.7/dist-packages (from datasets) (0.3.4)\n",
            "Requirement already satisfied: packaging in /usr/local/lib/python3.7/dist-packages (from datasets) (21.3)\n",
            "Requirement already satisfied: tqdm>=4.62.1 in /usr/local/lib/python3.7/dist-packages (from datasets) (4.62.3)\n",
            "Requirement already satisfied: importlib-metadata in /usr/local/lib/python3.7/dist-packages (from datasets) (4.8.2)\n",
            "Requirement already satisfied: requests>=2.19.0 in /usr/local/lib/python3.7/dist-packages (from datasets) (2.23.0)\n",
            "Collecting aiohttp\n",
            "  Downloading aiohttp-3.8.1-cp37-cp37m-manylinux_2_5_x86_64.manylinux1_x86_64.manylinux_2_12_x86_64.manylinux2010_x86_64.whl (1.1 MB)\n",
            "\u001b[K     |████████████████████████████████| 1.1 MB 51.3 MB/s \n",
            "\u001b[?25hRequirement already satisfied: pyarrow!=4.0.0,>=1.0.0 in /usr/local/lib/python3.7/dist-packages (from datasets) (3.0.0)\n",
            "Collecting xxhash\n",
            "  Downloading xxhash-2.0.2-cp37-cp37m-manylinux2010_x86_64.whl (243 kB)\n",
            "\u001b[K     |████████████████████████████████| 243 kB 73.6 MB/s \n",
            "\u001b[?25hRequirement already satisfied: pandas in /usr/local/lib/python3.7/dist-packages (from datasets) (1.1.5)\n",
            "Requirement already satisfied: filelock in /usr/local/lib/python3.7/dist-packages (from huggingface-hub<1.0.0,>=0.1.0->datasets) (3.4.0)\n",
            "Requirement already satisfied: typing-extensions>=3.7.4.3 in /usr/local/lib/python3.7/dist-packages (from huggingface-hub<1.0.0,>=0.1.0->datasets) (3.10.0.2)\n",
            "Requirement already satisfied: pyyaml in /usr/local/lib/python3.7/dist-packages (from huggingface-hub<1.0.0,>=0.1.0->datasets) (6.0)\n",
            "Requirement already satisfied: pyparsing!=3.0.5,>=2.0.2 in /usr/local/lib/python3.7/dist-packages (from packaging->datasets) (3.0.6)\n",
            "Requirement already satisfied: urllib3!=1.25.0,!=1.25.1,<1.26,>=1.21.1 in /usr/local/lib/python3.7/dist-packages (from requests>=2.19.0->datasets) (1.24.3)\n",
            "Requirement already satisfied: idna<3,>=2.5 in /usr/local/lib/python3.7/dist-packages (from requests>=2.19.0->datasets) (2.10)\n",
            "Requirement already satisfied: certifi>=2017.4.17 in /usr/local/lib/python3.7/dist-packages (from requests>=2.19.0->datasets) (2021.10.8)\n",
            "Requirement already satisfied: chardet<4,>=3.0.2 in /usr/local/lib/python3.7/dist-packages (from requests>=2.19.0->datasets) (3.0.4)\n",
            "Requirement already satisfied: charset-normalizer<3.0,>=2.0 in /usr/local/lib/python3.7/dist-packages (from aiohttp->datasets) (2.0.7)\n",
            "Requirement already satisfied: attrs>=17.3.0 in /usr/local/lib/python3.7/dist-packages (from aiohttp->datasets) (21.2.0)\n",
            "Collecting async-timeout<5.0,>=4.0.0a3\n",
            "  Downloading async_timeout-4.0.1-py3-none-any.whl (5.7 kB)\n",
            "Collecting multidict<7.0,>=4.5\n",
            "  Downloading multidict-5.2.0-cp37-cp37m-manylinux_2_5_x86_64.manylinux1_x86_64.manylinux_2_12_x86_64.manylinux2010_x86_64.whl (160 kB)\n",
            "\u001b[K     |████████████████████████████████| 160 kB 70.6 MB/s \n",
            "\u001b[?25hCollecting asynctest==0.13.0\n",
            "  Downloading asynctest-0.13.0-py3-none-any.whl (26 kB)\n",
            "Collecting frozenlist>=1.1.1\n",
            "  Downloading frozenlist-1.2.0-cp37-cp37m-manylinux_2_5_x86_64.manylinux1_x86_64.manylinux_2_12_x86_64.manylinux2010_x86_64.whl (192 kB)\n",
            "\u001b[K     |████████████████████████████████| 192 kB 74.6 MB/s \n",
            "\u001b[?25hCollecting yarl<2.0,>=1.0\n",
            "  Downloading yarl-1.7.2-cp37-cp37m-manylinux_2_5_x86_64.manylinux1_x86_64.manylinux_2_12_x86_64.manylinux2010_x86_64.whl (271 kB)\n",
            "\u001b[K     |████████████████████████████████| 271 kB 69.5 MB/s \n",
            "\u001b[?25hCollecting aiosignal>=1.1.2\n",
            "  Downloading aiosignal-1.2.0-py3-none-any.whl (8.2 kB)\n",
            "Requirement already satisfied: zipp>=0.5 in /usr/local/lib/python3.7/dist-packages (from importlib-metadata->datasets) (3.6.0)\n",
            "Requirement already satisfied: python-dateutil>=2.7.3 in /usr/local/lib/python3.7/dist-packages (from pandas->datasets) (2.8.2)\n",
            "Requirement already satisfied: pytz>=2017.2 in /usr/local/lib/python3.7/dist-packages (from pandas->datasets) (2018.9)\n",
            "Requirement already satisfied: six>=1.5 in /usr/local/lib/python3.7/dist-packages (from python-dateutil>=2.7.3->pandas->datasets) (1.15.0)\n",
            "Installing collected packages: multidict, frozenlist, yarl, asynctest, async-timeout, aiosignal, fsspec, aiohttp, xxhash, datasets\n",
            "Successfully installed aiohttp-3.8.1 aiosignal-1.2.0 async-timeout-4.0.1 asynctest-0.13.0 datasets-1.15.1 frozenlist-1.2.0 fsspec-2021.11.0 multidict-5.2.0 xxhash-2.0.2 yarl-1.7.2\n"
          ]
        }
      ]
    },
    {
      "cell_type": "code",
      "metadata": {
        "id": "28BJEqUEL_eh"
      },
      "source": [
        "import transformers\n",
        "import datasets\n",
        "from datasets import load_dataset"
      ],
      "execution_count": null,
      "outputs": []
    },
    {
      "cell_type": "code",
      "metadata": {
        "colab": {
          "base_uri": "https://localhost:8080/",
          "height": 272,
          "referenced_widgets": [
            "5df07a5628a74a4e853b68a6848b8261",
            "ebcbba87313a41e19b049d8064ff3224",
            "1618713a27a8476c9199e60ea1a4a0c7",
            "9962114033ba4e5d99ee43ea98ac157f",
            "fab1847713a340f7b625a8d34f29de8f",
            "b65d090aeab94dd494f560a1fda1cf66",
            "aaa3314347a44883a81b23852692ae61",
            "6566b644f09a4e309c7ef3a4499df709",
            "d112e654dd7f4afbb7a86819fbcf962b",
            "00e9d7df9ca64887aeabcd7817134eac",
            "7bb98abf09bb4d89b01662f6e51caadd"
          ]
        },
        "id": "LR_xie7ac8vY",
        "outputId": "5c31d5ac-789a-483c-f19b-899df7946fef"
      },
      "source": [
        "# Load Squad v1 dataset\n",
        "squad1_ds = load_dataset('squad')\n",
        "print(squad1_ds)"
      ],
      "execution_count": null,
      "outputs": [
        {
          "output_type": "stream",
          "name": "stderr",
          "text": [
            "Reusing dataset squad (/root/.cache/huggingface/datasets/squad/plain_text/1.0.0/d6ec3ceb99ca480ce37cdd35555d6cb2511d223b9150cce08a837ef62ffea453)\n"
          ]
        },
        {
          "output_type": "display_data",
          "data": {
            "application/vnd.jupyter.widget-view+json": {
              "model_id": "5df07a5628a74a4e853b68a6848b8261",
              "version_minor": 0,
              "version_major": 2
            },
            "text/plain": [
              "  0%|          | 0/2 [00:00<?, ?it/s]"
            ]
          },
          "metadata": {}
        },
        {
          "output_type": "stream",
          "name": "stdout",
          "text": [
            "DatasetDict({\n",
            "    train: Dataset({\n",
            "        features: ['id', 'title', 'context', 'question', 'answers'],\n",
            "        num_rows: 87599\n",
            "    })\n",
            "    validation: Dataset({\n",
            "        features: ['id', 'title', 'context', 'question', 'answers'],\n",
            "        num_rows: 10570\n",
            "    })\n",
            "})\n"
          ]
        }
      ]
    },
    {
      "cell_type": "code",
      "metadata": {
        "colab": {
          "base_uri": "https://localhost:8080/",
          "height": 272,
          "referenced_widgets": [
            "5e6142dd0eb74094b374e46f8e8f28a2",
            "0457e9c72ad44441ae2627cc28649b49",
            "c649072a03674017a2bcc9bcede691bf",
            "200c7696a4324d9b8608cf3010787516",
            "628f29716ac045fa88bb4cc8b105c613",
            "8d17382481894fecb483ca0d4774621f",
            "1a3af1b741644fbc879f0560963047b0",
            "6809497978f248dd9187805891ab8146",
            "f34256b103f34121bdf01595c5063404",
            "6deede829b5d4208b62632abd16436c8",
            "b1b84305a24740aba6e551e79c959914"
          ]
        },
        "id": "UHFUAGNuMs1O",
        "outputId": "aa5d371e-b064-41d6-cae4-3467670f8022"
      },
      "source": [
        "# Load Squad v2 dataset\n",
        "\n",
        "squad_ds = load_dataset('squad_v2')\n",
        "print(squad_ds)"
      ],
      "execution_count": null,
      "outputs": [
        {
          "output_type": "stream",
          "name": "stderr",
          "text": [
            "Reusing dataset squad_v2 (/root/.cache/huggingface/datasets/squad_v2/squad_v2/2.0.0/09187c73c1b837c95d9a249cd97c2c3f1cebada06efe667b4427714b27639b1d)\n"
          ]
        },
        {
          "output_type": "display_data",
          "data": {
            "application/vnd.jupyter.widget-view+json": {
              "model_id": "5e6142dd0eb74094b374e46f8e8f28a2",
              "version_minor": 0,
              "version_major": 2
            },
            "text/plain": [
              "  0%|          | 0/2 [00:00<?, ?it/s]"
            ]
          },
          "metadata": {}
        },
        {
          "output_type": "stream",
          "name": "stdout",
          "text": [
            "DatasetDict({\n",
            "    train: Dataset({\n",
            "        features: ['id', 'title', 'context', 'question', 'answers'],\n",
            "        num_rows: 130319\n",
            "    })\n",
            "    validation: Dataset({\n",
            "        features: ['id', 'title', 'context', 'question', 'answers'],\n",
            "        num_rows: 11873\n",
            "    })\n",
            "})\n"
          ]
        }
      ]
    },
    {
      "cell_type": "code",
      "metadata": {
        "id": "ne11K67M8Z_i",
        "colab": {
          "base_uri": "https://localhost:8080/"
        },
        "outputId": "d089f9e3-1474-4732-b395-f3b8330b9873"
      },
      "source": [
        "# Note that there is only one possible answer per examples in the training set \n",
        "# (i.e. answers.answer_start has one element), but multiple possible answers in the validation set:\n",
        "# To get the frequencies of possible answers for questions\n",
        "\n",
        "answers_ds = squad_ds.map(lambda x : {'num_possible_answers' : pd.Series(x['answers']['answer_start']).nunique()})\n",
        "answers_ds.set_format('pandas')\n",
        "answers_df = answers_ds['validation'][:]\n",
        "answers_df['num_possible_answers'].value_counts()"
      ],
      "execution_count": null,
      "outputs": [
        {
          "output_type": "stream",
          "name": "stderr",
          "text": [
            "Loading cached processed dataset at /root/.cache/huggingface/datasets/squad_v2/squad_v2/2.0.0/09187c73c1b837c95d9a249cd97c2c3f1cebada06efe667b4427714b27639b1d/cache-6a494185a6979eec.arrow\n",
            "Loading cached processed dataset at /root/.cache/huggingface/datasets/squad_v2/squad_v2/2.0.0/09187c73c1b837c95d9a249cd97c2c3f1cebada06efe667b4427714b27639b1d/cache-f94d37b0b72fb0d4.arrow\n"
          ]
        },
        {
          "output_type": "execute_result",
          "data": {
            "text/plain": [
              "0    5945\n",
              "1    3500\n",
              "2    1885\n",
              "3     471\n",
              "4      65\n",
              "5       7\n",
              "Name: num_possible_answers, dtype: int64"
            ]
          },
          "metadata": {},
          "execution_count": 136
        }
      ]
    },
    {
      "cell_type": "code",
      "metadata": {
        "colab": {
          "base_uri": "https://localhost:8080/",
          "height": 280
        },
        "id": "0RN62HMxcZIG",
        "outputId": "1c1e8899-a59e-48c6-dbac-9bafa345b998"
      },
      "source": [
        "answers_df['num_possible_answers'].value_counts().transpose().plot.bar()"
      ],
      "execution_count": null,
      "outputs": [
        {
          "output_type": "execute_result",
          "data": {
            "text/plain": [
              "<matplotlib.axes._subplots.AxesSubplot object at 0x7fd38104e190>"
            ]
          },
          "metadata": {},
          "execution_count": 137
        },
        {
          "output_type": "display_data",
          "data": {
            "image/png": "[encoded data removed]",
            "text/plain": [
              "<Figure size 432x288 with 1 Axes>"
            ]
          },
          "metadata": {
            "needs_background": "light"
          }
        }
      ]
    },
    {
      "cell_type": "code",
      "metadata": {
        "colab": {
          "base_uri": "https://localhost:8080/"
        },
        "id": "_LJuhBSXdUUF",
        "outputId": "03058ff0-3fb4-4561-f7c6-dc2b1ec4ed76"
      },
      "source": [
        "# squad v1 for comparison\n",
        "#Note that there is only one possible answer per examples in the training set \n",
        "# (i.e. answers.answer_start has one element), but multiple possible answers in the validation set:\n",
        "# To get the frequencies of possible answers for questions\n",
        "\n",
        "answers_ds = squad1_ds.map(lambda x : {'num_possible_answers' : pd.Series(x['answers']['answer_start']).nunique()})\n",
        "answers_ds.set_format('pandas')\n",
        "answers_df = answers_ds['validation'][:]\n",
        "answers_df['num_possible_answers'].value_counts()"
      ],
      "execution_count": null,
      "outputs": [
        {
          "output_type": "stream",
          "name": "stderr",
          "text": [
            "Loading cached processed dataset at /root/.cache/huggingface/datasets/squad/plain_text/1.0.0/d6ec3ceb99ca480ce37cdd35555d6cb2511d223b9150cce08a837ef62ffea453/cache-46f9850aa9f85fc3.arrow\n",
            "Loading cached processed dataset at /root/.cache/huggingface/datasets/squad/plain_text/1.0.0/d6ec3ceb99ca480ce37cdd35555d6cb2511d223b9150cce08a837ef62ffea453/cache-55969edacd204b80.arrow\n"
          ]
        },
        {
          "output_type": "execute_result",
          "data": {
            "text/plain": [
              "1    6238\n",
              "2    3498\n",
              "3     754\n",
              "4      71\n",
              "5       9\n",
              "Name: num_possible_answers, dtype: int64"
            ]
          },
          "metadata": {},
          "execution_count": 103
        }
      ]
    },
    {
      "cell_type": "code",
      "metadata": {
        "colab": {
          "base_uri": "https://localhost:8080/"
        },
        "id": "qMFUOzgOfHwH",
        "outputId": "86bf16eb-45cd-4e31-b353-25578f8be0d5"
      },
      "source": [
        "squad_ds['train']"
      ],
      "execution_count": null,
      "outputs": [
        {
          "output_type": "execute_result",
          "data": {
            "text/plain": [
              "Dataset({\n",
              "    features: ['id', 'title', 'context', 'question', 'answers'],\n",
              "    num_rows: 130319\n",
              "})"
            ]
          },
          "metadata": {},
          "execution_count": 125
        }
      ]
    },
    {
      "cell_type": "code",
      "metadata": {
        "colab": {
          "base_uri": "https://localhost:8080/"
        },
        "id": "0Hb7e5xRNHyT",
        "outputId": "e9897659-7cb6-4256-e94e-263a44ed1f73"
      },
      "source": [
        "squad_ds.set_format(\"pandas\")\n",
        "# Flatten the nested dataset columns for easy access\n",
        "dfs = {split:ds[:] for split, ds in squad_ds.flatten().items()}\n",
        "\n",
        "for split, df in dfs.items():\n",
        "    print(f\"Number of questions in {split}: {df['id'].nunique()}\")"
      ],
      "execution_count": null,
      "outputs": [
        {
          "output_type": "stream",
          "name": "stdout",
          "text": [
            "Number of questions in train: 130319\n",
            "Number of questions in validation: 11873\n"
          ]
        }
      ]
    },
    {
      "cell_type": "code",
      "metadata": {
        "colab": {
          "base_uri": "https://localhost:8080/"
        },
        "id": "bb5FgPymOILH",
        "outputId": "eaf4d237-80f1-4519-fc42-d1d4ddf42338"
      },
      "source": [
        "dfs[\"train\"].columns, dfs[\"validation\"].columns"
      ],
      "execution_count": null,
      "outputs": [
        {
          "output_type": "execute_result",
          "data": {
            "text/plain": [
              "(Index(['id', 'title', 'context', 'question', 'answers.text',\n",
              "       'answers.answer_start'],\n",
              "      dtype='object'), Index(['id', 'title', 'context', 'question', 'answers.text',\n",
              "       'answers.answer_start'],\n",
              "      dtype='object'))"
            ]
          },
          "metadata": {},
          "execution_count": 105
        }
      ]
    },
    {
      "cell_type": "code",
      "metadata": {
        "colab": {
          "base_uri": "https://localhost:8080/"
        },
        "id": "HUW9FPBaQsS1",
        "outputId": "87f26573-54f3-41e7-8f72-8233dfd62784"
      },
      "source": [
        "dfs[\"train\"].info()"
      ],
      "execution_count": null,
      "outputs": [
        {
          "output_type": "stream",
          "name": "stdout",
          "text": [
            "<class 'pandas.core.frame.DataFrame'>\n",
            "RangeIndex: 130319 entries, 0 to 130318\n",
            "Data columns (total 6 columns):\n",
            " #   Column                Non-Null Count   Dtype \n",
            "---  ------                --------------   ----- \n",
            " 0   id                    130319 non-null  object\n",
            " 1   title                 130319 non-null  object\n",
            " 2   context               130319 non-null  object\n",
            " 3   question              130319 non-null  object\n",
            " 4   answers.text          130319 non-null  object\n",
            " 5   answers.answer_start  130319 non-null  object\n",
            "dtypes: object(6)\n",
            "memory usage: 6.0+ MB\n"
          ]
        }
      ]
    },
    {
      "cell_type": "code",
      "metadata": {
        "id": "mA5Fyk0qNtXB"
      },
      "source": [
        "qa_cols = [\"id\", \"title\", \"context\", \"question\", \"answers.text\",\t\"answers.answer_start\"]\n",
        "           \n",
        "sample_df = dfs[\"train\"][qa_cols].sample(5, random_state=7)"
      ],
      "execution_count": null,
      "outputs": []
    },
    {
      "cell_type": "code",
      "metadata": {
        "colab": {
          "base_uri": "https://localhost:8080/",
          "height": 380
        },
        "id": "QVO038n2OqwG",
        "outputId": "1bc90c5a-46c5-41c2-b9f2-db8627ab1728"
      },
      "source": [
        "sample_df"
      ],
      "execution_count": null,
      "outputs": [
        {
          "output_type": "execute_result",
          "data": {
            "text/html": [
              "<div>\n",
              "<style scoped>\n",
              "    .dataframe tbody tr th:only-of-type {\n",
              "        vertical-align: middle;\n",
              "    }\n",
              "\n",
              "    .dataframe tbody tr th {\n",
              "        vertical-align: top;\n",
              "    }\n",
              "\n",
              "    .dataframe thead th {\n",
              "        text-align: right;\n",
              "    }\n",
              "</style>\n",
              "<table border=\"1\" class=\"dataframe\">\n",
              "  <thead>\n",
              "    <tr style=\"text-align: right;\">\n",
              "      <th></th>\n",
              "      <th>id</th>\n",
              "      <th>title</th>\n",
              "      <th>context</th>\n",
              "      <th>question</th>\n",
              "      <th>answers.text</th>\n",
              "      <th>answers.answer_start</th>\n",
              "    </tr>\n",
              "  </thead>\n",
              "  <tbody>\n",
              "    <tr>\n",
              "      <th>91247</th>\n",
              "      <td>5729315c3f37b319004780d5</td>\n",
              "      <td>Race_(human_categorization)</td>\n",
              "      <td>Kaszycka et al. (2009) in 2002–2003 surveyed E...</td>\n",
              "      <td>What are views on race highly dependent on?</td>\n",
              "      <td>[education]</td>\n",
              "      <td>[598]</td>\n",
              "    </tr>\n",
              "    <tr>\n",
              "      <th>39222</th>\n",
              "      <td>570cdd7cb3d812140066d2d1</td>\n",
              "      <td>Mary_(mother_of_Jesus)</td>\n",
              "      <td>Mary resided in \"her own house\"[Lk.1:56] in Na...</td>\n",
              "      <td>In his dream, who told Joseph about Mary's con...</td>\n",
              "      <td>[an angel of the Lord]</td>\n",
              "      <td>[469]</td>\n",
              "    </tr>\n",
              "    <tr>\n",
              "      <th>26425</th>\n",
              "      <td>56f980059e9bad19000a09dc</td>\n",
              "      <td>Ministry_of_Defence_(United_Kingdom)</td>\n",
              "      <td>The defence estate is divided as training area...</td>\n",
              "      <td>Who manages the defence estate?</td>\n",
              "      <td>[Defence Infrastructure Organisation]</td>\n",
              "      <td>[223]</td>\n",
              "    </tr>\n",
              "    <tr>\n",
              "      <th>99242</th>\n",
              "      <td>5a57ce27770dc0001aeefd99</td>\n",
              "      <td>Empiricism</td>\n",
              "      <td>A generation later, the Irish Anglican bishop,...</td>\n",
              "      <td>What was Locke's religion?</td>\n",
              "      <td>[]</td>\n",
              "      <td>[]</td>\n",
              "    </tr>\n",
              "    <tr>\n",
              "      <th>72439</th>\n",
              "      <td>5a7376ae53a187001ae631f0</td>\n",
              "      <td>Comcast</td>\n",
              "      <td>Critics noted in 2013 that Tom Wheeler, the he...</td>\n",
              "      <td>When was Tom Wheeler the head of the CTIA?</td>\n",
              "      <td>[]</td>\n",
              "      <td>[]</td>\n",
              "    </tr>\n",
              "  </tbody>\n",
              "</table>\n",
              "</div>"
            ],
            "text/plain": [
              "                             id  ... answers.answer_start\n",
              "91247  5729315c3f37b319004780d5  ...                [598]\n",
              "39222  570cdd7cb3d812140066d2d1  ...                [469]\n",
              "26425  56f980059e9bad19000a09dc  ...                [223]\n",
              "99242  5a57ce27770dc0001aeefd99  ...                   []\n",
              "72439  5a7376ae53a187001ae631f0  ...                   []\n",
              "\n",
              "[5 rows x 6 columns]"
            ]
          },
          "metadata": {},
          "execution_count": 108
        }
      ]
    },
    {
      "cell_type": "code",
      "metadata": {
        "colab": {
          "base_uri": "https://localhost:8080/",
          "height": 264
        },
        "id": "zaliRVWDO-gG",
        "outputId": "4d85c811-f260-49ca-c58a-1e0fe7492e3f"
      },
      "source": [
        "import pandas as pd\n",
        "counts = {}\n",
        "question_types = ['what', 'who', 'how', 'when', 'in', 'which', 'where', 'the', 'why', 'on']\n",
        "\n",
        "for q in question_types:\n",
        "    counts[q] = dfs[\"train\"][\"question\"].str.startswith(q).value_counts()[True]\n",
        "\n",
        "pd.Series(counts).sort_values().plot.barh();"
      ],
      "execution_count": null,
      "outputs": [
        {
          "output_type": "display_data",
          "data": {
            "image/png": "[encoded data removed]",
            "text/plain": [
              "<Figure size 432x288 with 1 Axes>"
            ]
          },
          "metadata": {
            "needs_background": "light"
          }
        }
      ]
    },
    {
      "cell_type": "code",
      "metadata": {
        "colab": {
          "base_uri": "https://localhost:8080/"
        },
        "id": "XpMV-_QTPLZu",
        "outputId": "a163683b-2e17-46eb-800a-1b06cb73caa6"
      },
      "source": [
        "for question_type in [\"what\",\"who\", \"in\", \"how\", \"when\"]:\n",
        "    for question in (dfs[\"train\"]\n",
        "                     .query(f\"question.str.startswith('{question_type}')\", engine='python')\n",
        "                     .sample(n=3, random_state=42)['question']):\n",
        "        print(question)\n",
        "    print()"
      ],
      "execution_count": null,
      "outputs": [
        {
          "output_type": "stream",
          "name": "stdout",
          "text": [
            "what is it called when fiber-optics are used for end users?\n",
            "what is reflected and transmitted into the ground when a plane surface is struck?\n",
            "what producer was the first to produce deep house? \n",
            "\n",
            "who was a pioneer of the genre in america?\n",
            "who talked about Beyonce's tone and timbre as distinctive?\n",
            "who founded KMS Records?\n",
            "\n",
            "in 1778 most of the troops that the EIC had were from where?\n",
            "in what year did the Seven years' war\n",
            "in 1720 what % of  import goods were from India? \n",
            "\n",
            "how long does the engraved have from start to finish? \n",
            "how many men's volleyball NCAA Division III championships have they won?\n",
            "how many square kilometres  is the island?\n",
            "\n",
            "when was the height of mosaic art in sicily?\n",
            "when did ranchers usually have a cattle round up?\n",
            "when EIC become more like a regularised subsidiary  did they have greater or less accountability to the Crown\n",
            "\n"
          ]
        }
      ]
    },
    {
      "cell_type": "markdown",
      "metadata": {
        "id": "YO7fJV3o3rGv"
      },
      "source": [
        "# SQUAD to Dataframe\n"
      ]
    },
    {
      "cell_type": "code",
      "metadata": {
        "id": "bD5sUNKR3u9R"
      },
      "source": [
        "def squad_json_to_dataframe_train(input_file_path, record_path = ['data','paragraphs','qas','answers'],\n",
        "                           verbose = 1):\n",
        "    \"\"\"\n",
        "    input_file_path: path to the squad json file.\n",
        "    record_path: path to deepest level in json file default value is\n",
        "    ['data','paragraphs','qas','answers']\n",
        "    verbose: 0 to suppress it default is 1\n",
        "    \"\"\"\n",
        "    if verbose:\n",
        "        print(\"Reading the json file\")    \n",
        "    file = json.loads(open(input_file_path).read())\n",
        "    if verbose:\n",
        "        print(\"processing...\")\n",
        "    # parsing different level's in the json file\n",
        "    js = pd.io.json.json_normalize(file , record_path )\n",
        "    m = pd.io.json.json_normalize(file, record_path[:-1] )\n",
        "    r = pd.io.json.json_normalize(file,record_path[:-2])\n",
        "    \n",
        "    #combining it into single dataframe\n",
        "    idx = np.repeat(r['context'].values, r.qas.str.len())\n",
        "    ndx  = np.repeat(m['id'].values,m['answers'].str.len())\n",
        "    m['context'] = idx\n",
        "    js['q_idx'] = ndx\n",
        "    main = pd.concat([ m[['id','question','context']].set_index('id'),js.set_index('q_idx')],1,sort=False).reset_index()\n",
        "    main['c_id'] = main['context'].factorize()[0]\n",
        "    if verbose:\n",
        "        print(\"shape of the dataframe is {}\".format(main.shape))\n",
        "        print(\"Done\")\n",
        "    return main"
      ],
      "execution_count": null,
      "outputs": []
    },
    {
      "cell_type": "code",
      "metadata": {
        "id": "dp92ATTa3wo-"
      },
      "source": [
        "def squad_json_to_dataframe_dev(input_file_path, record_path = ['data','paragraphs','qas','answers'],\n",
        "                           verbose = 1):\n",
        "    \"\"\"\n",
        "    input_file_path: path to the squad json file.\n",
        "    record_path: path to deepest level in json file default value is\n",
        "    ['data','paragraphs','qas','answers']\n",
        "    verbose: 0 to suppress it default is 1\n",
        "    \"\"\"\n",
        "    if verbose:\n",
        "        print(\"Reading the json file\")    \n",
        "    file = json.loads(open(input_file_path).read())\n",
        "    if verbose:\n",
        "        print(\"processing...\")\n",
        "    # parsing different level's in the json file\n",
        "    js = pd.io.json.json_normalize(file , record_path )\n",
        "    m = pd.io.json.json_normalize(file, record_path[:-1] )\n",
        "    r = pd.io.json.json_normalize(file,record_path[:-2])\n",
        "    \n",
        "    #combining it into single dataframe\n",
        "    idx = np.repeat(r['context'].values, r.qas.str.len())\n",
        "    m['context'] = idx\n",
        "    main = m[['id','question','context','answers']].set_index('id').reset_index()\n",
        "    main['c_id'] = main['context'].factorize()[0]\n",
        "    if verbose:\n",
        "        print(\"shape of the dataframe is {}\".format(main.shape))\n",
        "        print(\"Done\")\n",
        "    return main"
      ],
      "execution_count": null,
      "outputs": []
    },
    {
      "cell_type": "code",
      "metadata": {
        "id": "KNxxQUT-4Q_w"
      },
      "source": [
        "import numpy as np \n",
        "import pandas as pd\n",
        "import json"
      ],
      "execution_count": null,
      "outputs": []
    },
    {
      "cell_type": "code",
      "metadata": {
        "colab": {
          "base_uri": "https://localhost:8080/"
        },
        "id": "MjLpEHDA4BCb",
        "outputId": "16e1ded2-97f4-4ea7-fea2-49da5cb59e6c"
      },
      "source": [
        "# training data\n",
        "input_file_path = '/content/drive/MyDrive/FinLitQA/squad/train-v2.0.json'\n",
        "record_path = ['data','paragraphs','qas','answers']\n",
        "train = squad_json_to_dataframe_train(input_file_path=input_file_path,record_path=record_path)"
      ],
      "execution_count": null,
      "outputs": [
        {
          "output_type": "stream",
          "name": "stdout",
          "text": [
            "Reading the json file\n",
            "processing...\n"
          ]
        },
        {
          "output_type": "stream",
          "name": "stderr",
          "text": [
            "/usr/local/lib/python3.7/dist-packages/ipykernel_launcher.py:15: FutureWarning: pandas.io.json.json_normalize is deprecated, use pandas.json_normalize instead\n",
            "  from ipykernel import kernelapp as app\n",
            "/usr/local/lib/python3.7/dist-packages/ipykernel_launcher.py:16: FutureWarning: pandas.io.json.json_normalize is deprecated, use pandas.json_normalize instead\n",
            "  app.launch_new_instance()\n",
            "/usr/local/lib/python3.7/dist-packages/ipykernel_launcher.py:17: FutureWarning: pandas.io.json.json_normalize is deprecated, use pandas.json_normalize instead\n"
          ]
        },
        {
          "output_type": "stream",
          "name": "stdout",
          "text": [
            "shape of the dataframe is (130319, 6)\n",
            "Done\n"
          ]
        }
      ]
    },
    {
      "cell_type": "code",
      "metadata": {
        "colab": {
          "base_uri": "https://localhost:8080/",
          "height": 293
        },
        "id": "-xfnragH4hz8",
        "outputId": "6205616a-65f0-4536-ede9-c94fc7dbec89"
      },
      "source": [
        "train.head()"
      ],
      "execution_count": null,
      "outputs": [
        {
          "output_type": "execute_result",
          "data": {
            "text/html": [
              "<div>\n",
              "<style scoped>\n",
              "    .dataframe tbody tr th:only-of-type {\n",
              "        vertical-align: middle;\n",
              "    }\n",
              "\n",
              "    .dataframe tbody tr th {\n",
              "        vertical-align: top;\n",
              "    }\n",
              "\n",
              "    .dataframe thead th {\n",
              "        text-align: right;\n",
              "    }\n",
              "</style>\n",
              "<table border=\"1\" class=\"dataframe\">\n",
              "  <thead>\n",
              "    <tr style=\"text-align: right;\">\n",
              "      <th></th>\n",
              "      <th>index</th>\n",
              "      <th>question</th>\n",
              "      <th>context</th>\n",
              "      <th>text</th>\n",
              "      <th>answer_start</th>\n",
              "      <th>c_id</th>\n",
              "    </tr>\n",
              "  </thead>\n",
              "  <tbody>\n",
              "    <tr>\n",
              "      <th>0</th>\n",
              "      <td>56be85543aeaaa14008c9063</td>\n",
              "      <td>When did Beyonce start becoming popular?</td>\n",
              "      <td>Beyoncé Giselle Knowles-Carter (/biːˈjɒnseɪ/ b...</td>\n",
              "      <td>in the late 1990s</td>\n",
              "      <td>269.0</td>\n",
              "      <td>0</td>\n",
              "    </tr>\n",
              "    <tr>\n",
              "      <th>1</th>\n",
              "      <td>56be85543aeaaa14008c9065</td>\n",
              "      <td>What areas did Beyonce compete in when she was...</td>\n",
              "      <td>Beyoncé Giselle Knowles-Carter (/biːˈjɒnseɪ/ b...</td>\n",
              "      <td>singing and dancing</td>\n",
              "      <td>207.0</td>\n",
              "      <td>0</td>\n",
              "    </tr>\n",
              "    <tr>\n",
              "      <th>2</th>\n",
              "      <td>56be85543aeaaa14008c9066</td>\n",
              "      <td>When did Beyonce leave Destiny's Child and bec...</td>\n",
              "      <td>Beyoncé Giselle Knowles-Carter (/biːˈjɒnseɪ/ b...</td>\n",
              "      <td>2003</td>\n",
              "      <td>526.0</td>\n",
              "      <td>0</td>\n",
              "    </tr>\n",
              "    <tr>\n",
              "      <th>3</th>\n",
              "      <td>56bf6b0f3aeaaa14008c9601</td>\n",
              "      <td>In what city and state did Beyonce  grow up?</td>\n",
              "      <td>Beyoncé Giselle Knowles-Carter (/biːˈjɒnseɪ/ b...</td>\n",
              "      <td>Houston, Texas</td>\n",
              "      <td>166.0</td>\n",
              "      <td>0</td>\n",
              "    </tr>\n",
              "    <tr>\n",
              "      <th>4</th>\n",
              "      <td>56bf6b0f3aeaaa14008c9602</td>\n",
              "      <td>In which decade did Beyonce become famous?</td>\n",
              "      <td>Beyoncé Giselle Knowles-Carter (/biːˈjɒnseɪ/ b...</td>\n",
              "      <td>late 1990s</td>\n",
              "      <td>276.0</td>\n",
              "      <td>0</td>\n",
              "    </tr>\n",
              "  </tbody>\n",
              "</table>\n",
              "</div>"
            ],
            "text/plain": [
              "                      index  ... c_id\n",
              "0  56be85543aeaaa14008c9063  ...    0\n",
              "1  56be85543aeaaa14008c9065  ...    0\n",
              "2  56be85543aeaaa14008c9066  ...    0\n",
              "3  56bf6b0f3aeaaa14008c9601  ...    0\n",
              "4  56bf6b0f3aeaaa14008c9602  ...    0\n",
              "\n",
              "[5 rows x 6 columns]"
            ]
          },
          "metadata": {},
          "execution_count": 80
        }
      ]
    },
    {
      "cell_type": "code",
      "metadata": {
        "colab": {
          "base_uri": "https://localhost:8080/"
        },
        "id": "hfAZvPnk4ntQ",
        "outputId": "32ed2b1d-ba89-4ce8-d351-a5100a2e3e63"
      },
      "source": [
        "# dev data\n",
        "input_file_path = '/content/drive/MyDrive/FinLitQA/squad/dev-v2.0.json'\n",
        "record_path = ['data','paragraphs','qas','answers']\n",
        "verbose = 0\n",
        "dev = squad_json_to_dataframe_dev(input_file_path=input_file_path,record_path=record_path)"
      ],
      "execution_count": null,
      "outputs": [
        {
          "output_type": "stream",
          "name": "stdout",
          "text": [
            "Reading the json file\n",
            "processing...\n"
          ]
        },
        {
          "output_type": "stream",
          "name": "stderr",
          "text": [
            "/usr/local/lib/python3.7/dist-packages/ipykernel_launcher.py:15: FutureWarning: pandas.io.json.json_normalize is deprecated, use pandas.json_normalize instead\n",
            "  from ipykernel import kernelapp as app\n",
            "/usr/local/lib/python3.7/dist-packages/ipykernel_launcher.py:16: FutureWarning: pandas.io.json.json_normalize is deprecated, use pandas.json_normalize instead\n",
            "  app.launch_new_instance()\n",
            "/usr/local/lib/python3.7/dist-packages/ipykernel_launcher.py:17: FutureWarning: pandas.io.json.json_normalize is deprecated, use pandas.json_normalize instead\n"
          ]
        },
        {
          "output_type": "stream",
          "name": "stdout",
          "text": [
            "shape of the dataframe is (11873, 5)\n",
            "Done\n"
          ]
        }
      ]
    },
    {
      "cell_type": "code",
      "metadata": {
        "colab": {
          "base_uri": "https://localhost:8080/",
          "height": 293
        },
        "id": "5KL8JHn-5DAp",
        "outputId": "64bf6fdf-f81c-4cb9-f13a-64fbea7bfbe0"
      },
      "source": [
        "dev.head()"
      ],
      "execution_count": null,
      "outputs": [
        {
          "output_type": "execute_result",
          "data": {
            "text/html": [
              "<div>\n",
              "<style scoped>\n",
              "    .dataframe tbody tr th:only-of-type {\n",
              "        vertical-align: middle;\n",
              "    }\n",
              "\n",
              "    .dataframe tbody tr th {\n",
              "        vertical-align: top;\n",
              "    }\n",
              "\n",
              "    .dataframe thead th {\n",
              "        text-align: right;\n",
              "    }\n",
              "</style>\n",
              "<table border=\"1\" class=\"dataframe\">\n",
              "  <thead>\n",
              "    <tr style=\"text-align: right;\">\n",
              "      <th></th>\n",
              "      <th>id</th>\n",
              "      <th>question</th>\n",
              "      <th>context</th>\n",
              "      <th>answers</th>\n",
              "      <th>c_id</th>\n",
              "    </tr>\n",
              "  </thead>\n",
              "  <tbody>\n",
              "    <tr>\n",
              "      <th>0</th>\n",
              "      <td>56ddde6b9a695914005b9628</td>\n",
              "      <td>In what country is Normandy located?</td>\n",
              "      <td>The Normans (Norman: Nourmands; French: Norman...</td>\n",
              "      <td>[{'text': 'France', 'answer_start': 159}, {'te...</td>\n",
              "      <td>0</td>\n",
              "    </tr>\n",
              "    <tr>\n",
              "      <th>1</th>\n",
              "      <td>56ddde6b9a695914005b9629</td>\n",
              "      <td>When were the Normans in Normandy?</td>\n",
              "      <td>The Normans (Norman: Nourmands; French: Norman...</td>\n",
              "      <td>[{'text': '10th and 11th centuries', 'answer_s...</td>\n",
              "      <td>0</td>\n",
              "    </tr>\n",
              "    <tr>\n",
              "      <th>2</th>\n",
              "      <td>56ddde6b9a695914005b962a</td>\n",
              "      <td>From which countries did the Norse originate?</td>\n",
              "      <td>The Normans (Norman: Nourmands; French: Norman...</td>\n",
              "      <td>[{'text': 'Denmark, Iceland and Norway', 'answ...</td>\n",
              "      <td>0</td>\n",
              "    </tr>\n",
              "    <tr>\n",
              "      <th>3</th>\n",
              "      <td>56ddde6b9a695914005b962b</td>\n",
              "      <td>Who was the Norse leader?</td>\n",
              "      <td>The Normans (Norman: Nourmands; French: Norman...</td>\n",
              "      <td>[{'text': 'Rollo', 'answer_start': 308}, {'tex...</td>\n",
              "      <td>0</td>\n",
              "    </tr>\n",
              "    <tr>\n",
              "      <th>4</th>\n",
              "      <td>56ddde6b9a695914005b962c</td>\n",
              "      <td>What century did the Normans first gain their ...</td>\n",
              "      <td>The Normans (Norman: Nourmands; French: Norman...</td>\n",
              "      <td>[{'text': '10th century', 'answer_start': 671}...</td>\n",
              "      <td>0</td>\n",
              "    </tr>\n",
              "  </tbody>\n",
              "</table>\n",
              "</div>"
            ],
            "text/plain": [
              "                         id  ... c_id\n",
              "0  56ddde6b9a695914005b9628  ...    0\n",
              "1  56ddde6b9a695914005b9629  ...    0\n",
              "2  56ddde6b9a695914005b962a  ...    0\n",
              "3  56ddde6b9a695914005b962b  ...    0\n",
              "4  56ddde6b9a695914005b962c  ...    0\n",
              "\n",
              "[5 rows x 5 columns]"
            ]
          },
          "metadata": {},
          "execution_count": 82
        }
      ]
    },
    {
      "cell_type": "markdown",
      "metadata": {
        "id": "8MzsOyrn8Z_l"
      },
      "source": [
        "# Split squad and create sample_squad dataset\n",
        "\n"
      ]
    },
    {
      "cell_type": "code",
      "metadata": {
        "id": "O--YJXkI8Z_l",
        "colab": {
          "base_uri": "https://localhost:8080/",
          "height": 245
        },
        "outputId": "de9cb6b7-1c7f-443f-f15e-32bc0b024cf0"
      },
      "source": [
        "num_train_examples = 10000\n",
        "num_eval_examples = 100\n",
        "\n",
        "# train samples\n",
        "train_examples = dataset['train'].shuffle(seed=seed).select(range(num_train_examples))\n",
        "\n",
        "# evaluation samples\n",
        "eval_examples = dataset['validation'].shuffle(seed=seed).select(range(num_eval_examples))"
      ],
      "execution_count": null,
      "outputs": [
        {
          "output_type": "error",
          "ename": "NameError",
          "evalue": "ignored",
          "traceback": [
            "\u001b[0;31m---------------------------------------------------------------------------\u001b[0m",
            "\u001b[0;31mNameError\u001b[0m                                 Traceback (most recent call last)",
            "\u001b[0;32m<ipython-input-75-7c9d3401c8db>\u001b[0m in \u001b[0;36m<module>\u001b[0;34m()\u001b[0m\n\u001b[1;32m      3\u001b[0m \u001b[0;34m\u001b[0m\u001b[0m\n\u001b[1;32m      4\u001b[0m \u001b[0;31m# train samples\u001b[0m\u001b[0;34m\u001b[0m\u001b[0;34m\u001b[0m\u001b[0;34m\u001b[0m\u001b[0m\n\u001b[0;32m----> 5\u001b[0;31m \u001b[0mtrain_examples\u001b[0m \u001b[0;34m=\u001b[0m \u001b[0mdataset\u001b[0m\u001b[0;34m[\u001b[0m\u001b[0;34m'train'\u001b[0m\u001b[0;34m]\u001b[0m\u001b[0;34m.\u001b[0m\u001b[0mshuffle\u001b[0m\u001b[0;34m(\u001b[0m\u001b[0mseed\u001b[0m\u001b[0;34m=\u001b[0m\u001b[0mseed\u001b[0m\u001b[0;34m)\u001b[0m\u001b[0;34m.\u001b[0m\u001b[0mselect\u001b[0m\u001b[0;34m(\u001b[0m\u001b[0mrange\u001b[0m\u001b[0;34m(\u001b[0m\u001b[0mnum_train_examples\u001b[0m\u001b[0;34m)\u001b[0m\u001b[0;34m)\u001b[0m\u001b[0;34m\u001b[0m\u001b[0;34m\u001b[0m\u001b[0m\n\u001b[0m\u001b[1;32m      6\u001b[0m \u001b[0;34m\u001b[0m\u001b[0m\n\u001b[1;32m      7\u001b[0m \u001b[0;31m# evaluation samples\u001b[0m\u001b[0;34m\u001b[0m\u001b[0;34m\u001b[0m\u001b[0;34m\u001b[0m\u001b[0m\n",
            "\u001b[0;31mNameError\u001b[0m: name 'dataset' is not defined"
          ]
        }
      ]
    },
    {
      "cell_type": "code",
      "metadata": {
        "id": "32LmZkvx8Z_m"
      },
      "source": [
        "import os\n",
        "import json\n",
        "#you need to add you path here\n",
        "with open(os.path.join('C:/Users/Acer/Desktop/New folder', 'twitter_data.json'), 'r',\n",
        "          encoding='utf-8') as f1:\n",
        "    ll = [json.loads(line.strip()) for line in f1.readlines()]\n",
        "\n",
        "    #this is the total length size of the json file\n",
        "    print(len(ll))\n",
        "\n",
        "    #in here 2000 means we getting splits of 2000 tweets\n",
        "    #you can define your own size of split according to your need\n",
        "    size_of_the_split=2000\n",
        "    total = len(ll) // size_of_the_split\n",
        "\n",
        "    #in here you will get the Number of splits\n",
        "    print(total+1)\n",
        "\n",
        "    for i in range(total+1):\n",
        "        json.dump(ll[i * size_of_the_split:(i + 1) * size_of_the_split], open(\n",
        "            \"C:/Users/Acer/Desktop/New folder/twitter_data_split\" + str(i+1) + \".json\", 'w',\n",
        "            encoding='utf8'), ensure_ascii=False, indent=True)"
      ],
      "execution_count": null,
      "outputs": []
    }
  ]
}