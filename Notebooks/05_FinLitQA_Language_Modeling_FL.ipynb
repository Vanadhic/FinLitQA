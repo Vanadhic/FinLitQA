{
 "cells": [
  {
   "cell_type": "markdown",
   "metadata": {
    "id": "UPpIJIGmQ6PE"
   },
   "source": [
    "# Domain Adaptive Fine Tuning with custom domain corpus\n",
    "\n",
    "Initialization - Set Runtime type as GPU"
   ]
  },
  {
   "cell_type": "markdown",
   "metadata": {},
   "source": [
    "This Notebook is part of the final Thesis.\n",
    "\n",
    "The pre-trained language models from the Transformer library are further fine-tuned with the domain data in this Notebook. The domain data corpus is created with the downloadable content from NCFE.ORG.\n",
    "\n",
    "The following pre-trained models are fine-tuned with the domain data in this step. The models 4 to 6 are created from the previous step - domain adaptive fine-tuning with the FiQA dataset. The Perplexity of these models are measured after the fine-tuning. \n",
    "\n",
    "1. bert-base-uncased\n",
    "2. roberta-base\n",
    "3. finbert\n",
    "4. bert-base-uncased-fiqa\n",
    "5. roberta-base-fiqa\n",
    "6. finbert-fiqa"
   ]
  },
  {
   "cell_type": "code",
   "execution_count": 1,
   "metadata": {
    "colab": {
     "base_uri": "https://localhost:8080/"
    },
    "executionInfo": {
     "elapsed": 18,
     "status": "ok",
     "timestamp": 1639149090122,
     "user": {
      "displayName": "vanadhi chelliah",
      "photoUrl": "https://lh3.googleusercontent.com/a/default-user=s64",
      "userId": "11158136158943693689"
     },
     "user_tz": -330
    },
    "id": "N6HWGqB7FKyz",
    "outputId": "92cabaa5-574f-4e42-b465-936a3867cfc2",
    "pycharm": {
     "name": "#%%\n"
    }
   },
   "outputs": [
    {
     "name": "stdout",
     "output_type": "stream",
     "text": [
      "Fri Dec 10 15:11:29 2021       \n",
      "+-----------------------------------------------------------------------------+\n",
      "| NVIDIA-SMI 495.44       Driver Version: 460.32.03    CUDA Version: 11.2     |\n",
      "|-------------------------------+----------------------+----------------------+\n",
      "| GPU  Name        Persistence-M| Bus-Id        Disp.A | Volatile Uncorr. ECC |\n",
      "| Fan  Temp  Perf  Pwr:Usage/Cap|         Memory-Usage | GPU-Util  Compute M. |\n",
      "|                               |                      |               MIG M. |\n",
      "|===============================+======================+======================|\n",
      "|   0  Tesla P100-PCIE...  Off  | 00000000:00:04.0 Off |                    0 |\n",
      "| N/A   35C    P0    28W / 250W |      0MiB / 16280MiB |      0%      Default |\n",
      "|                               |                      |                  N/A |\n",
      "+-------------------------------+----------------------+----------------------+\n",
      "                                                                               \n",
      "+-----------------------------------------------------------------------------+\n",
      "| Processes:                                                                  |\n",
      "|  GPU   GI   CI        PID   Type   Process name                  GPU Memory |\n",
      "|        ID   ID                                                   Usage      |\n",
      "|=============================================================================|\n",
      "|  No running processes found                                                 |\n",
      "+-----------------------------------------------------------------------------+\n"
     ]
    }
   ],
   "source": [
    "# Make sure you have a GPU running\n",
    "!nvidia-smi"
   ]
  },
  {
   "cell_type": "code",
   "execution_count": 2,
   "metadata": {
    "colab": {
     "base_uri": "https://localhost:8080/"
    },
    "executionInfo": {
     "elapsed": 30130,
     "status": "ok",
     "timestamp": 1639149125383,
     "user": {
      "displayName": "vanadhi chelliah",
      "photoUrl": "https://lh3.googleusercontent.com/a/default-user=s64",
      "userId": "11158136158943693689"
     },
     "user_tz": -330
    },
    "id": "UrV7a_2eNjW2",
    "outputId": "ea25333c-5a7d-4a55-c1a7-cac3943a7e43"
   },
   "outputs": [
    {
     "name": "stdout",
     "output_type": "stream",
     "text": [
      "Mounted at /content/drive\n"
     ]
    }
   ],
   "source": [
    "from google.colab import drive\n",
    "drive.mount('/content/drive')"
   ]
  },
  {
   "cell_type": "code",
   "execution_count": 3,
   "metadata": {
    "colab": {
     "base_uri": "https://localhost:8080/"
    },
    "executionInfo": {
     "elapsed": 13767,
     "status": "ok",
     "timestamp": 1639149147822,
     "user": {
      "displayName": "vanadhi chelliah",
      "photoUrl": "https://lh3.googleusercontent.com/a/default-user=s64",
      "userId": "11158136158943693689"
     },
     "user_tz": -330
    },
    "id": "rMibJn7giBZz",
    "outputId": "825e5b2f-aa59-408c-b254-00704f3dc393"
   },
   "outputs": [
    {
     "name": "stdout",
     "output_type": "stream",
     "text": [
      "\u001b[K     |████████████████████████████████| 3.3 MB 8.8 MB/s \n",
      "\u001b[K     |████████████████████████████████| 596 kB 54.5 MB/s \n",
      "\u001b[K     |████████████████████████████████| 61 kB 576 kB/s \n",
      "\u001b[K     |████████████████████████████████| 895 kB 61.6 MB/s \n",
      "\u001b[K     |████████████████████████████████| 3.3 MB 57.0 MB/s \n",
      "\u001b[K     |████████████████████████████████| 298 kB 7.1 MB/s \n",
      "\u001b[K     |████████████████████████████████| 1.1 MB 50.2 MB/s \n",
      "\u001b[K     |████████████████████████████████| 132 kB 70.1 MB/s \n",
      "\u001b[K     |████████████████████████████████| 243 kB 72.4 MB/s \n",
      "\u001b[K     |████████████████████████████████| 271 kB 73.8 MB/s \n",
      "\u001b[K     |████████████████████████████████| 160 kB 54.3 MB/s \n",
      "\u001b[K     |████████████████████████████████| 192 kB 62.4 MB/s \n",
      "\u001b[?25h"
     ]
    }
   ],
   "source": [
    "!pip install transformers -q\n",
    "!pip install datasets -q"
   ]
  },
  {
   "cell_type": "code",
   "execution_count": 4,
   "metadata": {
    "executionInfo": {
     "elapsed": 5912,
     "status": "ok",
     "timestamp": 1639149153720,
     "user": {
      "displayName": "vanadhi chelliah",
      "photoUrl": "https://lh3.googleusercontent.com/a/default-user=s64",
      "userId": "11158136158943693689"
     },
     "user_tz": -330
    },
    "id": "JCXpNVUdiCEo"
   },
   "outputs": [],
   "source": [
    "import datasets\n",
    "from datasets import load_dataset"
   ]
  },
  {
   "cell_type": "code",
   "execution_count": 5,
   "metadata": {
    "executionInfo": {
     "elapsed": 10,
     "status": "ok",
     "timestamp": 1639149153723,
     "user": {
      "displayName": "vanadhi chelliah",
      "photoUrl": "https://lh3.googleusercontent.com/a/default-user=s64",
      "userId": "11158136158943693689"
     },
     "user_tz": -330
    },
    "id": "WQS_bWaRg9cB"
   },
   "outputs": [],
   "source": [
    "import numpy as np\n",
    "import pandas as pd\n",
    "import regex as re\n",
    "import os\n",
    "import torch\n",
    "import json\n",
    "import sys\n",
    "import time\n",
    "import datetime\n",
    "import random\n",
    "import math\n",
    "import collections\n",
    "from pathlib import Path"
   ]
  },
  {
   "cell_type": "code",
   "execution_count": 52,
   "metadata": {
    "executionInfo": {
     "elapsed": 427,
     "status": "ok",
     "timestamp": 1639152043978,
     "user": {
      "displayName": "vanadhi chelliah",
      "photoUrl": "https://lh3.googleusercontent.com/a/default-user=s64",
      "userId": "11158136158943693689"
     },
     "user_tz": -330
    },
    "id": "ilQBDs3Kg9cC"
   },
   "outputs": [],
   "source": [
    "# Utility Function - Show random elements\n",
    "from datasets import ClassLabel\n",
    "import random\n",
    "import pandas as pd\n",
    "from IPython.display import display, HTML\n",
    "\n",
    "def show_random_elements(dataset, num_examples=5):\n",
    "    assert num_examples <= len(dataset), \"Can't pick more elements than there are in the dataset.\"\n",
    "    picks = []\n",
    "    for _ in range(num_examples):\n",
    "        pick = random.randint(0, len(dataset)-1)\n",
    "        while pick in picks:\n",
    "            pick = random.randint(0, len(dataset)-1)\n",
    "        picks.append(pick)\n",
    "    \n",
    "    df = pd.DataFrame(dataset[picks])\n",
    "    for column, typ in dataset.features.items():\n",
    "        if isinstance(typ, ClassLabel):\n",
    "            df[column] = df[column].transform(lambda i: typ.names[i])\n",
    "    display(HTML(df.to_html()))"
   ]
  },
  {
   "cell_type": "code",
   "execution_count": 74,
   "metadata": {
    "colab": {
     "base_uri": "https://localhost:8080/",
     "height": 290,
     "referenced_widgets": [
      "6c66e9ebcf5443ec93b8a7e05aed3cbc",
      "5207d0cff8354a1d9dcc21fc089e533a",
      "26ea49f2db694d369480d8093c6b5d3d",
      "f4ff0f29de1e4951ab0f3ce4492c031f",
      "e07d760f39874b22aae1e47b35aecd70",
      "8a870b1ffda04ba4b611322768558c74",
      "499586a07fe0465eb9674e416e2f4e5a",
      "44a8826f04a24548ae3c2a4fa8dbde8a",
      "33ec0cb53fba4b92a4e109abfe3f2585",
      "b50dd23097cb450d839ee8db1a4a000c",
      "cf4b3851a38347d4a30f89f5c6f0e5dc"
     ]
    },
    "executionInfo": {
     "elapsed": 1056,
     "status": "ok",
     "timestamp": 1639152258897,
     "user": {
      "displayName": "vanadhi chelliah",
      "photoUrl": "https://lh3.googleusercontent.com/a/default-user=s64",
      "userId": "11158136158943693689"
     },
     "user_tz": -330
    },
    "id": "yyIY_yeg5yVx",
    "outputId": "b419a1ce-2d59-4e05-ad15-b02dddbd87f3"
   },
   "outputs": [
    {
     "name": "stderr",
     "output_type": "stream",
     "text": [
      "Using custom data configuration default-908c862bfc7e209b\n",
      "Reusing dataset text (/root/.cache/huggingface/datasets/text/default-908c862bfc7e209b/0.0.0/e16f44aa1b321ece1f87b07977cc5d70be93d69b20486d6dacd62e12cf25c9a5)\n"
     ]
    },
    {
     "data": {
      "application/vnd.jupyter.widget-view+json": {
       "model_id": "6c66e9ebcf5443ec93b8a7e05aed3cbc",
       "version_major": 2,
       "version_minor": 0
      },
      "text/plain": [
       "  0%|          | 0/1 [00:00<?, ?it/s]"
      ]
     },
     "metadata": {},
     "output_type": "display_data"
    },
    {
     "data": {
      "text/plain": [
       "DatasetDict({\n",
       "    train: Dataset({\n",
       "        features: ['text'],\n",
       "        num_rows: 4940\n",
       "    })\n",
       "    test: Dataset({\n",
       "        features: ['text'],\n",
       "        num_rows: 1236\n",
       "    })\n",
       "})"
      ]
     },
     "execution_count": 74,
     "metadata": {},
     "output_type": "execute_result"
    }
   ],
   "source": [
    "from datasets import load_dataset\n",
    "dataset_dict = load_dataset('text', data_files='/content/drive/MyDrive/FinLitQA/ncfe_data.txt')\n",
    "dataset = dataset_dict['train']\n",
    "finlit_ds = dataset.train_test_split(test_size=0.2)\n",
    "finlit_ds"
   ]
  },
  {
   "cell_type": "markdown",
   "metadata": {
    "id": "KayP-Kycg9cf"
   },
   "source": [
    "# Masked Language Modeling using Huggingface"
   ]
  },
  {
   "cell_type": "markdown",
   "metadata": {
    "id": "y0V109nEg9cd"
   },
   "source": [
    "## Prepare Data for Training"
   ]
  },
  {
   "cell_type": "code",
   "execution_count": 46,
   "metadata": {
    "executionInfo": {
     "elapsed": 423,
     "status": "ok",
     "timestamp": 1639152020446,
     "user": {
      "displayName": "vanadhi chelliah",
      "photoUrl": "https://lh3.googleusercontent.com/a/default-user=s64",
      "userId": "11158136158943693689"
     },
     "user_tz": -330
    },
    "id": "1gYLq5eLg9ce"
   },
   "outputs": [],
   "source": [
    "# from datasets import load_dataset\n",
    "\n",
    "# ncfe_data_path = '/content/drive/MyDrive/FinLitQA/NCFE_Content/ncfe_data.txt'\n",
    "# ncfe_data_train_path = '/content/drive/MyDrive/FinLitQA/NCFE_Content/ncfe_data_train.txt'\n",
    "# ncfe_data_valid_path = '/content/drive/MyDrive/FinLitQA/NCFE_Content/ncfe_data_valid.txt'\n",
    "\n",
    "# finlit_data = load_dataset(\"text\", data_files={\"train\": ncfe_data_train_path,\n",
    "#                                              \"validation\": ncfe_data_valid_path})\n",
    "\n",
    "# finlit_data, finlit_data.column_names"
   ]
  },
  {
   "cell_type": "code",
   "execution_count": 75,
   "metadata": {
    "colab": {
     "base_uri": "https://localhost:8080/"
    },
    "executionInfo": {
     "elapsed": 384,
     "status": "ok",
     "timestamp": 1639152270423,
     "user": {
      "displayName": "vanadhi chelliah",
      "photoUrl": "https://lh3.googleusercontent.com/a/default-user=s64",
      "userId": "11158136158943693689"
     },
     "user_tz": -330
    },
    "id": "8EnTnBjiwlXq",
    "outputId": "6202857e-6531-4768-e829-f6df96e45c9a"
   },
   "outputs": [
    {
     "data": {
      "text/plain": [
       "Dataset({\n",
       "    features: ['text'],\n",
       "    num_rows: 4940\n",
       "})"
      ]
     },
     "execution_count": 75,
     "metadata": {},
     "output_type": "execute_result"
    }
   ],
   "source": [
    "finlit_ds[\"train\"]"
   ]
  },
  {
   "cell_type": "code",
   "execution_count": 48,
   "metadata": {
    "executionInfo": {
     "elapsed": 15,
     "status": "ok",
     "timestamp": 1639152021086,
     "user": {
      "displayName": "vanadhi chelliah",
      "photoUrl": "https://lh3.googleusercontent.com/a/default-user=s64",
      "userId": "11158136158943693689"
     },
     "user_tz": -330
    },
    "id": "sfvsZ-z0h-CM"
   },
   "outputs": [],
   "source": [
    "# finlit_ds.set_format(\"pandas\")\n",
    "# # Flatten the nested dataset columns for easy access\n",
    "# dfs = {split:ds[:] for split, ds in finlit_ds.flatten().items()}"
   ]
  },
  {
   "cell_type": "code",
   "execution_count": 49,
   "metadata": {
    "colab": {
     "base_uri": "https://localhost:8080/",
     "height": 408
    },
    "executionInfo": {
     "elapsed": 705,
     "status": "ok",
     "timestamp": 1639152021777,
     "user": {
      "displayName": "vanadhi chelliah",
      "photoUrl": "https://lh3.googleusercontent.com/a/default-user=s64",
      "userId": "11158136158943693689"
     },
     "user_tz": -330
    },
    "id": "BF38FfcYind2",
    "outputId": "d66c0973-91c9-4142-94e7-b77bb7156815"
   },
   "outputs": [
    {
     "data": {
      "text/plain": [
       "<matplotlib.axes._subplots.AxesSubplot at 0x7f2b00e32910>"
      ]
     },
     "execution_count": 49,
     "metadata": {},
     "output_type": "execute_result"
    },
    {
     "data": {
      "image/png": "[encoded data removed]",
      "text/plain": [
       "<Figure size 720x432 with 1 Axes>"
      ]
     },
     "metadata": {
      "needs_background": "light"
     },
     "output_type": "display_data"
    }
   ],
   "source": [
    "# figsize = (10,6)\n",
    "# dfs['train']['text'].apply(len).plot.hist(title=\"Context length histogram\", bins=range(0,2000,100), \n",
    "#                                           edgecolor='white', linewidth=2, figsize=figsize, grid=True)"
   ]
  },
  {
   "cell_type": "code",
   "execution_count": 50,
   "metadata": {
    "colab": {
     "base_uri": "https://localhost:8080/",
     "height": 408
    },
    "executionInfo": {
     "elapsed": 36,
     "status": "ok",
     "timestamp": 1639152021779,
     "user": {
      "displayName": "vanadhi chelliah",
      "photoUrl": "https://lh3.googleusercontent.com/a/default-user=s64",
      "userId": "11158136158943693689"
     },
     "user_tz": -330
    },
    "id": "_qqr5UfDjTQu",
    "outputId": "93d00dbb-55e2-4c6f-a4ea-d0174127217e"
   },
   "outputs": [
    {
     "data": {
      "text/plain": [
       "<matplotlib.axes._subplots.AxesSubplot at 0x7f2af6397610>"
      ]
     },
     "execution_count": 50,
     "metadata": {},
     "output_type": "execute_result"
    },
    {
     "data": {
      "image/png": "[encoded data removed]",
      "text/plain": [
       "<Figure size 720x432 with 1 Axes>"
      ]
     },
     "metadata": {
      "needs_background": "light"
     },
     "output_type": "display_data"
    }
   ],
   "source": [
    "# figsize = (10,6)\n",
    "# dfs['test']['text'].apply(len).plot.hist(title=\"Context length histogram\", bins=range(0,2000,100), \n",
    "#                                           edgecolor='white', linewidth=2, figsize=figsize, grid=True)"
   ]
  },
  {
   "cell_type": "code",
   "execution_count": 53,
   "metadata": {
    "colab": {
     "base_uri": "https://localhost:8080/",
     "height": 535
    },
    "executionInfo": {
     "elapsed": 387,
     "status": "ok",
     "timestamp": 1639152050574,
     "user": {
      "displayName": "vanadhi chelliah",
      "photoUrl": "https://lh3.googleusercontent.com/a/default-user=s64",
      "userId": "11158136158943693689"
     },
     "user_tz": -330
    },
    "id": "JwCSSjNsg9cf",
    "outputId": "de775368-4fed-4583-a6ba-eee47787b0fd"
   },
   "outputs": [
    {
     "data": {
      "text/html": [
       "<table border=\"1\" class=\"dataframe\">\n",
       "  <thead>\n",
       "    <tr style=\"text-align: right;\">\n",
       "      <th></th>\n",
       "      <th>text</th>\n",
       "    </tr>\n",
       "  </thead>\n",
       "  <tbody>\n",
       "    <tr>\n",
       "      <th>0</th>\n",
       "      <td>1563\\tlook for mrs. bharati's explanation at the end of the section. advise me!!! gita has goals i just learnt about financial goal setting and want to give it a shot. 1 am a 21-year-old working in a call center for the last one year. i make good money (rs. 2.41 lakh p.a. ), and i wish to use it wisely. so i have set following goals for myself: 1. save for further education (2-4 years timeline). 2. invest in stock markets to help my money grow (immediate). 3. buy a house--my company gives home loans when i complete 5 years in the job. 4. fund a holiday to a nearby hill station. 5. repay credit card debt of rs. 25000. gita seems to have good intentions but is she getting it right? use the space below to write your understanding of gita's approach. look for mrs. bharati's explanation at the end of the section. mrs. bharati's common money sense answers dear ravi, you are one of those lucky people who does not have any responsibilities and have an opportunity to start building your wealth right away.</td>\n",
       "    </tr>\n",
       "    <tr>\n",
       "      <th>1</th>\n",
       "      <td>strategic financial planning</td>\n",
       "    </tr>\n",
       "    <tr>\n",
       "      <th>2</th>\n",
       "      <td>727\\tshe interacted regularly with the diplomat friend. the diplomat friend mentioned that he will soon be coming to india and will meet her at the embassy. he also mentioned that they are looking for promoting some people to the next level. a week later, sarita received an international call on her mobile from someone posing as the diplomat friend's wife. the caller informed sarita that her friend had travelled to india in connection with embassy work last week. on his way to india, he lost his passport and got arrested by indian police. the diplomat has been booked on criminal charges and the police is tracing all his friends and contacts. the caller also mentioned that sarita was in danger of being tracked by police and may be interrogated. the caller further mentioned that it is important that the diplomat be given adequate legal support so that all other friends of his can be spared from interrogation and possible arrest. since a lawyer would have to be hired in india and his fees would have to be paid immediately, the caller asked sarita to deposit `10 lakhs in a bank account to meet the expenses.\\ttext\\t{'_split_id': 727}</td>\n",
       "    </tr>\n",
       "    <tr>\n",
       "      <th>3</th>\n",
       "      <td>1372\\t\"financial service providers usually lend out the deposits they collect to earn interest and it is important that they do not take excessive risks or make irresponsible investments. why not invite the manager of a local financial institution to come and talk to you about how they manage their business? you can ask him how they are supervised and how they manage their lending decisions. acknowledgements the influence of stuart rutherford and his book \"\"the poor and their money\"\" (oup 2000); the diagrams on pages 2 and 3 are based on his work. the staff of the fao project \"\"improving household food security and nutrition in the luapula valley of zambia\"\" who were involved in developing the cash flow story. the weekly money management system on page 33 is based on the system developed by the trident institute of south africa for their one-up business training course. explaining profitability and borrowing rural infrastructure and agro-industries division food and agriculture organization of the united nations rome italy  by jennifer heney all rights reserved.\"</td>\n",
       "    </tr>\n",
       "    <tr>\n",
       "      <th>4</th>\n",
       "      <td>create broad base holding pattern and depth  provide efficient price discovery mechanism in primary and secondary market thereby strengthening the existing system  diversification of risk  low cost of intermediation for investors advantages of retailing through nse  wide reach on account of nation-wide spread of nse trading network, with more than 800 active brokers spread across 380 cities. screen based, anonymous order driven system familiar to retail investors for over 8 years.\"\\ttext\\t{'_split_id': 236}</td>\n",
       "    </tr>\n",
       "  </tbody>\n",
       "</table>"
      ],
      "text/plain": [
       "<IPython.core.display.HTML object>"
      ]
     },
     "metadata": {},
     "output_type": "display_data"
    }
   ],
   "source": [
    "# show_random_elements(finlit_ds[\"train\"])"
   ]
  },
  {
   "cell_type": "code",
   "execution_count": 54,
   "metadata": {
    "colab": {
     "base_uri": "https://localhost:8080/",
     "height": 396
    },
    "executionInfo": {
     "elapsed": 17,
     "status": "ok",
     "timestamp": 1639152051830,
     "user": {
      "displayName": "vanadhi chelliah",
      "photoUrl": "https://lh3.googleusercontent.com/a/default-user=s64",
      "userId": "11158136158943693689"
     },
     "user_tz": -330
    },
    "id": "BFRgFNXrJaqT",
    "outputId": "95640d34-eda2-432b-c5aa-b09989337c64"
   },
   "outputs": [
    {
     "data": {
      "text/html": [
       "<table border=\"1\" class=\"dataframe\">\n",
       "  <thead>\n",
       "    <tr style=\"text-align: right;\">\n",
       "      <th></th>\n",
       "      <th>text</th>\n",
       "    </tr>\n",
       "  </thead>\n",
       "  <tbody>\n",
       "    <tr>\n",
       "      <th>0</th>\n",
       "      <td>155\\t\"classified as : primary markets and secondary markets</td>\n",
       "    </tr>\n",
       "    <tr>\n",
       "      <th>1</th>\n",
       "      <td>risk-return hierarchy of different funds  risk high sector funds diversified equity funds index funds balanced funds debt funds gilt funds risk low mmmf  low return  high return</td>\n",
       "    </tr>\n",
       "    <tr>\n",
       "      <th>2</th>\n",
       "      <td>wave characteristic  wave b  prices reverse higher  many see as a resumption of the now long-gone bull market  right shoulder of a head and shoulders reversal pattern  the volume during wave b should be lower than in wave a  fundamentals are probably no longer improving, but they most likely have not yet turned negative  wave c  prices move impulsively lower in five waves  volume picks up, and by the third leg of wave c, almost everyone realizes that a bear market is firmly entrenched  wave c is typically at least as large as wave a and often extends to 1.618 times wave a or beyond</td>\n",
       "    </tr>\n",
       "    <tr>\n",
       "      <th>3</th>\n",
       "      <td>1667\\t\"deciding the payment option that suits you the best--through your/family's savings, sale of other property/ investments or with a housing loan. how much home loan to take, what type of interest, for what period of time and at what monthly installment? purchase  transfer of ownership and related rights in your favour, checking the house for fulfillment of all the commitments by the seller. insurance -- considering house insurance. safe keeping of records--home loan documents, land registration with the corporation, house ownership documents, if it's a housing society then membership documents, house insurance papers. relevant financial channels--savings account, home loans, insurance</td>\n",
       "    </tr>\n",
       "    <tr>\n",
       "      <th>4</th>\n",
       "      <td>financial literacy  risk management strategies common risk management strategies for individual investors are asset allocation and averaging. the averaging strategy was discussed in detail in an earlier chapter. in this chapter, we will look at asset allocation strategy. asset allocation asset allocation is a strategy that aims to balance risk versus reward by identifying right mix of various assets like fixed deposits, provident fund, etf's, equity mutual funds etc., in an investment portfolio according to investors risk appetite and risk capacity. asset allocation  example 1 abhisek is currently 35 years of age. abhishek has accumulated rs.5 lakhs which he now wants to invest properly so that he can balance risk and rewards.\"</td>\n",
       "    </tr>\n",
       "  </tbody>\n",
       "</table>"
      ],
      "text/plain": [
       "<IPython.core.display.HTML object>"
      ]
     },
     "metadata": {},
     "output_type": "display_data"
    }
   ],
   "source": [
    "# show_random_elements(finlit_ds[\"test\"])"
   ]
  },
  {
   "cell_type": "markdown",
   "metadata": {
    "id": "hunhTjUq3avv"
   },
   "source": [
    "## MLM - Chunking"
   ]
  },
  {
   "cell_type": "code",
   "execution_count": 76,
   "metadata": {
    "colab": {
     "base_uri": "https://localhost:8080/"
    },
    "executionInfo": {
     "elapsed": 514,
     "status": "ok",
     "timestamp": 1639152281887,
     "user": {
      "displayName": "vanadhi chelliah",
      "photoUrl": "https://lh3.googleusercontent.com/a/default-user=s64",
      "userId": "11158136158943693689"
     },
     "user_tz": -330
    },
    "id": "3TupZzp5ExYs",
    "outputId": "2e0a1e41-1f86-45e4-faee-c1dc0aa91892"
   },
   "outputs": [
    {
     "name": "stdout",
     "output_type": "stream",
     "text": [
      "/content/drive/MyDrive/FinLitQA\n",
      "mkdir: cannot create directory ‘model’: File exists\n"
     ]
    }
   ],
   "source": [
    "# Current Directory \n",
    "%cd /content/drive/MyDrive/FinLitQA\n",
    "\n",
    "# Create Directory to save the model\n",
    "!mkdir model"
   ]
  },
  {
   "cell_type": "code",
   "execution_count": 77,
   "metadata": {
    "colab": {
     "base_uri": "https://localhost:8080/"
    },
    "executionInfo": {
     "elapsed": 25,
     "status": "ok",
     "timestamp": 1639152282588,
     "user": {
      "displayName": "vanadhi chelliah",
      "photoUrl": "https://lh3.googleusercontent.com/a/default-user=s64",
      "userId": "11158136158943693689"
     },
     "user_tz": -330
    },
    "id": "Q1H5FR7yPugd",
    "outputId": "72918d0f-2d36-4065-85bd-986c9de10e8b"
   },
   "outputs": [
    {
     "name": "stdout",
     "output_type": "stream",
     "text": [
      "Fri Dec 10 16:04:41 2021       \n",
      "+-----------------------------------------------------------------------------+\n",
      "| NVIDIA-SMI 495.44       Driver Version: 460.32.03    CUDA Version: 11.2     |\n",
      "|-------------------------------+----------------------+----------------------+\n",
      "| GPU  Name        Persistence-M| Bus-Id        Disp.A | Volatile Uncorr. ECC |\n",
      "| Fan  Temp  Perf  Pwr:Usage/Cap|         Memory-Usage | GPU-Util  Compute M. |\n",
      "|                               |                      |               MIG M. |\n",
      "|===============================+======================+======================|\n",
      "|   0  Tesla P100-PCIE...  Off  | 00000000:00:04.0 Off |                    0 |\n",
      "| N/A   37C    P0    35W / 250W |   1593MiB / 16280MiB |      0%      Default |\n",
      "|                               |                      |                  N/A |\n",
      "+-------------------------------+----------------------+----------------------+\n",
      "                                                                               \n",
      "+-----------------------------------------------------------------------------+\n",
      "| Processes:                                                                  |\n",
      "|  GPU   GI   CI        PID   Type   Process name                  GPU Memory |\n",
      "|        ID   ID                                                   Usage      |\n",
      "|=============================================================================|\n",
      "|  No running processes found                                                 |\n",
      "+-----------------------------------------------------------------------------+\n"
     ]
    }
   ],
   "source": [
    "gpu_info = !nvidia-smi\n",
    "gpu_info = '\\n'.join(gpu_info)\n",
    "if gpu_info.find('failed') >= 0:\n",
    "  print('Not connected to a GPU')\n",
    "else:\n",
    "  print(gpu_info)"
   ]
  },
  {
   "cell_type": "code",
   "execution_count": 78,
   "metadata": {
    "executionInfo": {
     "elapsed": 6,
     "status": "ok",
     "timestamp": 1639152282589,
     "user": {
      "displayName": "vanadhi chelliah",
      "photoUrl": "https://lh3.googleusercontent.com/a/default-user=s64",
      "userId": "11158136158943693689"
     },
     "user_tz": -330
    },
    "id": "rvlAS8VWg9ch"
   },
   "outputs": [],
   "source": [
    "# Define common functions: \n",
    "def chunk_examples(examples):\n",
    "    chunks = []\n",
    "    for sentence in examples['text']:\n",
    "        chunks += [sentence[i:i + 500] for i in range(0, len(sentence), 500)]\n",
    "    return {'chunks': chunks}\n",
    "\n",
    "def tokenize_function(examples):\n",
    "    return tokenizer(examples[\"chunks\"])"
   ]
  },
  {
   "cell_type": "code",
   "execution_count": 79,
   "metadata": {
    "executionInfo": {
     "elapsed": 5,
     "status": "ok",
     "timestamp": 1639152282997,
     "user": {
      "displayName": "vanadhi chelliah",
      "photoUrl": "https://lh3.googleusercontent.com/a/default-user=s64",
      "userId": "11158136158943693689"
     },
     "user_tz": -330
    },
    "id": "AxPGTEnPM1ee"
   },
   "outputs": [],
   "source": [
    "# block_size = tokenizer.model_max_length\n",
    "\n",
    "block_size = 128"
   ]
  },
  {
   "cell_type": "code",
   "execution_count": 80,
   "metadata": {
    "executionInfo": {
     "elapsed": 4,
     "status": "ok",
     "timestamp": 1639152283368,
     "user": {
      "displayName": "vanadhi chelliah",
      "photoUrl": "https://lh3.googleusercontent.com/a/default-user=s64",
      "userId": "11158136158943693689"
     },
     "user_tz": -330
    },
    "id": "3NZcXF3GM4XJ"
   },
   "outputs": [],
   "source": [
    "def group_texts(examples, block_size=128):\n",
    "    # Concatenate all texts.\n",
    "    concatenated_examples = {k: sum(examples[k], []) for k in examples.keys()}\n",
    "    total_length = len(concatenated_examples[list(examples.keys())[0]])\n",
    "    # We drop the small remainder, we could add padding if the model supported it instead of this drop, you can\n",
    "        # customize this part to your needs.\n",
    "    total_length = (total_length // block_size) * block_size\n",
    "    # Split by chunks of max_len.\n",
    "    result = {\n",
    "        k: [t[i : i + block_size] for i in range(0, total_length, block_size)]\n",
    "        for k, t in concatenated_examples.items()\n",
    "    }\n",
    "    result[\"labels\"] = result[\"input_ids\"].copy()\n",
    "    return result"
   ]
  },
  {
   "cell_type": "code",
   "execution_count": 81,
   "metadata": {
    "colab": {
     "base_uri": "https://localhost:8080/",
     "height": 377,
     "referenced_widgets": [
      "4e54d50782f2474088f53e7259bf8c8e",
      "887c62a5d2004984800606d3d879f3ef",
      "297270bd3d164c8ba60305691607162c",
      "23a5011d1f5241b2ad34ade708d3f9fb",
      "07c3d0f2c9c54b2fb2bc16533b12116d",
      "9b3f961868284595a4a20582be81a714",
      "832aaed823fe4401abd77c464f3310d3",
      "339128a2a43143b39cba505b1e9c0ee6",
      "6835877b1a7040d5b0b733cdd94da175",
      "e16bd7c5f976461a9abbf39e2b87f275",
      "fc9502e0c86749c7a6d6881b6c17bb1c",
      "397ba1868842488bad721bca5b422d8d",
      "f18ff809d11c483d9ff793a280e7e9e2",
      "7b764596c50141ed987463d7068a33ac",
      "8c493cd7bbae496496831b70111cda51",
      "d0dced8b5cf34c44ab669c5ca774360d",
      "be3f134d47fa4a859f2d4c865f834f81",
      "a8c6921a523a4e119370e530de574531",
      "251b5f9854544165a9db469af006b1da",
      "1d55623b996749758afddda426488d38",
      "369a36ee462845a383e997367cb4c538",
      "18a5ef5dd0624a27a55beea8a373bb8a"
     ]
    },
    "executionInfo": {
     "elapsed": 17,
     "status": "ok",
     "timestamp": 1639152284191,
     "user": {
      "displayName": "vanadhi chelliah",
      "photoUrl": "https://lh3.googleusercontent.com/a/default-user=s64",
      "userId": "11158136158943693689"
     },
     "user_tz": -330
    },
    "id": "8nxh3GIHIcGO",
    "outputId": "dd36ba85-859c-4b18-f6ae-3f1fb3410b99"
   },
   "outputs": [
    {
     "data": {
      "application/vnd.jupyter.widget-view+json": {
       "model_id": "4e54d50782f2474088f53e7259bf8c8e",
       "version_major": 2,
       "version_minor": 0
      },
      "text/plain": [
       "  0%|          | 0/5 [00:00<?, ?ba/s]"
      ]
     },
     "metadata": {},
     "output_type": "display_data"
    },
    {
     "data": {
      "application/vnd.jupyter.widget-view+json": {
       "model_id": "397ba1868842488bad721bca5b422d8d",
       "version_major": 2,
       "version_minor": 0
      },
      "text/plain": [
       "  0%|          | 0/2 [00:00<?, ?ba/s]"
      ]
     },
     "metadata": {},
     "output_type": "display_data"
    },
    {
     "data": {
      "text/plain": [
       "(DatasetDict({\n",
       "    train: Dataset({\n",
       "        features: ['chunks'],\n",
       "        num_rows: 9599\n",
       "    })\n",
       "    test: Dataset({\n",
       "        features: ['chunks'],\n",
       "        num_rows: 2420\n",
       "    })\n",
       "}),\n",
       " {'chunks': ['primary market  deals with the issuance of new securities  process of selling new issues to investors is called underwriting  new stock issue is called initial public offering (ipo)  converts a \"\"pvt ltd\"\" firm to a \"\"public ltd\"\" firm',\n",
       "   '312\\tmanaging your personal finances well is the key to leading a secure life. you must always correctly estimate the amount of assets you can purchase, and also keep a check on your expenses. losing track of these and over-estimating your purchasing capacity, say by taking a loan, for which emi payments are more than what you can bear, could lead you into financial troubles. education loan acquisition of any type of asset requires money. if you do not have the entire quantum of funds required to',\n",
       "   ' obtain the desired asset, you turn to financial institutions, mostly banks, which provide funding in the form of loans. human resources are a part of the social capital of a country. why education loan? education creates academic and professional skills and knowledge in human beings, thereby creating human capital. people use such skills to gain employment and generate income for themselves. thus, it is important that no deserving student is denied education for want of funds. financial institu',\n",
       "   'tions provide loans to support education, and development of skills to sustain the social capital of the nation.',\n",
       "   \"1001\\tdo not use combinations that are readily accessible/deducible such as your identity card number, telephone number, date of birth, driver's licence number or any popular number sequence (such as 987654 or 123456) for your pin. avoid using the same digit consecutively or the same sequence of numbers more than twice (such as 112233 or 383838) as a pin. for security reasons, change your pin regularly  if you enter an incorrect pin a certain number of times consecutively, your atm card will be c\"]})"
      ]
     },
     "execution_count": 81,
     "metadata": {},
     "output_type": "execute_result"
    }
   ],
   "source": [
    "# Chunk the examples if the length is greater then 500\n",
    "\n",
    "finlit_chunked = finlit_ds.map(chunk_examples, batched=True, remove_columns=[\"text\"])\n",
    "\n",
    "finlit_chunked, finlit_chunked['train'][:5]"
   ]
  },
  {
   "cell_type": "code",
   "execution_count": 130,
   "metadata": {
    "executionInfo": {
     "elapsed": 532,
     "status": "ok",
     "timestamp": 1639161483044,
     "user": {
      "displayName": "vanadhi chelliah",
      "photoUrl": "https://lh3.googleusercontent.com/a/default-user=s64",
      "userId": "11158136158943693689"
     },
     "user_tz": -330
    },
    "id": "0nlFO5Gjjje3"
   },
   "outputs": [],
   "source": [
    "finlit_chunked.set_format(\"pandas\")\n",
    "# Flatten the nested dataset columns for easy access\n",
    "dfs = {split:ds[:] for split, ds in finlit_chunked.flatten().items()}"
   ]
  },
  {
   "cell_type": "code",
   "execution_count": 131,
   "metadata": {
    "colab": {
     "base_uri": "https://localhost:8080/",
     "height": 408
    },
    "executionInfo": {
     "elapsed": 750,
     "status": "ok",
     "timestamp": 1639161485338,
     "user": {
      "displayName": "vanadhi chelliah",
      "photoUrl": "https://lh3.googleusercontent.com/a/default-user=s64",
      "userId": "11158136158943693689"
     },
     "user_tz": -330
    },
    "id": "b5GURUmFjje6",
    "outputId": "ec5c5ddb-e904-46b9-a98e-7201f28e8640"
   },
   "outputs": [
    {
     "data": {
      "text/plain": [
       "<matplotlib.axes._subplots.AxesSubplot at 0x7f2af6092b50>"
      ]
     },
     "execution_count": 131,
     "metadata": {},
     "output_type": "execute_result"
    },
    {
     "data": {
      "image/png": "[encoded data removed]",
      "text/plain": [
       "<Figure size 720x432 with 1 Axes>"
      ]
     },
     "metadata": {
      "needs_background": "light"
     },
     "output_type": "display_data"
    }
   ],
   "source": [
    "figsize = (10,6)\n",
    "dfs['train']['chunks'].apply(len).plot.hist(title=\"Context length histogram\", bins=20, \n",
    "                                          edgecolor='white', linewidth=2, figsize=figsize, grid=True)"
   ]
  },
  {
   "cell_type": "code",
   "execution_count": 132,
   "metadata": {
    "colab": {
     "base_uri": "https://localhost:8080/",
     "height": 408
    },
    "executionInfo": {
     "elapsed": 1489,
     "status": "ok",
     "timestamp": 1639161487392,
     "user": {
      "displayName": "vanadhi chelliah",
      "photoUrl": "https://lh3.googleusercontent.com/a/default-user=s64",
      "userId": "11158136158943693689"
     },
     "user_tz": -330
    },
    "id": "ZVsSXchSjje8",
    "outputId": "ed33ec66-771a-4417-db9f-c3ec07644123"
   },
   "outputs": [
    {
     "data": {
      "text/plain": [
       "<matplotlib.axes._subplots.AxesSubplot at 0x7f2af77750d0>"
      ]
     },
     "execution_count": 132,
     "metadata": {},
     "output_type": "execute_result"
    },
    {
     "data": {
      "image/png": "[encoded data removed]",
      "text/plain": [
       "<Figure size 720x432 with 1 Axes>"
      ]
     },
     "metadata": {
      "needs_background": "light"
     },
     "output_type": "display_data"
    }
   ],
   "source": [
    "figsize = (10,6)\n",
    "dfs['test']['chunks'].apply(len).plot.hist(title=\"Context length histogram\", bins=20, \n",
    "                                          edgecolor='white', linewidth=2, figsize=figsize, grid=True)"
   ]
  },
  {
   "cell_type": "markdown",
   "metadata": {
    "id": "DPQrL499zWkA"
   },
   "source": [
    "# MLM Modeling - Different Models\n"
   ]
  },
  {
   "cell_type": "code",
   "execution_count": 85,
   "metadata": {
    "executionInfo": {
     "elapsed": 9,
     "status": "ok",
     "timestamp": 1639152288150,
     "user": {
      "displayName": "vanadhi chelliah",
      "photoUrl": "https://lh3.googleusercontent.com/a/default-user=s64",
      "userId": "11158136158943693689"
     },
     "user_tz": -330
    },
    "id": "kqPM2b9VmbKi"
   },
   "outputs": [],
   "source": [
    "# Import from Transformers\n",
    "from transformers import BertTokenizer, BertForSequenceClassification, BertConfig\n",
    "from transformers import AdamW, get_linear_schedule_with_warmup\n",
    "from transformers import AutoTokenizer\n",
    "from transformers import AutoModelForMaskedLM\n",
    "from transformers import Trainer, TrainingArguments\n",
    "from transformers import DataCollatorForLanguageModeling"
   ]
  },
  {
   "cell_type": "code",
   "execution_count": 86,
   "metadata": {
    "executionInfo": {
     "elapsed": 4,
     "status": "ok",
     "timestamp": 1639152288711,
     "user": {
      "displayName": "vanadhi chelliah",
      "photoUrl": "https://lh3.googleusercontent.com/a/default-user=s64",
      "userId": "11158136158943693689"
     },
     "user_tz": -330
    },
    "id": "m3uwfTojq8JZ"
   },
   "outputs": [],
   "source": [
    "df_lmtrain_summary = pd.DataFrame()\n",
    "\n",
    "def add_to_lmtrain_summary(df) :\n",
    "    global df_lmtrain_summary \n",
    "    df_lmtrain_summary = df_lmtrain_summary.append(df,ignore_index=True)"
   ]
  },
  {
   "cell_type": "code",
   "execution_count": 87,
   "metadata": {
    "executionInfo": {
     "elapsed": 5,
     "status": "ok",
     "timestamp": 1639152290400,
     "user": {
      "displayName": "vanadhi chelliah",
      "photoUrl": "https://lh3.googleusercontent.com/a/default-user=s64",
      "userId": "11158136158943693689"
     },
     "user_tz": -330
    },
    "id": "LJWmYYjeq5fF"
   },
   "outputs": [],
   "source": [
    "def evaluate_trainer(trainer, model_name):\n",
    "\n",
    "    # Here we initialize the nodes that perform evaluation\n",
    "    eval_results = trainer.evaluate()\n",
    "    print (eval_results)\n",
    "    print (f\"Perplexity: {math.exp(eval_results['eval_loss']):.2f}\")\n",
    "\n",
    "    df = pd.DataFrame.from_dict(eval_results, orient=\"index\")\n",
    "    df.columns = [model_name]\n",
    "    results_df = df.transpose().reset_index()\n",
    "    results_df['Perplexity'] = f\"{math.exp(eval_results['eval_loss']):.2f}\"\n",
    "    add_to_lmtrain_summary(results_df)\n",
    "  \n",
    "    return(results_df)"
   ]
  },
  {
   "cell_type": "code",
   "execution_count": 97,
   "metadata": {
    "executionInfo": {
     "elapsed": 383,
     "status": "ok",
     "timestamp": 1639152981097,
     "user": {
      "displayName": "vanadhi chelliah",
      "photoUrl": "https://lh3.googleusercontent.com/a/default-user=s64",
      "userId": "11158136158943693689"
     },
     "user_tz": -330
    },
    "id": "Y9Eo2mV1J-jh"
   },
   "outputs": [],
   "source": [
    "# Function to Define the trainer\n",
    "def trainer_from_args(model_dir, model_name, model, tokenizer, lm_datasets):\n",
    "    '''Get the training arguments and define a trainer'''\n",
    "    \n",
    "    training_args = TrainingArguments(\n",
    "        f\"{model_dir}{model_name}\",\n",
    "        evaluation_strategy = \"steps\",\n",
    "        num_train_epochs=10,\n",
    "        per_device_train_batch_size=16,\n",
    "        per_device_eval_batch_size=12, \n",
    "        learning_rate=2e-5,\n",
    "        weight_decay=0.01, \n",
    "        seed=42,\n",
    "        save_steps=500,\n",
    "        eval_steps=500,\n",
    "        load_best_model_at_end=True\n",
    "    )\n",
    "\n",
    "    data_collator = DataCollatorForLanguageModeling(tokenizer=tokenizer, mlm_probability=0.15)\n",
    "\n",
    "    trainer = Trainer(\n",
    "        model=model,\n",
    "        args=training_args,\n",
    "        train_dataset=lm_datasets[\"train\"],\n",
    "        eval_dataset=lm_datasets[\"test\"],\n",
    "        data_collator=data_collator,\n",
    "        tokenizer=tokenizer\n",
    "    )\n",
    "    \n",
    "    return trainer"
   ]
  },
  {
   "cell_type": "markdown",
   "metadata": {
    "id": "yqct24f7mbKj"
   },
   "source": [
    "## Model 1 - \"bert-base-uncased\""
   ]
  },
  {
   "cell_type": "code",
   "execution_count": 89,
   "metadata": {
    "executionInfo": {
     "elapsed": 17,
     "status": "ok",
     "timestamp": 1639152293024,
     "user": {
      "displayName": "vanadhi chelliah",
      "photoUrl": "https://lh3.googleusercontent.com/a/default-user=s64",
      "userId": "11158136158943693689"
     },
     "user_tz": -330
    },
    "id": "ZxCaFvKCLXvz"
   },
   "outputs": [],
   "source": [
    "# Define the model checkpoint and Tokenizer\n",
    "\n",
    "model_checkpoint1 = \"bert-base-uncased\""
   ]
  },
  {
   "cell_type": "code",
   "execution_count": 90,
   "metadata": {
    "colab": {
     "base_uri": "https://localhost:8080/"
    },
    "executionInfo": {
     "elapsed": 383,
     "status": "ok",
     "timestamp": 1639152295358,
     "user": {
      "displayName": "vanadhi chelliah",
      "photoUrl": "https://lh3.googleusercontent.com/a/default-user=s64",
      "userId": "11158136158943693689"
     },
     "user_tz": -330
    },
    "id": "Opxbf1lEoa8x",
    "outputId": "c4500565-a4cd-41dd-d5b3-18c916372949"
   },
   "outputs": [
    {
     "data": {
      "text/plain": [
       "str"
      ]
     },
     "execution_count": 90,
     "metadata": {},
     "output_type": "execute_result"
    }
   ],
   "source": [
    "type(finlit_chunked['train']['chunks'][0])"
   ]
  },
  {
   "cell_type": "code",
   "execution_count": 91,
   "metadata": {
    "colab": {
     "base_uri": "https://localhost:8080/"
    },
    "executionInfo": {
     "elapsed": 4474,
     "status": "ok",
     "timestamp": 1639152301739,
     "user": {
      "displayName": "vanadhi chelliah",
      "photoUrl": "https://lh3.googleusercontent.com/a/default-user=s64",
      "userId": "11158136158943693689"
     },
     "user_tz": -330
    },
    "id": "yYZggbuvKWZK",
    "outputId": "002f1bfc-5951-4867-8cd7-975ec1fd2419"
   },
   "outputs": [
    {
     "name": "stdout",
     "output_type": "stream",
     "text": [
      "/content/drive/MyDrive/FinLitQA/model/flm/ bert-base-uncased-flm\n"
     ]
    },
    {
     "name": "stderr",
     "output_type": "stream",
     "text": [
      "loading file https://huggingface.co/bert-base-uncased/resolve/main/vocab.txt from cache at /root/.cache/huggingface/transformers/45c3f7a79a80e1cf0a489e5c62b43f173c15db47864303a55d623bb3c96f72a5.d789d64ebfe299b0e416afc4a169632f903f693095b4629a7ea271d5a0cf2c99\n",
      "loading file https://huggingface.co/bert-base-uncased/resolve/main/tokenizer.json from cache at /root/.cache/huggingface/transformers/534479488c54aeaf9c3406f647aa2ec13648c06771ffe269edabebd4c412da1d.7f2721073f19841be16f41b0a70b600ca6b880c8f3df6f3535cbc704371bdfa4\n",
      "loading file https://huggingface.co/bert-base-uncased/resolve/main/added_tokens.json from cache at None\n",
      "loading file https://huggingface.co/bert-base-uncased/resolve/main/special_tokens_map.json from cache at None\n",
      "loading file https://huggingface.co/bert-base-uncased/resolve/main/tokenizer_config.json from cache at /root/.cache/huggingface/transformers/c1d7f0a763fb63861cc08553866f1fc3e5a6f4f07621be277452d26d71303b7e.20430bd8e10ef77a7d2977accefe796051e01bc2fc4aa146bc862997a1a15e79\n",
      "loading configuration file https://huggingface.co/bert-base-uncased/resolve/main/config.json from cache at /root/.cache/huggingface/transformers/3c61d016573b14f7f008c02c4e51a366c67ab274726fe2910691e2a761acf43e.37395cee442ab11005bcd270f3c34464dc1704b715b5d7d52b1a461abe3b9e4e\n",
      "Model config BertConfig {\n",
      "  \"_name_or_path\": \"bert-base-uncased\",\n",
      "  \"architectures\": [\n",
      "    \"BertForMaskedLM\"\n",
      "  ],\n",
      "  \"attention_probs_dropout_prob\": 0.1,\n",
      "  \"classifier_dropout\": null,\n",
      "  \"gradient_checkpointing\": false,\n",
      "  \"hidden_act\": \"gelu\",\n",
      "  \"hidden_dropout_prob\": 0.1,\n",
      "  \"hidden_size\": 768,\n",
      "  \"initializer_range\": 0.02,\n",
      "  \"intermediate_size\": 3072,\n",
      "  \"layer_norm_eps\": 1e-12,\n",
      "  \"max_position_embeddings\": 512,\n",
      "  \"model_type\": \"bert\",\n",
      "  \"num_attention_heads\": 12,\n",
      "  \"num_hidden_layers\": 12,\n",
      "  \"pad_token_id\": 0,\n",
      "  \"position_embedding_type\": \"absolute\",\n",
      "  \"transformers_version\": \"4.13.0\",\n",
      "  \"type_vocab_size\": 2,\n",
      "  \"use_cache\": true,\n",
      "  \"vocab_size\": 30522\n",
      "}\n",
      "\n",
      "loading configuration file https://huggingface.co/bert-base-uncased/resolve/main/config.json from cache at /root/.cache/huggingface/transformers/3c61d016573b14f7f008c02c4e51a366c67ab274726fe2910691e2a761acf43e.37395cee442ab11005bcd270f3c34464dc1704b715b5d7d52b1a461abe3b9e4e\n",
      "Model config BertConfig {\n",
      "  \"_name_or_path\": \"bert-base-uncased\",\n",
      "  \"architectures\": [\n",
      "    \"BertForMaskedLM\"\n",
      "  ],\n",
      "  \"attention_probs_dropout_prob\": 0.1,\n",
      "  \"classifier_dropout\": null,\n",
      "  \"gradient_checkpointing\": false,\n",
      "  \"hidden_act\": \"gelu\",\n",
      "  \"hidden_dropout_prob\": 0.1,\n",
      "  \"hidden_size\": 768,\n",
      "  \"initializer_range\": 0.02,\n",
      "  \"intermediate_size\": 3072,\n",
      "  \"layer_norm_eps\": 1e-12,\n",
      "  \"max_position_embeddings\": 512,\n",
      "  \"model_type\": \"bert\",\n",
      "  \"num_attention_heads\": 12,\n",
      "  \"num_hidden_layers\": 12,\n",
      "  \"pad_token_id\": 0,\n",
      "  \"position_embedding_type\": \"absolute\",\n",
      "  \"transformers_version\": \"4.13.0\",\n",
      "  \"type_vocab_size\": 2,\n",
      "  \"use_cache\": true,\n",
      "  \"vocab_size\": 30522\n",
      "}\n",
      "\n",
      "loading weights file https://huggingface.co/bert-base-uncased/resolve/main/pytorch_model.bin from cache at /root/.cache/huggingface/transformers/a8041bf617d7f94ea26d15e218abd04afc2004805632abc0ed2066aa16d50d04.faf6ea826ae9c5867d12b22257f9877e6b8367890837bd60f7c54a29633f7f2f\n",
      "Some weights of the model checkpoint at bert-base-uncased were not used when initializing BertForMaskedLM: ['cls.seq_relationship.bias', 'cls.seq_relationship.weight']\n",
      "- This IS expected if you are initializing BertForMaskedLM from the checkpoint of a model trained on another task or with another architecture (e.g. initializing a BertForSequenceClassification model from a BertForPreTraining model).\n",
      "- This IS NOT expected if you are initializing BertForMaskedLM from the checkpoint of a model that you expect to be exactly identical (initializing a BertForSequenceClassification model from a BertForSequenceClassification model).\n",
      "All the weights of BertForMaskedLM were initialized from the model checkpoint at bert-base-uncased.\n",
      "If your task is similar to the task the model of the checkpoint was trained on, you can already use BertForMaskedLM for predictions without further training.\n"
     ]
    }
   ],
   "source": [
    "# Define Tokenizer and Model\n",
    "\n",
    "#Training Arguments - Pass training arguments and define trainer\n",
    "model_dir='/content/drive/MyDrive/FinLitQA/model/flm/' \n",
    "model_n = model_checkpoint1.split(\"/\")[-1] \n",
    "model_suffix = \"-flm\" \n",
    "model_name = f\"{model_n}{model_suffix}\"\n",
    "\n",
    "print (model_dir, model_name)\n",
    "\n",
    "from transformers import BertTokenizerFast\n",
    "tokenizer = BertTokenizerFast.from_pretrained(model_checkpoint1)\n",
    "model = AutoModelForMaskedLM.from_pretrained(model_checkpoint1)\n"
   ]
  },
  {
   "cell_type": "code",
   "execution_count": 92,
   "metadata": {
    "colab": {
     "base_uri": "https://localhost:8080/"
    },
    "executionInfo": {
     "elapsed": 10559,
     "status": "ok",
     "timestamp": 1639152312288,
     "user": {
      "displayName": "vanadhi chelliah",
      "photoUrl": "https://lh3.googleusercontent.com/a/default-user=s64",
      "userId": "11158136158943693689"
     },
     "user_tz": -330
    },
    "id": "FMjo1Ei70u5A",
    "outputId": "4ae19e1a-0176-4a06-d188-89a27111bb83"
   },
   "outputs": [
    {
     "name": "stderr",
     "output_type": "stream",
     "text": [
      "PyTorch: setting up devices\n",
      "The default value for the training argument `--report_to` will change in v5 (from all installed integrations to none). In v5, you will need to use `--report_to all` to get the same behavior as now. You should start updating your code and make this info disappear :-).\n"
     ]
    }
   ],
   "source": [
    "# Create language modeling datasets\n",
    "finlit_tokenized = finlit_chunked.map(tokenize_function, batched=True, num_proc=4, remove_columns=[\"chunks\"])\n",
    "lm_datasets = finlit_tokenized.map(group_texts, batched=True, batch_size=1000, num_proc=4)\n",
    "\n",
    "# trainer is defined here \n",
    "trainer = trainer_from_args(model_dir, model_name, model, tokenizer, lm_datasets)"
   ]
  },
  {
   "cell_type": "code",
   "execution_count": 93,
   "metadata": {
    "colab": {
     "base_uri": "https://localhost:8080/",
     "height": 983
    },
    "executionInfo": {
     "elapsed": 560542,
     "status": "ok",
     "timestamp": 1639152902828,
     "user": {
      "displayName": "vanadhi chelliah",
      "photoUrl": "https://lh3.googleusercontent.com/a/default-user=s64",
      "userId": "11158136158943693689"
     },
     "user_tz": -330
    },
    "id": "OrRUBX-u0KBU",
    "outputId": "05e5e407-6005-4c70-b90a-197f20222ce9"
   },
   "outputs": [
    {
     "name": "stderr",
     "output_type": "stream",
     "text": [
      "***** Running training *****\n",
      "  Num examples = 6099\n",
      "  Num Epochs = 5\n",
      "  Instantaneous batch size per device = 16\n",
      "  Total train batch size (w. parallel, distributed & accumulation) = 16\n",
      "  Gradient Accumulation steps = 1\n",
      "  Total optimization steps = 1910\n"
     ]
    },
    {
     "data": {
      "text/html": [
       "\n",
       "    <div>\n",
       "      \n",
       "      <progress value='1910' max='1910' style='width:300px; height:20px; vertical-align: middle;'></progress>\n",
       "      [1910/1910 09:12, Epoch 5/5]\n",
       "    </div>\n",
       "    <table border=\"1\" class=\"dataframe\">\n",
       "  <thead>\n",
       "    <tr style=\"text-align: left;\">\n",
       "      <th>Step</th>\n",
       "      <th>Training Loss</th>\n",
       "      <th>Validation Loss</th>\n",
       "    </tr>\n",
       "  </thead>\n",
       "  <tbody>\n",
       "    <tr>\n",
       "      <td>500</td>\n",
       "      <td>2.384900</td>\n",
       "      <td>2.187863</td>\n",
       "    </tr>\n",
       "    <tr>\n",
       "      <td>1000</td>\n",
       "      <td>2.186400</td>\n",
       "      <td>2.102549</td>\n",
       "    </tr>\n",
       "    <tr>\n",
       "      <td>1500</td>\n",
       "      <td>2.093800</td>\n",
       "      <td>2.063801</td>\n",
       "    </tr>\n",
       "  </tbody>\n",
       "</table><p>"
      ],
      "text/plain": [
       "<IPython.core.display.HTML object>"
      ]
     },
     "metadata": {},
     "output_type": "display_data"
    },
    {
     "name": "stderr",
     "output_type": "stream",
     "text": [
      "***** Running Evaluation *****\n",
      "  Num examples = 1516\n",
      "  Batch size = 12\n",
      "Saving model checkpoint to /content/drive/MyDrive/FinLitQA/model/flm/bert-base-uncased-flm/checkpoint-500\n",
      "Configuration saved in /content/drive/MyDrive/FinLitQA/model/flm/bert-base-uncased-flm/checkpoint-500/config.json\n",
      "Model weights saved in /content/drive/MyDrive/FinLitQA/model/flm/bert-base-uncased-flm/checkpoint-500/pytorch_model.bin\n",
      "tokenizer config file saved in /content/drive/MyDrive/FinLitQA/model/flm/bert-base-uncased-flm/checkpoint-500/tokenizer_config.json\n",
      "Special tokens file saved in /content/drive/MyDrive/FinLitQA/model/flm/bert-base-uncased-flm/checkpoint-500/special_tokens_map.json\n",
      "***** Running Evaluation *****\n",
      "  Num examples = 1516\n",
      "  Batch size = 12\n",
      "Saving model checkpoint to /content/drive/MyDrive/FinLitQA/model/flm/bert-base-uncased-flm/checkpoint-1000\n",
      "Configuration saved in /content/drive/MyDrive/FinLitQA/model/flm/bert-base-uncased-flm/checkpoint-1000/config.json\n",
      "Model weights saved in /content/drive/MyDrive/FinLitQA/model/flm/bert-base-uncased-flm/checkpoint-1000/pytorch_model.bin\n",
      "tokenizer config file saved in /content/drive/MyDrive/FinLitQA/model/flm/bert-base-uncased-flm/checkpoint-1000/tokenizer_config.json\n",
      "Special tokens file saved in /content/drive/MyDrive/FinLitQA/model/flm/bert-base-uncased-flm/checkpoint-1000/special_tokens_map.json\n",
      "***** Running Evaluation *****\n",
      "  Num examples = 1516\n",
      "  Batch size = 12\n",
      "Saving model checkpoint to /content/drive/MyDrive/FinLitQA/model/flm/bert-base-uncased-flm/checkpoint-1500\n",
      "Configuration saved in /content/drive/MyDrive/FinLitQA/model/flm/bert-base-uncased-flm/checkpoint-1500/config.json\n",
      "Model weights saved in /content/drive/MyDrive/FinLitQA/model/flm/bert-base-uncased-flm/checkpoint-1500/pytorch_model.bin\n",
      "tokenizer config file saved in /content/drive/MyDrive/FinLitQA/model/flm/bert-base-uncased-flm/checkpoint-1500/tokenizer_config.json\n",
      "Special tokens file saved in /content/drive/MyDrive/FinLitQA/model/flm/bert-base-uncased-flm/checkpoint-1500/special_tokens_map.json\n",
      "\n",
      "\n",
      "Training completed. Do not forget to share your model on huggingface.co/models =)\n",
      "\n",
      "\n",
      "Loading best model from /content/drive/MyDrive/FinLitQA/model/flm/bert-base-uncased-flm/checkpoint-1500 (score: 2.0638012886047363).\n",
      "***** Running Evaluation *****\n",
      "  Num examples = 1516\n",
      "  Batch size = 12\n"
     ]
    },
    {
     "data": {
      "text/html": [
       "\n",
       "    <div>\n",
       "      \n",
       "      <progress value='127' max='127' style='width:300px; height:20px; vertical-align: middle;'></progress>\n",
       "      [127/127 00:07]\n",
       "    </div>\n",
       "    "
      ],
      "text/plain": [
       "<IPython.core.display.HTML object>"
      ]
     },
     "metadata": {},
     "output_type": "display_data"
    },
    {
     "name": "stdout",
     "output_type": "stream",
     "text": [
      "Perplexity: 7.78\n",
      "CPU times: user 8min 55s, sys: 10.2 s, total: 9min 5s\n",
      "Wall time: 9min 20s\n"
     ]
    }
   ],
   "source": [
    "%%time\n",
    "trainer.train()\n",
    "\n",
    "# Evaluate and check Perplexity\n",
    "eval_results = trainer.evaluate()\n",
    "print(f\"Perplexity: {math.exp(eval_results['eval_loss']):.2f}\")"
   ]
  },
  {
   "cell_type": "code",
   "execution_count": 94,
   "metadata": {
    "colab": {
     "base_uri": "https://localhost:8080/",
     "height": 285
    },
    "executionInfo": {
     "elapsed": 16740,
     "status": "ok",
     "timestamp": 1639152931598,
     "user": {
      "displayName": "vanadhi chelliah",
      "photoUrl": "https://lh3.googleusercontent.com/a/default-user=s64",
      "userId": "11158136158943693689"
     },
     "user_tz": -330
    },
    "id": "NWdJ2j_gMUEH",
    "outputId": "a06f7fbe-c89e-4504-8a24-5f79be3a3dc5"
   },
   "outputs": [
    {
     "name": "stderr",
     "output_type": "stream",
     "text": [
      "Saving model checkpoint to /content/drive/MyDrive/FinLitQA/model/flm_final/bert-base-uncased-flm/\n",
      "Configuration saved in /content/drive/MyDrive/FinLitQA/model/flm_final/bert-base-uncased-flm/config.json\n",
      "Model weights saved in /content/drive/MyDrive/FinLitQA/model/flm_final/bert-base-uncased-flm/pytorch_model.bin\n",
      "tokenizer config file saved in /content/drive/MyDrive/FinLitQA/model/flm_final/bert-base-uncased-flm/tokenizer_config.json\n",
      "Special tokens file saved in /content/drive/MyDrive/FinLitQA/model/flm_final/bert-base-uncased-flm/special_tokens_map.json\n",
      "***** Running Evaluation *****\n",
      "  Num examples = 1516\n",
      "  Batch size = 12\n"
     ]
    },
    {
     "data": {
      "text/html": [
       "\n",
       "    <div>\n",
       "      \n",
       "      <progress value='254' max='127' style='width:300px; height:20px; vertical-align: middle;'></progress>\n",
       "      [127/127 00:36]\n",
       "    </div>\n",
       "    "
      ],
      "text/plain": [
       "<IPython.core.display.HTML object>"
      ]
     },
     "metadata": {},
     "output_type": "display_data"
    },
    {
     "name": "stdout",
     "output_type": "stream",
     "text": [
      "{'eval_loss': 2.0270180702209473, 'eval_runtime': 7.7529, 'eval_samples_per_second': 195.54, 'eval_steps_per_second': 16.381, 'epoch': 5.0}\n",
      "Perplexity: 7.59\n"
     ]
    },
    {
     "data": {
      "text/html": [
       "<div>\n",
       "<style scoped>\n",
       "    .dataframe tbody tr th:only-of-type {\n",
       "        vertical-align: middle;\n",
       "    }\n",
       "\n",
       "    .dataframe tbody tr th {\n",
       "        vertical-align: top;\n",
       "    }\n",
       "\n",
       "    .dataframe thead th {\n",
       "        text-align: right;\n",
       "    }\n",
       "</style>\n",
       "<table border=\"1\" class=\"dataframe\">\n",
       "  <thead>\n",
       "    <tr style=\"text-align: right;\">\n",
       "      <th></th>\n",
       "      <th>index</th>\n",
       "      <th>eval_loss</th>\n",
       "      <th>eval_runtime</th>\n",
       "      <th>eval_samples_per_second</th>\n",
       "      <th>eval_steps_per_second</th>\n",
       "      <th>epoch</th>\n",
       "      <th>Perplexity</th>\n",
       "    </tr>\n",
       "  </thead>\n",
       "  <tbody>\n",
       "    <tr>\n",
       "      <th>0</th>\n",
       "      <td>bert-base-uncased-flm</td>\n",
       "      <td>2.027018</td>\n",
       "      <td>7.7529</td>\n",
       "      <td>195.54</td>\n",
       "      <td>16.381</td>\n",
       "      <td>5.0</td>\n",
       "      <td>7.59</td>\n",
       "    </tr>\n",
       "  </tbody>\n",
       "</table>\n",
       "</div>"
      ],
      "text/plain": [
       "                   index  eval_loss  ...  epoch  Perplexity\n",
       "0  bert-base-uncased-flm   2.027018  ...    5.0        7.59\n",
       "\n",
       "[1 rows x 7 columns]"
      ]
     },
     "execution_count": 94,
     "metadata": {},
     "output_type": "execute_result"
    }
   ],
   "source": [
    "# Save the model\n",
    "\n",
    "save_path_model1 = \"/content/drive/MyDrive/FinLitQA/model/flm_final/bert-base-uncased-flm/\"\n",
    "trainer.save_model(save_path_model1)\n",
    "\n",
    "# Evaluate the trainer and consolidate the results\n",
    "# Calculate and add Perplexity to the evaluation results\n",
    "\n",
    "evaluate_trainer(trainer, model_name)"
   ]
  },
  {
   "cell_type": "code",
   "execution_count": 95,
   "metadata": {
    "colab": {
     "base_uri": "https://localhost:8080/",
     "height": 832
    },
    "executionInfo": {
     "elapsed": 10426,
     "status": "ok",
     "timestamp": 1639152943336,
     "user": {
      "displayName": "vanadhi chelliah",
      "photoUrl": "https://lh3.googleusercontent.com/a/default-user=s64",
      "userId": "11158136158943693689"
     },
     "user_tz": -330
    },
    "id": "Th1idkol8rib",
    "outputId": "5dc30c98-49e9-4814-b971-b1aa86ac46de"
   },
   "outputs": [
    {
     "name": "stderr",
     "output_type": "stream",
     "text": [
      "loading configuration file /content/drive/MyDrive/FinLitQA/model/flm_final/bert-base-uncased-flm/config.json\n",
      "Model config BertConfig {\n",
      "  \"_name_or_path\": \"/content/drive/MyDrive/FinLitQA/model/flm_final/bert-base-uncased-flm/\",\n",
      "  \"architectures\": [\n",
      "    \"BertForMaskedLM\"\n",
      "  ],\n",
      "  \"attention_probs_dropout_prob\": 0.1,\n",
      "  \"classifier_dropout\": null,\n",
      "  \"gradient_checkpointing\": false,\n",
      "  \"hidden_act\": \"gelu\",\n",
      "  \"hidden_dropout_prob\": 0.1,\n",
      "  \"hidden_size\": 768,\n",
      "  \"initializer_range\": 0.02,\n",
      "  \"intermediate_size\": 3072,\n",
      "  \"layer_norm_eps\": 1e-12,\n",
      "  \"max_position_embeddings\": 512,\n",
      "  \"model_type\": \"bert\",\n",
      "  \"num_attention_heads\": 12,\n",
      "  \"num_hidden_layers\": 12,\n",
      "  \"pad_token_id\": 0,\n",
      "  \"position_embedding_type\": \"absolute\",\n",
      "  \"torch_dtype\": \"float32\",\n",
      "  \"transformers_version\": \"4.13.0\",\n",
      "  \"type_vocab_size\": 2,\n",
      "  \"use_cache\": true,\n",
      "  \"vocab_size\": 30522\n",
      "}\n",
      "\n",
      "loading weights file /content/drive/MyDrive/FinLitQA/model/flm_final/bert-base-uncased-flm/pytorch_model.bin\n",
      "All model checkpoint weights were used when initializing BertForMaskedLM.\n",
      "\n",
      "All the weights of BertForMaskedLM were initialized from the model checkpoint at /content/drive/MyDrive/FinLitQA/model/flm_final/bert-base-uncased-flm/.\n",
      "If your task is similar to the task the model of the checkpoint was trained on, you can already use BertForMaskedLM for predictions without further training.\n",
      "***** Running Evaluation *****\n",
      "  Num examples = 1516\n",
      "  Batch size = 12\n"
     ]
    },
    {
     "data": {
      "text/html": [
       "\n",
       "    <div>\n",
       "      \n",
       "      <progress value='381' max='127' style='width:300px; height:20px; vertical-align: middle;'></progress>\n",
       "      [127/127 00:47]\n",
       "    </div>\n",
       "    "
      ],
      "text/plain": [
       "<IPython.core.display.HTML object>"
      ]
     },
     "metadata": {},
     "output_type": "display_data"
    },
    {
     "data": {
      "text/plain": [
       "({'epoch': 5.0,\n",
       "  'eval_loss': 2.063056230545044,\n",
       "  'eval_runtime': 7.7418,\n",
       "  'eval_samples_per_second': 195.821,\n",
       "  'eval_steps_per_second': 16.405},\n",
       " '7.87')"
      ]
     },
     "execution_count": 95,
     "metadata": {},
     "output_type": "execute_result"
    }
   ],
   "source": [
    "# Reload model and check\n",
    "model = AutoModelForMaskedLM.from_pretrained(save_path_model1, local_files_only=True)\n",
    "trainer.model = model.cuda()\n",
    "\n",
    "# Evaluate and check\n",
    "eval_results = trainer.evaluate()\n",
    "eval_results, f\"{math.exp(eval_results['eval_loss']):.2f}\""
   ]
  },
  {
   "cell_type": "code",
   "execution_count": null,
   "metadata": {
    "colab": {
     "base_uri": "https://localhost:8080/",
     "height": 81
    },
    "executionInfo": {
     "elapsed": 51,
     "status": "ok",
     "timestamp": 1638093617788,
     "user": {
      "displayName": "vanadhi chelliah",
      "photoUrl": "https://lh3.googleusercontent.com/a/default-user=s64",
      "userId": "11158136158943693689"
     },
     "user_tz": -330
    },
    "id": "AJlB3R-I8ric",
    "outputId": "e3b9405a-1fe1-4986-8f7a-ad32ea496fef"
   },
   "outputs": [
    {
     "data": {
      "text/html": [
       "<div>\n",
       "<style scoped>\n",
       "    .dataframe tbody tr th:only-of-type {\n",
       "        vertical-align: middle;\n",
       "    }\n",
       "\n",
       "    .dataframe tbody tr th {\n",
       "        vertical-align: top;\n",
       "    }\n",
       "\n",
       "    .dataframe thead th {\n",
       "        text-align: right;\n",
       "    }\n",
       "</style>\n",
       "<table border=\"1\" class=\"dataframe\">\n",
       "  <thead>\n",
       "    <tr style=\"text-align: right;\">\n",
       "      <th></th>\n",
       "      <th>index</th>\n",
       "      <th>eval_loss</th>\n",
       "      <th>eval_runtime</th>\n",
       "      <th>eval_samples_per_second</th>\n",
       "      <th>eval_steps_per_second</th>\n",
       "      <th>epoch</th>\n",
       "      <th>Perplexity</th>\n",
       "    </tr>\n",
       "  </thead>\n",
       "  <tbody>\n",
       "    <tr>\n",
       "      <th>0</th>\n",
       "      <td>bert-base-uncased-flm</td>\n",
       "      <td>2.184357</td>\n",
       "      <td>3.7841</td>\n",
       "      <td>194.764</td>\n",
       "      <td>16.384</td>\n",
       "      <td>3.0</td>\n",
       "      <td>8.88</td>\n",
       "    </tr>\n",
       "  </tbody>\n",
       "</table>\n",
       "</div>"
      ],
      "text/plain": [
       "                   index  eval_loss  ...  epoch  Perplexity\n",
       "0  bert-base-uncased-flm   2.184357  ...    3.0        8.88\n",
       "\n",
       "[1 rows x 7 columns]"
      ]
     },
     "execution_count": 25,
     "metadata": {},
     "output_type": "execute_result"
    }
   ],
   "source": [
    "df_lmtrain_summary"
   ]
  },
  {
   "cell_type": "markdown",
   "metadata": {
    "id": "gLeaBlnImbKn"
   },
   "source": [
    "## Model 2 - \"roberta-base\""
   ]
  },
  {
   "cell_type": "code",
   "execution_count": 96,
   "metadata": {
    "executionInfo": {
     "elapsed": 365,
     "status": "ok",
     "timestamp": 1639152964700,
     "user": {
      "displayName": "vanadhi chelliah",
      "photoUrl": "https://lh3.googleusercontent.com/a/default-user=s64",
      "userId": "11158136158943693689"
     },
     "user_tz": -330
    },
    "id": "lJb2NJP_mbKn"
   },
   "outputs": [],
   "source": [
    "# model_checkpoint2 \n",
    "\n",
    "model_checkpoint2 = \"roberta-base\""
   ]
  },
  {
   "cell_type": "code",
   "execution_count": 98,
   "metadata": {
    "colab": {
     "base_uri": "https://localhost:8080/",
     "height": 1000,
     "referenced_widgets": [
      "1807602df920462f9370a032c0a76023",
      "0f4a16bc83a9450190af16c1fdacc199",
      "322892aea77c43d58185aca1d5704370",
      "35e8e1fe6ecb44ec998c4a19e6313f0e",
      "cdfe980fe1804d0abf4fbd4ef7436cd5",
      "7fb521f7acfa4244817d6320cdb01b7c",
      "5cba1b7e8bc24ae7b2b668f41e754906",
      "8809d4f2c0e945319c11c32e98ff7a9b",
      "3ca1cb0393d644e380029a6dc7cee21a",
      "a00b2d2c7acf4d4c82c0ab56ed5dd38e",
      "49f1aa466f5643d08c7a93221b4ca366",
      "28e9049afc824036afd53029a4b09d3a",
      "04c38c91557c4a3c976efacf86104f35",
      "fafa74dbd4fe4e11a90d505403204a9b",
      "3848bb9d2fc34c60a7fc2db5de21753d",
      "949919cf10b24fbdb39e13f14fbaef2c",
      "3cc2ba451e004b5b91efa8c8e87af308",
      "979301ed27b44d39a5cf9c017fc69bee",
      "15ab8df70ff6409295662a30d663b9eb",
      "74112a1416dc47cfb60c6123203eb304",
      "90603736aa1a4965ad7d1b4a8e1484ff",
      "320d18e04e984e8db6ac57e1675db1e9",
      "1b062a6c04bf44e2999235e20906ffe9",
      "c990f7d4eb3749c1bad66c549318baf2",
      "e11b330d62404cf4acee7c78ebfc8e46",
      "5653774a02594b47872921929bdb1c6e",
      "8c8d561cf1db449ba5c63a375e4f093f",
      "3656411874354598a9303e63de9d5e5f",
      "156e3fbe5d7f4563a6bd8705255afb25",
      "652805c2663940c0b083ce62191271d2",
      "315bc621b21147d196fbd41422bb9d12",
      "79c4e0658c444c5db67eb0a3de4e0f04",
      "1e143940d32a43b99b68574db2c4f1e8",
      "c3eb4c42ee8041118651b6a1114f4189",
      "e5a0f6be621d44c597ba76a37bc549fd",
      "79272c78df9644c1988ac0b0a9d102c2",
      "35451c49135a4ce1ab8854aed48350f9",
      "5813cc3dfb2844fcba72b6faba2135e0",
      "19f5b5d457f943a585de64a90b372292",
      "6a50735f14694b7cae8726b750a6023c",
      "d685f3fd304f4dc4928104b955cc9613",
      "ef2c99b5421b44e3b67ad62d24d00f02",
      "8ccace5fc216487a8bcf78eb9677c93a",
      "8401cbd1da6b441a9150ba6510241ca3",
      "1b692c77ce9d455aa9364c5ec31a7a4c",
      "6960f572a7f248cb85ac12d30e72369d",
      "77bd33d1038c48b5aa8ed78b4bf4d49e",
      "d702a45189e24632a8737bbf889ba982",
      "0a66b18b119a4f209ec40fbff6c9efaa",
      "c1d6f55e0f174a599e150edea0ae7794",
      "5b5ce900916a4347a547526439995ab8",
      "ce4d524d93d94901845b74eed1b8a120",
      "851af0ff354d47b89e9bb0a5b666ddc9",
      "ba55afdd50a544d698fd99f7ca44d97b",
      "b21fce796fc742d394d9fd73192245ba"
     ]
    },
    "executionInfo": {
     "elapsed": 26692,
     "status": "ok",
     "timestamp": 1639153012666,
     "user": {
      "displayName": "vanadhi chelliah",
      "photoUrl": "https://lh3.googleusercontent.com/a/default-user=s64",
      "userId": "11158136158943693689"
     },
     "user_tz": -330
    },
    "id": "Knu_Mnv2mbKn",
    "outputId": "1028b288-db4c-4751-d375-1a926698eb87"
   },
   "outputs": [
    {
     "name": "stdout",
     "output_type": "stream",
     "text": [
      "/content/drive/MyDrive/FinLitQA/model/flm/ roberta-base-flm\n"
     ]
    },
    {
     "name": "stderr",
     "output_type": "stream",
     "text": [
      "Could not locate the tokenizer configuration file, will try to use the model config instead.\n",
      "https://huggingface.co/roberta-base/resolve/main/config.json not found in cache or force_download set to True, downloading to /root/.cache/huggingface/transformers/tmpaunyr57s\n"
     ]
    },
    {
     "data": {
      "application/vnd.jupyter.widget-view+json": {
       "model_id": "1807602df920462f9370a032c0a76023",
       "version_major": 2,
       "version_minor": 0
      },
      "text/plain": [
       "Downloading:   0%|          | 0.00/481 [00:00<?, ?B/s]"
      ]
     },
     "metadata": {},
     "output_type": "display_data"
    },
    {
     "name": "stderr",
     "output_type": "stream",
     "text": [
      "storing https://huggingface.co/roberta-base/resolve/main/config.json in cache at /root/.cache/huggingface/transformers/733bade19e5f0ce98e6531021dd5180994bb2f7b8bd7e80c7968805834ba351e.35205c6cfc956461d8515139f0f8dd5d207a2f336c0c3a83b4bc8dca3518e37b\n",
      "creating metadata file for /root/.cache/huggingface/transformers/733bade19e5f0ce98e6531021dd5180994bb2f7b8bd7e80c7968805834ba351e.35205c6cfc956461d8515139f0f8dd5d207a2f336c0c3a83b4bc8dca3518e37b\n",
      "loading configuration file https://huggingface.co/roberta-base/resolve/main/config.json from cache at /root/.cache/huggingface/transformers/733bade19e5f0ce98e6531021dd5180994bb2f7b8bd7e80c7968805834ba351e.35205c6cfc956461d8515139f0f8dd5d207a2f336c0c3a83b4bc8dca3518e37b\n",
      "Model config RobertaConfig {\n",
      "  \"_name_or_path\": \"roberta-base\",\n",
      "  \"architectures\": [\n",
      "    \"RobertaForMaskedLM\"\n",
      "  ],\n",
      "  \"attention_probs_dropout_prob\": 0.1,\n",
      "  \"bos_token_id\": 0,\n",
      "  \"classifier_dropout\": null,\n",
      "  \"eos_token_id\": 2,\n",
      "  \"hidden_act\": \"gelu\",\n",
      "  \"hidden_dropout_prob\": 0.1,\n",
      "  \"hidden_size\": 768,\n",
      "  \"initializer_range\": 0.02,\n",
      "  \"intermediate_size\": 3072,\n",
      "  \"layer_norm_eps\": 1e-05,\n",
      "  \"max_position_embeddings\": 514,\n",
      "  \"model_type\": \"roberta\",\n",
      "  \"num_attention_heads\": 12,\n",
      "  \"num_hidden_layers\": 12,\n",
      "  \"pad_token_id\": 1,\n",
      "  \"position_embedding_type\": \"absolute\",\n",
      "  \"transformers_version\": \"4.13.0\",\n",
      "  \"type_vocab_size\": 1,\n",
      "  \"use_cache\": true,\n",
      "  \"vocab_size\": 50265\n",
      "}\n",
      "\n",
      "https://huggingface.co/roberta-base/resolve/main/vocab.json not found in cache or force_download set to True, downloading to /root/.cache/huggingface/transformers/tmpr2tdgllq\n"
     ]
    },
    {
     "data": {
      "application/vnd.jupyter.widget-view+json": {
       "model_id": "28e9049afc824036afd53029a4b09d3a",
       "version_major": 2,
       "version_minor": 0
      },
      "text/plain": [
       "Downloading:   0%|          | 0.00/878k [00:00<?, ?B/s]"
      ]
     },
     "metadata": {},
     "output_type": "display_data"
    },
    {
     "name": "stderr",
     "output_type": "stream",
     "text": [
      "storing https://huggingface.co/roberta-base/resolve/main/vocab.json in cache at /root/.cache/huggingface/transformers/d3ccdbfeb9aaa747ef20432d4976c32ee3fa69663b379deb253ccfce2bb1fdc5.d67d6b367eb24ab43b08ad55e014cf254076934f71d832bbab9ad35644a375ab\n",
      "creating metadata file for /root/.cache/huggingface/transformers/d3ccdbfeb9aaa747ef20432d4976c32ee3fa69663b379deb253ccfce2bb1fdc5.d67d6b367eb24ab43b08ad55e014cf254076934f71d832bbab9ad35644a375ab\n",
      "https://huggingface.co/roberta-base/resolve/main/merges.txt not found in cache or force_download set to True, downloading to /root/.cache/huggingface/transformers/tmpo514849u\n"
     ]
    },
    {
     "data": {
      "application/vnd.jupyter.widget-view+json": {
       "model_id": "1b062a6c04bf44e2999235e20906ffe9",
       "version_major": 2,
       "version_minor": 0
      },
      "text/plain": [
       "Downloading:   0%|          | 0.00/446k [00:00<?, ?B/s]"
      ]
     },
     "metadata": {},
     "output_type": "display_data"
    },
    {
     "name": "stderr",
     "output_type": "stream",
     "text": [
      "storing https://huggingface.co/roberta-base/resolve/main/merges.txt in cache at /root/.cache/huggingface/transformers/cafdecc90fcab17011e12ac813dd574b4b3fea39da6dd817813efa010262ff3f.5d12962c5ee615a4c803841266e9c3be9a691a924f72d395d3a6c6c81157788b\n",
      "creating metadata file for /root/.cache/huggingface/transformers/cafdecc90fcab17011e12ac813dd574b4b3fea39da6dd817813efa010262ff3f.5d12962c5ee615a4c803841266e9c3be9a691a924f72d395d3a6c6c81157788b\n",
      "https://huggingface.co/roberta-base/resolve/main/tokenizer.json not found in cache or force_download set to True, downloading to /root/.cache/huggingface/transformers/tmpxenk8krj\n"
     ]
    },
    {
     "data": {
      "application/vnd.jupyter.widget-view+json": {
       "model_id": "c3eb4c42ee8041118651b6a1114f4189",
       "version_major": 2,
       "version_minor": 0
      },
      "text/plain": [
       "Downloading:   0%|          | 0.00/1.29M [00:00<?, ?B/s]"
      ]
     },
     "metadata": {},
     "output_type": "display_data"
    },
    {
     "name": "stderr",
     "output_type": "stream",
     "text": [
      "storing https://huggingface.co/roberta-base/resolve/main/tokenizer.json in cache at /root/.cache/huggingface/transformers/d53fc0fa09b8342651efd4073d75e19617b3e51287c2a535becda5808a8db287.fc9576039592f026ad76a1c231b89aee8668488c671dfbe6616bab2ed298d730\n",
      "creating metadata file for /root/.cache/huggingface/transformers/d53fc0fa09b8342651efd4073d75e19617b3e51287c2a535becda5808a8db287.fc9576039592f026ad76a1c231b89aee8668488c671dfbe6616bab2ed298d730\n",
      "loading file https://huggingface.co/roberta-base/resolve/main/vocab.json from cache at /root/.cache/huggingface/transformers/d3ccdbfeb9aaa747ef20432d4976c32ee3fa69663b379deb253ccfce2bb1fdc5.d67d6b367eb24ab43b08ad55e014cf254076934f71d832bbab9ad35644a375ab\n",
      "loading file https://huggingface.co/roberta-base/resolve/main/merges.txt from cache at /root/.cache/huggingface/transformers/cafdecc90fcab17011e12ac813dd574b4b3fea39da6dd817813efa010262ff3f.5d12962c5ee615a4c803841266e9c3be9a691a924f72d395d3a6c6c81157788b\n",
      "loading file https://huggingface.co/roberta-base/resolve/main/tokenizer.json from cache at /root/.cache/huggingface/transformers/d53fc0fa09b8342651efd4073d75e19617b3e51287c2a535becda5808a8db287.fc9576039592f026ad76a1c231b89aee8668488c671dfbe6616bab2ed298d730\n",
      "loading file https://huggingface.co/roberta-base/resolve/main/added_tokens.json from cache at None\n",
      "loading file https://huggingface.co/roberta-base/resolve/main/special_tokens_map.json from cache at None\n",
      "loading file https://huggingface.co/roberta-base/resolve/main/tokenizer_config.json from cache at None\n",
      "loading configuration file https://huggingface.co/roberta-base/resolve/main/config.json from cache at /root/.cache/huggingface/transformers/733bade19e5f0ce98e6531021dd5180994bb2f7b8bd7e80c7968805834ba351e.35205c6cfc956461d8515139f0f8dd5d207a2f336c0c3a83b4bc8dca3518e37b\n",
      "Model config RobertaConfig {\n",
      "  \"_name_or_path\": \"roberta-base\",\n",
      "  \"architectures\": [\n",
      "    \"RobertaForMaskedLM\"\n",
      "  ],\n",
      "  \"attention_probs_dropout_prob\": 0.1,\n",
      "  \"bos_token_id\": 0,\n",
      "  \"classifier_dropout\": null,\n",
      "  \"eos_token_id\": 2,\n",
      "  \"hidden_act\": \"gelu\",\n",
      "  \"hidden_dropout_prob\": 0.1,\n",
      "  \"hidden_size\": 768,\n",
      "  \"initializer_range\": 0.02,\n",
      "  \"intermediate_size\": 3072,\n",
      "  \"layer_norm_eps\": 1e-05,\n",
      "  \"max_position_embeddings\": 514,\n",
      "  \"model_type\": \"roberta\",\n",
      "  \"num_attention_heads\": 12,\n",
      "  \"num_hidden_layers\": 12,\n",
      "  \"pad_token_id\": 1,\n",
      "  \"position_embedding_type\": \"absolute\",\n",
      "  \"transformers_version\": \"4.13.0\",\n",
      "  \"type_vocab_size\": 1,\n",
      "  \"use_cache\": true,\n",
      "  \"vocab_size\": 50265\n",
      "}\n",
      "\n",
      "loading configuration file https://huggingface.co/roberta-base/resolve/main/config.json from cache at /root/.cache/huggingface/transformers/733bade19e5f0ce98e6531021dd5180994bb2f7b8bd7e80c7968805834ba351e.35205c6cfc956461d8515139f0f8dd5d207a2f336c0c3a83b4bc8dca3518e37b\n",
      "Model config RobertaConfig {\n",
      "  \"_name_or_path\": \"roberta-base\",\n",
      "  \"architectures\": [\n",
      "    \"RobertaForMaskedLM\"\n",
      "  ],\n",
      "  \"attention_probs_dropout_prob\": 0.1,\n",
      "  \"bos_token_id\": 0,\n",
      "  \"classifier_dropout\": null,\n",
      "  \"eos_token_id\": 2,\n",
      "  \"hidden_act\": \"gelu\",\n",
      "  \"hidden_dropout_prob\": 0.1,\n",
      "  \"hidden_size\": 768,\n",
      "  \"initializer_range\": 0.02,\n",
      "  \"intermediate_size\": 3072,\n",
      "  \"layer_norm_eps\": 1e-05,\n",
      "  \"max_position_embeddings\": 514,\n",
      "  \"model_type\": \"roberta\",\n",
      "  \"num_attention_heads\": 12,\n",
      "  \"num_hidden_layers\": 12,\n",
      "  \"pad_token_id\": 1,\n",
      "  \"position_embedding_type\": \"absolute\",\n",
      "  \"transformers_version\": \"4.13.0\",\n",
      "  \"type_vocab_size\": 1,\n",
      "  \"use_cache\": true,\n",
      "  \"vocab_size\": 50265\n",
      "}\n",
      "\n",
      "https://huggingface.co/roberta-base/resolve/main/pytorch_model.bin not found in cache or force_download set to True, downloading to /root/.cache/huggingface/transformers/tmpmctb9yx9\n"
     ]
    },
    {
     "data": {
      "application/vnd.jupyter.widget-view+json": {
       "model_id": "1b692c77ce9d455aa9364c5ec31a7a4c",
       "version_major": 2,
       "version_minor": 0
      },
      "text/plain": [
       "Downloading:   0%|          | 0.00/478M [00:00<?, ?B/s]"
      ]
     },
     "metadata": {},
     "output_type": "display_data"
    },
    {
     "name": "stderr",
     "output_type": "stream",
     "text": [
      "storing https://huggingface.co/roberta-base/resolve/main/pytorch_model.bin in cache at /root/.cache/huggingface/transformers/51ba668f7ff34e7cdfa9561e8361747738113878850a7d717dbc69de8683aaad.c7efaa30a0d80b2958b876969faa180e485944a849deee4ad482332de65365a7\n",
      "creating metadata file for /root/.cache/huggingface/transformers/51ba668f7ff34e7cdfa9561e8361747738113878850a7d717dbc69de8683aaad.c7efaa30a0d80b2958b876969faa180e485944a849deee4ad482332de65365a7\n",
      "loading weights file https://huggingface.co/roberta-base/resolve/main/pytorch_model.bin from cache at /root/.cache/huggingface/transformers/51ba668f7ff34e7cdfa9561e8361747738113878850a7d717dbc69de8683aaad.c7efaa30a0d80b2958b876969faa180e485944a849deee4ad482332de65365a7\n",
      "All model checkpoint weights were used when initializing RobertaForMaskedLM.\n",
      "\n",
      "All the weights of RobertaForMaskedLM were initialized from the model checkpoint at roberta-base.\n",
      "If your task is similar to the task the model of the checkpoint was trained on, you can already use RobertaForMaskedLM for predictions without further training.\n",
      "PyTorch: setting up devices\n",
      "The default value for the training argument `--report_to` will change in v5 (from all installed integrations to none). In v5, you will need to use `--report_to all` to get the same behavior as now. You should start updating your code and make this info disappear :-).\n"
     ]
    }
   ],
   "source": [
    "# Define Tokenizer and Model\n",
    "\n",
    "#Training Arguments - Pass training arguments and define trainer\n",
    "model_dir='/content/drive/MyDrive/FinLitQA/model/flm/' \n",
    "model_n = model_checkpoint2.split(\"/\")[-1] \n",
    "model_suffix = \"-flm\" \n",
    "model_name = f\"{model_n}{model_suffix}\"\n",
    "\n",
    "print (model_dir, model_name)\n",
    "\n",
    "# Tokenizer is defined here\n",
    "tokenizer = AutoTokenizer.from_pretrained(model_checkpoint2, use_fast=True)\n",
    "model = AutoModelForMaskedLM.from_pretrained(model_checkpoint2)\n",
    "\n",
    "# Create language modeling datasets\n",
    "finlit_tokenized = finlit_chunked.map(tokenize_function, batched=True, num_proc=4, remove_columns=[\"chunks\"])\n",
    "\n",
    "lm_datasets = finlit_tokenized.map(group_texts, batched=True, batch_size=1000, num_proc=4)\n",
    "\n",
    "# trainer is defined here \n",
    "trainer = trainer_from_args(model_dir, model_name, model, tokenizer, lm_datasets)"
   ]
  },
  {
   "cell_type": "code",
   "execution_count": 99,
   "metadata": {
    "colab": {
     "base_uri": "https://localhost:8080/",
     "height": 1000
    },
    "executionInfo": {
     "elapsed": 1185577,
     "status": "ok",
     "timestamp": 1639154211805,
     "user": {
      "displayName": "vanadhi chelliah",
      "photoUrl": "https://lh3.googleusercontent.com/a/default-user=s64",
      "userId": "11158136158943693689"
     },
     "user_tz": -330
    },
    "id": "OPF6-0gJmbKp",
    "outputId": "a4a2b237-c2f0-40cf-aa75-72f1f9354251"
   },
   "outputs": [
    {
     "name": "stderr",
     "output_type": "stream",
     "text": [
      "***** Running training *****\n",
      "  Num examples = 5750\n",
      "  Num Epochs = 10\n",
      "  Instantaneous batch size per device = 16\n",
      "  Total train batch size (w. parallel, distributed & accumulation) = 16\n",
      "  Gradient Accumulation steps = 1\n",
      "  Total optimization steps = 3600\n"
     ]
    },
    {
     "data": {
      "text/html": [
       "\n",
       "    <div>\n",
       "      \n",
       "      <progress value='3600' max='3600' style='width:300px; height:20px; vertical-align: middle;'></progress>\n",
       "      [3600/3600 19:36, Epoch 10/10]\n",
       "    </div>\n",
       "    <table border=\"1\" class=\"dataframe\">\n",
       "  <thead>\n",
       "    <tr style=\"text-align: left;\">\n",
       "      <th>Step</th>\n",
       "      <th>Training Loss</th>\n",
       "      <th>Validation Loss</th>\n",
       "    </tr>\n",
       "  </thead>\n",
       "  <tbody>\n",
       "    <tr>\n",
       "      <td>500</td>\n",
       "      <td>2.127600</td>\n",
       "      <td>1.930451</td>\n",
       "    </tr>\n",
       "    <tr>\n",
       "      <td>1000</td>\n",
       "      <td>1.946300</td>\n",
       "      <td>1.801022</td>\n",
       "    </tr>\n",
       "    <tr>\n",
       "      <td>1500</td>\n",
       "      <td>1.826800</td>\n",
       "      <td>1.773836</td>\n",
       "    </tr>\n",
       "    <tr>\n",
       "      <td>2000</td>\n",
       "      <td>1.762400</td>\n",
       "      <td>1.714935</td>\n",
       "    </tr>\n",
       "    <tr>\n",
       "      <td>2500</td>\n",
       "      <td>1.712100</td>\n",
       "      <td>1.653764</td>\n",
       "    </tr>\n",
       "    <tr>\n",
       "      <td>3000</td>\n",
       "      <td>1.681500</td>\n",
       "      <td>1.691740</td>\n",
       "    </tr>\n",
       "    <tr>\n",
       "      <td>3500</td>\n",
       "      <td>1.658600</td>\n",
       "      <td>1.659812</td>\n",
       "    </tr>\n",
       "  </tbody>\n",
       "</table><p>"
      ],
      "text/plain": [
       "<IPython.core.display.HTML object>"
      ]
     },
     "metadata": {},
     "output_type": "display_data"
    },
    {
     "name": "stderr",
     "output_type": "stream",
     "text": [
      "***** Running Evaluation *****\n",
      "  Num examples = 1442\n",
      "  Batch size = 12\n",
      "Saving model checkpoint to /content/drive/MyDrive/FinLitQA/model/flm/roberta-base-flm/checkpoint-500\n",
      "Configuration saved in /content/drive/MyDrive/FinLitQA/model/flm/roberta-base-flm/checkpoint-500/config.json\n",
      "Model weights saved in /content/drive/MyDrive/FinLitQA/model/flm/roberta-base-flm/checkpoint-500/pytorch_model.bin\n",
      "tokenizer config file saved in /content/drive/MyDrive/FinLitQA/model/flm/roberta-base-flm/checkpoint-500/tokenizer_config.json\n",
      "Special tokens file saved in /content/drive/MyDrive/FinLitQA/model/flm/roberta-base-flm/checkpoint-500/special_tokens_map.json\n",
      "***** Running Evaluation *****\n",
      "  Num examples = 1442\n",
      "  Batch size = 12\n",
      "Saving model checkpoint to /content/drive/MyDrive/FinLitQA/model/flm/roberta-base-flm/checkpoint-1000\n",
      "Configuration saved in /content/drive/MyDrive/FinLitQA/model/flm/roberta-base-flm/checkpoint-1000/config.json\n",
      "Model weights saved in /content/drive/MyDrive/FinLitQA/model/flm/roberta-base-flm/checkpoint-1000/pytorch_model.bin\n",
      "tokenizer config file saved in /content/drive/MyDrive/FinLitQA/model/flm/roberta-base-flm/checkpoint-1000/tokenizer_config.json\n",
      "Special tokens file saved in /content/drive/MyDrive/FinLitQA/model/flm/roberta-base-flm/checkpoint-1000/special_tokens_map.json\n",
      "***** Running Evaluation *****\n",
      "  Num examples = 1442\n",
      "  Batch size = 12\n",
      "Saving model checkpoint to /content/drive/MyDrive/FinLitQA/model/flm/roberta-base-flm/checkpoint-1500\n",
      "Configuration saved in /content/drive/MyDrive/FinLitQA/model/flm/roberta-base-flm/checkpoint-1500/config.json\n",
      "Model weights saved in /content/drive/MyDrive/FinLitQA/model/flm/roberta-base-flm/checkpoint-1500/pytorch_model.bin\n",
      "tokenizer config file saved in /content/drive/MyDrive/FinLitQA/model/flm/roberta-base-flm/checkpoint-1500/tokenizer_config.json\n",
      "Special tokens file saved in /content/drive/MyDrive/FinLitQA/model/flm/roberta-base-flm/checkpoint-1500/special_tokens_map.json\n",
      "***** Running Evaluation *****\n",
      "  Num examples = 1442\n",
      "  Batch size = 12\n",
      "Saving model checkpoint to /content/drive/MyDrive/FinLitQA/model/flm/roberta-base-flm/checkpoint-2000\n",
      "Configuration saved in /content/drive/MyDrive/FinLitQA/model/flm/roberta-base-flm/checkpoint-2000/config.json\n",
      "Model weights saved in /content/drive/MyDrive/FinLitQA/model/flm/roberta-base-flm/checkpoint-2000/pytorch_model.bin\n",
      "tokenizer config file saved in /content/drive/MyDrive/FinLitQA/model/flm/roberta-base-flm/checkpoint-2000/tokenizer_config.json\n",
      "Special tokens file saved in /content/drive/MyDrive/FinLitQA/model/flm/roberta-base-flm/checkpoint-2000/special_tokens_map.json\n",
      "***** Running Evaluation *****\n",
      "  Num examples = 1442\n",
      "  Batch size = 12\n",
      "Saving model checkpoint to /content/drive/MyDrive/FinLitQA/model/flm/roberta-base-flm/checkpoint-2500\n",
      "Configuration saved in /content/drive/MyDrive/FinLitQA/model/flm/roberta-base-flm/checkpoint-2500/config.json\n",
      "Model weights saved in /content/drive/MyDrive/FinLitQA/model/flm/roberta-base-flm/checkpoint-2500/pytorch_model.bin\n",
      "tokenizer config file saved in /content/drive/MyDrive/FinLitQA/model/flm/roberta-base-flm/checkpoint-2500/tokenizer_config.json\n",
      "Special tokens file saved in /content/drive/MyDrive/FinLitQA/model/flm/roberta-base-flm/checkpoint-2500/special_tokens_map.json\n",
      "***** Running Evaluation *****\n",
      "  Num examples = 1442\n",
      "  Batch size = 12\n",
      "Saving model checkpoint to /content/drive/MyDrive/FinLitQA/model/flm/roberta-base-flm/checkpoint-3000\n",
      "Configuration saved in /content/drive/MyDrive/FinLitQA/model/flm/roberta-base-flm/checkpoint-3000/config.json\n",
      "Model weights saved in /content/drive/MyDrive/FinLitQA/model/flm/roberta-base-flm/checkpoint-3000/pytorch_model.bin\n",
      "tokenizer config file saved in /content/drive/MyDrive/FinLitQA/model/flm/roberta-base-flm/checkpoint-3000/tokenizer_config.json\n",
      "Special tokens file saved in /content/drive/MyDrive/FinLitQA/model/flm/roberta-base-flm/checkpoint-3000/special_tokens_map.json\n",
      "***** Running Evaluation *****\n",
      "  Num examples = 1442\n",
      "  Batch size = 12\n",
      "Saving model checkpoint to /content/drive/MyDrive/FinLitQA/model/flm/roberta-base-flm/checkpoint-3500\n",
      "Configuration saved in /content/drive/MyDrive/FinLitQA/model/flm/roberta-base-flm/checkpoint-3500/config.json\n",
      "Model weights saved in /content/drive/MyDrive/FinLitQA/model/flm/roberta-base-flm/checkpoint-3500/pytorch_model.bin\n",
      "tokenizer config file saved in /content/drive/MyDrive/FinLitQA/model/flm/roberta-base-flm/checkpoint-3500/tokenizer_config.json\n",
      "Special tokens file saved in /content/drive/MyDrive/FinLitQA/model/flm/roberta-base-flm/checkpoint-3500/special_tokens_map.json\n",
      "\n",
      "\n",
      "Training completed. Do not forget to share your model on huggingface.co/models =)\n",
      "\n",
      "\n",
      "Loading best model from /content/drive/MyDrive/FinLitQA/model/flm/roberta-base-flm/checkpoint-2500 (score: 1.653764247894287).\n",
      "***** Running Evaluation *****\n",
      "  Num examples = 1442\n",
      "  Batch size = 12\n"
     ]
    },
    {
     "data": {
      "text/html": [
       "\n",
       "    <div>\n",
       "      \n",
       "      <progress value='121' max='121' style='width:300px; height:20px; vertical-align: middle;'></progress>\n",
       "      [121/121 00:08]\n",
       "    </div>\n",
       "    "
      ],
      "text/plain": [
       "<IPython.core.display.HTML object>"
      ]
     },
     "metadata": {},
     "output_type": "display_data"
    },
    {
     "name": "stdout",
     "output_type": "stream",
     "text": [
      "Perplexity: 5.41\n",
      "CPU times: user 18min 42s, sys: 24.9 s, total: 19min 7s\n",
      "Wall time: 19min 45s\n"
     ]
    }
   ],
   "source": [
    "%%time\n",
    "trainer.train()\n",
    "\n",
    "# Evaluate and check Perplexity\n",
    "eval_results = trainer.evaluate()\n",
    "print(f\"Perplexity: {math.exp(eval_results['eval_loss']):.2f}\")"
   ]
  },
  {
   "cell_type": "code",
   "execution_count": 100,
   "metadata": {
    "colab": {
     "base_uri": "https://localhost:8080/",
     "height": 285
    },
    "executionInfo": {
     "elapsed": 18112,
     "status": "ok",
     "timestamp": 1639155009729,
     "user": {
      "displayName": "vanadhi chelliah",
      "photoUrl": "https://lh3.googleusercontent.com/a/default-user=s64",
      "userId": "11158136158943693689"
     },
     "user_tz": -330
    },
    "id": "pbHft1GsQp4R",
    "outputId": "1c49cf65-8a03-432e-b6e6-7943a5e39559"
   },
   "outputs": [
    {
     "name": "stderr",
     "output_type": "stream",
     "text": [
      "Saving model checkpoint to /content/drive/MyDrive/FinLitQA/model/flm_final/roberta-base-flm/\n",
      "Configuration saved in /content/drive/MyDrive/FinLitQA/model/flm_final/roberta-base-flm/config.json\n",
      "Model weights saved in /content/drive/MyDrive/FinLitQA/model/flm_final/roberta-base-flm/pytorch_model.bin\n",
      "tokenizer config file saved in /content/drive/MyDrive/FinLitQA/model/flm_final/roberta-base-flm/tokenizer_config.json\n",
      "Special tokens file saved in /content/drive/MyDrive/FinLitQA/model/flm_final/roberta-base-flm/special_tokens_map.json\n",
      "***** Running Evaluation *****\n",
      "  Num examples = 1442\n",
      "  Batch size = 12\n"
     ]
    },
    {
     "data": {
      "text/html": [
       "\n",
       "    <div>\n",
       "      \n",
       "      <progress value='242' max='121' style='width:300px; height:20px; vertical-align: middle;'></progress>\n",
       "      [121/121 13:26]\n",
       "    </div>\n",
       "    "
      ],
      "text/plain": [
       "<IPython.core.display.HTML object>"
      ]
     },
     "metadata": {},
     "output_type": "display_data"
    },
    {
     "name": "stdout",
     "output_type": "stream",
     "text": [
      "{'eval_loss': 1.6454335451126099, 'eval_runtime': 8.2811, 'eval_samples_per_second': 174.131, 'eval_steps_per_second': 14.612, 'epoch': 10.0}\n",
      "Perplexity: 5.18\n"
     ]
    },
    {
     "data": {
      "text/html": [
       "<div>\n",
       "<style scoped>\n",
       "    .dataframe tbody tr th:only-of-type {\n",
       "        vertical-align: middle;\n",
       "    }\n",
       "\n",
       "    .dataframe tbody tr th {\n",
       "        vertical-align: top;\n",
       "    }\n",
       "\n",
       "    .dataframe thead th {\n",
       "        text-align: right;\n",
       "    }\n",
       "</style>\n",
       "<table border=\"1\" class=\"dataframe\">\n",
       "  <thead>\n",
       "    <tr style=\"text-align: right;\">\n",
       "      <th></th>\n",
       "      <th>index</th>\n",
       "      <th>eval_loss</th>\n",
       "      <th>eval_runtime</th>\n",
       "      <th>eval_samples_per_second</th>\n",
       "      <th>eval_steps_per_second</th>\n",
       "      <th>epoch</th>\n",
       "      <th>Perplexity</th>\n",
       "    </tr>\n",
       "  </thead>\n",
       "  <tbody>\n",
       "    <tr>\n",
       "      <th>0</th>\n",
       "      <td>roberta-base-flm</td>\n",
       "      <td>1.645434</td>\n",
       "      <td>8.2811</td>\n",
       "      <td>174.131</td>\n",
       "      <td>14.612</td>\n",
       "      <td>10.0</td>\n",
       "      <td>5.18</td>\n",
       "    </tr>\n",
       "  </tbody>\n",
       "</table>\n",
       "</div>"
      ],
      "text/plain": [
       "              index  eval_loss  ...  epoch  Perplexity\n",
       "0  roberta-base-flm   1.645434  ...   10.0        5.18\n",
       "\n",
       "[1 rows x 7 columns]"
      ]
     },
     "execution_count": 100,
     "metadata": {},
     "output_type": "execute_result"
    }
   ],
   "source": [
    "# Save the model\n",
    "\n",
    "save_path_model2 = \"/content/drive/MyDrive/FinLitQA/model/flm_final/roberta-base-flm/\"\n",
    "trainer.save_model(save_path_model2)\n",
    "\n",
    "# Evaluate the trainer and consolidate the results\n",
    "# Calculate and add Perplexity to the evaluation results\n",
    "\n",
    "evaluate_trainer(trainer, model_name)"
   ]
  },
  {
   "cell_type": "code",
   "execution_count": 101,
   "metadata": {
    "colab": {
     "base_uri": "https://localhost:8080/",
     "height": 851
    },
    "executionInfo": {
     "elapsed": 11188,
     "status": "ok",
     "timestamp": 1639155034925,
     "user": {
      "displayName": "vanadhi chelliah",
      "photoUrl": "https://lh3.googleusercontent.com/a/default-user=s64",
      "userId": "11158136158943693689"
     },
     "user_tz": -330
    },
    "id": "8YNKZ5wu8rie",
    "outputId": "cdbccf1f-0eb0-4e0f-c830-7936a494bf08"
   },
   "outputs": [
    {
     "name": "stderr",
     "output_type": "stream",
     "text": [
      "loading configuration file /content/drive/MyDrive/FinLitQA/model/flm_final/roberta-base-flm/config.json\n",
      "Model config RobertaConfig {\n",
      "  \"_name_or_path\": \"/content/drive/MyDrive/FinLitQA/model/flm_final/roberta-base-flm/\",\n",
      "  \"architectures\": [\n",
      "    \"RobertaForMaskedLM\"\n",
      "  ],\n",
      "  \"attention_probs_dropout_prob\": 0.1,\n",
      "  \"bos_token_id\": 0,\n",
      "  \"classifier_dropout\": null,\n",
      "  \"eos_token_id\": 2,\n",
      "  \"hidden_act\": \"gelu\",\n",
      "  \"hidden_dropout_prob\": 0.1,\n",
      "  \"hidden_size\": 768,\n",
      "  \"initializer_range\": 0.02,\n",
      "  \"intermediate_size\": 3072,\n",
      "  \"layer_norm_eps\": 1e-05,\n",
      "  \"max_position_embeddings\": 514,\n",
      "  \"model_type\": \"roberta\",\n",
      "  \"num_attention_heads\": 12,\n",
      "  \"num_hidden_layers\": 12,\n",
      "  \"pad_token_id\": 1,\n",
      "  \"position_embedding_type\": \"absolute\",\n",
      "  \"torch_dtype\": \"float32\",\n",
      "  \"transformers_version\": \"4.13.0\",\n",
      "  \"type_vocab_size\": 1,\n",
      "  \"use_cache\": true,\n",
      "  \"vocab_size\": 50265\n",
      "}\n",
      "\n",
      "loading weights file /content/drive/MyDrive/FinLitQA/model/flm_final/roberta-base-flm/pytorch_model.bin\n",
      "All model checkpoint weights were used when initializing RobertaForMaskedLM.\n",
      "\n",
      "All the weights of RobertaForMaskedLM were initialized from the model checkpoint at /content/drive/MyDrive/FinLitQA/model/flm_final/roberta-base-flm/.\n",
      "If your task is similar to the task the model of the checkpoint was trained on, you can already use RobertaForMaskedLM for predictions without further training.\n",
      "***** Running Evaluation *****\n",
      "  Num examples = 1442\n",
      "  Batch size = 12\n"
     ]
    },
    {
     "data": {
      "text/html": [
       "\n",
       "    <div>\n",
       "      \n",
       "      <progress value='363' max='121' style='width:300px; height:20px; vertical-align: middle;'></progress>\n",
       "      [121/121 13:51]\n",
       "    </div>\n",
       "    "
      ],
      "text/plain": [
       "<IPython.core.display.HTML object>"
      ]
     },
     "metadata": {},
     "output_type": "display_data"
    },
    {
     "data": {
      "text/plain": [
       "({'epoch': 10.0,\n",
       "  'eval_loss': 1.684234380722046,\n",
       "  'eval_runtime': 8.2468,\n",
       "  'eval_samples_per_second': 174.855,\n",
       "  'eval_steps_per_second': 14.672},\n",
       " '5.39')"
      ]
     },
     "execution_count": 101,
     "metadata": {},
     "output_type": "execute_result"
    }
   ],
   "source": [
    "# Reload model and check\n",
    "model = AutoModelForMaskedLM.from_pretrained(save_path_model2, local_files_only=True)\n",
    "trainer.model = model.cuda()\n",
    "\n",
    "# Evaluate and check\n",
    "eval_results = trainer.evaluate()\n",
    "eval_results, f\"{math.exp(eval_results['eval_loss']):.2f}\""
   ]
  },
  {
   "cell_type": "code",
   "execution_count": 102,
   "metadata": {
    "colab": {
     "base_uri": "https://localhost:8080/",
     "height": 112
    },
    "executionInfo": {
     "elapsed": 607,
     "status": "ok",
     "timestamp": 1639155035504,
     "user": {
      "displayName": "vanadhi chelliah",
      "photoUrl": "https://lh3.googleusercontent.com/a/default-user=s64",
      "userId": "11158136158943693689"
     },
     "user_tz": -330
    },
    "id": "YoF7KxmgQ10l",
    "outputId": "3d7e470b-31a2-4d37-f7d9-e9b920bf51d4"
   },
   "outputs": [
    {
     "data": {
      "text/html": [
       "<div>\n",
       "<style scoped>\n",
       "    .dataframe tbody tr th:only-of-type {\n",
       "        vertical-align: middle;\n",
       "    }\n",
       "\n",
       "    .dataframe tbody tr th {\n",
       "        vertical-align: top;\n",
       "    }\n",
       "\n",
       "    .dataframe thead th {\n",
       "        text-align: right;\n",
       "    }\n",
       "</style>\n",
       "<table border=\"1\" class=\"dataframe\">\n",
       "  <thead>\n",
       "    <tr style=\"text-align: right;\">\n",
       "      <th></th>\n",
       "      <th>index</th>\n",
       "      <th>eval_loss</th>\n",
       "      <th>eval_runtime</th>\n",
       "      <th>eval_samples_per_second</th>\n",
       "      <th>eval_steps_per_second</th>\n",
       "      <th>epoch</th>\n",
       "      <th>Perplexity</th>\n",
       "    </tr>\n",
       "  </thead>\n",
       "  <tbody>\n",
       "    <tr>\n",
       "      <th>0</th>\n",
       "      <td>bert-base-uncased-flm</td>\n",
       "      <td>2.027018</td>\n",
       "      <td>7.7529</td>\n",
       "      <td>195.540</td>\n",
       "      <td>16.381</td>\n",
       "      <td>5.0</td>\n",
       "      <td>7.59</td>\n",
       "    </tr>\n",
       "    <tr>\n",
       "      <th>1</th>\n",
       "      <td>roberta-base-flm</td>\n",
       "      <td>1.645434</td>\n",
       "      <td>8.2811</td>\n",
       "      <td>174.131</td>\n",
       "      <td>14.612</td>\n",
       "      <td>10.0</td>\n",
       "      <td>5.18</td>\n",
       "    </tr>\n",
       "  </tbody>\n",
       "</table>\n",
       "</div>"
      ],
      "text/plain": [
       "                   index  eval_loss  ...  epoch  Perplexity\n",
       "0  bert-base-uncased-flm   2.027018  ...    5.0        7.59\n",
       "1       roberta-base-flm   1.645434  ...   10.0        5.18\n",
       "\n",
       "[2 rows x 7 columns]"
      ]
     },
     "execution_count": 102,
     "metadata": {},
     "output_type": "execute_result"
    }
   ],
   "source": [
    "df_lmtrain_summary"
   ]
  },
  {
   "cell_type": "markdown",
   "metadata": {
    "id": "ri5Ta53XmbKq"
   },
   "source": [
    "## Model 3 - \"ProsusAI/finbert\""
   ]
  },
  {
   "cell_type": "code",
   "execution_count": 103,
   "metadata": {
    "executionInfo": {
     "elapsed": 418,
     "status": "ok",
     "timestamp": 1639155052226,
     "user": {
      "displayName": "vanadhi chelliah",
      "photoUrl": "https://lh3.googleusercontent.com/a/default-user=s64",
      "userId": "11158136158943693689"
     },
     "user_tz": -330
    },
    "id": "nQz9Rz7embKr"
   },
   "outputs": [],
   "source": [
    "# model_checkpoint3 \n",
    "\n",
    "model_checkpoint3 = \"ProsusAI/finbert\""
   ]
  },
  {
   "cell_type": "code",
   "execution_count": 104,
   "metadata": {
    "colab": {
     "base_uri": "https://localhost:8080/",
     "height": 1000,
     "referenced_widgets": [
      "3fde0109f6b948349d792dbd4f7c9ab5",
      "a062df8232f847bc8037714a8b4d0ed2",
      "29d29c4059154978ad4238619d90b23e",
      "5446c184f5db47fc85703e7153b171b0",
      "73b664a7b279404bb846af18b4f0da0a",
      "c0e44a66ee00432a967982317a979334",
      "d2bade47fa87408dbd832387e3505a74",
      "4698c7e443bd47988acc6a743a65ac0a",
      "5055494d265b462b83bdec5f997cd939",
      "de2bde30e62546de9ecbb259359b1166",
      "d0222e58b65b4c7a8ba641630495918a",
      "a17c3081eee4489a96c5b0b2694ec062",
      "6fea6f3833bc4b8186cdf7e5fe2f362d",
      "c47b9234a5f24a3483f1b99560d7d7d7",
      "8e0c1c0bc8c44904bc07bb2304751160",
      "1653c99ac03344a1b1ce7e17d2172379",
      "0c9cad5123554116b599ab95c4dd98c9",
      "82f5c667850b482d97f820b8ac601ce7",
      "b1e9ad4046af4af2b59e3709287f7823",
      "e7056d3e87db47ae99bce49fc8e1da16",
      "d77d22cac7eb4c89821bc0028c716dae",
      "3a32f56721ec4948925fcde77bc5d341",
      "704bea5a0e084c5a8264ac9e60e1aec2",
      "403fa0df41e349d48bcae4c3eacc4197",
      "6ca07146a3f843b4a43d5d17d31f09fe",
      "a7c38a2b518043a7bd9b50541b983333",
      "a6ce9ae8143b498abf96642797f185b5",
      "65ee97e6d86c4dcab61192316f5756ed",
      "6499232227764644a5a266c36a83b3dc",
      "2d2fa6922b4746f189887ad768a7e420",
      "64f7a83793414108945415b40dd029e6",
      "3f97b01bea5743a59a3eece8eda818fd",
      "a45748eed3934fc091dc2d422ca91f1a",
      "b48f53e77734409392a9a65172a1f845",
      "639a1af57780405eab5cade9bab9d14a",
      "c5257fe896964050ad1fd076a6bd0357",
      "b116cfcd9bb6444fad9eed9b067268a5",
      "993d6415c2b44a5aaca0b042b8baf888",
      "106b10febc284473838dff508396d4f8",
      "3df3de35ea7c409db18028224e895043",
      "55093766f796492aa47e9f5a63c69076",
      "b223c82c07f643d885ff19b996499791",
      "ab56bc87197e43829cb3c5db2812124c",
      "0574fbe6df2344e59907e1b47f22facb",
      "f82fef08a8d64ca998e9bc89ce001cb3",
      "aeb509cf46664b6b9daa17f4a64d5fe4",
      "55aa172aae91459799cc4eaf59f25d7d",
      "e25ca9e2e8ab443ab8f3abdefe752776",
      "938179c29cd94b0c83ef852b30e79114",
      "564e6a3f26ad43849ea7973cbb3bda8a",
      "7f4f30b192a2454aa772255207317abf",
      "7591b881ca134c8c8d9213172e2bb915",
      "221afb1800884c86a76b6bdb78ec9ae7",
      "92eaa05f076448c9b1a04c3065ce508a",
      "167408fcf87d4ddebcd814b4c7081ce0"
     ]
    },
    "executionInfo": {
     "elapsed": 32597,
     "status": "ok",
     "timestamp": 1639155086370,
     "user": {
      "displayName": "vanadhi chelliah",
      "photoUrl": "https://lh3.googleusercontent.com/a/default-user=s64",
      "userId": "11158136158943693689"
     },
     "user_tz": -330
    },
    "id": "A_aaP6QKTXNR",
    "outputId": "e77ff7f6-a9d6-41df-f91f-9c04c921f64a"
   },
   "outputs": [
    {
     "name": "stdout",
     "output_type": "stream",
     "text": [
      "/content/drive/MyDrive/FinLitQA/model/flm/ finbert-flm\n"
     ]
    },
    {
     "name": "stderr",
     "output_type": "stream",
     "text": [
      "https://huggingface.co/ProsusAI/finbert/resolve/main/tokenizer_config.json not found in cache or force_download set to True, downloading to /root/.cache/huggingface/transformers/tmpo77fo3w7\n"
     ]
    },
    {
     "data": {
      "application/vnd.jupyter.widget-view+json": {
       "model_id": "3fde0109f6b948349d792dbd4f7c9ab5",
       "version_major": 2,
       "version_minor": 0
      },
      "text/plain": [
       "Downloading:   0%|          | 0.00/252 [00:00<?, ?B/s]"
      ]
     },
     "metadata": {},
     "output_type": "display_data"
    },
    {
     "name": "stderr",
     "output_type": "stream",
     "text": [
      "storing https://huggingface.co/ProsusAI/finbert/resolve/main/tokenizer_config.json in cache at /root/.cache/huggingface/transformers/e3709a60694f45adca209a405cc69ce2b5d47b1cae60696ed9a901426be8c43d.8b6dccc90d16201c6d7ab0f3c6cc38e74b5f2fe587f6efadc9fa71fc0a00c606\n",
      "creating metadata file for /root/.cache/huggingface/transformers/e3709a60694f45adca209a405cc69ce2b5d47b1cae60696ed9a901426be8c43d.8b6dccc90d16201c6d7ab0f3c6cc38e74b5f2fe587f6efadc9fa71fc0a00c606\n",
      "https://huggingface.co/ProsusAI/finbert/resolve/main/config.json not found in cache or force_download set to True, downloading to /root/.cache/huggingface/transformers/tmpli4pfd_o\n"
     ]
    },
    {
     "data": {
      "application/vnd.jupyter.widget-view+json": {
       "model_id": "a17c3081eee4489a96c5b0b2694ec062",
       "version_major": 2,
       "version_minor": 0
      },
      "text/plain": [
       "Downloading:   0%|          | 0.00/758 [00:00<?, ?B/s]"
      ]
     },
     "metadata": {},
     "output_type": "display_data"
    },
    {
     "name": "stderr",
     "output_type": "stream",
     "text": [
      "storing https://huggingface.co/ProsusAI/finbert/resolve/main/config.json in cache at /root/.cache/huggingface/transformers/2120f4f96b5830e5a91fe94d242471b0133b0976c8d6e081594ab837ac5f17bc.ef97278c578016c8bb785f15296476b12eae86423097fed78719d1c8197a3430\n",
      "creating metadata file for /root/.cache/huggingface/transformers/2120f4f96b5830e5a91fe94d242471b0133b0976c8d6e081594ab837ac5f17bc.ef97278c578016c8bb785f15296476b12eae86423097fed78719d1c8197a3430\n",
      "loading configuration file https://huggingface.co/ProsusAI/finbert/resolve/main/config.json from cache at /root/.cache/huggingface/transformers/2120f4f96b5830e5a91fe94d242471b0133b0976c8d6e081594ab837ac5f17bc.ef97278c578016c8bb785f15296476b12eae86423097fed78719d1c8197a3430\n",
      "Model config BertConfig {\n",
      "  \"_name_or_path\": \"ProsusAI/finbert\",\n",
      "  \"architectures\": [\n",
      "    \"BertForSequenceClassification\"\n",
      "  ],\n",
      "  \"attention_probs_dropout_prob\": 0.1,\n",
      "  \"classifier_dropout\": null,\n",
      "  \"gradient_checkpointing\": false,\n",
      "  \"hidden_act\": \"gelu\",\n",
      "  \"hidden_dropout_prob\": 0.1,\n",
      "  \"hidden_size\": 768,\n",
      "  \"id2label\": {\n",
      "    \"0\": \"positive\",\n",
      "    \"1\": \"negative\",\n",
      "    \"2\": \"neutral\"\n",
      "  },\n",
      "  \"initializer_range\": 0.02,\n",
      "  \"intermediate_size\": 3072,\n",
      "  \"label2id\": {\n",
      "    \"negative\": 1,\n",
      "    \"neutral\": 2,\n",
      "    \"positive\": 0\n",
      "  },\n",
      "  \"layer_norm_eps\": 1e-12,\n",
      "  \"max_position_embeddings\": 512,\n",
      "  \"model_type\": \"bert\",\n",
      "  \"num_attention_heads\": 12,\n",
      "  \"num_hidden_layers\": 12,\n",
      "  \"pad_token_id\": 0,\n",
      "  \"position_embedding_type\": \"absolute\",\n",
      "  \"transformers_version\": \"4.13.0\",\n",
      "  \"type_vocab_size\": 2,\n",
      "  \"use_cache\": true,\n",
      "  \"vocab_size\": 30522\n",
      "}\n",
      "\n",
      "https://huggingface.co/ProsusAI/finbert/resolve/main/vocab.txt not found in cache or force_download set to True, downloading to /root/.cache/huggingface/transformers/tmp6d7t0ib0\n"
     ]
    },
    {
     "data": {
      "application/vnd.jupyter.widget-view+json": {
       "model_id": "704bea5a0e084c5a8264ac9e60e1aec2",
       "version_major": 2,
       "version_minor": 0
      },
      "text/plain": [
       "Downloading:   0%|          | 0.00/226k [00:00<?, ?B/s]"
      ]
     },
     "metadata": {},
     "output_type": "display_data"
    },
    {
     "name": "stderr",
     "output_type": "stream",
     "text": [
      "storing https://huggingface.co/ProsusAI/finbert/resolve/main/vocab.txt in cache at /root/.cache/huggingface/transformers/a5b1a5451c9cf1702eec1072ac325d4af10e675a654628eab453b8cba2c6b111.d789d64ebfe299b0e416afc4a169632f903f693095b4629a7ea271d5a0cf2c99\n",
      "creating metadata file for /root/.cache/huggingface/transformers/a5b1a5451c9cf1702eec1072ac325d4af10e675a654628eab453b8cba2c6b111.d789d64ebfe299b0e416afc4a169632f903f693095b4629a7ea271d5a0cf2c99\n",
      "https://huggingface.co/ProsusAI/finbert/resolve/main/special_tokens_map.json not found in cache or force_download set to True, downloading to /root/.cache/huggingface/transformers/tmpq2bibrzc\n"
     ]
    },
    {
     "data": {
      "application/vnd.jupyter.widget-view+json": {
       "model_id": "b48f53e77734409392a9a65172a1f845",
       "version_major": 2,
       "version_minor": 0
      },
      "text/plain": [
       "Downloading:   0%|          | 0.00/112 [00:00<?, ?B/s]"
      ]
     },
     "metadata": {},
     "output_type": "display_data"
    },
    {
     "name": "stderr",
     "output_type": "stream",
     "text": [
      "storing https://huggingface.co/ProsusAI/finbert/resolve/main/special_tokens_map.json in cache at /root/.cache/huggingface/transformers/4c21e8896b03f68c2e028133cf579267c62aba9de03a704a0845704e58eefe9e.dd8bd9bfd3664b530ea4e645105f557769387b3da9f79bdb55ed556bdd80611d\n",
      "creating metadata file for /root/.cache/huggingface/transformers/4c21e8896b03f68c2e028133cf579267c62aba9de03a704a0845704e58eefe9e.dd8bd9bfd3664b530ea4e645105f557769387b3da9f79bdb55ed556bdd80611d\n",
      "loading file https://huggingface.co/ProsusAI/finbert/resolve/main/vocab.txt from cache at /root/.cache/huggingface/transformers/a5b1a5451c9cf1702eec1072ac325d4af10e675a654628eab453b8cba2c6b111.d789d64ebfe299b0e416afc4a169632f903f693095b4629a7ea271d5a0cf2c99\n",
      "loading file https://huggingface.co/ProsusAI/finbert/resolve/main/tokenizer.json from cache at None\n",
      "loading file https://huggingface.co/ProsusAI/finbert/resolve/main/added_tokens.json from cache at None\n",
      "loading file https://huggingface.co/ProsusAI/finbert/resolve/main/special_tokens_map.json from cache at /root/.cache/huggingface/transformers/4c21e8896b03f68c2e028133cf579267c62aba9de03a704a0845704e58eefe9e.dd8bd9bfd3664b530ea4e645105f557769387b3da9f79bdb55ed556bdd80611d\n",
      "loading file https://huggingface.co/ProsusAI/finbert/resolve/main/tokenizer_config.json from cache at /root/.cache/huggingface/transformers/e3709a60694f45adca209a405cc69ce2b5d47b1cae60696ed9a901426be8c43d.8b6dccc90d16201c6d7ab0f3c6cc38e74b5f2fe587f6efadc9fa71fc0a00c606\n",
      "loading configuration file https://huggingface.co/ProsusAI/finbert/resolve/main/config.json from cache at /root/.cache/huggingface/transformers/2120f4f96b5830e5a91fe94d242471b0133b0976c8d6e081594ab837ac5f17bc.ef97278c578016c8bb785f15296476b12eae86423097fed78719d1c8197a3430\n",
      "Model config BertConfig {\n",
      "  \"_name_or_path\": \"ProsusAI/finbert\",\n",
      "  \"architectures\": [\n",
      "    \"BertForSequenceClassification\"\n",
      "  ],\n",
      "  \"attention_probs_dropout_prob\": 0.1,\n",
      "  \"classifier_dropout\": null,\n",
      "  \"gradient_checkpointing\": false,\n",
      "  \"hidden_act\": \"gelu\",\n",
      "  \"hidden_dropout_prob\": 0.1,\n",
      "  \"hidden_size\": 768,\n",
      "  \"id2label\": {\n",
      "    \"0\": \"positive\",\n",
      "    \"1\": \"negative\",\n",
      "    \"2\": \"neutral\"\n",
      "  },\n",
      "  \"initializer_range\": 0.02,\n",
      "  \"intermediate_size\": 3072,\n",
      "  \"label2id\": {\n",
      "    \"negative\": 1,\n",
      "    \"neutral\": 2,\n",
      "    \"positive\": 0\n",
      "  },\n",
      "  \"layer_norm_eps\": 1e-12,\n",
      "  \"max_position_embeddings\": 512,\n",
      "  \"model_type\": \"bert\",\n",
      "  \"num_attention_heads\": 12,\n",
      "  \"num_hidden_layers\": 12,\n",
      "  \"pad_token_id\": 0,\n",
      "  \"position_embedding_type\": \"absolute\",\n",
      "  \"transformers_version\": \"4.13.0\",\n",
      "  \"type_vocab_size\": 2,\n",
      "  \"use_cache\": true,\n",
      "  \"vocab_size\": 30522\n",
      "}\n",
      "\n",
      "loading configuration file https://huggingface.co/ProsusAI/finbert/resolve/main/config.json from cache at /root/.cache/huggingface/transformers/2120f4f96b5830e5a91fe94d242471b0133b0976c8d6e081594ab837ac5f17bc.ef97278c578016c8bb785f15296476b12eae86423097fed78719d1c8197a3430\n",
      "Model config BertConfig {\n",
      "  \"_name_or_path\": \"ProsusAI/finbert\",\n",
      "  \"architectures\": [\n",
      "    \"BertForSequenceClassification\"\n",
      "  ],\n",
      "  \"attention_probs_dropout_prob\": 0.1,\n",
      "  \"classifier_dropout\": null,\n",
      "  \"gradient_checkpointing\": false,\n",
      "  \"hidden_act\": \"gelu\",\n",
      "  \"hidden_dropout_prob\": 0.1,\n",
      "  \"hidden_size\": 768,\n",
      "  \"id2label\": {\n",
      "    \"0\": \"positive\",\n",
      "    \"1\": \"negative\",\n",
      "    \"2\": \"neutral\"\n",
      "  },\n",
      "  \"initializer_range\": 0.02,\n",
      "  \"intermediate_size\": 3072,\n",
      "  \"label2id\": {\n",
      "    \"negative\": 1,\n",
      "    \"neutral\": 2,\n",
      "    \"positive\": 0\n",
      "  },\n",
      "  \"layer_norm_eps\": 1e-12,\n",
      "  \"max_position_embeddings\": 512,\n",
      "  \"model_type\": \"bert\",\n",
      "  \"num_attention_heads\": 12,\n",
      "  \"num_hidden_layers\": 12,\n",
      "  \"pad_token_id\": 0,\n",
      "  \"position_embedding_type\": \"absolute\",\n",
      "  \"transformers_version\": \"4.13.0\",\n",
      "  \"type_vocab_size\": 2,\n",
      "  \"use_cache\": true,\n",
      "  \"vocab_size\": 30522\n",
      "}\n",
      "\n",
      "loading configuration file https://huggingface.co/ProsusAI/finbert/resolve/main/config.json from cache at /root/.cache/huggingface/transformers/2120f4f96b5830e5a91fe94d242471b0133b0976c8d6e081594ab837ac5f17bc.ef97278c578016c8bb785f15296476b12eae86423097fed78719d1c8197a3430\n",
      "Model config BertConfig {\n",
      "  \"_name_or_path\": \"ProsusAI/finbert\",\n",
      "  \"architectures\": [\n",
      "    \"BertForSequenceClassification\"\n",
      "  ],\n",
      "  \"attention_probs_dropout_prob\": 0.1,\n",
      "  \"classifier_dropout\": null,\n",
      "  \"gradient_checkpointing\": false,\n",
      "  \"hidden_act\": \"gelu\",\n",
      "  \"hidden_dropout_prob\": 0.1,\n",
      "  \"hidden_size\": 768,\n",
      "  \"id2label\": {\n",
      "    \"0\": \"positive\",\n",
      "    \"1\": \"negative\",\n",
      "    \"2\": \"neutral\"\n",
      "  },\n",
      "  \"initializer_range\": 0.02,\n",
      "  \"intermediate_size\": 3072,\n",
      "  \"label2id\": {\n",
      "    \"negative\": 1,\n",
      "    \"neutral\": 2,\n",
      "    \"positive\": 0\n",
      "  },\n",
      "  \"layer_norm_eps\": 1e-12,\n",
      "  \"max_position_embeddings\": 512,\n",
      "  \"model_type\": \"bert\",\n",
      "  \"num_attention_heads\": 12,\n",
      "  \"num_hidden_layers\": 12,\n",
      "  \"pad_token_id\": 0,\n",
      "  \"position_embedding_type\": \"absolute\",\n",
      "  \"transformers_version\": \"4.13.0\",\n",
      "  \"type_vocab_size\": 2,\n",
      "  \"use_cache\": true,\n",
      "  \"vocab_size\": 30522\n",
      "}\n",
      "\n",
      "https://huggingface.co/ProsusAI/finbert/resolve/main/pytorch_model.bin not found in cache or force_download set to True, downloading to /root/.cache/huggingface/transformers/tmpiiqho1d9\n"
     ]
    },
    {
     "data": {
      "application/vnd.jupyter.widget-view+json": {
       "model_id": "f82fef08a8d64ca998e9bc89ce001cb3",
       "version_major": 2,
       "version_minor": 0
      },
      "text/plain": [
       "Downloading:   0%|          | 0.00/418M [00:00<?, ?B/s]"
      ]
     },
     "metadata": {},
     "output_type": "display_data"
    },
    {
     "name": "stderr",
     "output_type": "stream",
     "text": [
      "storing https://huggingface.co/ProsusAI/finbert/resolve/main/pytorch_model.bin in cache at /root/.cache/huggingface/transformers/b3ba5be9f12905cef8d1d18af435dfd568d75466fae4a117a4f20ed5faadd3e3.8764ec40d33a40810fe5d2c1e864945dcf7affafd797ed8ef1b71392bfcf8562\n",
      "creating metadata file for /root/.cache/huggingface/transformers/b3ba5be9f12905cef8d1d18af435dfd568d75466fae4a117a4f20ed5faadd3e3.8764ec40d33a40810fe5d2c1e864945dcf7affafd797ed8ef1b71392bfcf8562\n",
      "loading weights file https://huggingface.co/ProsusAI/finbert/resolve/main/pytorch_model.bin from cache at /root/.cache/huggingface/transformers/b3ba5be9f12905cef8d1d18af435dfd568d75466fae4a117a4f20ed5faadd3e3.8764ec40d33a40810fe5d2c1e864945dcf7affafd797ed8ef1b71392bfcf8562\n",
      "Some weights of the model checkpoint at ProsusAI/finbert were not used when initializing BertForMaskedLM: ['classifier.bias', 'classifier.weight']\n",
      "- This IS expected if you are initializing BertForMaskedLM from the checkpoint of a model trained on another task or with another architecture (e.g. initializing a BertForSequenceClassification model from a BertForPreTraining model).\n",
      "- This IS NOT expected if you are initializing BertForMaskedLM from the checkpoint of a model that you expect to be exactly identical (initializing a BertForSequenceClassification model from a BertForSequenceClassification model).\n",
      "Some weights of BertForMaskedLM were not initialized from the model checkpoint at ProsusAI/finbert and are newly initialized: ['cls.predictions.bias', 'cls.predictions.transform.LayerNorm.bias', 'cls.predictions.transform.dense.weight', 'cls.predictions.decoder.weight', 'cls.predictions.transform.dense.bias', 'cls.predictions.transform.LayerNorm.weight']\n",
      "You should probably TRAIN this model on a down-stream task to be able to use it for predictions and inference.\n",
      "PyTorch: setting up devices\n",
      "The default value for the training argument `--report_to` will change in v5 (from all installed integrations to none). In v5, you will need to use `--report_to all` to get the same behavior as now. You should start updating your code and make this info disappear :-).\n"
     ]
    }
   ],
   "source": [
    "# Define Tokenizer and Model\n",
    "\n",
    "#Training Arguments - Pass training arguments and define trainer\n",
    "model_dir='/content/drive/MyDrive/FinLitQA/model/flm/' \n",
    "model_n = model_checkpoint3.split(\"/\")[-1] \n",
    "model_suffix = \"-flm\" \n",
    "model_name = f\"{model_n}{model_suffix}\"\n",
    "\n",
    "print (model_dir, model_name)\n",
    "\n",
    "# Tokenizer is defined here\n",
    "tokenizer = AutoTokenizer.from_pretrained(model_checkpoint3, use_fast=True)\n",
    "model = AutoModelForMaskedLM.from_pretrained(model_checkpoint3)\n",
    "\n",
    "# Create language modeling datasets\n",
    "finlit_tokenized = finlit_chunked.map(tokenize_function, batched=True, num_proc=4, remove_columns=[\"chunks\"])\n",
    "\n",
    "lm_datasets = finlit_tokenized.map(group_texts, batched=True, batch_size=1000, num_proc=4)\n",
    "\n",
    "# trainer is defined here \n",
    "trainer = trainer_from_args(model_dir, model_name, model, tokenizer, lm_datasets)"
   ]
  },
  {
   "cell_type": "code",
   "execution_count": 105,
   "metadata": {
    "colab": {
     "base_uri": "https://localhost:8080/",
     "height": 1000
    },
    "executionInfo": {
     "elapsed": 1129992,
     "status": "ok",
     "timestamp": 1639156233865,
     "user": {
      "displayName": "vanadhi chelliah",
      "photoUrl": "https://lh3.googleusercontent.com/a/default-user=s64",
      "userId": "11158136158943693689"
     },
     "user_tz": -330
    },
    "id": "TnSBPmukmbKt",
    "outputId": "4ef2c667-e3c4-4523-b83d-3ce641bbd833"
   },
   "outputs": [
    {
     "name": "stderr",
     "output_type": "stream",
     "text": [
      "***** Running training *****\n",
      "  Num examples = 6099\n",
      "  Num Epochs = 10\n",
      "  Instantaneous batch size per device = 16\n",
      "  Total train batch size (w. parallel, distributed & accumulation) = 16\n",
      "  Gradient Accumulation steps = 1\n",
      "  Total optimization steps = 3820\n"
     ]
    },
    {
     "data": {
      "text/html": [
       "\n",
       "    <div>\n",
       "      \n",
       "      <progress value='3820' max='3820' style='width:300px; height:20px; vertical-align: middle;'></progress>\n",
       "      [3820/3820 18:41, Epoch 10/10]\n",
       "    </div>\n",
       "    <table border=\"1\" class=\"dataframe\">\n",
       "  <thead>\n",
       "    <tr style=\"text-align: left;\">\n",
       "      <th>Step</th>\n",
       "      <th>Training Loss</th>\n",
       "      <th>Validation Loss</th>\n",
       "    </tr>\n",
       "  </thead>\n",
       "  <tbody>\n",
       "    <tr>\n",
       "      <td>500</td>\n",
       "      <td>4.726200</td>\n",
       "      <td>3.739104</td>\n",
       "    </tr>\n",
       "    <tr>\n",
       "      <td>1000</td>\n",
       "      <td>3.499500</td>\n",
       "      <td>3.201966</td>\n",
       "    </tr>\n",
       "    <tr>\n",
       "      <td>1500</td>\n",
       "      <td>3.117400</td>\n",
       "      <td>2.962182</td>\n",
       "    </tr>\n",
       "    <tr>\n",
       "      <td>2000</td>\n",
       "      <td>2.943400</td>\n",
       "      <td>2.812574</td>\n",
       "    </tr>\n",
       "    <tr>\n",
       "      <td>2500</td>\n",
       "      <td>2.781600</td>\n",
       "      <td>2.712839</td>\n",
       "    </tr>\n",
       "    <tr>\n",
       "      <td>3000</td>\n",
       "      <td>2.703000</td>\n",
       "      <td>2.632875</td>\n",
       "    </tr>\n",
       "    <tr>\n",
       "      <td>3500</td>\n",
       "      <td>2.646300</td>\n",
       "      <td>2.600824</td>\n",
       "    </tr>\n",
       "  </tbody>\n",
       "</table><p>"
      ],
      "text/plain": [
       "<IPython.core.display.HTML object>"
      ]
     },
     "metadata": {},
     "output_type": "display_data"
    },
    {
     "name": "stderr",
     "output_type": "stream",
     "text": [
      "***** Running Evaluation *****\n",
      "  Num examples = 1516\n",
      "  Batch size = 12\n",
      "Saving model checkpoint to /content/drive/MyDrive/FinLitQA/model/flm/finbert-flm/checkpoint-500\n",
      "Configuration saved in /content/drive/MyDrive/FinLitQA/model/flm/finbert-flm/checkpoint-500/config.json\n",
      "Model weights saved in /content/drive/MyDrive/FinLitQA/model/flm/finbert-flm/checkpoint-500/pytorch_model.bin\n",
      "tokenizer config file saved in /content/drive/MyDrive/FinLitQA/model/flm/finbert-flm/checkpoint-500/tokenizer_config.json\n",
      "Special tokens file saved in /content/drive/MyDrive/FinLitQA/model/flm/finbert-flm/checkpoint-500/special_tokens_map.json\n",
      "***** Running Evaluation *****\n",
      "  Num examples = 1516\n",
      "  Batch size = 12\n",
      "Saving model checkpoint to /content/drive/MyDrive/FinLitQA/model/flm/finbert-flm/checkpoint-1000\n",
      "Configuration saved in /content/drive/MyDrive/FinLitQA/model/flm/finbert-flm/checkpoint-1000/config.json\n",
      "Model weights saved in /content/drive/MyDrive/FinLitQA/model/flm/finbert-flm/checkpoint-1000/pytorch_model.bin\n",
      "tokenizer config file saved in /content/drive/MyDrive/FinLitQA/model/flm/finbert-flm/checkpoint-1000/tokenizer_config.json\n",
      "Special tokens file saved in /content/drive/MyDrive/FinLitQA/model/flm/finbert-flm/checkpoint-1000/special_tokens_map.json\n",
      "***** Running Evaluation *****\n",
      "  Num examples = 1516\n",
      "  Batch size = 12\n",
      "Saving model checkpoint to /content/drive/MyDrive/FinLitQA/model/flm/finbert-flm/checkpoint-1500\n",
      "Configuration saved in /content/drive/MyDrive/FinLitQA/model/flm/finbert-flm/checkpoint-1500/config.json\n",
      "Model weights saved in /content/drive/MyDrive/FinLitQA/model/flm/finbert-flm/checkpoint-1500/pytorch_model.bin\n",
      "tokenizer config file saved in /content/drive/MyDrive/FinLitQA/model/flm/finbert-flm/checkpoint-1500/tokenizer_config.json\n",
      "Special tokens file saved in /content/drive/MyDrive/FinLitQA/model/flm/finbert-flm/checkpoint-1500/special_tokens_map.json\n",
      "***** Running Evaluation *****\n",
      "  Num examples = 1516\n",
      "  Batch size = 12\n",
      "Saving model checkpoint to /content/drive/MyDrive/FinLitQA/model/flm/finbert-flm/checkpoint-2000\n",
      "Configuration saved in /content/drive/MyDrive/FinLitQA/model/flm/finbert-flm/checkpoint-2000/config.json\n",
      "Model weights saved in /content/drive/MyDrive/FinLitQA/model/flm/finbert-flm/checkpoint-2000/pytorch_model.bin\n",
      "tokenizer config file saved in /content/drive/MyDrive/FinLitQA/model/flm/finbert-flm/checkpoint-2000/tokenizer_config.json\n",
      "Special tokens file saved in /content/drive/MyDrive/FinLitQA/model/flm/finbert-flm/checkpoint-2000/special_tokens_map.json\n",
      "***** Running Evaluation *****\n",
      "  Num examples = 1516\n",
      "  Batch size = 12\n",
      "Saving model checkpoint to /content/drive/MyDrive/FinLitQA/model/flm/finbert-flm/checkpoint-2500\n",
      "Configuration saved in /content/drive/MyDrive/FinLitQA/model/flm/finbert-flm/checkpoint-2500/config.json\n",
      "Model weights saved in /content/drive/MyDrive/FinLitQA/model/flm/finbert-flm/checkpoint-2500/pytorch_model.bin\n",
      "tokenizer config file saved in /content/drive/MyDrive/FinLitQA/model/flm/finbert-flm/checkpoint-2500/tokenizer_config.json\n",
      "Special tokens file saved in /content/drive/MyDrive/FinLitQA/model/flm/finbert-flm/checkpoint-2500/special_tokens_map.json\n",
      "***** Running Evaluation *****\n",
      "  Num examples = 1516\n",
      "  Batch size = 12\n",
      "Saving model checkpoint to /content/drive/MyDrive/FinLitQA/model/flm/finbert-flm/checkpoint-3000\n",
      "Configuration saved in /content/drive/MyDrive/FinLitQA/model/flm/finbert-flm/checkpoint-3000/config.json\n",
      "Model weights saved in /content/drive/MyDrive/FinLitQA/model/flm/finbert-flm/checkpoint-3000/pytorch_model.bin\n",
      "tokenizer config file saved in /content/drive/MyDrive/FinLitQA/model/flm/finbert-flm/checkpoint-3000/tokenizer_config.json\n",
      "Special tokens file saved in /content/drive/MyDrive/FinLitQA/model/flm/finbert-flm/checkpoint-3000/special_tokens_map.json\n",
      "***** Running Evaluation *****\n",
      "  Num examples = 1516\n",
      "  Batch size = 12\n",
      "Saving model checkpoint to /content/drive/MyDrive/FinLitQA/model/flm/finbert-flm/checkpoint-3500\n",
      "Configuration saved in /content/drive/MyDrive/FinLitQA/model/flm/finbert-flm/checkpoint-3500/config.json\n",
      "Model weights saved in /content/drive/MyDrive/FinLitQA/model/flm/finbert-flm/checkpoint-3500/pytorch_model.bin\n",
      "tokenizer config file saved in /content/drive/MyDrive/FinLitQA/model/flm/finbert-flm/checkpoint-3500/tokenizer_config.json\n",
      "Special tokens file saved in /content/drive/MyDrive/FinLitQA/model/flm/finbert-flm/checkpoint-3500/special_tokens_map.json\n",
      "\n",
      "\n",
      "Training completed. Do not forget to share your model on huggingface.co/models =)\n",
      "\n",
      "\n",
      "Loading best model from /content/drive/MyDrive/FinLitQA/model/flm/finbert-flm/checkpoint-3500 (score: 2.6008243560791016).\n",
      "***** Running Evaluation *****\n",
      "  Num examples = 1516\n",
      "  Batch size = 12\n"
     ]
    },
    {
     "data": {
      "text/html": [
       "\n",
       "    <div>\n",
       "      \n",
       "      <progress value='127' max='127' style='width:300px; height:20px; vertical-align: middle;'></progress>\n",
       "      [127/127 00:07]\n",
       "    </div>\n",
       "    "
      ],
      "text/plain": [
       "<IPython.core.display.HTML object>"
      ]
     },
     "metadata": {},
     "output_type": "display_data"
    },
    {
     "name": "stdout",
     "output_type": "stream",
     "text": [
      "Perplexity: 13.47\n",
      "CPU times: user 17min 54s, sys: 21.8 s, total: 18min 16s\n",
      "Wall time: 18min 49s\n"
     ]
    }
   ],
   "source": [
    "%%time\n",
    "trainer.train()\n",
    "\n",
    "# Evaluate and check Perplexity\n",
    "eval_results = trainer.evaluate()\n",
    "print(f\"Perplexity: {math.exp(eval_results['eval_loss']):.2f}\")"
   ]
  },
  {
   "cell_type": "code",
   "execution_count": 106,
   "metadata": {
    "colab": {
     "base_uri": "https://localhost:8080/",
     "height": 285
    },
    "executionInfo": {
     "elapsed": 16442,
     "status": "ok",
     "timestamp": 1639156277526,
     "user": {
      "displayName": "vanadhi chelliah",
      "photoUrl": "https://lh3.googleusercontent.com/a/default-user=s64",
      "userId": "11158136158943693689"
     },
     "user_tz": -330
    },
    "id": "Tif2L9BiUc_c",
    "outputId": "86d5fb2e-4efb-445a-a12d-cc8bb764ec87"
   },
   "outputs": [
    {
     "name": "stderr",
     "output_type": "stream",
     "text": [
      "Saving model checkpoint to /content/drive/MyDrive/FinLitQA/model/flm_final/finbert-flm/\n",
      "Configuration saved in /content/drive/MyDrive/FinLitQA/model/flm_final/finbert-flm/config.json\n",
      "Model weights saved in /content/drive/MyDrive/FinLitQA/model/flm_final/finbert-flm/pytorch_model.bin\n",
      "tokenizer config file saved in /content/drive/MyDrive/FinLitQA/model/flm_final/finbert-flm/tokenizer_config.json\n",
      "Special tokens file saved in /content/drive/MyDrive/FinLitQA/model/flm_final/finbert-flm/special_tokens_map.json\n",
      "***** Running Evaluation *****\n",
      "  Num examples = 1516\n",
      "  Batch size = 12\n"
     ]
    },
    {
     "data": {
      "text/html": [
       "\n",
       "    <div>\n",
       "      \n",
       "      <progress value='254' max='127' style='width:300px; height:20px; vertical-align: middle;'></progress>\n",
       "      [127/127 00:51]\n",
       "    </div>\n",
       "    "
      ],
      "text/plain": [
       "<IPython.core.display.HTML object>"
      ]
     },
     "metadata": {},
     "output_type": "display_data"
    },
    {
     "name": "stdout",
     "output_type": "stream",
     "text": [
      "{'eval_loss': 2.6298816204071045, 'eval_runtime': 7.7525, 'eval_samples_per_second': 195.551, 'eval_steps_per_second': 16.382, 'epoch': 10.0}\n",
      "Perplexity: 13.87\n"
     ]
    },
    {
     "data": {
      "text/html": [
       "<div>\n",
       "<style scoped>\n",
       "    .dataframe tbody tr th:only-of-type {\n",
       "        vertical-align: middle;\n",
       "    }\n",
       "\n",
       "    .dataframe tbody tr th {\n",
       "        vertical-align: top;\n",
       "    }\n",
       "\n",
       "    .dataframe thead th {\n",
       "        text-align: right;\n",
       "    }\n",
       "</style>\n",
       "<table border=\"1\" class=\"dataframe\">\n",
       "  <thead>\n",
       "    <tr style=\"text-align: right;\">\n",
       "      <th></th>\n",
       "      <th>index</th>\n",
       "      <th>eval_loss</th>\n",
       "      <th>eval_runtime</th>\n",
       "      <th>eval_samples_per_second</th>\n",
       "      <th>eval_steps_per_second</th>\n",
       "      <th>epoch</th>\n",
       "      <th>Perplexity</th>\n",
       "    </tr>\n",
       "  </thead>\n",
       "  <tbody>\n",
       "    <tr>\n",
       "      <th>0</th>\n",
       "      <td>finbert-flm</td>\n",
       "      <td>2.629882</td>\n",
       "      <td>7.7525</td>\n",
       "      <td>195.551</td>\n",
       "      <td>16.382</td>\n",
       "      <td>10.0</td>\n",
       "      <td>13.87</td>\n",
       "    </tr>\n",
       "  </tbody>\n",
       "</table>\n",
       "</div>"
      ],
      "text/plain": [
       "         index  eval_loss  ...  epoch  Perplexity\n",
       "0  finbert-flm   2.629882  ...   10.0       13.87\n",
       "\n",
       "[1 rows x 7 columns]"
      ]
     },
     "execution_count": 106,
     "metadata": {},
     "output_type": "execute_result"
    }
   ],
   "source": [
    "# Save the model\n",
    "\n",
    "save_path_model3 = \"/content/drive/MyDrive/FinLitQA/model/flm_final/finbert-flm/\"\n",
    "trainer.save_model(save_path_model3)\n",
    "\n",
    "# Evaluate the trainer and consolidate the results\n",
    "# Calculate and add Perplexity to the evaluation results\n",
    "\n",
    "evaluate_trainer(trainer, model_name)"
   ]
  },
  {
   "cell_type": "code",
   "execution_count": 107,
   "metadata": {
    "colab": {
     "base_uri": "https://localhost:8080/",
     "height": 1000
    },
    "executionInfo": {
     "elapsed": 10129,
     "status": "ok",
     "timestamp": 1639156297527,
     "user": {
      "displayName": "vanadhi chelliah",
      "photoUrl": "https://lh3.googleusercontent.com/a/default-user=s64",
      "userId": "11158136158943693689"
     },
     "user_tz": -330
    },
    "id": "yI6oQYyP8rij",
    "outputId": "5dc56434-9e7e-4ee0-c89f-88decf75414f"
   },
   "outputs": [
    {
     "name": "stderr",
     "output_type": "stream",
     "text": [
      "loading configuration file /content/drive/MyDrive/FinLitQA/model/flm_final/finbert-flm/config.json\n",
      "Model config BertConfig {\n",
      "  \"_name_or_path\": \"/content/drive/MyDrive/FinLitQA/model/flm_final/finbert-flm/\",\n",
      "  \"architectures\": [\n",
      "    \"BertForMaskedLM\"\n",
      "  ],\n",
      "  \"attention_probs_dropout_prob\": 0.1,\n",
      "  \"classifier_dropout\": null,\n",
      "  \"gradient_checkpointing\": false,\n",
      "  \"hidden_act\": \"gelu\",\n",
      "  \"hidden_dropout_prob\": 0.1,\n",
      "  \"hidden_size\": 768,\n",
      "  \"id2label\": {\n",
      "    \"0\": \"positive\",\n",
      "    \"1\": \"negative\",\n",
      "    \"2\": \"neutral\"\n",
      "  },\n",
      "  \"initializer_range\": 0.02,\n",
      "  \"intermediate_size\": 3072,\n",
      "  \"label2id\": {\n",
      "    \"negative\": 1,\n",
      "    \"neutral\": 2,\n",
      "    \"positive\": 0\n",
      "  },\n",
      "  \"layer_norm_eps\": 1e-12,\n",
      "  \"max_position_embeddings\": 512,\n",
      "  \"model_type\": \"bert\",\n",
      "  \"num_attention_heads\": 12,\n",
      "  \"num_hidden_layers\": 12,\n",
      "  \"pad_token_id\": 0,\n",
      "  \"position_embedding_type\": \"absolute\",\n",
      "  \"torch_dtype\": \"float32\",\n",
      "  \"transformers_version\": \"4.13.0\",\n",
      "  \"type_vocab_size\": 2,\n",
      "  \"use_cache\": true,\n",
      "  \"vocab_size\": 30522\n",
      "}\n",
      "\n",
      "loading weights file /content/drive/MyDrive/FinLitQA/model/flm_final/finbert-flm/pytorch_model.bin\n",
      "All model checkpoint weights were used when initializing BertForMaskedLM.\n",
      "\n",
      "All the weights of BertForMaskedLM were initialized from the model checkpoint at /content/drive/MyDrive/FinLitQA/model/flm_final/finbert-flm/.\n",
      "If your task is similar to the task the model of the checkpoint was trained on, you can already use BertForMaskedLM for predictions without further training.\n",
      "***** Running Evaluation *****\n",
      "  Num examples = 1516\n",
      "  Batch size = 12\n"
     ]
    },
    {
     "data": {
      "text/html": [
       "\n",
       "    <div>\n",
       "      \n",
       "      <progress value='381' max='127' style='width:300px; height:20px; vertical-align: middle;'></progress>\n",
       "      [127/127 01:11]\n",
       "    </div>\n",
       "    "
      ],
      "text/plain": [
       "<IPython.core.display.HTML object>"
      ]
     },
     "metadata": {},
     "output_type": "display_data"
    },
    {
     "data": {
      "text/plain": [
       "({'epoch': 10.0,\n",
       "  'eval_loss': 2.5914196968078613,\n",
       "  'eval_runtime': 7.751,\n",
       "  'eval_samples_per_second': 195.588,\n",
       "  'eval_steps_per_second': 16.385},\n",
       " '13.35')"
      ]
     },
     "execution_count": 107,
     "metadata": {},
     "output_type": "execute_result"
    }
   ],
   "source": [
    "# Reload model and check\n",
    "model = AutoModelForMaskedLM.from_pretrained(save_path_model3, local_files_only=True)\n",
    "trainer.model = model.cuda()\n",
    "\n",
    "# Evaluate and check\n",
    "eval_results = trainer.evaluate()\n",
    "eval_results, f\"{math.exp(eval_results['eval_loss']):.2f}\""
   ]
  },
  {
   "cell_type": "code",
   "execution_count": 108,
   "metadata": {
    "colab": {
     "base_uri": "https://localhost:8080/",
     "height": 143
    },
    "executionInfo": {
     "elapsed": 388,
     "status": "ok",
     "timestamp": 1639156307700,
     "user": {
      "displayName": "vanadhi chelliah",
      "photoUrl": "https://lh3.googleusercontent.com/a/default-user=s64",
      "userId": "11158136158943693689"
     },
     "user_tz": -330
    },
    "id": "7BRxTonWUkwn",
    "outputId": "793f0d79-d618-49b9-fe4a-09552d72327b"
   },
   "outputs": [
    {
     "data": {
      "text/html": [
       "<div>\n",
       "<style scoped>\n",
       "    .dataframe tbody tr th:only-of-type {\n",
       "        vertical-align: middle;\n",
       "    }\n",
       "\n",
       "    .dataframe tbody tr th {\n",
       "        vertical-align: top;\n",
       "    }\n",
       "\n",
       "    .dataframe thead th {\n",
       "        text-align: right;\n",
       "    }\n",
       "</style>\n",
       "<table border=\"1\" class=\"dataframe\">\n",
       "  <thead>\n",
       "    <tr style=\"text-align: right;\">\n",
       "      <th></th>\n",
       "      <th>index</th>\n",
       "      <th>eval_loss</th>\n",
       "      <th>eval_runtime</th>\n",
       "      <th>eval_samples_per_second</th>\n",
       "      <th>eval_steps_per_second</th>\n",
       "      <th>epoch</th>\n",
       "      <th>Perplexity</th>\n",
       "    </tr>\n",
       "  </thead>\n",
       "  <tbody>\n",
       "    <tr>\n",
       "      <th>0</th>\n",
       "      <td>bert-base-uncased-flm</td>\n",
       "      <td>2.027018</td>\n",
       "      <td>7.7529</td>\n",
       "      <td>195.540</td>\n",
       "      <td>16.381</td>\n",
       "      <td>5.0</td>\n",
       "      <td>7.59</td>\n",
       "    </tr>\n",
       "    <tr>\n",
       "      <th>1</th>\n",
       "      <td>roberta-base-flm</td>\n",
       "      <td>1.645434</td>\n",
       "      <td>8.2811</td>\n",
       "      <td>174.131</td>\n",
       "      <td>14.612</td>\n",
       "      <td>10.0</td>\n",
       "      <td>5.18</td>\n",
       "    </tr>\n",
       "    <tr>\n",
       "      <th>2</th>\n",
       "      <td>finbert-flm</td>\n",
       "      <td>2.629882</td>\n",
       "      <td>7.7525</td>\n",
       "      <td>195.551</td>\n",
       "      <td>16.382</td>\n",
       "      <td>10.0</td>\n",
       "      <td>13.87</td>\n",
       "    </tr>\n",
       "  </tbody>\n",
       "</table>\n",
       "</div>"
      ],
      "text/plain": [
       "                   index  eval_loss  ...  epoch  Perplexity\n",
       "0  bert-base-uncased-flm   2.027018  ...    5.0        7.59\n",
       "1       roberta-base-flm   1.645434  ...   10.0        5.18\n",
       "2            finbert-flm   2.629882  ...   10.0       13.87\n",
       "\n",
       "[3 rows x 7 columns]"
      ]
     },
     "execution_count": 108,
     "metadata": {},
     "output_type": "execute_result"
    }
   ],
   "source": [
    "df_lmtrain_summary"
   ]
  },
  {
   "cell_type": "markdown",
   "metadata": {
    "id": "YWL8BKx7mbKv"
   },
   "source": [
    "## Model 4 - \"bert-base-uncased-fiqa\""
   ]
  },
  {
   "cell_type": "code",
   "execution_count": 109,
   "metadata": {
    "executionInfo": {
     "elapsed": 342,
     "status": "ok",
     "timestamp": 1639156314190,
     "user": {
      "displayName": "vanadhi chelliah",
      "photoUrl": "https://lh3.googleusercontent.com/a/default-user=s64",
      "userId": "11158136158943693689"
     },
     "user_tz": -330
    },
    "id": "ww6-l1pUmbKv"
   },
   "outputs": [],
   "source": [
    "# model_checkpoint4\n",
    "\n",
    "model_checkpoint4 = \"/content/drive/MyDrive/FinLitQA/model/fiqa_final/bert-base-uncased-fiqa/\""
   ]
  },
  {
   "cell_type": "code",
   "execution_count": 110,
   "metadata": {
    "colab": {
     "base_uri": "https://localhost:8080/"
    },
    "executionInfo": {
     "elapsed": 13,
     "status": "ok",
     "timestamp": 1639156315399,
     "user": {
      "displayName": "vanadhi chelliah",
      "photoUrl": "https://lh3.googleusercontent.com/a/default-user=s64",
      "userId": "11158136158943693689"
     },
     "user_tz": -330
    },
    "id": "ZmSH0u2BmbKw",
    "outputId": "d3e179ff-db3f-4e41-ea14-7d4c27be4805"
   },
   "outputs": [
    {
     "name": "stdout",
     "output_type": "stream",
     "text": [
      "bert-base-uncased-fiqa\n",
      "/content/drive/MyDrive/FinLitQA/model/flm/ bert-base-uncased-fiqa-flm\n"
     ]
    }
   ],
   "source": [
    "# Define Tokenizer and Model\n",
    "\n",
    "#Training Arguments - Pass training arguments and define trainer\n",
    "model_dir='/content/drive/MyDrive/FinLitQA/model/flm/' \n",
    "model_n = model_checkpoint4.split(\"/\")[-2] \n",
    "\n",
    "print (f\"{model_n}\")\n",
    "model_suffix = \"-flm\" \n",
    "model_name = f\"{model_n}{model_suffix}\"\n",
    "\n",
    "print (model_dir, model_name)"
   ]
  },
  {
   "cell_type": "code",
   "execution_count": 111,
   "metadata": {
    "colab": {
     "base_uri": "https://localhost:8080/"
    },
    "executionInfo": {
     "elapsed": 19252,
     "status": "ok",
     "timestamp": 1639156362453,
     "user": {
      "displayName": "vanadhi chelliah",
      "photoUrl": "https://lh3.googleusercontent.com/a/default-user=s64",
      "userId": "11158136158943693689"
     },
     "user_tz": -330
    },
    "id": "JQoQbQrYCHUs",
    "outputId": "26e58f61-fa5e-433e-dce7-a94ec978132a"
   },
   "outputs": [
    {
     "name": "stderr",
     "output_type": "stream",
     "text": [
      "Didn't find file /content/drive/MyDrive/FinLitQA/model/fiqa_final/bert-base-uncased-fiqa/added_tokens.json. We won't load it.\n",
      "loading file /content/drive/MyDrive/FinLitQA/model/fiqa_final/bert-base-uncased-fiqa/vocab.txt\n",
      "loading file /content/drive/MyDrive/FinLitQA/model/fiqa_final/bert-base-uncased-fiqa/tokenizer.json\n",
      "loading file None\n",
      "loading file /content/drive/MyDrive/FinLitQA/model/fiqa_final/bert-base-uncased-fiqa/special_tokens_map.json\n",
      "loading file /content/drive/MyDrive/FinLitQA/model/fiqa_final/bert-base-uncased-fiqa/tokenizer_config.json\n",
      "loading configuration file /content/drive/MyDrive/FinLitQA/model/fiqa_final/bert-base-uncased-fiqa/config.json\n",
      "Model config BertConfig {\n",
      "  \"_name_or_path\": \"/content/drive/MyDrive/FinLitQA/model/fiqa_final/bert-base-uncased-fiqa/\",\n",
      "  \"architectures\": [\n",
      "    \"BertForMaskedLM\"\n",
      "  ],\n",
      "  \"attention_probs_dropout_prob\": 0.1,\n",
      "  \"classifier_dropout\": null,\n",
      "  \"gradient_checkpointing\": false,\n",
      "  \"hidden_act\": \"gelu\",\n",
      "  \"hidden_dropout_prob\": 0.1,\n",
      "  \"hidden_size\": 768,\n",
      "  \"initializer_range\": 0.02,\n",
      "  \"intermediate_size\": 3072,\n",
      "  \"layer_norm_eps\": 1e-12,\n",
      "  \"max_position_embeddings\": 512,\n",
      "  \"model_type\": \"bert\",\n",
      "  \"num_attention_heads\": 12,\n",
      "  \"num_hidden_layers\": 12,\n",
      "  \"pad_token_id\": 0,\n",
      "  \"position_embedding_type\": \"absolute\",\n",
      "  \"torch_dtype\": \"float32\",\n",
      "  \"transformers_version\": \"4.13.0\",\n",
      "  \"type_vocab_size\": 2,\n",
      "  \"use_cache\": true,\n",
      "  \"vocab_size\": 30522\n",
      "}\n",
      "\n",
      "loading weights file /content/drive/MyDrive/FinLitQA/model/fiqa_final/bert-base-uncased-fiqa/pytorch_model.bin\n",
      "All model checkpoint weights were used when initializing BertForMaskedLM.\n",
      "\n",
      "All the weights of BertForMaskedLM were initialized from the model checkpoint at /content/drive/MyDrive/FinLitQA/model/fiqa_final/bert-base-uncased-fiqa/.\n",
      "If your task is similar to the task the model of the checkpoint was trained on, you can already use BertForMaskedLM for predictions without further training.\n",
      "PyTorch: setting up devices\n",
      "The default value for the training argument `--report_to` will change in v5 (from all installed integrations to none). In v5, you will need to use `--report_to all` to get the same behavior as now. You should start updating your code and make this info disappear :-).\n"
     ]
    }
   ],
   "source": [
    "# Tokenizer is defined here\n",
    "tokenizer = AutoTokenizer.from_pretrained(model_checkpoint4, local_files_only=True)\n",
    "model = AutoModelForMaskedLM.from_pretrained(model_checkpoint4, local_files_only=True)\n",
    "\n",
    "# Create language modeling datasets\n",
    "finlit_tokenized = finlit_chunked.map(tokenize_function, batched=True, num_proc=4, remove_columns=[\"chunks\"])\n",
    "\n",
    "lm_datasets = finlit_tokenized.map(group_texts, batched=True, batch_size=1000, num_proc=4)\n",
    "\n",
    "# trainer is defined here \n",
    "trainer = trainer_from_args(model_dir, model_name, model, tokenizer, lm_datasets)"
   ]
  },
  {
   "cell_type": "code",
   "execution_count": 112,
   "metadata": {
    "colab": {
     "base_uri": "https://localhost:8080/",
     "height": 1000
    },
    "executionInfo": {
     "elapsed": 1129803,
     "status": "ok",
     "timestamp": 1639157497489,
     "user": {
      "displayName": "vanadhi chelliah",
      "photoUrl": "https://lh3.googleusercontent.com/a/default-user=s64",
      "userId": "11158136158943693689"
     },
     "user_tz": -330
    },
    "id": "aXZIsijB8rim",
    "outputId": "f764b2cd-99c7-489e-8d21-b0c0987c0cb7"
   },
   "outputs": [
    {
     "name": "stderr",
     "output_type": "stream",
     "text": [
      "***** Running training *****\n",
      "  Num examples = 6099\n",
      "  Num Epochs = 10\n",
      "  Instantaneous batch size per device = 16\n",
      "  Total train batch size (w. parallel, distributed & accumulation) = 16\n",
      "  Gradient Accumulation steps = 1\n",
      "  Total optimization steps = 3820\n"
     ]
    },
    {
     "data": {
      "text/html": [
       "\n",
       "    <div>\n",
       "      \n",
       "      <progress value='3820' max='3820' style='width:300px; height:20px; vertical-align: middle;'></progress>\n",
       "      [3820/3820 18:41, Epoch 10/10]\n",
       "    </div>\n",
       "    <table border=\"1\" class=\"dataframe\">\n",
       "  <thead>\n",
       "    <tr style=\"text-align: left;\">\n",
       "      <th>Step</th>\n",
       "      <th>Training Loss</th>\n",
       "      <th>Validation Loss</th>\n",
       "    </tr>\n",
       "  </thead>\n",
       "  <tbody>\n",
       "    <tr>\n",
       "      <td>500</td>\n",
       "      <td>2.192000</td>\n",
       "      <td>2.047057</td>\n",
       "    </tr>\n",
       "    <tr>\n",
       "      <td>1000</td>\n",
       "      <td>2.038500</td>\n",
       "      <td>1.962423</td>\n",
       "    </tr>\n",
       "    <tr>\n",
       "      <td>1500</td>\n",
       "      <td>1.940400</td>\n",
       "      <td>1.913403</td>\n",
       "    </tr>\n",
       "    <tr>\n",
       "      <td>2000</td>\n",
       "      <td>1.906000</td>\n",
       "      <td>1.879639</td>\n",
       "    </tr>\n",
       "    <tr>\n",
       "      <td>2500</td>\n",
       "      <td>1.830800</td>\n",
       "      <td>1.826792</td>\n",
       "    </tr>\n",
       "    <tr>\n",
       "      <td>3000</td>\n",
       "      <td>1.798900</td>\n",
       "      <td>1.818291</td>\n",
       "    </tr>\n",
       "    <tr>\n",
       "      <td>3500</td>\n",
       "      <td>1.768700</td>\n",
       "      <td>1.794163</td>\n",
       "    </tr>\n",
       "  </tbody>\n",
       "</table><p>"
      ],
      "text/plain": [
       "<IPython.core.display.HTML object>"
      ]
     },
     "metadata": {},
     "output_type": "display_data"
    },
    {
     "name": "stderr",
     "output_type": "stream",
     "text": [
      "***** Running Evaluation *****\n",
      "  Num examples = 1516\n",
      "  Batch size = 12\n",
      "Saving model checkpoint to /content/drive/MyDrive/FinLitQA/model/flm/bert-base-uncased-fiqa-flm/checkpoint-500\n",
      "Configuration saved in /content/drive/MyDrive/FinLitQA/model/flm/bert-base-uncased-fiqa-flm/checkpoint-500/config.json\n",
      "Model weights saved in /content/drive/MyDrive/FinLitQA/model/flm/bert-base-uncased-fiqa-flm/checkpoint-500/pytorch_model.bin\n",
      "tokenizer config file saved in /content/drive/MyDrive/FinLitQA/model/flm/bert-base-uncased-fiqa-flm/checkpoint-500/tokenizer_config.json\n",
      "Special tokens file saved in /content/drive/MyDrive/FinLitQA/model/flm/bert-base-uncased-fiqa-flm/checkpoint-500/special_tokens_map.json\n",
      "***** Running Evaluation *****\n",
      "  Num examples = 1516\n",
      "  Batch size = 12\n",
      "Saving model checkpoint to /content/drive/MyDrive/FinLitQA/model/flm/bert-base-uncased-fiqa-flm/checkpoint-1000\n",
      "Configuration saved in /content/drive/MyDrive/FinLitQA/model/flm/bert-base-uncased-fiqa-flm/checkpoint-1000/config.json\n",
      "Model weights saved in /content/drive/MyDrive/FinLitQA/model/flm/bert-base-uncased-fiqa-flm/checkpoint-1000/pytorch_model.bin\n",
      "tokenizer config file saved in /content/drive/MyDrive/FinLitQA/model/flm/bert-base-uncased-fiqa-flm/checkpoint-1000/tokenizer_config.json\n",
      "Special tokens file saved in /content/drive/MyDrive/FinLitQA/model/flm/bert-base-uncased-fiqa-flm/checkpoint-1000/special_tokens_map.json\n",
      "***** Running Evaluation *****\n",
      "  Num examples = 1516\n",
      "  Batch size = 12\n",
      "Saving model checkpoint to /content/drive/MyDrive/FinLitQA/model/flm/bert-base-uncased-fiqa-flm/checkpoint-1500\n",
      "Configuration saved in /content/drive/MyDrive/FinLitQA/model/flm/bert-base-uncased-fiqa-flm/checkpoint-1500/config.json\n",
      "Model weights saved in /content/drive/MyDrive/FinLitQA/model/flm/bert-base-uncased-fiqa-flm/checkpoint-1500/pytorch_model.bin\n",
      "tokenizer config file saved in /content/drive/MyDrive/FinLitQA/model/flm/bert-base-uncased-fiqa-flm/checkpoint-1500/tokenizer_config.json\n",
      "Special tokens file saved in /content/drive/MyDrive/FinLitQA/model/flm/bert-base-uncased-fiqa-flm/checkpoint-1500/special_tokens_map.json\n",
      "***** Running Evaluation *****\n",
      "  Num examples = 1516\n",
      "  Batch size = 12\n",
      "Saving model checkpoint to /content/drive/MyDrive/FinLitQA/model/flm/bert-base-uncased-fiqa-flm/checkpoint-2000\n",
      "Configuration saved in /content/drive/MyDrive/FinLitQA/model/flm/bert-base-uncased-fiqa-flm/checkpoint-2000/config.json\n",
      "Model weights saved in /content/drive/MyDrive/FinLitQA/model/flm/bert-base-uncased-fiqa-flm/checkpoint-2000/pytorch_model.bin\n",
      "tokenizer config file saved in /content/drive/MyDrive/FinLitQA/model/flm/bert-base-uncased-fiqa-flm/checkpoint-2000/tokenizer_config.json\n",
      "Special tokens file saved in /content/drive/MyDrive/FinLitQA/model/flm/bert-base-uncased-fiqa-flm/checkpoint-2000/special_tokens_map.json\n",
      "***** Running Evaluation *****\n",
      "  Num examples = 1516\n",
      "  Batch size = 12\n",
      "Saving model checkpoint to /content/drive/MyDrive/FinLitQA/model/flm/bert-base-uncased-fiqa-flm/checkpoint-2500\n",
      "Configuration saved in /content/drive/MyDrive/FinLitQA/model/flm/bert-base-uncased-fiqa-flm/checkpoint-2500/config.json\n",
      "Model weights saved in /content/drive/MyDrive/FinLitQA/model/flm/bert-base-uncased-fiqa-flm/checkpoint-2500/pytorch_model.bin\n",
      "tokenizer config file saved in /content/drive/MyDrive/FinLitQA/model/flm/bert-base-uncased-fiqa-flm/checkpoint-2500/tokenizer_config.json\n",
      "Special tokens file saved in /content/drive/MyDrive/FinLitQA/model/flm/bert-base-uncased-fiqa-flm/checkpoint-2500/special_tokens_map.json\n",
      "***** Running Evaluation *****\n",
      "  Num examples = 1516\n",
      "  Batch size = 12\n",
      "Saving model checkpoint to /content/drive/MyDrive/FinLitQA/model/flm/bert-base-uncased-fiqa-flm/checkpoint-3000\n",
      "Configuration saved in /content/drive/MyDrive/FinLitQA/model/flm/bert-base-uncased-fiqa-flm/checkpoint-3000/config.json\n",
      "Model weights saved in /content/drive/MyDrive/FinLitQA/model/flm/bert-base-uncased-fiqa-flm/checkpoint-3000/pytorch_model.bin\n",
      "tokenizer config file saved in /content/drive/MyDrive/FinLitQA/model/flm/bert-base-uncased-fiqa-flm/checkpoint-3000/tokenizer_config.json\n",
      "Special tokens file saved in /content/drive/MyDrive/FinLitQA/model/flm/bert-base-uncased-fiqa-flm/checkpoint-3000/special_tokens_map.json\n",
      "***** Running Evaluation *****\n",
      "  Num examples = 1516\n",
      "  Batch size = 12\n",
      "Saving model checkpoint to /content/drive/MyDrive/FinLitQA/model/flm/bert-base-uncased-fiqa-flm/checkpoint-3500\n",
      "Configuration saved in /content/drive/MyDrive/FinLitQA/model/flm/bert-base-uncased-fiqa-flm/checkpoint-3500/config.json\n",
      "Model weights saved in /content/drive/MyDrive/FinLitQA/model/flm/bert-base-uncased-fiqa-flm/checkpoint-3500/pytorch_model.bin\n",
      "tokenizer config file saved in /content/drive/MyDrive/FinLitQA/model/flm/bert-base-uncased-fiqa-flm/checkpoint-3500/tokenizer_config.json\n",
      "Special tokens file saved in /content/drive/MyDrive/FinLitQA/model/flm/bert-base-uncased-fiqa-flm/checkpoint-3500/special_tokens_map.json\n",
      "\n",
      "\n",
      "Training completed. Do not forget to share your model on huggingface.co/models =)\n",
      "\n",
      "\n",
      "Loading best model from /content/drive/MyDrive/FinLitQA/model/flm/bert-base-uncased-fiqa-flm/checkpoint-3500 (score: 1.7941629886627197).\n",
      "***** Running Evaluation *****\n",
      "  Num examples = 1516\n",
      "  Batch size = 12\n"
     ]
    },
    {
     "data": {
      "text/html": [
       "\n",
       "    <div>\n",
       "      \n",
       "      <progress value='127' max='127' style='width:300px; height:20px; vertical-align: middle;'></progress>\n",
       "      [127/127 00:07]\n",
       "    </div>\n",
       "    "
      ],
      "text/plain": [
       "<IPython.core.display.HTML object>"
      ]
     },
     "metadata": {},
     "output_type": "display_data"
    },
    {
     "name": "stdout",
     "output_type": "stream",
     "text": [
      "Perplexity: 6.14\n",
      "CPU times: user 17min 54s, sys: 22.1 s, total: 18min 16s\n",
      "Wall time: 18min 49s\n"
     ]
    }
   ],
   "source": [
    "%%time\n",
    "trainer.train()\n",
    "\n",
    "# Evaluate and check Perplexity\n",
    "eval_results = trainer.evaluate()\n",
    "print(f\"Perplexity: {math.exp(eval_results['eval_loss']):.2f}\")"
   ]
  },
  {
   "cell_type": "code",
   "execution_count": 113,
   "metadata": {
    "colab": {
     "base_uri": "https://localhost:8080/",
     "height": 285
    },
    "executionInfo": {
     "elapsed": 17641,
     "status": "ok",
     "timestamp": 1639157833224,
     "user": {
      "displayName": "vanadhi chelliah",
      "photoUrl": "https://lh3.googleusercontent.com/a/default-user=s64",
      "userId": "11158136158943693689"
     },
     "user_tz": -330
    },
    "id": "rHppZK-j8rin",
    "outputId": "e12dda4d-c853-4cae-bacf-27216ddb37af"
   },
   "outputs": [
    {
     "name": "stderr",
     "output_type": "stream",
     "text": [
      "Saving model checkpoint to /content/drive/MyDrive/FinLitQA/model/flm_final/bert-base-uncased-fiqa-flm/\n",
      "Configuration saved in /content/drive/MyDrive/FinLitQA/model/flm_final/bert-base-uncased-fiqa-flm/config.json\n",
      "Model weights saved in /content/drive/MyDrive/FinLitQA/model/flm_final/bert-base-uncased-fiqa-flm/pytorch_model.bin\n",
      "tokenizer config file saved in /content/drive/MyDrive/FinLitQA/model/flm_final/bert-base-uncased-fiqa-flm/tokenizer_config.json\n",
      "Special tokens file saved in /content/drive/MyDrive/FinLitQA/model/flm_final/bert-base-uncased-fiqa-flm/special_tokens_map.json\n",
      "***** Running Evaluation *****\n",
      "  Num examples = 1516\n",
      "  Batch size = 12\n"
     ]
    },
    {
     "data": {
      "text/html": [
       "\n",
       "    <div>\n",
       "      \n",
       "      <progress value='254' max='127' style='width:300px; height:20px; vertical-align: middle;'></progress>\n",
       "      [127/127 05:43]\n",
       "    </div>\n",
       "    "
      ],
      "text/plain": [
       "<IPython.core.display.HTML object>"
      ]
     },
     "metadata": {},
     "output_type": "display_data"
    },
    {
     "name": "stdout",
     "output_type": "stream",
     "text": [
      "{'eval_loss': 1.8241761922836304, 'eval_runtime': 7.7642, 'eval_samples_per_second': 195.256, 'eval_steps_per_second': 16.357, 'epoch': 10.0}\n",
      "Perplexity: 6.20\n"
     ]
    },
    {
     "data": {
      "text/html": [
       "<div>\n",
       "<style scoped>\n",
       "    .dataframe tbody tr th:only-of-type {\n",
       "        vertical-align: middle;\n",
       "    }\n",
       "\n",
       "    .dataframe tbody tr th {\n",
       "        vertical-align: top;\n",
       "    }\n",
       "\n",
       "    .dataframe thead th {\n",
       "        text-align: right;\n",
       "    }\n",
       "</style>\n",
       "<table border=\"1\" class=\"dataframe\">\n",
       "  <thead>\n",
       "    <tr style=\"text-align: right;\">\n",
       "      <th></th>\n",
       "      <th>index</th>\n",
       "      <th>eval_loss</th>\n",
       "      <th>eval_runtime</th>\n",
       "      <th>eval_samples_per_second</th>\n",
       "      <th>eval_steps_per_second</th>\n",
       "      <th>epoch</th>\n",
       "      <th>Perplexity</th>\n",
       "    </tr>\n",
       "  </thead>\n",
       "  <tbody>\n",
       "    <tr>\n",
       "      <th>0</th>\n",
       "      <td>bert-base-uncased-fiqa-flm</td>\n",
       "      <td>1.824176</td>\n",
       "      <td>7.7642</td>\n",
       "      <td>195.256</td>\n",
       "      <td>16.357</td>\n",
       "      <td>10.0</td>\n",
       "      <td>6.20</td>\n",
       "    </tr>\n",
       "  </tbody>\n",
       "</table>\n",
       "</div>"
      ],
      "text/plain": [
       "                        index  eval_loss  ...  epoch  Perplexity\n",
       "0  bert-base-uncased-fiqa-flm   1.824176  ...   10.0        6.20\n",
       "\n",
       "[1 rows x 7 columns]"
      ]
     },
     "execution_count": 113,
     "metadata": {},
     "output_type": "execute_result"
    }
   ],
   "source": [
    "# Save the model\n",
    "\n",
    "save_path_model4 = \"/content/drive/MyDrive/FinLitQA/model/flm_final/bert-base-uncased-fiqa-flm/\"\n",
    "trainer.save_model(save_path_model4)\n",
    "\n",
    "# Evaluate the trainer and consolidate the results\n",
    "# Calculate and add Perplexity to the evaluation results\n",
    "\n",
    "evaluate_trainer(trainer, model_name)"
   ]
  },
  {
   "cell_type": "code",
   "execution_count": 114,
   "metadata": {
    "colab": {
     "base_uri": "https://localhost:8080/",
     "height": 832
    },
    "executionInfo": {
     "elapsed": 10038,
     "status": "ok",
     "timestamp": 1639157847636,
     "user": {
      "displayName": "vanadhi chelliah",
      "photoUrl": "https://lh3.googleusercontent.com/a/default-user=s64",
      "userId": "11158136158943693689"
     },
     "user_tz": -330
    },
    "id": "RSnfu6Xe8rio",
    "outputId": "4481ed3d-ef50-4701-9349-d240651ea613"
   },
   "outputs": [
    {
     "name": "stderr",
     "output_type": "stream",
     "text": [
      "loading configuration file /content/drive/MyDrive/FinLitQA/model/flm_final/bert-base-uncased-fiqa-flm/config.json\n",
      "Model config BertConfig {\n",
      "  \"_name_or_path\": \"/content/drive/MyDrive/FinLitQA/model/flm_final/bert-base-uncased-fiqa-flm/\",\n",
      "  \"architectures\": [\n",
      "    \"BertForMaskedLM\"\n",
      "  ],\n",
      "  \"attention_probs_dropout_prob\": 0.1,\n",
      "  \"classifier_dropout\": null,\n",
      "  \"gradient_checkpointing\": false,\n",
      "  \"hidden_act\": \"gelu\",\n",
      "  \"hidden_dropout_prob\": 0.1,\n",
      "  \"hidden_size\": 768,\n",
      "  \"initializer_range\": 0.02,\n",
      "  \"intermediate_size\": 3072,\n",
      "  \"layer_norm_eps\": 1e-12,\n",
      "  \"max_position_embeddings\": 512,\n",
      "  \"model_type\": \"bert\",\n",
      "  \"num_attention_heads\": 12,\n",
      "  \"num_hidden_layers\": 12,\n",
      "  \"pad_token_id\": 0,\n",
      "  \"position_embedding_type\": \"absolute\",\n",
      "  \"torch_dtype\": \"float32\",\n",
      "  \"transformers_version\": \"4.13.0\",\n",
      "  \"type_vocab_size\": 2,\n",
      "  \"use_cache\": true,\n",
      "  \"vocab_size\": 30522\n",
      "}\n",
      "\n",
      "loading weights file /content/drive/MyDrive/FinLitQA/model/flm_final/bert-base-uncased-fiqa-flm/pytorch_model.bin\n",
      "All model checkpoint weights were used when initializing BertForMaskedLM.\n",
      "\n",
      "All the weights of BertForMaskedLM were initialized from the model checkpoint at /content/drive/MyDrive/FinLitQA/model/flm_final/bert-base-uncased-fiqa-flm/.\n",
      "If your task is similar to the task the model of the checkpoint was trained on, you can already use BertForMaskedLM for predictions without further training.\n",
      "***** Running Evaluation *****\n",
      "  Num examples = 1516\n",
      "  Batch size = 12\n"
     ]
    },
    {
     "data": {
      "text/html": [
       "\n",
       "    <div>\n",
       "      \n",
       "      <progress value='381' max='127' style='width:300px; height:20px; vertical-align: middle;'></progress>\n",
       "      [127/127 05:57]\n",
       "    </div>\n",
       "    "
      ],
      "text/plain": [
       "<IPython.core.display.HTML object>"
      ]
     },
     "metadata": {},
     "output_type": "display_data"
    },
    {
     "data": {
      "text/plain": [
       "({'epoch': 10.0,\n",
       "  'eval_loss': 1.775473713874817,\n",
       "  'eval_runtime': 7.7618,\n",
       "  'eval_samples_per_second': 195.315,\n",
       "  'eval_steps_per_second': 16.362},\n",
       " '5.90')"
      ]
     },
     "execution_count": 114,
     "metadata": {},
     "output_type": "execute_result"
    }
   ],
   "source": [
    "# Reload model and check\n",
    "model = AutoModelForMaskedLM.from_pretrained(save_path_model4, local_files_only=True)\n",
    "trainer.model = model.cuda()\n",
    "\n",
    "# Evaluate and check\n",
    "eval_results = trainer.evaluate()\n",
    "eval_results, f\"{math.exp(eval_results['eval_loss']):.2f}\""
   ]
  },
  {
   "cell_type": "code",
   "execution_count": 115,
   "metadata": {
    "colab": {
     "base_uri": "https://localhost:8080/",
     "height": 174
    },
    "executionInfo": {
     "elapsed": 411,
     "status": "ok",
     "timestamp": 1639157864007,
     "user": {
      "displayName": "vanadhi chelliah",
      "photoUrl": "https://lh3.googleusercontent.com/a/default-user=s64",
      "userId": "11158136158943693689"
     },
     "user_tz": -330
    },
    "id": "vbuWRDOw8rio",
    "outputId": "a5b4f3fc-ebc2-40a2-f423-b8e8c9db5502"
   },
   "outputs": [
    {
     "data": {
      "text/html": [
       "<div>\n",
       "<style scoped>\n",
       "    .dataframe tbody tr th:only-of-type {\n",
       "        vertical-align: middle;\n",
       "    }\n",
       "\n",
       "    .dataframe tbody tr th {\n",
       "        vertical-align: top;\n",
       "    }\n",
       "\n",
       "    .dataframe thead th {\n",
       "        text-align: right;\n",
       "    }\n",
       "</style>\n",
       "<table border=\"1\" class=\"dataframe\">\n",
       "  <thead>\n",
       "    <tr style=\"text-align: right;\">\n",
       "      <th></th>\n",
       "      <th>index</th>\n",
       "      <th>eval_loss</th>\n",
       "      <th>eval_runtime</th>\n",
       "      <th>eval_samples_per_second</th>\n",
       "      <th>eval_steps_per_second</th>\n",
       "      <th>epoch</th>\n",
       "      <th>Perplexity</th>\n",
       "    </tr>\n",
       "  </thead>\n",
       "  <tbody>\n",
       "    <tr>\n",
       "      <th>0</th>\n",
       "      <td>bert-base-uncased-flm</td>\n",
       "      <td>2.027018</td>\n",
       "      <td>7.7529</td>\n",
       "      <td>195.540</td>\n",
       "      <td>16.381</td>\n",
       "      <td>5.0</td>\n",
       "      <td>7.59</td>\n",
       "    </tr>\n",
       "    <tr>\n",
       "      <th>1</th>\n",
       "      <td>roberta-base-flm</td>\n",
       "      <td>1.645434</td>\n",
       "      <td>8.2811</td>\n",
       "      <td>174.131</td>\n",
       "      <td>14.612</td>\n",
       "      <td>10.0</td>\n",
       "      <td>5.18</td>\n",
       "    </tr>\n",
       "    <tr>\n",
       "      <th>2</th>\n",
       "      <td>finbert-flm</td>\n",
       "      <td>2.629882</td>\n",
       "      <td>7.7525</td>\n",
       "      <td>195.551</td>\n",
       "      <td>16.382</td>\n",
       "      <td>10.0</td>\n",
       "      <td>13.87</td>\n",
       "    </tr>\n",
       "    <tr>\n",
       "      <th>3</th>\n",
       "      <td>bert-base-uncased-fiqa-flm</td>\n",
       "      <td>1.824176</td>\n",
       "      <td>7.7642</td>\n",
       "      <td>195.256</td>\n",
       "      <td>16.357</td>\n",
       "      <td>10.0</td>\n",
       "      <td>6.20</td>\n",
       "    </tr>\n",
       "  </tbody>\n",
       "</table>\n",
       "</div>"
      ],
      "text/plain": [
       "                        index  eval_loss  ...  epoch  Perplexity\n",
       "0       bert-base-uncased-flm   2.027018  ...    5.0        7.59\n",
       "1            roberta-base-flm   1.645434  ...   10.0        5.18\n",
       "2                 finbert-flm   2.629882  ...   10.0       13.87\n",
       "3  bert-base-uncased-fiqa-flm   1.824176  ...   10.0        6.20\n",
       "\n",
       "[4 rows x 7 columns]"
      ]
     },
     "execution_count": 115,
     "metadata": {},
     "output_type": "execute_result"
    }
   ],
   "source": [
    "df_lmtrain_summary"
   ]
  },
  {
   "cell_type": "code",
   "execution_count": null,
   "metadata": {
    "id": "2fAzmrKL4yrR"
   },
   "outputs": [],
   "source": []
  },
  {
   "cell_type": "markdown",
   "metadata": {
    "id": "wHoS0bE_8rip"
   },
   "source": [
    "## Model 5 - \"roberta-base-fiqa\""
   ]
  },
  {
   "cell_type": "code",
   "execution_count": 116,
   "metadata": {
    "executionInfo": {
     "elapsed": 359,
     "status": "ok",
     "timestamp": 1639157890050,
     "user": {
      "displayName": "vanadhi chelliah",
      "photoUrl": "https://lh3.googleusercontent.com/a/default-user=s64",
      "userId": "11158136158943693689"
     },
     "user_tz": -330
    },
    "id": "AOrgvr5Y8rip"
   },
   "outputs": [],
   "source": [
    "# model_checkpoint5\n",
    "\n",
    "model_checkpoint5 = \"/content/drive/MyDrive/FinLitQA/model/fiqa_final/roberta-base-fiqa/\""
   ]
  },
  {
   "cell_type": "code",
   "execution_count": 117,
   "metadata": {
    "colab": {
     "base_uri": "https://localhost:8080/"
    },
    "executionInfo": {
     "elapsed": 6,
     "status": "ok",
     "timestamp": 1639157891385,
     "user": {
      "displayName": "vanadhi chelliah",
      "photoUrl": "https://lh3.googleusercontent.com/a/default-user=s64",
      "userId": "11158136158943693689"
     },
     "user_tz": -330
    },
    "id": "li9cZMlD8rip",
    "outputId": "5646409f-6845-43d6-a56b-62a9d6a23162"
   },
   "outputs": [
    {
     "name": "stdout",
     "output_type": "stream",
     "text": [
      "/content/drive/MyDrive/FinLitQA/model/flm/ roberta-base-fiqa-flm\n"
     ]
    }
   ],
   "source": [
    "# Define Tokenizer and Model\n",
    "\n",
    "#Training Arguments - Pass training arguments and define trainer\n",
    "model_dir='/content/drive/MyDrive/FinLitQA/model/flm/' \n",
    "model_n = model_checkpoint5.split(\"/\")[-2] \n",
    "model_suffix = \"-flm\" \n",
    "model_name = f\"{model_n}{model_suffix}\"\n",
    "\n",
    "print (model_dir, model_name)"
   ]
  },
  {
   "cell_type": "code",
   "execution_count": 118,
   "metadata": {
    "colab": {
     "base_uri": "https://localhost:8080/"
    },
    "executionInfo": {
     "elapsed": 18469,
     "status": "ok",
     "timestamp": 1639157915639,
     "user": {
      "displayName": "vanadhi chelliah",
      "photoUrl": "https://lh3.googleusercontent.com/a/default-user=s64",
      "userId": "11158136158943693689"
     },
     "user_tz": -330
    },
    "id": "PdCZ1kcHER8R",
    "outputId": "5f490abc-7b37-4f54-9a6d-e4667235cf22"
   },
   "outputs": [
    {
     "name": "stderr",
     "output_type": "stream",
     "text": [
      "Didn't find file /content/drive/MyDrive/FinLitQA/model/fiqa_final/roberta-base-fiqa/added_tokens.json. We won't load it.\n",
      "loading file /content/drive/MyDrive/FinLitQA/model/fiqa_final/roberta-base-fiqa/vocab.json\n",
      "loading file /content/drive/MyDrive/FinLitQA/model/fiqa_final/roberta-base-fiqa/merges.txt\n",
      "loading file /content/drive/MyDrive/FinLitQA/model/fiqa_final/roberta-base-fiqa/tokenizer.json\n",
      "loading file None\n",
      "loading file /content/drive/MyDrive/FinLitQA/model/fiqa_final/roberta-base-fiqa/special_tokens_map.json\n",
      "loading file /content/drive/MyDrive/FinLitQA/model/fiqa_final/roberta-base-fiqa/tokenizer_config.json\n",
      "loading configuration file /content/drive/MyDrive/FinLitQA/model/fiqa_final/roberta-base-fiqa/config.json\n",
      "Model config RobertaConfig {\n",
      "  \"_name_or_path\": \"/content/drive/MyDrive/FinLitQA/model/fiqa_final/roberta-base-fiqa/\",\n",
      "  \"architectures\": [\n",
      "    \"RobertaForMaskedLM\"\n",
      "  ],\n",
      "  \"attention_probs_dropout_prob\": 0.1,\n",
      "  \"bos_token_id\": 0,\n",
      "  \"classifier_dropout\": null,\n",
      "  \"eos_token_id\": 2,\n",
      "  \"hidden_act\": \"gelu\",\n",
      "  \"hidden_dropout_prob\": 0.1,\n",
      "  \"hidden_size\": 768,\n",
      "  \"initializer_range\": 0.02,\n",
      "  \"intermediate_size\": 3072,\n",
      "  \"layer_norm_eps\": 1e-05,\n",
      "  \"max_position_embeddings\": 514,\n",
      "  \"model_type\": \"roberta\",\n",
      "  \"num_attention_heads\": 12,\n",
      "  \"num_hidden_layers\": 12,\n",
      "  \"pad_token_id\": 1,\n",
      "  \"position_embedding_type\": \"absolute\",\n",
      "  \"torch_dtype\": \"float32\",\n",
      "  \"transformers_version\": \"4.13.0\",\n",
      "  \"type_vocab_size\": 1,\n",
      "  \"use_cache\": true,\n",
      "  \"vocab_size\": 50265\n",
      "}\n",
      "\n",
      "loading weights file /content/drive/MyDrive/FinLitQA/model/fiqa_final/roberta-base-fiqa/pytorch_model.bin\n",
      "All model checkpoint weights were used when initializing RobertaForMaskedLM.\n",
      "\n",
      "All the weights of RobertaForMaskedLM were initialized from the model checkpoint at /content/drive/MyDrive/FinLitQA/model/fiqa_final/roberta-base-fiqa/.\n",
      "If your task is similar to the task the model of the checkpoint was trained on, you can already use RobertaForMaskedLM for predictions without further training.\n",
      "PyTorch: setting up devices\n",
      "The default value for the training argument `--report_to` will change in v5 (from all installed integrations to none). In v5, you will need to use `--report_to all` to get the same behavior as now. You should start updating your code and make this info disappear :-).\n"
     ]
    }
   ],
   "source": [
    "# Tokenizer is defined here\n",
    "tokenizer = AutoTokenizer.from_pretrained(model_checkpoint5, local_files_only=True)\n",
    "model = AutoModelForMaskedLM.from_pretrained(model_checkpoint5, local_files_only=True)\n",
    "\n",
    "# Create language modeling datasets\n",
    "finlit_tokenized = finlit_chunked.map(tokenize_function, batched=True, num_proc=4, remove_columns=[\"chunks\"])\n",
    "\n",
    "lm_datasets = finlit_tokenized.map(group_texts, batched=True, batch_size=1000, num_proc=4)\n",
    "\n",
    "# trainer is defined here \n",
    "trainer = trainer_from_args(model_dir, model_name, model, tokenizer, lm_datasets)"
   ]
  },
  {
   "cell_type": "code",
   "execution_count": 119,
   "metadata": {
    "colab": {
     "base_uri": "https://localhost:8080/",
     "height": 1000
    },
    "executionInfo": {
     "elapsed": 1186352,
     "status": "ok",
     "timestamp": 1639159116051,
     "user": {
      "displayName": "vanadhi chelliah",
      "photoUrl": "https://lh3.googleusercontent.com/a/default-user=s64",
      "userId": "11158136158943693689"
     },
     "user_tz": -330
    },
    "id": "-57x-Tfm8riq",
    "outputId": "9b51c6af-b392-4cc5-fdcd-f92c4c4f81ad"
   },
   "outputs": [
    {
     "name": "stderr",
     "output_type": "stream",
     "text": [
      "***** Running training *****\n",
      "  Num examples = 5750\n",
      "  Num Epochs = 10\n",
      "  Instantaneous batch size per device = 16\n",
      "  Total train batch size (w. parallel, distributed & accumulation) = 16\n",
      "  Gradient Accumulation steps = 1\n",
      "  Total optimization steps = 3600\n"
     ]
    },
    {
     "data": {
      "text/html": [
       "\n",
       "    <div>\n",
       "      \n",
       "      <progress value='3600' max='3600' style='width:300px; height:20px; vertical-align: middle;'></progress>\n",
       "      [3600/3600 19:37, Epoch 10/10]\n",
       "    </div>\n",
       "    <table border=\"1\" class=\"dataframe\">\n",
       "  <thead>\n",
       "    <tr style=\"text-align: left;\">\n",
       "      <th>Step</th>\n",
       "      <th>Training Loss</th>\n",
       "      <th>Validation Loss</th>\n",
       "    </tr>\n",
       "  </thead>\n",
       "  <tbody>\n",
       "    <tr>\n",
       "      <td>500</td>\n",
       "      <td>2.050500</td>\n",
       "      <td>1.884697</td>\n",
       "    </tr>\n",
       "    <tr>\n",
       "      <td>1000</td>\n",
       "      <td>1.904100</td>\n",
       "      <td>1.763495</td>\n",
       "    </tr>\n",
       "    <tr>\n",
       "      <td>1500</td>\n",
       "      <td>1.790400</td>\n",
       "      <td>1.743682</td>\n",
       "    </tr>\n",
       "    <tr>\n",
       "      <td>2000</td>\n",
       "      <td>1.729600</td>\n",
       "      <td>1.687358</td>\n",
       "    </tr>\n",
       "    <tr>\n",
       "      <td>2500</td>\n",
       "      <td>1.682700</td>\n",
       "      <td>1.627961</td>\n",
       "    </tr>\n",
       "    <tr>\n",
       "      <td>3000</td>\n",
       "      <td>1.652200</td>\n",
       "      <td>1.666716</td>\n",
       "    </tr>\n",
       "    <tr>\n",
       "      <td>3500</td>\n",
       "      <td>1.631400</td>\n",
       "      <td>1.634170</td>\n",
       "    </tr>\n",
       "  </tbody>\n",
       "</table><p>"
      ],
      "text/plain": [
       "<IPython.core.display.HTML object>"
      ]
     },
     "metadata": {},
     "output_type": "display_data"
    },
    {
     "name": "stderr",
     "output_type": "stream",
     "text": [
      "***** Running Evaluation *****\n",
      "  Num examples = 1442\n",
      "  Batch size = 12\n",
      "Saving model checkpoint to /content/drive/MyDrive/FinLitQA/model/flm/roberta-base-fiqa-flm/checkpoint-500\n",
      "Configuration saved in /content/drive/MyDrive/FinLitQA/model/flm/roberta-base-fiqa-flm/checkpoint-500/config.json\n",
      "Model weights saved in /content/drive/MyDrive/FinLitQA/model/flm/roberta-base-fiqa-flm/checkpoint-500/pytorch_model.bin\n",
      "tokenizer config file saved in /content/drive/MyDrive/FinLitQA/model/flm/roberta-base-fiqa-flm/checkpoint-500/tokenizer_config.json\n",
      "Special tokens file saved in /content/drive/MyDrive/FinLitQA/model/flm/roberta-base-fiqa-flm/checkpoint-500/special_tokens_map.json\n",
      "***** Running Evaluation *****\n",
      "  Num examples = 1442\n",
      "  Batch size = 12\n",
      "Saving model checkpoint to /content/drive/MyDrive/FinLitQA/model/flm/roberta-base-fiqa-flm/checkpoint-1000\n",
      "Configuration saved in /content/drive/MyDrive/FinLitQA/model/flm/roberta-base-fiqa-flm/checkpoint-1000/config.json\n",
      "Model weights saved in /content/drive/MyDrive/FinLitQA/model/flm/roberta-base-fiqa-flm/checkpoint-1000/pytorch_model.bin\n",
      "tokenizer config file saved in /content/drive/MyDrive/FinLitQA/model/flm/roberta-base-fiqa-flm/checkpoint-1000/tokenizer_config.json\n",
      "Special tokens file saved in /content/drive/MyDrive/FinLitQA/model/flm/roberta-base-fiqa-flm/checkpoint-1000/special_tokens_map.json\n",
      "***** Running Evaluation *****\n",
      "  Num examples = 1442\n",
      "  Batch size = 12\n",
      "Saving model checkpoint to /content/drive/MyDrive/FinLitQA/model/flm/roberta-base-fiqa-flm/checkpoint-1500\n",
      "Configuration saved in /content/drive/MyDrive/FinLitQA/model/flm/roberta-base-fiqa-flm/checkpoint-1500/config.json\n",
      "Model weights saved in /content/drive/MyDrive/FinLitQA/model/flm/roberta-base-fiqa-flm/checkpoint-1500/pytorch_model.bin\n",
      "tokenizer config file saved in /content/drive/MyDrive/FinLitQA/model/flm/roberta-base-fiqa-flm/checkpoint-1500/tokenizer_config.json\n",
      "Special tokens file saved in /content/drive/MyDrive/FinLitQA/model/flm/roberta-base-fiqa-flm/checkpoint-1500/special_tokens_map.json\n",
      "***** Running Evaluation *****\n",
      "  Num examples = 1442\n",
      "  Batch size = 12\n",
      "Saving model checkpoint to /content/drive/MyDrive/FinLitQA/model/flm/roberta-base-fiqa-flm/checkpoint-2000\n",
      "Configuration saved in /content/drive/MyDrive/FinLitQA/model/flm/roberta-base-fiqa-flm/checkpoint-2000/config.json\n",
      "Model weights saved in /content/drive/MyDrive/FinLitQA/model/flm/roberta-base-fiqa-flm/checkpoint-2000/pytorch_model.bin\n",
      "tokenizer config file saved in /content/drive/MyDrive/FinLitQA/model/flm/roberta-base-fiqa-flm/checkpoint-2000/tokenizer_config.json\n",
      "Special tokens file saved in /content/drive/MyDrive/FinLitQA/model/flm/roberta-base-fiqa-flm/checkpoint-2000/special_tokens_map.json\n",
      "***** Running Evaluation *****\n",
      "  Num examples = 1442\n",
      "  Batch size = 12\n",
      "Saving model checkpoint to /content/drive/MyDrive/FinLitQA/model/flm/roberta-base-fiqa-flm/checkpoint-2500\n",
      "Configuration saved in /content/drive/MyDrive/FinLitQA/model/flm/roberta-base-fiqa-flm/checkpoint-2500/config.json\n",
      "Model weights saved in /content/drive/MyDrive/FinLitQA/model/flm/roberta-base-fiqa-flm/checkpoint-2500/pytorch_model.bin\n",
      "tokenizer config file saved in /content/drive/MyDrive/FinLitQA/model/flm/roberta-base-fiqa-flm/checkpoint-2500/tokenizer_config.json\n",
      "Special tokens file saved in /content/drive/MyDrive/FinLitQA/model/flm/roberta-base-fiqa-flm/checkpoint-2500/special_tokens_map.json\n",
      "***** Running Evaluation *****\n",
      "  Num examples = 1442\n",
      "  Batch size = 12\n",
      "Saving model checkpoint to /content/drive/MyDrive/FinLitQA/model/flm/roberta-base-fiqa-flm/checkpoint-3000\n",
      "Configuration saved in /content/drive/MyDrive/FinLitQA/model/flm/roberta-base-fiqa-flm/checkpoint-3000/config.json\n",
      "Model weights saved in /content/drive/MyDrive/FinLitQA/model/flm/roberta-base-fiqa-flm/checkpoint-3000/pytorch_model.bin\n",
      "tokenizer config file saved in /content/drive/MyDrive/FinLitQA/model/flm/roberta-base-fiqa-flm/checkpoint-3000/tokenizer_config.json\n",
      "Special tokens file saved in /content/drive/MyDrive/FinLitQA/model/flm/roberta-base-fiqa-flm/checkpoint-3000/special_tokens_map.json\n",
      "***** Running Evaluation *****\n",
      "  Num examples = 1442\n",
      "  Batch size = 12\n",
      "Saving model checkpoint to /content/drive/MyDrive/FinLitQA/model/flm/roberta-base-fiqa-flm/checkpoint-3500\n",
      "Configuration saved in /content/drive/MyDrive/FinLitQA/model/flm/roberta-base-fiqa-flm/checkpoint-3500/config.json\n",
      "Model weights saved in /content/drive/MyDrive/FinLitQA/model/flm/roberta-base-fiqa-flm/checkpoint-3500/pytorch_model.bin\n",
      "tokenizer config file saved in /content/drive/MyDrive/FinLitQA/model/flm/roberta-base-fiqa-flm/checkpoint-3500/tokenizer_config.json\n",
      "Special tokens file saved in /content/drive/MyDrive/FinLitQA/model/flm/roberta-base-fiqa-flm/checkpoint-3500/special_tokens_map.json\n",
      "\n",
      "\n",
      "Training completed. Do not forget to share your model on huggingface.co/models =)\n",
      "\n",
      "\n",
      "Loading best model from /content/drive/MyDrive/FinLitQA/model/flm/roberta-base-fiqa-flm/checkpoint-2500 (score: 1.6279608011245728).\n",
      "***** Running Evaluation *****\n",
      "  Num examples = 1442\n",
      "  Batch size = 12\n"
     ]
    },
    {
     "data": {
      "text/html": [
       "\n",
       "    <div>\n",
       "      \n",
       "      <progress value='121' max='121' style='width:300px; height:20px; vertical-align: middle;'></progress>\n",
       "      [121/121 00:08]\n",
       "    </div>\n",
       "    "
      ],
      "text/plain": [
       "<IPython.core.display.HTML object>"
      ]
     },
     "metadata": {},
     "output_type": "display_data"
    },
    {
     "name": "stdout",
     "output_type": "stream",
     "text": [
      "Perplexity: 5.24\n",
      "CPU times: user 18min 42s, sys: 25.5 s, total: 19min 7s\n",
      "Wall time: 19min 45s\n"
     ]
    }
   ],
   "source": [
    "%%time\n",
    "trainer.train()\n",
    "\n",
    "# Evaluate and check Perplexity\n",
    "eval_results = trainer.evaluate()\n",
    "print(f\"Perplexity: {math.exp(eval_results['eval_loss']):.2f}\")"
   ]
  },
  {
   "cell_type": "code",
   "execution_count": 120,
   "metadata": {
    "colab": {
     "base_uri": "https://localhost:8080/",
     "height": 285
    },
    "executionInfo": {
     "elapsed": 17313,
     "status": "ok",
     "timestamp": 1639159169964,
     "user": {
      "displayName": "vanadhi chelliah",
      "photoUrl": "https://lh3.googleusercontent.com/a/default-user=s64",
      "userId": "11158136158943693689"
     },
     "user_tz": -330
    },
    "id": "aoZiIVks8riq",
    "outputId": "107b6d7c-7f7f-4a99-cfa3-286c551e9bb5"
   },
   "outputs": [
    {
     "name": "stderr",
     "output_type": "stream",
     "text": [
      "Saving model checkpoint to /content/drive/MyDrive/FinLitQA/model/flm_final/roberta-base-fiqa-flm/\n",
      "Configuration saved in /content/drive/MyDrive/FinLitQA/model/flm_final/roberta-base-fiqa-flm/config.json\n",
      "Model weights saved in /content/drive/MyDrive/FinLitQA/model/flm_final/roberta-base-fiqa-flm/pytorch_model.bin\n",
      "tokenizer config file saved in /content/drive/MyDrive/FinLitQA/model/flm_final/roberta-base-fiqa-flm/tokenizer_config.json\n",
      "Special tokens file saved in /content/drive/MyDrive/FinLitQA/model/flm_final/roberta-base-fiqa-flm/special_tokens_map.json\n",
      "***** Running Evaluation *****\n",
      "  Num examples = 1442\n",
      "  Batch size = 12\n"
     ]
    },
    {
     "data": {
      "text/html": [
       "\n",
       "    <div>\n",
       "      \n",
       "      <progress value='242' max='121' style='width:300px; height:20px; vertical-align: middle;'></progress>\n",
       "      [121/121 01:02]\n",
       "    </div>\n",
       "    "
      ],
      "text/plain": [
       "<IPython.core.display.HTML object>"
      ]
     },
     "metadata": {},
     "output_type": "display_data"
    },
    {
     "name": "stdout",
     "output_type": "stream",
     "text": [
      "{'eval_loss': 1.6144648790359497, 'eval_runtime': 8.277, 'eval_samples_per_second': 174.218, 'eval_steps_per_second': 14.619, 'epoch': 10.0}\n",
      "Perplexity: 5.03\n"
     ]
    },
    {
     "data": {
      "text/html": [
       "<div>\n",
       "<style scoped>\n",
       "    .dataframe tbody tr th:only-of-type {\n",
       "        vertical-align: middle;\n",
       "    }\n",
       "\n",
       "    .dataframe tbody tr th {\n",
       "        vertical-align: top;\n",
       "    }\n",
       "\n",
       "    .dataframe thead th {\n",
       "        text-align: right;\n",
       "    }\n",
       "</style>\n",
       "<table border=\"1\" class=\"dataframe\">\n",
       "  <thead>\n",
       "    <tr style=\"text-align: right;\">\n",
       "      <th></th>\n",
       "      <th>index</th>\n",
       "      <th>eval_loss</th>\n",
       "      <th>eval_runtime</th>\n",
       "      <th>eval_samples_per_second</th>\n",
       "      <th>eval_steps_per_second</th>\n",
       "      <th>epoch</th>\n",
       "      <th>Perplexity</th>\n",
       "    </tr>\n",
       "  </thead>\n",
       "  <tbody>\n",
       "    <tr>\n",
       "      <th>0</th>\n",
       "      <td>roberta-base-fiqa-flm</td>\n",
       "      <td>1.614465</td>\n",
       "      <td>8.277</td>\n",
       "      <td>174.218</td>\n",
       "      <td>14.619</td>\n",
       "      <td>10.0</td>\n",
       "      <td>5.03</td>\n",
       "    </tr>\n",
       "  </tbody>\n",
       "</table>\n",
       "</div>"
      ],
      "text/plain": [
       "                   index  eval_loss  ...  epoch  Perplexity\n",
       "0  roberta-base-fiqa-flm   1.614465  ...   10.0        5.03\n",
       "\n",
       "[1 rows x 7 columns]"
      ]
     },
     "execution_count": 120,
     "metadata": {},
     "output_type": "execute_result"
    }
   ],
   "source": [
    "# Save the model\n",
    "\n",
    "save_path_model5 = \"/content/drive/MyDrive/FinLitQA/model/flm_final/roberta-base-fiqa-flm/\"\n",
    "trainer.save_model(save_path_model5)\n",
    "\n",
    "# Evaluate the trainer and consolidate the results\n",
    "# Calculate and add Perplexity to the evaluation results\n",
    "\n",
    "evaluate_trainer(trainer, model_name)"
   ]
  },
  {
   "cell_type": "code",
   "execution_count": 121,
   "metadata": {
    "colab": {
     "base_uri": "https://localhost:8080/",
     "height": 851
    },
    "executionInfo": {
     "elapsed": 11049,
     "status": "ok",
     "timestamp": 1639159182305,
     "user": {
      "displayName": "vanadhi chelliah",
      "photoUrl": "https://lh3.googleusercontent.com/a/default-user=s64",
      "userId": "11158136158943693689"
     },
     "user_tz": -330
    },
    "id": "Lg1v1C_68rir",
    "outputId": "1e758b17-8d69-4e74-e40e-ac939e077e3f"
   },
   "outputs": [
    {
     "name": "stderr",
     "output_type": "stream",
     "text": [
      "loading configuration file /content/drive/MyDrive/FinLitQA/model/flm_final/roberta-base-fiqa-flm/config.json\n",
      "Model config RobertaConfig {\n",
      "  \"_name_or_path\": \"/content/drive/MyDrive/FinLitQA/model/flm_final/roberta-base-fiqa-flm/\",\n",
      "  \"architectures\": [\n",
      "    \"RobertaForMaskedLM\"\n",
      "  ],\n",
      "  \"attention_probs_dropout_prob\": 0.1,\n",
      "  \"bos_token_id\": 0,\n",
      "  \"classifier_dropout\": null,\n",
      "  \"eos_token_id\": 2,\n",
      "  \"hidden_act\": \"gelu\",\n",
      "  \"hidden_dropout_prob\": 0.1,\n",
      "  \"hidden_size\": 768,\n",
      "  \"initializer_range\": 0.02,\n",
      "  \"intermediate_size\": 3072,\n",
      "  \"layer_norm_eps\": 1e-05,\n",
      "  \"max_position_embeddings\": 514,\n",
      "  \"model_type\": \"roberta\",\n",
      "  \"num_attention_heads\": 12,\n",
      "  \"num_hidden_layers\": 12,\n",
      "  \"pad_token_id\": 1,\n",
      "  \"position_embedding_type\": \"absolute\",\n",
      "  \"torch_dtype\": \"float32\",\n",
      "  \"transformers_version\": \"4.13.0\",\n",
      "  \"type_vocab_size\": 1,\n",
      "  \"use_cache\": true,\n",
      "  \"vocab_size\": 50265\n",
      "}\n",
      "\n",
      "loading weights file /content/drive/MyDrive/FinLitQA/model/flm_final/roberta-base-fiqa-flm/pytorch_model.bin\n",
      "All model checkpoint weights were used when initializing RobertaForMaskedLM.\n",
      "\n",
      "All the weights of RobertaForMaskedLM were initialized from the model checkpoint at /content/drive/MyDrive/FinLitQA/model/flm_final/roberta-base-fiqa-flm/.\n",
      "If your task is similar to the task the model of the checkpoint was trained on, you can already use RobertaForMaskedLM for predictions without further training.\n",
      "***** Running Evaluation *****\n",
      "  Num examples = 1442\n",
      "  Batch size = 12\n"
     ]
    },
    {
     "data": {
      "text/html": [
       "\n",
       "    <div>\n",
       "      \n",
       "      <progress value='363' max='121' style='width:300px; height:20px; vertical-align: middle;'></progress>\n",
       "      [121/121 01:14]\n",
       "    </div>\n",
       "    "
      ],
      "text/plain": [
       "<IPython.core.display.HTML object>"
      ]
     },
     "metadata": {},
     "output_type": "display_data"
    },
    {
     "data": {
      "text/plain": [
       "({'epoch': 10.0,\n",
       "  'eval_loss': 1.6568320989608765,\n",
       "  'eval_runtime': 8.2617,\n",
       "  'eval_samples_per_second': 174.541,\n",
       "  'eval_steps_per_second': 14.646},\n",
       " '5.24')"
      ]
     },
     "execution_count": 121,
     "metadata": {},
     "output_type": "execute_result"
    }
   ],
   "source": [
    "# Reload model and check\n",
    "model = AutoModelForMaskedLM.from_pretrained(save_path_model5, local_files_only=True)\n",
    "trainer.model = model.cuda()\n",
    "\n",
    "# Evaluate and check\n",
    "eval_results = trainer.evaluate()\n",
    "eval_results, f\"{math.exp(eval_results['eval_loss']):.2f}\""
   ]
  },
  {
   "cell_type": "code",
   "execution_count": 122,
   "metadata": {
    "colab": {
     "base_uri": "https://localhost:8080/",
     "height": 206
    },
    "executionInfo": {
     "elapsed": 425,
     "status": "ok",
     "timestamp": 1639159193019,
     "user": {
      "displayName": "vanadhi chelliah",
      "photoUrl": "https://lh3.googleusercontent.com/a/default-user=s64",
      "userId": "11158136158943693689"
     },
     "user_tz": -330
    },
    "id": "QfttSzly8ris",
    "outputId": "0f177f61-68e4-4784-ad0f-c14c6eed536c"
   },
   "outputs": [
    {
     "data": {
      "text/html": [
       "<div>\n",
       "<style scoped>\n",
       "    .dataframe tbody tr th:only-of-type {\n",
       "        vertical-align: middle;\n",
       "    }\n",
       "\n",
       "    .dataframe tbody tr th {\n",
       "        vertical-align: top;\n",
       "    }\n",
       "\n",
       "    .dataframe thead th {\n",
       "        text-align: right;\n",
       "    }\n",
       "</style>\n",
       "<table border=\"1\" class=\"dataframe\">\n",
       "  <thead>\n",
       "    <tr style=\"text-align: right;\">\n",
       "      <th></th>\n",
       "      <th>index</th>\n",
       "      <th>eval_loss</th>\n",
       "      <th>eval_runtime</th>\n",
       "      <th>eval_samples_per_second</th>\n",
       "      <th>eval_steps_per_second</th>\n",
       "      <th>epoch</th>\n",
       "      <th>Perplexity</th>\n",
       "    </tr>\n",
       "  </thead>\n",
       "  <tbody>\n",
       "    <tr>\n",
       "      <th>0</th>\n",
       "      <td>bert-base-uncased-flm</td>\n",
       "      <td>2.027018</td>\n",
       "      <td>7.7529</td>\n",
       "      <td>195.540</td>\n",
       "      <td>16.381</td>\n",
       "      <td>5.0</td>\n",
       "      <td>7.59</td>\n",
       "    </tr>\n",
       "    <tr>\n",
       "      <th>1</th>\n",
       "      <td>roberta-base-flm</td>\n",
       "      <td>1.645434</td>\n",
       "      <td>8.2811</td>\n",
       "      <td>174.131</td>\n",
       "      <td>14.612</td>\n",
       "      <td>10.0</td>\n",
       "      <td>5.18</td>\n",
       "    </tr>\n",
       "    <tr>\n",
       "      <th>2</th>\n",
       "      <td>finbert-flm</td>\n",
       "      <td>2.629882</td>\n",
       "      <td>7.7525</td>\n",
       "      <td>195.551</td>\n",
       "      <td>16.382</td>\n",
       "      <td>10.0</td>\n",
       "      <td>13.87</td>\n",
       "    </tr>\n",
       "    <tr>\n",
       "      <th>3</th>\n",
       "      <td>bert-base-uncased-fiqa-flm</td>\n",
       "      <td>1.824176</td>\n",
       "      <td>7.7642</td>\n",
       "      <td>195.256</td>\n",
       "      <td>16.357</td>\n",
       "      <td>10.0</td>\n",
       "      <td>6.20</td>\n",
       "    </tr>\n",
       "    <tr>\n",
       "      <th>4</th>\n",
       "      <td>roberta-base-fiqa-flm</td>\n",
       "      <td>1.614465</td>\n",
       "      <td>8.2770</td>\n",
       "      <td>174.218</td>\n",
       "      <td>14.619</td>\n",
       "      <td>10.0</td>\n",
       "      <td>5.03</td>\n",
       "    </tr>\n",
       "  </tbody>\n",
       "</table>\n",
       "</div>"
      ],
      "text/plain": [
       "                        index  eval_loss  ...  epoch  Perplexity\n",
       "0       bert-base-uncased-flm   2.027018  ...    5.0        7.59\n",
       "1            roberta-base-flm   1.645434  ...   10.0        5.18\n",
       "2                 finbert-flm   2.629882  ...   10.0       13.87\n",
       "3  bert-base-uncased-fiqa-flm   1.824176  ...   10.0        6.20\n",
       "4       roberta-base-fiqa-flm   1.614465  ...   10.0        5.03\n",
       "\n",
       "[5 rows x 7 columns]"
      ]
     },
     "execution_count": 122,
     "metadata": {},
     "output_type": "execute_result"
    }
   ],
   "source": [
    "df_lmtrain_summary"
   ]
  },
  {
   "cell_type": "code",
   "execution_count": null,
   "metadata": {
    "id": "-uUDdc5o8ris"
   },
   "outputs": [],
   "source": []
  },
  {
   "cell_type": "markdown",
   "metadata": {
    "id": "45CVZUe88ris"
   },
   "source": [
    "## Model 6 - \"finbert-fiqa\""
   ]
  },
  {
   "cell_type": "code",
   "execution_count": 123,
   "metadata": {
    "executionInfo": {
     "elapsed": 542,
     "status": "ok",
     "timestamp": 1639159210121,
     "user": {
      "displayName": "vanadhi chelliah",
      "photoUrl": "https://lh3.googleusercontent.com/a/default-user=s64",
      "userId": "11158136158943693689"
     },
     "user_tz": -330
    },
    "id": "-3IZ_nWE8rit"
   },
   "outputs": [],
   "source": [
    "# model_checkpoint6\n",
    "\n",
    "model_checkpoint6 = \"/content/drive/MyDrive/FinLitQA/model/fiqa_final/finbert-fiqa/\""
   ]
  },
  {
   "cell_type": "code",
   "execution_count": 124,
   "metadata": {
    "colab": {
     "base_uri": "https://localhost:8080/"
    },
    "executionInfo": {
     "elapsed": 11,
     "status": "ok",
     "timestamp": 1639159211355,
     "user": {
      "displayName": "vanadhi chelliah",
      "photoUrl": "https://lh3.googleusercontent.com/a/default-user=s64",
      "userId": "11158136158943693689"
     },
     "user_tz": -330
    },
    "id": "GvJr0B4r8riy",
    "outputId": "1782ccab-0fc6-4481-a786-6d79735d1144"
   },
   "outputs": [
    {
     "name": "stdout",
     "output_type": "stream",
     "text": [
      "/content/drive/MyDrive/FinLitQA/model/flm/ finbert-fiqa-flm\n"
     ]
    }
   ],
   "source": [
    "# Define Tokenizer and Model\n",
    "\n",
    "#Training Arguments - Pass training arguments and define trainer\n",
    "model_dir='/content/drive/MyDrive/FinLitQA/model/flm/' \n",
    "model_n = model_checkpoint6.split(\"/\")[-2] \n",
    "model_suffix = \"-flm\" \n",
    "model_name = f\"{model_n}{model_suffix}\"\n",
    "\n",
    "print (model_dir, model_name)"
   ]
  },
  {
   "cell_type": "code",
   "execution_count": 125,
   "metadata": {
    "colab": {
     "base_uri": "https://localhost:8080/"
    },
    "executionInfo": {
     "elapsed": 22934,
     "status": "ok",
     "timestamp": 1639159237238,
     "user": {
      "displayName": "vanadhi chelliah",
      "photoUrl": "https://lh3.googleusercontent.com/a/default-user=s64",
      "userId": "11158136158943693689"
     },
     "user_tz": -330
    },
    "id": "ak_ZEWMTF035",
    "outputId": "2c4f4f56-32da-4776-e1c0-d788e675955b"
   },
   "outputs": [
    {
     "name": "stderr",
     "output_type": "stream",
     "text": [
      "Didn't find file /content/drive/MyDrive/FinLitQA/model/fiqa_final/finbert-fiqa/added_tokens.json. We won't load it.\n",
      "loading file /content/drive/MyDrive/FinLitQA/model/fiqa_final/finbert-fiqa/vocab.txt\n",
      "loading file /content/drive/MyDrive/FinLitQA/model/fiqa_final/finbert-fiqa/tokenizer.json\n",
      "loading file None\n",
      "loading file /content/drive/MyDrive/FinLitQA/model/fiqa_final/finbert-fiqa/special_tokens_map.json\n",
      "loading file /content/drive/MyDrive/FinLitQA/model/fiqa_final/finbert-fiqa/tokenizer_config.json\n",
      "loading configuration file /content/drive/MyDrive/FinLitQA/model/fiqa_final/finbert-fiqa/config.json\n",
      "Model config BertConfig {\n",
      "  \"_name_or_path\": \"/content/drive/MyDrive/FinLitQA/model/fiqa_final/finbert-fiqa/\",\n",
      "  \"architectures\": [\n",
      "    \"BertForMaskedLM\"\n",
      "  ],\n",
      "  \"attention_probs_dropout_prob\": 0.1,\n",
      "  \"classifier_dropout\": null,\n",
      "  \"gradient_checkpointing\": false,\n",
      "  \"hidden_act\": \"gelu\",\n",
      "  \"hidden_dropout_prob\": 0.1,\n",
      "  \"hidden_size\": 768,\n",
      "  \"id2label\": {\n",
      "    \"0\": \"positive\",\n",
      "    \"1\": \"negative\",\n",
      "    \"2\": \"neutral\"\n",
      "  },\n",
      "  \"initializer_range\": 0.02,\n",
      "  \"intermediate_size\": 3072,\n",
      "  \"label2id\": {\n",
      "    \"negative\": 1,\n",
      "    \"neutral\": 2,\n",
      "    \"positive\": 0\n",
      "  },\n",
      "  \"layer_norm_eps\": 1e-12,\n",
      "  \"max_position_embeddings\": 512,\n",
      "  \"model_type\": \"bert\",\n",
      "  \"num_attention_heads\": 12,\n",
      "  \"num_hidden_layers\": 12,\n",
      "  \"pad_token_id\": 0,\n",
      "  \"position_embedding_type\": \"absolute\",\n",
      "  \"torch_dtype\": \"float32\",\n",
      "  \"transformers_version\": \"4.13.0\",\n",
      "  \"type_vocab_size\": 2,\n",
      "  \"use_cache\": true,\n",
      "  \"vocab_size\": 30522\n",
      "}\n",
      "\n",
      "loading weights file /content/drive/MyDrive/FinLitQA/model/fiqa_final/finbert-fiqa/pytorch_model.bin\n",
      "All model checkpoint weights were used when initializing BertForMaskedLM.\n",
      "\n",
      "All the weights of BertForMaskedLM were initialized from the model checkpoint at /content/drive/MyDrive/FinLitQA/model/fiqa_final/finbert-fiqa/.\n",
      "If your task is similar to the task the model of the checkpoint was trained on, you can already use BertForMaskedLM for predictions without further training.\n",
      "PyTorch: setting up devices\n",
      "The default value for the training argument `--report_to` will change in v5 (from all installed integrations to none). In v5, you will need to use `--report_to all` to get the same behavior as now. You should start updating your code and make this info disappear :-).\n"
     ]
    }
   ],
   "source": [
    "# Tokenizer is defined here\n",
    "tokenizer = AutoTokenizer.from_pretrained(model_checkpoint6, local_files_only=True)\n",
    "model = AutoModelForMaskedLM.from_pretrained(model_checkpoint6, local_files_only=True)\n",
    "\n",
    "# Create language modeling datasets\n",
    "finlit_tokenized = finlit_chunked.map(tokenize_function, batched=True, num_proc=4, remove_columns=[\"chunks\"])\n",
    "\n",
    "lm_datasets = finlit_tokenized.map(group_texts, batched=True, batch_size=1000, num_proc=4)\n",
    "\n",
    "# trainer is defined here \n",
    "trainer = trainer_from_args(model_dir, model_name, model, tokenizer, lm_datasets)"
   ]
  },
  {
   "cell_type": "code",
   "execution_count": 126,
   "metadata": {
    "colab": {
     "base_uri": "https://localhost:8080/",
     "height": 1000
    },
    "executionInfo": {
     "elapsed": 108800,
     "status": "ok",
     "timestamp": 1639160366015,
     "user": {
      "displayName": "vanadhi chelliah",
      "photoUrl": "https://lh3.googleusercontent.com/a/default-user=s64",
      "userId": "11158136158943693689"
     },
     "user_tz": -330
    },
    "id": "-4C-RGvR8riy",
    "outputId": "561d0a1d-1509-4d50-f3b6-09cc4b8ca804"
   },
   "outputs": [
    {
     "metadata": {
      "tags": null
     },
     "name": "stderr",
     "output_type": "stream",
     "text": [
      "***** Running training *****\n",
      "  Num examples = 6099\n",
      "  Num Epochs = 10\n",
      "  Instantaneous batch size per device = 16\n",
      "  Total train batch size (w. parallel, distributed & accumulation) = 16\n",
      "  Gradient Accumulation steps = 1\n",
      "  Total optimization steps = 3820\n"
     ]
    },
    {
     "data": {
      "text/html": [
       "\n",
       "    <div>\n",
       "      \n",
       "      <progress value='3497' max='3820' style='width:300px; height:20px; vertical-align: middle;'></progress>\n",
       "      [3497/3820 16:59 < 01:34, 3.43 it/s, Epoch 9.15/10]\n",
       "    </div>\n",
       "    <table border=\"1\" class=\"dataframe\">\n",
       "  <thead>\n",
       "    <tr style=\"text-align: left;\">\n",
       "      <th>Step</th>\n",
       "      <th>Training Loss</th>\n",
       "      <th>Validation Loss</th>\n",
       "    </tr>\n",
       "  </thead>\n",
       "  <tbody>\n",
       "    <tr>\n",
       "      <td>500</td>\n",
       "      <td>2.742700</td>\n",
       "      <td>2.528950</td>\n",
       "    </tr>\n",
       "    <tr>\n",
       "      <td>1000</td>\n",
       "      <td>2.529700</td>\n",
       "      <td>2.407656</td>\n",
       "    </tr>\n",
       "    <tr>\n",
       "      <td>1500</td>\n",
       "      <td>2.390600</td>\n",
       "      <td>2.327312</td>\n",
       "    </tr>\n",
       "    <tr>\n",
       "      <td>2000</td>\n",
       "      <td>2.343600</td>\n",
       "      <td>2.273634</td>\n",
       "    </tr>\n",
       "    <tr>\n",
       "      <td>2500</td>\n",
       "      <td>2.250100</td>\n",
       "      <td>2.224309</td>\n",
       "    </tr>\n",
       "    <tr>\n",
       "      <td>3000</td>\n",
       "      <td>2.213400</td>\n",
       "      <td>2.196584</td>\n",
       "    </tr>\n",
       "  </tbody>\n",
       "</table><p>"
      ],
      "text/plain": [
       "<IPython.core.display.HTML object>"
      ]
     },
     "metadata": {},
     "output_type": "display_data"
    },
    {
     "metadata": {
      "tags": null
     },
     "name": "stderr",
     "output_type": "stream",
     "text": [
      "***** Running Evaluation *****\n",
      "  Num examples = 1516\n",
      "  Batch size = 12\n",
      "Saving model checkpoint to /content/drive/MyDrive/FinLitQA/model/flm/finbert-fiqa-flm/checkpoint-500\n",
      "Configuration saved in /content/drive/MyDrive/FinLitQA/model/flm/finbert-fiqa-flm/checkpoint-500/config.json\n",
      "Model weights saved in /content/drive/MyDrive/FinLitQA/model/flm/finbert-fiqa-flm/checkpoint-500/pytorch_model.bin\n",
      "tokenizer config file saved in /content/drive/MyDrive/FinLitQA/model/flm/finbert-fiqa-flm/checkpoint-500/tokenizer_config.json\n",
      "Special tokens file saved in /content/drive/MyDrive/FinLitQA/model/flm/finbert-fiqa-flm/checkpoint-500/special_tokens_map.json\n",
      "***** Running Evaluation *****\n",
      "  Num examples = 1516\n",
      "  Batch size = 12\n",
      "Saving model checkpoint to /content/drive/MyDrive/FinLitQA/model/flm/finbert-fiqa-flm/checkpoint-1000\n",
      "Configuration saved in /content/drive/MyDrive/FinLitQA/model/flm/finbert-fiqa-flm/checkpoint-1000/config.json\n",
      "Model weights saved in /content/drive/MyDrive/FinLitQA/model/flm/finbert-fiqa-flm/checkpoint-1000/pytorch_model.bin\n",
      "tokenizer config file saved in /content/drive/MyDrive/FinLitQA/model/flm/finbert-fiqa-flm/checkpoint-1000/tokenizer_config.json\n",
      "Special tokens file saved in /content/drive/MyDrive/FinLitQA/model/flm/finbert-fiqa-flm/checkpoint-1000/special_tokens_map.json\n",
      "***** Running Evaluation *****\n",
      "  Num examples = 1516\n",
      "  Batch size = 12\n",
      "Saving model checkpoint to /content/drive/MyDrive/FinLitQA/model/flm/finbert-fiqa-flm/checkpoint-1500\n",
      "Configuration saved in /content/drive/MyDrive/FinLitQA/model/flm/finbert-fiqa-flm/checkpoint-1500/config.json\n",
      "Model weights saved in /content/drive/MyDrive/FinLitQA/model/flm/finbert-fiqa-flm/checkpoint-1500/pytorch_model.bin\n",
      "tokenizer config file saved in /content/drive/MyDrive/FinLitQA/model/flm/finbert-fiqa-flm/checkpoint-1500/tokenizer_config.json\n",
      "Special tokens file saved in /content/drive/MyDrive/FinLitQA/model/flm/finbert-fiqa-flm/checkpoint-1500/special_tokens_map.json\n",
      "***** Running Evaluation *****\n",
      "  Num examples = 1516\n",
      "  Batch size = 12\n",
      "Saving model checkpoint to /content/drive/MyDrive/FinLitQA/model/flm/finbert-fiqa-flm/checkpoint-2000\n",
      "Configuration saved in /content/drive/MyDrive/FinLitQA/model/flm/finbert-fiqa-flm/checkpoint-2000/config.json\n",
      "Model weights saved in /content/drive/MyDrive/FinLitQA/model/flm/finbert-fiqa-flm/checkpoint-2000/pytorch_model.bin\n",
      "tokenizer config file saved in /content/drive/MyDrive/FinLitQA/model/flm/finbert-fiqa-flm/checkpoint-2000/tokenizer_config.json\n",
      "Special tokens file saved in /content/drive/MyDrive/FinLitQA/model/flm/finbert-fiqa-flm/checkpoint-2000/special_tokens_map.json\n",
      "***** Running Evaluation *****\n",
      "  Num examples = 1516\n",
      "  Batch size = 12\n",
      "Saving model checkpoint to /content/drive/MyDrive/FinLitQA/model/flm/finbert-fiqa-flm/checkpoint-2500\n",
      "Configuration saved in /content/drive/MyDrive/FinLitQA/model/flm/finbert-fiqa-flm/checkpoint-2500/config.json\n",
      "Model weights saved in /content/drive/MyDrive/FinLitQA/model/flm/finbert-fiqa-flm/checkpoint-2500/pytorch_model.bin\n",
      "tokenizer config file saved in /content/drive/MyDrive/FinLitQA/model/flm/finbert-fiqa-flm/checkpoint-2500/tokenizer_config.json\n",
      "Special tokens file saved in /content/drive/MyDrive/FinLitQA/model/flm/finbert-fiqa-flm/checkpoint-2500/special_tokens_map.json\n",
      "***** Running Evaluation *****\n",
      "  Num examples = 1516\n",
      "  Batch size = 12\n",
      "Saving model checkpoint to /content/drive/MyDrive/FinLitQA/model/flm/finbert-fiqa-flm/checkpoint-3000\n",
      "Configuration saved in /content/drive/MyDrive/FinLitQA/model/flm/finbert-fiqa-flm/checkpoint-3000/config.json\n",
      "Model weights saved in /content/drive/MyDrive/FinLitQA/model/flm/finbert-fiqa-flm/checkpoint-3000/pytorch_model.bin\n",
      "tokenizer config file saved in /content/drive/MyDrive/FinLitQA/model/flm/finbert-fiqa-flm/checkpoint-3000/tokenizer_config.json\n",
      "Special tokens file saved in /content/drive/MyDrive/FinLitQA/model/flm/finbert-fiqa-flm/checkpoint-3000/special_tokens_map.json\n"
     ]
    },
    {
     "data": {
      "text/html": [
       "\n",
       "    <div>\n",
       "      \n",
       "      <progress value='3820' max='3820' style='width:300px; height:20px; vertical-align: middle;'></progress>\n",
       "      [3820/3820 18:40, Epoch 10/10]\n",
       "    </div>\n",
       "    <table border=\"1\" class=\"dataframe\">\n",
       "  <thead>\n",
       "    <tr style=\"text-align: left;\">\n",
       "      <th>Step</th>\n",
       "      <th>Training Loss</th>\n",
       "      <th>Validation Loss</th>\n",
       "    </tr>\n",
       "  </thead>\n",
       "  <tbody>\n",
       "    <tr>\n",
       "      <td>500</td>\n",
       "      <td>2.742700</td>\n",
       "      <td>2.528950</td>\n",
       "    </tr>\n",
       "    <tr>\n",
       "      <td>1000</td>\n",
       "      <td>2.529700</td>\n",
       "      <td>2.407656</td>\n",
       "    </tr>\n",
       "    <tr>\n",
       "      <td>1500</td>\n",
       "      <td>2.390600</td>\n",
       "      <td>2.327312</td>\n",
       "    </tr>\n",
       "    <tr>\n",
       "      <td>2000</td>\n",
       "      <td>2.343600</td>\n",
       "      <td>2.273634</td>\n",
       "    </tr>\n",
       "    <tr>\n",
       "      <td>2500</td>\n",
       "      <td>2.250100</td>\n",
       "      <td>2.224309</td>\n",
       "    </tr>\n",
       "    <tr>\n",
       "      <td>3000</td>\n",
       "      <td>2.213400</td>\n",
       "      <td>2.196584</td>\n",
       "    </tr>\n",
       "    <tr>\n",
       "      <td>3500</td>\n",
       "      <td>2.183500</td>\n",
       "      <td>2.162918</td>\n",
       "    </tr>\n",
       "  </tbody>\n",
       "</table><p>"
      ],
      "text/plain": [
       "<IPython.core.display.HTML object>"
      ]
     },
     "metadata": {},
     "output_type": "display_data"
    },
    {
     "name": "stderr",
     "output_type": "stream",
     "text": [
      "***** Running Evaluation *****\n",
      "  Num examples = 1516\n",
      "  Batch size = 12\n",
      "Saving model checkpoint to /content/drive/MyDrive/FinLitQA/model/flm/finbert-fiqa-flm/checkpoint-3500\n",
      "Configuration saved in /content/drive/MyDrive/FinLitQA/model/flm/finbert-fiqa-flm/checkpoint-3500/config.json\n",
      "Model weights saved in /content/drive/MyDrive/FinLitQA/model/flm/finbert-fiqa-flm/checkpoint-3500/pytorch_model.bin\n",
      "tokenizer config file saved in /content/drive/MyDrive/FinLitQA/model/flm/finbert-fiqa-flm/checkpoint-3500/tokenizer_config.json\n",
      "Special tokens file saved in /content/drive/MyDrive/FinLitQA/model/flm/finbert-fiqa-flm/checkpoint-3500/special_tokens_map.json\n",
      "\n",
      "\n",
      "Training completed. Do not forget to share your model on huggingface.co/models =)\n",
      "\n",
      "\n",
      "Loading best model from /content/drive/MyDrive/FinLitQA/model/flm/finbert-fiqa-flm/checkpoint-3500 (score: 2.1629178524017334).\n",
      "***** Running Evaluation *****\n",
      "  Num examples = 1516\n",
      "  Batch size = 12\n"
     ]
    },
    {
     "data": {
      "text/html": [
       "\n",
       "    <div>\n",
       "      \n",
       "      <progress value='127' max='127' style='width:300px; height:20px; vertical-align: middle;'></progress>\n",
       "      [127/127 00:07]\n",
       "    </div>\n",
       "    "
      ],
      "text/plain": [
       "<IPython.core.display.HTML object>"
      ]
     },
     "metadata": {},
     "output_type": "display_data"
    },
    {
     "name": "stdout",
     "output_type": "stream",
     "text": [
      "Perplexity: 8.81\n",
      "CPU times: user 17min 53s, sys: 21.4 s, total: 18min 15s\n",
      "Wall time: 18min 48s\n"
     ]
    }
   ],
   "source": [
    "%%time\n",
    "trainer.train()\n",
    "\n",
    "# Evaluate and check Perplexity\n",
    "eval_results = trainer.evaluate()\n",
    "print(f\"Perplexity: {math.exp(eval_results['eval_loss']):.2f}\")"
   ]
  },
  {
   "cell_type": "code",
   "execution_count": 127,
   "metadata": {
    "colab": {
     "base_uri": "https://localhost:8080/",
     "height": 285
    },
    "executionInfo": {
     "elapsed": 15616,
     "status": "ok",
     "timestamp": 1639160381600,
     "user": {
      "displayName": "vanadhi chelliah",
      "photoUrl": "https://lh3.googleusercontent.com/a/default-user=s64",
      "userId": "11158136158943693689"
     },
     "user_tz": -330
    },
    "id": "-J8eZ04h8riz",
    "outputId": "c304b423-b401-4331-d2f7-f4aa82f7854d"
   },
   "outputs": [
    {
     "name": "stderr",
     "output_type": "stream",
     "text": [
      "Saving model checkpoint to /content/drive/MyDrive/FinLitQA/model/flm_final/finbert-fiqa-flm/\n",
      "Configuration saved in /content/drive/MyDrive/FinLitQA/model/flm_final/finbert-fiqa-flm/config.json\n",
      "Model weights saved in /content/drive/MyDrive/FinLitQA/model/flm_final/finbert-fiqa-flm/pytorch_model.bin\n",
      "tokenizer config file saved in /content/drive/MyDrive/FinLitQA/model/flm_final/finbert-fiqa-flm/tokenizer_config.json\n",
      "Special tokens file saved in /content/drive/MyDrive/FinLitQA/model/flm_final/finbert-fiqa-flm/special_tokens_map.json\n",
      "***** Running Evaluation *****\n",
      "  Num examples = 1516\n",
      "  Batch size = 12\n"
     ]
    },
    {
     "data": {
      "text/html": [
       "\n",
       "    <div>\n",
       "      \n",
       "      <progress value='254' max='127' style='width:300px; height:20px; vertical-align: middle;'></progress>\n",
       "      [127/127 00:22]\n",
       "    </div>\n",
       "    "
      ],
      "text/plain": [
       "<IPython.core.display.HTML object>"
      ]
     },
     "metadata": {},
     "output_type": "display_data"
    },
    {
     "name": "stdout",
     "output_type": "stream",
     "text": [
      "{'eval_loss': 2.194920778274536, 'eval_runtime': 7.7568, 'eval_samples_per_second': 195.44, 'eval_steps_per_second': 16.373, 'epoch': 10.0}\n",
      "Perplexity: 8.98\n"
     ]
    },
    {
     "data": {
      "text/html": [
       "<div>\n",
       "<style scoped>\n",
       "    .dataframe tbody tr th:only-of-type {\n",
       "        vertical-align: middle;\n",
       "    }\n",
       "\n",
       "    .dataframe tbody tr th {\n",
       "        vertical-align: top;\n",
       "    }\n",
       "\n",
       "    .dataframe thead th {\n",
       "        text-align: right;\n",
       "    }\n",
       "</style>\n",
       "<table border=\"1\" class=\"dataframe\">\n",
       "  <thead>\n",
       "    <tr style=\"text-align: right;\">\n",
       "      <th></th>\n",
       "      <th>index</th>\n",
       "      <th>eval_loss</th>\n",
       "      <th>eval_runtime</th>\n",
       "      <th>eval_samples_per_second</th>\n",
       "      <th>eval_steps_per_second</th>\n",
       "      <th>epoch</th>\n",
       "      <th>Perplexity</th>\n",
       "    </tr>\n",
       "  </thead>\n",
       "  <tbody>\n",
       "    <tr>\n",
       "      <th>0</th>\n",
       "      <td>finbert-fiqa-flm</td>\n",
       "      <td>2.194921</td>\n",
       "      <td>7.7568</td>\n",
       "      <td>195.44</td>\n",
       "      <td>16.373</td>\n",
       "      <td>10.0</td>\n",
       "      <td>8.98</td>\n",
       "    </tr>\n",
       "  </tbody>\n",
       "</table>\n",
       "</div>"
      ],
      "text/plain": [
       "              index  eval_loss  ...  epoch  Perplexity\n",
       "0  finbert-fiqa-flm   2.194921  ...   10.0        8.98\n",
       "\n",
       "[1 rows x 7 columns]"
      ]
     },
     "execution_count": 127,
     "metadata": {},
     "output_type": "execute_result"
    }
   ],
   "source": [
    "# Save the model\n",
    "\n",
    "save_path_model6 = \"/content/drive/MyDrive/FinLitQA/model/flm_final/finbert-fiqa-flm/\"\n",
    "trainer.save_model(save_path_model6)\n",
    "\n",
    "# Evaluate the trainer and consolidate the results\n",
    "# Calculate and add Perplexity to the evaluation results\n",
    "\n",
    "evaluate_trainer(trainer, model_name)"
   ]
  },
  {
   "cell_type": "code",
   "execution_count": 128,
   "metadata": {
    "colab": {
     "base_uri": "https://localhost:8080/",
     "height": 1000
    },
    "executionInfo": {
     "elapsed": 9927,
     "status": "ok",
     "timestamp": 1639160391510,
     "user": {
      "displayName": "vanadhi chelliah",
      "photoUrl": "https://lh3.googleusercontent.com/a/default-user=s64",
      "userId": "11158136158943693689"
     },
     "user_tz": -330
    },
    "id": "IH_3dCOr8ri0",
    "outputId": "548552b3-6d5e-496c-af27-93b3f6bc4f1a"
   },
   "outputs": [
    {
     "name": "stderr",
     "output_type": "stream",
     "text": [
      "loading configuration file /content/drive/MyDrive/FinLitQA/model/flm_final/finbert-fiqa-flm/config.json\n",
      "Model config BertConfig {\n",
      "  \"_name_or_path\": \"/content/drive/MyDrive/FinLitQA/model/flm_final/finbert-fiqa-flm/\",\n",
      "  \"architectures\": [\n",
      "    \"BertForMaskedLM\"\n",
      "  ],\n",
      "  \"attention_probs_dropout_prob\": 0.1,\n",
      "  \"classifier_dropout\": null,\n",
      "  \"gradient_checkpointing\": false,\n",
      "  \"hidden_act\": \"gelu\",\n",
      "  \"hidden_dropout_prob\": 0.1,\n",
      "  \"hidden_size\": 768,\n",
      "  \"id2label\": {\n",
      "    \"0\": \"positive\",\n",
      "    \"1\": \"negative\",\n",
      "    \"2\": \"neutral\"\n",
      "  },\n",
      "  \"initializer_range\": 0.02,\n",
      "  \"intermediate_size\": 3072,\n",
      "  \"label2id\": {\n",
      "    \"negative\": 1,\n",
      "    \"neutral\": 2,\n",
      "    \"positive\": 0\n",
      "  },\n",
      "  \"layer_norm_eps\": 1e-12,\n",
      "  \"max_position_embeddings\": 512,\n",
      "  \"model_type\": \"bert\",\n",
      "  \"num_attention_heads\": 12,\n",
      "  \"num_hidden_layers\": 12,\n",
      "  \"pad_token_id\": 0,\n",
      "  \"position_embedding_type\": \"absolute\",\n",
      "  \"torch_dtype\": \"float32\",\n",
      "  \"transformers_version\": \"4.13.0\",\n",
      "  \"type_vocab_size\": 2,\n",
      "  \"use_cache\": true,\n",
      "  \"vocab_size\": 30522\n",
      "}\n",
      "\n",
      "loading weights file /content/drive/MyDrive/FinLitQA/model/flm_final/finbert-fiqa-flm/pytorch_model.bin\n",
      "All model checkpoint weights were used when initializing BertForMaskedLM.\n",
      "\n",
      "All the weights of BertForMaskedLM were initialized from the model checkpoint at /content/drive/MyDrive/FinLitQA/model/flm_final/finbert-fiqa-flm/.\n",
      "If your task is similar to the task the model of the checkpoint was trained on, you can already use BertForMaskedLM for predictions without further training.\n",
      "***** Running Evaluation *****\n",
      "  Num examples = 1516\n",
      "  Batch size = 12\n"
     ]
    },
    {
     "data": {
      "text/html": [
       "\n",
       "    <div>\n",
       "      \n",
       "      <progress value='381' max='127' style='width:300px; height:20px; vertical-align: middle;'></progress>\n",
       "      [127/127 00:32]\n",
       "    </div>\n",
       "    "
      ],
      "text/plain": [
       "<IPython.core.display.HTML object>"
      ]
     },
     "metadata": {},
     "output_type": "display_data"
    },
    {
     "data": {
      "text/plain": [
       "({'epoch': 10.0,\n",
       "  'eval_loss': 2.1579673290252686,\n",
       "  'eval_runtime': 7.7459,\n",
       "  'eval_samples_per_second': 195.716,\n",
       "  'eval_steps_per_second': 16.396},\n",
       " '8.65')"
      ]
     },
     "execution_count": 128,
     "metadata": {},
     "output_type": "execute_result"
    }
   ],
   "source": [
    "# Reload model and check\n",
    "model = AutoModelForMaskedLM.from_pretrained(save_path_model6, local_files_only=True)\n",
    "trainer.model = model.cuda()\n",
    "\n",
    "# Evaluate and check\n",
    "eval_results = trainer.evaluate()\n",
    "eval_results, f\"{math.exp(eval_results['eval_loss']):.2f}\""
   ]
  },
  {
   "cell_type": "code",
   "execution_count": 129,
   "metadata": {
    "colab": {
     "base_uri": "https://localhost:8080/",
     "height": 237
    },
    "executionInfo": {
     "elapsed": 416,
     "status": "ok",
     "timestamp": 1639161356844,
     "user": {
      "displayName": "vanadhi chelliah",
      "photoUrl": "https://lh3.googleusercontent.com/a/default-user=s64",
      "userId": "11158136158943693689"
     },
     "user_tz": -330
    },
    "id": "F9cxvoq78ri0",
    "outputId": "7bab6897-dde5-46bb-f9e4-3e91f3327e94"
   },
   "outputs": [
    {
     "data": {
      "text/html": [
       "<div>\n",
       "<style scoped>\n",
       "    .dataframe tbody tr th:only-of-type {\n",
       "        vertical-align: middle;\n",
       "    }\n",
       "\n",
       "    .dataframe tbody tr th {\n",
       "        vertical-align: top;\n",
       "    }\n",
       "\n",
       "    .dataframe thead th {\n",
       "        text-align: right;\n",
       "    }\n",
       "</style>\n",
       "<table border=\"1\" class=\"dataframe\">\n",
       "  <thead>\n",
       "    <tr style=\"text-align: right;\">\n",
       "      <th></th>\n",
       "      <th>index</th>\n",
       "      <th>eval_loss</th>\n",
       "      <th>eval_runtime</th>\n",
       "      <th>eval_samples_per_second</th>\n",
       "      <th>eval_steps_per_second</th>\n",
       "      <th>epoch</th>\n",
       "      <th>Perplexity</th>\n",
       "    </tr>\n",
       "  </thead>\n",
       "  <tbody>\n",
       "    <tr>\n",
       "      <th>0</th>\n",
       "      <td>bert-base-uncased-flm</td>\n",
       "      <td>2.027018</td>\n",
       "      <td>7.7529</td>\n",
       "      <td>195.540</td>\n",
       "      <td>16.381</td>\n",
       "      <td>5.0</td>\n",
       "      <td>7.59</td>\n",
       "    </tr>\n",
       "    <tr>\n",
       "      <th>1</th>\n",
       "      <td>roberta-base-flm</td>\n",
       "      <td>1.645434</td>\n",
       "      <td>8.2811</td>\n",
       "      <td>174.131</td>\n",
       "      <td>14.612</td>\n",
       "      <td>10.0</td>\n",
       "      <td>5.18</td>\n",
       "    </tr>\n",
       "    <tr>\n",
       "      <th>2</th>\n",
       "      <td>finbert-flm</td>\n",
       "      <td>2.629882</td>\n",
       "      <td>7.7525</td>\n",
       "      <td>195.551</td>\n",
       "      <td>16.382</td>\n",
       "      <td>10.0</td>\n",
       "      <td>13.87</td>\n",
       "    </tr>\n",
       "    <tr>\n",
       "      <th>3</th>\n",
       "      <td>bert-base-uncased-fiqa-flm</td>\n",
       "      <td>1.824176</td>\n",
       "      <td>7.7642</td>\n",
       "      <td>195.256</td>\n",
       "      <td>16.357</td>\n",
       "      <td>10.0</td>\n",
       "      <td>6.20</td>\n",
       "    </tr>\n",
       "    <tr>\n",
       "      <th>4</th>\n",
       "      <td>roberta-base-fiqa-flm</td>\n",
       "      <td>1.614465</td>\n",
       "      <td>8.2770</td>\n",
       "      <td>174.218</td>\n",
       "      <td>14.619</td>\n",
       "      <td>10.0</td>\n",
       "      <td>5.03</td>\n",
       "    </tr>\n",
       "    <tr>\n",
       "      <th>5</th>\n",
       "      <td>finbert-fiqa-flm</td>\n",
       "      <td>2.194921</td>\n",
       "      <td>7.7568</td>\n",
       "      <td>195.440</td>\n",
       "      <td>16.373</td>\n",
       "      <td>10.0</td>\n",
       "      <td>8.98</td>\n",
       "    </tr>\n",
       "  </tbody>\n",
       "</table>\n",
       "</div>"
      ],
      "text/plain": [
       "                        index  eval_loss  ...  epoch  Perplexity\n",
       "0       bert-base-uncased-flm   2.027018  ...    5.0        7.59\n",
       "1            roberta-base-flm   1.645434  ...   10.0        5.18\n",
       "2                 finbert-flm   2.629882  ...   10.0       13.87\n",
       "3  bert-base-uncased-fiqa-flm   1.824176  ...   10.0        6.20\n",
       "4       roberta-base-fiqa-flm   1.614465  ...   10.0        5.03\n",
       "5            finbert-fiqa-flm   2.194921  ...   10.0        8.98\n",
       "\n",
       "[6 rows x 7 columns]"
      ]
     },
     "execution_count": 129,
     "metadata": {},
     "output_type": "execute_result"
    }
   ],
   "source": [
    "df_lmtrain_summary"
   ]
  },
  {
   "cell_type": "code",
   "execution_count": null,
   "metadata": {
    "id": "82Ogp1Et8ri1"
   },
   "outputs": [],
   "source": []
  }
 ],
 "metadata": {
  "accelerator": "GPU",
  "colab": {
   "collapsed_sections": [],
   "name": "05_FinLitQA_Language_Modeling_FL.ipynb",
   "provenance": []
  },
  "kernelspec": {
   "display_name": "Python 3",
   "language": "python",
   "name": "python3"
  },
  "language_info": {
   "codemirror_mode": {
    "name": "ipython",
    "version": 3
   },
   "file_extension": ".py",
   "mimetype": "text/x-python",
   "name": "python",
   "nbconvert_exporter": "python",
   "pygments_lexer": "ipython3",
   "version": "3.7.6"
  },
  "widgets": {
   "application/vnd.jupyter.widget-state+json": {
    "04c38c91557c4a3c976efacf86104f35": {
     "model_module": "@jupyter-widgets/base",
     "model_module_version": "1.2.0",
     "model_name": "LayoutModel",
     "state": {
      "_model_module": "@jupyter-widgets/base",
      "_model_module_version": "1.2.0",
      "_model_name": "LayoutModel",
      "_view_count": null,
      "_view_module": "@jupyter-widgets/base",
      "_view_module_version": "1.2.0",
      "_view_name": "LayoutView",
      "align_content": null,
      "align_items": null,
      "align_self": null,
      "border": null,
      "bottom": null,
      "display": null,
      "flex": null,
      "flex_flow": null,
      "grid_area": null,
      "grid_auto_columns": null,
      "grid_auto_flow": null,
      "grid_auto_rows": null,
      "grid_column": null,
      "grid_gap": null,
      "grid_row": null,
      "grid_template_areas": null,
      "grid_template_columns": null,
      "grid_template_rows": null,
      "height": null,
      "justify_content": null,
      "justify_items": null,
      "left": null,
      "margin": null,
      "max_height": null,
      "max_width": null,
      "min_height": null,
      "min_width": null,
      "object_fit": null,
      "object_position": null,
      "order": null,
      "overflow": null,
      "overflow_x": null,
      "overflow_y": null,
      "padding": null,
      "right": null,
      "top": null,
      "visibility": null,
      "width": null
     }
    },
    "0574fbe6df2344e59907e1b47f22facb": {
     "model_module": "@jupyter-widgets/base",
     "model_module_version": "1.2.0",
     "model_name": "LayoutModel",
     "state": {
      "_model_module": "@jupyter-widgets/base",
      "_model_module_version": "1.2.0",
      "_model_name": "LayoutModel",
      "_view_count": null,
      "_view_module": "@jupyter-widgets/base",
      "_view_module_version": "1.2.0",
      "_view_name": "LayoutView",
      "align_content": null,
      "align_items": null,
      "align_self": null,
      "border": null,
      "bottom": null,
      "display": null,
      "flex": null,
      "flex_flow": null,
      "grid_area": null,
      "grid_auto_columns": null,
      "grid_auto_flow": null,
      "grid_auto_rows": null,
      "grid_column": null,
      "grid_gap": null,
      "grid_row": null,
      "grid_template_areas": null,
      "grid_template_columns": null,
      "grid_template_rows": null,
      "height": null,
      "justify_content": null,
      "justify_items": null,
      "left": null,
      "margin": null,
      "max_height": null,
      "max_width": null,
      "min_height": null,
      "min_width": null,
      "object_fit": null,
      "object_position": null,
      "order": null,
      "overflow": null,
      "overflow_x": null,
      "overflow_y": null,
      "padding": null,
      "right": null,
      "top": null,
      "visibility": null,
      "width": null
     }
    },
    "07c3d0f2c9c54b2fb2bc16533b12116d": {
     "model_module": "@jupyter-widgets/controls",
     "model_module_version": "1.5.0",
     "model_name": "HTMLModel",
     "state": {
      "_dom_classes": [],
      "_model_module": "@jupyter-widgets/controls",
      "_model_module_version": "1.5.0",
      "_model_name": "HTMLModel",
      "_view_count": null,
      "_view_module": "@jupyter-widgets/controls",
      "_view_module_version": "1.5.0",
      "_view_name": "HTMLView",
      "description": "",
      "description_tooltip": null,
      "layout": "IPY_MODEL_fc9502e0c86749c7a6d6881b6c17bb1c",
      "placeholder": "​",
      "style": "IPY_MODEL_e16bd7c5f976461a9abbf39e2b87f275",
      "value": " 5/5 [00:00&lt;00:00, 56.82ba/s]"
     }
    },
    "0a66b18b119a4f209ec40fbff6c9efaa": {
     "model_module": "@jupyter-widgets/controls",
     "model_module_version": "1.5.0",
     "model_name": "HTMLModel",
     "state": {
      "_dom_classes": [],
      "_model_module": "@jupyter-widgets/controls",
      "_model_module_version": "1.5.0",
      "_model_name": "HTMLModel",
      "_view_count": null,
      "_view_module": "@jupyter-widgets/controls",
      "_view_module_version": "1.5.0",
      "_view_name": "HTMLView",
      "description": "",
      "description_tooltip": null,
      "layout": "IPY_MODEL_b21fce796fc742d394d9fd73192245ba",
      "placeholder": "​",
      "style": "IPY_MODEL_ba55afdd50a544d698fd99f7ca44d97b",
      "value": " 478M/478M [00:10&lt;00:00, 52.6MB/s]"
     }
    },
    "0c9cad5123554116b599ab95c4dd98c9": {
     "model_module": "@jupyter-widgets/controls",
     "model_module_version": "1.5.0",
     "model_name": "DescriptionStyleModel",
     "state": {
      "_model_module": "@jupyter-widgets/controls",
      "_model_module_version": "1.5.0",
      "_model_name": "DescriptionStyleModel",
      "_view_count": null,
      "_view_module": "@jupyter-widgets/base",
      "_view_module_version": "1.2.0",
      "_view_name": "StyleView",
      "description_width": ""
     }
    },
    "0f4a16bc83a9450190af16c1fdacc199": {
     "model_module": "@jupyter-widgets/base",
     "model_module_version": "1.2.0",
     "model_name": "LayoutModel",
     "state": {
      "_model_module": "@jupyter-widgets/base",
      "_model_module_version": "1.2.0",
      "_model_name": "LayoutModel",
      "_view_count": null,
      "_view_module": "@jupyter-widgets/base",
      "_view_module_version": "1.2.0",
      "_view_name": "LayoutView",
      "align_content": null,
      "align_items": null,
      "align_self": null,
      "border": null,
      "bottom": null,
      "display": null,
      "flex": null,
      "flex_flow": null,
      "grid_area": null,
      "grid_auto_columns": null,
      "grid_auto_flow": null,
      "grid_auto_rows": null,
      "grid_column": null,
      "grid_gap": null,
      "grid_row": null,
      "grid_template_areas": null,
      "grid_template_columns": null,
      "grid_template_rows": null,
      "height": null,
      "justify_content": null,
      "justify_items": null,
      "left": null,
      "margin": null,
      "max_height": null,
      "max_width": null,
      "min_height": null,
      "min_width": null,
      "object_fit": null,
      "object_position": null,
      "order": null,
      "overflow": null,
      "overflow_x": null,
      "overflow_y": null,
      "padding": null,
      "right": null,
      "top": null,
      "visibility": null,
      "width": null
     }
    },
    "106b10febc284473838dff508396d4f8": {
     "model_module": "@jupyter-widgets/controls",
     "model_module_version": "1.5.0",
     "model_name": "DescriptionStyleModel",
     "state": {
      "_model_module": "@jupyter-widgets/controls",
      "_model_module_version": "1.5.0",
      "_model_name": "DescriptionStyleModel",
      "_view_count": null,
      "_view_module": "@jupyter-widgets/base",
      "_view_module_version": "1.2.0",
      "_view_name": "StyleView",
      "description_width": ""
     }
    },
    "156e3fbe5d7f4563a6bd8705255afb25": {
     "model_module": "@jupyter-widgets/base",
     "model_module_version": "1.2.0",
     "model_name": "LayoutModel",
     "state": {
      "_model_module": "@jupyter-widgets/base",
      "_model_module_version": "1.2.0",
      "_model_name": "LayoutModel",
      "_view_count": null,
      "_view_module": "@jupyter-widgets/base",
      "_view_module_version": "1.2.0",
      "_view_name": "LayoutView",
      "align_content": null,
      "align_items": null,
      "align_self": null,
      "border": null,
      "bottom": null,
      "display": null,
      "flex": null,
      "flex_flow": null,
      "grid_area": null,
      "grid_auto_columns": null,
      "grid_auto_flow": null,
      "grid_auto_rows": null,
      "grid_column": null,
      "grid_gap": null,
      "grid_row": null,
      "grid_template_areas": null,
      "grid_template_columns": null,
      "grid_template_rows": null,
      "height": null,
      "justify_content": null,
      "justify_items": null,
      "left": null,
      "margin": null,
      "max_height": null,
      "max_width": null,
      "min_height": null,
      "min_width": null,
      "object_fit": null,
      "object_position": null,
      "order": null,
      "overflow": null,
      "overflow_x": null,
      "overflow_y": null,
      "padding": null,
      "right": null,
      "top": null,
      "visibility": null,
      "width": null
     }
    },
    "15ab8df70ff6409295662a30d663b9eb": {
     "model_module": "@jupyter-widgets/controls",
     "model_module_version": "1.5.0",
     "model_name": "ProgressStyleModel",
     "state": {
      "_model_module": "@jupyter-widgets/controls",
      "_model_module_version": "1.5.0",
      "_model_name": "ProgressStyleModel",
      "_view_count": null,
      "_view_module": "@jupyter-widgets/base",
      "_view_module_version": "1.2.0",
      "_view_name": "StyleView",
      "bar_color": null,
      "description_width": ""
     }
    },
    "1653c99ac03344a1b1ce7e17d2172379": {
     "model_module": "@jupyter-widgets/controls",
     "model_module_version": "1.5.0",
     "model_name": "HTMLModel",
     "state": {
      "_dom_classes": [],
      "_model_module": "@jupyter-widgets/controls",
      "_model_module_version": "1.5.0",
      "_model_name": "HTMLModel",
      "_view_count": null,
      "_view_module": "@jupyter-widgets/controls",
      "_view_module_version": "1.5.0",
      "_view_name": "HTMLView",
      "description": "",
      "description_tooltip": null,
      "layout": "IPY_MODEL_3a32f56721ec4948925fcde77bc5d341",
      "placeholder": "​",
      "style": "IPY_MODEL_d77d22cac7eb4c89821bc0028c716dae",
      "value": " 758/758 [00:00&lt;00:00, 21.0kB/s]"
     }
    },
    "167408fcf87d4ddebcd814b4c7081ce0": {
     "model_module": "@jupyter-widgets/base",
     "model_module_version": "1.2.0",
     "model_name": "LayoutModel",
     "state": {
      "_model_module": "@jupyter-widgets/base",
      "_model_module_version": "1.2.0",
      "_model_name": "LayoutModel",
      "_view_count": null,
      "_view_module": "@jupyter-widgets/base",
      "_view_module_version": "1.2.0",
      "_view_name": "LayoutView",
      "align_content": null,
      "align_items": null,
      "align_self": null,
      "border": null,
      "bottom": null,
      "display": null,
      "flex": null,
      "flex_flow": null,
      "grid_area": null,
      "grid_auto_columns": null,
      "grid_auto_flow": null,
      "grid_auto_rows": null,
      "grid_column": null,
      "grid_gap": null,
      "grid_row": null,
      "grid_template_areas": null,
      "grid_template_columns": null,
      "grid_template_rows": null,
      "height": null,
      "justify_content": null,
      "justify_items": null,
      "left": null,
      "margin": null,
      "max_height": null,
      "max_width": null,
      "min_height": null,
      "min_width": null,
      "object_fit": null,
      "object_position": null,
      "order": null,
      "overflow": null,
      "overflow_x": null,
      "overflow_y": null,
      "padding": null,
      "right": null,
      "top": null,
      "visibility": null,
      "width": null
     }
    },
    "1807602df920462f9370a032c0a76023": {
     "model_module": "@jupyter-widgets/controls",
     "model_module_version": "1.5.0",
     "model_name": "HBoxModel",
     "state": {
      "_dom_classes": [],
      "_model_module": "@jupyter-widgets/controls",
      "_model_module_version": "1.5.0",
      "_model_name": "HBoxModel",
      "_view_count": null,
      "_view_module": "@jupyter-widgets/controls",
      "_view_module_version": "1.5.0",
      "_view_name": "HBoxView",
      "box_style": "",
      "children": [
       "IPY_MODEL_322892aea77c43d58185aca1d5704370",
       "IPY_MODEL_35e8e1fe6ecb44ec998c4a19e6313f0e",
       "IPY_MODEL_cdfe980fe1804d0abf4fbd4ef7436cd5"
      ],
      "layout": "IPY_MODEL_0f4a16bc83a9450190af16c1fdacc199"
     }
    },
    "18a5ef5dd0624a27a55beea8a373bb8a": {
     "model_module": "@jupyter-widgets/base",
     "model_module_version": "1.2.0",
     "model_name": "LayoutModel",
     "state": {
      "_model_module": "@jupyter-widgets/base",
      "_model_module_version": "1.2.0",
      "_model_name": "LayoutModel",
      "_view_count": null,
      "_view_module": "@jupyter-widgets/base",
      "_view_module_version": "1.2.0",
      "_view_name": "LayoutView",
      "align_content": null,
      "align_items": null,
      "align_self": null,
      "border": null,
      "bottom": null,
      "display": null,
      "flex": null,
      "flex_flow": null,
      "grid_area": null,
      "grid_auto_columns": null,
      "grid_auto_flow": null,
      "grid_auto_rows": null,
      "grid_column": null,
      "grid_gap": null,
      "grid_row": null,
      "grid_template_areas": null,
      "grid_template_columns": null,
      "grid_template_rows": null,
      "height": null,
      "justify_content": null,
      "justify_items": null,
      "left": null,
      "margin": null,
      "max_height": null,
      "max_width": null,
      "min_height": null,
      "min_width": null,
      "object_fit": null,
      "object_position": null,
      "order": null,
      "overflow": null,
      "overflow_x": null,
      "overflow_y": null,
      "padding": null,
      "right": null,
      "top": null,
      "visibility": null,
      "width": null
     }
    },
    "19f5b5d457f943a585de64a90b372292": {
     "model_module": "@jupyter-widgets/controls",
     "model_module_version": "1.5.0",
     "model_name": "DescriptionStyleModel",
     "state": {
      "_model_module": "@jupyter-widgets/controls",
      "_model_module_version": "1.5.0",
      "_model_name": "DescriptionStyleModel",
      "_view_count": null,
      "_view_module": "@jupyter-widgets/base",
      "_view_module_version": "1.2.0",
      "_view_name": "StyleView",
      "description_width": ""
     }
    },
    "1b062a6c04bf44e2999235e20906ffe9": {
     "model_module": "@jupyter-widgets/controls",
     "model_module_version": "1.5.0",
     "model_name": "HBoxModel",
     "state": {
      "_dom_classes": [],
      "_model_module": "@jupyter-widgets/controls",
      "_model_module_version": "1.5.0",
      "_model_name": "HBoxModel",
      "_view_count": null,
      "_view_module": "@jupyter-widgets/controls",
      "_view_module_version": "1.5.0",
      "_view_name": "HBoxView",
      "box_style": "",
      "children": [
       "IPY_MODEL_e11b330d62404cf4acee7c78ebfc8e46",
       "IPY_MODEL_5653774a02594b47872921929bdb1c6e",
       "IPY_MODEL_8c8d561cf1db449ba5c63a375e4f093f"
      ],
      "layout": "IPY_MODEL_c990f7d4eb3749c1bad66c549318baf2"
     }
    },
    "1b692c77ce9d455aa9364c5ec31a7a4c": {
     "model_module": "@jupyter-widgets/controls",
     "model_module_version": "1.5.0",
     "model_name": "HBoxModel",
     "state": {
      "_dom_classes": [],
      "_model_module": "@jupyter-widgets/controls",
      "_model_module_version": "1.5.0",
      "_model_name": "HBoxModel",
      "_view_count": null,
      "_view_module": "@jupyter-widgets/controls",
      "_view_module_version": "1.5.0",
      "_view_name": "HBoxView",
      "box_style": "",
      "children": [
       "IPY_MODEL_77bd33d1038c48b5aa8ed78b4bf4d49e",
       "IPY_MODEL_d702a45189e24632a8737bbf889ba982",
       "IPY_MODEL_0a66b18b119a4f209ec40fbff6c9efaa"
      ],
      "layout": "IPY_MODEL_6960f572a7f248cb85ac12d30e72369d"
     }
    },
    "1d55623b996749758afddda426488d38": {
     "model_module": "@jupyter-widgets/base",
     "model_module_version": "1.2.0",
     "model_name": "LayoutModel",
     "state": {
      "_model_module": "@jupyter-widgets/base",
      "_model_module_version": "1.2.0",
      "_model_name": "LayoutModel",
      "_view_count": null,
      "_view_module": "@jupyter-widgets/base",
      "_view_module_version": "1.2.0",
      "_view_name": "LayoutView",
      "align_content": null,
      "align_items": null,
      "align_self": null,
      "border": null,
      "bottom": null,
      "display": null,
      "flex": null,
      "flex_flow": null,
      "grid_area": null,
      "grid_auto_columns": null,
      "grid_auto_flow": null,
      "grid_auto_rows": null,
      "grid_column": null,
      "grid_gap": null,
      "grid_row": null,
      "grid_template_areas": null,
      "grid_template_columns": null,
      "grid_template_rows": null,
      "height": null,
      "justify_content": null,
      "justify_items": null,
      "left": null,
      "margin": null,
      "max_height": null,
      "max_width": null,
      "min_height": null,
      "min_width": null,
      "object_fit": null,
      "object_position": null,
      "order": null,
      "overflow": null,
      "overflow_x": null,
      "overflow_y": null,
      "padding": null,
      "right": null,
      "top": null,
      "visibility": null,
      "width": null
     }
    },
    "1e143940d32a43b99b68574db2c4f1e8": {
     "model_module": "@jupyter-widgets/base",
     "model_module_version": "1.2.0",
     "model_name": "LayoutModel",
     "state": {
      "_model_module": "@jupyter-widgets/base",
      "_model_module_version": "1.2.0",
      "_model_name": "LayoutModel",
      "_view_count": null,
      "_view_module": "@jupyter-widgets/base",
      "_view_module_version": "1.2.0",
      "_view_name": "LayoutView",
      "align_content": null,
      "align_items": null,
      "align_self": null,
      "border": null,
      "bottom": null,
      "display": null,
      "flex": null,
      "flex_flow": null,
      "grid_area": null,
      "grid_auto_columns": null,
      "grid_auto_flow": null,
      "grid_auto_rows": null,
      "grid_column": null,
      "grid_gap": null,
      "grid_row": null,
      "grid_template_areas": null,
      "grid_template_columns": null,
      "grid_template_rows": null,
      "height": null,
      "justify_content": null,
      "justify_items": null,
      "left": null,
      "margin": null,
      "max_height": null,
      "max_width": null,
      "min_height": null,
      "min_width": null,
      "object_fit": null,
      "object_position": null,
      "order": null,
      "overflow": null,
      "overflow_x": null,
      "overflow_y": null,
      "padding": null,
      "right": null,
      "top": null,
      "visibility": null,
      "width": null
     }
    },
    "221afb1800884c86a76b6bdb78ec9ae7": {
     "model_module": "@jupyter-widgets/base",
     "model_module_version": "1.2.0",
     "model_name": "LayoutModel",
     "state": {
      "_model_module": "@jupyter-widgets/base",
      "_model_module_version": "1.2.0",
      "_model_name": "LayoutModel",
      "_view_count": null,
      "_view_module": "@jupyter-widgets/base",
      "_view_module_version": "1.2.0",
      "_view_name": "LayoutView",
      "align_content": null,
      "align_items": null,
      "align_self": null,
      "border": null,
      "bottom": null,
      "display": null,
      "flex": null,
      "flex_flow": null,
      "grid_area": null,
      "grid_auto_columns": null,
      "grid_auto_flow": null,
      "grid_auto_rows": null,
      "grid_column": null,
      "grid_gap": null,
      "grid_row": null,
      "grid_template_areas": null,
      "grid_template_columns": null,
      "grid_template_rows": null,
      "height": null,
      "justify_content": null,
      "justify_items": null,
      "left": null,
      "margin": null,
      "max_height": null,
      "max_width": null,
      "min_height": null,
      "min_width": null,
      "object_fit": null,
      "object_position": null,
      "order": null,
      "overflow": null,
      "overflow_x": null,
      "overflow_y": null,
      "padding": null,
      "right": null,
      "top": null,
      "visibility": null,
      "width": null
     }
    },
    "23a5011d1f5241b2ad34ade708d3f9fb": {
     "model_module": "@jupyter-widgets/controls",
     "model_module_version": "1.5.0",
     "model_name": "FloatProgressModel",
     "state": {
      "_dom_classes": [],
      "_model_module": "@jupyter-widgets/controls",
      "_model_module_version": "1.5.0",
      "_model_name": "FloatProgressModel",
      "_view_count": null,
      "_view_module": "@jupyter-widgets/controls",
      "_view_module_version": "1.5.0",
      "_view_name": "ProgressView",
      "bar_style": "success",
      "description": "",
      "description_tooltip": null,
      "layout": "IPY_MODEL_6835877b1a7040d5b0b733cdd94da175",
      "max": 5,
      "min": 0,
      "orientation": "horizontal",
      "style": "IPY_MODEL_339128a2a43143b39cba505b1e9c0ee6",
      "value": 5
     }
    },
    "251b5f9854544165a9db469af006b1da": {
     "model_module": "@jupyter-widgets/controls",
     "model_module_version": "1.5.0",
     "model_name": "ProgressStyleModel",
     "state": {
      "_model_module": "@jupyter-widgets/controls",
      "_model_module_version": "1.5.0",
      "_model_name": "ProgressStyleModel",
      "_view_count": null,
      "_view_module": "@jupyter-widgets/base",
      "_view_module_version": "1.2.0",
      "_view_name": "StyleView",
      "bar_color": null,
      "description_width": ""
     }
    },
    "26ea49f2db694d369480d8093c6b5d3d": {
     "model_module": "@jupyter-widgets/controls",
     "model_module_version": "1.5.0",
     "model_name": "HTMLModel",
     "state": {
      "_dom_classes": [],
      "_model_module": "@jupyter-widgets/controls",
      "_model_module_version": "1.5.0",
      "_model_name": "HTMLModel",
      "_view_count": null,
      "_view_module": "@jupyter-widgets/controls",
      "_view_module_version": "1.5.0",
      "_view_name": "HTMLView",
      "description": "",
      "description_tooltip": null,
      "layout": "IPY_MODEL_499586a07fe0465eb9674e416e2f4e5a",
      "placeholder": "​",
      "style": "IPY_MODEL_8a870b1ffda04ba4b611322768558c74",
      "value": "100%"
     }
    },
    "28e9049afc824036afd53029a4b09d3a": {
     "model_module": "@jupyter-widgets/controls",
     "model_module_version": "1.5.0",
     "model_name": "HBoxModel",
     "state": {
      "_dom_classes": [],
      "_model_module": "@jupyter-widgets/controls",
      "_model_module_version": "1.5.0",
      "_model_name": "HBoxModel",
      "_view_count": null,
      "_view_module": "@jupyter-widgets/controls",
      "_view_module_version": "1.5.0",
      "_view_name": "HBoxView",
      "box_style": "",
      "children": [
       "IPY_MODEL_fafa74dbd4fe4e11a90d505403204a9b",
       "IPY_MODEL_3848bb9d2fc34c60a7fc2db5de21753d",
       "IPY_MODEL_949919cf10b24fbdb39e13f14fbaef2c"
      ],
      "layout": "IPY_MODEL_04c38c91557c4a3c976efacf86104f35"
     }
    },
    "297270bd3d164c8ba60305691607162c": {
     "model_module": "@jupyter-widgets/controls",
     "model_module_version": "1.5.0",
     "model_name": "HTMLModel",
     "state": {
      "_dom_classes": [],
      "_model_module": "@jupyter-widgets/controls",
      "_model_module_version": "1.5.0",
      "_model_name": "HTMLModel",
      "_view_count": null,
      "_view_module": "@jupyter-widgets/controls",
      "_view_module_version": "1.5.0",
      "_view_name": "HTMLView",
      "description": "",
      "description_tooltip": null,
      "layout": "IPY_MODEL_832aaed823fe4401abd77c464f3310d3",
      "placeholder": "​",
      "style": "IPY_MODEL_9b3f961868284595a4a20582be81a714",
      "value": "100%"
     }
    },
    "29d29c4059154978ad4238619d90b23e": {
     "model_module": "@jupyter-widgets/controls",
     "model_module_version": "1.5.0",
     "model_name": "HTMLModel",
     "state": {
      "_dom_classes": [],
      "_model_module": "@jupyter-widgets/controls",
      "_model_module_version": "1.5.0",
      "_model_name": "HTMLModel",
      "_view_count": null,
      "_view_module": "@jupyter-widgets/controls",
      "_view_module_version": "1.5.0",
      "_view_name": "HTMLView",
      "description": "",
      "description_tooltip": null,
      "layout": "IPY_MODEL_d2bade47fa87408dbd832387e3505a74",
      "placeholder": "​",
      "style": "IPY_MODEL_c0e44a66ee00432a967982317a979334",
      "value": "Downloading: 100%"
     }
    },
    "2d2fa6922b4746f189887ad768a7e420": {
     "model_module": "@jupyter-widgets/controls",
     "model_module_version": "1.5.0",
     "model_name": "ProgressStyleModel",
     "state": {
      "_model_module": "@jupyter-widgets/controls",
      "_model_module_version": "1.5.0",
      "_model_name": "ProgressStyleModel",
      "_view_count": null,
      "_view_module": "@jupyter-widgets/base",
      "_view_module_version": "1.2.0",
      "_view_name": "StyleView",
      "bar_color": null,
      "description_width": ""
     }
    },
    "315bc621b21147d196fbd41422bb9d12": {
     "model_module": "@jupyter-widgets/base",
     "model_module_version": "1.2.0",
     "model_name": "LayoutModel",
     "state": {
      "_model_module": "@jupyter-widgets/base",
      "_model_module_version": "1.2.0",
      "_model_name": "LayoutModel",
      "_view_count": null,
      "_view_module": "@jupyter-widgets/base",
      "_view_module_version": "1.2.0",
      "_view_name": "LayoutView",
      "align_content": null,
      "align_items": null,
      "align_self": null,
      "border": null,
      "bottom": null,
      "display": null,
      "flex": null,
      "flex_flow": null,
      "grid_area": null,
      "grid_auto_columns": null,
      "grid_auto_flow": null,
      "grid_auto_rows": null,
      "grid_column": null,
      "grid_gap": null,
      "grid_row": null,
      "grid_template_areas": null,
      "grid_template_columns": null,
      "grid_template_rows": null,
      "height": null,
      "justify_content": null,
      "justify_items": null,
      "left": null,
      "margin": null,
      "max_height": null,
      "max_width": null,
      "min_height": null,
      "min_width": null,
      "object_fit": null,
      "object_position": null,
      "order": null,
      "overflow": null,
      "overflow_x": null,
      "overflow_y": null,
      "padding": null,
      "right": null,
      "top": null,
      "visibility": null,
      "width": null
     }
    },
    "320d18e04e984e8db6ac57e1675db1e9": {
     "model_module": "@jupyter-widgets/base",
     "model_module_version": "1.2.0",
     "model_name": "LayoutModel",
     "state": {
      "_model_module": "@jupyter-widgets/base",
      "_model_module_version": "1.2.0",
      "_model_name": "LayoutModel",
      "_view_count": null,
      "_view_module": "@jupyter-widgets/base",
      "_view_module_version": "1.2.0",
      "_view_name": "LayoutView",
      "align_content": null,
      "align_items": null,
      "align_self": null,
      "border": null,
      "bottom": null,
      "display": null,
      "flex": null,
      "flex_flow": null,
      "grid_area": null,
      "grid_auto_columns": null,
      "grid_auto_flow": null,
      "grid_auto_rows": null,
      "grid_column": null,
      "grid_gap": null,
      "grid_row": null,
      "grid_template_areas": null,
      "grid_template_columns": null,
      "grid_template_rows": null,
      "height": null,
      "justify_content": null,
      "justify_items": null,
      "left": null,
      "margin": null,
      "max_height": null,
      "max_width": null,
      "min_height": null,
      "min_width": null,
      "object_fit": null,
      "object_position": null,
      "order": null,
      "overflow": null,
      "overflow_x": null,
      "overflow_y": null,
      "padding": null,
      "right": null,
      "top": null,
      "visibility": null,
      "width": null
     }
    },
    "322892aea77c43d58185aca1d5704370": {
     "model_module": "@jupyter-widgets/controls",
     "model_module_version": "1.5.0",
     "model_name": "HTMLModel",
     "state": {
      "_dom_classes": [],
      "_model_module": "@jupyter-widgets/controls",
      "_model_module_version": "1.5.0",
      "_model_name": "HTMLModel",
      "_view_count": null,
      "_view_module": "@jupyter-widgets/controls",
      "_view_module_version": "1.5.0",
      "_view_name": "HTMLView",
      "description": "",
      "description_tooltip": null,
      "layout": "IPY_MODEL_5cba1b7e8bc24ae7b2b668f41e754906",
      "placeholder": "​",
      "style": "IPY_MODEL_7fb521f7acfa4244817d6320cdb01b7c",
      "value": "Downloading: 100%"
     }
    },
    "339128a2a43143b39cba505b1e9c0ee6": {
     "model_module": "@jupyter-widgets/controls",
     "model_module_version": "1.5.0",
     "model_name": "ProgressStyleModel",
     "state": {
      "_model_module": "@jupyter-widgets/controls",
      "_model_module_version": "1.5.0",
      "_model_name": "ProgressStyleModel",
      "_view_count": null,
      "_view_module": "@jupyter-widgets/base",
      "_view_module_version": "1.2.0",
      "_view_name": "StyleView",
      "bar_color": null,
      "description_width": ""
     }
    },
    "33ec0cb53fba4b92a4e109abfe3f2585": {
     "model_module": "@jupyter-widgets/base",
     "model_module_version": "1.2.0",
     "model_name": "LayoutModel",
     "state": {
      "_model_module": "@jupyter-widgets/base",
      "_model_module_version": "1.2.0",
      "_model_name": "LayoutModel",
      "_view_count": null,
      "_view_module": "@jupyter-widgets/base",
      "_view_module_version": "1.2.0",
      "_view_name": "LayoutView",
      "align_content": null,
      "align_items": null,
      "align_self": null,
      "border": null,
      "bottom": null,
      "display": null,
      "flex": null,
      "flex_flow": null,
      "grid_area": null,
      "grid_auto_columns": null,
      "grid_auto_flow": null,
      "grid_auto_rows": null,
      "grid_column": null,
      "grid_gap": null,
      "grid_row": null,
      "grid_template_areas": null,
      "grid_template_columns": null,
      "grid_template_rows": null,
      "height": null,
      "justify_content": null,
      "justify_items": null,
      "left": null,
      "margin": null,
      "max_height": null,
      "max_width": null,
      "min_height": null,
      "min_width": null,
      "object_fit": null,
      "object_position": null,
      "order": null,
      "overflow": null,
      "overflow_x": null,
      "overflow_y": null,
      "padding": null,
      "right": null,
      "top": null,
      "visibility": null,
      "width": null
     }
    },
    "35451c49135a4ce1ab8854aed48350f9": {
     "model_module": "@jupyter-widgets/controls",
     "model_module_version": "1.5.0",
     "model_name": "FloatProgressModel",
     "state": {
      "_dom_classes": [],
      "_model_module": "@jupyter-widgets/controls",
      "_model_module_version": "1.5.0",
      "_model_name": "FloatProgressModel",
      "_view_count": null,
      "_view_module": "@jupyter-widgets/controls",
      "_view_module_version": "1.5.0",
      "_view_name": "ProgressView",
      "bar_style": "success",
      "description": "",
      "description_tooltip": null,
      "layout": "IPY_MODEL_ef2c99b5421b44e3b67ad62d24d00f02",
      "max": 1355863,
      "min": 0,
      "orientation": "horizontal",
      "style": "IPY_MODEL_d685f3fd304f4dc4928104b955cc9613",
      "value": 1355863
     }
    },
    "35e8e1fe6ecb44ec998c4a19e6313f0e": {
     "model_module": "@jupyter-widgets/controls",
     "model_module_version": "1.5.0",
     "model_name": "FloatProgressModel",
     "state": {
      "_dom_classes": [],
      "_model_module": "@jupyter-widgets/controls",
      "_model_module_version": "1.5.0",
      "_model_name": "FloatProgressModel",
      "_view_count": null,
      "_view_module": "@jupyter-widgets/controls",
      "_view_module_version": "1.5.0",
      "_view_name": "ProgressView",
      "bar_style": "success",
      "description": "",
      "description_tooltip": null,
      "layout": "IPY_MODEL_3ca1cb0393d644e380029a6dc7cee21a",
      "max": 481,
      "min": 0,
      "orientation": "horizontal",
      "style": "IPY_MODEL_8809d4f2c0e945319c11c32e98ff7a9b",
      "value": 481
     }
    },
    "3656411874354598a9303e63de9d5e5f": {
     "model_module": "@jupyter-widgets/controls",
     "model_module_version": "1.5.0",
     "model_name": "DescriptionStyleModel",
     "state": {
      "_model_module": "@jupyter-widgets/controls",
      "_model_module_version": "1.5.0",
      "_model_name": "DescriptionStyleModel",
      "_view_count": null,
      "_view_module": "@jupyter-widgets/base",
      "_view_module_version": "1.2.0",
      "_view_name": "StyleView",
      "description_width": ""
     }
    },
    "369a36ee462845a383e997367cb4c538": {
     "model_module": "@jupyter-widgets/controls",
     "model_module_version": "1.5.0",
     "model_name": "DescriptionStyleModel",
     "state": {
      "_model_module": "@jupyter-widgets/controls",
      "_model_module_version": "1.5.0",
      "_model_name": "DescriptionStyleModel",
      "_view_count": null,
      "_view_module": "@jupyter-widgets/base",
      "_view_module_version": "1.2.0",
      "_view_name": "StyleView",
      "description_width": ""
     }
    },
    "3848bb9d2fc34c60a7fc2db5de21753d": {
     "model_module": "@jupyter-widgets/controls",
     "model_module_version": "1.5.0",
     "model_name": "FloatProgressModel",
     "state": {
      "_dom_classes": [],
      "_model_module": "@jupyter-widgets/controls",
      "_model_module_version": "1.5.0",
      "_model_name": "FloatProgressModel",
      "_view_count": null,
      "_view_module": "@jupyter-widgets/controls",
      "_view_module_version": "1.5.0",
      "_view_name": "ProgressView",
      "bar_style": "success",
      "description": "",
      "description_tooltip": null,
      "layout": "IPY_MODEL_74112a1416dc47cfb60c6123203eb304",
      "max": 898823,
      "min": 0,
      "orientation": "horizontal",
      "style": "IPY_MODEL_15ab8df70ff6409295662a30d663b9eb",
      "value": 898823
     }
    },
    "397ba1868842488bad721bca5b422d8d": {
     "model_module": "@jupyter-widgets/controls",
     "model_module_version": "1.5.0",
     "model_name": "HBoxModel",
     "state": {
      "_dom_classes": [],
      "_model_module": "@jupyter-widgets/controls",
      "_model_module_version": "1.5.0",
      "_model_name": "HBoxModel",
      "_view_count": null,
      "_view_module": "@jupyter-widgets/controls",
      "_view_module_version": "1.5.0",
      "_view_name": "HBoxView",
      "box_style": "",
      "children": [
       "IPY_MODEL_7b764596c50141ed987463d7068a33ac",
       "IPY_MODEL_8c493cd7bbae496496831b70111cda51",
       "IPY_MODEL_d0dced8b5cf34c44ab669c5ca774360d"
      ],
      "layout": "IPY_MODEL_f18ff809d11c483d9ff793a280e7e9e2"
     }
    },
    "3a32f56721ec4948925fcde77bc5d341": {
     "model_module": "@jupyter-widgets/base",
     "model_module_version": "1.2.0",
     "model_name": "LayoutModel",
     "state": {
      "_model_module": "@jupyter-widgets/base",
      "_model_module_version": "1.2.0",
      "_model_name": "LayoutModel",
      "_view_count": null,
      "_view_module": "@jupyter-widgets/base",
      "_view_module_version": "1.2.0",
      "_view_name": "LayoutView",
      "align_content": null,
      "align_items": null,
      "align_self": null,
      "border": null,
      "bottom": null,
      "display": null,
      "flex": null,
      "flex_flow": null,
      "grid_area": null,
      "grid_auto_columns": null,
      "grid_auto_flow": null,
      "grid_auto_rows": null,
      "grid_column": null,
      "grid_gap": null,
      "grid_row": null,
      "grid_template_areas": null,
      "grid_template_columns": null,
      "grid_template_rows": null,
      "height": null,
      "justify_content": null,
      "justify_items": null,
      "left": null,
      "margin": null,
      "max_height": null,
      "max_width": null,
      "min_height": null,
      "min_width": null,
      "object_fit": null,
      "object_position": null,
      "order": null,
      "overflow": null,
      "overflow_x": null,
      "overflow_y": null,
      "padding": null,
      "right": null,
      "top": null,
      "visibility": null,
      "width": null
     }
    },
    "3ca1cb0393d644e380029a6dc7cee21a": {
     "model_module": "@jupyter-widgets/base",
     "model_module_version": "1.2.0",
     "model_name": "LayoutModel",
     "state": {
      "_model_module": "@jupyter-widgets/base",
      "_model_module_version": "1.2.0",
      "_model_name": "LayoutModel",
      "_view_count": null,
      "_view_module": "@jupyter-widgets/base",
      "_view_module_version": "1.2.0",
      "_view_name": "LayoutView",
      "align_content": null,
      "align_items": null,
      "align_self": null,
      "border": null,
      "bottom": null,
      "display": null,
      "flex": null,
      "flex_flow": null,
      "grid_area": null,
      "grid_auto_columns": null,
      "grid_auto_flow": null,
      "grid_auto_rows": null,
      "grid_column": null,
      "grid_gap": null,
      "grid_row": null,
      "grid_template_areas": null,
      "grid_template_columns": null,
      "grid_template_rows": null,
      "height": null,
      "justify_content": null,
      "justify_items": null,
      "left": null,
      "margin": null,
      "max_height": null,
      "max_width": null,
      "min_height": null,
      "min_width": null,
      "object_fit": null,
      "object_position": null,
      "order": null,
      "overflow": null,
      "overflow_x": null,
      "overflow_y": null,
      "padding": null,
      "right": null,
      "top": null,
      "visibility": null,
      "width": null
     }
    },
    "3cc2ba451e004b5b91efa8c8e87af308": {
     "model_module": "@jupyter-widgets/controls",
     "model_module_version": "1.5.0",
     "model_name": "DescriptionStyleModel",
     "state": {
      "_model_module": "@jupyter-widgets/controls",
      "_model_module_version": "1.5.0",
      "_model_name": "DescriptionStyleModel",
      "_view_count": null,
      "_view_module": "@jupyter-widgets/base",
      "_view_module_version": "1.2.0",
      "_view_name": "StyleView",
      "description_width": ""
     }
    },
    "3df3de35ea7c409db18028224e895043": {
     "model_module": "@jupyter-widgets/base",
     "model_module_version": "1.2.0",
     "model_name": "LayoutModel",
     "state": {
      "_model_module": "@jupyter-widgets/base",
      "_model_module_version": "1.2.0",
      "_model_name": "LayoutModel",
      "_view_count": null,
      "_view_module": "@jupyter-widgets/base",
      "_view_module_version": "1.2.0",
      "_view_name": "LayoutView",
      "align_content": null,
      "align_items": null,
      "align_self": null,
      "border": null,
      "bottom": null,
      "display": null,
      "flex": null,
      "flex_flow": null,
      "grid_area": null,
      "grid_auto_columns": null,
      "grid_auto_flow": null,
      "grid_auto_rows": null,
      "grid_column": null,
      "grid_gap": null,
      "grid_row": null,
      "grid_template_areas": null,
      "grid_template_columns": null,
      "grid_template_rows": null,
      "height": null,
      "justify_content": null,
      "justify_items": null,
      "left": null,
      "margin": null,
      "max_height": null,
      "max_width": null,
      "min_height": null,
      "min_width": null,
      "object_fit": null,
      "object_position": null,
      "order": null,
      "overflow": null,
      "overflow_x": null,
      "overflow_y": null,
      "padding": null,
      "right": null,
      "top": null,
      "visibility": null,
      "width": null
     }
    },
    "3f97b01bea5743a59a3eece8eda818fd": {
     "model_module": "@jupyter-widgets/controls",
     "model_module_version": "1.5.0",
     "model_name": "DescriptionStyleModel",
     "state": {
      "_model_module": "@jupyter-widgets/controls",
      "_model_module_version": "1.5.0",
      "_model_name": "DescriptionStyleModel",
      "_view_count": null,
      "_view_module": "@jupyter-widgets/base",
      "_view_module_version": "1.2.0",
      "_view_name": "StyleView",
      "description_width": ""
     }
    },
    "3fde0109f6b948349d792dbd4f7c9ab5": {
     "model_module": "@jupyter-widgets/controls",
     "model_module_version": "1.5.0",
     "model_name": "HBoxModel",
     "state": {
      "_dom_classes": [],
      "_model_module": "@jupyter-widgets/controls",
      "_model_module_version": "1.5.0",
      "_model_name": "HBoxModel",
      "_view_count": null,
      "_view_module": "@jupyter-widgets/controls",
      "_view_module_version": "1.5.0",
      "_view_name": "HBoxView",
      "box_style": "",
      "children": [
       "IPY_MODEL_29d29c4059154978ad4238619d90b23e",
       "IPY_MODEL_5446c184f5db47fc85703e7153b171b0",
       "IPY_MODEL_73b664a7b279404bb846af18b4f0da0a"
      ],
      "layout": "IPY_MODEL_a062df8232f847bc8037714a8b4d0ed2"
     }
    },
    "403fa0df41e349d48bcae4c3eacc4197": {
     "model_module": "@jupyter-widgets/base",
     "model_module_version": "1.2.0",
     "model_name": "LayoutModel",
     "state": {
      "_model_module": "@jupyter-widgets/base",
      "_model_module_version": "1.2.0",
      "_model_name": "LayoutModel",
      "_view_count": null,
      "_view_module": "@jupyter-widgets/base",
      "_view_module_version": "1.2.0",
      "_view_name": "LayoutView",
      "align_content": null,
      "align_items": null,
      "align_self": null,
      "border": null,
      "bottom": null,
      "display": null,
      "flex": null,
      "flex_flow": null,
      "grid_area": null,
      "grid_auto_columns": null,
      "grid_auto_flow": null,
      "grid_auto_rows": null,
      "grid_column": null,
      "grid_gap": null,
      "grid_row": null,
      "grid_template_areas": null,
      "grid_template_columns": null,
      "grid_template_rows": null,
      "height": null,
      "justify_content": null,
      "justify_items": null,
      "left": null,
      "margin": null,
      "max_height": null,
      "max_width": null,
      "min_height": null,
      "min_width": null,
      "object_fit": null,
      "object_position": null,
      "order": null,
      "overflow": null,
      "overflow_x": null,
      "overflow_y": null,
      "padding": null,
      "right": null,
      "top": null,
      "visibility": null,
      "width": null
     }
    },
    "44a8826f04a24548ae3c2a4fa8dbde8a": {
     "model_module": "@jupyter-widgets/controls",
     "model_module_version": "1.5.0",
     "model_name": "ProgressStyleModel",
     "state": {
      "_model_module": "@jupyter-widgets/controls",
      "_model_module_version": "1.5.0",
      "_model_name": "ProgressStyleModel",
      "_view_count": null,
      "_view_module": "@jupyter-widgets/base",
      "_view_module_version": "1.2.0",
      "_view_name": "StyleView",
      "bar_color": null,
      "description_width": ""
     }
    },
    "4698c7e443bd47988acc6a743a65ac0a": {
     "model_module": "@jupyter-widgets/controls",
     "model_module_version": "1.5.0",
     "model_name": "ProgressStyleModel",
     "state": {
      "_model_module": "@jupyter-widgets/controls",
      "_model_module_version": "1.5.0",
      "_model_name": "ProgressStyleModel",
      "_view_count": null,
      "_view_module": "@jupyter-widgets/base",
      "_view_module_version": "1.2.0",
      "_view_name": "StyleView",
      "bar_color": null,
      "description_width": ""
     }
    },
    "499586a07fe0465eb9674e416e2f4e5a": {
     "model_module": "@jupyter-widgets/base",
     "model_module_version": "1.2.0",
     "model_name": "LayoutModel",
     "state": {
      "_model_module": "@jupyter-widgets/base",
      "_model_module_version": "1.2.0",
      "_model_name": "LayoutModel",
      "_view_count": null,
      "_view_module": "@jupyter-widgets/base",
      "_view_module_version": "1.2.0",
      "_view_name": "LayoutView",
      "align_content": null,
      "align_items": null,
      "align_self": null,
      "border": null,
      "bottom": null,
      "display": null,
      "flex": null,
      "flex_flow": null,
      "grid_area": null,
      "grid_auto_columns": null,
      "grid_auto_flow": null,
      "grid_auto_rows": null,
      "grid_column": null,
      "grid_gap": null,
      "grid_row": null,
      "grid_template_areas": null,
      "grid_template_columns": null,
      "grid_template_rows": null,
      "height": null,
      "justify_content": null,
      "justify_items": null,
      "left": null,
      "margin": null,
      "max_height": null,
      "max_width": null,
      "min_height": null,
      "min_width": null,
      "object_fit": null,
      "object_position": null,
      "order": null,
      "overflow": null,
      "overflow_x": null,
      "overflow_y": null,
      "padding": null,
      "right": null,
      "top": null,
      "visibility": null,
      "width": null
     }
    },
    "49f1aa466f5643d08c7a93221b4ca366": {
     "model_module": "@jupyter-widgets/base",
     "model_module_version": "1.2.0",
     "model_name": "LayoutModel",
     "state": {
      "_model_module": "@jupyter-widgets/base",
      "_model_module_version": "1.2.0",
      "_model_name": "LayoutModel",
      "_view_count": null,
      "_view_module": "@jupyter-widgets/base",
      "_view_module_version": "1.2.0",
      "_view_name": "LayoutView",
      "align_content": null,
      "align_items": null,
      "align_self": null,
      "border": null,
      "bottom": null,
      "display": null,
      "flex": null,
      "flex_flow": null,
      "grid_area": null,
      "grid_auto_columns": null,
      "grid_auto_flow": null,
      "grid_auto_rows": null,
      "grid_column": null,
      "grid_gap": null,
      "grid_row": null,
      "grid_template_areas": null,
      "grid_template_columns": null,
      "grid_template_rows": null,
      "height": null,
      "justify_content": null,
      "justify_items": null,
      "left": null,
      "margin": null,
      "max_height": null,
      "max_width": null,
      "min_height": null,
      "min_width": null,
      "object_fit": null,
      "object_position": null,
      "order": null,
      "overflow": null,
      "overflow_x": null,
      "overflow_y": null,
      "padding": null,
      "right": null,
      "top": null,
      "visibility": null,
      "width": null
     }
    },
    "4e54d50782f2474088f53e7259bf8c8e": {
     "model_module": "@jupyter-widgets/controls",
     "model_module_version": "1.5.0",
     "model_name": "HBoxModel",
     "state": {
      "_dom_classes": [],
      "_model_module": "@jupyter-widgets/controls",
      "_model_module_version": "1.5.0",
      "_model_name": "HBoxModel",
      "_view_count": null,
      "_view_module": "@jupyter-widgets/controls",
      "_view_module_version": "1.5.0",
      "_view_name": "HBoxView",
      "box_style": "",
      "children": [
       "IPY_MODEL_297270bd3d164c8ba60305691607162c",
       "IPY_MODEL_23a5011d1f5241b2ad34ade708d3f9fb",
       "IPY_MODEL_07c3d0f2c9c54b2fb2bc16533b12116d"
      ],
      "layout": "IPY_MODEL_887c62a5d2004984800606d3d879f3ef"
     }
    },
    "5055494d265b462b83bdec5f997cd939": {
     "model_module": "@jupyter-widgets/base",
     "model_module_version": "1.2.0",
     "model_name": "LayoutModel",
     "state": {
      "_model_module": "@jupyter-widgets/base",
      "_model_module_version": "1.2.0",
      "_model_name": "LayoutModel",
      "_view_count": null,
      "_view_module": "@jupyter-widgets/base",
      "_view_module_version": "1.2.0",
      "_view_name": "LayoutView",
      "align_content": null,
      "align_items": null,
      "align_self": null,
      "border": null,
      "bottom": null,
      "display": null,
      "flex": null,
      "flex_flow": null,
      "grid_area": null,
      "grid_auto_columns": null,
      "grid_auto_flow": null,
      "grid_auto_rows": null,
      "grid_column": null,
      "grid_gap": null,
      "grid_row": null,
      "grid_template_areas": null,
      "grid_template_columns": null,
      "grid_template_rows": null,
      "height": null,
      "justify_content": null,
      "justify_items": null,
      "left": null,
      "margin": null,
      "max_height": null,
      "max_width": null,
      "min_height": null,
      "min_width": null,
      "object_fit": null,
      "object_position": null,
      "order": null,
      "overflow": null,
      "overflow_x": null,
      "overflow_y": null,
      "padding": null,
      "right": null,
      "top": null,
      "visibility": null,
      "width": null
     }
    },
    "5207d0cff8354a1d9dcc21fc089e533a": {
     "model_module": "@jupyter-widgets/base",
     "model_module_version": "1.2.0",
     "model_name": "LayoutModel",
     "state": {
      "_model_module": "@jupyter-widgets/base",
      "_model_module_version": "1.2.0",
      "_model_name": "LayoutModel",
      "_view_count": null,
      "_view_module": "@jupyter-widgets/base",
      "_view_module_version": "1.2.0",
      "_view_name": "LayoutView",
      "align_content": null,
      "align_items": null,
      "align_self": null,
      "border": null,
      "bottom": null,
      "display": null,
      "flex": null,
      "flex_flow": null,
      "grid_area": null,
      "grid_auto_columns": null,
      "grid_auto_flow": null,
      "grid_auto_rows": null,
      "grid_column": null,
      "grid_gap": null,
      "grid_row": null,
      "grid_template_areas": null,
      "grid_template_columns": null,
      "grid_template_rows": null,
      "height": null,
      "justify_content": null,
      "justify_items": null,
      "left": null,
      "margin": null,
      "max_height": null,
      "max_width": null,
      "min_height": null,
      "min_width": null,
      "object_fit": null,
      "object_position": null,
      "order": null,
      "overflow": null,
      "overflow_x": null,
      "overflow_y": null,
      "padding": null,
      "right": null,
      "top": null,
      "visibility": null,
      "width": null
     }
    },
    "5446c184f5db47fc85703e7153b171b0": {
     "model_module": "@jupyter-widgets/controls",
     "model_module_version": "1.5.0",
     "model_name": "FloatProgressModel",
     "state": {
      "_dom_classes": [],
      "_model_module": "@jupyter-widgets/controls",
      "_model_module_version": "1.5.0",
      "_model_name": "FloatProgressModel",
      "_view_count": null,
      "_view_module": "@jupyter-widgets/controls",
      "_view_module_version": "1.5.0",
      "_view_name": "ProgressView",
      "bar_style": "success",
      "description": "",
      "description_tooltip": null,
      "layout": "IPY_MODEL_5055494d265b462b83bdec5f997cd939",
      "max": 252,
      "min": 0,
      "orientation": "horizontal",
      "style": "IPY_MODEL_4698c7e443bd47988acc6a743a65ac0a",
      "value": 252
     }
    },
    "55093766f796492aa47e9f5a63c69076": {
     "model_module": "@jupyter-widgets/controls",
     "model_module_version": "1.5.0",
     "model_name": "ProgressStyleModel",
     "state": {
      "_model_module": "@jupyter-widgets/controls",
      "_model_module_version": "1.5.0",
      "_model_name": "ProgressStyleModel",
      "_view_count": null,
      "_view_module": "@jupyter-widgets/base",
      "_view_module_version": "1.2.0",
      "_view_name": "StyleView",
      "bar_color": null,
      "description_width": ""
     }
    },
    "55aa172aae91459799cc4eaf59f25d7d": {
     "model_module": "@jupyter-widgets/controls",
     "model_module_version": "1.5.0",
     "model_name": "HTMLModel",
     "state": {
      "_dom_classes": [],
      "_model_module": "@jupyter-widgets/controls",
      "_model_module_version": "1.5.0",
      "_model_name": "HTMLModel",
      "_view_count": null,
      "_view_module": "@jupyter-widgets/controls",
      "_view_module_version": "1.5.0",
      "_view_name": "HTMLView",
      "description": "",
      "description_tooltip": null,
      "layout": "IPY_MODEL_7f4f30b192a2454aa772255207317abf",
      "placeholder": "​",
      "style": "IPY_MODEL_564e6a3f26ad43849ea7973cbb3bda8a",
      "value": "Downloading: 100%"
     }
    },
    "564e6a3f26ad43849ea7973cbb3bda8a": {
     "model_module": "@jupyter-widgets/controls",
     "model_module_version": "1.5.0",
     "model_name": "DescriptionStyleModel",
     "state": {
      "_model_module": "@jupyter-widgets/controls",
      "_model_module_version": "1.5.0",
      "_model_name": "DescriptionStyleModel",
      "_view_count": null,
      "_view_module": "@jupyter-widgets/base",
      "_view_module_version": "1.2.0",
      "_view_name": "StyleView",
      "description_width": ""
     }
    },
    "5653774a02594b47872921929bdb1c6e": {
     "model_module": "@jupyter-widgets/controls",
     "model_module_version": "1.5.0",
     "model_name": "FloatProgressModel",
     "state": {
      "_dom_classes": [],
      "_model_module": "@jupyter-widgets/controls",
      "_model_module_version": "1.5.0",
      "_model_name": "FloatProgressModel",
      "_view_count": null,
      "_view_module": "@jupyter-widgets/controls",
      "_view_module_version": "1.5.0",
      "_view_name": "ProgressView",
      "bar_style": "success",
      "description": "",
      "description_tooltip": null,
      "layout": "IPY_MODEL_315bc621b21147d196fbd41422bb9d12",
      "max": 456318,
      "min": 0,
      "orientation": "horizontal",
      "style": "IPY_MODEL_652805c2663940c0b083ce62191271d2",
      "value": 456318
     }
    },
    "5813cc3dfb2844fcba72b6faba2135e0": {
     "model_module": "@jupyter-widgets/controls",
     "model_module_version": "1.5.0",
     "model_name": "HTMLModel",
     "state": {
      "_dom_classes": [],
      "_model_module": "@jupyter-widgets/controls",
      "_model_module_version": "1.5.0",
      "_model_name": "HTMLModel",
      "_view_count": null,
      "_view_module": "@jupyter-widgets/controls",
      "_view_module_version": "1.5.0",
      "_view_name": "HTMLView",
      "description": "",
      "description_tooltip": null,
      "layout": "IPY_MODEL_8401cbd1da6b441a9150ba6510241ca3",
      "placeholder": "​",
      "style": "IPY_MODEL_8ccace5fc216487a8bcf78eb9677c93a",
      "value": " 1.29M/1.29M [00:00&lt;00:00, 2.80MB/s]"
     }
    },
    "5b5ce900916a4347a547526439995ab8": {
     "model_module": "@jupyter-widgets/base",
     "model_module_version": "1.2.0",
     "model_name": "LayoutModel",
     "state": {
      "_model_module": "@jupyter-widgets/base",
      "_model_module_version": "1.2.0",
      "_model_name": "LayoutModel",
      "_view_count": null,
      "_view_module": "@jupyter-widgets/base",
      "_view_module_version": "1.2.0",
      "_view_name": "LayoutView",
      "align_content": null,
      "align_items": null,
      "align_self": null,
      "border": null,
      "bottom": null,
      "display": null,
      "flex": null,
      "flex_flow": null,
      "grid_area": null,
      "grid_auto_columns": null,
      "grid_auto_flow": null,
      "grid_auto_rows": null,
      "grid_column": null,
      "grid_gap": null,
      "grid_row": null,
      "grid_template_areas": null,
      "grid_template_columns": null,
      "grid_template_rows": null,
      "height": null,
      "justify_content": null,
      "justify_items": null,
      "left": null,
      "margin": null,
      "max_height": null,
      "max_width": null,
      "min_height": null,
      "min_width": null,
      "object_fit": null,
      "object_position": null,
      "order": null,
      "overflow": null,
      "overflow_x": null,
      "overflow_y": null,
      "padding": null,
      "right": null,
      "top": null,
      "visibility": null,
      "width": null
     }
    },
    "5cba1b7e8bc24ae7b2b668f41e754906": {
     "model_module": "@jupyter-widgets/base",
     "model_module_version": "1.2.0",
     "model_name": "LayoutModel",
     "state": {
      "_model_module": "@jupyter-widgets/base",
      "_model_module_version": "1.2.0",
      "_model_name": "LayoutModel",
      "_view_count": null,
      "_view_module": "@jupyter-widgets/base",
      "_view_module_version": "1.2.0",
      "_view_name": "LayoutView",
      "align_content": null,
      "align_items": null,
      "align_self": null,
      "border": null,
      "bottom": null,
      "display": null,
      "flex": null,
      "flex_flow": null,
      "grid_area": null,
      "grid_auto_columns": null,
      "grid_auto_flow": null,
      "grid_auto_rows": null,
      "grid_column": null,
      "grid_gap": null,
      "grid_row": null,
      "grid_template_areas": null,
      "grid_template_columns": null,
      "grid_template_rows": null,
      "height": null,
      "justify_content": null,
      "justify_items": null,
      "left": null,
      "margin": null,
      "max_height": null,
      "max_width": null,
      "min_height": null,
      "min_width": null,
      "object_fit": null,
      "object_position": null,
      "order": null,
      "overflow": null,
      "overflow_x": null,
      "overflow_y": null,
      "padding": null,
      "right": null,
      "top": null,
      "visibility": null,
      "width": null
     }
    },
    "639a1af57780405eab5cade9bab9d14a": {
     "model_module": "@jupyter-widgets/base",
     "model_module_version": "1.2.0",
     "model_name": "LayoutModel",
     "state": {
      "_model_module": "@jupyter-widgets/base",
      "_model_module_version": "1.2.0",
      "_model_name": "LayoutModel",
      "_view_count": null,
      "_view_module": "@jupyter-widgets/base",
      "_view_module_version": "1.2.0",
      "_view_name": "LayoutView",
      "align_content": null,
      "align_items": null,
      "align_self": null,
      "border": null,
      "bottom": null,
      "display": null,
      "flex": null,
      "flex_flow": null,
      "grid_area": null,
      "grid_auto_columns": null,
      "grid_auto_flow": null,
      "grid_auto_rows": null,
      "grid_column": null,
      "grid_gap": null,
      "grid_row": null,
      "grid_template_areas": null,
      "grid_template_columns": null,
      "grid_template_rows": null,
      "height": null,
      "justify_content": null,
      "justify_items": null,
      "left": null,
      "margin": null,
      "max_height": null,
      "max_width": null,
      "min_height": null,
      "min_width": null,
      "object_fit": null,
      "object_position": null,
      "order": null,
      "overflow": null,
      "overflow_x": null,
      "overflow_y": null,
      "padding": null,
      "right": null,
      "top": null,
      "visibility": null,
      "width": null
     }
    },
    "6499232227764644a5a266c36a83b3dc": {
     "model_module": "@jupyter-widgets/base",
     "model_module_version": "1.2.0",
     "model_name": "LayoutModel",
     "state": {
      "_model_module": "@jupyter-widgets/base",
      "_model_module_version": "1.2.0",
      "_model_name": "LayoutModel",
      "_view_count": null,
      "_view_module": "@jupyter-widgets/base",
      "_view_module_version": "1.2.0",
      "_view_name": "LayoutView",
      "align_content": null,
      "align_items": null,
      "align_self": null,
      "border": null,
      "bottom": null,
      "display": null,
      "flex": null,
      "flex_flow": null,
      "grid_area": null,
      "grid_auto_columns": null,
      "grid_auto_flow": null,
      "grid_auto_rows": null,
      "grid_column": null,
      "grid_gap": null,
      "grid_row": null,
      "grid_template_areas": null,
      "grid_template_columns": null,
      "grid_template_rows": null,
      "height": null,
      "justify_content": null,
      "justify_items": null,
      "left": null,
      "margin": null,
      "max_height": null,
      "max_width": null,
      "min_height": null,
      "min_width": null,
      "object_fit": null,
      "object_position": null,
      "order": null,
      "overflow": null,
      "overflow_x": null,
      "overflow_y": null,
      "padding": null,
      "right": null,
      "top": null,
      "visibility": null,
      "width": null
     }
    },
    "64f7a83793414108945415b40dd029e6": {
     "model_module": "@jupyter-widgets/base",
     "model_module_version": "1.2.0",
     "model_name": "LayoutModel",
     "state": {
      "_model_module": "@jupyter-widgets/base",
      "_model_module_version": "1.2.0",
      "_model_name": "LayoutModel",
      "_view_count": null,
      "_view_module": "@jupyter-widgets/base",
      "_view_module_version": "1.2.0",
      "_view_name": "LayoutView",
      "align_content": null,
      "align_items": null,
      "align_self": null,
      "border": null,
      "bottom": null,
      "display": null,
      "flex": null,
      "flex_flow": null,
      "grid_area": null,
      "grid_auto_columns": null,
      "grid_auto_flow": null,
      "grid_auto_rows": null,
      "grid_column": null,
      "grid_gap": null,
      "grid_row": null,
      "grid_template_areas": null,
      "grid_template_columns": null,
      "grid_template_rows": null,
      "height": null,
      "justify_content": null,
      "justify_items": null,
      "left": null,
      "margin": null,
      "max_height": null,
      "max_width": null,
      "min_height": null,
      "min_width": null,
      "object_fit": null,
      "object_position": null,
      "order": null,
      "overflow": null,
      "overflow_x": null,
      "overflow_y": null,
      "padding": null,
      "right": null,
      "top": null,
      "visibility": null,
      "width": null
     }
    },
    "652805c2663940c0b083ce62191271d2": {
     "model_module": "@jupyter-widgets/controls",
     "model_module_version": "1.5.0",
     "model_name": "ProgressStyleModel",
     "state": {
      "_model_module": "@jupyter-widgets/controls",
      "_model_module_version": "1.5.0",
      "_model_name": "ProgressStyleModel",
      "_view_count": null,
      "_view_module": "@jupyter-widgets/base",
      "_view_module_version": "1.2.0",
      "_view_name": "StyleView",
      "bar_color": null,
      "description_width": ""
     }
    },
    "65ee97e6d86c4dcab61192316f5756ed": {
     "model_module": "@jupyter-widgets/controls",
     "model_module_version": "1.5.0",
     "model_name": "DescriptionStyleModel",
     "state": {
      "_model_module": "@jupyter-widgets/controls",
      "_model_module_version": "1.5.0",
      "_model_name": "DescriptionStyleModel",
      "_view_count": null,
      "_view_module": "@jupyter-widgets/base",
      "_view_module_version": "1.2.0",
      "_view_name": "StyleView",
      "description_width": ""
     }
    },
    "6835877b1a7040d5b0b733cdd94da175": {
     "model_module": "@jupyter-widgets/base",
     "model_module_version": "1.2.0",
     "model_name": "LayoutModel",
     "state": {
      "_model_module": "@jupyter-widgets/base",
      "_model_module_version": "1.2.0",
      "_model_name": "LayoutModel",
      "_view_count": null,
      "_view_module": "@jupyter-widgets/base",
      "_view_module_version": "1.2.0",
      "_view_name": "LayoutView",
      "align_content": null,
      "align_items": null,
      "align_self": null,
      "border": null,
      "bottom": null,
      "display": null,
      "flex": null,
      "flex_flow": null,
      "grid_area": null,
      "grid_auto_columns": null,
      "grid_auto_flow": null,
      "grid_auto_rows": null,
      "grid_column": null,
      "grid_gap": null,
      "grid_row": null,
      "grid_template_areas": null,
      "grid_template_columns": null,
      "grid_template_rows": null,
      "height": null,
      "justify_content": null,
      "justify_items": null,
      "left": null,
      "margin": null,
      "max_height": null,
      "max_width": null,
      "min_height": null,
      "min_width": null,
      "object_fit": null,
      "object_position": null,
      "order": null,
      "overflow": null,
      "overflow_x": null,
      "overflow_y": null,
      "padding": null,
      "right": null,
      "top": null,
      "visibility": null,
      "width": null
     }
    },
    "6960f572a7f248cb85ac12d30e72369d": {
     "model_module": "@jupyter-widgets/base",
     "model_module_version": "1.2.0",
     "model_name": "LayoutModel",
     "state": {
      "_model_module": "@jupyter-widgets/base",
      "_model_module_version": "1.2.0",
      "_model_name": "LayoutModel",
      "_view_count": null,
      "_view_module": "@jupyter-widgets/base",
      "_view_module_version": "1.2.0",
      "_view_name": "LayoutView",
      "align_content": null,
      "align_items": null,
      "align_self": null,
      "border": null,
      "bottom": null,
      "display": null,
      "flex": null,
      "flex_flow": null,
      "grid_area": null,
      "grid_auto_columns": null,
      "grid_auto_flow": null,
      "grid_auto_rows": null,
      "grid_column": null,
      "grid_gap": null,
      "grid_row": null,
      "grid_template_areas": null,
      "grid_template_columns": null,
      "grid_template_rows": null,
      "height": null,
      "justify_content": null,
      "justify_items": null,
      "left": null,
      "margin": null,
      "max_height": null,
      "max_width": null,
      "min_height": null,
      "min_width": null,
      "object_fit": null,
      "object_position": null,
      "order": null,
      "overflow": null,
      "overflow_x": null,
      "overflow_y": null,
      "padding": null,
      "right": null,
      "top": null,
      "visibility": null,
      "width": null
     }
    },
    "6a50735f14694b7cae8726b750a6023c": {
     "model_module": "@jupyter-widgets/base",
     "model_module_version": "1.2.0",
     "model_name": "LayoutModel",
     "state": {
      "_model_module": "@jupyter-widgets/base",
      "_model_module_version": "1.2.0",
      "_model_name": "LayoutModel",
      "_view_count": null,
      "_view_module": "@jupyter-widgets/base",
      "_view_module_version": "1.2.0",
      "_view_name": "LayoutView",
      "align_content": null,
      "align_items": null,
      "align_self": null,
      "border": null,
      "bottom": null,
      "display": null,
      "flex": null,
      "flex_flow": null,
      "grid_area": null,
      "grid_auto_columns": null,
      "grid_auto_flow": null,
      "grid_auto_rows": null,
      "grid_column": null,
      "grid_gap": null,
      "grid_row": null,
      "grid_template_areas": null,
      "grid_template_columns": null,
      "grid_template_rows": null,
      "height": null,
      "justify_content": null,
      "justify_items": null,
      "left": null,
      "margin": null,
      "max_height": null,
      "max_width": null,
      "min_height": null,
      "min_width": null,
      "object_fit": null,
      "object_position": null,
      "order": null,
      "overflow": null,
      "overflow_x": null,
      "overflow_y": null,
      "padding": null,
      "right": null,
      "top": null,
      "visibility": null,
      "width": null
     }
    },
    "6c66e9ebcf5443ec93b8a7e05aed3cbc": {
     "model_module": "@jupyter-widgets/controls",
     "model_module_version": "1.5.0",
     "model_name": "HBoxModel",
     "state": {
      "_dom_classes": [],
      "_model_module": "@jupyter-widgets/controls",
      "_model_module_version": "1.5.0",
      "_model_name": "HBoxModel",
      "_view_count": null,
      "_view_module": "@jupyter-widgets/controls",
      "_view_module_version": "1.5.0",
      "_view_name": "HBoxView",
      "box_style": "",
      "children": [
       "IPY_MODEL_26ea49f2db694d369480d8093c6b5d3d",
       "IPY_MODEL_f4ff0f29de1e4951ab0f3ce4492c031f",
       "IPY_MODEL_e07d760f39874b22aae1e47b35aecd70"
      ],
      "layout": "IPY_MODEL_5207d0cff8354a1d9dcc21fc089e533a"
     }
    },
    "6ca07146a3f843b4a43d5d17d31f09fe": {
     "model_module": "@jupyter-widgets/controls",
     "model_module_version": "1.5.0",
     "model_name": "HTMLModel",
     "state": {
      "_dom_classes": [],
      "_model_module": "@jupyter-widgets/controls",
      "_model_module_version": "1.5.0",
      "_model_name": "HTMLModel",
      "_view_count": null,
      "_view_module": "@jupyter-widgets/controls",
      "_view_module_version": "1.5.0",
      "_view_name": "HTMLView",
      "description": "",
      "description_tooltip": null,
      "layout": "IPY_MODEL_6499232227764644a5a266c36a83b3dc",
      "placeholder": "​",
      "style": "IPY_MODEL_65ee97e6d86c4dcab61192316f5756ed",
      "value": "Downloading: 100%"
     }
    },
    "6fea6f3833bc4b8186cdf7e5fe2f362d": {
     "model_module": "@jupyter-widgets/base",
     "model_module_version": "1.2.0",
     "model_name": "LayoutModel",
     "state": {
      "_model_module": "@jupyter-widgets/base",
      "_model_module_version": "1.2.0",
      "_model_name": "LayoutModel",
      "_view_count": null,
      "_view_module": "@jupyter-widgets/base",
      "_view_module_version": "1.2.0",
      "_view_name": "LayoutView",
      "align_content": null,
      "align_items": null,
      "align_self": null,
      "border": null,
      "bottom": null,
      "display": null,
      "flex": null,
      "flex_flow": null,
      "grid_area": null,
      "grid_auto_columns": null,
      "grid_auto_flow": null,
      "grid_auto_rows": null,
      "grid_column": null,
      "grid_gap": null,
      "grid_row": null,
      "grid_template_areas": null,
      "grid_template_columns": null,
      "grid_template_rows": null,
      "height": null,
      "justify_content": null,
      "justify_items": null,
      "left": null,
      "margin": null,
      "max_height": null,
      "max_width": null,
      "min_height": null,
      "min_width": null,
      "object_fit": null,
      "object_position": null,
      "order": null,
      "overflow": null,
      "overflow_x": null,
      "overflow_y": null,
      "padding": null,
      "right": null,
      "top": null,
      "visibility": null,
      "width": null
     }
    },
    "704bea5a0e084c5a8264ac9e60e1aec2": {
     "model_module": "@jupyter-widgets/controls",
     "model_module_version": "1.5.0",
     "model_name": "HBoxModel",
     "state": {
      "_dom_classes": [],
      "_model_module": "@jupyter-widgets/controls",
      "_model_module_version": "1.5.0",
      "_model_name": "HBoxModel",
      "_view_count": null,
      "_view_module": "@jupyter-widgets/controls",
      "_view_module_version": "1.5.0",
      "_view_name": "HBoxView",
      "box_style": "",
      "children": [
       "IPY_MODEL_6ca07146a3f843b4a43d5d17d31f09fe",
       "IPY_MODEL_a7c38a2b518043a7bd9b50541b983333",
       "IPY_MODEL_a6ce9ae8143b498abf96642797f185b5"
      ],
      "layout": "IPY_MODEL_403fa0df41e349d48bcae4c3eacc4197"
     }
    },
    "73b664a7b279404bb846af18b4f0da0a": {
     "model_module": "@jupyter-widgets/controls",
     "model_module_version": "1.5.0",
     "model_name": "HTMLModel",
     "state": {
      "_dom_classes": [],
      "_model_module": "@jupyter-widgets/controls",
      "_model_module_version": "1.5.0",
      "_model_name": "HTMLModel",
      "_view_count": null,
      "_view_module": "@jupyter-widgets/controls",
      "_view_module_version": "1.5.0",
      "_view_name": "HTMLView",
      "description": "",
      "description_tooltip": null,
      "layout": "IPY_MODEL_d0222e58b65b4c7a8ba641630495918a",
      "placeholder": "​",
      "style": "IPY_MODEL_de2bde30e62546de9ecbb259359b1166",
      "value": " 252/252 [00:00&lt;00:00, 1.67kB/s]"
     }
    },
    "74112a1416dc47cfb60c6123203eb304": {
     "model_module": "@jupyter-widgets/base",
     "model_module_version": "1.2.0",
     "model_name": "LayoutModel",
     "state": {
      "_model_module": "@jupyter-widgets/base",
      "_model_module_version": "1.2.0",
      "_model_name": "LayoutModel",
      "_view_count": null,
      "_view_module": "@jupyter-widgets/base",
      "_view_module_version": "1.2.0",
      "_view_name": "LayoutView",
      "align_content": null,
      "align_items": null,
      "align_self": null,
      "border": null,
      "bottom": null,
      "display": null,
      "flex": null,
      "flex_flow": null,
      "grid_area": null,
      "grid_auto_columns": null,
      "grid_auto_flow": null,
      "grid_auto_rows": null,
      "grid_column": null,
      "grid_gap": null,
      "grid_row": null,
      "grid_template_areas": null,
      "grid_template_columns": null,
      "grid_template_rows": null,
      "height": null,
      "justify_content": null,
      "justify_items": null,
      "left": null,
      "margin": null,
      "max_height": null,
      "max_width": null,
      "min_height": null,
      "min_width": null,
      "object_fit": null,
      "object_position": null,
      "order": null,
      "overflow": null,
      "overflow_x": null,
      "overflow_y": null,
      "padding": null,
      "right": null,
      "top": null,
      "visibility": null,
      "width": null
     }
    },
    "7591b881ca134c8c8d9213172e2bb915": {
     "model_module": "@jupyter-widgets/controls",
     "model_module_version": "1.5.0",
     "model_name": "ProgressStyleModel",
     "state": {
      "_model_module": "@jupyter-widgets/controls",
      "_model_module_version": "1.5.0",
      "_model_name": "ProgressStyleModel",
      "_view_count": null,
      "_view_module": "@jupyter-widgets/base",
      "_view_module_version": "1.2.0",
      "_view_name": "StyleView",
      "bar_color": null,
      "description_width": ""
     }
    },
    "77bd33d1038c48b5aa8ed78b4bf4d49e": {
     "model_module": "@jupyter-widgets/controls",
     "model_module_version": "1.5.0",
     "model_name": "HTMLModel",
     "state": {
      "_dom_classes": [],
      "_model_module": "@jupyter-widgets/controls",
      "_model_module_version": "1.5.0",
      "_model_name": "HTMLModel",
      "_view_count": null,
      "_view_module": "@jupyter-widgets/controls",
      "_view_module_version": "1.5.0",
      "_view_name": "HTMLView",
      "description": "",
      "description_tooltip": null,
      "layout": "IPY_MODEL_5b5ce900916a4347a547526439995ab8",
      "placeholder": "​",
      "style": "IPY_MODEL_c1d6f55e0f174a599e150edea0ae7794",
      "value": "Downloading: 100%"
     }
    },
    "79272c78df9644c1988ac0b0a9d102c2": {
     "model_module": "@jupyter-widgets/controls",
     "model_module_version": "1.5.0",
     "model_name": "HTMLModel",
     "state": {
      "_dom_classes": [],
      "_model_module": "@jupyter-widgets/controls",
      "_model_module_version": "1.5.0",
      "_model_name": "HTMLModel",
      "_view_count": null,
      "_view_module": "@jupyter-widgets/controls",
      "_view_module_version": "1.5.0",
      "_view_name": "HTMLView",
      "description": "",
      "description_tooltip": null,
      "layout": "IPY_MODEL_6a50735f14694b7cae8726b750a6023c",
      "placeholder": "​",
      "style": "IPY_MODEL_19f5b5d457f943a585de64a90b372292",
      "value": "Downloading: 100%"
     }
    },
    "79c4e0658c444c5db67eb0a3de4e0f04": {
     "model_module": "@jupyter-widgets/controls",
     "model_module_version": "1.5.0",
     "model_name": "DescriptionStyleModel",
     "state": {
      "_model_module": "@jupyter-widgets/controls",
      "_model_module_version": "1.5.0",
      "_model_name": "DescriptionStyleModel",
      "_view_count": null,
      "_view_module": "@jupyter-widgets/base",
      "_view_module_version": "1.2.0",
      "_view_name": "StyleView",
      "description_width": ""
     }
    },
    "7b764596c50141ed987463d7068a33ac": {
     "model_module": "@jupyter-widgets/controls",
     "model_module_version": "1.5.0",
     "model_name": "HTMLModel",
     "state": {
      "_dom_classes": [],
      "_model_module": "@jupyter-widgets/controls",
      "_model_module_version": "1.5.0",
      "_model_name": "HTMLModel",
      "_view_count": null,
      "_view_module": "@jupyter-widgets/controls",
      "_view_module_version": "1.5.0",
      "_view_name": "HTMLView",
      "description": "",
      "description_tooltip": null,
      "layout": "IPY_MODEL_a8c6921a523a4e119370e530de574531",
      "placeholder": "​",
      "style": "IPY_MODEL_be3f134d47fa4a859f2d4c865f834f81",
      "value": "100%"
     }
    },
    "7f4f30b192a2454aa772255207317abf": {
     "model_module": "@jupyter-widgets/base",
     "model_module_version": "1.2.0",
     "model_name": "LayoutModel",
     "state": {
      "_model_module": "@jupyter-widgets/base",
      "_model_module_version": "1.2.0",
      "_model_name": "LayoutModel",
      "_view_count": null,
      "_view_module": "@jupyter-widgets/base",
      "_view_module_version": "1.2.0",
      "_view_name": "LayoutView",
      "align_content": null,
      "align_items": null,
      "align_self": null,
      "border": null,
      "bottom": null,
      "display": null,
      "flex": null,
      "flex_flow": null,
      "grid_area": null,
      "grid_auto_columns": null,
      "grid_auto_flow": null,
      "grid_auto_rows": null,
      "grid_column": null,
      "grid_gap": null,
      "grid_row": null,
      "grid_template_areas": null,
      "grid_template_columns": null,
      "grid_template_rows": null,
      "height": null,
      "justify_content": null,
      "justify_items": null,
      "left": null,
      "margin": null,
      "max_height": null,
      "max_width": null,
      "min_height": null,
      "min_width": null,
      "object_fit": null,
      "object_position": null,
      "order": null,
      "overflow": null,
      "overflow_x": null,
      "overflow_y": null,
      "padding": null,
      "right": null,
      "top": null,
      "visibility": null,
      "width": null
     }
    },
    "7fb521f7acfa4244817d6320cdb01b7c": {
     "model_module": "@jupyter-widgets/controls",
     "model_module_version": "1.5.0",
     "model_name": "DescriptionStyleModel",
     "state": {
      "_model_module": "@jupyter-widgets/controls",
      "_model_module_version": "1.5.0",
      "_model_name": "DescriptionStyleModel",
      "_view_count": null,
      "_view_module": "@jupyter-widgets/base",
      "_view_module_version": "1.2.0",
      "_view_name": "StyleView",
      "description_width": ""
     }
    },
    "82f5c667850b482d97f820b8ac601ce7": {
     "model_module": "@jupyter-widgets/base",
     "model_module_version": "1.2.0",
     "model_name": "LayoutModel",
     "state": {
      "_model_module": "@jupyter-widgets/base",
      "_model_module_version": "1.2.0",
      "_model_name": "LayoutModel",
      "_view_count": null,
      "_view_module": "@jupyter-widgets/base",
      "_view_module_version": "1.2.0",
      "_view_name": "LayoutView",
      "align_content": null,
      "align_items": null,
      "align_self": null,
      "border": null,
      "bottom": null,
      "display": null,
      "flex": null,
      "flex_flow": null,
      "grid_area": null,
      "grid_auto_columns": null,
      "grid_auto_flow": null,
      "grid_auto_rows": null,
      "grid_column": null,
      "grid_gap": null,
      "grid_row": null,
      "grid_template_areas": null,
      "grid_template_columns": null,
      "grid_template_rows": null,
      "height": null,
      "justify_content": null,
      "justify_items": null,
      "left": null,
      "margin": null,
      "max_height": null,
      "max_width": null,
      "min_height": null,
      "min_width": null,
      "object_fit": null,
      "object_position": null,
      "order": null,
      "overflow": null,
      "overflow_x": null,
      "overflow_y": null,
      "padding": null,
      "right": null,
      "top": null,
      "visibility": null,
      "width": null
     }
    },
    "832aaed823fe4401abd77c464f3310d3": {
     "model_module": "@jupyter-widgets/base",
     "model_module_version": "1.2.0",
     "model_name": "LayoutModel",
     "state": {
      "_model_module": "@jupyter-widgets/base",
      "_model_module_version": "1.2.0",
      "_model_name": "LayoutModel",
      "_view_count": null,
      "_view_module": "@jupyter-widgets/base",
      "_view_module_version": "1.2.0",
      "_view_name": "LayoutView",
      "align_content": null,
      "align_items": null,
      "align_self": null,
      "border": null,
      "bottom": null,
      "display": null,
      "flex": null,
      "flex_flow": null,
      "grid_area": null,
      "grid_auto_columns": null,
      "grid_auto_flow": null,
      "grid_auto_rows": null,
      "grid_column": null,
      "grid_gap": null,
      "grid_row": null,
      "grid_template_areas": null,
      "grid_template_columns": null,
      "grid_template_rows": null,
      "height": null,
      "justify_content": null,
      "justify_items": null,
      "left": null,
      "margin": null,
      "max_height": null,
      "max_width": null,
      "min_height": null,
      "min_width": null,
      "object_fit": null,
      "object_position": null,
      "order": null,
      "overflow": null,
      "overflow_x": null,
      "overflow_y": null,
      "padding": null,
      "right": null,
      "top": null,
      "visibility": null,
      "width": null
     }
    },
    "8401cbd1da6b441a9150ba6510241ca3": {
     "model_module": "@jupyter-widgets/base",
     "model_module_version": "1.2.0",
     "model_name": "LayoutModel",
     "state": {
      "_model_module": "@jupyter-widgets/base",
      "_model_module_version": "1.2.0",
      "_model_name": "LayoutModel",
      "_view_count": null,
      "_view_module": "@jupyter-widgets/base",
      "_view_module_version": "1.2.0",
      "_view_name": "LayoutView",
      "align_content": null,
      "align_items": null,
      "align_self": null,
      "border": null,
      "bottom": null,
      "display": null,
      "flex": null,
      "flex_flow": null,
      "grid_area": null,
      "grid_auto_columns": null,
      "grid_auto_flow": null,
      "grid_auto_rows": null,
      "grid_column": null,
      "grid_gap": null,
      "grid_row": null,
      "grid_template_areas": null,
      "grid_template_columns": null,
      "grid_template_rows": null,
      "height": null,
      "justify_content": null,
      "justify_items": null,
      "left": null,
      "margin": null,
      "max_height": null,
      "max_width": null,
      "min_height": null,
      "min_width": null,
      "object_fit": null,
      "object_position": null,
      "order": null,
      "overflow": null,
      "overflow_x": null,
      "overflow_y": null,
      "padding": null,
      "right": null,
      "top": null,
      "visibility": null,
      "width": null
     }
    },
    "851af0ff354d47b89e9bb0a5b666ddc9": {
     "model_module": "@jupyter-widgets/base",
     "model_module_version": "1.2.0",
     "model_name": "LayoutModel",
     "state": {
      "_model_module": "@jupyter-widgets/base",
      "_model_module_version": "1.2.0",
      "_model_name": "LayoutModel",
      "_view_count": null,
      "_view_module": "@jupyter-widgets/base",
      "_view_module_version": "1.2.0",
      "_view_name": "LayoutView",
      "align_content": null,
      "align_items": null,
      "align_self": null,
      "border": null,
      "bottom": null,
      "display": null,
      "flex": null,
      "flex_flow": null,
      "grid_area": null,
      "grid_auto_columns": null,
      "grid_auto_flow": null,
      "grid_auto_rows": null,
      "grid_column": null,
      "grid_gap": null,
      "grid_row": null,
      "grid_template_areas": null,
      "grid_template_columns": null,
      "grid_template_rows": null,
      "height": null,
      "justify_content": null,
      "justify_items": null,
      "left": null,
      "margin": null,
      "max_height": null,
      "max_width": null,
      "min_height": null,
      "min_width": null,
      "object_fit": null,
      "object_position": null,
      "order": null,
      "overflow": null,
      "overflow_x": null,
      "overflow_y": null,
      "padding": null,
      "right": null,
      "top": null,
      "visibility": null,
      "width": null
     }
    },
    "8809d4f2c0e945319c11c32e98ff7a9b": {
     "model_module": "@jupyter-widgets/controls",
     "model_module_version": "1.5.0",
     "model_name": "ProgressStyleModel",
     "state": {
      "_model_module": "@jupyter-widgets/controls",
      "_model_module_version": "1.5.0",
      "_model_name": "ProgressStyleModel",
      "_view_count": null,
      "_view_module": "@jupyter-widgets/base",
      "_view_module_version": "1.2.0",
      "_view_name": "StyleView",
      "bar_color": null,
      "description_width": ""
     }
    },
    "887c62a5d2004984800606d3d879f3ef": {
     "model_module": "@jupyter-widgets/base",
     "model_module_version": "1.2.0",
     "model_name": "LayoutModel",
     "state": {
      "_model_module": "@jupyter-widgets/base",
      "_model_module_version": "1.2.0",
      "_model_name": "LayoutModel",
      "_view_count": null,
      "_view_module": "@jupyter-widgets/base",
      "_view_module_version": "1.2.0",
      "_view_name": "LayoutView",
      "align_content": null,
      "align_items": null,
      "align_self": null,
      "border": null,
      "bottom": null,
      "display": null,
      "flex": null,
      "flex_flow": null,
      "grid_area": null,
      "grid_auto_columns": null,
      "grid_auto_flow": null,
      "grid_auto_rows": null,
      "grid_column": null,
      "grid_gap": null,
      "grid_row": null,
      "grid_template_areas": null,
      "grid_template_columns": null,
      "grid_template_rows": null,
      "height": null,
      "justify_content": null,
      "justify_items": null,
      "left": null,
      "margin": null,
      "max_height": null,
      "max_width": null,
      "min_height": null,
      "min_width": null,
      "object_fit": null,
      "object_position": null,
      "order": null,
      "overflow": null,
      "overflow_x": null,
      "overflow_y": null,
      "padding": null,
      "right": null,
      "top": null,
      "visibility": null,
      "width": null
     }
    },
    "8a870b1ffda04ba4b611322768558c74": {
     "model_module": "@jupyter-widgets/controls",
     "model_module_version": "1.5.0",
     "model_name": "DescriptionStyleModel",
     "state": {
      "_model_module": "@jupyter-widgets/controls",
      "_model_module_version": "1.5.0",
      "_model_name": "DescriptionStyleModel",
      "_view_count": null,
      "_view_module": "@jupyter-widgets/base",
      "_view_module_version": "1.2.0",
      "_view_name": "StyleView",
      "description_width": ""
     }
    },
    "8c493cd7bbae496496831b70111cda51": {
     "model_module": "@jupyter-widgets/controls",
     "model_module_version": "1.5.0",
     "model_name": "FloatProgressModel",
     "state": {
      "_dom_classes": [],
      "_model_module": "@jupyter-widgets/controls",
      "_model_module_version": "1.5.0",
      "_model_name": "FloatProgressModel",
      "_view_count": null,
      "_view_module": "@jupyter-widgets/controls",
      "_view_module_version": "1.5.0",
      "_view_name": "ProgressView",
      "bar_style": "success",
      "description": "",
      "description_tooltip": null,
      "layout": "IPY_MODEL_1d55623b996749758afddda426488d38",
      "max": 2,
      "min": 0,
      "orientation": "horizontal",
      "style": "IPY_MODEL_251b5f9854544165a9db469af006b1da",
      "value": 2
     }
    },
    "8c8d561cf1db449ba5c63a375e4f093f": {
     "model_module": "@jupyter-widgets/controls",
     "model_module_version": "1.5.0",
     "model_name": "HTMLModel",
     "state": {
      "_dom_classes": [],
      "_model_module": "@jupyter-widgets/controls",
      "_model_module_version": "1.5.0",
      "_model_name": "HTMLModel",
      "_view_count": null,
      "_view_module": "@jupyter-widgets/controls",
      "_view_module_version": "1.5.0",
      "_view_name": "HTMLView",
      "description": "",
      "description_tooltip": null,
      "layout": "IPY_MODEL_1e143940d32a43b99b68574db2c4f1e8",
      "placeholder": "​",
      "style": "IPY_MODEL_79c4e0658c444c5db67eb0a3de4e0f04",
      "value": " 446k/446k [00:00&lt;00:00, 904kB/s]"
     }
    },
    "8ccace5fc216487a8bcf78eb9677c93a": {
     "model_module": "@jupyter-widgets/controls",
     "model_module_version": "1.5.0",
     "model_name": "DescriptionStyleModel",
     "state": {
      "_model_module": "@jupyter-widgets/controls",
      "_model_module_version": "1.5.0",
      "_model_name": "DescriptionStyleModel",
      "_view_count": null,
      "_view_module": "@jupyter-widgets/base",
      "_view_module_version": "1.2.0",
      "_view_name": "StyleView",
      "description_width": ""
     }
    },
    "8e0c1c0bc8c44904bc07bb2304751160": {
     "model_module": "@jupyter-widgets/controls",
     "model_module_version": "1.5.0",
     "model_name": "FloatProgressModel",
     "state": {
      "_dom_classes": [],
      "_model_module": "@jupyter-widgets/controls",
      "_model_module_version": "1.5.0",
      "_model_name": "FloatProgressModel",
      "_view_count": null,
      "_view_module": "@jupyter-widgets/controls",
      "_view_module_version": "1.5.0",
      "_view_name": "ProgressView",
      "bar_style": "success",
      "description": "",
      "description_tooltip": null,
      "layout": "IPY_MODEL_e7056d3e87db47ae99bce49fc8e1da16",
      "max": 758,
      "min": 0,
      "orientation": "horizontal",
      "style": "IPY_MODEL_b1e9ad4046af4af2b59e3709287f7823",
      "value": 758
     }
    },
    "90603736aa1a4965ad7d1b4a8e1484ff": {
     "model_module": "@jupyter-widgets/controls",
     "model_module_version": "1.5.0",
     "model_name": "DescriptionStyleModel",
     "state": {
      "_model_module": "@jupyter-widgets/controls",
      "_model_module_version": "1.5.0",
      "_model_name": "DescriptionStyleModel",
      "_view_count": null,
      "_view_module": "@jupyter-widgets/base",
      "_view_module_version": "1.2.0",
      "_view_name": "StyleView",
      "description_width": ""
     }
    },
    "92eaa05f076448c9b1a04c3065ce508a": {
     "model_module": "@jupyter-widgets/controls",
     "model_module_version": "1.5.0",
     "model_name": "DescriptionStyleModel",
     "state": {
      "_model_module": "@jupyter-widgets/controls",
      "_model_module_version": "1.5.0",
      "_model_name": "DescriptionStyleModel",
      "_view_count": null,
      "_view_module": "@jupyter-widgets/base",
      "_view_module_version": "1.2.0",
      "_view_name": "StyleView",
      "description_width": ""
     }
    },
    "938179c29cd94b0c83ef852b30e79114": {
     "model_module": "@jupyter-widgets/controls",
     "model_module_version": "1.5.0",
     "model_name": "HTMLModel",
     "state": {
      "_dom_classes": [],
      "_model_module": "@jupyter-widgets/controls",
      "_model_module_version": "1.5.0",
      "_model_name": "HTMLModel",
      "_view_count": null,
      "_view_module": "@jupyter-widgets/controls",
      "_view_module_version": "1.5.0",
      "_view_name": "HTMLView",
      "description": "",
      "description_tooltip": null,
      "layout": "IPY_MODEL_167408fcf87d4ddebcd814b4c7081ce0",
      "placeholder": "​",
      "style": "IPY_MODEL_92eaa05f076448c9b1a04c3065ce508a",
      "value": " 418M/418M [00:09&lt;00:00, 47.1MB/s]"
     }
    },
    "949919cf10b24fbdb39e13f14fbaef2c": {
     "model_module": "@jupyter-widgets/controls",
     "model_module_version": "1.5.0",
     "model_name": "HTMLModel",
     "state": {
      "_dom_classes": [],
      "_model_module": "@jupyter-widgets/controls",
      "_model_module_version": "1.5.0",
      "_model_name": "HTMLModel",
      "_view_count": null,
      "_view_module": "@jupyter-widgets/controls",
      "_view_module_version": "1.5.0",
      "_view_name": "HTMLView",
      "description": "",
      "description_tooltip": null,
      "layout": "IPY_MODEL_320d18e04e984e8db6ac57e1675db1e9",
      "placeholder": "​",
      "style": "IPY_MODEL_90603736aa1a4965ad7d1b4a8e1484ff",
      "value": " 878k/878k [00:00&lt;00:00, 3.00MB/s]"
     }
    },
    "979301ed27b44d39a5cf9c017fc69bee": {
     "model_module": "@jupyter-widgets/base",
     "model_module_version": "1.2.0",
     "model_name": "LayoutModel",
     "state": {
      "_model_module": "@jupyter-widgets/base",
      "_model_module_version": "1.2.0",
      "_model_name": "LayoutModel",
      "_view_count": null,
      "_view_module": "@jupyter-widgets/base",
      "_view_module_version": "1.2.0",
      "_view_name": "LayoutView",
      "align_content": null,
      "align_items": null,
      "align_self": null,
      "border": null,
      "bottom": null,
      "display": null,
      "flex": null,
      "flex_flow": null,
      "grid_area": null,
      "grid_auto_columns": null,
      "grid_auto_flow": null,
      "grid_auto_rows": null,
      "grid_column": null,
      "grid_gap": null,
      "grid_row": null,
      "grid_template_areas": null,
      "grid_template_columns": null,
      "grid_template_rows": null,
      "height": null,
      "justify_content": null,
      "justify_items": null,
      "left": null,
      "margin": null,
      "max_height": null,
      "max_width": null,
      "min_height": null,
      "min_width": null,
      "object_fit": null,
      "object_position": null,
      "order": null,
      "overflow": null,
      "overflow_x": null,
      "overflow_y": null,
      "padding": null,
      "right": null,
      "top": null,
      "visibility": null,
      "width": null
     }
    },
    "993d6415c2b44a5aaca0b042b8baf888": {
     "model_module": "@jupyter-widgets/controls",
     "model_module_version": "1.5.0",
     "model_name": "HTMLModel",
     "state": {
      "_dom_classes": [],
      "_model_module": "@jupyter-widgets/controls",
      "_model_module_version": "1.5.0",
      "_model_name": "HTMLModel",
      "_view_count": null,
      "_view_module": "@jupyter-widgets/controls",
      "_view_module_version": "1.5.0",
      "_view_name": "HTMLView",
      "description": "",
      "description_tooltip": null,
      "layout": "IPY_MODEL_0574fbe6df2344e59907e1b47f22facb",
      "placeholder": "​",
      "style": "IPY_MODEL_ab56bc87197e43829cb3c5db2812124c",
      "value": " 112/112 [00:00&lt;00:00, 3.74kB/s]"
     }
    },
    "9b3f961868284595a4a20582be81a714": {
     "model_module": "@jupyter-widgets/controls",
     "model_module_version": "1.5.0",
     "model_name": "DescriptionStyleModel",
     "state": {
      "_model_module": "@jupyter-widgets/controls",
      "_model_module_version": "1.5.0",
      "_model_name": "DescriptionStyleModel",
      "_view_count": null,
      "_view_module": "@jupyter-widgets/base",
      "_view_module_version": "1.2.0",
      "_view_name": "StyleView",
      "description_width": ""
     }
    },
    "a00b2d2c7acf4d4c82c0ab56ed5dd38e": {
     "model_module": "@jupyter-widgets/controls",
     "model_module_version": "1.5.0",
     "model_name": "DescriptionStyleModel",
     "state": {
      "_model_module": "@jupyter-widgets/controls",
      "_model_module_version": "1.5.0",
      "_model_name": "DescriptionStyleModel",
      "_view_count": null,
      "_view_module": "@jupyter-widgets/base",
      "_view_module_version": "1.2.0",
      "_view_name": "StyleView",
      "description_width": ""
     }
    },
    "a062df8232f847bc8037714a8b4d0ed2": {
     "model_module": "@jupyter-widgets/base",
     "model_module_version": "1.2.0",
     "model_name": "LayoutModel",
     "state": {
      "_model_module": "@jupyter-widgets/base",
      "_model_module_version": "1.2.0",
      "_model_name": "LayoutModel",
      "_view_count": null,
      "_view_module": "@jupyter-widgets/base",
      "_view_module_version": "1.2.0",
      "_view_name": "LayoutView",
      "align_content": null,
      "align_items": null,
      "align_self": null,
      "border": null,
      "bottom": null,
      "display": null,
      "flex": null,
      "flex_flow": null,
      "grid_area": null,
      "grid_auto_columns": null,
      "grid_auto_flow": null,
      "grid_auto_rows": null,
      "grid_column": null,
      "grid_gap": null,
      "grid_row": null,
      "grid_template_areas": null,
      "grid_template_columns": null,
      "grid_template_rows": null,
      "height": null,
      "justify_content": null,
      "justify_items": null,
      "left": null,
      "margin": null,
      "max_height": null,
      "max_width": null,
      "min_height": null,
      "min_width": null,
      "object_fit": null,
      "object_position": null,
      "order": null,
      "overflow": null,
      "overflow_x": null,
      "overflow_y": null,
      "padding": null,
      "right": null,
      "top": null,
      "visibility": null,
      "width": null
     }
    },
    "a17c3081eee4489a96c5b0b2694ec062": {
     "model_module": "@jupyter-widgets/controls",
     "model_module_version": "1.5.0",
     "model_name": "HBoxModel",
     "state": {
      "_dom_classes": [],
      "_model_module": "@jupyter-widgets/controls",
      "_model_module_version": "1.5.0",
      "_model_name": "HBoxModel",
      "_view_count": null,
      "_view_module": "@jupyter-widgets/controls",
      "_view_module_version": "1.5.0",
      "_view_name": "HBoxView",
      "box_style": "",
      "children": [
       "IPY_MODEL_c47b9234a5f24a3483f1b99560d7d7d7",
       "IPY_MODEL_8e0c1c0bc8c44904bc07bb2304751160",
       "IPY_MODEL_1653c99ac03344a1b1ce7e17d2172379"
      ],
      "layout": "IPY_MODEL_6fea6f3833bc4b8186cdf7e5fe2f362d"
     }
    },
    "a45748eed3934fc091dc2d422ca91f1a": {
     "model_module": "@jupyter-widgets/base",
     "model_module_version": "1.2.0",
     "model_name": "LayoutModel",
     "state": {
      "_model_module": "@jupyter-widgets/base",
      "_model_module_version": "1.2.0",
      "_model_name": "LayoutModel",
      "_view_count": null,
      "_view_module": "@jupyter-widgets/base",
      "_view_module_version": "1.2.0",
      "_view_name": "LayoutView",
      "align_content": null,
      "align_items": null,
      "align_self": null,
      "border": null,
      "bottom": null,
      "display": null,
      "flex": null,
      "flex_flow": null,
      "grid_area": null,
      "grid_auto_columns": null,
      "grid_auto_flow": null,
      "grid_auto_rows": null,
      "grid_column": null,
      "grid_gap": null,
      "grid_row": null,
      "grid_template_areas": null,
      "grid_template_columns": null,
      "grid_template_rows": null,
      "height": null,
      "justify_content": null,
      "justify_items": null,
      "left": null,
      "margin": null,
      "max_height": null,
      "max_width": null,
      "min_height": null,
      "min_width": null,
      "object_fit": null,
      "object_position": null,
      "order": null,
      "overflow": null,
      "overflow_x": null,
      "overflow_y": null,
      "padding": null,
      "right": null,
      "top": null,
      "visibility": null,
      "width": null
     }
    },
    "a6ce9ae8143b498abf96642797f185b5": {
     "model_module": "@jupyter-widgets/controls",
     "model_module_version": "1.5.0",
     "model_name": "HTMLModel",
     "state": {
      "_dom_classes": [],
      "_model_module": "@jupyter-widgets/controls",
      "_model_module_version": "1.5.0",
      "_model_name": "HTMLModel",
      "_view_count": null,
      "_view_module": "@jupyter-widgets/controls",
      "_view_module_version": "1.5.0",
      "_view_name": "HTMLView",
      "description": "",
      "description_tooltip": null,
      "layout": "IPY_MODEL_a45748eed3934fc091dc2d422ca91f1a",
      "placeholder": "​",
      "style": "IPY_MODEL_3f97b01bea5743a59a3eece8eda818fd",
      "value": " 226k/226k [00:00&lt;00:00, 961kB/s]"
     }
    },
    "a7c38a2b518043a7bd9b50541b983333": {
     "model_module": "@jupyter-widgets/controls",
     "model_module_version": "1.5.0",
     "model_name": "FloatProgressModel",
     "state": {
      "_dom_classes": [],
      "_model_module": "@jupyter-widgets/controls",
      "_model_module_version": "1.5.0",
      "_model_name": "FloatProgressModel",
      "_view_count": null,
      "_view_module": "@jupyter-widgets/controls",
      "_view_module_version": "1.5.0",
      "_view_name": "ProgressView",
      "bar_style": "success",
      "description": "",
      "description_tooltip": null,
      "layout": "IPY_MODEL_64f7a83793414108945415b40dd029e6",
      "max": 231508,
      "min": 0,
      "orientation": "horizontal",
      "style": "IPY_MODEL_2d2fa6922b4746f189887ad768a7e420",
      "value": 231508
     }
    },
    "a8c6921a523a4e119370e530de574531": {
     "model_module": "@jupyter-widgets/base",
     "model_module_version": "1.2.0",
     "model_name": "LayoutModel",
     "state": {
      "_model_module": "@jupyter-widgets/base",
      "_model_module_version": "1.2.0",
      "_model_name": "LayoutModel",
      "_view_count": null,
      "_view_module": "@jupyter-widgets/base",
      "_view_module_version": "1.2.0",
      "_view_name": "LayoutView",
      "align_content": null,
      "align_items": null,
      "align_self": null,
      "border": null,
      "bottom": null,
      "display": null,
      "flex": null,
      "flex_flow": null,
      "grid_area": null,
      "grid_auto_columns": null,
      "grid_auto_flow": null,
      "grid_auto_rows": null,
      "grid_column": null,
      "grid_gap": null,
      "grid_row": null,
      "grid_template_areas": null,
      "grid_template_columns": null,
      "grid_template_rows": null,
      "height": null,
      "justify_content": null,
      "justify_items": null,
      "left": null,
      "margin": null,
      "max_height": null,
      "max_width": null,
      "min_height": null,
      "min_width": null,
      "object_fit": null,
      "object_position": null,
      "order": null,
      "overflow": null,
      "overflow_x": null,
      "overflow_y": null,
      "padding": null,
      "right": null,
      "top": null,
      "visibility": null,
      "width": null
     }
    },
    "ab56bc87197e43829cb3c5db2812124c": {
     "model_module": "@jupyter-widgets/controls",
     "model_module_version": "1.5.0",
     "model_name": "DescriptionStyleModel",
     "state": {
      "_model_module": "@jupyter-widgets/controls",
      "_model_module_version": "1.5.0",
      "_model_name": "DescriptionStyleModel",
      "_view_count": null,
      "_view_module": "@jupyter-widgets/base",
      "_view_module_version": "1.2.0",
      "_view_name": "StyleView",
      "description_width": ""
     }
    },
    "aeb509cf46664b6b9daa17f4a64d5fe4": {
     "model_module": "@jupyter-widgets/base",
     "model_module_version": "1.2.0",
     "model_name": "LayoutModel",
     "state": {
      "_model_module": "@jupyter-widgets/base",
      "_model_module_version": "1.2.0",
      "_model_name": "LayoutModel",
      "_view_count": null,
      "_view_module": "@jupyter-widgets/base",
      "_view_module_version": "1.2.0",
      "_view_name": "LayoutView",
      "align_content": null,
      "align_items": null,
      "align_self": null,
      "border": null,
      "bottom": null,
      "display": null,
      "flex": null,
      "flex_flow": null,
      "grid_area": null,
      "grid_auto_columns": null,
      "grid_auto_flow": null,
      "grid_auto_rows": null,
      "grid_column": null,
      "grid_gap": null,
      "grid_row": null,
      "grid_template_areas": null,
      "grid_template_columns": null,
      "grid_template_rows": null,
      "height": null,
      "justify_content": null,
      "justify_items": null,
      "left": null,
      "margin": null,
      "max_height": null,
      "max_width": null,
      "min_height": null,
      "min_width": null,
      "object_fit": null,
      "object_position": null,
      "order": null,
      "overflow": null,
      "overflow_x": null,
      "overflow_y": null,
      "padding": null,
      "right": null,
      "top": null,
      "visibility": null,
      "width": null
     }
    },
    "b116cfcd9bb6444fad9eed9b067268a5": {
     "model_module": "@jupyter-widgets/controls",
     "model_module_version": "1.5.0",
     "model_name": "FloatProgressModel",
     "state": {
      "_dom_classes": [],
      "_model_module": "@jupyter-widgets/controls",
      "_model_module_version": "1.5.0",
      "_model_name": "FloatProgressModel",
      "_view_count": null,
      "_view_module": "@jupyter-widgets/controls",
      "_view_module_version": "1.5.0",
      "_view_name": "ProgressView",
      "bar_style": "success",
      "description": "",
      "description_tooltip": null,
      "layout": "IPY_MODEL_b223c82c07f643d885ff19b996499791",
      "max": 112,
      "min": 0,
      "orientation": "horizontal",
      "style": "IPY_MODEL_55093766f796492aa47e9f5a63c69076",
      "value": 112
     }
    },
    "b1e9ad4046af4af2b59e3709287f7823": {
     "model_module": "@jupyter-widgets/controls",
     "model_module_version": "1.5.0",
     "model_name": "ProgressStyleModel",
     "state": {
      "_model_module": "@jupyter-widgets/controls",
      "_model_module_version": "1.5.0",
      "_model_name": "ProgressStyleModel",
      "_view_count": null,
      "_view_module": "@jupyter-widgets/base",
      "_view_module_version": "1.2.0",
      "_view_name": "StyleView",
      "bar_color": null,
      "description_width": ""
     }
    },
    "b21fce796fc742d394d9fd73192245ba": {
     "model_module": "@jupyter-widgets/base",
     "model_module_version": "1.2.0",
     "model_name": "LayoutModel",
     "state": {
      "_model_module": "@jupyter-widgets/base",
      "_model_module_version": "1.2.0",
      "_model_name": "LayoutModel",
      "_view_count": null,
      "_view_module": "@jupyter-widgets/base",
      "_view_module_version": "1.2.0",
      "_view_name": "LayoutView",
      "align_content": null,
      "align_items": null,
      "align_self": null,
      "border": null,
      "bottom": null,
      "display": null,
      "flex": null,
      "flex_flow": null,
      "grid_area": null,
      "grid_auto_columns": null,
      "grid_auto_flow": null,
      "grid_auto_rows": null,
      "grid_column": null,
      "grid_gap": null,
      "grid_row": null,
      "grid_template_areas": null,
      "grid_template_columns": null,
      "grid_template_rows": null,
      "height": null,
      "justify_content": null,
      "justify_items": null,
      "left": null,
      "margin": null,
      "max_height": null,
      "max_width": null,
      "min_height": null,
      "min_width": null,
      "object_fit": null,
      "object_position": null,
      "order": null,
      "overflow": null,
      "overflow_x": null,
      "overflow_y": null,
      "padding": null,
      "right": null,
      "top": null,
      "visibility": null,
      "width": null
     }
    },
    "b223c82c07f643d885ff19b996499791": {
     "model_module": "@jupyter-widgets/base",
     "model_module_version": "1.2.0",
     "model_name": "LayoutModel",
     "state": {
      "_model_module": "@jupyter-widgets/base",
      "_model_module_version": "1.2.0",
      "_model_name": "LayoutModel",
      "_view_count": null,
      "_view_module": "@jupyter-widgets/base",
      "_view_module_version": "1.2.0",
      "_view_name": "LayoutView",
      "align_content": null,
      "align_items": null,
      "align_self": null,
      "border": null,
      "bottom": null,
      "display": null,
      "flex": null,
      "flex_flow": null,
      "grid_area": null,
      "grid_auto_columns": null,
      "grid_auto_flow": null,
      "grid_auto_rows": null,
      "grid_column": null,
      "grid_gap": null,
      "grid_row": null,
      "grid_template_areas": null,
      "grid_template_columns": null,
      "grid_template_rows": null,
      "height": null,
      "justify_content": null,
      "justify_items": null,
      "left": null,
      "margin": null,
      "max_height": null,
      "max_width": null,
      "min_height": null,
      "min_width": null,
      "object_fit": null,
      "object_position": null,
      "order": null,
      "overflow": null,
      "overflow_x": null,
      "overflow_y": null,
      "padding": null,
      "right": null,
      "top": null,
      "visibility": null,
      "width": null
     }
    },
    "b48f53e77734409392a9a65172a1f845": {
     "model_module": "@jupyter-widgets/controls",
     "model_module_version": "1.5.0",
     "model_name": "HBoxModel",
     "state": {
      "_dom_classes": [],
      "_model_module": "@jupyter-widgets/controls",
      "_model_module_version": "1.5.0",
      "_model_name": "HBoxModel",
      "_view_count": null,
      "_view_module": "@jupyter-widgets/controls",
      "_view_module_version": "1.5.0",
      "_view_name": "HBoxView",
      "box_style": "",
      "children": [
       "IPY_MODEL_c5257fe896964050ad1fd076a6bd0357",
       "IPY_MODEL_b116cfcd9bb6444fad9eed9b067268a5",
       "IPY_MODEL_993d6415c2b44a5aaca0b042b8baf888"
      ],
      "layout": "IPY_MODEL_639a1af57780405eab5cade9bab9d14a"
     }
    },
    "b50dd23097cb450d839ee8db1a4a000c": {
     "model_module": "@jupyter-widgets/controls",
     "model_module_version": "1.5.0",
     "model_name": "DescriptionStyleModel",
     "state": {
      "_model_module": "@jupyter-widgets/controls",
      "_model_module_version": "1.5.0",
      "_model_name": "DescriptionStyleModel",
      "_view_count": null,
      "_view_module": "@jupyter-widgets/base",
      "_view_module_version": "1.2.0",
      "_view_name": "StyleView",
      "description_width": ""
     }
    },
    "ba55afdd50a544d698fd99f7ca44d97b": {
     "model_module": "@jupyter-widgets/controls",
     "model_module_version": "1.5.0",
     "model_name": "DescriptionStyleModel",
     "state": {
      "_model_module": "@jupyter-widgets/controls",
      "_model_module_version": "1.5.0",
      "_model_name": "DescriptionStyleModel",
      "_view_count": null,
      "_view_module": "@jupyter-widgets/base",
      "_view_module_version": "1.2.0",
      "_view_name": "StyleView",
      "description_width": ""
     }
    },
    "be3f134d47fa4a859f2d4c865f834f81": {
     "model_module": "@jupyter-widgets/controls",
     "model_module_version": "1.5.0",
     "model_name": "DescriptionStyleModel",
     "state": {
      "_model_module": "@jupyter-widgets/controls",
      "_model_module_version": "1.5.0",
      "_model_name": "DescriptionStyleModel",
      "_view_count": null,
      "_view_module": "@jupyter-widgets/base",
      "_view_module_version": "1.2.0",
      "_view_name": "StyleView",
      "description_width": ""
     }
    },
    "c0e44a66ee00432a967982317a979334": {
     "model_module": "@jupyter-widgets/controls",
     "model_module_version": "1.5.0",
     "model_name": "DescriptionStyleModel",
     "state": {
      "_model_module": "@jupyter-widgets/controls",
      "_model_module_version": "1.5.0",
      "_model_name": "DescriptionStyleModel",
      "_view_count": null,
      "_view_module": "@jupyter-widgets/base",
      "_view_module_version": "1.2.0",
      "_view_name": "StyleView",
      "description_width": ""
     }
    },
    "c1d6f55e0f174a599e150edea0ae7794": {
     "model_module": "@jupyter-widgets/controls",
     "model_module_version": "1.5.0",
     "model_name": "DescriptionStyleModel",
     "state": {
      "_model_module": "@jupyter-widgets/controls",
      "_model_module_version": "1.5.0",
      "_model_name": "DescriptionStyleModel",
      "_view_count": null,
      "_view_module": "@jupyter-widgets/base",
      "_view_module_version": "1.2.0",
      "_view_name": "StyleView",
      "description_width": ""
     }
    },
    "c3eb4c42ee8041118651b6a1114f4189": {
     "model_module": "@jupyter-widgets/controls",
     "model_module_version": "1.5.0",
     "model_name": "HBoxModel",
     "state": {
      "_dom_classes": [],
      "_model_module": "@jupyter-widgets/controls",
      "_model_module_version": "1.5.0",
      "_model_name": "HBoxModel",
      "_view_count": null,
      "_view_module": "@jupyter-widgets/controls",
      "_view_module_version": "1.5.0",
      "_view_name": "HBoxView",
      "box_style": "",
      "children": [
       "IPY_MODEL_79272c78df9644c1988ac0b0a9d102c2",
       "IPY_MODEL_35451c49135a4ce1ab8854aed48350f9",
       "IPY_MODEL_5813cc3dfb2844fcba72b6faba2135e0"
      ],
      "layout": "IPY_MODEL_e5a0f6be621d44c597ba76a37bc549fd"
     }
    },
    "c47b9234a5f24a3483f1b99560d7d7d7": {
     "model_module": "@jupyter-widgets/controls",
     "model_module_version": "1.5.0",
     "model_name": "HTMLModel",
     "state": {
      "_dom_classes": [],
      "_model_module": "@jupyter-widgets/controls",
      "_model_module_version": "1.5.0",
      "_model_name": "HTMLModel",
      "_view_count": null,
      "_view_module": "@jupyter-widgets/controls",
      "_view_module_version": "1.5.0",
      "_view_name": "HTMLView",
      "description": "",
      "description_tooltip": null,
      "layout": "IPY_MODEL_82f5c667850b482d97f820b8ac601ce7",
      "placeholder": "​",
      "style": "IPY_MODEL_0c9cad5123554116b599ab95c4dd98c9",
      "value": "Downloading: 100%"
     }
    },
    "c5257fe896964050ad1fd076a6bd0357": {
     "model_module": "@jupyter-widgets/controls",
     "model_module_version": "1.5.0",
     "model_name": "HTMLModel",
     "state": {
      "_dom_classes": [],
      "_model_module": "@jupyter-widgets/controls",
      "_model_module_version": "1.5.0",
      "_model_name": "HTMLModel",
      "_view_count": null,
      "_view_module": "@jupyter-widgets/controls",
      "_view_module_version": "1.5.0",
      "_view_name": "HTMLView",
      "description": "",
      "description_tooltip": null,
      "layout": "IPY_MODEL_3df3de35ea7c409db18028224e895043",
      "placeholder": "​",
      "style": "IPY_MODEL_106b10febc284473838dff508396d4f8",
      "value": "Downloading: 100%"
     }
    },
    "c990f7d4eb3749c1bad66c549318baf2": {
     "model_module": "@jupyter-widgets/base",
     "model_module_version": "1.2.0",
     "model_name": "LayoutModel",
     "state": {
      "_model_module": "@jupyter-widgets/base",
      "_model_module_version": "1.2.0",
      "_model_name": "LayoutModel",
      "_view_count": null,
      "_view_module": "@jupyter-widgets/base",
      "_view_module_version": "1.2.0",
      "_view_name": "LayoutView",
      "align_content": null,
      "align_items": null,
      "align_self": null,
      "border": null,
      "bottom": null,
      "display": null,
      "flex": null,
      "flex_flow": null,
      "grid_area": null,
      "grid_auto_columns": null,
      "grid_auto_flow": null,
      "grid_auto_rows": null,
      "grid_column": null,
      "grid_gap": null,
      "grid_row": null,
      "grid_template_areas": null,
      "grid_template_columns": null,
      "grid_template_rows": null,
      "height": null,
      "justify_content": null,
      "justify_items": null,
      "left": null,
      "margin": null,
      "max_height": null,
      "max_width": null,
      "min_height": null,
      "min_width": null,
      "object_fit": null,
      "object_position": null,
      "order": null,
      "overflow": null,
      "overflow_x": null,
      "overflow_y": null,
      "padding": null,
      "right": null,
      "top": null,
      "visibility": null,
      "width": null
     }
    },
    "cdfe980fe1804d0abf4fbd4ef7436cd5": {
     "model_module": "@jupyter-widgets/controls",
     "model_module_version": "1.5.0",
     "model_name": "HTMLModel",
     "state": {
      "_dom_classes": [],
      "_model_module": "@jupyter-widgets/controls",
      "_model_module_version": "1.5.0",
      "_model_name": "HTMLModel",
      "_view_count": null,
      "_view_module": "@jupyter-widgets/controls",
      "_view_module_version": "1.5.0",
      "_view_name": "HTMLView",
      "description": "",
      "description_tooltip": null,
      "layout": "IPY_MODEL_49f1aa466f5643d08c7a93221b4ca366",
      "placeholder": "​",
      "style": "IPY_MODEL_a00b2d2c7acf4d4c82c0ab56ed5dd38e",
      "value": " 481/481 [00:00&lt;00:00, 13.1kB/s]"
     }
    },
    "ce4d524d93d94901845b74eed1b8a120": {
     "model_module": "@jupyter-widgets/controls",
     "model_module_version": "1.5.0",
     "model_name": "ProgressStyleModel",
     "state": {
      "_model_module": "@jupyter-widgets/controls",
      "_model_module_version": "1.5.0",
      "_model_name": "ProgressStyleModel",
      "_view_count": null,
      "_view_module": "@jupyter-widgets/base",
      "_view_module_version": "1.2.0",
      "_view_name": "StyleView",
      "bar_color": null,
      "description_width": ""
     }
    },
    "cf4b3851a38347d4a30f89f5c6f0e5dc": {
     "model_module": "@jupyter-widgets/base",
     "model_module_version": "1.2.0",
     "model_name": "LayoutModel",
     "state": {
      "_model_module": "@jupyter-widgets/base",
      "_model_module_version": "1.2.0",
      "_model_name": "LayoutModel",
      "_view_count": null,
      "_view_module": "@jupyter-widgets/base",
      "_view_module_version": "1.2.0",
      "_view_name": "LayoutView",
      "align_content": null,
      "align_items": null,
      "align_self": null,
      "border": null,
      "bottom": null,
      "display": null,
      "flex": null,
      "flex_flow": null,
      "grid_area": null,
      "grid_auto_columns": null,
      "grid_auto_flow": null,
      "grid_auto_rows": null,
      "grid_column": null,
      "grid_gap": null,
      "grid_row": null,
      "grid_template_areas": null,
      "grid_template_columns": null,
      "grid_template_rows": null,
      "height": null,
      "justify_content": null,
      "justify_items": null,
      "left": null,
      "margin": null,
      "max_height": null,
      "max_width": null,
      "min_height": null,
      "min_width": null,
      "object_fit": null,
      "object_position": null,
      "order": null,
      "overflow": null,
      "overflow_x": null,
      "overflow_y": null,
      "padding": null,
      "right": null,
      "top": null,
      "visibility": null,
      "width": null
     }
    },
    "d0222e58b65b4c7a8ba641630495918a": {
     "model_module": "@jupyter-widgets/base",
     "model_module_version": "1.2.0",
     "model_name": "LayoutModel",
     "state": {
      "_model_module": "@jupyter-widgets/base",
      "_model_module_version": "1.2.0",
      "_model_name": "LayoutModel",
      "_view_count": null,
      "_view_module": "@jupyter-widgets/base",
      "_view_module_version": "1.2.0",
      "_view_name": "LayoutView",
      "align_content": null,
      "align_items": null,
      "align_self": null,
      "border": null,
      "bottom": null,
      "display": null,
      "flex": null,
      "flex_flow": null,
      "grid_area": null,
      "grid_auto_columns": null,
      "grid_auto_flow": null,
      "grid_auto_rows": null,
      "grid_column": null,
      "grid_gap": null,
      "grid_row": null,
      "grid_template_areas": null,
      "grid_template_columns": null,
      "grid_template_rows": null,
      "height": null,
      "justify_content": null,
      "justify_items": null,
      "left": null,
      "margin": null,
      "max_height": null,
      "max_width": null,
      "min_height": null,
      "min_width": null,
      "object_fit": null,
      "object_position": null,
      "order": null,
      "overflow": null,
      "overflow_x": null,
      "overflow_y": null,
      "padding": null,
      "right": null,
      "top": null,
      "visibility": null,
      "width": null
     }
    },
    "d0dced8b5cf34c44ab669c5ca774360d": {
     "model_module": "@jupyter-widgets/controls",
     "model_module_version": "1.5.0",
     "model_name": "HTMLModel",
     "state": {
      "_dom_classes": [],
      "_model_module": "@jupyter-widgets/controls",
      "_model_module_version": "1.5.0",
      "_model_name": "HTMLModel",
      "_view_count": null,
      "_view_module": "@jupyter-widgets/controls",
      "_view_module_version": "1.5.0",
      "_view_name": "HTMLView",
      "description": "",
      "description_tooltip": null,
      "layout": "IPY_MODEL_18a5ef5dd0624a27a55beea8a373bb8a",
      "placeholder": "​",
      "style": "IPY_MODEL_369a36ee462845a383e997367cb4c538",
      "value": " 2/2 [00:00&lt;00:00, 43.81ba/s]"
     }
    },
    "d2bade47fa87408dbd832387e3505a74": {
     "model_module": "@jupyter-widgets/base",
     "model_module_version": "1.2.0",
     "model_name": "LayoutModel",
     "state": {
      "_model_module": "@jupyter-widgets/base",
      "_model_module_version": "1.2.0",
      "_model_name": "LayoutModel",
      "_view_count": null,
      "_view_module": "@jupyter-widgets/base",
      "_view_module_version": "1.2.0",
      "_view_name": "LayoutView",
      "align_content": null,
      "align_items": null,
      "align_self": null,
      "border": null,
      "bottom": null,
      "display": null,
      "flex": null,
      "flex_flow": null,
      "grid_area": null,
      "grid_auto_columns": null,
      "grid_auto_flow": null,
      "grid_auto_rows": null,
      "grid_column": null,
      "grid_gap": null,
      "grid_row": null,
      "grid_template_areas": null,
      "grid_template_columns": null,
      "grid_template_rows": null,
      "height": null,
      "justify_content": null,
      "justify_items": null,
      "left": null,
      "margin": null,
      "max_height": null,
      "max_width": null,
      "min_height": null,
      "min_width": null,
      "object_fit": null,
      "object_position": null,
      "order": null,
      "overflow": null,
      "overflow_x": null,
      "overflow_y": null,
      "padding": null,
      "right": null,
      "top": null,
      "visibility": null,
      "width": null
     }
    },
    "d685f3fd304f4dc4928104b955cc9613": {
     "model_module": "@jupyter-widgets/controls",
     "model_module_version": "1.5.0",
     "model_name": "ProgressStyleModel",
     "state": {
      "_model_module": "@jupyter-widgets/controls",
      "_model_module_version": "1.5.0",
      "_model_name": "ProgressStyleModel",
      "_view_count": null,
      "_view_module": "@jupyter-widgets/base",
      "_view_module_version": "1.2.0",
      "_view_name": "StyleView",
      "bar_color": null,
      "description_width": ""
     }
    },
    "d702a45189e24632a8737bbf889ba982": {
     "model_module": "@jupyter-widgets/controls",
     "model_module_version": "1.5.0",
     "model_name": "FloatProgressModel",
     "state": {
      "_dom_classes": [],
      "_model_module": "@jupyter-widgets/controls",
      "_model_module_version": "1.5.0",
      "_model_name": "FloatProgressModel",
      "_view_count": null,
      "_view_module": "@jupyter-widgets/controls",
      "_view_module_version": "1.5.0",
      "_view_name": "ProgressView",
      "bar_style": "success",
      "description": "",
      "description_tooltip": null,
      "layout": "IPY_MODEL_851af0ff354d47b89e9bb0a5b666ddc9",
      "max": 501200538,
      "min": 0,
      "orientation": "horizontal",
      "style": "IPY_MODEL_ce4d524d93d94901845b74eed1b8a120",
      "value": 501200538
     }
    },
    "d77d22cac7eb4c89821bc0028c716dae": {
     "model_module": "@jupyter-widgets/controls",
     "model_module_version": "1.5.0",
     "model_name": "DescriptionStyleModel",
     "state": {
      "_model_module": "@jupyter-widgets/controls",
      "_model_module_version": "1.5.0",
      "_model_name": "DescriptionStyleModel",
      "_view_count": null,
      "_view_module": "@jupyter-widgets/base",
      "_view_module_version": "1.2.0",
      "_view_name": "StyleView",
      "description_width": ""
     }
    },
    "de2bde30e62546de9ecbb259359b1166": {
     "model_module": "@jupyter-widgets/controls",
     "model_module_version": "1.5.0",
     "model_name": "DescriptionStyleModel",
     "state": {
      "_model_module": "@jupyter-widgets/controls",
      "_model_module_version": "1.5.0",
      "_model_name": "DescriptionStyleModel",
      "_view_count": null,
      "_view_module": "@jupyter-widgets/base",
      "_view_module_version": "1.2.0",
      "_view_name": "StyleView",
      "description_width": ""
     }
    },
    "e07d760f39874b22aae1e47b35aecd70": {
     "model_module": "@jupyter-widgets/controls",
     "model_module_version": "1.5.0",
     "model_name": "HTMLModel",
     "state": {
      "_dom_classes": [],
      "_model_module": "@jupyter-widgets/controls",
      "_model_module_version": "1.5.0",
      "_model_name": "HTMLModel",
      "_view_count": null,
      "_view_module": "@jupyter-widgets/controls",
      "_view_module_version": "1.5.0",
      "_view_name": "HTMLView",
      "description": "",
      "description_tooltip": null,
      "layout": "IPY_MODEL_cf4b3851a38347d4a30f89f5c6f0e5dc",
      "placeholder": "​",
      "style": "IPY_MODEL_b50dd23097cb450d839ee8db1a4a000c",
      "value": " 1/1 [00:00&lt;00:00, 35.04it/s]"
     }
    },
    "e11b330d62404cf4acee7c78ebfc8e46": {
     "model_module": "@jupyter-widgets/controls",
     "model_module_version": "1.5.0",
     "model_name": "HTMLModel",
     "state": {
      "_dom_classes": [],
      "_model_module": "@jupyter-widgets/controls",
      "_model_module_version": "1.5.0",
      "_model_name": "HTMLModel",
      "_view_count": null,
      "_view_module": "@jupyter-widgets/controls",
      "_view_module_version": "1.5.0",
      "_view_name": "HTMLView",
      "description": "",
      "description_tooltip": null,
      "layout": "IPY_MODEL_156e3fbe5d7f4563a6bd8705255afb25",
      "placeholder": "​",
      "style": "IPY_MODEL_3656411874354598a9303e63de9d5e5f",
      "value": "Downloading: 100%"
     }
    },
    "e16bd7c5f976461a9abbf39e2b87f275": {
     "model_module": "@jupyter-widgets/controls",
     "model_module_version": "1.5.0",
     "model_name": "DescriptionStyleModel",
     "state": {
      "_model_module": "@jupyter-widgets/controls",
      "_model_module_version": "1.5.0",
      "_model_name": "DescriptionStyleModel",
      "_view_count": null,
      "_view_module": "@jupyter-widgets/base",
      "_view_module_version": "1.2.0",
      "_view_name": "StyleView",
      "description_width": ""
     }
    },
    "e25ca9e2e8ab443ab8f3abdefe752776": {
     "model_module": "@jupyter-widgets/controls",
     "model_module_version": "1.5.0",
     "model_name": "FloatProgressModel",
     "state": {
      "_dom_classes": [],
      "_model_module": "@jupyter-widgets/controls",
      "_model_module_version": "1.5.0",
      "_model_name": "FloatProgressModel",
      "_view_count": null,
      "_view_module": "@jupyter-widgets/controls",
      "_view_module_version": "1.5.0",
      "_view_name": "ProgressView",
      "bar_style": "success",
      "description": "",
      "description_tooltip": null,
      "layout": "IPY_MODEL_221afb1800884c86a76b6bdb78ec9ae7",
      "max": 437992753,
      "min": 0,
      "orientation": "horizontal",
      "style": "IPY_MODEL_7591b881ca134c8c8d9213172e2bb915",
      "value": 437992753
     }
    },
    "e5a0f6be621d44c597ba76a37bc549fd": {
     "model_module": "@jupyter-widgets/base",
     "model_module_version": "1.2.0",
     "model_name": "LayoutModel",
     "state": {
      "_model_module": "@jupyter-widgets/base",
      "_model_module_version": "1.2.0",
      "_model_name": "LayoutModel",
      "_view_count": null,
      "_view_module": "@jupyter-widgets/base",
      "_view_module_version": "1.2.0",
      "_view_name": "LayoutView",
      "align_content": null,
      "align_items": null,
      "align_self": null,
      "border": null,
      "bottom": null,
      "display": null,
      "flex": null,
      "flex_flow": null,
      "grid_area": null,
      "grid_auto_columns": null,
      "grid_auto_flow": null,
      "grid_auto_rows": null,
      "grid_column": null,
      "grid_gap": null,
      "grid_row": null,
      "grid_template_areas": null,
      "grid_template_columns": null,
      "grid_template_rows": null,
      "height": null,
      "justify_content": null,
      "justify_items": null,
      "left": null,
      "margin": null,
      "max_height": null,
      "max_width": null,
      "min_height": null,
      "min_width": null,
      "object_fit": null,
      "object_position": null,
      "order": null,
      "overflow": null,
      "overflow_x": null,
      "overflow_y": null,
      "padding": null,
      "right": null,
      "top": null,
      "visibility": null,
      "width": null
     }
    },
    "e7056d3e87db47ae99bce49fc8e1da16": {
     "model_module": "@jupyter-widgets/base",
     "model_module_version": "1.2.0",
     "model_name": "LayoutModel",
     "state": {
      "_model_module": "@jupyter-widgets/base",
      "_model_module_version": "1.2.0",
      "_model_name": "LayoutModel",
      "_view_count": null,
      "_view_module": "@jupyter-widgets/base",
      "_view_module_version": "1.2.0",
      "_view_name": "LayoutView",
      "align_content": null,
      "align_items": null,
      "align_self": null,
      "border": null,
      "bottom": null,
      "display": null,
      "flex": null,
      "flex_flow": null,
      "grid_area": null,
      "grid_auto_columns": null,
      "grid_auto_flow": null,
      "grid_auto_rows": null,
      "grid_column": null,
      "grid_gap": null,
      "grid_row": null,
      "grid_template_areas": null,
      "grid_template_columns": null,
      "grid_template_rows": null,
      "height": null,
      "justify_content": null,
      "justify_items": null,
      "left": null,
      "margin": null,
      "max_height": null,
      "max_width": null,
      "min_height": null,
      "min_width": null,
      "object_fit": null,
      "object_position": null,
      "order": null,
      "overflow": null,
      "overflow_x": null,
      "overflow_y": null,
      "padding": null,
      "right": null,
      "top": null,
      "visibility": null,
      "width": null
     }
    },
    "ef2c99b5421b44e3b67ad62d24d00f02": {
     "model_module": "@jupyter-widgets/base",
     "model_module_version": "1.2.0",
     "model_name": "LayoutModel",
     "state": {
      "_model_module": "@jupyter-widgets/base",
      "_model_module_version": "1.2.0",
      "_model_name": "LayoutModel",
      "_view_count": null,
      "_view_module": "@jupyter-widgets/base",
      "_view_module_version": "1.2.0",
      "_view_name": "LayoutView",
      "align_content": null,
      "align_items": null,
      "align_self": null,
      "border": null,
      "bottom": null,
      "display": null,
      "flex": null,
      "flex_flow": null,
      "grid_area": null,
      "grid_auto_columns": null,
      "grid_auto_flow": null,
      "grid_auto_rows": null,
      "grid_column": null,
      "grid_gap": null,
      "grid_row": null,
      "grid_template_areas": null,
      "grid_template_columns": null,
      "grid_template_rows": null,
      "height": null,
      "justify_content": null,
      "justify_items": null,
      "left": null,
      "margin": null,
      "max_height": null,
      "max_width": null,
      "min_height": null,
      "min_width": null,
      "object_fit": null,
      "object_position": null,
      "order": null,
      "overflow": null,
      "overflow_x": null,
      "overflow_y": null,
      "padding": null,
      "right": null,
      "top": null,
      "visibility": null,
      "width": null
     }
    },
    "f18ff809d11c483d9ff793a280e7e9e2": {
     "model_module": "@jupyter-widgets/base",
     "model_module_version": "1.2.0",
     "model_name": "LayoutModel",
     "state": {
      "_model_module": "@jupyter-widgets/base",
      "_model_module_version": "1.2.0",
      "_model_name": "LayoutModel",
      "_view_count": null,
      "_view_module": "@jupyter-widgets/base",
      "_view_module_version": "1.2.0",
      "_view_name": "LayoutView",
      "align_content": null,
      "align_items": null,
      "align_self": null,
      "border": null,
      "bottom": null,
      "display": null,
      "flex": null,
      "flex_flow": null,
      "grid_area": null,
      "grid_auto_columns": null,
      "grid_auto_flow": null,
      "grid_auto_rows": null,
      "grid_column": null,
      "grid_gap": null,
      "grid_row": null,
      "grid_template_areas": null,
      "grid_template_columns": null,
      "grid_template_rows": null,
      "height": null,
      "justify_content": null,
      "justify_items": null,
      "left": null,
      "margin": null,
      "max_height": null,
      "max_width": null,
      "min_height": null,
      "min_width": null,
      "object_fit": null,
      "object_position": null,
      "order": null,
      "overflow": null,
      "overflow_x": null,
      "overflow_y": null,
      "padding": null,
      "right": null,
      "top": null,
      "visibility": null,
      "width": null
     }
    },
    "f4ff0f29de1e4951ab0f3ce4492c031f": {
     "model_module": "@jupyter-widgets/controls",
     "model_module_version": "1.5.0",
     "model_name": "FloatProgressModel",
     "state": {
      "_dom_classes": [],
      "_model_module": "@jupyter-widgets/controls",
      "_model_module_version": "1.5.0",
      "_model_name": "FloatProgressModel",
      "_view_count": null,
      "_view_module": "@jupyter-widgets/controls",
      "_view_module_version": "1.5.0",
      "_view_name": "ProgressView",
      "bar_style": "success",
      "description": "",
      "description_tooltip": null,
      "layout": "IPY_MODEL_33ec0cb53fba4b92a4e109abfe3f2585",
      "max": 1,
      "min": 0,
      "orientation": "horizontal",
      "style": "IPY_MODEL_44a8826f04a24548ae3c2a4fa8dbde8a",
      "value": 1
     }
    },
    "f82fef08a8d64ca998e9bc89ce001cb3": {
     "model_module": "@jupyter-widgets/controls",
     "model_module_version": "1.5.0",
     "model_name": "HBoxModel",
     "state": {
      "_dom_classes": [],
      "_model_module": "@jupyter-widgets/controls",
      "_model_module_version": "1.5.0",
      "_model_name": "HBoxModel",
      "_view_count": null,
      "_view_module": "@jupyter-widgets/controls",
      "_view_module_version": "1.5.0",
      "_view_name": "HBoxView",
      "box_style": "",
      "children": [
       "IPY_MODEL_55aa172aae91459799cc4eaf59f25d7d",
       "IPY_MODEL_e25ca9e2e8ab443ab8f3abdefe752776",
       "IPY_MODEL_938179c29cd94b0c83ef852b30e79114"
      ],
      "layout": "IPY_MODEL_aeb509cf46664b6b9daa17f4a64d5fe4"
     }
    },
    "fafa74dbd4fe4e11a90d505403204a9b": {
     "model_module": "@jupyter-widgets/controls",
     "model_module_version": "1.5.0",
     "model_name": "HTMLModel",
     "state": {
      "_dom_classes": [],
      "_model_module": "@jupyter-widgets/controls",
      "_model_module_version": "1.5.0",
      "_model_name": "HTMLModel",
      "_view_count": null,
      "_view_module": "@jupyter-widgets/controls",
      "_view_module_version": "1.5.0",
      "_view_name": "HTMLView",
      "description": "",
      "description_tooltip": null,
      "layout": "IPY_MODEL_979301ed27b44d39a5cf9c017fc69bee",
      "placeholder": "​",
      "style": "IPY_MODEL_3cc2ba451e004b5b91efa8c8e87af308",
      "value": "Downloading: 100%"
     }
    },
    "fc9502e0c86749c7a6d6881b6c17bb1c": {
     "model_module": "@jupyter-widgets/base",
     "model_module_version": "1.2.0",
     "model_name": "LayoutModel",
     "state": {
      "_model_module": "@jupyter-widgets/base",
      "_model_module_version": "1.2.0",
      "_model_name": "LayoutModel",
      "_view_count": null,
      "_view_module": "@jupyter-widgets/base",
      "_view_module_version": "1.2.0",
      "_view_name": "LayoutView",
      "align_content": null,
      "align_items": null,
      "align_self": null,
      "border": null,
      "bottom": null,
      "display": null,
      "flex": null,
      "flex_flow": null,
      "grid_area": null,
      "grid_auto_columns": null,
      "grid_auto_flow": null,
      "grid_auto_rows": null,
      "grid_column": null,
      "grid_gap": null,
      "grid_row": null,
      "grid_template_areas": null,
      "grid_template_columns": null,
      "grid_template_rows": null,
      "height": null,
      "justify_content": null,
      "justify_items": null,
      "left": null,
      "margin": null,
      "max_height": null,
      "max_width": null,
      "min_height": null,
      "min_width": null,
      "object_fit": null,
      "object_position": null,
      "order": null,
      "overflow": null,
      "overflow_x": null,
      "overflow_y": null,
      "padding": null,
      "right": null,
      "top": null,
      "visibility": null,
      "width": null
     }
    }
   }
  }
 },
 "nbformat": 4,
 "nbformat_minor": 1
}
