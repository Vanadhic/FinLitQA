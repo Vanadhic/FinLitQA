{
 "cells": [
  {
   "cell_type": "markdown",
   "metadata": {
    "id": "R_LS8BNQwUJl"
   },
   "source": [
    "# Domain Adaptive Fine-Tuning with FiQA dataset for MLM\n",
    "\n",
    "Initialization - Set Runtime type as GPU"
   ]
  },
  {
   "cell_type": "markdown",
   "metadata": {
    "id": "R_LS8BNQwUJl"
   },
   "source": [
    "This Notebook is part of the final Thesis.\n",
    "\n",
    "This Notebook explains the fine-tuning of the pre-trained Language models using the Financial Question Answering (FiQA) dataset. \n",
    "\n",
    "Code from the following repository is reused to create the Question Answer pair dataset from the FiQA challenge dataset - https://github.com/yuanbit/FinBERT-QA\n",
    "\n",
    "The following models are fine tuned using the dataset and used for comparison. \n",
    "* Model 1 - \"bert-base-uncased\"\n",
    "* Model 2 - \"roberta-base\"\n",
    "* Model 3 - \"finbert\"\n",
    "\n",
    "The Model class AutoModelForMaskedLM is used for fine tuning. \n",
    "https://huggingface.co/docs/transformers/model_doc/auto#transformers.AutoModelForMaskedLM"
   ]
  },
  {
   "cell_type": "code",
   "execution_count": null,
   "metadata": {
    "colab": {
     "base_uri": "https://localhost:8080/"
    },
    "executionInfo": {
     "elapsed": 38471,
     "status": "ok",
     "timestamp": 1639413757392,
     "user": {
      "displayName": "vanadhi chelliah",
      "photoUrl": "https://lh3.googleusercontent.com/a/default-user=s64",
      "userId": "11158136158943693689"
     },
     "user_tz": -330
    },
    "id": "UdyQovW6qb-e",
    "outputId": "0d237a6d-3b16-43f0-ef12-b6408f435dc2"
   },
   "outputs": [
    {
     "name": "stdout",
     "output_type": "stream",
     "text": [
      "Mounted at /content/drive\n"
     ]
    }
   ],
   "source": [
    "from google.colab import drive\n",
    "drive.mount('/content/drive')"
   ]
  },
  {
   "cell_type": "markdown",
   "metadata": {
    "id": "XQa9A9FRxBhu"
   },
   "source": [
    "# Initialization"
   ]
  },
  {
   "cell_type": "code",
   "execution_count": null,
   "metadata": {
    "colab": {
     "base_uri": "https://localhost:8080/"
    },
    "executionInfo": {
     "elapsed": 7903,
     "status": "ok",
     "timestamp": 1639413772019,
     "user": {
      "displayName": "vanadhi chelliah",
      "photoUrl": "https://lh3.googleusercontent.com/a/default-user=s64",
      "userId": "11158136158943693689"
     },
     "user_tz": -330
    },
    "id": "a0e3JcQ_EMWV",
    "outputId": "5e21feb6-3484-413e-d958-65f69343160d"
   },
   "outputs": [
    {
     "name": "stdout",
     "output_type": "stream",
     "text": [
      "\u001b[K     |████████████████████████████████| 15.7 MB 4.3 MB/s \n",
      "\u001b[31mERROR: pip's dependency resolver does not currently take into account all the packages that are installed. This behaviour is the source of the following dependency conflicts.\n",
      "yellowbrick 1.3.post1 requires numpy<1.20,>=1.16.0, but you have numpy 1.21.4 which is incompatible.\n",
      "datascience 0.10.6 requires folium==0.2.1, but you have folium 0.8.3 which is incompatible.\n",
      "albumentations 0.1.12 requires imgaug<0.2.7,>=0.2.5, but you have imgaug 0.2.9 which is incompatible.\u001b[0m\n",
      "\u001b[?25h"
     ]
    }
   ],
   "source": [
    "# Restart Run time required\n",
    "!pip install -U numpy -q"
   ]
  },
  {
   "cell_type": "code",
   "execution_count": null,
   "metadata": {
    "colab": {
     "base_uri": "https://localhost:8080/"
    },
    "executionInfo": {
     "elapsed": 10589,
     "status": "ok",
     "timestamp": 1639413790327,
     "user": {
      "displayName": "vanadhi chelliah",
      "photoUrl": "https://lh3.googleusercontent.com/a/default-user=s64",
      "userId": "11158136158943693689"
     },
     "user_tz": -330
    },
    "id": "ZxDsrgkXqrip",
    "outputId": "6f3ba43d-2ab1-41e3-870c-44a46b4a28bf"
   },
   "outputs": [
    {
     "name": "stdout",
     "output_type": "stream",
     "text": [
      "\u001b[K     |████████████████████████████████| 298 kB 4.2 MB/s \n",
      "\u001b[K     |████████████████████████████████| 3.3 MB 53.7 MB/s \n",
      "\u001b[K     |████████████████████████████████| 61 kB 613 kB/s \n",
      "\u001b[K     |████████████████████████████████| 1.1 MB 59.6 MB/s \n",
      "\u001b[K     |████████████████████████████████| 243 kB 64.7 MB/s \n",
      "\u001b[K     |████████████████████████████████| 132 kB 68.4 MB/s \n",
      "\u001b[K     |████████████████████████████████| 3.3 MB 52.2 MB/s \n",
      "\u001b[K     |████████████████████████████████| 895 kB 57.3 MB/s \n",
      "\u001b[K     |████████████████████████████████| 596 kB 66.5 MB/s \n",
      "\u001b[K     |████████████████████████████████| 160 kB 59.6 MB/s \n",
      "\u001b[K     |████████████████████████████████| 192 kB 72.6 MB/s \n",
      "\u001b[K     |████████████████████████████████| 271 kB 65.4 MB/s \n",
      "\u001b[?25h"
     ]
    }
   ],
   "source": [
    "!pip install datasets transformers -q"
   ]
  },
  {
   "cell_type": "code",
   "execution_count": null,
   "metadata": {
    "id": "1T_zvr8lipGI"
   },
   "outputs": [],
   "source": [
    "import torch\n",
    "import pickle\n",
    "import csv\n",
    "import regex as re\n",
    "import pandas as pd\n",
    "import math"
   ]
  },
  {
   "cell_type": "code",
   "execution_count": null,
   "metadata": {
    "id": "G_o6KbrYMHb6"
   },
   "outputs": [],
   "source": [
    "# To display using word wrap\n",
    "from IPython.display import HTML, display\n",
    "\n",
    "def set_css():\n",
    "  display(HTML('''\n",
    "  <style>\n",
    "    pre {\n",
    "        white-space: pre-wrap;\n",
    "    }\n",
    "  </style>\n",
    "  '''))\n",
    "get_ipython().events.register('pre_run_cell', set_css)"
   ]
  },
  {
   "cell_type": "code",
   "execution_count": null,
   "metadata": {
    "colab": {
     "base_uri": "https://localhost:8080/",
     "height": 16
    },
    "executionInfo": {
     "elapsed": 23,
     "status": "ok",
     "timestamp": 1639413829305,
     "user": {
      "displayName": "vanadhi chelliah",
      "photoUrl": "https://lh3.googleusercontent.com/a/default-user=s64",
      "userId": "11158136158943693689"
     },
     "user_tz": -330
    },
    "id": "ie9j0ToVqriv",
    "outputId": "70e8f5cf-497a-4772-ad43-a02dc87a7bb3"
   },
   "outputs": [
    {
     "data": {
      "text/html": [
       "\n",
       "  <style>\n",
       "    pre {\n",
       "        white-space: pre-wrap;\n",
       "    }\n",
       "  </style>\n",
       "  "
      ],
      "text/plain": [
       "<IPython.core.display.HTML object>"
      ]
     },
     "metadata": {},
     "output_type": "display_data"
    }
   ],
   "source": [
    "# Utility Function - Show random elements\n",
    "from datasets import ClassLabel\n",
    "import random\n",
    "import pandas as pd\n",
    "from IPython.display import display, HTML\n",
    "\n",
    "def show_random_elements(dataset, num_examples=5):\n",
    "    assert num_examples <= len(dataset), \"Can't pick more elements than there are in the dataset.\"\n",
    "    picks = []\n",
    "    for _ in range(num_examples):\n",
    "        pick = random.randint(0, len(dataset)-1)\n",
    "        while pick in picks:\n",
    "            pick = random.randint(0, len(dataset)-1)\n",
    "        picks.append(pick)\n",
    "    \n",
    "    df = pd.DataFrame(dataset[picks])\n",
    "    for column, typ in dataset.features.items():\n",
    "        if isinstance(typ, ClassLabel):\n",
    "            df[column] = df[column].transform(lambda i: typ.names[i])\n",
    "    display(HTML(df.to_html()))"
   ]
  },
  {
   "cell_type": "markdown",
   "metadata": {
    "id": "vPqU2js6qlM5"
   },
   "source": [
    "# FiQA Generate data for training"
   ]
  },
  {
   "cell_type": "code",
   "execution_count": null,
   "metadata": {
    "colab": {
     "base_uri": "https://localhost:8080/",
     "height": 16
    },
    "id": "3azpkxoarOU6",
    "outputId": "818f7201-b1e0-46ea-8f4d-7fb3c3e10c13"
   },
   "outputs": [
    {
     "data": {
      "text/html": [
       "\n",
       "  <style>\n",
       "    pre {\n",
       "        white-space: pre-wrap;\n",
       "    }\n",
       "  </style>\n",
       "  "
      ],
      "text/plain": [
       "<IPython.core.display.HTML object>"
      ]
     },
     "metadata": {},
     "output_type": "display_data"
    }
   ],
   "source": [
    "FiQA_dir = \"/content/drive/MyDrive/FinLitQA/FiQA\"\n",
    "query_df_path = FiQA_dir + \"/\" + \"FiQA_train_question_final.tsv\"\n",
    "doc_df_path = FiQA_dir + \"/\" + \"FiQA_train_doc_final.tsv\"\n",
    "querydoc_df_path = FiQA_dir + \"/\" + \"FiQA_train_question_doc_final.tsv\""
   ]
  },
  {
   "cell_type": "code",
   "execution_count": null,
   "metadata": {
    "colab": {
     "base_uri": "https://localhost:8080/",
     "height": 391
    },
    "id": "q-2Lx0g5h0Sj",
    "outputId": "e66d3a55-cb1d-43ac-f75c-3f06e342166f"
   },
   "outputs": [
    {
     "data": {
      "text/html": [
       "\n",
       "  <style>\n",
       "    pre {\n",
       "        white-space: pre-wrap;\n",
       "    }\n",
       "  </style>\n",
       "  "
      ],
      "text/plain": [
       "<IPython.core.display.HTML object>"
      ]
     },
     "metadata": {},
     "output_type": "display_data"
    },
    {
     "name": "stdout",
     "output_type": "stream",
     "text": [
      "<class 'pandas.core.frame.DataFrame'>\n",
      "RangeIndex: 6648 entries, 0 to 6647\n",
      "Data columns (total 2 columns):\n",
      " #   Column    Non-Null Count  Dtype \n",
      "---  ------    --------------  ----- \n",
      " 0   qid       6648 non-null   int64 \n",
      " 1   question  6648 non-null   object\n",
      "dtypes: int64(1), object(1)\n",
      "memory usage: 104.0+ KB\n",
      "None\n"
     ]
    },
    {
     "data": {
      "text/html": [
       "<div>\n",
       "<style scoped>\n",
       "    .dataframe tbody tr th:only-of-type {\n",
       "        vertical-align: middle;\n",
       "    }\n",
       "\n",
       "    .dataframe tbody tr th {\n",
       "        vertical-align: top;\n",
       "    }\n",
       "\n",
       "    .dataframe thead th {\n",
       "        text-align: right;\n",
       "    }\n",
       "</style>\n",
       "<table border=\"1\" class=\"dataframe\">\n",
       "  <thead>\n",
       "    <tr style=\"text-align: right;\">\n",
       "      <th></th>\n",
       "      <th>qid</th>\n",
       "      <th>question</th>\n",
       "    </tr>\n",
       "  </thead>\n",
       "  <tbody>\n",
       "    <tr>\n",
       "      <th>0</th>\n",
       "      <td>0</td>\n",
       "      <td>What is considered a business expense on a bus...</td>\n",
       "    </tr>\n",
       "    <tr>\n",
       "      <th>1</th>\n",
       "      <td>1</td>\n",
       "      <td>Claiming business expenses for a business with...</td>\n",
       "    </tr>\n",
       "    <tr>\n",
       "      <th>2</th>\n",
       "      <td>2</td>\n",
       "      <td>Transferring money from One business checking ...</td>\n",
       "    </tr>\n",
       "    <tr>\n",
       "      <th>3</th>\n",
       "      <td>3</td>\n",
       "      <td>Having a separate bank account for business/in...</td>\n",
       "    </tr>\n",
       "    <tr>\n",
       "      <th>4</th>\n",
       "      <td>4</td>\n",
       "      <td>Business Expense - Car Insurance Deductible Fo...</td>\n",
       "    </tr>\n",
       "  </tbody>\n",
       "</table>\n",
       "</div>"
      ],
      "text/plain": [
       "   qid                                           question\n",
       "0    0  What is considered a business expense on a bus...\n",
       "1    1  Claiming business expenses for a business with...\n",
       "2    2  Transferring money from One business checking ...\n",
       "3    3  Having a separate bank account for business/in...\n",
       "4    4  Business Expense - Car Insurance Deductible Fo..."
      ]
     },
     "execution_count": 6,
     "metadata": {},
     "output_type": "execute_result"
    }
   ],
   "source": [
    "query_df = pd.read_csv(query_df_path, sep=\"\\t\")\n",
    "query_df = query_df[[\"qid\", \"question\"]]\n",
    "print (query_df.info())\n",
    "query_df.head()"
   ]
  },
  {
   "cell_type": "code",
   "execution_count": null,
   "metadata": {
    "colab": {
     "base_uri": "https://localhost:8080/",
     "height": 391
    },
    "id": "EkeNGdlejudW",
    "outputId": "2c5d4c7c-e379-4b9c-e0a0-7c03849dd877"
   },
   "outputs": [
    {
     "data": {
      "text/html": [
       "\n",
       "  <style>\n",
       "    pre {\n",
       "        white-space: pre-wrap;\n",
       "    }\n",
       "  </style>\n",
       "  "
      ],
      "text/plain": [
       "<IPython.core.display.HTML object>"
      ]
     },
     "metadata": {},
     "output_type": "display_data"
    },
    {
     "name": "stdout",
     "output_type": "stream",
     "text": [
      "<class 'pandas.core.frame.DataFrame'>\n",
      "RangeIndex: 17110 entries, 0 to 17109\n",
      "Data columns (total 2 columns):\n",
      " #   Column  Non-Null Count  Dtype\n",
      "---  ------  --------------  -----\n",
      " 0   qid     17110 non-null  int64\n",
      " 1   docid   17110 non-null  int64\n",
      "dtypes: int64(2)\n",
      "memory usage: 267.5 KB\n",
      "None\n"
     ]
    },
    {
     "data": {
      "text/html": [
       "<div>\n",
       "<style scoped>\n",
       "    .dataframe tbody tr th:only-of-type {\n",
       "        vertical-align: middle;\n",
       "    }\n",
       "\n",
       "    .dataframe tbody tr th {\n",
       "        vertical-align: top;\n",
       "    }\n",
       "\n",
       "    .dataframe thead th {\n",
       "        text-align: right;\n",
       "    }\n",
       "</style>\n",
       "<table border=\"1\" class=\"dataframe\">\n",
       "  <thead>\n",
       "    <tr style=\"text-align: right;\">\n",
       "      <th></th>\n",
       "      <th>qid</th>\n",
       "      <th>docid</th>\n",
       "    </tr>\n",
       "  </thead>\n",
       "  <tbody>\n",
       "    <tr>\n",
       "      <th>0</th>\n",
       "      <td>0</td>\n",
       "      <td>18850</td>\n",
       "    </tr>\n",
       "    <tr>\n",
       "      <th>1</th>\n",
       "      <td>1</td>\n",
       "      <td>14255</td>\n",
       "    </tr>\n",
       "    <tr>\n",
       "      <th>2</th>\n",
       "      <td>2</td>\n",
       "      <td>308938</td>\n",
       "    </tr>\n",
       "    <tr>\n",
       "      <th>3</th>\n",
       "      <td>3</td>\n",
       "      <td>296717</td>\n",
       "    </tr>\n",
       "    <tr>\n",
       "      <th>4</th>\n",
       "      <td>3</td>\n",
       "      <td>100764</td>\n",
       "    </tr>\n",
       "  </tbody>\n",
       "</table>\n",
       "</div>"
      ],
      "text/plain": [
       "   qid   docid\n",
       "0    0   18850\n",
       "1    1   14255\n",
       "2    2  308938\n",
       "3    3  296717\n",
       "4    3  100764"
      ]
     },
     "execution_count": 7,
     "metadata": {},
     "output_type": "execute_result"
    }
   ],
   "source": [
    "querydoc_df = pd.read_csv(querydoc_df_path, sep=\"\\t\")\n",
    "querydoc_df = querydoc_df[[\"qid\", \"docid\"]]\n",
    "print (querydoc_df.info())\n",
    "querydoc_df.head()"
   ]
  },
  {
   "cell_type": "code",
   "execution_count": null,
   "metadata": {
    "colab": {
     "base_uri": "https://localhost:8080/",
     "height": 333
    },
    "id": "_jRJJQVxh0Lj",
    "outputId": "12840eb7-45ec-4a16-adc5-c022836594ac"
   },
   "outputs": [
    {
     "data": {
      "text/html": [
       "\n",
       "  <style>\n",
       "    pre {\n",
       "        white-space: pre-wrap;\n",
       "    }\n",
       "  </style>\n",
       "  "
      ],
      "text/plain": [
       "<IPython.core.display.HTML object>"
      ]
     },
     "metadata": {},
     "output_type": "display_data"
    },
    {
     "name": "stdout",
     "output_type": "stream",
     "text": [
      "<class 'pandas.core.frame.DataFrame'>\n",
      "RangeIndex: 57638 entries, 0 to 57637\n",
      "Data columns (total 4 columns):\n",
      " #   Column      Non-Null Count  Dtype \n",
      "---  ------      --------------  ----- \n",
      " 0   Unnamed: 0  57638 non-null  int64 \n",
      " 1   docid       57638 non-null  int64 \n",
      " 2   doc         57600 non-null  object\n",
      " 3   timestamp   57638 non-null  object\n",
      "dtypes: int64(2), object(2)\n",
      "memory usage: 1.8+ MB\n",
      "None\n"
     ]
    },
    {
     "data": {
      "text/html": [
       "<div>\n",
       "<style scoped>\n",
       "    .dataframe tbody tr th:only-of-type {\n",
       "        vertical-align: middle;\n",
       "    }\n",
       "\n",
       "    .dataframe tbody tr th {\n",
       "        vertical-align: top;\n",
       "    }\n",
       "\n",
       "    .dataframe thead th {\n",
       "        text-align: right;\n",
       "    }\n",
       "</style>\n",
       "<table border=\"1\" class=\"dataframe\">\n",
       "  <thead>\n",
       "    <tr style=\"text-align: right;\">\n",
       "      <th></th>\n",
       "      <th>Unnamed: 0</th>\n",
       "      <th>docid</th>\n",
       "      <th>doc</th>\n",
       "      <th>timestamp</th>\n",
       "    </tr>\n",
       "  </thead>\n",
       "  <tbody>\n",
       "    <tr>\n",
       "      <th>0</th>\n",
       "      <td>0</td>\n",
       "      <td>3</td>\n",
       "      <td>I'm not saying I don't like the idea of on-the...</td>\n",
       "      <td>Oct 03 '12 at 14:56</td>\n",
       "    </tr>\n",
       "    <tr>\n",
       "      <th>1</th>\n",
       "      <td>1</td>\n",
       "      <td>31</td>\n",
       "      <td>So nothing preventing false ratings besides ad...</td>\n",
       "      <td>Sep 01 '17 at 13:36</td>\n",
       "    </tr>\n",
       "  </tbody>\n",
       "</table>\n",
       "</div>"
      ],
      "text/plain": [
       "   Unnamed: 0  ...            timestamp\n",
       "0           0  ...  Oct 03 '12 at 14:56\n",
       "1           1  ...  Sep 01 '17 at 13:36\n",
       "\n",
       "[2 rows x 4 columns]"
      ]
     },
     "execution_count": 8,
     "metadata": {},
     "output_type": "execute_result"
    }
   ],
   "source": [
    "doc_df = pd.read_csv(doc_df_path, sep=\"\\t\")\n",
    "print (doc_df.info())\n",
    "doc_df.head(2)"
   ]
  },
  {
   "cell_type": "code",
   "execution_count": null,
   "metadata": {
    "colab": {
     "base_uri": "https://localhost:8080/",
     "height": 16
    },
    "id": "yu1UG5qSqAmV",
    "outputId": "39fc0bb8-b884-45ee-8ff3-be35ffef5f0b"
   },
   "outputs": [
    {
     "data": {
      "text/html": [
       "\n",
       "  <style>\n",
       "    pre {\n",
       "        white-space: pre-wrap;\n",
       "    }\n",
       "  </style>\n",
       "  "
      ],
      "text/plain": [
       "<IPython.core.display.HTML object>"
      ]
     },
     "metadata": {},
     "output_type": "display_data"
    }
   ],
   "source": [
    "def pre_process(text):\n",
    "    \"\"\"Returns a lower-cased string with punctuations and special characters removed.\n",
    "    Returns:\n",
    "        processed_text: str\n",
    "    ----------\n",
    "    Arguments:\n",
    "        text: str of answer or question text\n",
    "    \"\"\"\n",
    "    text = str(text)\n",
    "    # Substitute punctuations and special characters for a space\n",
    "    x = re.sub('[…“”%!&\"@#()\\-\\*\\+,/:;<=>?@[\\]\\^_`{\\}~]', ' ', text)\n",
    "    # Remove periods\n",
    "    y = re.sub('[\\.\\']', \"\", x)\n",
    "    # Apply lower-case\n",
    "    processed_text = y.lower()\n",
    "\n",
    "    return processed_text"
   ]
  },
  {
   "cell_type": "code",
   "execution_count": null,
   "metadata": {
    "colab": {
     "base_uri": "https://localhost:8080/",
     "height": 206
    },
    "id": "8xTS5oNtqHK_",
    "outputId": "f5ba62af-0f82-4764-b376-58a0ff81c4a8"
   },
   "outputs": [
    {
     "data": {
      "text/html": [
       "\n",
       "  <style>\n",
       "    pre {\n",
       "        white-space: pre-wrap;\n",
       "    }\n",
       "  </style>\n",
       "  "
      ],
      "text/plain": [
       "<IPython.core.display.HTML object>"
      ]
     },
     "metadata": {},
     "output_type": "display_data"
    },
    {
     "data": {
      "text/html": [
       "<div>\n",
       "<style scoped>\n",
       "    .dataframe tbody tr th:only-of-type {\n",
       "        vertical-align: middle;\n",
       "    }\n",
       "\n",
       "    .dataframe tbody tr th {\n",
       "        vertical-align: top;\n",
       "    }\n",
       "\n",
       "    .dataframe thead th {\n",
       "        text-align: right;\n",
       "    }\n",
       "</style>\n",
       "<table border=\"1\" class=\"dataframe\">\n",
       "  <thead>\n",
       "    <tr style=\"text-align: right;\">\n",
       "      <th></th>\n",
       "      <th>Unnamed: 0</th>\n",
       "      <th>docid</th>\n",
       "      <th>doc</th>\n",
       "      <th>timestamp</th>\n",
       "      <th>doc_clean</th>\n",
       "    </tr>\n",
       "  </thead>\n",
       "  <tbody>\n",
       "    <tr>\n",
       "      <th>0</th>\n",
       "      <td>0</td>\n",
       "      <td>3</td>\n",
       "      <td>I'm not saying I don't like the idea of on-the...</td>\n",
       "      <td>Oct 03 '12 at 14:56</td>\n",
       "      <td>im not saying i dont like the idea of on the j...</td>\n",
       "    </tr>\n",
       "    <tr>\n",
       "      <th>1</th>\n",
       "      <td>1</td>\n",
       "      <td>31</td>\n",
       "      <td>So nothing preventing false ratings besides ad...</td>\n",
       "      <td>Sep 01 '17 at 13:36</td>\n",
       "      <td>so nothing preventing false ratings besides ad...</td>\n",
       "    </tr>\n",
       "    <tr>\n",
       "      <th>2</th>\n",
       "      <td>2</td>\n",
       "      <td>56</td>\n",
       "      <td>You can never use a health FSA for individual ...</td>\n",
       "      <td>Jun 9 '14 at 17:37</td>\n",
       "      <td>you can never use a health fsa for individual ...</td>\n",
       "    </tr>\n",
       "    <tr>\n",
       "      <th>3</th>\n",
       "      <td>3</td>\n",
       "      <td>59</td>\n",
       "      <td>Samsung created the LCD and other flat screen ...</td>\n",
       "      <td>Dec 27 at 01:37</td>\n",
       "      <td>samsung created the lcd and other flat screen ...</td>\n",
       "    </tr>\n",
       "    <tr>\n",
       "      <th>4</th>\n",
       "      <td>4</td>\n",
       "      <td>63</td>\n",
       "      <td>Here are the SEC requirements: The federal sec...</td>\n",
       "      <td>Jul 14 '14 at 8:10</td>\n",
       "      <td>here are the sec requirements  the federal sec...</td>\n",
       "    </tr>\n",
       "  </tbody>\n",
       "</table>\n",
       "</div>"
      ],
      "text/plain": [
       "   Unnamed: 0  ...                                          doc_clean\n",
       "0           0  ...  im not saying i dont like the idea of on the j...\n",
       "1           1  ...  so nothing preventing false ratings besides ad...\n",
       "2           2  ...  you can never use a health fsa for individual ...\n",
       "3           3  ...  samsung created the lcd and other flat screen ...\n",
       "4           4  ...  here are the sec requirements  the federal sec...\n",
       "\n",
       "[5 rows x 5 columns]"
      ]
     },
     "execution_count": 10,
     "metadata": {},
     "output_type": "execute_result"
    }
   ],
   "source": [
    "doc_df['doc_clean'] = doc_df['doc'].apply(pre_process)\n",
    "doc_df.head()"
   ]
  },
  {
   "cell_type": "markdown",
   "metadata": {
    "id": "QOwv4hnzUzFk"
   },
   "source": [
    "## Create fiqa_doc dataset from doc column"
   ]
  },
  {
   "cell_type": "code",
   "execution_count": null,
   "metadata": {
    "colab": {
     "base_uri": "https://localhost:8080/",
     "height": 16
    },
    "id": "-g-uODJfqris",
    "outputId": "2b9b4b81-eaaa-4e27-e0d1-ee4cab1b4c56"
   },
   "outputs": [
    {
     "data": {
      "text/html": [
       "\n",
       "  <style>\n",
       "    pre {\n",
       "        white-space: pre-wrap;\n",
       "    }\n",
       "  </style>\n",
       "  "
      ],
      "text/plain": [
       "<IPython.core.display.HTML object>"
      ]
     },
     "metadata": {},
     "output_type": "display_data"
    }
   ],
   "source": [
    "from datasets import load_dataset\n",
    "from datasets import Dataset\n",
    "fiqa_doc_df = pd.DataFrame(doc_df[\"doc_clean\"])"
   ]
  },
  {
   "cell_type": "markdown",
   "metadata": {
    "id": "JCML46lwvJvQ"
   },
   "source": [
    "Create Train, Test split for FIQA Doc column and write to text in Drive"
   ]
  },
  {
   "cell_type": "code",
   "execution_count": null,
   "metadata": {
    "colab": {
     "base_uri": "https://localhost:8080/",
     "height": 16
    },
    "id": "LjTnxT2Vux90",
    "outputId": "4c181226-eddd-4140-9d1a-5ba681b3e0d6"
   },
   "outputs": [
    {
     "data": {
      "text/html": [
       "\n",
       "  <style>\n",
       "    pre {\n",
       "        white-space: pre-wrap;\n",
       "    }\n",
       "  </style>\n",
       "  "
      ],
      "text/plain": [
       "<IPython.core.display.HTML object>"
      ]
     },
     "metadata": {},
     "output_type": "display_data"
    }
   ],
   "source": [
    "from sklearn.model_selection import train_test_split\n",
    "fiqa_doc_train, fiqa_doc_valid = train_test_split(fiqa_doc_df, test_size= 0.2)"
   ]
  },
  {
   "cell_type": "code",
   "execution_count": null,
   "metadata": {
    "colab": {
     "base_uri": "https://localhost:8080/",
     "height": 16
    },
    "id": "utzblszOux91",
    "outputId": "2af68a14-a147-414f-dc48-2919b2f383aa"
   },
   "outputs": [
    {
     "data": {
      "text/html": [
       "\n",
       "  <style>\n",
       "    pre {\n",
       "        white-space: pre-wrap;\n",
       "    }\n",
       "  </style>\n",
       "  "
      ],
      "text/plain": [
       "<IPython.core.display.HTML object>"
      ]
     },
     "metadata": {},
     "output_type": "display_data"
    }
   ],
   "source": [
    "# Write fiqa_doc to text\n",
    "fiqa_doc_path = '/content/drive/MyDrive/FinLitQA/FiQA/fiqa_doc.txt'\n",
    "fiqa_doc_train_path = '/content/drive/MyDrive/FinLitQA/FiQA/fiqa_doc_train.txt'\n",
    "fiqa_doc_valid_path = '/content/drive/MyDrive/FinLitQA/FiQA/fiqa_doc_valid.txt'\n",
    "\n",
    "fiqa_doc_df.to_csv(fiqa_doc_path, index=False, header=False, sep=\"\\t\")\n",
    "fiqa_doc_train.to_csv(fiqa_doc_train_path ,index=False,header=False, sep=\"\\t\")\n",
    "fiqa_doc_valid.to_csv(fiqa_doc_valid_path ,index=False,header=False, sep=\"\\t\")"
   ]
  },
  {
   "cell_type": "code",
   "execution_count": null,
   "metadata": {
    "colab": {
     "base_uri": "https://localhost:8080/",
     "height": 35
    },
    "id": "rOMoZA86ux92",
    "outputId": "98401b71-b7d7-4fd4-a8ca-24f01a4c0198"
   },
   "outputs": [
    {
     "data": {
      "text/html": [
       "\n",
       "  <style>\n",
       "    pre {\n",
       "        white-space: pre-wrap;\n",
       "    }\n",
       "  </style>\n",
       "  "
      ],
      "text/plain": [
       "<IPython.core.display.HTML object>"
      ]
     },
     "metadata": {},
     "output_type": "display_data"
    },
    {
     "name": "stdout",
     "output_type": "stream",
     "text": [
      "(57638, 1) (46110, 1) (11528, 1)\n"
     ]
    }
   ],
   "source": [
    "print (fiqa_doc_df.shape, fiqa_doc_train.shape, fiqa_doc_valid.shape)"
   ]
  },
  {
   "cell_type": "markdown",
   "metadata": {
    "id": "ikUoJql3wu6S"
   },
   "source": [
    "Create and load Hugging face Dataset from fida_doc_df"
   ]
  },
  {
   "cell_type": "code",
   "execution_count": null,
   "metadata": {
    "colab": {
     "base_uri": "https://localhost:8080/",
     "height": 390,
     "referenced_widgets": [
      "a134e9fee1664dd3acb95c3ce308313a",
      "445b1d95a2d04bb6aa54d9f9705a8fb5",
      "0dc1ed3a8c524e28bff508c7d7b9157f",
      "0c099748951a4a64aeb1f2fd68ef0246",
      "aff49717716940278ed86ace813489e9",
      "771f5a15a65a4ebb9826cf4e22228f32",
      "e0e7d52f33fe4baa97c18b4221e097c6",
      "fccdd1fef44b4b7180fe91791e482c72",
      "c4e9bb1a42884fc580396e8fc8230aeb",
      "49f4d0c4fe5f4ad2bc4cff971f2164d7",
      "4cf02be1ca9c4ca9b62555e9d9c1e1da",
      "ad3d288564b44255bfec14cc7b10c370",
      "1e0cd3bbda834765be1a4cf00c0113bd",
      "bc46911d3dff4d9fb10ceff9db382529",
      "aa5fb47d77cd413a83c788fcb900d8e2",
      "16ec1107413e4abd90f2e5f94324c970",
      "2d2ceee69f0b4cae99261c763fd09626",
      "f9180bb0bd334199bb7ababf44acd43f",
      "cbe6b766a14d49f799b12c32dcabed42",
      "a4c58d4138f94ebda089f02040bbb124",
      "27142e05faa047bf8c7152c5c575e1e2",
      "1b4999e694a845d384036d39019b4f49",
      "b610aa0316d84b06a56e131bd9ca299c",
      "b0fc074835e648ec90a3872f05238959",
      "c1399750fb1b4f248932df5678edf11e",
      "33d1b3dba9c9431493b6f91fec99577f",
      "0a820405d8ad48a9bcd4105f074d79e2",
      "233b17fa32ac46a284955dbf2ac23a12",
      "d906b40b2dca402eb42f5d5d9a310e5d",
      "c0092847fc8d418b835c35a3a2f88487",
      "69a9a1c12b9f4e23a1223138ed48fd4c",
      "2c6ebcafcf3645f68687cbfdac3a18ea",
      "f9d713c5f1334107a881bbf471034564"
     ]
    },
    "id": "ATX4EREn3Sul",
    "outputId": "cb05d8dc-c48a-4cb5-c7cb-aabb7db8a59b"
   },
   "outputs": [
    {
     "data": {
      "text/html": [
       "\n",
       "  <style>\n",
       "    pre {\n",
       "        white-space: pre-wrap;\n",
       "    }\n",
       "  </style>\n",
       "  "
      ],
      "text/plain": [
       "<IPython.core.display.HTML object>"
      ]
     },
     "metadata": {},
     "output_type": "display_data"
    },
    {
     "name": "stderr",
     "output_type": "stream",
     "text": [
      "Using custom data configuration default-ee19480c4e5409a5\n"
     ]
    },
    {
     "name": "stdout",
     "output_type": "stream",
     "text": [
      "Downloading and preparing dataset text/default to /root/.cache/huggingface/datasets/text/default-ee19480c4e5409a5/0.0.0/e16f44aa1b321ece1f87b07977cc5d70be93d69b20486d6dacd62e12cf25c9a5...\n"
     ]
    },
    {
     "data": {
      "application/vnd.jupyter.widget-view+json": {
       "model_id": "a134e9fee1664dd3acb95c3ce308313a",
       "version_major": 2,
       "version_minor": 0
      },
      "text/plain": [
       "  0%|          | 0/2 [00:00<?, ?it/s]"
      ]
     },
     "metadata": {},
     "output_type": "display_data"
    },
    {
     "data": {
      "application/vnd.jupyter.widget-view+json": {
       "model_id": "ad3d288564b44255bfec14cc7b10c370",
       "version_major": 2,
       "version_minor": 0
      },
      "text/plain": [
       "  0%|          | 0/2 [00:00<?, ?it/s]"
      ]
     },
     "metadata": {},
     "output_type": "display_data"
    },
    {
     "name": "stdout",
     "output_type": "stream",
     "text": [
      "Dataset text downloaded and prepared to /root/.cache/huggingface/datasets/text/default-ee19480c4e5409a5/0.0.0/e16f44aa1b321ece1f87b07977cc5d70be93d69b20486d6dacd62e12cf25c9a5. Subsequent calls will reuse this data.\n"
     ]
    },
    {
     "data": {
      "application/vnd.jupyter.widget-view+json": {
       "model_id": "b610aa0316d84b06a56e131bd9ca299c",
       "version_major": 2,
       "version_minor": 0
      },
      "text/plain": [
       "  0%|          | 0/2 [00:00<?, ?it/s]"
      ]
     },
     "metadata": {},
     "output_type": "display_data"
    },
    {
     "data": {
      "text/plain": [
       "DatasetDict({\n",
       "    train: Dataset({\n",
       "        features: ['text'],\n",
       "        num_rows: 46116\n",
       "    })\n",
       "    validation: Dataset({\n",
       "        features: ['text'],\n",
       "        num_rows: 11528\n",
       "    })\n",
       "})"
      ]
     },
     "execution_count": 15,
     "metadata": {},
     "output_type": "execute_result"
    }
   ],
   "source": [
    "from datasets import load_dataset\n",
    "# fiqa_doc = Dataset.from_pandas(fiqa_doc_df)\n",
    "fiqa_doc = load_dataset(\"text\", data_files={\"train\": fiqa_doc_train_path, \n",
    "                                            \"validation\": fiqa_doc_valid_path})\n",
    "fiqa_doc"
   ]
  },
  {
   "cell_type": "code",
   "execution_count": null,
   "metadata": {
    "colab": {
     "base_uri": "https://localhost:8080/",
     "height": 1000
    },
    "id": "yERmc3y2qrix",
    "outputId": "ca0d0598-46b5-45a9-de9c-87e0b05ec989"
   },
   "outputs": [
    {
     "data": {
      "text/html": [
       "\n",
       "  <style>\n",
       "    pre {\n",
       "        white-space: pre-wrap;\n",
       "    }\n",
       "  </style>\n",
       "  "
      ],
      "text/plain": [
       "<IPython.core.display.HTML object>"
      ]
     },
     "metadata": {},
     "output_type": "display_data"
    },
    {
     "data": {
      "text/html": [
       "<table border=\"1\" class=\"dataframe\">\n",
       "  <thead>\n",
       "    <tr style=\"text-align: right;\">\n",
       "      <th></th>\n",
       "      <th>text</th>\n",
       "    </tr>\n",
       "  </thead>\n",
       "  <tbody>\n",
       "    <tr>\n",
       "      <th>0</th>\n",
       "      <td>the sign that things were in speculation mode and worthless was that shoe shine boys were buying stocks and providing stock advice in 1929  truck drivers were  stock market investors  in 2007  and everybody knew something   it was easy to make money  now bitcoins in the same boat  youve got minimum wage earners speculating in bitcoin saying its a guarantee  theres a sign</td>\n",
       "    </tr>\n",
       "    <tr>\n",
       "      <th>1</th>\n",
       "      <td>stuart macfarlane jungian analyst stuart macfarlane is a seasoned therapist with well over 30 years of experience in the field of psychology he specializes in the treatment of psychological dilemmas and disorders that include depression  bipolar disorder  bereavement  anxiety  addiction and relationship counseling</td>\n",
       "    </tr>\n",
       "    <tr>\n",
       "      <th>2</th>\n",
       "      <td>if you want to be really  financially smart   buy a used good condition corolla with cash  if you want to talk about a car that holds re sale value   quit renting and buy a detached house close to the city a for about $4 000 month  to build equity its nyc the house will appreciate in value  last but not the least  do not get married retire at 50  sell the house  now paid after 25 years  or lease a nice brand new car every year and have a good time  youre 25 and single</td>\n",
       "    </tr>\n",
       "    <tr>\n",
       "      <th>3</th>\n",
       "      <td>pivots points are significant levels technical analysts can use to determine directional movement  support and resistance pivot points use the prior periods high  low and close to formulate future support and resistance in this regard  pivot points are predictive or leading indicators there are at least five different versions of pivot points i will focus on standard pivot points here as they are the simplest if you are looking to trade off daily charts you would work out your pivot points from the prior months data for example  pivot points for first trading day of february would be based on the high  low and close for january they remain the same for the entire month of february new pivot points would then be calculated on the first trading day of march using the high  low and close for february to work out the standard pivot points you use the high  low and close from the previous period  ie for daily charts it would be from the previous month  in the following formulas  you will now have 5 horizontal lines  p  r1  r2  s1 and s2 which will set the general tone for price action over the next month a move above the pivot point p suggests strength with a target to the first resistance r1 a break above first resistance shows even more strength with a target to the second resistance level r2 the converse is true on the downside a move below the pivot point p suggests weakness with a target to the first support level s1 a break below the first support level shows even more weakness with a target to the second support level s2 the second resistance and support levels  r2   s2  can also be used to identify potentially overbought and oversold situations a move above the second resistance level r2 would show strength  but it would also indicate an overbought situation that could give way to a pullback similarly  a move below the second support level s2 would show weakness  but would also suggest a short term oversold condition that could give way to a bounce this could be used together with a momentum indicator such as rsi or stochastic to confirm overbought or oversold conditions  pivot points offer a methodology to determine price direction and then set support and resistance levels  however  it is important to confirm pivot point signals with other technical analysis indicators  such as candle stick reversal patterns  stochastic and general support and resistance levels in the price action these pivot points can be handy but i actually haven’t used them for trade setups and entries myself i prefer to use candle sticks together with stochastic to determine potential turning points and then take out trades based on these you can then use the pivot points resistance and support levels to help you estimate profit targets or areas to start becoming cautious and start tightening your stops say  for example  you have gone long from a signal you got a few days ago  you are now in profit and the price is now approaching r2 whilst the stochastic is approaching overbought  you might want to start tightening your stop loss as you might expect some weakness in the price in the near future if prices continue up you keep increasing your profits  if prices do reverse then you keep the majority of your existing profits this would become part of your trade management if you are after finding potential market turning points and take out trades based on these  then i would suggest using candlestick charting reversal patterns for your trade setups the patterns i like to use most in my trading can be described as either the hammer or one white soldier for bullish reversals and shooting star or one black crow for bearish reversals below are diagrams of where to place your entries and exits on both bullish and bearish reversal patterns bullish reversal pattern   so after some period of weakness in the price you would look for a bullish day where the price closes above the previous day’s high  you place your buy order here just before market close and place your initial stop just below the low of the day you would apply this either for an uptrending stock where the price has retracted from or near the trendline or moving average  or a ranging stock where price is bouncing off the support line the trade is reinforced if the stochastic is in or near the oversold and crossing back upwards  volume on the up day is higher than volume on the down days  and the market as a whole is moving up as well the benefit with this entry is that you are in early so you capture any bullish move up at the open of the next day  such as gaps the drawbacks are that you need to be in front of your screen before market close to get your price close to the market close and you may get whipsawed if prices reverse at the open of the next day  thus being stopped out with a small loss as the price moves up you would move your stop loss to just below the low of each day alternative bullish reversal entry  an alternative  entry would be to wait for after market close and then start your analysis  easier to do after market close than whilst the market is open and less emotions involved  place a stop buy order to buy at the open of next trading day just above the high of the bullish green candle your stop is placed exactly the same  just below the low of the green bullish candle the benefits of this alternative entry include you avoid the trade if the price reverses at the open of next day  thus avoiding a potential small loss  in other words you wait for further confirmation on the next trading day   and you avoid trading during market open hours where your emotions can get the better of you i prefer to do my trading after market close so prefer this alternative the drawback with this alternative is that you may miss out on bullish news prior to and at the next open  so miss out on some potential profits if prices do gap up at the open this may also increase your loss on the trade if the prices gaps up then reverses and hits your stop on the same day however  if you choose this method  then you will just need to incorporate this into your trading plan as potential slippage bearish reversal pattern   so after some short period of strength in the price you would look for a bearish day where the price closes below the previous day’s low  you place your sell short order here just before market close and place your initial stop just above the high of the day you would apply this either for an downtrending stock where the price has retracted from or near the trendline or moving average  or a ranging stock where price is bouncing off the resistance line the trade is reinforced if the stochastic is in or near the overbought and crossing back downwards  volume on the up day is higher than volume on the up days  and the market as a whole is moving down as well the benefit with this entry is that you are in early so you capture any bearish move down at the open of the next day  such as gaps the drawbacks are that you need to be in front of your screen before market close to get your price close to the market close and you may get whipsawed if prices reverse at the open of the next day  thus being stopped out with a small loss as the price moves down you would move your stop loss to just above the high of each day alternative bearish reversal entry   an alternative  entry would be to wait for after market close and then start your analysis  easier to do after market close than whilst the market is open and less emotions involved  place a stop sell short order to sell at the open of next trading day just below the low of the bearish red candle your stop is placed exactly the same  just above the high of the red bearish candle the benefits of this alternative entry include you avoid the trade if the price reverses at the open of next day  thus avoiding a potential small loss  in other words you wait for further confirmation on the next trading day   and you avoid trading during market open hours where your emotions can get the better of you i prefer to do my trading after market close so prefer this alternative the drawback with this alternative is that you may miss out on bearish news prior to and at the next open  so miss out on some potential profits if prices do gap down at the open this may also increase your loss on the trade if the prices gaps down then reverses and hits your stop on the same day however  if you choose this method  then you will just need to incorporate this into your trading plan as potential slippage you could also trade other candle stick patterns is similar ways and with the long entries you can also use them to get into the market with longer term trend following strategies  you would usually just use a larger stop for longer term trading to determine the size of your order you would use the price difference between your entry and your stop you should not be risking more than 1  of your trading capital on any one trade so if your trading capital is $20 000 your risk per trade should be $200 if you were looking to place your buy at 500 and had your initial stop at $460  you would divide $200 by $040 to get 500 stocks to buy using this form of money management you keep your losses down to a maximum of $200  some trades may be a bit higher due to some slippage which you should allow for in your trading plan   which becomes your r multiple your aim is to have your average win at 3r or higher  3 x your average loss   which will give you a positive expectancy even with a win ratio under 50  once you have written down your trading rules you can search stock charts for potential setups when you find one you can backtest the chart for similar setup over the past few years for each setup in the past jot down the prices you would have entered at  where you would have set your stop  work out your r  and go day by day  moving your stop as you go  and see where you would have been stopped out work out your profit or loss in terms of r for each setup and then add them up if you get a positive r multiple  then this may be a good stock to trade on this setup if you get a negative r multiple  then maybe give this stock a miss and look for the next setup you can setup watch lists of stocks that perform well for both long setups and short setups  and then trade these stocks when you get a new signal it can take some time starting off  but once you have got your watch lists for a particular setup  you just need to keep monitoring those stocks you can create other watch lists for other type of setups you have backtested as well</td>\n",
       "    </tr>\n",
       "    <tr>\n",
       "      <th>4</th>\n",
       "      <td>i am a non resident alien transferring a limited amount   in dollars post tax  to india every couple of months assuming you are transferring this into an nre account in india or atleast nro account in india as a nri  by regulations one should not hold normal savings account this has to be converted into nro i put that money as a fixed deposit in a bank  which gives 6 7 percent annual return  assuming you have fcnr deposits also assuming that you are declaring the taxes in your us tax returns and paying tax accordingly there is no tax in india on fcnr if this was in ordinary fd or in nro account  you are declaring and paying taxes in india as well as in us what is the max limit on transferring money back from india to usa  if you have transferred this into nre account  there is no limit other account there is a limit read more at liberalized remittance scheme and here what are the legitimate ways to transfer the money  from india point of view  this has to be bank to bank transfers you cant carry cash  indian rupees  outside of india beyond rs 25000  or 15000   you cant hold excess of usd 250 without valid purpose western union is not authorized to transfer funds out of india will there be any tax levied  no assuming you are already paying taxes on the interest in us and depending on the type of account in india</td>\n",
       "    </tr>\n",
       "  </tbody>\n",
       "</table>"
      ],
      "text/plain": [
       "<IPython.core.display.HTML object>"
      ]
     },
     "metadata": {},
     "output_type": "display_data"
    }
   ],
   "source": [
    "show_random_elements(fiqa_doc[\"train\"])"
   ]
  },
  {
   "cell_type": "markdown",
   "metadata": {
    "id": "4_slp2qZygkh"
   },
   "source": [
    "## Create Question answer pair from FIQA dataset"
   ]
  },
  {
   "cell_type": "code",
   "execution_count": null,
   "metadata": {
    "colab": {
     "base_uri": "https://localhost:8080/",
     "height": 35
    },
    "id": "7rBZJN0m4SAV",
    "outputId": "119207e7-4093-4f8c-afb4-73b0a230d393"
   },
   "outputs": [
    {
     "data": {
      "text/html": [
       "\n",
       "  <style>\n",
       "    pre {\n",
       "        white-space: pre-wrap;\n",
       "    }\n",
       "  </style>\n",
       "  "
      ],
      "text/plain": [
       "<IPython.core.display.HTML object>"
      ]
     },
     "metadata": {},
     "output_type": "display_data"
    },
    {
     "name": "stdout",
     "output_type": "stream",
     "text": [
      "/content/drive/MyDrive/FinBERT-QA\n"
     ]
    }
   ],
   "source": [
    "#!git clone https://github.com/yuanbit/FinBERT-QA\n",
    "%cd /content/drive/MyDrive/FinBERT-QA\n",
    "from src.utils import *"
   ]
  },
  {
   "cell_type": "code",
   "execution_count": null,
   "metadata": {
    "colab": {
     "base_uri": "https://localhost:8080/",
     "height": 1000
    },
    "id": "wHJpXA2dtbNd",
    "outputId": "08a33aeb-33d8-4e48-a398-06b4264b567b"
   },
   "outputs": [
    {
     "data": {
      "text/html": [
       "\n",
       "  <style>\n",
       "    pre {\n",
       "        white-space: pre-wrap;\n",
       "    }\n",
       "  </style>\n",
       "  "
      ],
      "text/plain": [
       "<IPython.core.display.HTML object>"
      ]
     },
     "metadata": {},
     "output_type": "display_data"
    },
    {
     "name": "stdout",
     "output_type": "stream",
     "text": [
      "Collecting pyserini\n",
      "  Downloading pyserini-0.14.0-py3-none-any.whl (75.5 MB)\n",
      "\u001b[K     |████████████████████████████████| 75.5 MB 7.8 kB/s \n",
      "\u001b[?25hCollecting pyjnius>=1.4.0\n",
      "  Downloading pyjnius-1.4.1-cp37-cp37m-manylinux_2_5_x86_64.manylinux1_x86_64.manylinux_2_12_x86_64.manylinux2010_x86_64.whl (1.1 MB)\n",
      "\u001b[K     |████████████████████████████████| 1.1 MB 61.1 MB/s \n",
      "\u001b[?25hRequirement already satisfied: scipy>=1.4.1 in /usr/local/lib/python3.7/dist-packages (from pyserini) (1.4.1)\n",
      "Requirement already satisfied: pandas>=1.1.5 in /usr/local/lib/python3.7/dist-packages (from pyserini) (1.1.5)\n",
      "Requirement already satisfied: tqdm in /usr/local/lib/python3.7/dist-packages (from pyserini) (4.62.3)\n",
      "Collecting nmslib>=2.1.1\n",
      "  Downloading nmslib-2.1.1-cp37-cp37m-manylinux2010_x86_64.whl (13.5 MB)\n",
      "\u001b[K     |████████████████████████████████| 13.5 MB 22.2 MB/s \n",
      "\u001b[?25hRequirement already satisfied: Cython>=0.29.21 in /usr/local/lib/python3.7/dist-packages (from pyserini) (0.29.24)\n",
      "Requirement already satisfied: numpy>=1.18.1 in /usr/local/lib/python3.7/dist-packages (from pyserini) (1.21.4)\n",
      "Collecting sentencepiece>=0.1.95\n",
      "  Downloading sentencepiece-0.1.96-cp37-cp37m-manylinux_2_17_x86_64.manylinux2014_x86_64.whl (1.2 MB)\n",
      "\u001b[K     |████████████████████████████████| 1.2 MB 72.4 MB/s \n",
      "\u001b[?25hRequirement already satisfied: scikit-learn>=0.22.1 in /usr/local/lib/python3.7/dist-packages (from pyserini) (1.0.1)\n",
      "Collecting onnxruntime>=1.8.1\n",
      "  Downloading onnxruntime-1.9.0-cp37-cp37m-manylinux_2_17_x86_64.manylinux2014_x86_64.whl (4.8 MB)\n",
      "\u001b[K     |████████████████████████████████| 4.8 MB 72.5 MB/s \n",
      "\u001b[?25hRequirement already satisfied: transformers>=4.6.0 in /usr/local/lib/python3.7/dist-packages (from pyserini) (4.12.5)\n",
      "Requirement already satisfied: psutil in /usr/local/lib/python3.7/dist-packages (from nmslib>=2.1.1->pyserini) (5.4.8)\n",
      "Collecting pybind11<2.6.2\n",
      "  Downloading pybind11-2.6.1-py2.py3-none-any.whl (188 kB)\n",
      "\u001b[K     |████████████████████████████████| 188 kB 73.0 MB/s \n",
      "\u001b[?25hRequirement already satisfied: flatbuffers in /usr/local/lib/python3.7/dist-packages (from onnxruntime>=1.8.1->pyserini) (2.0)\n",
      "Requirement already satisfied: protobuf in /usr/local/lib/python3.7/dist-packages (from onnxruntime>=1.8.1->pyserini) (3.17.3)\n",
      "Requirement already satisfied: python-dateutil>=2.7.3 in /usr/local/lib/python3.7/dist-packages (from pandas>=1.1.5->pyserini) (2.8.2)\n",
      "Requirement already satisfied: pytz>=2017.2 in /usr/local/lib/python3.7/dist-packages (from pandas>=1.1.5->pyserini) (2018.9)\n",
      "Requirement already satisfied: six>=1.7.0 in /usr/local/lib/python3.7/dist-packages (from pyjnius>=1.4.0->pyserini) (1.15.0)\n",
      "Requirement already satisfied: joblib>=0.11 in /usr/local/lib/python3.7/dist-packages (from scikit-learn>=0.22.1->pyserini) (1.1.0)\n",
      "Requirement already satisfied: threadpoolctl>=2.0.0 in /usr/local/lib/python3.7/dist-packages (from scikit-learn>=0.22.1->pyserini) (3.0.0)\n",
      "Requirement already satisfied: pyyaml>=5.1 in /usr/local/lib/python3.7/dist-packages (from transformers>=4.6.0->pyserini) (6.0)\n",
      "Requirement already satisfied: regex!=2019.12.17 in /usr/local/lib/python3.7/dist-packages (from transformers>=4.6.0->pyserini) (2019.12.20)\n",
      "Requirement already satisfied: importlib-metadata in /usr/local/lib/python3.7/dist-packages (from transformers>=4.6.0->pyserini) (4.8.2)\n",
      "Requirement already satisfied: requests in /usr/local/lib/python3.7/dist-packages (from transformers>=4.6.0->pyserini) (2.23.0)\n",
      "Requirement already satisfied: sacremoses in /usr/local/lib/python3.7/dist-packages (from transformers>=4.6.0->pyserini) (0.0.46)\n",
      "Requirement already satisfied: tokenizers<0.11,>=0.10.1 in /usr/local/lib/python3.7/dist-packages (from transformers>=4.6.0->pyserini) (0.10.3)\n",
      "Requirement already satisfied: packaging>=20.0 in /usr/local/lib/python3.7/dist-packages (from transformers>=4.6.0->pyserini) (21.3)\n",
      "Requirement already satisfied: filelock in /usr/local/lib/python3.7/dist-packages (from transformers>=4.6.0->pyserini) (3.4.0)\n",
      "Requirement already satisfied: huggingface-hub<1.0,>=0.1.0 in /usr/local/lib/python3.7/dist-packages (from transformers>=4.6.0->pyserini) (0.1.2)\n",
      "Requirement already satisfied: typing-extensions>=3.7.4.3 in /usr/local/lib/python3.7/dist-packages (from huggingface-hub<1.0,>=0.1.0->transformers>=4.6.0->pyserini) (3.10.0.2)\n",
      "Requirement already satisfied: pyparsing!=3.0.5,>=2.0.2 in /usr/local/lib/python3.7/dist-packages (from packaging>=20.0->transformers>=4.6.0->pyserini) (3.0.6)\n",
      "Requirement already satisfied: zipp>=0.5 in /usr/local/lib/python3.7/dist-packages (from importlib-metadata->transformers>=4.6.0->pyserini) (3.6.0)\n",
      "Requirement already satisfied: urllib3!=1.25.0,!=1.25.1,<1.26,>=1.21.1 in /usr/local/lib/python3.7/dist-packages (from requests->transformers>=4.6.0->pyserini) (1.24.3)\n",
      "Requirement already satisfied: chardet<4,>=3.0.2 in /usr/local/lib/python3.7/dist-packages (from requests->transformers>=4.6.0->pyserini) (3.0.4)\n",
      "Requirement already satisfied: idna<3,>=2.5 in /usr/local/lib/python3.7/dist-packages (from requests->transformers>=4.6.0->pyserini) (2.10)\n",
      "Requirement already satisfied: certifi>=2017.4.17 in /usr/local/lib/python3.7/dist-packages (from requests->transformers>=4.6.0->pyserini) (2021.10.8)\n",
      "Requirement already satisfied: click in /usr/local/lib/python3.7/dist-packages (from sacremoses->transformers>=4.6.0->pyserini) (7.1.2)\n",
      "Installing collected packages: pybind11, sentencepiece, pyjnius, onnxruntime, nmslib, pyserini\n",
      "Successfully installed nmslib-2.1.1 onnxruntime-1.9.0 pybind11-2.6.1 pyjnius-1.4.1 pyserini-0.14.0 sentencepiece-0.1.96\n"
     ]
    }
   ],
   "source": [
    "!pip install pyserini"
   ]
  },
  {
   "cell_type": "code",
   "execution_count": null,
   "metadata": {
    "colab": {
     "base_uri": "https://localhost:8080/",
     "height": 108
    },
    "id": "bxPl1fhdZmYY",
    "outputId": "2615b685-cbac-40ab-d706-9a1e245a3920"
   },
   "outputs": [
    {
     "data": {
      "text/html": [
       "\n",
       "  <style>\n",
       "    pre {\n",
       "        white-space: pre-wrap;\n",
       "    }\n",
       "  </style>\n",
       "  "
      ],
      "text/plain": [
       "<IPython.core.display.HTML object>"
      ]
     },
     "metadata": {},
     "output_type": "display_data"
    },
    {
     "name": "stdout",
     "output_type": "stream",
     "text": [
      "Collecting faiss-cpu\n",
      "  Downloading faiss_cpu-1.7.1.post2-cp37-cp37m-manylinux_2_17_x86_64.manylinux2014_x86_64.whl (8.4 MB)\n",
      "\u001b[?25l\r",
      "\u001b[K     |                                | 10 kB 4.4 MB/s eta 0:00:02\r",
      "\u001b[K     |                                | 20 kB 6.7 MB/s eta 0:00:02\r",
      "\u001b[K     |▏                               | 30 kB 7.7 MB/s eta 0:00:02\r",
      "\u001b[K     |▏                               | 40 kB 8.5 MB/s eta 0:00:01\r",
      "\u001b[K     |▏                               | 51 kB 8.5 MB/s eta 0:00:01\r",
      "\u001b[K     |▎                               | 61 kB 10.0 MB/s eta 0:00:01\r",
      "\u001b[K     |▎                               | 71 kB 9.3 MB/s eta 0:00:01\r",
      "\u001b[K     |▎                               | 81 kB 10.4 MB/s eta 0:00:01\r",
      "\u001b[K     |▍                               | 92 kB 9.5 MB/s eta 0:00:01\r",
      "\u001b[K     |▍                               | 102 kB 10.5 MB/s eta 0:00:01\r",
      "\u001b[K     |▍                               | 112 kB 10.5 MB/s eta 0:00:01\r",
      "\u001b[K     |▌                               | 122 kB 10.5 MB/s eta 0:00:01\r",
      "\u001b[K     |▌                               | 133 kB 10.5 MB/s eta 0:00:01\r",
      "\u001b[K     |▌                               | 143 kB 10.5 MB/s eta 0:00:01\r",
      "\u001b[K     |▋                               | 153 kB 10.5 MB/s eta 0:00:01\r",
      "\u001b[K     |▋                               | 163 kB 10.5 MB/s eta 0:00:01\r",
      "\u001b[K     |▋                               | 174 kB 10.5 MB/s eta 0:00:01\r",
      "\u001b[K     |▊                               | 184 kB 10.5 MB/s eta 0:00:01\r",
      "\u001b[K     |▊                               | 194 kB 10.5 MB/s eta 0:00:01\r",
      "\u001b[K     |▉                               | 204 kB 10.5 MB/s eta 0:00:01\r",
      "\u001b[K     |▉                               | 215 kB 10.5 MB/s eta 0:00:01\r",
      "\u001b[K     |▉                               | 225 kB 10.5 MB/s eta 0:00:01\r",
      "\u001b[K     |█                               | 235 kB 10.5 MB/s eta 0:00:01\r",
      "\u001b[K     |█                               | 245 kB 10.5 MB/s eta 0:00:01\r",
      "\u001b[K     |█                               | 256 kB 10.5 MB/s eta 0:00:01\r",
      "\u001b[K     |█                               | 266 kB 10.5 MB/s eta 0:00:01\r",
      "\u001b[K     |█                               | 276 kB 10.5 MB/s eta 0:00:01\r",
      "\u001b[K     |█                               | 286 kB 10.5 MB/s eta 0:00:01\r",
      "\u001b[K     |█▏                              | 296 kB 10.5 MB/s eta 0:00:01\r",
      "\u001b[K     |█▏                              | 307 kB 10.5 MB/s eta 0:00:01\r",
      "\u001b[K     |█▏                              | 317 kB 10.5 MB/s eta 0:00:01\r",
      "\u001b[K     |█▎                              | 327 kB 10.5 MB/s eta 0:00:01\r",
      "\u001b[K     |█▎                              | 337 kB 10.5 MB/s eta 0:00:01\r",
      "\u001b[K     |█▎                              | 348 kB 10.5 MB/s eta 0:00:01\r",
      "\u001b[K     |█▍                              | 358 kB 10.5 MB/s eta 0:00:01\r",
      "\u001b[K     |█▍                              | 368 kB 10.5 MB/s eta 0:00:01\r",
      "\u001b[K     |█▍                              | 378 kB 10.5 MB/s eta 0:00:01\r",
      "\u001b[K     |█▌                              | 389 kB 10.5 MB/s eta 0:00:01\r",
      "\u001b[K     |█▌                              | 399 kB 10.5 MB/s eta 0:00:01\r",
      "\u001b[K     |█▋                              | 409 kB 10.5 MB/s eta 0:00:01\r",
      "\u001b[K     |█▋                              | 419 kB 10.5 MB/s eta 0:00:01\r",
      "\u001b[K     |█▋                              | 430 kB 10.5 MB/s eta 0:00:01\r",
      "\u001b[K     |█▊                              | 440 kB 10.5 MB/s eta 0:00:01\r",
      "\u001b[K     |█▊                              | 450 kB 10.5 MB/s eta 0:00:01\r",
      "\u001b[K     |█▊                              | 460 kB 10.5 MB/s eta 0:00:01\r",
      "\u001b[K     |█▉                              | 471 kB 10.5 MB/s eta 0:00:01\r",
      "\u001b[K     |█▉                              | 481 kB 10.5 MB/s eta 0:00:01\r",
      "\u001b[K     |█▉                              | 491 kB 10.5 MB/s eta 0:00:01\r",
      "\u001b[K     |██                              | 501 kB 10.5 MB/s eta 0:00:01\r",
      "\u001b[K     |██                              | 512 kB 10.5 MB/s eta 0:00:01\r",
      "\u001b[K     |██                              | 522 kB 10.5 MB/s eta 0:00:01\r",
      "\u001b[K     |██                              | 532 kB 10.5 MB/s eta 0:00:01\r",
      "\u001b[K     |██                              | 542 kB 10.5 MB/s eta 0:00:01\r",
      "\u001b[K     |██                              | 552 kB 10.5 MB/s eta 0:00:01\r",
      "\u001b[K     |██▏                             | 563 kB 10.5 MB/s eta 0:00:01\r",
      "\u001b[K     |██▏                             | 573 kB 10.5 MB/s eta 0:00:01\r",
      "\u001b[K     |██▎                             | 583 kB 10.5 MB/s eta 0:00:01\r",
      "\u001b[K     |██▎                             | 593 kB 10.5 MB/s eta 0:00:01\r",
      "\u001b[K     |██▎                             | 604 kB 10.5 MB/s eta 0:00:01\r",
      "\u001b[K     |██▍                             | 614 kB 10.5 MB/s eta 0:00:01\r",
      "\u001b[K     |██▍                             | 624 kB 10.5 MB/s eta 0:00:01\r",
      "\u001b[K     |██▍                             | 634 kB 10.5 MB/s eta 0:00:01\r",
      "\u001b[K     |██▌                             | 645 kB 10.5 MB/s eta 0:00:01\r",
      "\u001b[K     |██▌                             | 655 kB 10.5 MB/s eta 0:00:01\r",
      "\u001b[K     |██▌                             | 665 kB 10.5 MB/s eta 0:00:01\r",
      "\u001b[K     |██▋                             | 675 kB 10.5 MB/s eta 0:00:01\r",
      "\u001b[K     |██▋                             | 686 kB 10.5 MB/s eta 0:00:01\r",
      "\u001b[K     |██▋                             | 696 kB 10.5 MB/s eta 0:00:01\r",
      "\u001b[K     |██▊                             | 706 kB 10.5 MB/s eta 0:00:01\r",
      "\u001b[K     |██▊                             | 716 kB 10.5 MB/s eta 0:00:01\r",
      "\u001b[K     |██▊                             | 727 kB 10.5 MB/s eta 0:00:01\r",
      "\u001b[K     |██▉                             | 737 kB 10.5 MB/s eta 0:00:01\r",
      "\u001b[K     |██▉                             | 747 kB 10.5 MB/s eta 0:00:01\r",
      "\u001b[K     |██▉                             | 757 kB 10.5 MB/s eta 0:00:01\r",
      "\u001b[K     |███                             | 768 kB 10.5 MB/s eta 0:00:01\r",
      "\u001b[K     |███                             | 778 kB 10.5 MB/s eta 0:00:01\r",
      "\u001b[K     |███                             | 788 kB 10.5 MB/s eta 0:00:01\r",
      "\u001b[K     |███                             | 798 kB 10.5 MB/s eta 0:00:01\r",
      "\u001b[K     |███                             | 808 kB 10.5 MB/s eta 0:00:01\r",
      "\u001b[K     |███▏                            | 819 kB 10.5 MB/s eta 0:00:01\r",
      "\u001b[K     |███▏                            | 829 kB 10.5 MB/s eta 0:00:01\r",
      "\u001b[K     |███▏                            | 839 kB 10.5 MB/s eta 0:00:01\r",
      "\u001b[K     |███▎                            | 849 kB 10.5 MB/s eta 0:00:01\r",
      "\u001b[K     |███▎                            | 860 kB 10.5 MB/s eta 0:00:01\r",
      "\u001b[K     |███▎                            | 870 kB 10.5 MB/s eta 0:00:01\r",
      "\u001b[K     |███▍                            | 880 kB 10.5 MB/s eta 0:00:01\r",
      "\u001b[K     |███▍                            | 890 kB 10.5 MB/s eta 0:00:01\r",
      "\u001b[K     |███▍                            | 901 kB 10.5 MB/s eta 0:00:01\r",
      "\u001b[K     |███▌                            | 911 kB 10.5 MB/s eta 0:00:01\r",
      "\u001b[K     |███▌                            | 921 kB 10.5 MB/s eta 0:00:01\r",
      "\u001b[K     |███▌                            | 931 kB 10.5 MB/s eta 0:00:01\r",
      "\u001b[K     |███▋                            | 942 kB 10.5 MB/s eta 0:00:01\r",
      "\u001b[K     |███▋                            | 952 kB 10.5 MB/s eta 0:00:01\r",
      "\u001b[K     |███▋                            | 962 kB 10.5 MB/s eta 0:00:01\r",
      "\u001b[K     |███▊                            | 972 kB 10.5 MB/s eta 0:00:01\r",
      "\u001b[K     |███▊                            | 983 kB 10.5 MB/s eta 0:00:01\r",
      "\u001b[K     |███▉                            | 993 kB 10.5 MB/s eta 0:00:01\r",
      "\u001b[K     |███▉                            | 1.0 MB 10.5 MB/s eta 0:00:01\r",
      "\u001b[K     |███▉                            | 1.0 MB 10.5 MB/s eta 0:00:01\r",
      "\u001b[K     |████                            | 1.0 MB 10.5 MB/s eta 0:00:01\r",
      "\u001b[K     |████                            | 1.0 MB 10.5 MB/s eta 0:00:01\r",
      "\u001b[K     |████                            | 1.0 MB 10.5 MB/s eta 0:00:01\r",
      "\u001b[K     |████                            | 1.1 MB 10.5 MB/s eta 0:00:01\r",
      "\u001b[K     |████                            | 1.1 MB 10.5 MB/s eta 0:00:01\r",
      "\u001b[K     |████                            | 1.1 MB 10.5 MB/s eta 0:00:01\r",
      "\u001b[K     |████▏                           | 1.1 MB 10.5 MB/s eta 0:00:01\r",
      "\u001b[K     |████▏                           | 1.1 MB 10.5 MB/s eta 0:00:01\r",
      "\u001b[K     |████▏                           | 1.1 MB 10.5 MB/s eta 0:00:01\r",
      "\u001b[K     |████▎                           | 1.1 MB 10.5 MB/s eta 0:00:01\r",
      "\u001b[K     |████▎                           | 1.1 MB 10.5 MB/s eta 0:00:01\r",
      "\u001b[K     |████▎                           | 1.1 MB 10.5 MB/s eta 0:00:01\r",
      "\u001b[K     |████▍                           | 1.1 MB 10.5 MB/s eta 0:00:01\r",
      "\u001b[K     |████▍                           | 1.2 MB 10.5 MB/s eta 0:00:01\r",
      "\u001b[K     |████▌                           | 1.2 MB 10.5 MB/s eta 0:00:01\r",
      "\u001b[K     |████▌                           | 1.2 MB 10.5 MB/s eta 0:00:01\r",
      "\u001b[K     |████▌                           | 1.2 MB 10.5 MB/s eta 0:00:01\r",
      "\u001b[K     |████▋                           | 1.2 MB 10.5 MB/s eta 0:00:01\r",
      "\u001b[K     |████▋                           | 1.2 MB 10.5 MB/s eta 0:00:01\r",
      "\u001b[K     |████▋                           | 1.2 MB 10.5 MB/s eta 0:00:01\r",
      "\u001b[K     |████▊                           | 1.2 MB 10.5 MB/s eta 0:00:01\r",
      "\u001b[K     |████▊                           | 1.2 MB 10.5 MB/s eta 0:00:01\r",
      "\u001b[K     |████▊                           | 1.2 MB 10.5 MB/s eta 0:00:01\r",
      "\u001b[K     |████▉                           | 1.3 MB 10.5 MB/s eta 0:00:01\r",
      "\u001b[K     |████▉                           | 1.3 MB 10.5 MB/s eta 0:00:01\r",
      "\u001b[K     |████▉                           | 1.3 MB 10.5 MB/s eta 0:00:01\r",
      "\u001b[K     |█████                           | 1.3 MB 10.5 MB/s eta 0:00:01\r",
      "\u001b[K     |█████                           | 1.3 MB 10.5 MB/s eta 0:00:01\r",
      "\u001b[K     |█████                           | 1.3 MB 10.5 MB/s eta 0:00:01\r",
      "\u001b[K     |█████                           | 1.3 MB 10.5 MB/s eta 0:00:01\r",
      "\u001b[K     |█████                           | 1.3 MB 10.5 MB/s eta 0:00:01\r",
      "\u001b[K     |█████                           | 1.3 MB 10.5 MB/s eta 0:00:01\r",
      "\u001b[K     |█████▏                          | 1.4 MB 10.5 MB/s eta 0:00:01\r",
      "\u001b[K     |█████▏                          | 1.4 MB 10.5 MB/s eta 0:00:01\r",
      "\u001b[K     |█████▎                          | 1.4 MB 10.5 MB/s eta 0:00:01\r",
      "\u001b[K     |█████▎                          | 1.4 MB 10.5 MB/s eta 0:00:01\r",
      "\u001b[K     |█████▎                          | 1.4 MB 10.5 MB/s eta 0:00:01\r",
      "\u001b[K     |█████▍                          | 1.4 MB 10.5 MB/s eta 0:00:01\r",
      "\u001b[K     |█████▍                          | 1.4 MB 10.5 MB/s eta 0:00:01\r",
      "\u001b[K     |█████▍                          | 1.4 MB 10.5 MB/s eta 0:00:01\r",
      "\u001b[K     |█████▌                          | 1.4 MB 10.5 MB/s eta 0:00:01\r",
      "\u001b[K     |█████▌                          | 1.4 MB 10.5 MB/s eta 0:00:01\r",
      "\u001b[K     |█████▌                          | 1.5 MB 10.5 MB/s eta 0:00:01\r",
      "\u001b[K     |█████▋                          | 1.5 MB 10.5 MB/s eta 0:00:01\r",
      "\u001b[K     |█████▋                          | 1.5 MB 10.5 MB/s eta 0:00:01\r",
      "\u001b[K     |█████▋                          | 1.5 MB 10.5 MB/s eta 0:00:01\r",
      "\u001b[K     |█████▊                          | 1.5 MB 10.5 MB/s eta 0:00:01\r",
      "\u001b[K     |█████▊                          | 1.5 MB 10.5 MB/s eta 0:00:01\r",
      "\u001b[K     |█████▊                          | 1.5 MB 10.5 MB/s eta 0:00:01\r",
      "\u001b[K     |█████▉                          | 1.5 MB 10.5 MB/s eta 0:00:01\r",
      "\u001b[K     |█████▉                          | 1.5 MB 10.5 MB/s eta 0:00:01\r",
      "\u001b[K     |██████                          | 1.5 MB 10.5 MB/s eta 0:00:01\r",
      "\u001b[K     |██████                          | 1.6 MB 10.5 MB/s eta 0:00:01\r",
      "\u001b[K     |██████                          | 1.6 MB 10.5 MB/s eta 0:00:01\r",
      "\u001b[K     |██████                          | 1.6 MB 10.5 MB/s eta 0:00:01\r",
      "\u001b[K     |██████                          | 1.6 MB 10.5 MB/s eta 0:00:01\r",
      "\u001b[K     |██████                          | 1.6 MB 10.5 MB/s eta 0:00:01\r",
      "\u001b[K     |██████▏                         | 1.6 MB 10.5 MB/s eta 0:00:01\r",
      "\u001b[K     |██████▏                         | 1.6 MB 10.5 MB/s eta 0:00:01\r",
      "\u001b[K     |██████▏                         | 1.6 MB 10.5 MB/s eta 0:00:01\r",
      "\u001b[K     |██████▎                         | 1.6 MB 10.5 MB/s eta 0:00:01\r",
      "\u001b[K     |██████▎                         | 1.6 MB 10.5 MB/s eta 0:00:01\r",
      "\u001b[K     |██████▎                         | 1.7 MB 10.5 MB/s eta 0:00:01\r",
      "\u001b[K     |██████▍                         | 1.7 MB 10.5 MB/s eta 0:00:01\r",
      "\u001b[K     |██████▍                         | 1.7 MB 10.5 MB/s eta 0:00:01\r",
      "\u001b[K     |██████▍                         | 1.7 MB 10.5 MB/s eta 0:00:01\r",
      "\u001b[K     |██████▌                         | 1.7 MB 10.5 MB/s eta 0:00:01\r",
      "\u001b[K     |██████▌                         | 1.7 MB 10.5 MB/s eta 0:00:01\r",
      "\u001b[K     |██████▌                         | 1.7 MB 10.5 MB/s eta 0:00:01\r",
      "\u001b[K     |██████▋                         | 1.7 MB 10.5 MB/s eta 0:00:01\r",
      "\u001b[K     |██████▋                         | 1.7 MB 10.5 MB/s eta 0:00:01\r",
      "\u001b[K     |██████▊                         | 1.8 MB 10.5 MB/s eta 0:00:01\r",
      "\u001b[K     |██████▊                         | 1.8 MB 10.5 MB/s eta 0:00:01\r",
      "\u001b[K     |██████▊                         | 1.8 MB 10.5 MB/s eta 0:00:01\r",
      "\u001b[K     |██████▉                         | 1.8 MB 10.5 MB/s eta 0:00:01\r",
      "\u001b[K     |██████▉                         | 1.8 MB 10.5 MB/s eta 0:00:01\r",
      "\u001b[K     |██████▉                         | 1.8 MB 10.5 MB/s eta 0:00:01\r",
      "\u001b[K     |███████                         | 1.8 MB 10.5 MB/s eta 0:00:01\r",
      "\u001b[K     |███████                         | 1.8 MB 10.5 MB/s eta 0:00:01\r",
      "\u001b[K     |███████                         | 1.8 MB 10.5 MB/s eta 0:00:01\r",
      "\u001b[K     |███████                         | 1.8 MB 10.5 MB/s eta 0:00:01\r",
      "\u001b[K     |███████                         | 1.9 MB 10.5 MB/s eta 0:00:01\r",
      "\u001b[K     |███████                         | 1.9 MB 10.5 MB/s eta 0:00:01\r",
      "\u001b[K     |███████▏                        | 1.9 MB 10.5 MB/s eta 0:00:01\r",
      "\u001b[K     |███████▏                        | 1.9 MB 10.5 MB/s eta 0:00:01\r",
      "\u001b[K     |███████▏                        | 1.9 MB 10.5 MB/s eta 0:00:01\r",
      "\u001b[K     |███████▎                        | 1.9 MB 10.5 MB/s eta 0:00:01\r",
      "\u001b[K     |███████▎                        | 1.9 MB 10.5 MB/s eta 0:00:01\r",
      "\u001b[K     |███████▎                        | 1.9 MB 10.5 MB/s eta 0:00:01\r",
      "\u001b[K     |███████▍                        | 1.9 MB 10.5 MB/s eta 0:00:01\r",
      "\u001b[K     |███████▍                        | 1.9 MB 10.5 MB/s eta 0:00:01\r",
      "\u001b[K     |███████▌                        | 2.0 MB 10.5 MB/s eta 0:00:01\r",
      "\u001b[K     |███████▌                        | 2.0 MB 10.5 MB/s eta 0:00:01\r",
      "\u001b[K     |███████▌                        | 2.0 MB 10.5 MB/s eta 0:00:01\r",
      "\u001b[K     |███████▋                        | 2.0 MB 10.5 MB/s eta 0:00:01\r",
      "\u001b[K     |███████▋                        | 2.0 MB 10.5 MB/s eta 0:00:01\r",
      "\u001b[K     |███████▋                        | 2.0 MB 10.5 MB/s eta 0:00:01\r",
      "\u001b[K     |███████▊                        | 2.0 MB 10.5 MB/s eta 0:00:01\r",
      "\u001b[K     |███████▊                        | 2.0 MB 10.5 MB/s eta 0:00:01\r",
      "\u001b[K     |███████▊                        | 2.0 MB 10.5 MB/s eta 0:00:01\r",
      "\u001b[K     |███████▉                        | 2.0 MB 10.5 MB/s eta 0:00:01\r",
      "\u001b[K     |███████▉                        | 2.1 MB 10.5 MB/s eta 0:00:01\r",
      "\u001b[K     |███████▉                        | 2.1 MB 10.5 MB/s eta 0:00:01\r",
      "\u001b[K     |████████                        | 2.1 MB 10.5 MB/s eta 0:00:01\r",
      "\u001b[K     |████████                        | 2.1 MB 10.5 MB/s eta 0:00:01\r",
      "\u001b[K     |████████                        | 2.1 MB 10.5 MB/s eta 0:00:01\r",
      "\u001b[K     |████████                        | 2.1 MB 10.5 MB/s eta 0:00:01\r",
      "\u001b[K     |████████                        | 2.1 MB 10.5 MB/s eta 0:00:01\r",
      "\u001b[K     |████████▏                       | 2.1 MB 10.5 MB/s eta 0:00:01\r",
      "\u001b[K     |████████▏                       | 2.1 MB 10.5 MB/s eta 0:00:01\r",
      "\u001b[K     |████████▏                       | 2.2 MB 10.5 MB/s eta 0:00:01\r",
      "\u001b[K     |████████▎                       | 2.2 MB 10.5 MB/s eta 0:00:01\r",
      "\u001b[K     |████████▎                       | 2.2 MB 10.5 MB/s eta 0:00:01\r",
      "\u001b[K     |████████▎                       | 2.2 MB 10.5 MB/s eta 0:00:01\r",
      "\u001b[K     |████████▍                       | 2.2 MB 10.5 MB/s eta 0:00:01\r",
      "\u001b[K     |████████▍                       | 2.2 MB 10.5 MB/s eta 0:00:01\r",
      "\u001b[K     |████████▍                       | 2.2 MB 10.5 MB/s eta 0:00:01\r",
      "\u001b[K     |████████▌                       | 2.2 MB 10.5 MB/s eta 0:00:01\r",
      "\u001b[K     |████████▌                       | 2.2 MB 10.5 MB/s eta 0:00:01\r",
      "\u001b[K     |████████▌                       | 2.2 MB 10.5 MB/s eta 0:00:01\r",
      "\u001b[K     |████████▋                       | 2.3 MB 10.5 MB/s eta 0:00:01\r",
      "\u001b[K     |████████▋                       | 2.3 MB 10.5 MB/s eta 0:00:01\r",
      "\u001b[K     |████████▋                       | 2.3 MB 10.5 MB/s eta 0:00:01\r",
      "\u001b[K     |████████▊                       | 2.3 MB 10.5 MB/s eta 0:00:01\r",
      "\u001b[K     |████████▊                       | 2.3 MB 10.5 MB/s eta 0:00:01\r",
      "\u001b[K     |████████▊                       | 2.3 MB 10.5 MB/s eta 0:00:01\r",
      "\u001b[K     |████████▉                       | 2.3 MB 10.5 MB/s eta 0:00:01\r",
      "\u001b[K     |████████▉                       | 2.3 MB 10.5 MB/s eta 0:00:01\r",
      "\u001b[K     |█████████                       | 2.3 MB 10.5 MB/s eta 0:00:01\r",
      "\u001b[K     |█████████                       | 2.3 MB 10.5 MB/s eta 0:00:01\r",
      "\u001b[K     |█████████                       | 2.4 MB 10.5 MB/s eta 0:00:01\r",
      "\u001b[K     |█████████                       | 2.4 MB 10.5 MB/s eta 0:00:01\r",
      "\u001b[K     |█████████                       | 2.4 MB 10.5 MB/s eta 0:00:01\r",
      "\u001b[K     |█████████                       | 2.4 MB 10.5 MB/s eta 0:00:01\r",
      "\u001b[K     |█████████▏                      | 2.4 MB 10.5 MB/s eta 0:00:01\r",
      "\u001b[K     |█████████▏                      | 2.4 MB 10.5 MB/s eta 0:00:01\r",
      "\u001b[K     |█████████▏                      | 2.4 MB 10.5 MB/s eta 0:00:01\r",
      "\u001b[K     |█████████▎                      | 2.4 MB 10.5 MB/s eta 0:00:01\r",
      "\u001b[K     |█████████▎                      | 2.4 MB 10.5 MB/s eta 0:00:01\r",
      "\u001b[K     |█████████▎                      | 2.4 MB 10.5 MB/s eta 0:00:01\r",
      "\u001b[K     |█████████▍                      | 2.5 MB 10.5 MB/s eta 0:00:01\r",
      "\u001b[K     |█████████▍                      | 2.5 MB 10.5 MB/s eta 0:00:01\r",
      "\u001b[K     |█████████▍                      | 2.5 MB 10.5 MB/s eta 0:00:01\r",
      "\u001b[K     |█████████▌                      | 2.5 MB 10.5 MB/s eta 0:00:01\r",
      "\u001b[K     |█████████▌                      | 2.5 MB 10.5 MB/s eta 0:00:01\r",
      "\u001b[K     |█████████▋                      | 2.5 MB 10.5 MB/s eta 0:00:01\r",
      "\u001b[K     |█████████▋                      | 2.5 MB 10.5 MB/s eta 0:00:01\r",
      "\u001b[K     |█████████▋                      | 2.5 MB 10.5 MB/s eta 0:00:01\r",
      "\u001b[K     |█████████▊                      | 2.5 MB 10.5 MB/s eta 0:00:01\r",
      "\u001b[K     |█████████▊                      | 2.5 MB 10.5 MB/s eta 0:00:01\r",
      "\u001b[K     |█████████▊                      | 2.6 MB 10.5 MB/s eta 0:00:01\r",
      "\u001b[K     |█████████▉                      | 2.6 MB 10.5 MB/s eta 0:00:01\r",
      "\u001b[K     |█████████▉                      | 2.6 MB 10.5 MB/s eta 0:00:01\r",
      "\u001b[K     |█████████▉                      | 2.6 MB 10.5 MB/s eta 0:00:01\r",
      "\u001b[K     |██████████                      | 2.6 MB 10.5 MB/s eta 0:00:01\r",
      "\u001b[K     |██████████                      | 2.6 MB 10.5 MB/s eta 0:00:01\r",
      "\u001b[K     |██████████                      | 2.6 MB 10.5 MB/s eta 0:00:01\r",
      "\u001b[K     |██████████                      | 2.6 MB 10.5 MB/s eta 0:00:01\r",
      "\u001b[K     |██████████                      | 2.6 MB 10.5 MB/s eta 0:00:01\r",
      "\u001b[K     |██████████                      | 2.7 MB 10.5 MB/s eta 0:00:01\r",
      "\u001b[K     |██████████▏                     | 2.7 MB 10.5 MB/s eta 0:00:01\r",
      "\u001b[K     |██████████▏                     | 2.7 MB 10.5 MB/s eta 0:00:01\r",
      "\u001b[K     |██████████▏                     | 2.7 MB 10.5 MB/s eta 0:00:01\r",
      "\u001b[K     |██████████▎                     | 2.7 MB 10.5 MB/s eta 0:00:01\r",
      "\u001b[K     |██████████▎                     | 2.7 MB 10.5 MB/s eta 0:00:01\r",
      "\u001b[K     |██████████▍                     | 2.7 MB 10.5 MB/s eta 0:00:01\r",
      "\u001b[K     |██████████▍                     | 2.7 MB 10.5 MB/s eta 0:00:01\r",
      "\u001b[K     |██████████▍                     | 2.7 MB 10.5 MB/s eta 0:00:01\r",
      "\u001b[K     |██████████▌                     | 2.7 MB 10.5 MB/s eta 0:00:01\r",
      "\u001b[K     |██████████▌                     | 2.8 MB 10.5 MB/s eta 0:00:01\r",
      "\u001b[K     |██████████▌                     | 2.8 MB 10.5 MB/s eta 0:00:01\r",
      "\u001b[K     |██████████▋                     | 2.8 MB 10.5 MB/s eta 0:00:01\r",
      "\u001b[K     |██████████▋                     | 2.8 MB 10.5 MB/s eta 0:00:01\r",
      "\u001b[K     |██████████▋                     | 2.8 MB 10.5 MB/s eta 0:00:01\r",
      "\u001b[K     |██████████▊                     | 2.8 MB 10.5 MB/s eta 0:00:01\r",
      "\u001b[K     |██████████▊                     | 2.8 MB 10.5 MB/s eta 0:00:01\r",
      "\u001b[K     |██████████▊                     | 2.8 MB 10.5 MB/s eta 0:00:01\r",
      "\u001b[K     |██████████▉                     | 2.8 MB 10.5 MB/s eta 0:00:01\r",
      "\u001b[K     |██████████▉                     | 2.8 MB 10.5 MB/s eta 0:00:01\r",
      "\u001b[K     |██████████▉                     | 2.9 MB 10.5 MB/s eta 0:00:01\r",
      "\u001b[K     |███████████                     | 2.9 MB 10.5 MB/s eta 0:00:01\r",
      "\u001b[K     |███████████                     | 2.9 MB 10.5 MB/s eta 0:00:01\r",
      "\u001b[K     |███████████                     | 2.9 MB 10.5 MB/s eta 0:00:01\r",
      "\u001b[K     |███████████                     | 2.9 MB 10.5 MB/s eta 0:00:01\r",
      "\u001b[K     |███████████                     | 2.9 MB 10.5 MB/s eta 0:00:01\r",
      "\u001b[K     |███████████▏                    | 2.9 MB 10.5 MB/s eta 0:00:01\r",
      "\u001b[K     |███████████▏                    | 2.9 MB 10.5 MB/s eta 0:00:01\r",
      "\u001b[K     |███████████▏                    | 2.9 MB 10.5 MB/s eta 0:00:01\r",
      "\u001b[K     |███████████▎                    | 2.9 MB 10.5 MB/s eta 0:00:01\r",
      "\u001b[K     |███████████▎                    | 3.0 MB 10.5 MB/s eta 0:00:01\r",
      "\u001b[K     |███████████▎                    | 3.0 MB 10.5 MB/s eta 0:00:01\r",
      "\u001b[K     |███████████▍                    | 3.0 MB 10.5 MB/s eta 0:00:01\r",
      "\u001b[K     |███████████▍                    | 3.0 MB 10.5 MB/s eta 0:00:01\r",
      "\u001b[K     |███████████▍                    | 3.0 MB 10.5 MB/s eta 0:00:01\r",
      "\u001b[K     |███████████▌                    | 3.0 MB 10.5 MB/s eta 0:00:01\r",
      "\u001b[K     |███████████▌                    | 3.0 MB 10.5 MB/s eta 0:00:01\r",
      "\u001b[K     |███████████▌                    | 3.0 MB 10.5 MB/s eta 0:00:01\r",
      "\u001b[K     |███████████▋                    | 3.0 MB 10.5 MB/s eta 0:00:01\r",
      "\u001b[K     |███████████▋                    | 3.1 MB 10.5 MB/s eta 0:00:01\r",
      "\u001b[K     |███████████▋                    | 3.1 MB 10.5 MB/s eta 0:00:01\r",
      "\u001b[K     |███████████▊                    | 3.1 MB 10.5 MB/s eta 0:00:01\r",
      "\u001b[K     |███████████▊                    | 3.1 MB 10.5 MB/s eta 0:00:01\r",
      "\u001b[K     |███████████▉                    | 3.1 MB 10.5 MB/s eta 0:00:01\r",
      "\u001b[K     |███████████▉                    | 3.1 MB 10.5 MB/s eta 0:00:01\r",
      "\u001b[K     |███████████▉                    | 3.1 MB 10.5 MB/s eta 0:00:01\r",
      "\u001b[K     |████████████                    | 3.1 MB 10.5 MB/s eta 0:00:01\r",
      "\u001b[K     |████████████                    | 3.1 MB 10.5 MB/s eta 0:00:01\r",
      "\u001b[K     |████████████                    | 3.1 MB 10.5 MB/s eta 0:00:01\r",
      "\u001b[K     |████████████                    | 3.2 MB 10.5 MB/s eta 0:00:01\r",
      "\u001b[K     |████████████                    | 3.2 MB 10.5 MB/s eta 0:00:01\r",
      "\u001b[K     |████████████                    | 3.2 MB 10.5 MB/s eta 0:00:01\r",
      "\u001b[K     |████████████▏                   | 3.2 MB 10.5 MB/s eta 0:00:01\r",
      "\u001b[K     |████████████▏                   | 3.2 MB 10.5 MB/s eta 0:00:01\r",
      "\u001b[K     |████████████▏                   | 3.2 MB 10.5 MB/s eta 0:00:01\r",
      "\u001b[K     |████████████▎                   | 3.2 MB 10.5 MB/s eta 0:00:01\r",
      "\u001b[K     |████████████▎                   | 3.2 MB 10.5 MB/s eta 0:00:01\r",
      "\u001b[K     |████████████▎                   | 3.2 MB 10.5 MB/s eta 0:00:01\r",
      "\u001b[K     |████████████▍                   | 3.2 MB 10.5 MB/s eta 0:00:01\r",
      "\u001b[K     |████████████▍                   | 3.3 MB 10.5 MB/s eta 0:00:01\r",
      "\u001b[K     |████████████▍                   | 3.3 MB 10.5 MB/s eta 0:00:01\r",
      "\u001b[K     |████████████▌                   | 3.3 MB 10.5 MB/s eta 0:00:01\r",
      "\u001b[K     |████████████▌                   | 3.3 MB 10.5 MB/s eta 0:00:01\r",
      "\u001b[K     |████████████▋                   | 3.3 MB 10.5 MB/s eta 0:00:01\r",
      "\u001b[K     |████████████▋                   | 3.3 MB 10.5 MB/s eta 0:00:01\r",
      "\u001b[K     |████████████▋                   | 3.3 MB 10.5 MB/s eta 0:00:01\r",
      "\u001b[K     |████████████▊                   | 3.3 MB 10.5 MB/s eta 0:00:01\r",
      "\u001b[K     |████████████▊                   | 3.3 MB 10.5 MB/s eta 0:00:01\r",
      "\u001b[K     |████████████▊                   | 3.3 MB 10.5 MB/s eta 0:00:01\r",
      "\u001b[K     |████████████▉                   | 3.4 MB 10.5 MB/s eta 0:00:01\r",
      "\u001b[K     |████████████▉                   | 3.4 MB 10.5 MB/s eta 0:00:01\r",
      "\u001b[K     |████████████▉                   | 3.4 MB 10.5 MB/s eta 0:00:01\r",
      "\u001b[K     |█████████████                   | 3.4 MB 10.5 MB/s eta 0:00:01\r",
      "\u001b[K     |█████████████                   | 3.4 MB 10.5 MB/s eta 0:00:01\r",
      "\u001b[K     |█████████████                   | 3.4 MB 10.5 MB/s eta 0:00:01\r",
      "\u001b[K     |█████████████                   | 3.4 MB 10.5 MB/s eta 0:00:01\r",
      "\u001b[K     |█████████████                   | 3.4 MB 10.5 MB/s eta 0:00:01\r",
      "\u001b[K     |█████████████                   | 3.4 MB 10.5 MB/s eta 0:00:01\r",
      "\u001b[K     |█████████████▏                  | 3.5 MB 10.5 MB/s eta 0:00:01\r",
      "\u001b[K     |█████████████▏                  | 3.5 MB 10.5 MB/s eta 0:00:01\r",
      "\u001b[K     |█████████████▎                  | 3.5 MB 10.5 MB/s eta 0:00:01\r",
      "\u001b[K     |█████████████▎                  | 3.5 MB 10.5 MB/s eta 0:00:01\r",
      "\u001b[K     |█████████████▎                  | 3.5 MB 10.5 MB/s eta 0:00:01\r",
      "\u001b[K     |█████████████▍                  | 3.5 MB 10.5 MB/s eta 0:00:01\r",
      "\u001b[K     |█████████████▍                  | 3.5 MB 10.5 MB/s eta 0:00:01\r",
      "\u001b[K     |█████████████▍                  | 3.5 MB 10.5 MB/s eta 0:00:01\r",
      "\u001b[K     |█████████████▌                  | 3.5 MB 10.5 MB/s eta 0:00:01\r",
      "\u001b[K     |█████████████▌                  | 3.5 MB 10.5 MB/s eta 0:00:01\r",
      "\u001b[K     |█████████████▌                  | 3.6 MB 10.5 MB/s eta 0:00:01\r",
      "\u001b[K     |█████████████▋                  | 3.6 MB 10.5 MB/s eta 0:00:01\r",
      "\u001b[K     |█████████████▋                  | 3.6 MB 10.5 MB/s eta 0:00:01\r",
      "\u001b[K     |█████████████▋                  | 3.6 MB 10.5 MB/s eta 0:00:01\r",
      "\u001b[K     |█████████████▊                  | 3.6 MB 10.5 MB/s eta 0:00:01\r",
      "\u001b[K     |█████████████▊                  | 3.6 MB 10.5 MB/s eta 0:00:01\r",
      "\u001b[K     |█████████████▊                  | 3.6 MB 10.5 MB/s eta 0:00:01\r",
      "\u001b[K     |█████████████▉                  | 3.6 MB 10.5 MB/s eta 0:00:01\r",
      "\u001b[K     |█████████████▉                  | 3.6 MB 10.5 MB/s eta 0:00:01\r",
      "\u001b[K     |█████████████▉                  | 3.6 MB 10.5 MB/s eta 0:00:01\r",
      "\u001b[K     |██████████████                  | 3.7 MB 10.5 MB/s eta 0:00:01\r",
      "\u001b[K     |██████████████                  | 3.7 MB 10.5 MB/s eta 0:00:01\r",
      "\u001b[K     |██████████████                  | 3.7 MB 10.5 MB/s eta 0:00:01\r",
      "\u001b[K     |██████████████                  | 3.7 MB 10.5 MB/s eta 0:00:01\r",
      "\u001b[K     |██████████████                  | 3.7 MB 10.5 MB/s eta 0:00:01\r",
      "\u001b[K     |██████████████▏                 | 3.7 MB 10.5 MB/s eta 0:00:01\r",
      "\u001b[K     |██████████████▏                 | 3.7 MB 10.5 MB/s eta 0:00:01\r",
      "\u001b[K     |██████████████▏                 | 3.7 MB 10.5 MB/s eta 0:00:01\r",
      "\u001b[K     |██████████████▎                 | 3.7 MB 10.5 MB/s eta 0:00:01\r",
      "\u001b[K     |██████████████▎                 | 3.7 MB 10.5 MB/s eta 0:00:01\r",
      "\u001b[K     |██████████████▎                 | 3.8 MB 10.5 MB/s eta 0:00:01\r",
      "\u001b[K     |██████████████▍                 | 3.8 MB 10.5 MB/s eta 0:00:01\r",
      "\u001b[K     |██████████████▍                 | 3.8 MB 10.5 MB/s eta 0:00:01\r",
      "\u001b[K     |██████████████▍                 | 3.8 MB 10.5 MB/s eta 0:00:01\r",
      "\u001b[K     |██████████████▌                 | 3.8 MB 10.5 MB/s eta 0:00:01\r",
      "\u001b[K     |██████████████▌                 | 3.8 MB 10.5 MB/s eta 0:00:01\r",
      "\u001b[K     |██████████████▌                 | 3.8 MB 10.5 MB/s eta 0:00:01\r",
      "\u001b[K     |██████████████▋                 | 3.8 MB 10.5 MB/s eta 0:00:01\r",
      "\u001b[K     |██████████████▋                 | 3.8 MB 10.5 MB/s eta 0:00:01\r",
      "\u001b[K     |██████████████▋                 | 3.9 MB 10.5 MB/s eta 0:00:01\r",
      "\u001b[K     |██████████████▊                 | 3.9 MB 10.5 MB/s eta 0:00:01\r",
      "\u001b[K     |██████████████▊                 | 3.9 MB 10.5 MB/s eta 0:00:01\r",
      "\u001b[K     |██████████████▉                 | 3.9 MB 10.5 MB/s eta 0:00:01\r",
      "\u001b[K     |██████████████▉                 | 3.9 MB 10.5 MB/s eta 0:00:01\r",
      "\u001b[K     |██████████████▉                 | 3.9 MB 10.5 MB/s eta 0:00:01\r",
      "\u001b[K     |███████████████                 | 3.9 MB 10.5 MB/s eta 0:00:01\r",
      "\u001b[K     |███████████████                 | 3.9 MB 10.5 MB/s eta 0:00:01\r",
      "\u001b[K     |███████████████                 | 3.9 MB 10.5 MB/s eta 0:00:01\r",
      "\u001b[K     |███████████████                 | 3.9 MB 10.5 MB/s eta 0:00:01\r",
      "\u001b[K     |███████████████                 | 4.0 MB 10.5 MB/s eta 0:00:01\r",
      "\u001b[K     |███████████████                 | 4.0 MB 10.5 MB/s eta 0:00:01\r",
      "\u001b[K     |███████████████▏                | 4.0 MB 10.5 MB/s eta 0:00:01\r",
      "\u001b[K     |███████████████▏                | 4.0 MB 10.5 MB/s eta 0:00:01\r",
      "\u001b[K     |███████████████▏                | 4.0 MB 10.5 MB/s eta 0:00:01\r",
      "\u001b[K     |███████████████▎                | 4.0 MB 10.5 MB/s eta 0:00:01\r",
      "\u001b[K     |███████████████▎                | 4.0 MB 10.5 MB/s eta 0:00:01\r",
      "\u001b[K     |███████████████▎                | 4.0 MB 10.5 MB/s eta 0:00:01\r",
      "\u001b[K     |███████████████▍                | 4.0 MB 10.5 MB/s eta 0:00:01\r",
      "\u001b[K     |███████████████▍                | 4.0 MB 10.5 MB/s eta 0:00:01\r",
      "\u001b[K     |███████████████▌                | 4.1 MB 10.5 MB/s eta 0:00:01\r",
      "\u001b[K     |███████████████▌                | 4.1 MB 10.5 MB/s eta 0:00:01\r",
      "\u001b[K     |███████████████▌                | 4.1 MB 10.5 MB/s eta 0:00:01\r",
      "\u001b[K     |███████████████▋                | 4.1 MB 10.5 MB/s eta 0:00:01\r",
      "\u001b[K     |███████████████▋                | 4.1 MB 10.5 MB/s eta 0:00:01\r",
      "\u001b[K     |███████████████▋                | 4.1 MB 10.5 MB/s eta 0:00:01\r",
      "\u001b[K     |███████████████▊                | 4.1 MB 10.5 MB/s eta 0:00:01\r",
      "\u001b[K     |███████████████▊                | 4.1 MB 10.5 MB/s eta 0:00:01\r",
      "\u001b[K     |███████████████▊                | 4.1 MB 10.5 MB/s eta 0:00:01\r",
      "\u001b[K     |███████████████▉                | 4.1 MB 10.5 MB/s eta 0:00:01\r",
      "\u001b[K     |███████████████▉                | 4.2 MB 10.5 MB/s eta 0:00:01\r",
      "\u001b[K     |███████████████▉                | 4.2 MB 10.5 MB/s eta 0:00:01\r",
      "\u001b[K     |████████████████                | 4.2 MB 10.5 MB/s eta 0:00:01\r",
      "\u001b[K     |████████████████                | 4.2 MB 10.5 MB/s eta 0:00:01\r",
      "\u001b[K     |████████████████                | 4.2 MB 10.5 MB/s eta 0:00:01\r",
      "\u001b[K     |████████████████                | 4.2 MB 10.5 MB/s eta 0:00:01\r",
      "\u001b[K     |████████████████                | 4.2 MB 10.5 MB/s eta 0:00:01\r",
      "\u001b[K     |████████████████                | 4.2 MB 10.5 MB/s eta 0:00:01\r",
      "\u001b[K     |████████████████▏               | 4.2 MB 10.5 MB/s eta 0:00:01\r",
      "\u001b[K     |████████████████▏               | 4.2 MB 10.5 MB/s eta 0:00:01\r",
      "\u001b[K     |████████████████▎               | 4.3 MB 10.5 MB/s eta 0:00:01\r",
      "\u001b[K     |████████████████▎               | 4.3 MB 10.5 MB/s eta 0:00:01\r",
      "\u001b[K     |████████████████▎               | 4.3 MB 10.5 MB/s eta 0:00:01\r",
      "\u001b[K     |████████████████▍               | 4.3 MB 10.5 MB/s eta 0:00:01\r",
      "\u001b[K     |████████████████▍               | 4.3 MB 10.5 MB/s eta 0:00:01\r",
      "\u001b[K     |████████████████▍               | 4.3 MB 10.5 MB/s eta 0:00:01\r",
      "\u001b[K     |████████████████▌               | 4.3 MB 10.5 MB/s eta 0:00:01\r",
      "\u001b[K     |████████████████▌               | 4.3 MB 10.5 MB/s eta 0:00:01\r",
      "\u001b[K     |████████████████▌               | 4.3 MB 10.5 MB/s eta 0:00:01\r",
      "\u001b[K     |████████████████▋               | 4.4 MB 10.5 MB/s eta 0:00:01\r",
      "\u001b[K     |████████████████▋               | 4.4 MB 10.5 MB/s eta 0:00:01\r",
      "\u001b[K     |████████████████▋               | 4.4 MB 10.5 MB/s eta 0:00:01\r",
      "\u001b[K     |████████████████▊               | 4.4 MB 10.5 MB/s eta 0:00:01\r",
      "\u001b[K     |████████████████▊               | 4.4 MB 10.5 MB/s eta 0:00:01\r",
      "\u001b[K     |████████████████▊               | 4.4 MB 10.5 MB/s eta 0:00:01\r",
      "\u001b[K     |████████████████▉               | 4.4 MB 10.5 MB/s eta 0:00:01\r",
      "\u001b[K     |████████████████▉               | 4.4 MB 10.5 MB/s eta 0:00:01\r",
      "\u001b[K     |█████████████████               | 4.4 MB 10.5 MB/s eta 0:00:01\r",
      "\u001b[K     |█████████████████               | 4.4 MB 10.5 MB/s eta 0:00:01\r",
      "\u001b[K     |█████████████████               | 4.5 MB 10.5 MB/s eta 0:00:01\r",
      "\u001b[K     |█████████████████               | 4.5 MB 10.5 MB/s eta 0:00:01\r",
      "\u001b[K     |█████████████████               | 4.5 MB 10.5 MB/s eta 0:00:01\r",
      "\u001b[K     |█████████████████               | 4.5 MB 10.5 MB/s eta 0:00:01\r",
      "\u001b[K     |█████████████████▏              | 4.5 MB 10.5 MB/s eta 0:00:01\r",
      "\u001b[K     |█████████████████▏              | 4.5 MB 10.5 MB/s eta 0:00:01\r",
      "\u001b[K     |█████████████████▏              | 4.5 MB 10.5 MB/s eta 0:00:01\r",
      "\u001b[K     |█████████████████▎              | 4.5 MB 10.5 MB/s eta 0:00:01\r",
      "\u001b[K     |█████████████████▎              | 4.5 MB 10.5 MB/s eta 0:00:01\r",
      "\u001b[K     |█████████████████▎              | 4.5 MB 10.5 MB/s eta 0:00:01\r",
      "\u001b[K     |█████████████████▍              | 4.6 MB 10.5 MB/s eta 0:00:01\r",
      "\u001b[K     |█████████████████▍              | 4.6 MB 10.5 MB/s eta 0:00:01\r",
      "\u001b[K     |█████████████████▍              | 4.6 MB 10.5 MB/s eta 0:00:01\r",
      "\u001b[K     |█████████████████▌              | 4.6 MB 10.5 MB/s eta 0:00:01\r",
      "\u001b[K     |█████████████████▌              | 4.6 MB 10.5 MB/s eta 0:00:01\r",
      "\u001b[K     |█████████████████▌              | 4.6 MB 10.5 MB/s eta 0:00:01\r",
      "\u001b[K     |█████████████████▋              | 4.6 MB 10.5 MB/s eta 0:00:01\r",
      "\u001b[K     |█████████████████▋              | 4.6 MB 10.5 MB/s eta 0:00:01\r",
      "\u001b[K     |█████████████████▊              | 4.6 MB 10.5 MB/s eta 0:00:01\r",
      "\u001b[K     |█████████████████▊              | 4.6 MB 10.5 MB/s eta 0:00:01\r",
      "\u001b[K     |█████████████████▊              | 4.7 MB 10.5 MB/s eta 0:00:01\r",
      "\u001b[K     |█████████████████▉              | 4.7 MB 10.5 MB/s eta 0:00:01\r",
      "\u001b[K     |█████████████████▉              | 4.7 MB 10.5 MB/s eta 0:00:01\r",
      "\u001b[K     |█████████████████▉              | 4.7 MB 10.5 MB/s eta 0:00:01\r",
      "\u001b[K     |██████████████████              | 4.7 MB 10.5 MB/s eta 0:00:01\r",
      "\u001b[K     |██████████████████              | 4.7 MB 10.5 MB/s eta 0:00:01\r",
      "\u001b[K     |██████████████████              | 4.7 MB 10.5 MB/s eta 0:00:01\r",
      "\u001b[K     |██████████████████              | 4.7 MB 10.5 MB/s eta 0:00:01\r",
      "\u001b[K     |██████████████████              | 4.7 MB 10.5 MB/s eta 0:00:01\r",
      "\u001b[K     |██████████████████              | 4.8 MB 10.5 MB/s eta 0:00:01\r",
      "\u001b[K     |██████████████████▏             | 4.8 MB 10.5 MB/s eta 0:00:01\r",
      "\u001b[K     |██████████████████▏             | 4.8 MB 10.5 MB/s eta 0:00:01\r",
      "\u001b[K     |██████████████████▏             | 4.8 MB 10.5 MB/s eta 0:00:01\r",
      "\u001b[K     |██████████████████▎             | 4.8 MB 10.5 MB/s eta 0:00:01\r",
      "\u001b[K     |██████████████████▎             | 4.8 MB 10.5 MB/s eta 0:00:01\r",
      "\u001b[K     |██████████████████▎             | 4.8 MB 10.5 MB/s eta 0:00:01\r",
      "\u001b[K     |██████████████████▍             | 4.8 MB 10.5 MB/s eta 0:00:01\r",
      "\u001b[K     |██████████████████▍             | 4.8 MB 10.5 MB/s eta 0:00:01\r",
      "\u001b[K     |██████████████████▌             | 4.8 MB 10.5 MB/s eta 0:00:01\r",
      "\u001b[K     |██████████████████▌             | 4.9 MB 10.5 MB/s eta 0:00:01\r",
      "\u001b[K     |██████████████████▌             | 4.9 MB 10.5 MB/s eta 0:00:01\r",
      "\u001b[K     |██████████████████▋             | 4.9 MB 10.5 MB/s eta 0:00:01\r",
      "\u001b[K     |██████████████████▋             | 4.9 MB 10.5 MB/s eta 0:00:01\r",
      "\u001b[K     |██████████████████▋             | 4.9 MB 10.5 MB/s eta 0:00:01\r",
      "\u001b[K     |██████████████████▊             | 4.9 MB 10.5 MB/s eta 0:00:01\r",
      "\u001b[K     |██████████████████▊             | 4.9 MB 10.5 MB/s eta 0:00:01\r",
      "\u001b[K     |██████████████████▊             | 4.9 MB 10.5 MB/s eta 0:00:01\r",
      "\u001b[K     |██████████████████▉             | 4.9 MB 10.5 MB/s eta 0:00:01\r",
      "\u001b[K     |██████████████████▉             | 4.9 MB 10.5 MB/s eta 0:00:01\r",
      "\u001b[K     |██████████████████▉             | 5.0 MB 10.5 MB/s eta 0:00:01\r",
      "\u001b[K     |███████████████████             | 5.0 MB 10.5 MB/s eta 0:00:01\r",
      "\u001b[K     |███████████████████             | 5.0 MB 10.5 MB/s eta 0:00:01\r",
      "\u001b[K     |███████████████████             | 5.0 MB 10.5 MB/s eta 0:00:01\r",
      "\u001b[K     |███████████████████             | 5.0 MB 10.5 MB/s eta 0:00:01\r",
      "\u001b[K     |███████████████████             | 5.0 MB 10.5 MB/s eta 0:00:01\r",
      "\u001b[K     |███████████████████▏            | 5.0 MB 10.5 MB/s eta 0:00:01\r",
      "\u001b[K     |███████████████████▏            | 5.0 MB 10.5 MB/s eta 0:00:01\r",
      "\u001b[K     |███████████████████▏            | 5.0 MB 10.5 MB/s eta 0:00:01\r",
      "\u001b[K     |███████████████████▎            | 5.0 MB 10.5 MB/s eta 0:00:01\r",
      "\u001b[K     |███████████████████▎            | 5.1 MB 10.5 MB/s eta 0:00:01\r",
      "\u001b[K     |███████████████████▎            | 5.1 MB 10.5 MB/s eta 0:00:01\r",
      "\u001b[K     |███████████████████▍            | 5.1 MB 10.5 MB/s eta 0:00:01\r",
      "\u001b[K     |███████████████████▍            | 5.1 MB 10.5 MB/s eta 0:00:01\r",
      "\u001b[K     |███████████████████▍            | 5.1 MB 10.5 MB/s eta 0:00:01\r",
      "\u001b[K     |███████████████████▌            | 5.1 MB 10.5 MB/s eta 0:00:01\r",
      "\u001b[K     |███████████████████▌            | 5.1 MB 10.5 MB/s eta 0:00:01\r",
      "\u001b[K     |███████████████████▌            | 5.1 MB 10.5 MB/s eta 0:00:01\r",
      "\u001b[K     |███████████████████▋            | 5.1 MB 10.5 MB/s eta 0:00:01\r",
      "\u001b[K     |███████████████████▋            | 5.2 MB 10.5 MB/s eta 0:00:01\r",
      "\u001b[K     |███████████████████▋            | 5.2 MB 10.5 MB/s eta 0:00:01\r",
      "\u001b[K     |███████████████████▊            | 5.2 MB 10.5 MB/s eta 0:00:01\r",
      "\u001b[K     |███████████████████▊            | 5.2 MB 10.5 MB/s eta 0:00:01\r",
      "\u001b[K     |███████████████████▊            | 5.2 MB 10.5 MB/s eta 0:00:01\r",
      "\u001b[K     |███████████████████▉            | 5.2 MB 10.5 MB/s eta 0:00:01\r",
      "\u001b[K     |███████████████████▉            | 5.2 MB 10.5 MB/s eta 0:00:01\r",
      "\u001b[K     |████████████████████            | 5.2 MB 10.5 MB/s eta 0:00:01\r",
      "\u001b[K     |████████████████████            | 5.2 MB 10.5 MB/s eta 0:00:01\r",
      "\u001b[K     |████████████████████            | 5.2 MB 10.5 MB/s eta 0:00:01\r",
      "\u001b[K     |████████████████████            | 5.3 MB 10.5 MB/s eta 0:00:01\r",
      "\u001b[K     |████████████████████            | 5.3 MB 10.5 MB/s eta 0:00:01\r",
      "\u001b[K     |████████████████████            | 5.3 MB 10.5 MB/s eta 0:00:01\r",
      "\u001b[K     |████████████████████▏           | 5.3 MB 10.5 MB/s eta 0:00:01\r",
      "\u001b[K     |████████████████████▏           | 5.3 MB 10.5 MB/s eta 0:00:01\r",
      "\u001b[K     |████████████████████▏           | 5.3 MB 10.5 MB/s eta 0:00:01\r",
      "\u001b[K     |████████████████████▎           | 5.3 MB 10.5 MB/s eta 0:00:01\r",
      "\u001b[K     |████████████████████▎           | 5.3 MB 10.5 MB/s eta 0:00:01\r",
      "\u001b[K     |████████████████████▎           | 5.3 MB 10.5 MB/s eta 0:00:01\r",
      "\u001b[K     |████████████████████▍           | 5.3 MB 10.5 MB/s eta 0:00:01\r",
      "\u001b[K     |████████████████████▍           | 5.4 MB 10.5 MB/s eta 0:00:01\r",
      "\u001b[K     |████████████████████▍           | 5.4 MB 10.5 MB/s eta 0:00:01\r",
      "\u001b[K     |████████████████████▌           | 5.4 MB 10.5 MB/s eta 0:00:01\r",
      "\u001b[K     |████████████████████▌           | 5.4 MB 10.5 MB/s eta 0:00:01\r",
      "\u001b[K     |████████████████████▋           | 5.4 MB 10.5 MB/s eta 0:00:01\r",
      "\u001b[K     |████████████████████▋           | 5.4 MB 10.5 MB/s eta 0:00:01\r",
      "\u001b[K     |████████████████████▋           | 5.4 MB 10.5 MB/s eta 0:00:01\r",
      "\u001b[K     |████████████████████▊           | 5.4 MB 10.5 MB/s eta 0:00:01\r",
      "\u001b[K     |████████████████████▊           | 5.4 MB 10.5 MB/s eta 0:00:01\r",
      "\u001b[K     |████████████████████▊           | 5.4 MB 10.5 MB/s eta 0:00:01\r",
      "\u001b[K     |████████████████████▉           | 5.5 MB 10.5 MB/s eta 0:00:01\r",
      "\u001b[K     |████████████████████▉           | 5.5 MB 10.5 MB/s eta 0:00:01\r",
      "\u001b[K     |████████████████████▉           | 5.5 MB 10.5 MB/s eta 0:00:01\r",
      "\u001b[K     |█████████████████████           | 5.5 MB 10.5 MB/s eta 0:00:01\r",
      "\u001b[K     |█████████████████████           | 5.5 MB 10.5 MB/s eta 0:00:01\r",
      "\u001b[K     |█████████████████████           | 5.5 MB 10.5 MB/s eta 0:00:01\r",
      "\u001b[K     |█████████████████████           | 5.5 MB 10.5 MB/s eta 0:00:01\r",
      "\u001b[K     |█████████████████████           | 5.5 MB 10.5 MB/s eta 0:00:01\r",
      "\u001b[K     |█████████████████████           | 5.5 MB 10.5 MB/s eta 0:00:01\r",
      "\u001b[K     |█████████████████████▏          | 5.6 MB 10.5 MB/s eta 0:00:01\r",
      "\u001b[K     |█████████████████████▏          | 5.6 MB 10.5 MB/s eta 0:00:01\r",
      "\u001b[K     |█████████████████████▏          | 5.6 MB 10.5 MB/s eta 0:00:01\r",
      "\u001b[K     |█████████████████████▎          | 5.6 MB 10.5 MB/s eta 0:00:01\r",
      "\u001b[K     |█████████████████████▎          | 5.6 MB 10.5 MB/s eta 0:00:01\r",
      "\u001b[K     |█████████████████████▍          | 5.6 MB 10.5 MB/s eta 0:00:01\r",
      "\u001b[K     |█████████████████████▍          | 5.6 MB 10.5 MB/s eta 0:00:01\r",
      "\u001b[K     |█████████████████████▍          | 5.6 MB 10.5 MB/s eta 0:00:01\r",
      "\u001b[K     |█████████████████████▌          | 5.6 MB 10.5 MB/s eta 0:00:01\r",
      "\u001b[K     |█████████████████████▌          | 5.6 MB 10.5 MB/s eta 0:00:01\r",
      "\u001b[K     |█████████████████████▌          | 5.7 MB 10.5 MB/s eta 0:00:01\r",
      "\u001b[K     |█████████████████████▋          | 5.7 MB 10.5 MB/s eta 0:00:01\r",
      "\u001b[K     |█████████████████████▋          | 5.7 MB 10.5 MB/s eta 0:00:01\r",
      "\u001b[K     |█████████████████████▋          | 5.7 MB 10.5 MB/s eta 0:00:01\r",
      "\u001b[K     |█████████████████████▊          | 5.7 MB 10.5 MB/s eta 0:00:01\r",
      "\u001b[K     |█████████████████████▊          | 5.7 MB 10.5 MB/s eta 0:00:01\r",
      "\u001b[K     |█████████████████████▊          | 5.7 MB 10.5 MB/s eta 0:00:01\r",
      "\u001b[K     |█████████████████████▉          | 5.7 MB 10.5 MB/s eta 0:00:01\r",
      "\u001b[K     |█████████████████████▉          | 5.7 MB 10.5 MB/s eta 0:00:01\r",
      "\u001b[K     |█████████████████████▉          | 5.7 MB 10.5 MB/s eta 0:00:01\r",
      "\u001b[K     |██████████████████████          | 5.8 MB 10.5 MB/s eta 0:00:01\r",
      "\u001b[K     |██████████████████████          | 5.8 MB 10.5 MB/s eta 0:00:01\r",
      "\u001b[K     |██████████████████████          | 5.8 MB 10.5 MB/s eta 0:00:01\r",
      "\u001b[K     |██████████████████████          | 5.8 MB 10.5 MB/s eta 0:00:01\r",
      "\u001b[K     |██████████████████████          | 5.8 MB 10.5 MB/s eta 0:00:01\r",
      "\u001b[K     |██████████████████████▏         | 5.8 MB 10.5 MB/s eta 0:00:01\r",
      "\u001b[K     |██████████████████████▏         | 5.8 MB 10.5 MB/s eta 0:00:01\r",
      "\u001b[K     |██████████████████████▏         | 5.8 MB 10.5 MB/s eta 0:00:01\r",
      "\u001b[K     |██████████████████████▎         | 5.8 MB 10.5 MB/s eta 0:00:01\r",
      "\u001b[K     |██████████████████████▎         | 5.8 MB 10.5 MB/s eta 0:00:01\r",
      "\u001b[K     |██████████████████████▎         | 5.9 MB 10.5 MB/s eta 0:00:01\r",
      "\u001b[K     |██████████████████████▍         | 5.9 MB 10.5 MB/s eta 0:00:01\r",
      "\u001b[K     |██████████████████████▍         | 5.9 MB 10.5 MB/s eta 0:00:01\r",
      "\u001b[K     |██████████████████████▍         | 5.9 MB 10.5 MB/s eta 0:00:01\r",
      "\u001b[K     |██████████████████████▌         | 5.9 MB 10.5 MB/s eta 0:00:01\r",
      "\u001b[K     |██████████████████████▌         | 5.9 MB 10.5 MB/s eta 0:00:01\r",
      "\u001b[K     |██████████████████████▌         | 5.9 MB 10.5 MB/s eta 0:00:01\r",
      "\u001b[K     |██████████████████████▋         | 5.9 MB 10.5 MB/s eta 0:00:01\r",
      "\u001b[K     |██████████████████████▋         | 5.9 MB 10.5 MB/s eta 0:00:01\r",
      "\u001b[K     |██████████████████████▋         | 5.9 MB 10.5 MB/s eta 0:00:01\r",
      "\u001b[K     |██████████████████████▊         | 6.0 MB 10.5 MB/s eta 0:00:01\r",
      "\u001b[K     |██████████████████████▊         | 6.0 MB 10.5 MB/s eta 0:00:01\r",
      "\u001b[K     |██████████████████████▉         | 6.0 MB 10.5 MB/s eta 0:00:01\r",
      "\u001b[K     |██████████████████████▉         | 6.0 MB 10.5 MB/s eta 0:00:01\r",
      "\u001b[K     |██████████████████████▉         | 6.0 MB 10.5 MB/s eta 0:00:01\r",
      "\u001b[K     |███████████████████████         | 6.0 MB 10.5 MB/s eta 0:00:01\r",
      "\u001b[K     |███████████████████████         | 6.0 MB 10.5 MB/s eta 0:00:01\r",
      "\u001b[K     |███████████████████████         | 6.0 MB 10.5 MB/s eta 0:00:01\r",
      "\u001b[K     |███████████████████████         | 6.0 MB 10.5 MB/s eta 0:00:01\r",
      "\u001b[K     |███████████████████████         | 6.1 MB 10.5 MB/s eta 0:00:01\r",
      "\u001b[K     |███████████████████████         | 6.1 MB 10.5 MB/s eta 0:00:01\r",
      "\u001b[K     |███████████████████████▏        | 6.1 MB 10.5 MB/s eta 0:00:01\r",
      "\u001b[K     |███████████████████████▏        | 6.1 MB 10.5 MB/s eta 0:00:01\r",
      "\u001b[K     |███████████████████████▏        | 6.1 MB 10.5 MB/s eta 0:00:01\r",
      "\u001b[K     |███████████████████████▎        | 6.1 MB 10.5 MB/s eta 0:00:01\r",
      "\u001b[K     |███████████████████████▎        | 6.1 MB 10.5 MB/s eta 0:00:01\r",
      "\u001b[K     |███████████████████████▎        | 6.1 MB 10.5 MB/s eta 0:00:01\r",
      "\u001b[K     |███████████████████████▍        | 6.1 MB 10.5 MB/s eta 0:00:01\r",
      "\u001b[K     |███████████████████████▍        | 6.1 MB 10.5 MB/s eta 0:00:01\r",
      "\u001b[K     |███████████████████████▍        | 6.2 MB 10.5 MB/s eta 0:00:01\r",
      "\u001b[K     |███████████████████████▌        | 6.2 MB 10.5 MB/s eta 0:00:01\r",
      "\u001b[K     |███████████████████████▌        | 6.2 MB 10.5 MB/s eta 0:00:01\r",
      "\u001b[K     |███████████████████████▋        | 6.2 MB 10.5 MB/s eta 0:00:01\r",
      "\u001b[K     |███████████████████████▋        | 6.2 MB 10.5 MB/s eta 0:00:01\r",
      "\u001b[K     |███████████████████████▋        | 6.2 MB 10.5 MB/s eta 0:00:01\r",
      "\u001b[K     |███████████████████████▊        | 6.2 MB 10.5 MB/s eta 0:00:01\r",
      "\u001b[K     |███████████████████████▊        | 6.2 MB 10.5 MB/s eta 0:00:01\r",
      "\u001b[K     |███████████████████████▊        | 6.2 MB 10.5 MB/s eta 0:00:01\r",
      "\u001b[K     |███████████████████████▉        | 6.2 MB 10.5 MB/s eta 0:00:01\r",
      "\u001b[K     |███████████████████████▉        | 6.3 MB 10.5 MB/s eta 0:00:01\r",
      "\u001b[K     |███████████████████████▉        | 6.3 MB 10.5 MB/s eta 0:00:01\r",
      "\u001b[K     |████████████████████████        | 6.3 MB 10.5 MB/s eta 0:00:01\r",
      "\u001b[K     |████████████████████████        | 6.3 MB 10.5 MB/s eta 0:00:01\r",
      "\u001b[K     |████████████████████████        | 6.3 MB 10.5 MB/s eta 0:00:01\r",
      "\u001b[K     |████████████████████████        | 6.3 MB 10.5 MB/s eta 0:00:01\r",
      "\u001b[K     |████████████████████████        | 6.3 MB 10.5 MB/s eta 0:00:01\r",
      "\u001b[K     |████████████████████████        | 6.3 MB 10.5 MB/s eta 0:00:01\r",
      "\u001b[K     |████████████████████████▏       | 6.3 MB 10.5 MB/s eta 0:00:01\r",
      "\u001b[K     |████████████████████████▏       | 6.3 MB 10.5 MB/s eta 0:00:01\r",
      "\u001b[K     |████████████████████████▎       | 6.4 MB 10.5 MB/s eta 0:00:01\r",
      "\u001b[K     |████████████████████████▎       | 6.4 MB 10.5 MB/s eta 0:00:01\r",
      "\u001b[K     |████████████████████████▎       | 6.4 MB 10.5 MB/s eta 0:00:01\r",
      "\u001b[K     |████████████████████████▍       | 6.4 MB 10.5 MB/s eta 0:00:01\r",
      "\u001b[K     |████████████████████████▍       | 6.4 MB 10.5 MB/s eta 0:00:01\r",
      "\u001b[K     |████████████████████████▍       | 6.4 MB 10.5 MB/s eta 0:00:01\r",
      "\u001b[K     |████████████████████████▌       | 6.4 MB 10.5 MB/s eta 0:00:01\r",
      "\u001b[K     |████████████████████████▌       | 6.4 MB 10.5 MB/s eta 0:00:01\r",
      "\u001b[K     |████████████████████████▌       | 6.4 MB 10.5 MB/s eta 0:00:01\r",
      "\u001b[K     |████████████████████████▋       | 6.5 MB 10.5 MB/s eta 0:00:01\r",
      "\u001b[K     |████████████████████████▋       | 6.5 MB 10.5 MB/s eta 0:00:01\r",
      "\u001b[K     |████████████████████████▋       | 6.5 MB 10.5 MB/s eta 0:00:01\r",
      "\u001b[K     |████████████████████████▊       | 6.5 MB 10.5 MB/s eta 0:00:01\r",
      "\u001b[K     |████████████████████████▊       | 6.5 MB 10.5 MB/s eta 0:00:01\r",
      "\u001b[K     |████████████████████████▊       | 6.5 MB 10.5 MB/s eta 0:00:01\r",
      "\u001b[K     |████████████████████████▉       | 6.5 MB 10.5 MB/s eta 0:00:01\r",
      "\u001b[K     |████████████████████████▉       | 6.5 MB 10.5 MB/s eta 0:00:01\r",
      "\u001b[K     |████████████████████████▉       | 6.5 MB 10.5 MB/s eta 0:00:01\r",
      "\u001b[K     |█████████████████████████       | 6.5 MB 10.5 MB/s eta 0:00:01\r",
      "\u001b[K     |█████████████████████████       | 6.6 MB 10.5 MB/s eta 0:00:01\r",
      "\u001b[K     |█████████████████████████       | 6.6 MB 10.5 MB/s eta 0:00:01\r",
      "\u001b[K     |█████████████████████████       | 6.6 MB 10.5 MB/s eta 0:00:01\r",
      "\u001b[K     |█████████████████████████       | 6.6 MB 10.5 MB/s eta 0:00:01\r",
      "\u001b[K     |█████████████████████████▏      | 6.6 MB 10.5 MB/s eta 0:00:01\r",
      "\u001b[K     |█████████████████████████▏      | 6.6 MB 10.5 MB/s eta 0:00:01\r",
      "\u001b[K     |█████████████████████████▏      | 6.6 MB 10.5 MB/s eta 0:00:01\r",
      "\u001b[K     |█████████████████████████▎      | 6.6 MB 10.5 MB/s eta 0:00:01\r",
      "\u001b[K     |█████████████████████████▎      | 6.6 MB 10.5 MB/s eta 0:00:01\r",
      "\u001b[K     |█████████████████████████▎      | 6.6 MB 10.5 MB/s eta 0:00:01\r",
      "\u001b[K     |█████████████████████████▍      | 6.7 MB 10.5 MB/s eta 0:00:01\r",
      "\u001b[K     |█████████████████████████▍      | 6.7 MB 10.5 MB/s eta 0:00:01\r",
      "\u001b[K     |█████████████████████████▍      | 6.7 MB 10.5 MB/s eta 0:00:01\r",
      "\u001b[K     |█████████████████████████▌      | 6.7 MB 10.5 MB/s eta 0:00:01\r",
      "\u001b[K     |█████████████████████████▌      | 6.7 MB 10.5 MB/s eta 0:00:01\r",
      "\u001b[K     |█████████████████████████▌      | 6.7 MB 10.5 MB/s eta 0:00:01\r",
      "\u001b[K     |█████████████████████████▋      | 6.7 MB 10.5 MB/s eta 0:00:01\r",
      "\u001b[K     |█████████████████████████▋      | 6.7 MB 10.5 MB/s eta 0:00:01\r",
      "\u001b[K     |█████████████████████████▋      | 6.7 MB 10.5 MB/s eta 0:00:01\r",
      "\u001b[K     |█████████████████████████▊      | 6.7 MB 10.5 MB/s eta 0:00:01\r",
      "\u001b[K     |█████████████████████████▊      | 6.8 MB 10.5 MB/s eta 0:00:01\r",
      "\u001b[K     |█████████████████████████▉      | 6.8 MB 10.5 MB/s eta 0:00:01\r",
      "\u001b[K     |█████████████████████████▉      | 6.8 MB 10.5 MB/s eta 0:00:01\r",
      "\u001b[K     |█████████████████████████▉      | 6.8 MB 10.5 MB/s eta 0:00:01\r",
      "\u001b[K     |██████████████████████████      | 6.8 MB 10.5 MB/s eta 0:00:01\r",
      "\u001b[K     |██████████████████████████      | 6.8 MB 10.5 MB/s eta 0:00:01\r",
      "\u001b[K     |██████████████████████████      | 6.8 MB 10.5 MB/s eta 0:00:01\r",
      "\u001b[K     |██████████████████████████      | 6.8 MB 10.5 MB/s eta 0:00:01\r",
      "\u001b[K     |██████████████████████████      | 6.8 MB 10.5 MB/s eta 0:00:01\r",
      "\u001b[K     |██████████████████████████      | 6.9 MB 10.5 MB/s eta 0:00:01\r",
      "\u001b[K     |██████████████████████████▏     | 6.9 MB 10.5 MB/s eta 0:00:01\r",
      "\u001b[K     |██████████████████████████▏     | 6.9 MB 10.5 MB/s eta 0:00:01\r",
      "\u001b[K     |██████████████████████████▏     | 6.9 MB 10.5 MB/s eta 0:00:01\r",
      "\u001b[K     |██████████████████████████▎     | 6.9 MB 10.5 MB/s eta 0:00:01\r",
      "\u001b[K     |██████████████████████████▎     | 6.9 MB 10.5 MB/s eta 0:00:01\r",
      "\u001b[K     |██████████████████████████▎     | 6.9 MB 10.5 MB/s eta 0:00:01\r",
      "\u001b[K     |██████████████████████████▍     | 6.9 MB 10.5 MB/s eta 0:00:01\r",
      "\u001b[K     |██████████████████████████▍     | 6.9 MB 10.5 MB/s eta 0:00:01\r",
      "\u001b[K     |██████████████████████████▌     | 6.9 MB 10.5 MB/s eta 0:00:01\r",
      "\u001b[K     |██████████████████████████▌     | 7.0 MB 10.5 MB/s eta 0:00:01\r",
      "\u001b[K     |██████████████████████████▌     | 7.0 MB 10.5 MB/s eta 0:00:01\r",
      "\u001b[K     |██████████████████████████▋     | 7.0 MB 10.5 MB/s eta 0:00:01\r",
      "\u001b[K     |██████████████████████████▋     | 7.0 MB 10.5 MB/s eta 0:00:01\r",
      "\u001b[K     |██████████████████████████▋     | 7.0 MB 10.5 MB/s eta 0:00:01\r",
      "\u001b[K     |██████████████████████████▊     | 7.0 MB 10.5 MB/s eta 0:00:01\r",
      "\u001b[K     |██████████████████████████▊     | 7.0 MB 10.5 MB/s eta 0:00:01\r",
      "\u001b[K     |██████████████████████████▊     | 7.0 MB 10.5 MB/s eta 0:00:01\r",
      "\u001b[K     |██████████████████████████▉     | 7.0 MB 10.5 MB/s eta 0:00:01\r",
      "\u001b[K     |██████████████████████████▉     | 7.0 MB 10.5 MB/s eta 0:00:01\r",
      "\u001b[K     |██████████████████████████▉     | 7.1 MB 10.5 MB/s eta 0:00:01\r",
      "\u001b[K     |███████████████████████████     | 7.1 MB 10.5 MB/s eta 0:00:01\r",
      "\u001b[K     |███████████████████████████     | 7.1 MB 10.5 MB/s eta 0:00:01\r",
      "\u001b[K     |███████████████████████████     | 7.1 MB 10.5 MB/s eta 0:00:01\r",
      "\u001b[K     |███████████████████████████     | 7.1 MB 10.5 MB/s eta 0:00:01\r",
      "\u001b[K     |███████████████████████████     | 7.1 MB 10.5 MB/s eta 0:00:01\r",
      "\u001b[K     |███████████████████████████     | 7.1 MB 10.5 MB/s eta 0:00:01\r",
      "\u001b[K     |███████████████████████████▏    | 7.1 MB 10.5 MB/s eta 0:00:01\r",
      "\u001b[K     |███████████████████████████▏    | 7.1 MB 10.5 MB/s eta 0:00:01\r",
      "\u001b[K     |███████████████████████████▎    | 7.1 MB 10.5 MB/s eta 0:00:01\r",
      "\u001b[K     |███████████████████████████▎    | 7.2 MB 10.5 MB/s eta 0:00:01\r",
      "\u001b[K     |███████████████████████████▎    | 7.2 MB 10.5 MB/s eta 0:00:01\r",
      "\u001b[K     |███████████████████████████▍    | 7.2 MB 10.5 MB/s eta 0:00:01\r",
      "\u001b[K     |███████████████████████████▍    | 7.2 MB 10.5 MB/s eta 0:00:01\r",
      "\u001b[K     |███████████████████████████▍    | 7.2 MB 10.5 MB/s eta 0:00:01\r",
      "\u001b[K     |███████████████████████████▌    | 7.2 MB 10.5 MB/s eta 0:00:01\r",
      "\u001b[K     |███████████████████████████▌    | 7.2 MB 10.5 MB/s eta 0:00:01\r",
      "\u001b[K     |███████████████████████████▌    | 7.2 MB 10.5 MB/s eta 0:00:01\r",
      "\u001b[K     |███████████████████████████▋    | 7.2 MB 10.5 MB/s eta 0:00:01\r",
      "\u001b[K     |███████████████████████████▋    | 7.2 MB 10.5 MB/s eta 0:00:01\r",
      "\u001b[K     |███████████████████████████▋    | 7.3 MB 10.5 MB/s eta 0:00:01\r",
      "\u001b[K     |███████████████████████████▊    | 7.3 MB 10.5 MB/s eta 0:00:01\r",
      "\u001b[K     |███████████████████████████▊    | 7.3 MB 10.5 MB/s eta 0:00:01\r",
      "\u001b[K     |███████████████████████████▊    | 7.3 MB 10.5 MB/s eta 0:00:01\r",
      "\u001b[K     |███████████████████████████▉    | 7.3 MB 10.5 MB/s eta 0:00:01\r",
      "\u001b[K     |███████████████████████████▉    | 7.3 MB 10.5 MB/s eta 0:00:01\r",
      "\u001b[K     |████████████████████████████    | 7.3 MB 10.5 MB/s eta 0:00:01\r",
      "\u001b[K     |████████████████████████████    | 7.3 MB 10.5 MB/s eta 0:00:01\r",
      "\u001b[K     |████████████████████████████    | 7.3 MB 10.5 MB/s eta 0:00:01\r",
      "\u001b[K     |████████████████████████████    | 7.4 MB 10.5 MB/s eta 0:00:01\r",
      "\u001b[K     |████████████████████████████    | 7.4 MB 10.5 MB/s eta 0:00:01\r",
      "\u001b[K     |████████████████████████████    | 7.4 MB 10.5 MB/s eta 0:00:01\r",
      "\u001b[K     |████████████████████████████▏   | 7.4 MB 10.5 MB/s eta 0:00:01\r",
      "\u001b[K     |████████████████████████████▏   | 7.4 MB 10.5 MB/s eta 0:00:01\r",
      "\u001b[K     |████████████████████████████▏   | 7.4 MB 10.5 MB/s eta 0:00:01\r",
      "\u001b[K     |████████████████████████████▎   | 7.4 MB 10.5 MB/s eta 0:00:01\r",
      "\u001b[K     |████████████████████████████▎   | 7.4 MB 10.5 MB/s eta 0:00:01\r",
      "\u001b[K     |████████████████████████████▎   | 7.4 MB 10.5 MB/s eta 0:00:01\r",
      "\u001b[K     |████████████████████████████▍   | 7.4 MB 10.5 MB/s eta 0:00:01\r",
      "\u001b[K     |████████████████████████████▍   | 7.5 MB 10.5 MB/s eta 0:00:01\r",
      "\u001b[K     |████████████████████████████▍   | 7.5 MB 10.5 MB/s eta 0:00:01\r",
      "\u001b[K     |████████████████████████████▌   | 7.5 MB 10.5 MB/s eta 0:00:01\r",
      "\u001b[K     |████████████████████████████▌   | 7.5 MB 10.5 MB/s eta 0:00:01\r",
      "\u001b[K     |████████████████████████████▌   | 7.5 MB 10.5 MB/s eta 0:00:01\r",
      "\u001b[K     |████████████████████████████▋   | 7.5 MB 10.5 MB/s eta 0:00:01\r",
      "\u001b[K     |████████████████████████████▋   | 7.5 MB 10.5 MB/s eta 0:00:01\r",
      "\u001b[K     |████████████████████████████▊   | 7.5 MB 10.5 MB/s eta 0:00:01\r",
      "\u001b[K     |████████████████████████████▊   | 7.5 MB 10.5 MB/s eta 0:00:01\r",
      "\u001b[K     |████████████████████████████▊   | 7.5 MB 10.5 MB/s eta 0:00:01\r",
      "\u001b[K     |████████████████████████████▉   | 7.6 MB 10.5 MB/s eta 0:00:01\r",
      "\u001b[K     |████████████████████████████▉   | 7.6 MB 10.5 MB/s eta 0:00:01\r",
      "\u001b[K     |████████████████████████████▉   | 7.6 MB 10.5 MB/s eta 0:00:01\r",
      "\u001b[K     |█████████████████████████████   | 7.6 MB 10.5 MB/s eta 0:00:01\r",
      "\u001b[K     |█████████████████████████████   | 7.6 MB 10.5 MB/s eta 0:00:01\r",
      "\u001b[K     |█████████████████████████████   | 7.6 MB 10.5 MB/s eta 0:00:01\r",
      "\u001b[K     |█████████████████████████████   | 7.6 MB 10.5 MB/s eta 0:00:01\r",
      "\u001b[K     |█████████████████████████████   | 7.6 MB 10.5 MB/s eta 0:00:01\r",
      "\u001b[K     |█████████████████████████████   | 7.6 MB 10.5 MB/s eta 0:00:01\r",
      "\u001b[K     |█████████████████████████████▏  | 7.6 MB 10.5 MB/s eta 0:00:01\r",
      "\u001b[K     |█████████████████████████████▏  | 7.7 MB 10.5 MB/s eta 0:00:01\r",
      "\u001b[K     |█████████████████████████████▏  | 7.7 MB 10.5 MB/s eta 0:00:01\r",
      "\u001b[K     |█████████████████████████████▎  | 7.7 MB 10.5 MB/s eta 0:00:01\r",
      "\u001b[K     |█████████████████████████████▎  | 7.7 MB 10.5 MB/s eta 0:00:01\r",
      "\u001b[K     |█████████████████████████████▎  | 7.7 MB 10.5 MB/s eta 0:00:01\r",
      "\u001b[K     |█████████████████████████████▍  | 7.7 MB 10.5 MB/s eta 0:00:01\r",
      "\u001b[K     |█████████████████████████████▍  | 7.7 MB 10.5 MB/s eta 0:00:01\r",
      "\u001b[K     |█████████████████████████████▌  | 7.7 MB 10.5 MB/s eta 0:00:01\r",
      "\u001b[K     |█████████████████████████████▌  | 7.7 MB 10.5 MB/s eta 0:00:01\r",
      "\u001b[K     |█████████████████████████████▌  | 7.8 MB 10.5 MB/s eta 0:00:01\r",
      "\u001b[K     |█████████████████████████████▋  | 7.8 MB 10.5 MB/s eta 0:00:01\r",
      "\u001b[K     |█████████████████████████████▋  | 7.8 MB 10.5 MB/s eta 0:00:01\r",
      "\u001b[K     |█████████████████████████████▋  | 7.8 MB 10.5 MB/s eta 0:00:01\r",
      "\u001b[K     |█████████████████████████████▊  | 7.8 MB 10.5 MB/s eta 0:00:01\r",
      "\u001b[K     |█████████████████████████████▊  | 7.8 MB 10.5 MB/s eta 0:00:01\r",
      "\u001b[K     |█████████████████████████████▊  | 7.8 MB 10.5 MB/s eta 0:00:01\r",
      "\u001b[K     |█████████████████████████████▉  | 7.8 MB 10.5 MB/s eta 0:00:01\r",
      "\u001b[K     |█████████████████████████████▉  | 7.8 MB 10.5 MB/s eta 0:00:01\r",
      "\u001b[K     |█████████████████████████████▉  | 7.8 MB 10.5 MB/s eta 0:00:01\r",
      "\u001b[K     |██████████████████████████████  | 7.9 MB 10.5 MB/s eta 0:00:01\r",
      "\u001b[K     |██████████████████████████████  | 7.9 MB 10.5 MB/s eta 0:00:01\r",
      "\u001b[K     |██████████████████████████████  | 7.9 MB 10.5 MB/s eta 0:00:01\r",
      "\u001b[K     |██████████████████████████████  | 7.9 MB 10.5 MB/s eta 0:00:01\r",
      "\u001b[K     |██████████████████████████████  | 7.9 MB 10.5 MB/s eta 0:00:01\r",
      "\u001b[K     |██████████████████████████████▏ | 7.9 MB 10.5 MB/s eta 0:00:01\r",
      "\u001b[K     |██████████████████████████████▏ | 7.9 MB 10.5 MB/s eta 0:00:01\r",
      "\u001b[K     |██████████████████████████████▏ | 7.9 MB 10.5 MB/s eta 0:00:01\r",
      "\u001b[K     |██████████████████████████████▎ | 7.9 MB 10.5 MB/s eta 0:00:01\r",
      "\u001b[K     |██████████████████████████████▎ | 7.9 MB 10.5 MB/s eta 0:00:01\r",
      "\u001b[K     |██████████████████████████████▎ | 8.0 MB 10.5 MB/s eta 0:00:01\r",
      "\u001b[K     |██████████████████████████████▍ | 8.0 MB 10.5 MB/s eta 0:00:01\r",
      "\u001b[K     |██████████████████████████████▍ | 8.0 MB 10.5 MB/s eta 0:00:01\r",
      "\u001b[K     |██████████████████████████████▍ | 8.0 MB 10.5 MB/s eta 0:00:01\r",
      "\u001b[K     |██████████████████████████████▌ | 8.0 MB 10.5 MB/s eta 0:00:01\r",
      "\u001b[K     |██████████████████████████████▌ | 8.0 MB 10.5 MB/s eta 0:00:01\r",
      "\u001b[K     |██████████████████████████████▌ | 8.0 MB 10.5 MB/s eta 0:00:01\r",
      "\u001b[K     |██████████████████████████████▋ | 8.0 MB 10.5 MB/s eta 0:00:01\r",
      "\u001b[K     |██████████████████████████████▋ | 8.0 MB 10.5 MB/s eta 0:00:01\r",
      "\u001b[K     |██████████████████████████████▋ | 8.0 MB 10.5 MB/s eta 0:00:01\r",
      "\u001b[K     |██████████████████████████████▊ | 8.1 MB 10.5 MB/s eta 0:00:01\r",
      "\u001b[K     |██████████████████████████████▊ | 8.1 MB 10.5 MB/s eta 0:00:01\r",
      "\u001b[K     |██████████████████████████████▊ | 8.1 MB 10.5 MB/s eta 0:00:01\r",
      "\u001b[K     |██████████████████████████████▉ | 8.1 MB 10.5 MB/s eta 0:00:01\r",
      "\u001b[K     |██████████████████████████████▉ | 8.1 MB 10.5 MB/s eta 0:00:01\r",
      "\u001b[K     |███████████████████████████████ | 8.1 MB 10.5 MB/s eta 0:00:01\r",
      "\u001b[K     |███████████████████████████████ | 8.1 MB 10.5 MB/s eta 0:00:01\r",
      "\u001b[K     |███████████████████████████████ | 8.1 MB 10.5 MB/s eta 0:00:01\r",
      "\u001b[K     |███████████████████████████████ | 8.1 MB 10.5 MB/s eta 0:00:01\r",
      "\u001b[K     |███████████████████████████████ | 8.2 MB 10.5 MB/s eta 0:00:01\r",
      "\u001b[K     |███████████████████████████████ | 8.2 MB 10.5 MB/s eta 0:00:01\r",
      "\u001b[K     |███████████████████████████████▏| 8.2 MB 10.5 MB/s eta 0:00:01\r",
      "\u001b[K     |███████████████████████████████▏| 8.2 MB 10.5 MB/s eta 0:00:01\r",
      "\u001b[K     |███████████████████████████████▏| 8.2 MB 10.5 MB/s eta 0:00:01\r",
      "\u001b[K     |███████████████████████████████▎| 8.2 MB 10.5 MB/s eta 0:00:01\r",
      "\u001b[K     |███████████████████████████████▎| 8.2 MB 10.5 MB/s eta 0:00:01\r",
      "\u001b[K     |███████████████████████████████▎| 8.2 MB 10.5 MB/s eta 0:00:01\r",
      "\u001b[K     |███████████████████████████████▍| 8.2 MB 10.5 MB/s eta 0:00:01\r",
      "\u001b[K     |███████████████████████████████▍| 8.2 MB 10.5 MB/s eta 0:00:01\r",
      "\u001b[K     |███████████████████████████████▍| 8.3 MB 10.5 MB/s eta 0:00:01\r",
      "\u001b[K     |███████████████████████████████▌| 8.3 MB 10.5 MB/s eta 0:00:01\r",
      "\u001b[K     |███████████████████████████████▌| 8.3 MB 10.5 MB/s eta 0:00:01\r",
      "\u001b[K     |███████████████████████████████▋| 8.3 MB 10.5 MB/s eta 0:00:01\r",
      "\u001b[K     |███████████████████████████████▋| 8.3 MB 10.5 MB/s eta 0:00:01\r",
      "\u001b[K     |███████████████████████████████▋| 8.3 MB 10.5 MB/s eta 0:00:01\r",
      "\u001b[K     |███████████████████████████████▊| 8.3 MB 10.5 MB/s eta 0:00:01\r",
      "\u001b[K     |███████████████████████████████▊| 8.3 MB 10.5 MB/s eta 0:00:01\r",
      "\u001b[K     |███████████████████████████████▊| 8.3 MB 10.5 MB/s eta 0:00:01\r",
      "\u001b[K     |███████████████████████████████▉| 8.3 MB 10.5 MB/s eta 0:00:01\r",
      "\u001b[K     |███████████████████████████████▉| 8.4 MB 10.5 MB/s eta 0:00:01\r",
      "\u001b[K     |███████████████████████████████▉| 8.4 MB 10.5 MB/s eta 0:00:01\r",
      "\u001b[K     |████████████████████████████████| 8.4 MB 10.5 MB/s eta 0:00:01\r",
      "\u001b[K     |████████████████████████████████| 8.4 MB 10.5 MB/s eta 0:00:01\r",
      "\u001b[K     |████████████████████████████████| 8.4 MB 10.5 MB/s eta 0:00:01\r",
      "\u001b[K     |████████████████████████████████| 8.4 MB 10.5 MB/s \n",
      "\u001b[?25hInstalling collected packages: faiss-cpu\n",
      "Successfully installed faiss-cpu-1.7.1.post2\n"
     ]
    }
   ],
   "source": [
    "!pip install faiss-cpu --no-cache"
   ]
  },
  {
   "cell_type": "code",
   "execution_count": null,
   "metadata": {
    "colab": {
     "base_uri": "https://localhost:8080/",
     "height": 16
    },
    "id": "TdfYBCZDwRpa",
    "outputId": "f7558583-1a12-4f92-ed17-b38c3ade6301"
   },
   "outputs": [
    {
     "data": {
      "text/html": [
       "\n",
       "  <style>\n",
       "    pre {\n",
       "        white-space: pre-wrap;\n",
       "    }\n",
       "  </style>\n",
       "  "
      ],
      "text/plain": [
       "<IPython.core.display.HTML object>"
      ]
     },
     "metadata": {},
     "output_type": "display_data"
    }
   ],
   "source": [
    "from pyserini.search import SimpleSearcher"
   ]
  },
  {
   "cell_type": "code",
   "execution_count": null,
   "metadata": {
    "colab": {
     "base_uri": "https://localhost:8080/",
     "height": 164
    },
    "id": "s8SrUomWwJO7",
    "outputId": "68b542f7-ac25-4194-916a-36e991f890e8"
   },
   "outputs": [
    {
     "data": {
      "text/html": [
       "\n",
       "  <style>\n",
       "    pre {\n",
       "        white-space: pre-wrap;\n",
       "    }\n",
       "  </style>\n",
       "  "
      ],
      "text/plain": [
       "<IPython.core.display.HTML object>"
      ]
     },
     "metadata": {},
     "output_type": "display_data"
    },
    {
     "name": "stdout",
     "output_type": "stream",
     "text": [
      "\n",
      "Generating training set...\n",
      "\n",
      "Generating validation set...\n",
      "\n",
      "Generating test set...\n",
      "\n",
      "Done. The pickle files are saved in /content/drive/My Drive/FinBERT-QA/data/data_pickle\n"
     ]
    }
   ],
   "source": [
    "!python3 src/generate_data-Copy1.py --query_path data/raw/FiQA_train_question_final.tsv \\\n",
    "                             --label_path data/raw/FiQA_train_question_doc_final.tsv"
   ]
  },
  {
   "cell_type": "code",
   "execution_count": null,
   "metadata": {
    "colab": {
     "base_uri": "https://localhost:8080/",
     "height": 16
    },
    "id": "BMKZyF9zdzw3",
    "outputId": "0a50de5e-41a8-4552-ddfd-89538513f519"
   },
   "outputs": [
    {
     "data": {
      "text/html": [
       "\n",
       "  <style>\n",
       "    pre {\n",
       "        white-space: pre-wrap;\n",
       "    }\n",
       "  </style>\n",
       "  "
      ],
      "text/plain": [
       "<IPython.core.display.HTML object>"
      ]
     },
     "metadata": {},
     "output_type": "display_data"
    }
   ],
   "source": [
    "# Collection of answers - docid, text\n",
    "collection = pd.read_csv(\"/content/drive/MyDrive/FinBERT-QA/retriever/answer_collection.tsv\", sep=\"\\t\", header=None)\n",
    "collection = collection.rename(columns={0: 'docid', 1: 'doc'})\n",
    "# Questions - qid, text\n",
    "query_df = pd.read_csv(\"/content/drive/MyDrive/FinBERT-QA/data/raw/FiQA_train_question_final.tsv\", sep=\"\\t\")\n",
    "queries = query_df[['qid', 'question']]\n",
    "\n",
    "# List of empty docs\n",
    "empty_docs = load_pickle('data/id_to_text/empty_docs.pickle')\n",
    "\n",
    "# docid to text mapping\n",
    "docid_to_text = load_pickle('data/id_to_text/docid_to_text.pickle')\n",
    "# qid to text mapping\n",
    "qid_to_text = load_pickle('data/id_to_text/qid_to_text.pickle')"
   ]
  },
  {
   "cell_type": "code",
   "execution_count": null,
   "metadata": {
    "colab": {
     "base_uri": "https://localhost:8080/",
     "height": 16
    },
    "id": "7-rNWqp1dsgC",
    "outputId": "91687600-ebbe-483d-b039-8b2ba5485e0c"
   },
   "outputs": [
    {
     "data": {
      "text/html": [
       "\n",
       "  <style>\n",
       "    pre {\n",
       "        white-space: pre-wrap;\n",
       "    }\n",
       "  </style>\n",
       "  "
      ],
      "text/plain": [
       "<IPython.core.display.HTML object>"
      ]
     },
     "metadata": {},
     "output_type": "display_data"
    }
   ],
   "source": [
    "# Load and process dataset\n",
    "dataset = pd.read_csv(\"/content/drive/MyDrive/FinBERT-QA/data/raw/FiQA_train_question_doc_final.tsv\", sep=\"\\t\")\n",
    "dataset = dataset[[\"qid\", \"docid\"]]\n",
    "dataset = dataset[~dataset['docid'].isin(empty_docs)]\n",
    "dataset['question'] = dataset['qid'].apply(lambda x: qid_to_text[x])\n",
    "dataset['answer'] = dataset['docid'].apply(lambda x: docid_to_text[x])"
   ]
  },
  {
   "cell_type": "code",
   "execution_count": null,
   "metadata": {
    "colab": {
     "base_uri": "https://localhost:8080/",
     "height": 206
    },
    "id": "YOv_l1hIoqtK",
    "outputId": "b62da537-0fd8-435e-987d-0e6275b9a03a"
   },
   "outputs": [
    {
     "data": {
      "text/html": [
       "\n",
       "  <style>\n",
       "    pre {\n",
       "        white-space: pre-wrap;\n",
       "    }\n",
       "  </style>\n",
       "  "
      ],
      "text/plain": [
       "<IPython.core.display.HTML object>"
      ]
     },
     "metadata": {},
     "output_type": "display_data"
    },
    {
     "data": {
      "text/html": [
       "<div>\n",
       "<style scoped>\n",
       "    .dataframe tbody tr th:only-of-type {\n",
       "        vertical-align: middle;\n",
       "    }\n",
       "\n",
       "    .dataframe tbody tr th {\n",
       "        vertical-align: top;\n",
       "    }\n",
       "\n",
       "    .dataframe thead th {\n",
       "        text-align: right;\n",
       "    }\n",
       "</style>\n",
       "<table border=\"1\" class=\"dataframe\">\n",
       "  <thead>\n",
       "    <tr style=\"text-align: right;\">\n",
       "      <th></th>\n",
       "      <th>qid</th>\n",
       "      <th>docid</th>\n",
       "      <th>question</th>\n",
       "      <th>answer</th>\n",
       "    </tr>\n",
       "  </thead>\n",
       "  <tbody>\n",
       "    <tr>\n",
       "      <th>0</th>\n",
       "      <td>0</td>\n",
       "      <td>18850</td>\n",
       "      <td>What is considered a business expense on a bus...</td>\n",
       "      <td>The IRS Guidance pertaining to the subject.  I...</td>\n",
       "    </tr>\n",
       "    <tr>\n",
       "      <th>1</th>\n",
       "      <td>1</td>\n",
       "      <td>14255</td>\n",
       "      <td>Claiming business expenses for a business with...</td>\n",
       "      <td>Yes you can claim your business deductions if ...</td>\n",
       "    </tr>\n",
       "    <tr>\n",
       "      <th>2</th>\n",
       "      <td>2</td>\n",
       "      <td>308938</td>\n",
       "      <td>Transferring money from One business checking ...</td>\n",
       "      <td>You should have separate files for each of the...</td>\n",
       "    </tr>\n",
       "    <tr>\n",
       "      <th>3</th>\n",
       "      <td>3</td>\n",
       "      <td>296717</td>\n",
       "      <td>Having a separate bank account for business/in...</td>\n",
       "      <td>Having a separate checking account for the bus...</td>\n",
       "    </tr>\n",
       "    <tr>\n",
       "      <th>4</th>\n",
       "      <td>3</td>\n",
       "      <td>100764</td>\n",
       "      <td>Having a separate bank account for business/in...</td>\n",
       "      <td>You don't specify which country you are in, so...</td>\n",
       "    </tr>\n",
       "  </tbody>\n",
       "</table>\n",
       "</div>"
      ],
      "text/plain": [
       "   qid  ...                                             answer\n",
       "0    0  ...  The IRS Guidance pertaining to the subject.  I...\n",
       "1    1  ...  Yes you can claim your business deductions if ...\n",
       "2    2  ...  You should have separate files for each of the...\n",
       "3    3  ...  Having a separate checking account for the bus...\n",
       "4    3  ...  You don't specify which country you are in, so...\n",
       "\n",
       "[5 rows x 4 columns]"
      ]
     },
     "execution_count": 24,
     "metadata": {},
     "output_type": "execute_result"
    }
   ],
   "source": [
    "dataset.head(5)"
   ]
  },
  {
   "cell_type": "code",
   "execution_count": null,
   "metadata": {
    "colab": {
     "base_uri": "https://localhost:8080/",
     "height": 220
    },
    "id": "sx7NcmvmiBhK",
    "outputId": "265c4eeb-3f57-4008-da66-40de5f521d6f"
   },
   "outputs": [
    {
     "data": {
      "text/html": [
       "\n",
       "  <style>\n",
       "    pre {\n",
       "        white-space: pre-wrap;\n",
       "    }\n",
       "  </style>\n",
       "  "
      ],
      "text/plain": [
       "<IPython.core.display.HTML object>"
      ]
     },
     "metadata": {},
     "output_type": "display_data"
    },
    {
     "name": "stdout",
     "output_type": "stream",
     "text": [
      "<class 'pandas.core.frame.DataFrame'>\n",
      "Int64Index: 17072 entries, 0 to 17109\n",
      "Data columns (total 4 columns):\n",
      " #   Column    Non-Null Count  Dtype \n",
      "---  ------    --------------  ----- \n",
      " 0   qid       17072 non-null  int64 \n",
      " 1   docid     17072 non-null  int64 \n",
      " 2   question  17072 non-null  object\n",
      " 3   answer    17072 non-null  object\n",
      "dtypes: int64(2), object(2)\n",
      "memory usage: 666.9+ KB\n"
     ]
    }
   ],
   "source": [
    "dataset.info()"
   ]
  },
  {
   "cell_type": "code",
   "execution_count": null,
   "metadata": {
    "colab": {
     "base_uri": "https://localhost:8080/",
     "height": 16
    },
    "id": "AF8OzCLfps7s",
    "outputId": "58dedad2-1b7b-4f8b-f8cf-4313f88e61a6"
   },
   "outputs": [
    {
     "data": {
      "text/html": [
       "\n",
       "  <style>\n",
       "    pre {\n",
       "        white-space: pre-wrap;\n",
       "    }\n",
       "  </style>\n",
       "  "
      ],
      "text/plain": [
       "<IPython.core.display.HTML object>"
      ]
     },
     "metadata": {},
     "output_type": "display_data"
    }
   ],
   "source": [
    "def add_ques_token(string):\n",
    "    question = string + \" [SEP] \"\n",
    "    return question"
   ]
  },
  {
   "cell_type": "code",
   "execution_count": null,
   "metadata": {
    "colab": {
     "base_uri": "https://localhost:8080/",
     "height": 146
    },
    "id": "f4-4w4xowyM9",
    "outputId": "5c7c942c-34c2-4166-fdbe-0a30323ce05d"
   },
   "outputs": [
    {
     "data": {
      "text/html": [
       "\n",
       "  <style>\n",
       "    pre {\n",
       "        white-space: pre-wrap;\n",
       "    }\n",
       "  </style>\n",
       "  "
      ],
      "text/plain": [
       "<IPython.core.display.HTML object>"
      ]
     },
     "metadata": {},
     "output_type": "display_data"
    },
    {
     "data": {
      "text/html": [
       "<div>\n",
       "<style scoped>\n",
       "    .dataframe tbody tr th:only-of-type {\n",
       "        vertical-align: middle;\n",
       "    }\n",
       "\n",
       "    .dataframe tbody tr th {\n",
       "        vertical-align: top;\n",
       "    }\n",
       "\n",
       "    .dataframe thead th {\n",
       "        text-align: right;\n",
       "    }\n",
       "</style>\n",
       "<table border=\"1\" class=\"dataframe\">\n",
       "  <thead>\n",
       "    <tr style=\"text-align: right;\">\n",
       "      <th></th>\n",
       "      <th>qid</th>\n",
       "      <th>docid</th>\n",
       "      <th>question</th>\n",
       "      <th>answer</th>\n",
       "      <th>seq</th>\n",
       "    </tr>\n",
       "  </thead>\n",
       "  <tbody>\n",
       "    <tr>\n",
       "      <th>0</th>\n",
       "      <td>0</td>\n",
       "      <td>18850</td>\n",
       "      <td>What is considered a business expense on a bus...</td>\n",
       "      <td>The IRS Guidance pertaining to the subject.  I...</td>\n",
       "      <td>What is considered a business expense on a bus...</td>\n",
       "    </tr>\n",
       "    <tr>\n",
       "      <th>1</th>\n",
       "      <td>1</td>\n",
       "      <td>14255</td>\n",
       "      <td>Claiming business expenses for a business with...</td>\n",
       "      <td>Yes you can claim your business deductions if ...</td>\n",
       "      <td>Claiming business expenses for a business with...</td>\n",
       "    </tr>\n",
       "  </tbody>\n",
       "</table>\n",
       "</div>"
      ],
      "text/plain": [
       "   qid  ...                                                seq\n",
       "0    0  ...  What is considered a business expense on a bus...\n",
       "1    1  ...  Claiming business expenses for a business with...\n",
       "\n",
       "[2 rows x 5 columns]"
      ]
     },
     "execution_count": 27,
     "metadata": {},
     "output_type": "execute_result"
    }
   ],
   "source": [
    "# Concatenate question and answer with a separator\n",
    "dataset['question'] = dataset['question'].apply(add_ques_token)\n",
    "dataset['seq'] = dataset['question'] + dataset['answer']\n",
    "dataset.head(2)"
   ]
  },
  {
   "cell_type": "code",
   "execution_count": null,
   "metadata": {
    "colab": {
     "base_uri": "https://localhost:8080/",
     "height": 146
    },
    "id": "Y7reZ8JZddnB",
    "outputId": "15857d9a-e22e-4c30-91f1-7c6d5ab8b541"
   },
   "outputs": [
    {
     "data": {
      "text/html": [
       "\n",
       "  <style>\n",
       "    pre {\n",
       "        white-space: pre-wrap;\n",
       "    }\n",
       "  </style>\n",
       "  "
      ],
      "text/plain": [
       "<IPython.core.display.HTML object>"
      ]
     },
     "metadata": {},
     "output_type": "display_data"
    },
    {
     "data": {
      "application/vnd.google.colaboratory.intrinsic+json": {
       "type": "string"
      },
      "text/plain": [
       "'How do you save money on clothes and shoes for your family? [SEP] I look ahead for sizes.  I was at the thrift store and saw a good condition, good brand winter coat that will likely fit my daughter next year, so I bought it.  I also bought a snowsuit my baby can wear when he\\'s 6 months (~5 months pregnant now).  When it starts getting cold next fall, I\\'ll be set, rather than wasting time and money running around town trying to find winter gear.  This applies for any regular stores you visit (Costco, thrift stores, kids resale stores, etc): look for clearance/discounted kids clothes in the next few sizes up, even off-season.   This works especially well for basics you need lots of (PJs, socks, etc) and more expensive things where you don\\'t want to be desperate when shopping for them. You\\'re always \"buying low.\"'"
      ]
     },
     "execution_count": 28,
     "metadata": {},
     "output_type": "execute_result"
    }
   ],
   "source": [
    "fiqa_pair_df = dataset[['seq']]\n",
    "\n",
    "fiqa_pair_df.at[17079, \"seq\"]"
   ]
  },
  {
   "cell_type": "code",
   "execution_count": null,
   "metadata": {
    "colab": {
     "base_uri": "https://localhost:8080/",
     "height": 164
    },
    "id": "ZypI_KKAieLR",
    "outputId": "25ae18aa-1864-48ef-edc2-d86b5e738031"
   },
   "outputs": [
    {
     "data": {
      "text/html": [
       "\n",
       "  <style>\n",
       "    pre {\n",
       "        white-space: pre-wrap;\n",
       "    }\n",
       "  </style>\n",
       "  "
      ],
      "text/plain": [
       "<IPython.core.display.HTML object>"
      ]
     },
     "metadata": {},
     "output_type": "display_data"
    },
    {
     "name": "stdout",
     "output_type": "stream",
     "text": [
      "<class 'pandas.core.frame.DataFrame'>\n",
      "Int64Index: 17072 entries, 0 to 17109\n",
      "Data columns (total 1 columns):\n",
      " #   Column  Non-Null Count  Dtype \n",
      "---  ------  --------------  ----- \n",
      " 0   seq     17072 non-null  object\n",
      "dtypes: object(1)\n",
      "memory usage: 906.8+ KB\n"
     ]
    }
   ],
   "source": [
    "fiqa_pair_df.info()"
   ]
  },
  {
   "cell_type": "code",
   "execution_count": null,
   "metadata": {
    "colab": {
     "base_uri": "https://localhost:8080/",
     "height": 35
    },
    "id": "t_R09lT5CTPB",
    "outputId": "c3f1f44c-245a-46be-d190-9db240f665e9"
   },
   "outputs": [
    {
     "data": {
      "text/html": [
       "\n",
       "  <style>\n",
       "    pre {\n",
       "        white-space: pre-wrap;\n",
       "    }\n",
       "  </style>\n",
       "  "
      ],
      "text/plain": [
       "<IPython.core.display.HTML object>"
      ]
     },
     "metadata": {},
     "output_type": "display_data"
    },
    {
     "name": "stdout",
     "output_type": "stream",
     "text": [
      "/content/drive/MyDrive/FinLitQA/FiQA\n"
     ]
    }
   ],
   "source": [
    "%cd /content/drive/MyDrive/FinLitQA/FiQA"
   ]
  },
  {
   "cell_type": "markdown",
   "metadata": {
    "id": "BCYUw7VV4805"
   },
   "source": [
    "Create Train, Validation split from fiqa_pair_df dataset"
   ]
  },
  {
   "cell_type": "code",
   "execution_count": null,
   "metadata": {
    "colab": {
     "base_uri": "https://localhost:8080/",
     "height": 16
    },
    "id": "DKpBHUMV8BwE",
    "outputId": "55cbcfd7-752c-4a0d-a72a-8fd63001b90f"
   },
   "outputs": [
    {
     "data": {
      "text/html": [
       "\n",
       "  <style>\n",
       "    pre {\n",
       "        white-space: pre-wrap;\n",
       "    }\n",
       "  </style>\n",
       "  "
      ],
      "text/plain": [
       "<IPython.core.display.HTML object>"
      ]
     },
     "metadata": {},
     "output_type": "display_data"
    }
   ],
   "source": [
    "from sklearn.model_selection import train_test_split\n",
    "fiqa_pair_train, fiqa_pair_valid = train_test_split(fiqa_pair_df, test_size=0.2)"
   ]
  },
  {
   "cell_type": "code",
   "execution_count": null,
   "metadata": {
    "colab": {
     "base_uri": "https://localhost:8080/",
     "height": 16
    },
    "id": "2EDD40uC2Ygj",
    "outputId": "98bfcdcc-ea08-4793-95dc-c3899e749858"
   },
   "outputs": [
    {
     "data": {
      "text/html": [
       "\n",
       "  <style>\n",
       "    pre {\n",
       "        white-space: pre-wrap;\n",
       "    }\n",
       "  </style>\n",
       "  "
      ],
      "text/plain": [
       "<IPython.core.display.HTML object>"
      ]
     },
     "metadata": {},
     "output_type": "display_data"
    }
   ],
   "source": [
    "# Write data to file\n",
    "# Created three new text files in the FinLitQA/FiQA folder \n",
    "# fiqa_pair.txt , fiqa_pair_train.txt, fiqa_pair_valid.txt\n",
    " \n",
    "fiqa_pair_path = '/content/drive/MyDrive/FinLitQA/FiQA/fiqa_pair.txt'\n",
    "fiqa_pair_train_path = '/content/drive/MyDrive/FinLitQA/FiQA/fiqa_pair_train.txt'\n",
    "fiqa_pair_valid_path = '/content/drive/MyDrive/FinLitQA/FiQA/fiqa_pair_valid.txt'\n",
    "\n",
    "fiqa_pair_df.to_csv(fiqa_pair_path ,index=False,header=False, sep=\"\\t\", quoting=csv.QUOTE_NONE)\n",
    "fiqa_pair_train.to_csv(fiqa_pair_train_path, index=False,header=False, sep=\"\\t\", quoting=csv.QUOTE_NONE)\n",
    "fiqa_pair_valid.to_csv(fiqa_pair_valid_path, index=False,header=False, sep=\"\\t\", quoting=csv.QUOTE_NONE)"
   ]
  },
  {
   "cell_type": "code",
   "execution_count": null,
   "metadata": {
    "colab": {
     "base_uri": "https://localhost:8080/",
     "height": 35
    },
    "id": "VwbRgG9a2oE_",
    "outputId": "833dabf6-c69e-4bcc-e4eb-cc5995e8462d"
   },
   "outputs": [
    {
     "data": {
      "text/html": [
       "\n",
       "  <style>\n",
       "    pre {\n",
       "        white-space: pre-wrap;\n",
       "    }\n",
       "  </style>\n",
       "  "
      ],
      "text/plain": [
       "<IPython.core.display.HTML object>"
      ]
     },
     "metadata": {},
     "output_type": "display_data"
    },
    {
     "name": "stdout",
     "output_type": "stream",
     "text": [
      "(17072, 1) (13657, 1) (3415, 1)\n"
     ]
    }
   ],
   "source": [
    "print (fiqa_pair_df.shape, fiqa_pair_train.shape, fiqa_pair_valid.shape)"
   ]
  },
  {
   "cell_type": "markdown",
   "metadata": {
    "id": "F2AZT2S22-UL"
   },
   "source": [
    "# Prepare dataset for Training"
   ]
  },
  {
   "cell_type": "code",
   "execution_count": null,
   "metadata": {
    "colab": {
     "base_uri": "https://localhost:8080/",
     "referenced_widgets": [
      "cb5899d6be4a45d9b5215d07bb1e1e7d",
      "f8666dcbaf784af9a77e646b0d02afaa",
      "585b753dc0e747fb947ece73ff2cb4ed",
      "f6b31cd8b9fa413587501b9f2130ef6d",
      "c509e68fbb884c2a877c59f5d953feca",
      "4552b4ac06ac4a77a22010f8a100b5d9",
      "9bfc0389fd2a4f06b7d48c0262d257dc",
      "bef53cb8b3d7498a8b2c17abf7fea7af",
      "0799fd8637c2482e8c5210d6ad9a706a",
      "da11b668bdb346c791ca9faf6526d3de",
      "512ada174c194533bf419281a909d851",
      "aae546a16cf34e3f9a14e6a42e5f7131",
      "5a6325a7fba54ddaa09fb0c2abdb0e0f",
      "0681762af9564b2f8ebd2551fbda8b79",
      "9710375efcc947b9b003188ab509d9e2",
      "1a3e7f964cf14b8cb23831e1f9218493",
      "00a4f2a20f514fb88f551338ff88ae7f",
      "d875aad1c4634354897c1dadfa101317",
      "d29d858a994e4458a5a073880ebc2639",
      "ff8de086d4114f0682076bd2cd9fd7ae",
      "91afa3c7e1c5481a895d593190cc1a91",
      "9cd2011d23c64d59949edd0ce9efc50c",
      "db8b20738f2744089eadd8b380b52ca3",
      "d7829f9ec88149af98fa28b503d05802",
      "5c68bad5f20e4438a55503ed7ba902e8",
      "740dac69e7fc4eeda5045d1b788eb58d",
      "a297e26ab24d46bd80bede49354deacb",
      "3cafdf1a8d044ae7ac23d8c40b14c613",
      "ef34a012c3b24d9693e7a389000b2818",
      "ad79473d32d34060bf662b7ebcb6bf90",
      "233a9b1210d54fdba664b2077fcae86c",
      "9f1ad57d3d204aef9f259dbaa30ce712",
      "ed03a95a6e2540b58eb8d7d7ec9e0d88"
     ]
    },
    "executionInfo": {
     "elapsed": 5940,
     "status": "ok",
     "timestamp": 1639413849187,
     "user": {
      "displayName": "vanadhi chelliah",
      "photoUrl": "https://lh3.googleusercontent.com/a/default-user=s64",
      "userId": "11158136158943693689"
     },
     "user_tz": -330
    },
    "id": "zGwMisycyafH",
    "outputId": "fca50533-d0af-4e4c-f42b-9889e8c93fe6"
   },
   "outputs": [
    {
     "data": {
      "text/html": [
       "\n",
       "  <style>\n",
       "    pre {\n",
       "        white-space: pre-wrap;\n",
       "    }\n",
       "  </style>\n",
       "  "
      ],
      "text/plain": [
       "<IPython.core.display.HTML object>"
      ]
     },
     "metadata": {},
     "output_type": "display_data"
    },
    {
     "name": "stderr",
     "output_type": "stream",
     "text": [
      "Using custom data configuration default-6531dc75a897b3a1\n"
     ]
    },
    {
     "name": "stdout",
     "output_type": "stream",
     "text": [
      "Downloading and preparing dataset text/default to /root/.cache/huggingface/datasets/text/default-6531dc75a897b3a1/0.0.0/e16f44aa1b321ece1f87b07977cc5d70be93d69b20486d6dacd62e12cf25c9a5...\n"
     ]
    },
    {
     "data": {
      "application/vnd.jupyter.widget-view+json": {
       "model_id": "cb5899d6be4a45d9b5215d07bb1e1e7d",
       "version_major": 2,
       "version_minor": 0
      },
      "text/plain": [
       "  0%|          | 0/2 [00:00<?, ?it/s]"
      ]
     },
     "metadata": {},
     "output_type": "display_data"
    },
    {
     "data": {
      "application/vnd.jupyter.widget-view+json": {
       "model_id": "aae546a16cf34e3f9a14e6a42e5f7131",
       "version_major": 2,
       "version_minor": 0
      },
      "text/plain": [
       "  0%|          | 0/2 [00:00<?, ?it/s]"
      ]
     },
     "metadata": {},
     "output_type": "display_data"
    },
    {
     "name": "stdout",
     "output_type": "stream",
     "text": [
      "Dataset text downloaded and prepared to /root/.cache/huggingface/datasets/text/default-6531dc75a897b3a1/0.0.0/e16f44aa1b321ece1f87b07977cc5d70be93d69b20486d6dacd62e12cf25c9a5. Subsequent calls will reuse this data.\n"
     ]
    },
    {
     "data": {
      "application/vnd.jupyter.widget-view+json": {
       "model_id": "db8b20738f2744089eadd8b380b52ca3",
       "version_major": 2,
       "version_minor": 0
      },
      "text/plain": [
       "  0%|          | 0/2 [00:00<?, ?it/s]"
      ]
     },
     "metadata": {},
     "output_type": "display_data"
    },
    {
     "data": {
      "text/plain": [
       "DatasetDict({\n",
       "    train: Dataset({\n",
       "        features: ['text'],\n",
       "        num_rows: 13657\n",
       "    })\n",
       "    validation: Dataset({\n",
       "        features: ['text'],\n",
       "        num_rows: 3415\n",
       "    })\n",
       "})"
      ]
     },
     "execution_count": 9,
     "metadata": {},
     "output_type": "execute_result"
    }
   ],
   "source": [
    "from datasets import load_dataset\n",
    "\n",
    "fiqa_pair_path = '/content/drive/MyDrive/FinLitQA/FiQA/fiqa_pair.txt'\n",
    "fiqa_pair_train_path = '/content/drive/MyDrive/FinLitQA/FiQA/fiqa_pair_train.txt'\n",
    "fiqa_pair_valid_path = '/content/drive/MyDrive/FinLitQA/FiQA/fiqa_pair_valid.txt'\n",
    "\n",
    "fiqa_pair = load_dataset(\"text\", data_files={\"train\": fiqa_pair_train_path,\n",
    "                                             \"validation\": fiqa_pair_valid_path})\n",
    "\n",
    "fiqa_pair"
   ]
  },
  {
   "cell_type": "code",
   "execution_count": null,
   "metadata": {
    "colab": {
     "base_uri": "https://localhost:8080/"
    },
    "executionInfo": {
     "elapsed": 43,
     "status": "ok",
     "timestamp": 1639413849191,
     "user": {
      "displayName": "vanadhi chelliah",
      "photoUrl": "https://lh3.googleusercontent.com/a/default-user=s64",
      "userId": "11158136158943693689"
     },
     "user_tz": -330
    },
    "id": "7RZ0w7iMnd_Y",
    "outputId": "01859246-228f-4a2e-d858-f01ff3cccc96"
   },
   "outputs": [
    {
     "data": {
      "text/html": [
       "\n",
       "  <style>\n",
       "    pre {\n",
       "        white-space: pre-wrap;\n",
       "    }\n",
       "  </style>\n",
       "  "
      ],
      "text/plain": [
       "<IPython.core.display.HTML object>"
      ]
     },
     "metadata": {},
     "output_type": "display_data"
    },
    {
     "data": {
      "text/html": [
       "<table border=\"1\" class=\"dataframe\">\n",
       "  <thead>\n",
       "    <tr style=\"text-align: right;\">\n",
       "      <th></th>\n",
       "      <th>text</th>\n",
       "    </tr>\n",
       "  </thead>\n",
       "  <tbody>\n",
       "    <tr>\n",
       "      <th>0</th>\n",
       "      <td>Are lottery tickets ever a wise investment provided the jackpot is large enough? [SEP] I think playing certain kinds of lottery is as economically sound as buying certain kinds of insurance.  A lottery is an inverted insurance. Let me elaborate.  We buy insurance for at least two reasons. The first one is clear: We pay a fee to protect ourselves from a risk which we don't want to (or cannot) bear. Although on average buying insurance is a loss, because we pay all the insurance's office buildings and employee's salaries, it still is a reasonable thing to do. (But it should also be clear that it is unreasonable to buy insurance for risks one could easily bear oneself.) The second reason to buy insurance is that it puts us at ease. We don't have to be afraid of theft or of a mistake we make which would make us liable or of water damage to our house. In that sense we buy freedom of sorrow for a fee, even if the damage wouldn't in fact ruin us. That's totally legitimate. Now I want to make the argument that buying a lottery ticket follows the same logic and is therefore not economically unreasonable at all. While buying a lottery ticket is on average a loss, it provides us with a chance to obtain an amount of money we would normally never get. (Eric Lippert made this argument already.) The lottery fee buys us a small chance of something very valuable, much as the insurance frees us from a small risk of something very bad. If we don't buy the ticket, we may have 0% chance of becoming (extremely) rich. If we buy one, we clearly have a chance &gt; 0%, which can be considered an improvement. (Imagine you'd have a 0.0000001% chance to save the life of a loved one with a ticket who'd be 100% doomed otherwise. You'd bite.) Even the second argument, that an insurance puts us at ease, can be mirrored for lotteries. The chance to win something may provide entertainment in our otherwise dull everyday life. Considering that playing the lottery only makes sense for the chance to obtain more money than otherwise possible, one should avoid lotteries which have lots of smaller prizes because we are not really interested in those. (It would be more economical to save the money for smaller amounts.) We ideally only want lotteries which lean on the big money prizes.</td>\n",
       "    </tr>\n",
       "    <tr>\n",
       "      <th>1</th>\n",
       "      <td>What is meant by “unexpected expenses” in my 401k plan? [SEP] IANAL, but it sounds like indemnification language. They are saying they have the option to charge expenses to participants if they would like. It should say explicitly (you mention that it does) who the 'default payer' is. Unexpected expenses could be anything that's not in the normal course of business. I know that doesn't help much, but some examples may be plan document restatements or admin expenses from plan failures/corrections. We have language in some of our PFDs that say in the absence of revenue-sharing a participants' share of expenses may be higher. Yes, 'from participant accounts' means they have the authority to deduct from your 401k account.</td>\n",
       "    </tr>\n",
       "    <tr>\n",
       "      <th>2</th>\n",
       "      <td>Best return on investment for new home purchase [SEP] I encourage you to think of this home purchase decision as a chance to buy into a community that you want your children to grow up in.  Try to find a place where you will be happy for the next 20 years, not just the next 2 or 7 years. In your situation, option 1 seems like a bad idea.  It will create an obstacle to having children, instead of establishing a place for them to grow up in. Option 2 is close to \"buying a house on a layaway plan\".  It offers the most financial flexibility.  It also could result in the best long-term outcome, because you will buy in an established area, and you will know exactly what quality house you will have.  But you and your fiancé need to ask yourselves some hard questions:  Are you willing to put up with the mess and hassles of remodelling?  Are you good at designing such projects?  Can you afford to pay for the projects as they occur?  Or if you need to finance them, can you get a HELOC to cover them? Especially if you and your fiancé do much of the work yourselves, break down the projects into small enough pieces that you can quickly finish off whatever you are working on at the time, and be happy living in the resulting space.  You do not want to be nagging your husband about an unfinished project \"forever\" -- or silently resenting that a project never got wrapped up.  I posted some suggestions for incrementally finishing a basement on the Home Improvement Stack Exchange. If you are up to the job of option 2, it is less risky than option 3.  Option 3 has several risks: You don't know what sort of people will live in the neighborhood 5 - 20 years from now.  Will the homes be owner-occupied?  Or rentals?  Will your neighbors care about raising children well?  Or will lots of kids grow up in broken homes?   Will the schools be good?  Disappointing?  Or dangerous?  Whereas in an established neighborhood, you can see what the neighborhood is currently like, and how it has been changing. Unless you custom-build (or remodel), you don't control the quality of the construction.  Some neighborhoods built by Pulte in the last 10 years were riddled with construction defects. You will be paying up-front for features you don't need yet.  You might never need some of them.  And some of them might interfere with what you realize later on might be better. In stable markets, new homes (especially ones with lots of \"upgrades\") often decline in value during the first few years.  This is because part of the value is in the \"newness\" and being \"up-to-date\" with the latest fads.  This part of the value wears off over time. Are the homes \"at the edge of town\" already within reasonable walking distance of parks, schools, church, grocery stores, et cetera?  Might the commute from the \"edge of town\" to work get worse over the next 5 - 20 years?</td>\n",
       "    </tr>\n",
       "    <tr>\n",
       "      <th>3</th>\n",
       "      <td>I can make a budget, but how can I get myself to consistently follow my budget? [SEP] Give all your money as well as your budget requirements to someone you really trust. Tell them to give you ONLY what your budget allows. As long as both of you take this seriously, this method will be very effective.</td>\n",
       "    </tr>\n",
       "    <tr>\n",
       "      <th>4</th>\n",
       "      <td>What does cryptocurrency mean for governments?  [SEP] Government's tax citizens and businesses in their currency. Earnings (even earnings in cryptocurrencies) are taxable income.</td>\n",
       "    </tr>\n",
       "  </tbody>\n",
       "</table>"
      ],
      "text/plain": [
       "<IPython.core.display.HTML object>"
      ]
     },
     "metadata": {},
     "output_type": "display_data"
    }
   ],
   "source": [
    "show_random_elements(fiqa_pair[\"train\"])"
   ]
  },
  {
   "cell_type": "code",
   "execution_count": null,
   "metadata": {
    "colab": {
     "base_uri": "https://localhost:8080/"
    },
    "executionInfo": {
     "elapsed": 44,
     "status": "ok",
     "timestamp": 1639413849195,
     "user": {
      "displayName": "vanadhi chelliah",
      "photoUrl": "https://lh3.googleusercontent.com/a/default-user=s64",
      "userId": "11158136158943693689"
     },
     "user_tz": -330
    },
    "id": "3oKAmC6vyaV6",
    "outputId": "28a03dfa-7a80-414b-eec8-b25ec148d99b"
   },
   "outputs": [
    {
     "data": {
      "text/html": [
       "\n",
       "  <style>\n",
       "    pre {\n",
       "        white-space: pre-wrap;\n",
       "    }\n",
       "  </style>\n",
       "  "
      ],
      "text/plain": [
       "<IPython.core.display.HTML object>"
      ]
     },
     "metadata": {},
     "output_type": "display_data"
    },
    {
     "data": {
      "text/plain": [
       "({'text': \"Work on the side for my wife's company [SEP] Depending on how much freelance work we're talking about you could set up a limited company, with you and your wife as directors. By invoicing all your work through the limited company (which could have many other benefits for you, an accountant/advisor would... well, advise...) it's the company earning the money, not you or her personally. You can then pay your wife up to £10,000 per year (as of writing this) without income tax kicking in. You would probably have to pay yourself a small amount to minimise exposure to HMRC's snooping, but possibly not... as far as I'm aware the rules do not state anything about working for free, for yourself - and I wouldn't worry about the ethics, you're already paying plenty into HMRC's bank account through your day job! Some good information here if you're interested: https://www.whitefieldtax.co.uk/web/psc-guide/pscguide-how-does-it-all-work-in-practice-salaries-and-dividends/\"},\n",
       " {'text': 'Options for dummies. Can you explain how puts & calls work, simply? [SEP] A \\'Call\\' gives you the right, but not the obligation, to buy a stock at a particular price. The price, called the \"strike price\" is fixed when you buy the option. Let\\'s run through an example - AAPL trades @ $259. You think it\\'s going up over the next year, and you decide to buy the $280 Jan11 call for $12.  Here are the details of this trade. Your cost is $1200 as options are traded on 100 shares each. You start to have the potential to make money only as Apple rises above $280 and the option trades \"in the money.\" It would take a move to $292 for you to break even, but after that, you are making $100 for each dollar it goes higher. At $300, your $1200 would be worth $2000, for example. A 16% move on the stock and a 67% increase on your money. On the other hand, if the stock doesn\\'t rise enough by January 2011, you lose it all.  A couple points here - American options are traded at any time. If the stock goes up next week, your $1200 may be worth $1500 and you can sell. If the option is not \"in the money\" its value is pure time value. There have been claims made that most options expire worthless. This of course is nonsense, you can see there will always be options with a strike below the price of the stock at expiration and those options are \"in the money.\" Of course, we don\\'t know what those options were traded at.  On the other end of this trade is the option seller. If he owns Apple, the sale is called a \"covered call\" and he is basically saying he\\'s ok if the stock goes up enough that the buyer will get his shares for that price. For him, he knows that he\\'ll get $292 (the $280, plus the option sale of $12) for a stock that is only $259 today. If the stock stays under $280, he just pocketed $12, 4.6% of the stock value, in just 3 months. This is why call writing can be a decent strategy for some investors. Especially if the market goes down, you can think of it as the investor lowering his cost by that $12. This particular strategy works best in a flat to down market. Of course in a fast rising market, the seller misses out on potentially high gains.  (I\\'ll call it quits here, just to say a Put is the mirror image, you have the right to sell a stock at a given price. It\\'s the difference similar to shorting a stock as opposed to buying it.) If you have a follow up question - happy to help. EDIT - Apple closed on Jan 21, 2011 at $326.72, the $280 call would have been worth $46.72 vs the purchase price of $12. Nearly 4X return (A 289% gain) in just over 4 months for a stock move of 26%. This is the leverage you can have with options. Any stock could just as easily trade flat to down, and the entire option premium, lost.'})"
      ]
     },
     "execution_count": 11,
     "metadata": {},
     "output_type": "execute_result"
    }
   ],
   "source": [
    "fiqa_pair[\"train\"][10] , fiqa_pair[\"validation\"][10]"
   ]
  },
  {
   "cell_type": "markdown",
   "metadata": {
    "id": "hunhTjUq3avv"
   },
   "source": [
    "# MLM - Chunking and Tokenizing"
   ]
  },
  {
   "cell_type": "code",
   "execution_count": null,
   "metadata": {
    "colab": {
     "base_uri": "https://localhost:8080/",
     "height": 35
    },
    "executionInfo": {
     "elapsed": 18,
     "status": "ok",
     "timestamp": 1639413850004,
     "user": {
      "displayName": "vanadhi chelliah",
      "photoUrl": "https://lh3.googleusercontent.com/a/default-user=s64",
      "userId": "11158136158943693689"
     },
     "user_tz": -330
    },
    "id": "3TupZzp5ExYs",
    "outputId": "fbfcdf7d-5a83-4daf-9384-3fcf7d00a5f1"
   },
   "outputs": [
    {
     "data": {
      "text/html": [
       "\n",
       "  <style>\n",
       "    pre {\n",
       "        white-space: pre-wrap;\n",
       "    }\n",
       "  </style>\n",
       "  "
      ],
      "text/plain": [
       "<IPython.core.display.HTML object>"
      ]
     },
     "metadata": {},
     "output_type": "display_data"
    },
    {
     "name": "stdout",
     "output_type": "stream",
     "text": [
      "/content/drive/MyDrive/FinLitQA\n"
     ]
    }
   ],
   "source": [
    "%cd /content/drive/MyDrive/FinLitQA"
   ]
  },
  {
   "cell_type": "code",
   "execution_count": null,
   "metadata": {
    "colab": {
     "base_uri": "https://localhost:8080/",
     "height": 35
    },
    "executionInfo": {
     "elapsed": 36,
     "status": "ok",
     "timestamp": 1639413851725,
     "user": {
      "displayName": "vanadhi chelliah",
      "photoUrl": "https://lh3.googleusercontent.com/a/default-user=s64",
      "userId": "11158136158943693689"
     },
     "user_tz": -330
    },
    "id": "siEH8D4d5LBM",
    "outputId": "c107d383-68bc-4309-f6a9-cbca169e230d"
   },
   "outputs": [
    {
     "data": {
      "text/html": [
       "\n",
       "  <style>\n",
       "    pre {\n",
       "        white-space: pre-wrap;\n",
       "    }\n",
       "  </style>\n",
       "  "
      ],
      "text/plain": [
       "<IPython.core.display.HTML object>"
      ]
     },
     "metadata": {},
     "output_type": "display_data"
    },
    {
     "name": "stdout",
     "output_type": "stream",
     "text": [
      "mkdir: cannot create directory ‘model’: File exists\n"
     ]
    }
   ],
   "source": [
    "!mkdir model"
   ]
  },
  {
   "cell_type": "code",
   "execution_count": null,
   "metadata": {
    "colab": {
     "base_uri": "https://localhost:8080/",
     "height": 385
    },
    "executionInfo": {
     "elapsed": 19,
     "status": "ok",
     "timestamp": 1639413852489,
     "user": {
      "displayName": "vanadhi chelliah",
      "photoUrl": "https://lh3.googleusercontent.com/a/default-user=s64",
      "userId": "11158136158943693689"
     },
     "user_tz": -330
    },
    "id": "Q1H5FR7yPugd",
    "outputId": "e64dd3f7-5872-4920-a561-cf05e955e033"
   },
   "outputs": [
    {
     "data": {
      "text/html": [
       "\n",
       "  <style>\n",
       "    pre {\n",
       "        white-space: pre-wrap;\n",
       "    }\n",
       "  </style>\n",
       "  "
      ],
      "text/plain": [
       "<IPython.core.display.HTML object>"
      ]
     },
     "metadata": {},
     "output_type": "display_data"
    },
    {
     "name": "stdout",
     "output_type": "stream",
     "text": [
      "Mon Dec 13 16:44:12 2021       \n",
      "+-----------------------------------------------------------------------------+\n",
      "| NVIDIA-SMI 495.44       Driver Version: 460.32.03    CUDA Version: 11.2     |\n",
      "|-------------------------------+----------------------+----------------------+\n",
      "| GPU  Name        Persistence-M| Bus-Id        Disp.A | Volatile Uncorr. ECC |\n",
      "| Fan  Temp  Perf  Pwr:Usage/Cap|         Memory-Usage | GPU-Util  Compute M. |\n",
      "|                               |                      |               MIG M. |\n",
      "|===============================+======================+======================|\n",
      "|   0  Tesla P100-PCIE...  Off  | 00000000:00:04.0 Off |                    0 |\n",
      "| N/A   35C    P0    26W / 250W |      0MiB / 16280MiB |      0%      Default |\n",
      "|                               |                      |                  N/A |\n",
      "+-------------------------------+----------------------+----------------------+\n",
      "                                                                               \n",
      "+-----------------------------------------------------------------------------+\n",
      "| Processes:                                                                  |\n",
      "|  GPU   GI   CI        PID   Type   Process name                  GPU Memory |\n",
      "|        ID   ID                                                   Usage      |\n",
      "|=============================================================================|\n",
      "|  No running processes found                                                 |\n",
      "+-----------------------------------------------------------------------------+\n"
     ]
    }
   ],
   "source": [
    "gpu_info = !nvidia-smi\n",
    "gpu_info = '\\n'.join(gpu_info)\n",
    "if gpu_info.find('failed') >= 0:\n",
    "  print('Not connected to a GPU')\n",
    "else:\n",
    "  print(gpu_info)"
   ]
  },
  {
   "cell_type": "code",
   "execution_count": null,
   "metadata": {
    "colab": {
     "base_uri": "https://localhost:8080/",
     "height": 16
    },
    "executionInfo": {
     "elapsed": 1053,
     "status": "ok",
     "timestamp": 1639413862025,
     "user": {
      "displayName": "vanadhi chelliah",
      "photoUrl": "https://lh3.googleusercontent.com/a/default-user=s64",
      "userId": "11158136158943693689"
     },
     "user_tz": -330
    },
    "id": "qSMgrGNJIKgW",
    "outputId": "bbff3788-e3e1-4c78-9f70-515b249ee6ce"
   },
   "outputs": [
    {
     "data": {
      "text/html": [
       "\n",
       "  <style>\n",
       "    pre {\n",
       "        white-space: pre-wrap;\n",
       "    }\n",
       "  </style>\n",
       "  "
      ],
      "text/plain": [
       "<IPython.core.display.HTML object>"
      ]
     },
     "metadata": {},
     "output_type": "display_data"
    }
   ],
   "source": [
    "def chunk_examples(examples):\n",
    "    chunks = []\n",
    "    for sentence in examples['text']:\n",
    "        chunks += [sentence[i:i + 500] for i in range(0, len(sentence), 500)]\n",
    "    return {'chunks': chunks}"
   ]
  },
  {
   "cell_type": "code",
   "execution_count": null,
   "metadata": {
    "colab": {
     "base_uri": "https://localhost:8080/",
     "height": 16
    },
    "executionInfo": {
     "elapsed": 25,
     "status": "ok",
     "timestamp": 1639413862030,
     "user": {
      "displayName": "vanadhi chelliah",
      "photoUrl": "https://lh3.googleusercontent.com/a/default-user=s64",
      "userId": "11158136158943693689"
     },
     "user_tz": -330
    },
    "id": "O6AMKxwHDP1h",
    "outputId": "58cbbb0c-4d14-4ecc-944e-89a4e748230d"
   },
   "outputs": [
    {
     "data": {
      "text/html": [
       "\n",
       "  <style>\n",
       "    pre {\n",
       "        white-space: pre-wrap;\n",
       "    }\n",
       "  </style>\n",
       "  "
      ],
      "text/plain": [
       "<IPython.core.display.HTML object>"
      ]
     },
     "metadata": {},
     "output_type": "display_data"
    }
   ],
   "source": [
    "def tokenize_function(examples):\n",
    "    return tokenizer(examples[\"chunks\"])"
   ]
  },
  {
   "cell_type": "code",
   "execution_count": null,
   "metadata": {
    "colab": {
     "base_uri": "https://localhost:8080/",
     "height": 16
    },
    "executionInfo": {
     "elapsed": 20,
     "status": "ok",
     "timestamp": 1639413862848,
     "user": {
      "displayName": "vanadhi chelliah",
      "photoUrl": "https://lh3.googleusercontent.com/a/default-user=s64",
      "userId": "11158136158943693689"
     },
     "user_tz": -330
    },
    "id": "AxPGTEnPM1ee",
    "outputId": "a3d1436b-6501-47a0-9777-030aa8bf89a7"
   },
   "outputs": [
    {
     "data": {
      "text/html": [
       "\n",
       "  <style>\n",
       "    pre {\n",
       "        white-space: pre-wrap;\n",
       "    }\n",
       "  </style>\n",
       "  "
      ],
      "text/plain": [
       "<IPython.core.display.HTML object>"
      ]
     },
     "metadata": {},
     "output_type": "display_data"
    }
   ],
   "source": [
    "# block_size = tokenizer.model_max_length\n",
    "block_size = 128"
   ]
  },
  {
   "cell_type": "code",
   "execution_count": null,
   "metadata": {
    "colab": {
     "base_uri": "https://localhost:8080/",
     "height": 16
    },
    "executionInfo": {
     "elapsed": 19,
     "status": "ok",
     "timestamp": 1639413863628,
     "user": {
      "displayName": "vanadhi chelliah",
      "photoUrl": "https://lh3.googleusercontent.com/a/default-user=s64",
      "userId": "11158136158943693689"
     },
     "user_tz": -330
    },
    "id": "3NZcXF3GM4XJ",
    "outputId": "337c5a63-0a69-4278-b057-d15cec13b64f"
   },
   "outputs": [
    {
     "data": {
      "text/html": [
       "\n",
       "  <style>\n",
       "    pre {\n",
       "        white-space: pre-wrap;\n",
       "    }\n",
       "  </style>\n",
       "  "
      ],
      "text/plain": [
       "<IPython.core.display.HTML object>"
      ]
     },
     "metadata": {},
     "output_type": "display_data"
    }
   ],
   "source": [
    "def group_texts(examples):\n",
    "    # Concatenate all texts.\n",
    "    concatenated_examples = {k: sum(examples[k], []) for k in examples.keys()}\n",
    "    total_length = len(concatenated_examples[list(examples.keys())[0]])\n",
    "    # We drop the small remainder, we could add padding if the model supported it instead of this drop, you can\n",
    "        # customize this part to your needs.\n",
    "    total_length = (total_length // block_size) * block_size\n",
    "    # Split by chunks of max_len.\n",
    "    result = {\n",
    "        k: [t[i : i + block_size] for i in range(0, total_length, block_size)]\n",
    "        for k, t in concatenated_examples.items()\n",
    "    }\n",
    "    result[\"labels\"] = result[\"input_ids\"].copy()\n",
    "    return result"
   ]
  },
  {
   "cell_type": "code",
   "execution_count": null,
   "metadata": {
    "colab": {
     "base_uri": "https://localhost:8080/",
     "height": 616,
     "referenced_widgets": [
      "b28d2be33b0e42c8b02ccaad2e08286f",
      "971db9d5742d4f99a49e03c9ab34f61b",
      "af79fc2eb3274de89a632d73854fd0f5",
      "23a5fc11ccd042d687ef2099b3a78866",
      "168ec1088be64eb39426771a564cd211",
      "b449a9c873404308bb43688b7a9bd573",
      "a88ddeca6b2e4393a06e34cb81131847",
      "d5f30d3bfa954c2cbe56bf4852391681",
      "05eaf3f4a318432da9185bcab22ac0e0",
      "91f1c2b9318840ecbfbf11851279326a",
      "81aae7aff71749b5a59a8824fd18959f",
      "c5d16385209f44aeb2fcf727b815c215",
      "828553ac56754508b7a485d920106aa2",
      "965f60ab8f444da79c81278cd4a6fa94",
      "b2d280213b094c6e91d9ebae794d314b",
      "710d3474abdc45e7bb77127abc695406",
      "d3a26a1565744f0a9fd62d2fbb3b791f",
      "314f4254fd824209b18b873bfdc694c2",
      "586e783f12ca49c093815d4a36d9ab14",
      "50e7de3177434fb2ab4fc0c0c0dbf6d3",
      "c0f4b1f34efa437485c5b8b62f93fe6d",
      "80b11ca8629f4f4eac8d98282756e924"
     ]
    },
    "executionInfo": {
     "elapsed": 17,
     "status": "ok",
     "timestamp": 1639413864249,
     "user": {
      "displayName": "vanadhi chelliah",
      "photoUrl": "https://lh3.googleusercontent.com/a/default-user=s64",
      "userId": "11158136158943693689"
     },
     "user_tz": -330
    },
    "id": "8nxh3GIHIcGO",
    "outputId": "2dfe489a-80b4-41b1-f89c-520fb2dd9bfd"
   },
   "outputs": [
    {
     "data": {
      "text/html": [
       "\n",
       "  <style>\n",
       "    pre {\n",
       "        white-space: pre-wrap;\n",
       "    }\n",
       "  </style>\n",
       "  "
      ],
      "text/plain": [
       "<IPython.core.display.HTML object>"
      ]
     },
     "metadata": {},
     "output_type": "display_data"
    },
    {
     "data": {
      "application/vnd.jupyter.widget-view+json": {
       "model_id": "b28d2be33b0e42c8b02ccaad2e08286f",
       "version_major": 2,
       "version_minor": 0
      },
      "text/plain": [
       "  0%|          | 0/14 [00:00<?, ?ba/s]"
      ]
     },
     "metadata": {},
     "output_type": "display_data"
    },
    {
     "data": {
      "application/vnd.jupyter.widget-view+json": {
       "model_id": "c5d16385209f44aeb2fcf727b815c215",
       "version_major": 2,
       "version_minor": 0
      },
      "text/plain": [
       "  0%|          | 0/4 [00:00<?, ?ba/s]"
      ]
     },
     "metadata": {},
     "output_type": "display_data"
    },
    {
     "data": {
      "text/plain": [
       "(DatasetDict({\n",
       "    train: Dataset({\n",
       "        features: ['chunks'],\n",
       "        num_rows: 36900\n",
       "    })\n",
       "    validation: Dataset({\n",
       "        features: ['chunks'],\n",
       "        num_rows: 9158\n",
       "    })\n",
       "}),\n",
       " {'chunks': ['Why does a stock\\'s price fluctuate so often, even when fresh news isn\\'t available? [SEP] Investors are \"forever\" comparing the prices of stocks to other stocks. As others have pointed out, this is done faster and more frequently nowadays with high-speed computer programs. There may be no \"fresh\" news on stock A, but if there is fresh news on stock B (as there usually is), the news on B affects the COMPARISON with stock A. That could be what causes trading in stock A that has \"no news.\"',\n",
       "   \"New car: buy with cash or 0% financing [SEP] Cash price is $22,500. Financed, it's the same thing (0% interest) but you pay a $1500 fee. 1500/22500 = 6.6%. Basically the APR for your loan is 1.1% per year but you are paying it all upfront. Opportunity cost: If you take the $22,500 you plan to pay for the car and invested it, could you earn more than the $1500 interest on the car loan? According to google, as of today you can get 1 year CD @ 1.25% so yes. It's likely that interest rates will be g\",\n",
       "   \"oing up in medium term so you can potentially earn even more.  Insurance cost: If you finance you'll have to get comprehensive insurance which could be costly. However, if you are planning to get it anyway (it's a brand new car after all), that's a wash. Which brings me to my main point: Why do you have $90k in a savings account? Even if you are planning to buy a house you should have that money invested in liquid assets earning you interest.  Conclusion: Take the cheap money while it's availabl\",\n",
       "   'e. You never know when interest rates will go up again.',\n",
       "   'Why do stock prices of retailers not surge during the holidays? [SEP] Systemic and well know patterns in sales are priced in to the security.  Typically companies with very cyclical earnings like this will issue guidance of earnings per share within a range.  These expected earnings are priced in before the earnings are actually booked.  If a company meets these expectations the stock will likely stay relatively flat.  If the company misses this expectation, the stock, generally, will get slamme']})"
      ]
     },
     "execution_count": 19,
     "metadata": {},
     "output_type": "execute_result"
    }
   ],
   "source": [
    "fiqa_chunked = fiqa_pair.map(chunk_examples, batched=True, remove_columns=[\"text\"])\n",
    "fiqa_chunked, fiqa_chunked['train'][:5]"
   ]
  },
  {
   "cell_type": "markdown",
   "metadata": {
    "id": "N3RuN_b5RL9W"
   },
   "source": [
    "# Language Modeling for Multiple models"
   ]
  },
  {
   "cell_type": "markdown",
   "metadata": {
    "id": "8gZmkzzh1mMG"
   },
   "source": [
    "## Common Functions"
   ]
  },
  {
   "cell_type": "markdown",
   "metadata": {
    "id": "fyDHtQsGRL9W"
   },
   "source": [
    "* Model 1 - \"bert-base-uncased\"\n",
    "* Model 2 - \"roberta-base\"\n",
    "* Model 3 - \"finbert\""
   ]
  },
  {
   "cell_type": "code",
   "execution_count": null,
   "metadata": {
    "colab": {
     "base_uri": "https://localhost:8080/",
     "height": 16
    },
    "executionInfo": {
     "elapsed": 2885,
     "status": "ok",
     "timestamp": 1639413873349,
     "user": {
      "displayName": "vanadhi chelliah",
      "photoUrl": "https://lh3.googleusercontent.com/a/default-user=s64",
      "userId": "11158136158943693689"
     },
     "user_tz": -330
    },
    "id": "MWQOjRRjRL9X",
    "outputId": "1844536f-ed2d-4a11-d69e-67821b1a4269"
   },
   "outputs": [
    {
     "data": {
      "text/html": [
       "\n",
       "  <style>\n",
       "    pre {\n",
       "        white-space: pre-wrap;\n",
       "    }\n",
       "  </style>\n",
       "  "
      ],
      "text/plain": [
       "<IPython.core.display.HTML object>"
      ]
     },
     "metadata": {},
     "output_type": "display_data"
    }
   ],
   "source": [
    "# Import from Transformers\n",
    "\n",
    "from transformers import AdamW, get_linear_schedule_with_warmup\n",
    "from transformers import AutoTokenizer\n",
    "from transformers import AutoModelForMaskedLM\n",
    "from transformers import Trainer, TrainingArguments\n",
    "from transformers import DataCollatorForLanguageModeling"
   ]
  },
  {
   "cell_type": "code",
   "execution_count": null,
   "metadata": {
    "colab": {
     "base_uri": "https://localhost:8080/",
     "height": 16
    },
    "executionInfo": {
     "elapsed": 18,
     "status": "ok",
     "timestamp": 1639413873353,
     "user": {
      "displayName": "vanadhi chelliah",
      "photoUrl": "https://lh3.googleusercontent.com/a/default-user=s64",
      "userId": "11158136158943693689"
     },
     "user_tz": -330
    },
    "id": "NiETw9t0013T",
    "outputId": "5cc6b69c-1b69-42d2-d2a7-c8be52b45d92"
   },
   "outputs": [
    {
     "data": {
      "text/html": [
       "\n",
       "  <style>\n",
       "    pre {\n",
       "        white-space: pre-wrap;\n",
       "    }\n",
       "  </style>\n",
       "  "
      ],
      "text/plain": [
       "<IPython.core.display.HTML object>"
      ]
     },
     "metadata": {},
     "output_type": "display_data"
    }
   ],
   "source": [
    "# Function to Define the trainer\n",
    "def trainer_from_args(model_dir, model_name, model, tokenizer, lm_datasets):\n",
    "    '''Get the training arguments and define a trainer'''\n",
    "    \n",
    "    training_args = TrainingArguments(\n",
    "        f\"{model_dir}{model_name}\",\n",
    "        evaluation_strategy = \"steps\",\n",
    "        num_train_epochs=5,\n",
    "        per_device_train_batch_size=16,\n",
    "        per_device_eval_batch_size=16, \n",
    "        learning_rate=2e-5,\n",
    "        weight_decay=0.01, \n",
    "        logging_dir='./logs',\n",
    "        seed=42,\n",
    "        save_steps=1000,\n",
    "        eval_steps=1000,\n",
    "        load_best_model_at_end=True,\n",
    "        save_total_limit=2\n",
    "    )\n",
    "\n",
    "    data_collator = DataCollatorForLanguageModeling(tokenizer=tokenizer, mlm_probability=0.15)\n",
    "\n",
    "    trainer = Trainer(\n",
    "        model=model,\n",
    "        args=training_args,\n",
    "        train_dataset=lm_datasets[\"train\"],\n",
    "        eval_dataset=lm_datasets[\"validation\"],\n",
    "        data_collator=data_collator,\n",
    "        tokenizer=tokenizer\n",
    "    )\n",
    "    \n",
    "    return trainer"
   ]
  },
  {
   "cell_type": "code",
   "execution_count": null,
   "metadata": {
    "colab": {
     "base_uri": "https://localhost:8080/",
     "height": 16
    },
    "executionInfo": {
     "elapsed": 15,
     "status": "ok",
     "timestamp": 1639413883812,
     "user": {
      "displayName": "vanadhi chelliah",
      "photoUrl": "https://lh3.googleusercontent.com/a/default-user=s64",
      "userId": "11158136158943693689"
     },
     "user_tz": -330
    },
    "id": "Zh49oMquRL9X",
    "outputId": "ed67d8dc-d80a-4720-bc5b-bbda38aad2d9"
   },
   "outputs": [
    {
     "data": {
      "text/html": [
       "\n",
       "  <style>\n",
       "    pre {\n",
       "        white-space: pre-wrap;\n",
       "    }\n",
       "  </style>\n",
       "  "
      ],
      "text/plain": [
       "<IPython.core.display.HTML object>"
      ]
     },
     "metadata": {},
     "output_type": "display_data"
    }
   ],
   "source": [
    "df_lmtrain_summary = pd.DataFrame()\n",
    "\n",
    "def add_to_lmtrain_summary(df) :\n",
    "    global df_lmtrain_summary \n",
    "    df_lmtrain_summary = df_lmtrain_summary.append(df,ignore_index=True)"
   ]
  },
  {
   "cell_type": "code",
   "execution_count": null,
   "metadata": {
    "colab": {
     "base_uri": "https://localhost:8080/",
     "height": 16
    },
    "executionInfo": {
     "elapsed": 654,
     "status": "ok",
     "timestamp": 1639414037342,
     "user": {
      "displayName": "vanadhi chelliah",
      "photoUrl": "https://lh3.googleusercontent.com/a/default-user=s64",
      "userId": "11158136158943693689"
     },
     "user_tz": -330
    },
    "id": "91f5ffb9RL9Y",
    "outputId": "cba36f84-52e3-4c93-cc07-39d18d740436"
   },
   "outputs": [
    {
     "data": {
      "text/html": [
       "\n",
       "  <style>\n",
       "    pre {\n",
       "        white-space: pre-wrap;\n",
       "    }\n",
       "  </style>\n",
       "  "
      ],
      "text/plain": [
       "<IPython.core.display.HTML object>"
      ]
     },
     "metadata": {},
     "output_type": "display_data"
    }
   ],
   "source": [
    "def evaluate_trainer(trainer, model_name):\n",
    "\n",
    "    # Here we initialize the nodes that perform evaluation\n",
    "    eval_results = trainer.evaluate()\n",
    "    print (eval_results)\n",
    "    print (f\"Perplexity: {math.exp(eval_results['eval_loss']):.2f}\")\n",
    "\n",
    "    df = pd.DataFrame.from_dict(eval_results, orient=\"index\")\n",
    "    df.columns = [model_name]\n",
    "    results_df = df.transpose().reset_index()\n",
    "    results_df['Perplexity'] = f\"{math.exp(eval_results['eval_loss']):.2f}\"\n",
    "    add_to_lmtrain_summary(results_df)\n",
    "  \n",
    "    return(results_df)"
   ]
  },
  {
   "cell_type": "markdown",
   "metadata": {
    "id": "ptaV7r0cRL9Y"
   },
   "source": [
    "## Model 1 - \"bert-base-uncased\""
   ]
  },
  {
   "cell_type": "code",
   "execution_count": null,
   "metadata": {
    "colab": {
     "base_uri": "https://localhost:8080/",
     "height": 16
    },
    "executionInfo": {
     "elapsed": 10,
     "status": "ok",
     "timestamp": 1639146110607,
     "user": {
      "displayName": "vanadhi chelliah",
      "photoUrl": "https://lh3.googleusercontent.com/a/default-user=s64",
      "userId": "11158136158943693689"
     },
     "user_tz": -330
    },
    "id": "ZxCaFvKCLXvz",
    "outputId": "8e312179-e356-4b8a-b2eb-9b055567ab9d"
   },
   "outputs": [
    {
     "data": {
      "text/html": [
       "\n",
       "  <style>\n",
       "    pre {\n",
       "        white-space: pre-wrap;\n",
       "    }\n",
       "  </style>\n",
       "  "
      ],
      "text/plain": [
       "<IPython.core.display.HTML object>"
      ]
     },
     "metadata": {},
     "output_type": "display_data"
    }
   ],
   "source": [
    "# Define the model checkpoint\n",
    "\n",
    "model_checkpoint1 = \"bert-base-uncased\""
   ]
  },
  {
   "cell_type": "code",
   "execution_count": null,
   "metadata": {
    "colab": {
     "base_uri": "https://localhost:8080/",
     "height": 305,
     "referenced_widgets": [
      "2b81f83325be4e31bdc15912e3b05856",
      "0a48f2b87a7c4c4da63a4b6d92adf6a7",
      "0d4fd9e95de74598ba911fb398dbeeb8",
      "2f56918446544874b3a19d13d04be4bd",
      "845b7f5723ca49a6afa1692a1de59b97",
      "3bb7f41c503c40b8847809ab490ee351",
      "ff49481131d149f99630a3ee71652135",
      "d386a2e9c82d4905914ae8343ef74486",
      "a06fbfa7a22d43229ff62ea9b3a759af",
      "d5a69c36b9bd421cab8cd9fe7628e292",
      "4f493088a27f40e99af3dea30d80a6e4",
      "4780bde659dc4387b1bc973c7541e2b3",
      "fd8ac45696e84f949ea13d690b15e884",
      "078e98ce391b4e1ab19924989306e3c3",
      "ad27a38b2ca24c619582e2234bbc9394",
      "37432f3d3b9f4798a19bf1fc254bacbd",
      "7b7c1581886043cfa8cf94652924d642",
      "82777bbf37694492aedb935ac6310666",
      "38d6aa94f9dd4e5083ed1b094205606c",
      "3e781b3098a54b29b24b62077515c70a",
      "5f20de44b46b4e13a74cb107b82cba62",
      "22a6c59267964216a770b150ad6e5649",
      "6bbfc499ac4d46148b8c3461ada30e33",
      "24c4f2b900864f6bb24e055f0ee09cb9",
      "4091797a137b47f982629c37345d2f39",
      "e60ef64ac3f4484d9c47edbc3ca65311",
      "e65b19eb2b644c1fa023ab7ee1e01e6e",
      "35b9500ca1b7482f8e2a38b34589be9f",
      "285bb716e454417f8235ea494e1558dd",
      "525ad78991e044fcb29160ff6aa98c6f",
      "735dbdaf60dd4254a3772da68394ebd6",
      "fd656b459f0a4557b2648894cb6ccf1e",
      "feea9385d5b5403eb26a082f52aab157",
      "e41df5f5f97643c68d1a2a94668826bd",
      "811f9383962842c5b2dfb426fd540a6b",
      "0c708f47004b4001a455b78e83155f0d",
      "0523b361f33f4baebee9b2d4c48dc7d2",
      "b1b28222d3464b29bf3b780db5eda7d5",
      "cea1900e428347fd9c3e788c3759873b",
      "36401306f07b44269b703e200cc5fe1d",
      "9819fc7ae4694c33817164be029a5656",
      "b88b08d8213545e88ad98b8e5491ffae",
      "8edd11df1f264ea589ab6eff723e8d15",
      "f199ed5038084eddb874ded45f88c9a2",
      "f894cdda1b3c4383bfa2492f22b6b8dc",
      "e8630ba561a64fc1b9cd0f136a7c4918",
      "c8716805d3224ccf9b28807fa333e162",
      "ff07a66ed9ab42eb8c91a0aec1df57c7",
      "7a817e2fe6d040abb1ab78d1dfe850c9",
      "bafafdf415fa4b7f900a93760b0351c3",
      "8b9e51b6eecd4c89aa9d503a5ba6c9a6",
      "00cc1b14ac89498eb19582ef83536ab0",
      "7c8d7aedba1e42d9bd516745888219ae",
      "bf14bdbc01fd4ebbae57d3b2f94aa320",
      "e8c74204ab2c499580cf33da71749644"
     ]
    },
    "executionInfo": {
     "elapsed": 86642,
     "status": "ok",
     "timestamp": 1639146198551,
     "user": {
      "displayName": "vanadhi chelliah",
      "photoUrl": "https://lh3.googleusercontent.com/a/default-user=s64",
      "userId": "11158136158943693689"
     },
     "user_tz": -330
    },
    "id": "jpMaSbuID1z7",
    "outputId": "274538cc-0ab5-4733-e10f-593406cb726b"
   },
   "outputs": [
    {
     "data": {
      "text/html": [
       "\n",
       "  <style>\n",
       "    pre {\n",
       "        white-space: pre-wrap;\n",
       "    }\n",
       "  </style>\n",
       "  "
      ],
      "text/plain": [
       "<IPython.core.display.HTML object>"
      ]
     },
     "metadata": {},
     "output_type": "display_data"
    },
    {
     "name": "stdout",
     "output_type": "stream",
     "text": [
      "/content/drive/MyDrive/FinLitQA/model/fiqa/ bert-base-uncased-fiqa\n"
     ]
    },
    {
     "data": {
      "application/vnd.jupyter.widget-view+json": {
       "model_id": "2b81f83325be4e31bdc15912e3b05856",
       "version_major": 2,
       "version_minor": 0
      },
      "text/plain": [
       "Downloading:   0%|          | 0.00/28.0 [00:00<?, ?B/s]"
      ]
     },
     "metadata": {},
     "output_type": "display_data"
    },
    {
     "data": {
      "application/vnd.jupyter.widget-view+json": {
       "model_id": "4780bde659dc4387b1bc973c7541e2b3",
       "version_major": 2,
       "version_minor": 0
      },
      "text/plain": [
       "Downloading:   0%|          | 0.00/570 [00:00<?, ?B/s]"
      ]
     },
     "metadata": {},
     "output_type": "display_data"
    },
    {
     "data": {
      "application/vnd.jupyter.widget-view+json": {
       "model_id": "6bbfc499ac4d46148b8c3461ada30e33",
       "version_major": 2,
       "version_minor": 0
      },
      "text/plain": [
       "Downloading:   0%|          | 0.00/226k [00:00<?, ?B/s]"
      ]
     },
     "metadata": {},
     "output_type": "display_data"
    },
    {
     "data": {
      "application/vnd.jupyter.widget-view+json": {
       "model_id": "e41df5f5f97643c68d1a2a94668826bd",
       "version_major": 2,
       "version_minor": 0
      },
      "text/plain": [
       "Downloading:   0%|          | 0.00/455k [00:00<?, ?B/s]"
      ]
     },
     "metadata": {},
     "output_type": "display_data"
    },
    {
     "data": {
      "application/vnd.jupyter.widget-view+json": {
       "model_id": "f894cdda1b3c4383bfa2492f22b6b8dc",
       "version_major": 2,
       "version_minor": 0
      },
      "text/plain": [
       "Downloading:   0%|          | 0.00/420M [00:00<?, ?B/s]"
      ]
     },
     "metadata": {},
     "output_type": "display_data"
    },
    {
     "name": "stderr",
     "output_type": "stream",
     "text": [
      "Some weights of the model checkpoint at bert-base-uncased were not used when initializing BertForMaskedLM: ['cls.seq_relationship.weight', 'cls.seq_relationship.bias']\n",
      "- This IS expected if you are initializing BertForMaskedLM from the checkpoint of a model trained on another task or with another architecture (e.g. initializing a BertForSequenceClassification model from a BertForPreTraining model).\n",
      "- This IS NOT expected if you are initializing BertForMaskedLM from the checkpoint of a model that you expect to be exactly identical (initializing a BertForSequenceClassification model from a BertForSequenceClassification model).\n"
     ]
    }
   ],
   "source": [
    "# Define Tokenizer and Model\n",
    "\n",
    "#Training Arguments - Pass training arguments and define trainer\n",
    "model_dir='/content/drive/MyDrive/FinLitQA/model/fiqa/' \n",
    "model_n = model_checkpoint1.split(\"/\")[-1] \n",
    "model_suffix = \"-fiqa\" \n",
    "model_name = f\"{model_n}{model_suffix}\"\n",
    "\n",
    "print (model_dir, model_name)\n",
    "\n",
    "# Tokenizer is defined here\n",
    "tokenizer = AutoTokenizer.from_pretrained(model_checkpoint1, use_fast=True)\n",
    "model = AutoModelForMaskedLM.from_pretrained(model_checkpoint1)\n",
    "\n",
    "# Create language modeling datasets\n",
    "fiqa_tokenized = fiqa_chunked.map(tokenize_function, batched=True, num_proc=4, remove_columns=[\"chunks\"])\n",
    "\n",
    "lm_datasets = fiqa_tokenized.map(group_texts, batched=True, batch_size=1000, num_proc=4)\n",
    "\n",
    "# trainer is defined here \n",
    "trainer = trainer_from_args(model_dir, model_name, model, tokenizer, lm_datasets)"
   ]
  },
  {
   "cell_type": "markdown",
   "metadata": {
    "id": "rf7EqxVG3tHf"
   },
   "source": [
    "This is the Training step and it will take time"
   ]
  },
  {
   "cell_type": "code",
   "execution_count": null,
   "metadata": {
    "colab": {
     "base_uri": "https://localhost:8080/",
     "height": 1000
    },
    "executionInfo": {
     "elapsed": 2558946,
     "status": "error",
     "timestamp": 1639131972484,
     "user": {
      "displayName": "vanadhi chelliah",
      "photoUrl": "https://lh3.googleusercontent.com/a/default-user=s64",
      "userId": "11158136158943693689"
     },
     "user_tz": -330
    },
    "id": "rvW21Ypk4PAr",
    "outputId": "bf48f226-4835-4144-d16f-50b160ac2efe"
   },
   "outputs": [
    {
     "data": {
      "text/html": [
       "\n",
       "  <style>\n",
       "    pre {\n",
       "        white-space: pre-wrap;\n",
       "    }\n",
       "  </style>\n",
       "  "
      ],
      "text/plain": [
       "<IPython.core.display.HTML object>"
      ]
     },
     "metadata": {},
     "output_type": "display_data"
    },
    {
     "name": "stderr",
     "output_type": "stream",
     "text": [
      "***** Running training *****\n",
      "  Num examples = 26823\n",
      "  Num Epochs = 5\n",
      "  Instantaneous batch size per device = 16\n",
      "  Total train batch size (w. parallel, distributed & accumulation) = 16\n",
      "  Gradient Accumulation steps = 1\n",
      "  Total optimization steps = 8385\n"
     ]
    },
    {
     "data": {
      "text/html": [
       "\n",
       "    <div>\n",
       "      \n",
       "      <progress value='8385' max='8385' style='width:300px; height:20px; vertical-align: middle;'></progress>\n",
       "      [8385/8385 42:05, Epoch 5/5]\n",
       "    </div>\n",
       "    <table border=\"1\" class=\"dataframe\">\n",
       "  <thead>\n",
       "    <tr style=\"text-align: left;\">\n",
       "      <th>Step</th>\n",
       "      <th>Training Loss</th>\n",
       "      <th>Validation Loss</th>\n",
       "    </tr>\n",
       "  </thead>\n",
       "  <tbody>\n",
       "    <tr>\n",
       "      <td>1000</td>\n",
       "      <td>2.351000</td>\n",
       "      <td>2.216430</td>\n",
       "    </tr>\n",
       "    <tr>\n",
       "      <td>2000</td>\n",
       "      <td>2.252100</td>\n",
       "      <td>2.135804</td>\n",
       "    </tr>\n",
       "    <tr>\n",
       "      <td>3000</td>\n",
       "      <td>2.195500</td>\n",
       "      <td>2.072918</td>\n",
       "    </tr>\n",
       "    <tr>\n",
       "      <td>4000</td>\n",
       "      <td>2.147800</td>\n",
       "      <td>2.056773</td>\n",
       "    </tr>\n",
       "    <tr>\n",
       "      <td>5000</td>\n",
       "      <td>2.111600</td>\n",
       "      <td>2.035064</td>\n",
       "    </tr>\n",
       "    <tr>\n",
       "      <td>6000</td>\n",
       "      <td>2.087100</td>\n",
       "      <td>2.001306</td>\n",
       "    </tr>\n",
       "    <tr>\n",
       "      <td>7000</td>\n",
       "      <td>2.059400</td>\n",
       "      <td>1.997049</td>\n",
       "    </tr>\n",
       "    <tr>\n",
       "      <td>8000</td>\n",
       "      <td>2.049500</td>\n",
       "      <td>1.979813</td>\n",
       "    </tr>\n",
       "  </tbody>\n",
       "</table><p>"
      ],
      "text/plain": [
       "<IPython.core.display.HTML object>"
      ]
     },
     "metadata": {},
     "output_type": "display_data"
    },
    {
     "name": "stderr",
     "output_type": "stream",
     "text": [
      "***** Running Evaluation *****\n",
      "  Num examples = 6607\n",
      "  Batch size = 16\n",
      "Saving model checkpoint to /content/drive/MyDrive/FinLitQA/model/fiqa/bert-base-uncased-fiqa/checkpoint-1000\n",
      "Configuration saved in /content/drive/MyDrive/FinLitQA/model/fiqa/bert-base-uncased-fiqa/checkpoint-1000/config.json\n",
      "Model weights saved in /content/drive/MyDrive/FinLitQA/model/fiqa/bert-base-uncased-fiqa/checkpoint-1000/pytorch_model.bin\n",
      "tokenizer config file saved in /content/drive/MyDrive/FinLitQA/model/fiqa/bert-base-uncased-fiqa/checkpoint-1000/tokenizer_config.json\n",
      "Special tokens file saved in /content/drive/MyDrive/FinLitQA/model/fiqa/bert-base-uncased-fiqa/checkpoint-1000/special_tokens_map.json\n",
      "Deleting older checkpoint [/content/drive/MyDrive/FinLitQA/model/fiqa/bert-base-uncased-fiqa/checkpoint-2000] due to args.save_total_limit\n",
      "***** Running Evaluation *****\n",
      "  Num examples = 6607\n",
      "  Batch size = 16\n",
      "Saving model checkpoint to /content/drive/MyDrive/FinLitQA/model/fiqa/bert-base-uncased-fiqa/checkpoint-2000\n",
      "Configuration saved in /content/drive/MyDrive/FinLitQA/model/fiqa/bert-base-uncased-fiqa/checkpoint-2000/config.json\n",
      "Model weights saved in /content/drive/MyDrive/FinLitQA/model/fiqa/bert-base-uncased-fiqa/checkpoint-2000/pytorch_model.bin\n",
      "tokenizer config file saved in /content/drive/MyDrive/FinLitQA/model/fiqa/bert-base-uncased-fiqa/checkpoint-2000/tokenizer_config.json\n",
      "Special tokens file saved in /content/drive/MyDrive/FinLitQA/model/fiqa/bert-base-uncased-fiqa/checkpoint-2000/special_tokens_map.json\n",
      "Deleting older checkpoint [/content/drive/MyDrive/FinLitQA/model/fiqa/bert-base-uncased-fiqa/checkpoint-3000] due to args.save_total_limit\n",
      "***** Running Evaluation *****\n",
      "  Num examples = 6607\n",
      "  Batch size = 16\n",
      "Saving model checkpoint to /content/drive/MyDrive/FinLitQA/model/fiqa/bert-base-uncased-fiqa/checkpoint-3000\n",
      "Configuration saved in /content/drive/MyDrive/FinLitQA/model/fiqa/bert-base-uncased-fiqa/checkpoint-3000/config.json\n",
      "Model weights saved in /content/drive/MyDrive/FinLitQA/model/fiqa/bert-base-uncased-fiqa/checkpoint-3000/pytorch_model.bin\n",
      "tokenizer config file saved in /content/drive/MyDrive/FinLitQA/model/fiqa/bert-base-uncased-fiqa/checkpoint-3000/tokenizer_config.json\n",
      "Special tokens file saved in /content/drive/MyDrive/FinLitQA/model/fiqa/bert-base-uncased-fiqa/checkpoint-3000/special_tokens_map.json\n",
      "Deleting older checkpoint [/content/drive/MyDrive/FinLitQA/model/fiqa/bert-base-uncased-fiqa/checkpoint-1000] due to args.save_total_limit\n",
      "***** Running Evaluation *****\n",
      "  Num examples = 6607\n",
      "  Batch size = 16\n",
      "Saving model checkpoint to /content/drive/MyDrive/FinLitQA/model/fiqa/bert-base-uncased-fiqa/checkpoint-4000\n",
      "Configuration saved in /content/drive/MyDrive/FinLitQA/model/fiqa/bert-base-uncased-fiqa/checkpoint-4000/config.json\n",
      "Model weights saved in /content/drive/MyDrive/FinLitQA/model/fiqa/bert-base-uncased-fiqa/checkpoint-4000/pytorch_model.bin\n",
      "tokenizer config file saved in /content/drive/MyDrive/FinLitQA/model/fiqa/bert-base-uncased-fiqa/checkpoint-4000/tokenizer_config.json\n",
      "Special tokens file saved in /content/drive/MyDrive/FinLitQA/model/fiqa/bert-base-uncased-fiqa/checkpoint-4000/special_tokens_map.json\n",
      "Deleting older checkpoint [/content/drive/MyDrive/FinLitQA/model/fiqa/bert-base-uncased-fiqa/checkpoint-2000] due to args.save_total_limit\n",
      "***** Running Evaluation *****\n",
      "  Num examples = 6607\n",
      "  Batch size = 16\n",
      "Saving model checkpoint to /content/drive/MyDrive/FinLitQA/model/fiqa/bert-base-uncased-fiqa/checkpoint-5000\n",
      "Configuration saved in /content/drive/MyDrive/FinLitQA/model/fiqa/bert-base-uncased-fiqa/checkpoint-5000/config.json\n",
      "Model weights saved in /content/drive/MyDrive/FinLitQA/model/fiqa/bert-base-uncased-fiqa/checkpoint-5000/pytorch_model.bin\n",
      "tokenizer config file saved in /content/drive/MyDrive/FinLitQA/model/fiqa/bert-base-uncased-fiqa/checkpoint-5000/tokenizer_config.json\n",
      "Special tokens file saved in /content/drive/MyDrive/FinLitQA/model/fiqa/bert-base-uncased-fiqa/checkpoint-5000/special_tokens_map.json\n",
      "Deleting older checkpoint [/content/drive/MyDrive/FinLitQA/model/fiqa/bert-base-uncased-fiqa/checkpoint-3000] due to args.save_total_limit\n",
      "***** Running Evaluation *****\n",
      "  Num examples = 6607\n",
      "  Batch size = 16\n",
      "Saving model checkpoint to /content/drive/MyDrive/FinLitQA/model/fiqa/bert-base-uncased-fiqa/checkpoint-6000\n",
      "Configuration saved in /content/drive/MyDrive/FinLitQA/model/fiqa/bert-base-uncased-fiqa/checkpoint-6000/config.json\n",
      "Model weights saved in /content/drive/MyDrive/FinLitQA/model/fiqa/bert-base-uncased-fiqa/checkpoint-6000/pytorch_model.bin\n",
      "tokenizer config file saved in /content/drive/MyDrive/FinLitQA/model/fiqa/bert-base-uncased-fiqa/checkpoint-6000/tokenizer_config.json\n",
      "Special tokens file saved in /content/drive/MyDrive/FinLitQA/model/fiqa/bert-base-uncased-fiqa/checkpoint-6000/special_tokens_map.json\n",
      "Deleting older checkpoint [/content/drive/MyDrive/FinLitQA/model/fiqa/bert-base-uncased-fiqa/checkpoint-4000] due to args.save_total_limit\n",
      "***** Running Evaluation *****\n",
      "  Num examples = 6607\n",
      "  Batch size = 16\n",
      "Saving model checkpoint to /content/drive/MyDrive/FinLitQA/model/fiqa/bert-base-uncased-fiqa/checkpoint-7000\n",
      "Configuration saved in /content/drive/MyDrive/FinLitQA/model/fiqa/bert-base-uncased-fiqa/checkpoint-7000/config.json\n",
      "Model weights saved in /content/drive/MyDrive/FinLitQA/model/fiqa/bert-base-uncased-fiqa/checkpoint-7000/pytorch_model.bin\n",
      "tokenizer config file saved in /content/drive/MyDrive/FinLitQA/model/fiqa/bert-base-uncased-fiqa/checkpoint-7000/tokenizer_config.json\n",
      "Special tokens file saved in /content/drive/MyDrive/FinLitQA/model/fiqa/bert-base-uncased-fiqa/checkpoint-7000/special_tokens_map.json\n",
      "Deleting older checkpoint [/content/drive/MyDrive/FinLitQA/model/fiqa/bert-base-uncased-fiqa/checkpoint-5000] due to args.save_total_limit\n",
      "***** Running Evaluation *****\n",
      "  Num examples = 6607\n",
      "  Batch size = 16\n",
      "Saving model checkpoint to /content/drive/MyDrive/FinLitQA/model/fiqa/bert-base-uncased-fiqa/checkpoint-8000\n",
      "Configuration saved in /content/drive/MyDrive/FinLitQA/model/fiqa/bert-base-uncased-fiqa/checkpoint-8000/config.json\n",
      "Model weights saved in /content/drive/MyDrive/FinLitQA/model/fiqa/bert-base-uncased-fiqa/checkpoint-8000/pytorch_model.bin\n",
      "tokenizer config file saved in /content/drive/MyDrive/FinLitQA/model/fiqa/bert-base-uncased-fiqa/checkpoint-8000/tokenizer_config.json\n",
      "Special tokens file saved in /content/drive/MyDrive/FinLitQA/model/fiqa/bert-base-uncased-fiqa/checkpoint-8000/special_tokens_map.json\n",
      "Deleting older checkpoint [/content/drive/MyDrive/FinLitQA/model/fiqa/bert-base-uncased-fiqa/checkpoint-6000] due to args.save_total_limit\n",
      "\n",
      "\n",
      "Training completed. Do not forget to share your model on huggingface.co/models =)\n",
      "\n",
      "\n",
      "Loading best model from /content/drive/MyDrive/FinLitQA/model/fiqa/bert-base-uncased-fiqa/checkpoint-8000 (score: 1.979812502861023).\n",
      "***** Running Evaluation *****\n",
      "  Num examples = 6607\n",
      "  Batch size = 16\n"
     ]
    },
    {
     "data": {
      "text/html": [
       "\n",
       "    <div>\n",
       "      \n",
       "      <progress value='413' max='413' style='width:300px; height:20px; vertical-align: middle;'></progress>\n",
       "      [413/413 00:32]\n",
       "    </div>\n",
       "    "
      ],
      "text/plain": [
       "<IPython.core.display.HTML object>"
      ]
     },
     "metadata": {},
     "output_type": "display_data"
    },
    {
     "ename": "NameError",
     "evalue": "ignored",
     "output_type": "error",
     "traceback": [
      "\u001b[0;31m---------------------------------------------------------------------------\u001b[0m",
      "\u001b[0;31mNameError\u001b[0m                                 Traceback (most recent call last)",
      "\u001b[0;32m<ipython-input-29-579040cbea0e>\u001b[0m in \u001b[0;36m<module>\u001b[0;34m()\u001b[0m\n\u001b[0;32m----> 1\u001b[0;31m \u001b[0mget_ipython\u001b[0m\u001b[0;34m(\u001b[0m\u001b[0;34m)\u001b[0m\u001b[0;34m.\u001b[0m\u001b[0mrun_cell_magic\u001b[0m\u001b[0;34m(\u001b[0m\u001b[0;34m'time'\u001b[0m\u001b[0;34m,\u001b[0m \u001b[0;34m''\u001b[0m\u001b[0;34m,\u001b[0m \u001b[0;34m'trainer.train()\\n\\neval_results = trainer.evaluate()\\nprint(f\"Perplexity: {math.exp(eval_results[\\'eval_loss\\']):.2f}\")'\u001b[0m\u001b[0;34m)\u001b[0m\u001b[0;34m\u001b[0m\u001b[0;34m\u001b[0m\u001b[0m\n\u001b[0m",
      "\u001b[0;32m/usr/local/lib/python3.7/dist-packages/IPython/core/interactiveshell.py\u001b[0m in \u001b[0;36mrun_cell_magic\u001b[0;34m(self, magic_name, line, cell)\u001b[0m\n\u001b[1;32m   2115\u001b[0m             \u001b[0mmagic_arg_s\u001b[0m \u001b[0;34m=\u001b[0m \u001b[0mself\u001b[0m\u001b[0;34m.\u001b[0m\u001b[0mvar_expand\u001b[0m\u001b[0;34m(\u001b[0m\u001b[0mline\u001b[0m\u001b[0;34m,\u001b[0m \u001b[0mstack_depth\u001b[0m\u001b[0;34m)\u001b[0m\u001b[0;34m\u001b[0m\u001b[0;34m\u001b[0m\u001b[0m\n\u001b[1;32m   2116\u001b[0m             \u001b[0;32mwith\u001b[0m \u001b[0mself\u001b[0m\u001b[0;34m.\u001b[0m\u001b[0mbuiltin_trap\u001b[0m\u001b[0;34m:\u001b[0m\u001b[0;34m\u001b[0m\u001b[0;34m\u001b[0m\u001b[0m\n\u001b[0;32m-> 2117\u001b[0;31m                 \u001b[0mresult\u001b[0m \u001b[0;34m=\u001b[0m \u001b[0mfn\u001b[0m\u001b[0;34m(\u001b[0m\u001b[0mmagic_arg_s\u001b[0m\u001b[0;34m,\u001b[0m \u001b[0mcell\u001b[0m\u001b[0;34m)\u001b[0m\u001b[0;34m\u001b[0m\u001b[0;34m\u001b[0m\u001b[0m\n\u001b[0m\u001b[1;32m   2118\u001b[0m             \u001b[0;32mreturn\u001b[0m \u001b[0mresult\u001b[0m\u001b[0;34m\u001b[0m\u001b[0;34m\u001b[0m\u001b[0m\n\u001b[1;32m   2119\u001b[0m \u001b[0;34m\u001b[0m\u001b[0m\n",
      "\u001b[0;32m<decorator-gen-53>\u001b[0m in \u001b[0;36mtime\u001b[0;34m(self, line, cell, local_ns)\u001b[0m\n",
      "\u001b[0;32m/usr/local/lib/python3.7/dist-packages/IPython/core/magic.py\u001b[0m in \u001b[0;36m<lambda>\u001b[0;34m(f, *a, **k)\u001b[0m\n\u001b[1;32m    186\u001b[0m     \u001b[0;31m# but it's overkill for just that one bit of state.\u001b[0m\u001b[0;34m\u001b[0m\u001b[0;34m\u001b[0m\u001b[0;34m\u001b[0m\u001b[0m\n\u001b[1;32m    187\u001b[0m     \u001b[0;32mdef\u001b[0m \u001b[0mmagic_deco\u001b[0m\u001b[0;34m(\u001b[0m\u001b[0marg\u001b[0m\u001b[0;34m)\u001b[0m\u001b[0;34m:\u001b[0m\u001b[0;34m\u001b[0m\u001b[0;34m\u001b[0m\u001b[0m\n\u001b[0;32m--> 188\u001b[0;31m         \u001b[0mcall\u001b[0m \u001b[0;34m=\u001b[0m \u001b[0;32mlambda\u001b[0m \u001b[0mf\u001b[0m\u001b[0;34m,\u001b[0m \u001b[0;34m*\u001b[0m\u001b[0ma\u001b[0m\u001b[0;34m,\u001b[0m \u001b[0;34m**\u001b[0m\u001b[0mk\u001b[0m\u001b[0;34m:\u001b[0m \u001b[0mf\u001b[0m\u001b[0;34m(\u001b[0m\u001b[0;34m*\u001b[0m\u001b[0ma\u001b[0m\u001b[0;34m,\u001b[0m \u001b[0;34m**\u001b[0m\u001b[0mk\u001b[0m\u001b[0;34m)\u001b[0m\u001b[0;34m\u001b[0m\u001b[0;34m\u001b[0m\u001b[0m\n\u001b[0m\u001b[1;32m    189\u001b[0m \u001b[0;34m\u001b[0m\u001b[0m\n\u001b[1;32m    190\u001b[0m         \u001b[0;32mif\u001b[0m \u001b[0mcallable\u001b[0m\u001b[0;34m(\u001b[0m\u001b[0marg\u001b[0m\u001b[0;34m)\u001b[0m\u001b[0;34m:\u001b[0m\u001b[0;34m\u001b[0m\u001b[0;34m\u001b[0m\u001b[0m\n",
      "\u001b[0;32m/usr/local/lib/python3.7/dist-packages/IPython/core/magics/execution.py\u001b[0m in \u001b[0;36mtime\u001b[0;34m(self, line, cell, local_ns)\u001b[0m\n\u001b[1;32m   1191\u001b[0m         \u001b[0;32melse\u001b[0m\u001b[0;34m:\u001b[0m\u001b[0;34m\u001b[0m\u001b[0;34m\u001b[0m\u001b[0m\n\u001b[1;32m   1192\u001b[0m             \u001b[0mst\u001b[0m \u001b[0;34m=\u001b[0m \u001b[0mclock2\u001b[0m\u001b[0;34m(\u001b[0m\u001b[0;34m)\u001b[0m\u001b[0;34m\u001b[0m\u001b[0;34m\u001b[0m\u001b[0m\n\u001b[0;32m-> 1193\u001b[0;31m             \u001b[0mexec\u001b[0m\u001b[0;34m(\u001b[0m\u001b[0mcode\u001b[0m\u001b[0;34m,\u001b[0m \u001b[0mglob\u001b[0m\u001b[0;34m,\u001b[0m \u001b[0mlocal_ns\u001b[0m\u001b[0;34m)\u001b[0m\u001b[0;34m\u001b[0m\u001b[0;34m\u001b[0m\u001b[0m\n\u001b[0m\u001b[1;32m   1194\u001b[0m             \u001b[0mend\u001b[0m \u001b[0;34m=\u001b[0m \u001b[0mclock2\u001b[0m\u001b[0;34m(\u001b[0m\u001b[0;34m)\u001b[0m\u001b[0;34m\u001b[0m\u001b[0;34m\u001b[0m\u001b[0m\n\u001b[1;32m   1195\u001b[0m             \u001b[0mout\u001b[0m \u001b[0;34m=\u001b[0m \u001b[0;32mNone\u001b[0m\u001b[0;34m\u001b[0m\u001b[0;34m\u001b[0m\u001b[0m\n",
      "\u001b[0;32m<timed exec>\u001b[0m in \u001b[0;36m<module>\u001b[0;34m()\u001b[0m\n",
      "\u001b[0;31mNameError\u001b[0m: name 'math' is not defined"
     ]
    }
   ],
   "source": [
    "%%time\n",
    "trainer.train()\n"
   ]
  },
  {
   "cell_type": "code",
   "execution_count": null,
   "metadata": {
    "colab": {
     "base_uri": "https://localhost:8080/",
     "height": 111
    },
    "executionInfo": {
     "elapsed": 33246,
     "status": "ok",
     "timestamp": 1639132053084,
     "user": {
      "displayName": "vanadhi chelliah",
      "photoUrl": "https://lh3.googleusercontent.com/a/default-user=s64",
      "userId": "11158136158943693689"
     },
     "user_tz": -330
    },
    "id": "pzsf3kc_4aIc",
    "outputId": "7a287959-b8b8-4459-a549-fa78928d5eba"
   },
   "outputs": [
    {
     "data": {
      "text/html": [
       "\n",
       "  <style>\n",
       "    pre {\n",
       "        white-space: pre-wrap;\n",
       "    }\n",
       "  </style>\n",
       "  "
      ],
      "text/plain": [
       "<IPython.core.display.HTML object>"
      ]
     },
     "metadata": {},
     "output_type": "display_data"
    },
    {
     "name": "stderr",
     "output_type": "stream",
     "text": [
      "***** Running Evaluation *****\n",
      "  Num examples = 6607\n",
      "  Batch size = 16\n"
     ]
    },
    {
     "data": {
      "text/html": [
       "\n",
       "    <div>\n",
       "      \n",
       "      <progress value='826' max='413' style='width:300px; height:20px; vertical-align: middle;'></progress>\n",
       "      [413/413 01:53]\n",
       "    </div>\n",
       "    "
      ],
      "text/plain": [
       "<IPython.core.display.HTML object>"
      ]
     },
     "metadata": {},
     "output_type": "display_data"
    },
    {
     "name": "stdout",
     "output_type": "stream",
     "text": [
      "Perplexity: 7.36\n"
     ]
    }
   ],
   "source": [
    "import math\n",
    "\n",
    "eval_results = trainer.evaluate()\n",
    "print(f\"Perplexity: {math.exp(eval_results['eval_loss']):.2f}\")"
   ]
  },
  {
   "cell_type": "code",
   "execution_count": null,
   "metadata": {
    "colab": {
     "base_uri": "https://localhost:8080/",
     "height": 303
    },
    "executionInfo": {
     "elapsed": 43318,
     "status": "ok",
     "timestamp": 1639132118199,
     "user": {
      "displayName": "vanadhi chelliah",
      "photoUrl": "https://lh3.googleusercontent.com/a/default-user=s64",
      "userId": "11158136158943693689"
     },
     "user_tz": -330
    },
    "id": "_G8GnGeAfX-k",
    "outputId": "e55867bc-b443-456d-b5a1-869e6cd86100"
   },
   "outputs": [
    {
     "data": {
      "text/html": [
       "\n",
       "  <style>\n",
       "    pre {\n",
       "        white-space: pre-wrap;\n",
       "    }\n",
       "  </style>\n",
       "  "
      ],
      "text/plain": [
       "<IPython.core.display.HTML object>"
      ]
     },
     "metadata": {},
     "output_type": "display_data"
    },
    {
     "name": "stderr",
     "output_type": "stream",
     "text": [
      "Saving model checkpoint to /content/drive/MyDrive/FinLitQA/model/fiqa_final/bert-base-uncased-fiqa/\n",
      "Configuration saved in /content/drive/MyDrive/FinLitQA/model/fiqa_final/bert-base-uncased-fiqa/config.json\n",
      "Model weights saved in /content/drive/MyDrive/FinLitQA/model/fiqa_final/bert-base-uncased-fiqa/pytorch_model.bin\n",
      "tokenizer config file saved in /content/drive/MyDrive/FinLitQA/model/fiqa_final/bert-base-uncased-fiqa/tokenizer_config.json\n",
      "Special tokens file saved in /content/drive/MyDrive/FinLitQA/model/fiqa_final/bert-base-uncased-fiqa/special_tokens_map.json\n",
      "***** Running Evaluation *****\n",
      "  Num examples = 6607\n",
      "  Batch size = 16\n"
     ]
    },
    {
     "data": {
      "text/html": [
       "\n",
       "    <div>\n",
       "      \n",
       "      <progress value='1239' max='413' style='width:300px; height:20px; vertical-align: middle;'></progress>\n",
       "      [413/413 02:58]\n",
       "    </div>\n",
       "    "
      ],
      "text/plain": [
       "<IPython.core.display.HTML object>"
      ]
     },
     "metadata": {},
     "output_type": "display_data"
    },
    {
     "name": "stdout",
     "output_type": "stream",
     "text": [
      "{'eval_loss': 1.9934914112091064, 'eval_runtime': 32.722, 'eval_samples_per_second': 201.913, 'eval_steps_per_second': 12.621, 'epoch': 5.0}\n",
      "Perplexity: 7.34\n"
     ]
    },
    {
     "data": {
      "text/html": [
       "<div>\n",
       "<style scoped>\n",
       "    .dataframe tbody tr th:only-of-type {\n",
       "        vertical-align: middle;\n",
       "    }\n",
       "\n",
       "    .dataframe tbody tr th {\n",
       "        vertical-align: top;\n",
       "    }\n",
       "\n",
       "    .dataframe thead th {\n",
       "        text-align: right;\n",
       "    }\n",
       "</style>\n",
       "<table border=\"1\" class=\"dataframe\">\n",
       "  <thead>\n",
       "    <tr style=\"text-align: right;\">\n",
       "      <th></th>\n",
       "      <th>index</th>\n",
       "      <th>eval_loss</th>\n",
       "      <th>eval_runtime</th>\n",
       "      <th>eval_samples_per_second</th>\n",
       "      <th>eval_steps_per_second</th>\n",
       "      <th>epoch</th>\n",
       "      <th>Perplexity</th>\n",
       "    </tr>\n",
       "  </thead>\n",
       "  <tbody>\n",
       "    <tr>\n",
       "      <th>0</th>\n",
       "      <td>bert-base-uncased-fiqa</td>\n",
       "      <td>1.993491</td>\n",
       "      <td>32.722</td>\n",
       "      <td>201.913</td>\n",
       "      <td>12.621</td>\n",
       "      <td>5.0</td>\n",
       "      <td>7.34</td>\n",
       "    </tr>\n",
       "  </tbody>\n",
       "</table>\n",
       "</div>"
      ],
      "text/plain": [
       "                    index  eval_loss  ...  epoch  Perplexity\n",
       "0  bert-base-uncased-fiqa   1.993491  ...    5.0        7.34\n",
       "\n",
       "[1 rows x 7 columns]"
      ]
     },
     "execution_count": 31,
     "metadata": {},
     "output_type": "execute_result"
    }
   ],
   "source": [
    "# Save the model\n",
    "\n",
    "save_path_model1 = \"/content/drive/MyDrive/FinLitQA/model/fiqa_final/bert-base-uncased-fiqa/\"\n",
    "trainer.save_model(save_path_model1)\n",
    "\n",
    "# Evaluate the trainer and consolidate the results\n",
    "# Calculate and add Perplexity to the evaluation results\n",
    "\n",
    "evaluate_trainer(trainer, model_name)"
   ]
  },
  {
   "cell_type": "code",
   "execution_count": null,
   "metadata": {
    "colab": {
     "base_uri": "https://localhost:8080/",
     "height": 848
    },
    "executionInfo": {
     "elapsed": 34917,
     "status": "ok",
     "timestamp": 1639132161501,
     "user": {
      "displayName": "vanadhi chelliah",
      "photoUrl": "https://lh3.googleusercontent.com/a/default-user=s64",
      "userId": "11158136158943693689"
     },
     "user_tz": -330
    },
    "id": "1eJ724ojrphg",
    "outputId": "a73eaf03-d6a0-44a3-ce50-27184c8a96ed"
   },
   "outputs": [
    {
     "data": {
      "text/html": [
       "\n",
       "  <style>\n",
       "    pre {\n",
       "        white-space: pre-wrap;\n",
       "    }\n",
       "  </style>\n",
       "  "
      ],
      "text/plain": [
       "<IPython.core.display.HTML object>"
      ]
     },
     "metadata": {},
     "output_type": "display_data"
    },
    {
     "name": "stderr",
     "output_type": "stream",
     "text": [
      "loading configuration file /content/drive/MyDrive/FinLitQA/model/fiqa_final/bert-base-uncased-fiqa/config.json\n",
      "Model config BertConfig {\n",
      "  \"_name_or_path\": \"/content/drive/MyDrive/FinLitQA/model/fiqa_final/bert-base-uncased-fiqa/\",\n",
      "  \"architectures\": [\n",
      "    \"BertForMaskedLM\"\n",
      "  ],\n",
      "  \"attention_probs_dropout_prob\": 0.1,\n",
      "  \"classifier_dropout\": null,\n",
      "  \"gradient_checkpointing\": false,\n",
      "  \"hidden_act\": \"gelu\",\n",
      "  \"hidden_dropout_prob\": 0.1,\n",
      "  \"hidden_size\": 768,\n",
      "  \"initializer_range\": 0.02,\n",
      "  \"intermediate_size\": 3072,\n",
      "  \"layer_norm_eps\": 1e-12,\n",
      "  \"max_position_embeddings\": 512,\n",
      "  \"model_type\": \"bert\",\n",
      "  \"num_attention_heads\": 12,\n",
      "  \"num_hidden_layers\": 12,\n",
      "  \"pad_token_id\": 0,\n",
      "  \"position_embedding_type\": \"absolute\",\n",
      "  \"torch_dtype\": \"float32\",\n",
      "  \"transformers_version\": \"4.13.0\",\n",
      "  \"type_vocab_size\": 2,\n",
      "  \"use_cache\": true,\n",
      "  \"vocab_size\": 30522\n",
      "}\n",
      "\n",
      "loading weights file /content/drive/MyDrive/FinLitQA/model/fiqa_final/bert-base-uncased-fiqa/pytorch_model.bin\n",
      "All model checkpoint weights were used when initializing BertForMaskedLM.\n",
      "\n",
      "All the weights of BertForMaskedLM were initialized from the model checkpoint at /content/drive/MyDrive/FinLitQA/model/fiqa_final/bert-base-uncased-fiqa/.\n",
      "If your task is similar to the task the model of the checkpoint was trained on, you can already use BertForMaskedLM for predictions without further training.\n",
      "***** Running Evaluation *****\n",
      "  Num examples = 6607\n",
      "  Batch size = 16\n"
     ]
    },
    {
     "data": {
      "text/html": [
       "\n",
       "    <div>\n",
       "      \n",
       "      <progress value='1652' max='413' style='width:300px; height:20px; vertical-align: middle;'></progress>\n",
       "      [413/413 03:42]\n",
       "    </div>\n",
       "    "
      ],
      "text/plain": [
       "<IPython.core.display.HTML object>"
      ]
     },
     "metadata": {},
     "output_type": "display_data"
    },
    {
     "data": {
      "text/plain": [
       "({'epoch': 5.0,\n",
       "  'eval_loss': 1.9794766902923584,\n",
       "  'eval_runtime': 32.7092,\n",
       "  'eval_samples_per_second': 201.992,\n",
       "  'eval_steps_per_second': 12.626},\n",
       " '7.24')"
      ]
     },
     "execution_count": 32,
     "metadata": {},
     "output_type": "execute_result"
    }
   ],
   "source": [
    "# Reload model and check\n",
    "model = AutoModelForMaskedLM.from_pretrained(save_path_model1, local_files_only=True)\n",
    "trainer.model = model.cuda()\n",
    "eval_results = trainer.evaluate()\n",
    "eval_results, f\"{math.exp(eval_results['eval_loss']):.2f}\""
   ]
  },
  {
   "cell_type": "code",
   "execution_count": null,
   "metadata": {
    "colab": {
     "base_uri": "https://localhost:8080/",
     "height": 81
    },
    "executionInfo": {
     "elapsed": 27,
     "status": "ok",
     "timestamp": 1639132161507,
     "user": {
      "displayName": "vanadhi chelliah",
      "photoUrl": "https://lh3.googleusercontent.com/a/default-user=s64",
      "userId": "11158136158943693689"
     },
     "user_tz": -330
    },
    "id": "BkQasSFaPFH-",
    "outputId": "1c21c5dd-8f4e-40bc-c39a-9fd4e55242d0"
   },
   "outputs": [
    {
     "data": {
      "text/html": [
       "\n",
       "  <style>\n",
       "    pre {\n",
       "        white-space: pre-wrap;\n",
       "    }\n",
       "  </style>\n",
       "  "
      ],
      "text/plain": [
       "<IPython.core.display.HTML object>"
      ]
     },
     "metadata": {},
     "output_type": "display_data"
    },
    {
     "data": {
      "text/html": [
       "<div>\n",
       "<style scoped>\n",
       "    .dataframe tbody tr th:only-of-type {\n",
       "        vertical-align: middle;\n",
       "    }\n",
       "\n",
       "    .dataframe tbody tr th {\n",
       "        vertical-align: top;\n",
       "    }\n",
       "\n",
       "    .dataframe thead th {\n",
       "        text-align: right;\n",
       "    }\n",
       "</style>\n",
       "<table border=\"1\" class=\"dataframe\">\n",
       "  <thead>\n",
       "    <tr style=\"text-align: right;\">\n",
       "      <th></th>\n",
       "      <th>index</th>\n",
       "      <th>eval_loss</th>\n",
       "      <th>eval_runtime</th>\n",
       "      <th>eval_samples_per_second</th>\n",
       "      <th>eval_steps_per_second</th>\n",
       "      <th>epoch</th>\n",
       "      <th>Perplexity</th>\n",
       "    </tr>\n",
       "  </thead>\n",
       "  <tbody>\n",
       "    <tr>\n",
       "      <th>0</th>\n",
       "      <td>bert-base-uncased-fiqa</td>\n",
       "      <td>1.993491</td>\n",
       "      <td>32.722</td>\n",
       "      <td>201.913</td>\n",
       "      <td>12.621</td>\n",
       "      <td>5.0</td>\n",
       "      <td>7.34</td>\n",
       "    </tr>\n",
       "  </tbody>\n",
       "</table>\n",
       "</div>"
      ],
      "text/plain": [
       "                    index  eval_loss  ...  epoch  Perplexity\n",
       "0  bert-base-uncased-fiqa   1.993491  ...    5.0        7.34\n",
       "\n",
       "[1 rows x 7 columns]"
      ]
     },
     "execution_count": 33,
     "metadata": {},
     "output_type": "execute_result"
    }
   ],
   "source": [
    "df_lmtrain_summary"
   ]
  },
  {
   "cell_type": "markdown",
   "metadata": {
    "id": "emKW8z6sRL9k"
   },
   "source": [
    "## Model 2 - \"roberta-base\""
   ]
  },
  {
   "cell_type": "code",
   "execution_count": null,
   "metadata": {
    "colab": {
     "base_uri": "https://localhost:8080/",
     "height": 16
    },
    "executionInfo": {
     "elapsed": 519,
     "status": "ok",
     "timestamp": 1639132188208,
     "user": {
      "displayName": "vanadhi chelliah",
      "photoUrl": "https://lh3.googleusercontent.com/a/default-user=s64",
      "userId": "11158136158943693689"
     },
     "user_tz": -330
    },
    "id": "ye8L3omuRL9k",
    "outputId": "a8937b52-6cf0-41cc-a284-3d30703803a3"
   },
   "outputs": [
    {
     "data": {
      "text/html": [
       "\n",
       "  <style>\n",
       "    pre {\n",
       "        white-space: pre-wrap;\n",
       "    }\n",
       "  </style>\n",
       "  "
      ],
      "text/plain": [
       "<IPython.core.display.HTML object>"
      ]
     },
     "metadata": {},
     "output_type": "display_data"
    }
   ],
   "source": [
    "# model_checkpoint2 \n",
    "\n",
    "model_checkpoint2 = \"roberta-base\""
   ]
  },
  {
   "cell_type": "code",
   "execution_count": null,
   "metadata": {
    "colab": {
     "base_uri": "https://localhost:8080/",
     "height": 1000,
     "referenced_widgets": [
      "5b7074bf5b154411b64df8d1d66f0818",
      "71fea61b864b4f719f77f0562905b6ce",
      "2f043af89f1f47b69a32a944069479b0",
      "9622c1b0554c4968a06f719dad83b52b",
      "ef4f7d8103124fc5a71718691b9fec21",
      "2231b9eeca59404196009612c7f5e218",
      "b4e2bf2cb4634f2e84b20c987f897978",
      "a028e99a93114f32bdee1bf140e55e81",
      "8bc6c359198c4a83961e3f56245582d7",
      "520dd72f15f5494f990aa1c3b5cf18e3",
      "bf67e58b6df8451091d182a763a8a234",
      "3fda3a602d324defb1f4cf2b9175748d",
      "92a8c8e236e04b06be561f7d4ed57e18",
      "a45bb1a7da254681877e2386b4a64e9f",
      "9aca5b3749674ae68616fb365934db61",
      "89e97e8df3664a008335af56ea6dfb28",
      "28b6d3394da242c99e297be76ddd6f8e",
      "a533692c237a4c8aaff6364eeaa6f48b",
      "7cf615d9c31f426fa1f99b49f7a7127f",
      "4dc61a97d442451eb97101d47dcfdc4b",
      "2b2c2e4a75a34a7fbfc1de87160c7b20",
      "532cbca774c740f89e2b96ad9164fd38",
      "c0e33df580624a1386d342aabdc279bb",
      "700e4fd350184d989107186aebc4195e",
      "5da506f69220497cb930336cb13ea354",
      "8ba955f9bb1944679d625fd3a1084705",
      "9f4a810864b743b3807fb5208c0a7fd6",
      "f84bb386c16d46c3b4b47ec70c568aab",
      "7d22d91ed58e40df9d135a500b54dabe",
      "c749f368b8504725811f12a0ec603830",
      "8866e632113347d8be012e81c4bb9dbe",
      "f8c8ed2177bf496ebcc58657e297a8e5",
      "3f844d3b6f844501bdfc7a799e777f8d",
      "fd4dfebe5d3249bc91e456a45a7e782a",
      "cb531327a0df452da99e5b67d4447805",
      "3e0db2441f6b445cb25786429186a5f4",
      "1dce54ce48594c4087541a800531696d",
      "1626e3043d58456d98b311f53cf7a323",
      "3fc36ba5b2984a399234b7828e7744d1",
      "da5af35bd4bf4696b33168b5d8121fce",
      "08c0bdca3490417dbfa80af298b6ba4e",
      "cdab46f92ddc403f9250c3230417e860",
      "e9217e7561874aed89d4951a1778b866",
      "8b359ad2637f47f38732d7e1357750bb",
      "f85ca496bc2f4dbc9d949184ed252e36",
      "8e0a401df7344d599c182d375c0ad61a",
      "c111801fe8c14059812b7c3fc7dc56d8",
      "4b26b7b0ba9d49e984bbc0119bcddcb5",
      "fd9f5644e16342ae9a1d2f41cac3bec2",
      "5091792f69bb4e5996bbd6007d993663",
      "e8ad557975ed40c8b6ca4a4a7ddc45f5",
      "316f1208d8124435bc028304ff298322",
      "fbec4beb5624479a93962113a403d575",
      "93989147b2754012aaaaa1da1d812388",
      "d9af6db30f59460faeaef573eaba0e3f"
     ]
    },
    "executionInfo": {
     "elapsed": 48689,
     "status": "ok",
     "timestamp": 1639132242225,
     "user": {
      "displayName": "vanadhi chelliah",
      "photoUrl": "https://lh3.googleusercontent.com/a/default-user=s64",
      "userId": "11158136158943693689"
     },
     "user_tz": -330
    },
    "id": "1A2nSFGsRL9l",
    "outputId": "f3966c4c-3d99-44f1-8d24-7f5279bb3079"
   },
   "outputs": [
    {
     "data": {
      "text/html": [
       "\n",
       "  <style>\n",
       "    pre {\n",
       "        white-space: pre-wrap;\n",
       "    }\n",
       "  </style>\n",
       "  "
      ],
      "text/plain": [
       "<IPython.core.display.HTML object>"
      ]
     },
     "metadata": {},
     "output_type": "display_data"
    },
    {
     "name": "stdout",
     "output_type": "stream",
     "text": [
      "/content/drive/MyDrive/FinLitQA/model/fiqa/ roberta-base-fiqa\n"
     ]
    },
    {
     "name": "stderr",
     "output_type": "stream",
     "text": [
      "Could not locate the tokenizer configuration file, will try to use the model config instead.\n",
      "https://huggingface.co/roberta-base/resolve/main/config.json not found in cache or force_download set to True, downloading to /root/.cache/huggingface/transformers/tmpjsbi24c0\n"
     ]
    },
    {
     "data": {
      "application/vnd.jupyter.widget-view+json": {
       "model_id": "5b7074bf5b154411b64df8d1d66f0818",
       "version_major": 2,
       "version_minor": 0
      },
      "text/plain": [
       "Downloading:   0%|          | 0.00/481 [00:00<?, ?B/s]"
      ]
     },
     "metadata": {},
     "output_type": "display_data"
    },
    {
     "name": "stderr",
     "output_type": "stream",
     "text": [
      "storing https://huggingface.co/roberta-base/resolve/main/config.json in cache at /root/.cache/huggingface/transformers/733bade19e5f0ce98e6531021dd5180994bb2f7b8bd7e80c7968805834ba351e.35205c6cfc956461d8515139f0f8dd5d207a2f336c0c3a83b4bc8dca3518e37b\n",
      "creating metadata file for /root/.cache/huggingface/transformers/733bade19e5f0ce98e6531021dd5180994bb2f7b8bd7e80c7968805834ba351e.35205c6cfc956461d8515139f0f8dd5d207a2f336c0c3a83b4bc8dca3518e37b\n",
      "loading configuration file https://huggingface.co/roberta-base/resolve/main/config.json from cache at /root/.cache/huggingface/transformers/733bade19e5f0ce98e6531021dd5180994bb2f7b8bd7e80c7968805834ba351e.35205c6cfc956461d8515139f0f8dd5d207a2f336c0c3a83b4bc8dca3518e37b\n",
      "Model config RobertaConfig {\n",
      "  \"_name_or_path\": \"roberta-base\",\n",
      "  \"architectures\": [\n",
      "    \"RobertaForMaskedLM\"\n",
      "  ],\n",
      "  \"attention_probs_dropout_prob\": 0.1,\n",
      "  \"bos_token_id\": 0,\n",
      "  \"classifier_dropout\": null,\n",
      "  \"eos_token_id\": 2,\n",
      "  \"hidden_act\": \"gelu\",\n",
      "  \"hidden_dropout_prob\": 0.1,\n",
      "  \"hidden_size\": 768,\n",
      "  \"initializer_range\": 0.02,\n",
      "  \"intermediate_size\": 3072,\n",
      "  \"layer_norm_eps\": 1e-05,\n",
      "  \"max_position_embeddings\": 514,\n",
      "  \"model_type\": \"roberta\",\n",
      "  \"num_attention_heads\": 12,\n",
      "  \"num_hidden_layers\": 12,\n",
      "  \"pad_token_id\": 1,\n",
      "  \"position_embedding_type\": \"absolute\",\n",
      "  \"transformers_version\": \"4.13.0\",\n",
      "  \"type_vocab_size\": 1,\n",
      "  \"use_cache\": true,\n",
      "  \"vocab_size\": 50265\n",
      "}\n",
      "\n",
      "https://huggingface.co/roberta-base/resolve/main/vocab.json not found in cache or force_download set to True, downloading to /root/.cache/huggingface/transformers/tmplg80d6v1\n"
     ]
    },
    {
     "data": {
      "application/vnd.jupyter.widget-view+json": {
       "model_id": "3fda3a602d324defb1f4cf2b9175748d",
       "version_major": 2,
       "version_minor": 0
      },
      "text/plain": [
       "Downloading:   0%|          | 0.00/878k [00:00<?, ?B/s]"
      ]
     },
     "metadata": {},
     "output_type": "display_data"
    },
    {
     "name": "stderr",
     "output_type": "stream",
     "text": [
      "storing https://huggingface.co/roberta-base/resolve/main/vocab.json in cache at /root/.cache/huggingface/transformers/d3ccdbfeb9aaa747ef20432d4976c32ee3fa69663b379deb253ccfce2bb1fdc5.d67d6b367eb24ab43b08ad55e014cf254076934f71d832bbab9ad35644a375ab\n",
      "creating metadata file for /root/.cache/huggingface/transformers/d3ccdbfeb9aaa747ef20432d4976c32ee3fa69663b379deb253ccfce2bb1fdc5.d67d6b367eb24ab43b08ad55e014cf254076934f71d832bbab9ad35644a375ab\n",
      "https://huggingface.co/roberta-base/resolve/main/merges.txt not found in cache or force_download set to True, downloading to /root/.cache/huggingface/transformers/tmp51hquj48\n"
     ]
    },
    {
     "data": {
      "application/vnd.jupyter.widget-view+json": {
       "model_id": "c0e33df580624a1386d342aabdc279bb",
       "version_major": 2,
       "version_minor": 0
      },
      "text/plain": [
       "Downloading:   0%|          | 0.00/446k [00:00<?, ?B/s]"
      ]
     },
     "metadata": {},
     "output_type": "display_data"
    },
    {
     "name": "stderr",
     "output_type": "stream",
     "text": [
      "storing https://huggingface.co/roberta-base/resolve/main/merges.txt in cache at /root/.cache/huggingface/transformers/cafdecc90fcab17011e12ac813dd574b4b3fea39da6dd817813efa010262ff3f.5d12962c5ee615a4c803841266e9c3be9a691a924f72d395d3a6c6c81157788b\n",
      "creating metadata file for /root/.cache/huggingface/transformers/cafdecc90fcab17011e12ac813dd574b4b3fea39da6dd817813efa010262ff3f.5d12962c5ee615a4c803841266e9c3be9a691a924f72d395d3a6c6c81157788b\n",
      "https://huggingface.co/roberta-base/resolve/main/tokenizer.json not found in cache or force_download set to True, downloading to /root/.cache/huggingface/transformers/tmpj0yjsoi7\n"
     ]
    },
    {
     "data": {
      "application/vnd.jupyter.widget-view+json": {
       "model_id": "fd4dfebe5d3249bc91e456a45a7e782a",
       "version_major": 2,
       "version_minor": 0
      },
      "text/plain": [
       "Downloading:   0%|          | 0.00/1.29M [00:00<?, ?B/s]"
      ]
     },
     "metadata": {},
     "output_type": "display_data"
    },
    {
     "name": "stderr",
     "output_type": "stream",
     "text": [
      "storing https://huggingface.co/roberta-base/resolve/main/tokenizer.json in cache at /root/.cache/huggingface/transformers/d53fc0fa09b8342651efd4073d75e19617b3e51287c2a535becda5808a8db287.fc9576039592f026ad76a1c231b89aee8668488c671dfbe6616bab2ed298d730\n",
      "creating metadata file for /root/.cache/huggingface/transformers/d53fc0fa09b8342651efd4073d75e19617b3e51287c2a535becda5808a8db287.fc9576039592f026ad76a1c231b89aee8668488c671dfbe6616bab2ed298d730\n",
      "loading file https://huggingface.co/roberta-base/resolve/main/vocab.json from cache at /root/.cache/huggingface/transformers/d3ccdbfeb9aaa747ef20432d4976c32ee3fa69663b379deb253ccfce2bb1fdc5.d67d6b367eb24ab43b08ad55e014cf254076934f71d832bbab9ad35644a375ab\n",
      "loading file https://huggingface.co/roberta-base/resolve/main/merges.txt from cache at /root/.cache/huggingface/transformers/cafdecc90fcab17011e12ac813dd574b4b3fea39da6dd817813efa010262ff3f.5d12962c5ee615a4c803841266e9c3be9a691a924f72d395d3a6c6c81157788b\n",
      "loading file https://huggingface.co/roberta-base/resolve/main/tokenizer.json from cache at /root/.cache/huggingface/transformers/d53fc0fa09b8342651efd4073d75e19617b3e51287c2a535becda5808a8db287.fc9576039592f026ad76a1c231b89aee8668488c671dfbe6616bab2ed298d730\n",
      "loading file https://huggingface.co/roberta-base/resolve/main/added_tokens.json from cache at None\n",
      "loading file https://huggingface.co/roberta-base/resolve/main/special_tokens_map.json from cache at None\n",
      "loading file https://huggingface.co/roberta-base/resolve/main/tokenizer_config.json from cache at None\n",
      "loading configuration file https://huggingface.co/roberta-base/resolve/main/config.json from cache at /root/.cache/huggingface/transformers/733bade19e5f0ce98e6531021dd5180994bb2f7b8bd7e80c7968805834ba351e.35205c6cfc956461d8515139f0f8dd5d207a2f336c0c3a83b4bc8dca3518e37b\n",
      "Model config RobertaConfig {\n",
      "  \"_name_or_path\": \"roberta-base\",\n",
      "  \"architectures\": [\n",
      "    \"RobertaForMaskedLM\"\n",
      "  ],\n",
      "  \"attention_probs_dropout_prob\": 0.1,\n",
      "  \"bos_token_id\": 0,\n",
      "  \"classifier_dropout\": null,\n",
      "  \"eos_token_id\": 2,\n",
      "  \"hidden_act\": \"gelu\",\n",
      "  \"hidden_dropout_prob\": 0.1,\n",
      "  \"hidden_size\": 768,\n",
      "  \"initializer_range\": 0.02,\n",
      "  \"intermediate_size\": 3072,\n",
      "  \"layer_norm_eps\": 1e-05,\n",
      "  \"max_position_embeddings\": 514,\n",
      "  \"model_type\": \"roberta\",\n",
      "  \"num_attention_heads\": 12,\n",
      "  \"num_hidden_layers\": 12,\n",
      "  \"pad_token_id\": 1,\n",
      "  \"position_embedding_type\": \"absolute\",\n",
      "  \"transformers_version\": \"4.13.0\",\n",
      "  \"type_vocab_size\": 1,\n",
      "  \"use_cache\": true,\n",
      "  \"vocab_size\": 50265\n",
      "}\n",
      "\n",
      "loading configuration file https://huggingface.co/roberta-base/resolve/main/config.json from cache at /root/.cache/huggingface/transformers/733bade19e5f0ce98e6531021dd5180994bb2f7b8bd7e80c7968805834ba351e.35205c6cfc956461d8515139f0f8dd5d207a2f336c0c3a83b4bc8dca3518e37b\n",
      "Model config RobertaConfig {\n",
      "  \"_name_or_path\": \"roberta-base\",\n",
      "  \"architectures\": [\n",
      "    \"RobertaForMaskedLM\"\n",
      "  ],\n",
      "  \"attention_probs_dropout_prob\": 0.1,\n",
      "  \"bos_token_id\": 0,\n",
      "  \"classifier_dropout\": null,\n",
      "  \"eos_token_id\": 2,\n",
      "  \"hidden_act\": \"gelu\",\n",
      "  \"hidden_dropout_prob\": 0.1,\n",
      "  \"hidden_size\": 768,\n",
      "  \"initializer_range\": 0.02,\n",
      "  \"intermediate_size\": 3072,\n",
      "  \"layer_norm_eps\": 1e-05,\n",
      "  \"max_position_embeddings\": 514,\n",
      "  \"model_type\": \"roberta\",\n",
      "  \"num_attention_heads\": 12,\n",
      "  \"num_hidden_layers\": 12,\n",
      "  \"pad_token_id\": 1,\n",
      "  \"position_embedding_type\": \"absolute\",\n",
      "  \"transformers_version\": \"4.13.0\",\n",
      "  \"type_vocab_size\": 1,\n",
      "  \"use_cache\": true,\n",
      "  \"vocab_size\": 50265\n",
      "}\n",
      "\n",
      "https://huggingface.co/roberta-base/resolve/main/pytorch_model.bin not found in cache or force_download set to True, downloading to /root/.cache/huggingface/transformers/tmpuil42lm2\n"
     ]
    },
    {
     "data": {
      "application/vnd.jupyter.widget-view+json": {
       "model_id": "f85ca496bc2f4dbc9d949184ed252e36",
       "version_major": 2,
       "version_minor": 0
      },
      "text/plain": [
       "Downloading:   0%|          | 0.00/478M [00:00<?, ?B/s]"
      ]
     },
     "metadata": {},
     "output_type": "display_data"
    },
    {
     "name": "stderr",
     "output_type": "stream",
     "text": [
      "storing https://huggingface.co/roberta-base/resolve/main/pytorch_model.bin in cache at /root/.cache/huggingface/transformers/51ba668f7ff34e7cdfa9561e8361747738113878850a7d717dbc69de8683aaad.c7efaa30a0d80b2958b876969faa180e485944a849deee4ad482332de65365a7\n",
      "creating metadata file for /root/.cache/huggingface/transformers/51ba668f7ff34e7cdfa9561e8361747738113878850a7d717dbc69de8683aaad.c7efaa30a0d80b2958b876969faa180e485944a849deee4ad482332de65365a7\n",
      "loading weights file https://huggingface.co/roberta-base/resolve/main/pytorch_model.bin from cache at /root/.cache/huggingface/transformers/51ba668f7ff34e7cdfa9561e8361747738113878850a7d717dbc69de8683aaad.c7efaa30a0d80b2958b876969faa180e485944a849deee4ad482332de65365a7\n",
      "All model checkpoint weights were used when initializing RobertaForMaskedLM.\n",
      "\n",
      "All the weights of RobertaForMaskedLM were initialized from the model checkpoint at roberta-base.\n",
      "If your task is similar to the task the model of the checkpoint was trained on, you can already use RobertaForMaskedLM for predictions without further training.\n",
      "PyTorch: setting up devices\n",
      "The default value for the training argument `--report_to` will change in v5 (from all installed integrations to none). In v5, you will need to use `--report_to all` to get the same behavior as now. You should start updating your code and make this info disappear :-).\n"
     ]
    }
   ],
   "source": [
    "# Training Arguments - Pass training arguments and define trainer\n",
    "\n",
    "model.to('cuda');\n",
    "model_dir='/content/drive/MyDrive/FinLitQA/model/fiqa/'\n",
    "model_n = model_checkpoint2.split(\"/\")[-1]\n",
    "model_suffix = \"-fiqa\"\n",
    "model_name = f\"{model_n}{model_suffix}\"\n",
    "\n",
    "print (model_dir, model_name)\n",
    "\n",
    "# Define Tokenizer and Model\n",
    "tokenizer = AutoTokenizer.from_pretrained(model_checkpoint2, use_fast=True)\n",
    "model = AutoModelForMaskedLM.from_pretrained(model_checkpoint2)\n",
    "\n",
    "# Create language modeling datasets\n",
    "fiqa_tokenized = fiqa_chunked.map(tokenize_function, batched=True, num_proc=4, remove_columns=[\"chunks\"])\n",
    "lm_datasets = fiqa_tokenized.map(group_texts, batched=True, batch_size=1000, num_proc=4)\n",
    "\n",
    "# trainer is defined here \n",
    "trainer = trainer_from_args(model_dir, model_name, model, tokenizer, lm_datasets)"
   ]
  },
  {
   "cell_type": "code",
   "execution_count": null,
   "metadata": {
    "colab": {
     "base_uri": "https://localhost:8080/",
     "height": 1000
    },
    "executionInfo": {
     "elapsed": 2862717,
     "status": "ok",
     "timestamp": 1639135127075,
     "user": {
      "displayName": "vanadhi chelliah",
      "photoUrl": "https://lh3.googleusercontent.com/a/default-user=s64",
      "userId": "11158136158943693689"
     },
     "user_tz": -330
    },
    "id": "TJUYUhBoRL9m",
    "outputId": "d5a85570-3a2d-4e4e-aaaa-48b485989aac"
   },
   "outputs": [
    {
     "data": {
      "text/html": [
       "\n",
       "  <style>\n",
       "    pre {\n",
       "        white-space: pre-wrap;\n",
       "    }\n",
       "  </style>\n",
       "  "
      ],
      "text/plain": [
       "<IPython.core.display.HTML object>"
      ]
     },
     "metadata": {},
     "output_type": "display_data"
    },
    {
     "name": "stderr",
     "output_type": "stream",
     "text": [
      "***** Running training *****\n",
      "  Num examples = 26854\n",
      "  Num Epochs = 5\n",
      "  Instantaneous batch size per device = 16\n",
      "  Total train batch size (w. parallel, distributed & accumulation) = 16\n",
      "  Gradient Accumulation steps = 1\n",
      "  Total optimization steps = 8395\n"
     ]
    },
    {
     "data": {
      "text/html": [
       "\n",
       "    <div>\n",
       "      \n",
       "      <progress value='8395' max='8395' style='width:300px; height:20px; vertical-align: middle;'></progress>\n",
       "      [8395/8395 47:05, Epoch 5/5]\n",
       "    </div>\n",
       "    <table border=\"1\" class=\"dataframe\">\n",
       "  <thead>\n",
       "    <tr style=\"text-align: left;\">\n",
       "      <th>Step</th>\n",
       "      <th>Training Loss</th>\n",
       "      <th>Validation Loss</th>\n",
       "    </tr>\n",
       "  </thead>\n",
       "  <tbody>\n",
       "    <tr>\n",
       "      <td>1000</td>\n",
       "      <td>1.784500</td>\n",
       "      <td>1.669465</td>\n",
       "    </tr>\n",
       "    <tr>\n",
       "      <td>2000</td>\n",
       "      <td>1.751100</td>\n",
       "      <td>1.634230</td>\n",
       "    </tr>\n",
       "    <tr>\n",
       "      <td>3000</td>\n",
       "      <td>1.703100</td>\n",
       "      <td>1.614257</td>\n",
       "    </tr>\n",
       "    <tr>\n",
       "      <td>4000</td>\n",
       "      <td>1.677300</td>\n",
       "      <td>1.602091</td>\n",
       "    </tr>\n",
       "    <tr>\n",
       "      <td>5000</td>\n",
       "      <td>1.660300</td>\n",
       "      <td>1.581412</td>\n",
       "    </tr>\n",
       "    <tr>\n",
       "      <td>6000</td>\n",
       "      <td>1.641000</td>\n",
       "      <td>1.562007</td>\n",
       "    </tr>\n",
       "    <tr>\n",
       "      <td>7000</td>\n",
       "      <td>1.624500</td>\n",
       "      <td>1.550163</td>\n",
       "    </tr>\n",
       "    <tr>\n",
       "      <td>8000</td>\n",
       "      <td>1.593100</td>\n",
       "      <td>1.563104</td>\n",
       "    </tr>\n",
       "  </tbody>\n",
       "</table><p>"
      ],
      "text/plain": [
       "<IPython.core.display.HTML object>"
      ]
     },
     "metadata": {},
     "output_type": "display_data"
    },
    {
     "name": "stderr",
     "output_type": "stream",
     "text": [
      "***** Running Evaluation *****\n",
      "  Num examples = 6616\n",
      "  Batch size = 16\n",
      "Saving model checkpoint to /content/drive/MyDrive/FinLitQA/model/fiqa/roberta-base-fiqa/checkpoint-1000\n",
      "Configuration saved in /content/drive/MyDrive/FinLitQA/model/fiqa/roberta-base-fiqa/checkpoint-1000/config.json\n",
      "Model weights saved in /content/drive/MyDrive/FinLitQA/model/fiqa/roberta-base-fiqa/checkpoint-1000/pytorch_model.bin\n",
      "tokenizer config file saved in /content/drive/MyDrive/FinLitQA/model/fiqa/roberta-base-fiqa/checkpoint-1000/tokenizer_config.json\n",
      "Special tokens file saved in /content/drive/MyDrive/FinLitQA/model/fiqa/roberta-base-fiqa/checkpoint-1000/special_tokens_map.json\n",
      "***** Running Evaluation *****\n",
      "  Num examples = 6616\n",
      "  Batch size = 16\n",
      "Saving model checkpoint to /content/drive/MyDrive/FinLitQA/model/fiqa/roberta-base-fiqa/checkpoint-2000\n",
      "Configuration saved in /content/drive/MyDrive/FinLitQA/model/fiqa/roberta-base-fiqa/checkpoint-2000/config.json\n",
      "Model weights saved in /content/drive/MyDrive/FinLitQA/model/fiqa/roberta-base-fiqa/checkpoint-2000/pytorch_model.bin\n",
      "tokenizer config file saved in /content/drive/MyDrive/FinLitQA/model/fiqa/roberta-base-fiqa/checkpoint-2000/tokenizer_config.json\n",
      "Special tokens file saved in /content/drive/MyDrive/FinLitQA/model/fiqa/roberta-base-fiqa/checkpoint-2000/special_tokens_map.json\n",
      "***** Running Evaluation *****\n",
      "  Num examples = 6616\n",
      "  Batch size = 16\n",
      "Saving model checkpoint to /content/drive/MyDrive/FinLitQA/model/fiqa/roberta-base-fiqa/checkpoint-3000\n",
      "Configuration saved in /content/drive/MyDrive/FinLitQA/model/fiqa/roberta-base-fiqa/checkpoint-3000/config.json\n",
      "Model weights saved in /content/drive/MyDrive/FinLitQA/model/fiqa/roberta-base-fiqa/checkpoint-3000/pytorch_model.bin\n",
      "tokenizer config file saved in /content/drive/MyDrive/FinLitQA/model/fiqa/roberta-base-fiqa/checkpoint-3000/tokenizer_config.json\n",
      "Special tokens file saved in /content/drive/MyDrive/FinLitQA/model/fiqa/roberta-base-fiqa/checkpoint-3000/special_tokens_map.json\n",
      "Deleting older checkpoint [/content/drive/MyDrive/FinLitQA/model/fiqa/roberta-base-fiqa/checkpoint-1000] due to args.save_total_limit\n",
      "***** Running Evaluation *****\n",
      "  Num examples = 6616\n",
      "  Batch size = 16\n",
      "Saving model checkpoint to /content/drive/MyDrive/FinLitQA/model/fiqa/roberta-base-fiqa/checkpoint-4000\n",
      "Configuration saved in /content/drive/MyDrive/FinLitQA/model/fiqa/roberta-base-fiqa/checkpoint-4000/config.json\n",
      "Model weights saved in /content/drive/MyDrive/FinLitQA/model/fiqa/roberta-base-fiqa/checkpoint-4000/pytorch_model.bin\n",
      "tokenizer config file saved in /content/drive/MyDrive/FinLitQA/model/fiqa/roberta-base-fiqa/checkpoint-4000/tokenizer_config.json\n",
      "Special tokens file saved in /content/drive/MyDrive/FinLitQA/model/fiqa/roberta-base-fiqa/checkpoint-4000/special_tokens_map.json\n",
      "Deleting older checkpoint [/content/drive/MyDrive/FinLitQA/model/fiqa/roberta-base-fiqa/checkpoint-2000] due to args.save_total_limit\n",
      "***** Running Evaluation *****\n",
      "  Num examples = 6616\n",
      "  Batch size = 16\n",
      "Saving model checkpoint to /content/drive/MyDrive/FinLitQA/model/fiqa/roberta-base-fiqa/checkpoint-5000\n",
      "Configuration saved in /content/drive/MyDrive/FinLitQA/model/fiqa/roberta-base-fiqa/checkpoint-5000/config.json\n",
      "Model weights saved in /content/drive/MyDrive/FinLitQA/model/fiqa/roberta-base-fiqa/checkpoint-5000/pytorch_model.bin\n",
      "tokenizer config file saved in /content/drive/MyDrive/FinLitQA/model/fiqa/roberta-base-fiqa/checkpoint-5000/tokenizer_config.json\n",
      "Special tokens file saved in /content/drive/MyDrive/FinLitQA/model/fiqa/roberta-base-fiqa/checkpoint-5000/special_tokens_map.json\n",
      "Deleting older checkpoint [/content/drive/MyDrive/FinLitQA/model/fiqa/roberta-base-fiqa/checkpoint-3000] due to args.save_total_limit\n",
      "***** Running Evaluation *****\n",
      "  Num examples = 6616\n",
      "  Batch size = 16\n",
      "Saving model checkpoint to /content/drive/MyDrive/FinLitQA/model/fiqa/roberta-base-fiqa/checkpoint-6000\n",
      "Configuration saved in /content/drive/MyDrive/FinLitQA/model/fiqa/roberta-base-fiqa/checkpoint-6000/config.json\n",
      "Model weights saved in /content/drive/MyDrive/FinLitQA/model/fiqa/roberta-base-fiqa/checkpoint-6000/pytorch_model.bin\n",
      "tokenizer config file saved in /content/drive/MyDrive/FinLitQA/model/fiqa/roberta-base-fiqa/checkpoint-6000/tokenizer_config.json\n",
      "Special tokens file saved in /content/drive/MyDrive/FinLitQA/model/fiqa/roberta-base-fiqa/checkpoint-6000/special_tokens_map.json\n",
      "Deleting older checkpoint [/content/drive/MyDrive/FinLitQA/model/fiqa/roberta-base-fiqa/checkpoint-4000] due to args.save_total_limit\n",
      "***** Running Evaluation *****\n",
      "  Num examples = 6616\n",
      "  Batch size = 16\n",
      "Saving model checkpoint to /content/drive/MyDrive/FinLitQA/model/fiqa/roberta-base-fiqa/checkpoint-7000\n",
      "Configuration saved in /content/drive/MyDrive/FinLitQA/model/fiqa/roberta-base-fiqa/checkpoint-7000/config.json\n",
      "Model weights saved in /content/drive/MyDrive/FinLitQA/model/fiqa/roberta-base-fiqa/checkpoint-7000/pytorch_model.bin\n",
      "tokenizer config file saved in /content/drive/MyDrive/FinLitQA/model/fiqa/roberta-base-fiqa/checkpoint-7000/tokenizer_config.json\n",
      "Special tokens file saved in /content/drive/MyDrive/FinLitQA/model/fiqa/roberta-base-fiqa/checkpoint-7000/special_tokens_map.json\n",
      "Deleting older checkpoint [/content/drive/MyDrive/FinLitQA/model/fiqa/roberta-base-fiqa/checkpoint-5000] due to args.save_total_limit\n",
      "***** Running Evaluation *****\n",
      "  Num examples = 6616\n",
      "  Batch size = 16\n",
      "Saving model checkpoint to /content/drive/MyDrive/FinLitQA/model/fiqa/roberta-base-fiqa/checkpoint-8000\n",
      "Configuration saved in /content/drive/MyDrive/FinLitQA/model/fiqa/roberta-base-fiqa/checkpoint-8000/config.json\n",
      "Model weights saved in /content/drive/MyDrive/FinLitQA/model/fiqa/roberta-base-fiqa/checkpoint-8000/pytorch_model.bin\n",
      "tokenizer config file saved in /content/drive/MyDrive/FinLitQA/model/fiqa/roberta-base-fiqa/checkpoint-8000/tokenizer_config.json\n",
      "Special tokens file saved in /content/drive/MyDrive/FinLitQA/model/fiqa/roberta-base-fiqa/checkpoint-8000/special_tokens_map.json\n",
      "Deleting older checkpoint [/content/drive/MyDrive/FinLitQA/model/fiqa/roberta-base-fiqa/checkpoint-6000] due to args.save_total_limit\n",
      "\n",
      "\n",
      "Training completed. Do not forget to share your model on huggingface.co/models =)\n",
      "\n",
      "\n",
      "Loading best model from /content/drive/MyDrive/FinLitQA/model/fiqa/roberta-base-fiqa/checkpoint-7000 (score: 1.5501630306243896).\n",
      "***** Running Evaluation *****\n",
      "  Num examples = 6616\n",
      "  Batch size = 16\n"
     ]
    },
    {
     "data": {
      "text/html": [
       "\n",
       "    <div>\n",
       "      \n",
       "      <progress value='414' max='414' style='width:300px; height:20px; vertical-align: middle;'></progress>\n",
       "      [414/414 00:36]\n",
       "    </div>\n",
       "    "
      ],
      "text/plain": [
       "<IPython.core.display.HTML object>"
      ]
     },
     "metadata": {},
     "output_type": "display_data"
    },
    {
     "name": "stdout",
     "output_type": "stream",
     "text": [
      "Perplexity: 4.75\n",
      "CPU times: user 46min 5s, sys: 53.3 s, total: 46min 58s\n",
      "Wall time: 47min 42s\n"
     ]
    }
   ],
   "source": [
    "%%time\n",
    "trainer.train()\n",
    "\n",
    "eval_results = trainer.evaluate()\n",
    "print(f\"Perplexity: {math.exp(eval_results['eval_loss']):.2f}\")"
   ]
  },
  {
   "cell_type": "code",
   "execution_count": null,
   "metadata": {
    "colab": {
     "base_uri": "https://localhost:8080/",
     "height": 303
    },
    "executionInfo": {
     "elapsed": 59800,
     "status": "ok",
     "timestamp": 1639135515580,
     "user": {
      "displayName": "vanadhi chelliah",
      "photoUrl": "https://lh3.googleusercontent.com/a/default-user=s64",
      "userId": "11158136158943693689"
     },
     "user_tz": -330
    },
    "id": "myVadBJuRL9m",
    "outputId": "891b0457-53b1-4336-dde9-7311febe2b9f"
   },
   "outputs": [
    {
     "data": {
      "text/html": [
       "\n",
       "  <style>\n",
       "    pre {\n",
       "        white-space: pre-wrap;\n",
       "    }\n",
       "  </style>\n",
       "  "
      ],
      "text/plain": [
       "<IPython.core.display.HTML object>"
      ]
     },
     "metadata": {},
     "output_type": "display_data"
    },
    {
     "name": "stderr",
     "output_type": "stream",
     "text": [
      "Saving model checkpoint to /content/drive/MyDrive/FinLitQA/model/fiqa_final/roberta-base-fiqa/\n",
      "Configuration saved in /content/drive/MyDrive/FinLitQA/model/fiqa_final/roberta-base-fiqa/config.json\n",
      "Model weights saved in /content/drive/MyDrive/FinLitQA/model/fiqa_final/roberta-base-fiqa/pytorch_model.bin\n",
      "tokenizer config file saved in /content/drive/MyDrive/FinLitQA/model/fiqa_final/roberta-base-fiqa/tokenizer_config.json\n",
      "Special tokens file saved in /content/drive/MyDrive/FinLitQA/model/fiqa_final/roberta-base-fiqa/special_tokens_map.json\n",
      "***** Running Evaluation *****\n",
      "  Num examples = 6616\n",
      "  Batch size = 16\n"
     ]
    },
    {
     "data": {
      "text/html": [
       "\n",
       "    <div>\n",
       "      \n",
       "      <progress value='828' max='414' style='width:300px; height:20px; vertical-align: middle;'></progress>\n",
       "      [414/414 07:04]\n",
       "    </div>\n",
       "    "
      ],
      "text/plain": [
       "<IPython.core.display.HTML object>"
      ]
     },
     "metadata": {},
     "output_type": "display_data"
    },
    {
     "name": "stdout",
     "output_type": "stream",
     "text": [
      "{'eval_loss': 1.550885558128357, 'eval_runtime': 36.7812, 'eval_samples_per_second': 179.875, 'eval_steps_per_second': 11.256, 'epoch': 5.0}\n",
      "Perplexity: 4.72\n"
     ]
    },
    {
     "data": {
      "text/html": [
       "<div>\n",
       "<style scoped>\n",
       "    .dataframe tbody tr th:only-of-type {\n",
       "        vertical-align: middle;\n",
       "    }\n",
       "\n",
       "    .dataframe tbody tr th {\n",
       "        vertical-align: top;\n",
       "    }\n",
       "\n",
       "    .dataframe thead th {\n",
       "        text-align: right;\n",
       "    }\n",
       "</style>\n",
       "<table border=\"1\" class=\"dataframe\">\n",
       "  <thead>\n",
       "    <tr style=\"text-align: right;\">\n",
       "      <th></th>\n",
       "      <th>index</th>\n",
       "      <th>eval_loss</th>\n",
       "      <th>eval_runtime</th>\n",
       "      <th>eval_samples_per_second</th>\n",
       "      <th>eval_steps_per_second</th>\n",
       "      <th>epoch</th>\n",
       "      <th>Perplexity</th>\n",
       "    </tr>\n",
       "  </thead>\n",
       "  <tbody>\n",
       "    <tr>\n",
       "      <th>0</th>\n",
       "      <td>roberta-base-fiqa</td>\n",
       "      <td>1.550886</td>\n",
       "      <td>36.7812</td>\n",
       "      <td>179.875</td>\n",
       "      <td>11.256</td>\n",
       "      <td>5.0</td>\n",
       "      <td>4.72</td>\n",
       "    </tr>\n",
       "  </tbody>\n",
       "</table>\n",
       "</div>"
      ],
      "text/plain": [
       "               index  eval_loss  ...  epoch  Perplexity\n",
       "0  roberta-base-fiqa   1.550886  ...    5.0        4.72\n",
       "\n",
       "[1 rows x 7 columns]"
      ]
     },
     "execution_count": 37,
     "metadata": {},
     "output_type": "execute_result"
    }
   ],
   "source": [
    "# Save the model\n",
    "\n",
    "save_path_model2 = \"/content/drive/MyDrive/FinLitQA/model/fiqa_final/roberta-base-fiqa/\"\n",
    "trainer.save_model(save_path_model2)\n",
    "\n",
    "# Evaluate the trainer and consolidate the results\n",
    "# Calculate and add Perplexity to the evaluation results\n",
    "\n",
    "evaluate_trainer(trainer, model_name)"
   ]
  },
  {
   "cell_type": "code",
   "execution_count": null,
   "metadata": {
    "colab": {
     "base_uri": "https://localhost:8080/",
     "height": 867
    },
    "executionInfo": {
     "elapsed": 39654,
     "status": "ok",
     "timestamp": 1639135575391,
     "user": {
      "displayName": "vanadhi chelliah",
      "photoUrl": "https://lh3.googleusercontent.com/a/default-user=s64",
      "userId": "11158136158943693689"
     },
     "user_tz": -330
    },
    "id": "FY8sdKWnuMqa",
    "outputId": "7b1c26aa-3fca-4f2c-8ddb-c1ef754630ab"
   },
   "outputs": [
    {
     "data": {
      "text/html": [
       "\n",
       "  <style>\n",
       "    pre {\n",
       "        white-space: pre-wrap;\n",
       "    }\n",
       "  </style>\n",
       "  "
      ],
      "text/plain": [
       "<IPython.core.display.HTML object>"
      ]
     },
     "metadata": {},
     "output_type": "display_data"
    },
    {
     "name": "stderr",
     "output_type": "stream",
     "text": [
      "loading configuration file /content/drive/MyDrive/FinLitQA/model/fiqa_final/roberta-base-fiqa/config.json\n",
      "Model config RobertaConfig {\n",
      "  \"_name_or_path\": \"/content/drive/MyDrive/FinLitQA/model/fiqa_final/roberta-base-fiqa/\",\n",
      "  \"architectures\": [\n",
      "    \"RobertaForMaskedLM\"\n",
      "  ],\n",
      "  \"attention_probs_dropout_prob\": 0.1,\n",
      "  \"bos_token_id\": 0,\n",
      "  \"classifier_dropout\": null,\n",
      "  \"eos_token_id\": 2,\n",
      "  \"hidden_act\": \"gelu\",\n",
      "  \"hidden_dropout_prob\": 0.1,\n",
      "  \"hidden_size\": 768,\n",
      "  \"initializer_range\": 0.02,\n",
      "  \"intermediate_size\": 3072,\n",
      "  \"layer_norm_eps\": 1e-05,\n",
      "  \"max_position_embeddings\": 514,\n",
      "  \"model_type\": \"roberta\",\n",
      "  \"num_attention_heads\": 12,\n",
      "  \"num_hidden_layers\": 12,\n",
      "  \"pad_token_id\": 1,\n",
      "  \"position_embedding_type\": \"absolute\",\n",
      "  \"torch_dtype\": \"float32\",\n",
      "  \"transformers_version\": \"4.13.0\",\n",
      "  \"type_vocab_size\": 1,\n",
      "  \"use_cache\": true,\n",
      "  \"vocab_size\": 50265\n",
      "}\n",
      "\n",
      "loading weights file /content/drive/MyDrive/FinLitQA/model/fiqa_final/roberta-base-fiqa/pytorch_model.bin\n",
      "All model checkpoint weights were used when initializing RobertaForMaskedLM.\n",
      "\n",
      "All the weights of RobertaForMaskedLM were initialized from the model checkpoint at /content/drive/MyDrive/FinLitQA/model/fiqa_final/roberta-base-fiqa/.\n",
      "If your task is similar to the task the model of the checkpoint was trained on, you can already use RobertaForMaskedLM for predictions without further training.\n",
      "***** Running Evaluation *****\n",
      "  Num examples = 6616\n",
      "  Batch size = 16\n"
     ]
    },
    {
     "data": {
      "text/html": [
       "\n",
       "    <div>\n",
       "      \n",
       "      <progress value='1242' max='414' style='width:300px; height:20px; vertical-align: middle;'></progress>\n",
       "      [414/414 08:04]\n",
       "    </div>\n",
       "    "
      ],
      "text/plain": [
       "<IPython.core.display.HTML object>"
      ]
     },
     "metadata": {},
     "output_type": "display_data"
    },
    {
     "data": {
      "text/plain": [
       "({'epoch': 5.0,\n",
       "  'eval_loss': 1.557410717010498,\n",
       "  'eval_runtime': 36.7604,\n",
       "  'eval_samples_per_second': 179.976,\n",
       "  'eval_steps_per_second': 11.262},\n",
       " '4.75')"
      ]
     },
     "execution_count": 38,
     "metadata": {},
     "output_type": "execute_result"
    }
   ],
   "source": [
    "# Reload model and check\n",
    "model = AutoModelForMaskedLM.from_pretrained(save_path_model2, local_files_only=True)\n",
    "trainer.model = model.cuda()\n",
    "\n",
    "# Evaluate and check\n",
    "eval_results = trainer.evaluate()\n",
    "eval_results, f\"{math.exp(eval_results['eval_loss']):.2f}\""
   ]
  },
  {
   "cell_type": "code",
   "execution_count": null,
   "metadata": {
    "colab": {
     "base_uri": "https://localhost:8080/",
     "height": 112
    },
    "executionInfo": {
     "elapsed": 732,
     "status": "ok",
     "timestamp": 1639135591484,
     "user": {
      "displayName": "vanadhi chelliah",
      "photoUrl": "https://lh3.googleusercontent.com/a/default-user=s64",
      "userId": "11158136158943693689"
     },
     "user_tz": -330
    },
    "id": "V8hP4r3bVnE-",
    "outputId": "b06f317c-83b9-4576-be70-02c3e1d1a083"
   },
   "outputs": [
    {
     "data": {
      "text/html": [
       "\n",
       "  <style>\n",
       "    pre {\n",
       "        white-space: pre-wrap;\n",
       "    }\n",
       "  </style>\n",
       "  "
      ],
      "text/plain": [
       "<IPython.core.display.HTML object>"
      ]
     },
     "metadata": {},
     "output_type": "display_data"
    },
    {
     "data": {
      "text/html": [
       "<div>\n",
       "<style scoped>\n",
       "    .dataframe tbody tr th:only-of-type {\n",
       "        vertical-align: middle;\n",
       "    }\n",
       "\n",
       "    .dataframe tbody tr th {\n",
       "        vertical-align: top;\n",
       "    }\n",
       "\n",
       "    .dataframe thead th {\n",
       "        text-align: right;\n",
       "    }\n",
       "</style>\n",
       "<table border=\"1\" class=\"dataframe\">\n",
       "  <thead>\n",
       "    <tr style=\"text-align: right;\">\n",
       "      <th></th>\n",
       "      <th>index</th>\n",
       "      <th>eval_loss</th>\n",
       "      <th>eval_runtime</th>\n",
       "      <th>eval_samples_per_second</th>\n",
       "      <th>eval_steps_per_second</th>\n",
       "      <th>epoch</th>\n",
       "      <th>Perplexity</th>\n",
       "    </tr>\n",
       "  </thead>\n",
       "  <tbody>\n",
       "    <tr>\n",
       "      <th>0</th>\n",
       "      <td>bert-base-uncased-fiqa</td>\n",
       "      <td>1.993491</td>\n",
       "      <td>32.7220</td>\n",
       "      <td>201.913</td>\n",
       "      <td>12.621</td>\n",
       "      <td>5.0</td>\n",
       "      <td>7.34</td>\n",
       "    </tr>\n",
       "    <tr>\n",
       "      <th>1</th>\n",
       "      <td>roberta-base-fiqa</td>\n",
       "      <td>1.550886</td>\n",
       "      <td>36.7812</td>\n",
       "      <td>179.875</td>\n",
       "      <td>11.256</td>\n",
       "      <td>5.0</td>\n",
       "      <td>4.72</td>\n",
       "    </tr>\n",
       "  </tbody>\n",
       "</table>\n",
       "</div>"
      ],
      "text/plain": [
       "                    index  eval_loss  ...  epoch  Perplexity\n",
       "0  bert-base-uncased-fiqa   1.993491  ...    5.0        7.34\n",
       "1       roberta-base-fiqa   1.550886  ...    5.0        4.72\n",
       "\n",
       "[2 rows x 7 columns]"
      ]
     },
     "execution_count": 39,
     "metadata": {},
     "output_type": "execute_result"
    }
   ],
   "source": [
    "df_lmtrain_summary"
   ]
  },
  {
   "cell_type": "code",
   "execution_count": null,
   "metadata": {
    "id": "NDUOO3RlxLJ5"
   },
   "outputs": [],
   "source": []
  },
  {
   "cell_type": "markdown",
   "metadata": {
    "id": "DethemF-RL9n"
   },
   "source": [
    "## Model 3 - \"finbert\""
   ]
  },
  {
   "cell_type": "code",
   "execution_count": null,
   "metadata": {
    "colab": {
     "base_uri": "https://localhost:8080/",
     "height": 16
    },
    "executionInfo": {
     "elapsed": 717,
     "status": "ok",
     "timestamp": 1639414220494,
     "user": {
      "displayName": "vanadhi chelliah",
      "photoUrl": "https://lh3.googleusercontent.com/a/default-user=s64",
      "userId": "11158136158943693689"
     },
     "user_tz": -330
    },
    "id": "s1t8PWTiRL9n",
    "outputId": "ca6d7e74-ef8e-446c-f55b-66652b44f49a"
   },
   "outputs": [
    {
     "data": {
      "text/html": [
       "\n",
       "  <style>\n",
       "    pre {\n",
       "        white-space: pre-wrap;\n",
       "    }\n",
       "  </style>\n",
       "  "
      ],
      "text/plain": [
       "<IPython.core.display.HTML object>"
      ]
     },
     "metadata": {},
     "output_type": "display_data"
    }
   ],
   "source": [
    "# model_checkpoint3 \n",
    "\n",
    "model_checkpoint3 = \"ProsusAI/finbert\""
   ]
  },
  {
   "cell_type": "code",
   "execution_count": null,
   "metadata": {
    "colab": {
     "base_uri": "https://localhost:8080/",
     "height": 35
    },
    "executionInfo": {
     "elapsed": 676,
     "status": "ok",
     "timestamp": 1639414538725,
     "user": {
      "displayName": "vanadhi chelliah",
      "photoUrl": "https://lh3.googleusercontent.com/a/default-user=s64",
      "userId": "11158136158943693689"
     },
     "user_tz": -330
    },
    "id": "bnZ99baPRL9p",
    "outputId": "efb74e7e-97ed-4659-bdcc-c36c714ce1f3"
   },
   "outputs": [
    {
     "data": {
      "text/html": [
       "\n",
       "  <style>\n",
       "    pre {\n",
       "        white-space: pre-wrap;\n",
       "    }\n",
       "  </style>\n",
       "  "
      ],
      "text/plain": [
       "<IPython.core.display.HTML object>"
      ]
     },
     "metadata": {},
     "output_type": "display_data"
    },
    {
     "name": "stdout",
     "output_type": "stream",
     "text": [
      "/content/drive/MyDrive/FinLitQA/model/finbert/ finbert-fiqa\n"
     ]
    }
   ],
   "source": [
    "# Training Arguments - Pass training arguments and define trainer\n",
    "\n",
    "model_dir='/content/drive/MyDrive/FinLitQA/model/finbert/'\n",
    "model_n = model_checkpoint3.split(\"/\")[-1]\n",
    "model_suffix = \"-fiqa\"\n",
    "model_name = f\"{model_n}{model_suffix}\"\n",
    "\n",
    "print (model_dir, model_name)"
   ]
  },
  {
   "cell_type": "code",
   "execution_count": null,
   "metadata": {
    "colab": {
     "base_uri": "https://localhost:8080/",
     "height": 393,
     "referenced_widgets": [
      "6dc480b2ec76427e9088cb60a340d454",
      "98cf95496d6e486483f95c4ac3eacfc8",
      "0c8f58847bef461aa5301324b0e100af",
      "3900d52d92344acda20efb965679318e",
      "e749cf9b8d3345a9b6023cb4003a8534",
      "b1bbd603080449248f8cf2b8beb1a169",
      "0b51d34d9981423aab14ada5ca068414",
      "a3a59724a59647f387f098b1e2898f45",
      "31f1f74b7f7641b994638439187bbb6d",
      "7cd5977d4564465fb85e5574d6e39102",
      "cd62447d1c33458eacb315835ee1e29c",
      "d394495d055c43298c2e09e5dc22b3d6",
      "28645b1f10cc4f3d80d92fa558892242",
      "c4e534aeb285436eb3000ab88bfe9f65",
      "433eb846e56c4185b02e10201cbc48fe",
      "4672d76f527b407d8e5e7a06a340ab52",
      "a1e585df29784589a120a27e7b0496da",
      "67e98fdc00274b338eaa3d17a9d0ee53",
      "2c26265db7494f48b7c14633175274c1",
      "29ea5cf3d2a744c8b681eb6ffbab0ff5",
      "13fd5486e74643bfbed095039e21dcc3",
      "57887ace596746eebe39594c6a945ca5",
      "2c3c4f9c422843bba9238f9f07889bd0",
      "f717ce3a057e4f0e9e872c49041738cb",
      "6ab03e0046014aff923464ca5b940db3",
      "fcc31bbfa93f4ce7a1370a8a6c875dbc",
      "83d62484fa7d4e0585c4557fee46eaf4",
      "d1a4de10cb89459d8ee2f9cd9e230033",
      "25b31db57e7d4e4ca2518028c9bca5f8",
      "c249fb6519fe4651a3b8b50b81b079cf",
      "8aa64fb7f8bc4c07bd1d511e83e88fb3",
      "cb6bace312cf4bc2b7d253ca8ee68800",
      "588257dd65df43789049475f2ad04ec1",
      "8e26a533c1af4ee5bf89c64d7d76acab",
      "ddc3774afe004d9fb57009b600e51b98",
      "fddcf7e1409a4cb49a43c256f8c19cc8",
      "9fc2cb44d3414d6582366469d48d4478",
      "522262e9f1ae451ab80ca1a0d69c5b68",
      "c84cf6683751491c95fe0f5af5b15d2a",
      "f2c5e55fbad24685ba0c3b5b06616ed4",
      "b9a1447b43c44d41bbbb904ce98ab9a9",
      "276f3654dad4459599f115d5ab515322",
      "eb5e2fba6b584d7da07859598df07a5a",
      "fd50e865a14346448dd3f3cf48e3961f",
      "99fefb2f90b44c9b86a7a7e208492d67",
      "faf6e5091109448394b226467c12f902",
      "ff82a4e979334d65b01937a5622303a7",
      "508dbf2d7d7a420a8f7c336c80f6f4a0",
      "4f4f91ff20914065941edd6ac01fcbed",
      "78c6ecc794b94d8484cc838ff0b00025",
      "55edca3b27664abe9c4a84cfcaa40d1e",
      "8c55ab8185f34d949b8b0b0c89d69ef2",
      "3e42f4a621a84c0cadfdf8f9d443d4e1",
      "9e9042b0752141a5aefd5b29e59f8739",
      "1fcbc343b0b54cfb994e43dc123d53b0",
      "e72f707f082f4298a3e7952c51dfc766",
      "9893999e7b23427a84cba1c420bc467b",
      "31583f39321149ec95a9d675ea70a033",
      "afa1fa9a3e0f41f48f33edbc75917caf",
      "6d7e10fa8f3a483d916d0bf8cadaaea5",
      "a83d65920dfc4a198b95bc60643dbf0c",
      "888ac10b61e54e3f89dae818b5fbfc3c",
      "8eebb00704e84419b6228a967215a896",
      "92ad4cbd7b664c9db0ef9fb0aa80a195",
      "ce2eb949d13542e98efa5f2ef729d59e",
      "bf82e8480908411791d01eb5ed31c95d"
     ]
    },
    "executionInfo": {
     "elapsed": 73836,
     "status": "ok",
     "timestamp": 1639414628897,
     "user": {
      "displayName": "vanadhi chelliah",
      "photoUrl": "https://lh3.googleusercontent.com/a/default-user=s64",
      "userId": "11158136158943693689"
     },
     "user_tz": -330
    },
    "id": "m1eTFbLxt4EP",
    "outputId": "f3c662b1-3a2d-488e-df4d-e9d2066c09fe"
   },
   "outputs": [
    {
     "data": {
      "text/html": [
       "\n",
       "  <style>\n",
       "    pre {\n",
       "        white-space: pre-wrap;\n",
       "    }\n",
       "  </style>\n",
       "  "
      ],
      "text/plain": [
       "<IPython.core.display.HTML object>"
      ]
     },
     "metadata": {},
     "output_type": "display_data"
    },
    {
     "data": {
      "application/vnd.jupyter.widget-view+json": {
       "model_id": "6dc480b2ec76427e9088cb60a340d454",
       "version_major": 2,
       "version_minor": 0
      },
      "text/plain": [
       "Downloading:   0%|          | 0.00/28.0 [00:00<?, ?B/s]"
      ]
     },
     "metadata": {},
     "output_type": "display_data"
    },
    {
     "data": {
      "application/vnd.jupyter.widget-view+json": {
       "model_id": "d394495d055c43298c2e09e5dc22b3d6",
       "version_major": 2,
       "version_minor": 0
      },
      "text/plain": [
       "Downloading:   0%|          | 0.00/570 [00:00<?, ?B/s]"
      ]
     },
     "metadata": {},
     "output_type": "display_data"
    },
    {
     "data": {
      "application/vnd.jupyter.widget-view+json": {
       "model_id": "2c3c4f9c422843bba9238f9f07889bd0",
       "version_major": 2,
       "version_minor": 0
      },
      "text/plain": [
       "Downloading:   0%|          | 0.00/226k [00:00<?, ?B/s]"
      ]
     },
     "metadata": {},
     "output_type": "display_data"
    },
    {
     "data": {
      "application/vnd.jupyter.widget-view+json": {
       "model_id": "8e26a533c1af4ee5bf89c64d7d76acab",
       "version_major": 2,
       "version_minor": 0
      },
      "text/plain": [
       "Downloading:   0%|          | 0.00/455k [00:00<?, ?B/s]"
      ]
     },
     "metadata": {},
     "output_type": "display_data"
    },
    {
     "data": {
      "application/vnd.jupyter.widget-view+json": {
       "model_id": "99fefb2f90b44c9b86a7a7e208492d67",
       "version_major": 2,
       "version_minor": 0
      },
      "text/plain": [
       "Downloading:   0%|          | 0.00/758 [00:00<?, ?B/s]"
      ]
     },
     "metadata": {},
     "output_type": "display_data"
    },
    {
     "data": {
      "application/vnd.jupyter.widget-view+json": {
       "model_id": "e72f707f082f4298a3e7952c51dfc766",
       "version_major": 2,
       "version_minor": 0
      },
      "text/plain": [
       "Downloading:   0%|          | 0.00/418M [00:00<?, ?B/s]"
      ]
     },
     "metadata": {},
     "output_type": "display_data"
    },
    {
     "name": "stderr",
     "output_type": "stream",
     "text": [
      "Some weights of the model checkpoint at ProsusAI/finbert were not used when initializing BertForMaskedLM: ['classifier.weight', 'classifier.bias']\n",
      "- This IS expected if you are initializing BertForMaskedLM from the checkpoint of a model trained on another task or with another architecture (e.g. initializing a BertForSequenceClassification model from a BertForPreTraining model).\n",
      "- This IS NOT expected if you are initializing BertForMaskedLM from the checkpoint of a model that you expect to be exactly identical (initializing a BertForSequenceClassification model from a BertForSequenceClassification model).\n",
      "Some weights of BertForMaskedLM were not initialized from the model checkpoint at ProsusAI/finbert and are newly initialized: ['cls.predictions.transform.LayerNorm.bias', 'cls.predictions.bias', 'cls.predictions.transform.LayerNorm.weight', 'cls.predictions.decoder.weight', 'cls.predictions.transform.dense.weight', 'cls.predictions.transform.dense.bias']\n",
      "You should probably TRAIN this model on a down-stream task to be able to use it for predictions and inference.\n"
     ]
    }
   ],
   "source": [
    "\n",
    "# Define Tokenizer and Model\n",
    "tokenizer = AutoTokenizer.from_pretrained(\"bert-base-uncased\", use_fast=True)\n",
    "model = AutoModelForMaskedLM.from_pretrained(model_checkpoint3)\n",
    "\n",
    "# Create language modeling datasets\n",
    "fiqa_tokenized = fiqa_chunked.map(tokenize_function, batched=True, num_proc=4, remove_columns=[\"chunks\"])\n",
    "lm_datasets = fiqa_tokenized.map(group_texts, batched=True, batch_size=1000, num_proc=4)\n",
    "\n",
    "# trainer is defined here \n",
    "trainer = trainer_from_args(model_dir, model_name, model, tokenizer, lm_datasets)"
   ]
  },
  {
   "cell_type": "code",
   "execution_count": null,
   "metadata": {
    "colab": {
     "base_uri": "https://localhost:8080/",
     "height": 1000
    },
    "executionInfo": {
     "elapsed": 2591693,
     "status": "ok",
     "timestamp": 1639417326860,
     "user": {
      "displayName": "vanadhi chelliah",
      "photoUrl": "https://lh3.googleusercontent.com/a/default-user=s64",
      "userId": "11158136158943693689"
     },
     "user_tz": -330
    },
    "id": "LjbTryDDRL9p",
    "outputId": "1e8da61e-0fb8-469a-d69f-01827b0a54a0"
   },
   "outputs": [
    {
     "data": {
      "text/html": [
       "\n",
       "  <style>\n",
       "    pre {\n",
       "        white-space: pre-wrap;\n",
       "    }\n",
       "  </style>\n",
       "  "
      ],
      "text/plain": [
       "<IPython.core.display.HTML object>"
      ]
     },
     "metadata": {},
     "output_type": "display_data"
    },
    {
     "name": "stderr",
     "output_type": "stream",
     "text": [
      "***** Running training *****\n",
      "  Num examples = 26823\n",
      "  Num Epochs = 5\n",
      "  Instantaneous batch size per device = 16\n",
      "  Total train batch size (w. parallel, distributed & accumulation) = 16\n",
      "  Gradient Accumulation steps = 1\n",
      "  Total optimization steps = 8385\n"
     ]
    },
    {
     "data": {
      "text/html": [
       "\n",
       "    <div>\n",
       "      \n",
       "      <progress value='8385' max='8385' style='width:300px; height:20px; vertical-align: middle;'></progress>\n",
       "      [8385/8385 42:37, Epoch 5/5]\n",
       "    </div>\n",
       "    <table border=\"1\" class=\"dataframe\">\n",
       "  <thead>\n",
       "    <tr style=\"text-align: left;\">\n",
       "      <th>Step</th>\n",
       "      <th>Training Loss</th>\n",
       "      <th>Validation Loss</th>\n",
       "    </tr>\n",
       "  </thead>\n",
       "  <tbody>\n",
       "    <tr>\n",
       "      <td>1000</td>\n",
       "      <td>3.567900</td>\n",
       "      <td>3.231211</td>\n",
       "    </tr>\n",
       "    <tr>\n",
       "      <td>2000</td>\n",
       "      <td>3.053700</td>\n",
       "      <td>2.845521</td>\n",
       "    </tr>\n",
       "    <tr>\n",
       "      <td>3000</td>\n",
       "      <td>2.848000</td>\n",
       "      <td>2.650094</td>\n",
       "    </tr>\n",
       "    <tr>\n",
       "      <td>4000</td>\n",
       "      <td>2.710400</td>\n",
       "      <td>2.560780</td>\n",
       "    </tr>\n",
       "    <tr>\n",
       "      <td>5000</td>\n",
       "      <td>2.618000</td>\n",
       "      <td>2.485929</td>\n",
       "    </tr>\n",
       "    <tr>\n",
       "      <td>6000</td>\n",
       "      <td>2.568200</td>\n",
       "      <td>2.417186</td>\n",
       "    </tr>\n",
       "    <tr>\n",
       "      <td>7000</td>\n",
       "      <td>2.516300</td>\n",
       "      <td>2.403141</td>\n",
       "    </tr>\n",
       "    <tr>\n",
       "      <td>8000</td>\n",
       "      <td>2.493100</td>\n",
       "      <td>2.374210</td>\n",
       "    </tr>\n",
       "  </tbody>\n",
       "</table><p>"
      ],
      "text/plain": [
       "<IPython.core.display.HTML object>"
      ]
     },
     "metadata": {},
     "output_type": "display_data"
    },
    {
     "name": "stderr",
     "output_type": "stream",
     "text": [
      "***** Running Evaluation *****\n",
      "  Num examples = 6607\n",
      "  Batch size = 16\n",
      "Saving model checkpoint to /content/drive/MyDrive/FinLitQA/model/finbert/finbert-fiqa/checkpoint-1000\n",
      "Configuration saved in /content/drive/MyDrive/FinLitQA/model/finbert/finbert-fiqa/checkpoint-1000/config.json\n",
      "Model weights saved in /content/drive/MyDrive/FinLitQA/model/finbert/finbert-fiqa/checkpoint-1000/pytorch_model.bin\n",
      "tokenizer config file saved in /content/drive/MyDrive/FinLitQA/model/finbert/finbert-fiqa/checkpoint-1000/tokenizer_config.json\n",
      "Special tokens file saved in /content/drive/MyDrive/FinLitQA/model/finbert/finbert-fiqa/checkpoint-1000/special_tokens_map.json\n",
      "***** Running Evaluation *****\n",
      "  Num examples = 6607\n",
      "  Batch size = 16\n",
      "Saving model checkpoint to /content/drive/MyDrive/FinLitQA/model/finbert/finbert-fiqa/checkpoint-2000\n",
      "Configuration saved in /content/drive/MyDrive/FinLitQA/model/finbert/finbert-fiqa/checkpoint-2000/config.json\n",
      "Model weights saved in /content/drive/MyDrive/FinLitQA/model/finbert/finbert-fiqa/checkpoint-2000/pytorch_model.bin\n",
      "tokenizer config file saved in /content/drive/MyDrive/FinLitQA/model/finbert/finbert-fiqa/checkpoint-2000/tokenizer_config.json\n",
      "Special tokens file saved in /content/drive/MyDrive/FinLitQA/model/finbert/finbert-fiqa/checkpoint-2000/special_tokens_map.json\n",
      "***** Running Evaluation *****\n",
      "  Num examples = 6607\n",
      "  Batch size = 16\n",
      "Saving model checkpoint to /content/drive/MyDrive/FinLitQA/model/finbert/finbert-fiqa/checkpoint-3000\n",
      "Configuration saved in /content/drive/MyDrive/FinLitQA/model/finbert/finbert-fiqa/checkpoint-3000/config.json\n",
      "Model weights saved in /content/drive/MyDrive/FinLitQA/model/finbert/finbert-fiqa/checkpoint-3000/pytorch_model.bin\n",
      "tokenizer config file saved in /content/drive/MyDrive/FinLitQA/model/finbert/finbert-fiqa/checkpoint-3000/tokenizer_config.json\n",
      "Special tokens file saved in /content/drive/MyDrive/FinLitQA/model/finbert/finbert-fiqa/checkpoint-3000/special_tokens_map.json\n",
      "Deleting older checkpoint [/content/drive/MyDrive/FinLitQA/model/finbert/finbert-fiqa/checkpoint-1000] due to args.save_total_limit\n",
      "***** Running Evaluation *****\n",
      "  Num examples = 6607\n",
      "  Batch size = 16\n",
      "Saving model checkpoint to /content/drive/MyDrive/FinLitQA/model/finbert/finbert-fiqa/checkpoint-4000\n",
      "Configuration saved in /content/drive/MyDrive/FinLitQA/model/finbert/finbert-fiqa/checkpoint-4000/config.json\n",
      "Model weights saved in /content/drive/MyDrive/FinLitQA/model/finbert/finbert-fiqa/checkpoint-4000/pytorch_model.bin\n",
      "tokenizer config file saved in /content/drive/MyDrive/FinLitQA/model/finbert/finbert-fiqa/checkpoint-4000/tokenizer_config.json\n",
      "Special tokens file saved in /content/drive/MyDrive/FinLitQA/model/finbert/finbert-fiqa/checkpoint-4000/special_tokens_map.json\n",
      "Deleting older checkpoint [/content/drive/MyDrive/FinLitQA/model/finbert/finbert-fiqa/checkpoint-2000] due to args.save_total_limit\n",
      "***** Running Evaluation *****\n",
      "  Num examples = 6607\n",
      "  Batch size = 16\n",
      "Saving model checkpoint to /content/drive/MyDrive/FinLitQA/model/finbert/finbert-fiqa/checkpoint-5000\n",
      "Configuration saved in /content/drive/MyDrive/FinLitQA/model/finbert/finbert-fiqa/checkpoint-5000/config.json\n",
      "Model weights saved in /content/drive/MyDrive/FinLitQA/model/finbert/finbert-fiqa/checkpoint-5000/pytorch_model.bin\n",
      "tokenizer config file saved in /content/drive/MyDrive/FinLitQA/model/finbert/finbert-fiqa/checkpoint-5000/tokenizer_config.json\n",
      "Special tokens file saved in /content/drive/MyDrive/FinLitQA/model/finbert/finbert-fiqa/checkpoint-5000/special_tokens_map.json\n",
      "Deleting older checkpoint [/content/drive/MyDrive/FinLitQA/model/finbert/finbert-fiqa/checkpoint-3000] due to args.save_total_limit\n",
      "***** Running Evaluation *****\n",
      "  Num examples = 6607\n",
      "  Batch size = 16\n",
      "Saving model checkpoint to /content/drive/MyDrive/FinLitQA/model/finbert/finbert-fiqa/checkpoint-6000\n",
      "Configuration saved in /content/drive/MyDrive/FinLitQA/model/finbert/finbert-fiqa/checkpoint-6000/config.json\n",
      "Model weights saved in /content/drive/MyDrive/FinLitQA/model/finbert/finbert-fiqa/checkpoint-6000/pytorch_model.bin\n",
      "tokenizer config file saved in /content/drive/MyDrive/FinLitQA/model/finbert/finbert-fiqa/checkpoint-6000/tokenizer_config.json\n",
      "Special tokens file saved in /content/drive/MyDrive/FinLitQA/model/finbert/finbert-fiqa/checkpoint-6000/special_tokens_map.json\n",
      "Deleting older checkpoint [/content/drive/MyDrive/FinLitQA/model/finbert/finbert-fiqa/checkpoint-4000] due to args.save_total_limit\n",
      "***** Running Evaluation *****\n",
      "  Num examples = 6607\n",
      "  Batch size = 16\n",
      "Saving model checkpoint to /content/drive/MyDrive/FinLitQA/model/finbert/finbert-fiqa/checkpoint-7000\n",
      "Configuration saved in /content/drive/MyDrive/FinLitQA/model/finbert/finbert-fiqa/checkpoint-7000/config.json\n",
      "Model weights saved in /content/drive/MyDrive/FinLitQA/model/finbert/finbert-fiqa/checkpoint-7000/pytorch_model.bin\n",
      "tokenizer config file saved in /content/drive/MyDrive/FinLitQA/model/finbert/finbert-fiqa/checkpoint-7000/tokenizer_config.json\n",
      "Special tokens file saved in /content/drive/MyDrive/FinLitQA/model/finbert/finbert-fiqa/checkpoint-7000/special_tokens_map.json\n",
      "Deleting older checkpoint [/content/drive/MyDrive/FinLitQA/model/finbert/finbert-fiqa/checkpoint-5000] due to args.save_total_limit\n",
      "***** Running Evaluation *****\n",
      "  Num examples = 6607\n",
      "  Batch size = 16\n",
      "Saving model checkpoint to /content/drive/MyDrive/FinLitQA/model/finbert/finbert-fiqa/checkpoint-8000\n",
      "Configuration saved in /content/drive/MyDrive/FinLitQA/model/finbert/finbert-fiqa/checkpoint-8000/config.json\n",
      "Model weights saved in /content/drive/MyDrive/FinLitQA/model/finbert/finbert-fiqa/checkpoint-8000/pytorch_model.bin\n",
      "tokenizer config file saved in /content/drive/MyDrive/FinLitQA/model/finbert/finbert-fiqa/checkpoint-8000/tokenizer_config.json\n",
      "Special tokens file saved in /content/drive/MyDrive/FinLitQA/model/finbert/finbert-fiqa/checkpoint-8000/special_tokens_map.json\n",
      "Deleting older checkpoint [/content/drive/MyDrive/FinLitQA/model/finbert/finbert-fiqa/checkpoint-6000] due to args.save_total_limit\n",
      "\n",
      "\n",
      "Training completed. Do not forget to share your model on huggingface.co/models =)\n",
      "\n",
      "\n",
      "Loading best model from /content/drive/MyDrive/FinLitQA/model/finbert/finbert-fiqa/checkpoint-8000 (score: 2.3742103576660156).\n",
      "***** Running Evaluation *****\n",
      "  Num examples = 6607\n",
      "  Batch size = 16\n"
     ]
    },
    {
     "data": {
      "text/html": [
       "\n",
       "    <div>\n",
       "      \n",
       "      <progress value='413' max='413' style='width:300px; height:20px; vertical-align: middle;'></progress>\n",
       "      [413/413 00:32]\n",
       "    </div>\n",
       "    "
      ],
      "text/plain": [
       "<IPython.core.display.HTML object>"
      ]
     },
     "metadata": {},
     "output_type": "display_data"
    },
    {
     "name": "stdout",
     "output_type": "stream",
     "text": [
      "Perplexity: 10.99\n",
      "CPU times: user 42min 8s, sys: 33.5 s, total: 42min 41s\n",
      "Wall time: 43min 10s\n"
     ]
    }
   ],
   "source": [
    "%%time\n",
    "trainer.train()\n",
    "\n",
    "# evaluate trainer and check perplexity\n",
    "eval_results = trainer.evaluate()\n",
    "print(f\"Perplexity: {math.exp(eval_results['eval_loss']):.2f}\")"
   ]
  },
  {
   "cell_type": "code",
   "execution_count": null,
   "metadata": {
    "colab": {
     "base_uri": "https://localhost:8080/",
     "height": 303
    },
    "executionInfo": {
     "elapsed": 49758,
     "status": "ok",
     "timestamp": 1639417562632,
     "user": {
      "displayName": "vanadhi chelliah",
      "photoUrl": "https://lh3.googleusercontent.com/a/default-user=s64",
      "userId": "11158136158943693689"
     },
     "user_tz": -330
    },
    "id": "M9Os-wTVRL9s",
    "outputId": "70aee5e7-f7ab-4650-dd20-d93825d13c66"
   },
   "outputs": [
    {
     "data": {
      "text/html": [
       "\n",
       "  <style>\n",
       "    pre {\n",
       "        white-space: pre-wrap;\n",
       "    }\n",
       "  </style>\n",
       "  "
      ],
      "text/plain": [
       "<IPython.core.display.HTML object>"
      ]
     },
     "metadata": {},
     "output_type": "display_data"
    },
    {
     "name": "stderr",
     "output_type": "stream",
     "text": [
      "Saving model checkpoint to /content/drive/MyDrive/FinLitQA/model/fiqa_final/finbert-fiqa/\n",
      "Configuration saved in /content/drive/MyDrive/FinLitQA/model/fiqa_final/finbert-fiqa/config.json\n",
      "Model weights saved in /content/drive/MyDrive/FinLitQA/model/fiqa_final/finbert-fiqa/pytorch_model.bin\n",
      "tokenizer config file saved in /content/drive/MyDrive/FinLitQA/model/fiqa_final/finbert-fiqa/tokenizer_config.json\n",
      "Special tokens file saved in /content/drive/MyDrive/FinLitQA/model/fiqa_final/finbert-fiqa/special_tokens_map.json\n",
      "***** Running Evaluation *****\n",
      "  Num examples = 6607\n",
      "  Batch size = 16\n"
     ]
    },
    {
     "data": {
      "text/html": [
       "\n",
       "    <div>\n",
       "      \n",
       "      <progress value='826' max='413' style='width:300px; height:20px; vertical-align: middle;'></progress>\n",
       "      [413/413 04:28]\n",
       "    </div>\n",
       "    "
      ],
      "text/plain": [
       "<IPython.core.display.HTML object>"
      ]
     },
     "metadata": {},
     "output_type": "display_data"
    },
    {
     "name": "stdout",
     "output_type": "stream",
     "text": [
      "{'eval_loss': 2.394272804260254, 'eval_runtime': 32.8521, 'eval_samples_per_second': 201.113, 'eval_steps_per_second': 12.571, 'epoch': 5.0}\n",
      "Perplexity: 10.96\n"
     ]
    },
    {
     "data": {
      "text/html": [
       "<div>\n",
       "<style scoped>\n",
       "    .dataframe tbody tr th:only-of-type {\n",
       "        vertical-align: middle;\n",
       "    }\n",
       "\n",
       "    .dataframe tbody tr th {\n",
       "        vertical-align: top;\n",
       "    }\n",
       "\n",
       "    .dataframe thead th {\n",
       "        text-align: right;\n",
       "    }\n",
       "</style>\n",
       "<table border=\"1\" class=\"dataframe\">\n",
       "  <thead>\n",
       "    <tr style=\"text-align: right;\">\n",
       "      <th></th>\n",
       "      <th>index</th>\n",
       "      <th>eval_loss</th>\n",
       "      <th>eval_runtime</th>\n",
       "      <th>eval_samples_per_second</th>\n",
       "      <th>eval_steps_per_second</th>\n",
       "      <th>epoch</th>\n",
       "      <th>Perplexity</th>\n",
       "    </tr>\n",
       "  </thead>\n",
       "  <tbody>\n",
       "    <tr>\n",
       "      <th>0</th>\n",
       "      <td>finbert-fiqa</td>\n",
       "      <td>2.394273</td>\n",
       "      <td>32.8521</td>\n",
       "      <td>201.113</td>\n",
       "      <td>12.571</td>\n",
       "      <td>5.0</td>\n",
       "      <td>10.96</td>\n",
       "    </tr>\n",
       "  </tbody>\n",
       "</table>\n",
       "</div>"
      ],
      "text/plain": [
       "          index  eval_loss  ...  epoch  Perplexity\n",
       "0  finbert-fiqa   2.394273  ...    5.0       10.96\n",
       "\n",
       "[1 rows x 7 columns]"
      ]
     },
     "execution_count": 29,
     "metadata": {},
     "output_type": "execute_result"
    }
   ],
   "source": [
    "# Save the model\n",
    "\n",
    "save_path_model3 = \"/content/drive/MyDrive/FinLitQA/model/fiqa_final/finbert-fiqa/\"\n",
    "trainer.save_model(save_path_model3)\n",
    "\n",
    "# Evaluate the trainer and consolidate the results\n",
    "# Calculate and add Perplexity to the evaluation results\n",
    "\n",
    "evaluate_trainer(trainer, model_name)"
   ]
  },
  {
   "cell_type": "code",
   "execution_count": null,
   "metadata": {
    "colab": {
     "base_uri": "https://localhost:8080/",
     "height": 1000
    },
    "executionInfo": {
     "elapsed": 35333,
     "status": "ok",
     "timestamp": 1639417604525,
     "user": {
      "displayName": "vanadhi chelliah",
      "photoUrl": "https://lh3.googleusercontent.com/a/default-user=s64",
      "userId": "11158136158943693689"
     },
     "user_tz": -330
    },
    "id": "sT4kGUw23YfA",
    "outputId": "57026a6d-da2f-4c90-ce4e-2d662310c09f"
   },
   "outputs": [
    {
     "data": {
      "text/html": [
       "\n",
       "  <style>\n",
       "    pre {\n",
       "        white-space: pre-wrap;\n",
       "    }\n",
       "  </style>\n",
       "  "
      ],
      "text/plain": [
       "<IPython.core.display.HTML object>"
      ]
     },
     "metadata": {},
     "output_type": "display_data"
    },
    {
     "name": "stderr",
     "output_type": "stream",
     "text": [
      "loading configuration file /content/drive/MyDrive/FinLitQA/model/fiqa_final/finbert-fiqa/config.json\n",
      "Model config BertConfig {\n",
      "  \"_name_or_path\": \"/content/drive/MyDrive/FinLitQA/model/fiqa_final/finbert-fiqa/\",\n",
      "  \"architectures\": [\n",
      "    \"BertForMaskedLM\"\n",
      "  ],\n",
      "  \"attention_probs_dropout_prob\": 0.1,\n",
      "  \"classifier_dropout\": null,\n",
      "  \"gradient_checkpointing\": false,\n",
      "  \"hidden_act\": \"gelu\",\n",
      "  \"hidden_dropout_prob\": 0.1,\n",
      "  \"hidden_size\": 768,\n",
      "  \"id2label\": {\n",
      "    \"0\": \"positive\",\n",
      "    \"1\": \"negative\",\n",
      "    \"2\": \"neutral\"\n",
      "  },\n",
      "  \"initializer_range\": 0.02,\n",
      "  \"intermediate_size\": 3072,\n",
      "  \"label2id\": {\n",
      "    \"negative\": 1,\n",
      "    \"neutral\": 2,\n",
      "    \"positive\": 0\n",
      "  },\n",
      "  \"layer_norm_eps\": 1e-12,\n",
      "  \"max_position_embeddings\": 512,\n",
      "  \"model_type\": \"bert\",\n",
      "  \"num_attention_heads\": 12,\n",
      "  \"num_hidden_layers\": 12,\n",
      "  \"pad_token_id\": 0,\n",
      "  \"position_embedding_type\": \"absolute\",\n",
      "  \"torch_dtype\": \"float32\",\n",
      "  \"transformers_version\": \"4.13.0\",\n",
      "  \"type_vocab_size\": 2,\n",
      "  \"use_cache\": true,\n",
      "  \"vocab_size\": 30522\n",
      "}\n",
      "\n",
      "loading weights file /content/drive/MyDrive/FinLitQA/model/fiqa_final/finbert-fiqa/pytorch_model.bin\n",
      "All model checkpoint weights were used when initializing BertForMaskedLM.\n",
      "\n",
      "All the weights of BertForMaskedLM were initialized from the model checkpoint at /content/drive/MyDrive/FinLitQA/model/fiqa_final/finbert-fiqa/.\n",
      "If your task is similar to the task the model of the checkpoint was trained on, you can already use BertForMaskedLM for predictions without further training.\n",
      "***** Running Evaluation *****\n",
      "  Num examples = 6607\n",
      "  Batch size = 16\n"
     ]
    },
    {
     "data": {
      "text/html": [
       "\n",
       "    <div>\n",
       "      \n",
       "      <progress value='1239' max='413' style='width:300px; height:20px; vertical-align: middle;'></progress>\n",
       "      [413/413 05:10]\n",
       "    </div>\n",
       "    "
      ],
      "text/plain": [
       "<IPython.core.display.HTML object>"
      ]
     },
     "metadata": {},
     "output_type": "display_data"
    },
    {
     "data": {
      "text/plain": [
       "({'epoch': 5.0,\n",
       "  'eval_loss': 2.3870279788970947,\n",
       "  'eval_runtime': 32.8012,\n",
       "  'eval_samples_per_second': 201.425,\n",
       "  'eval_steps_per_second': 12.591},\n",
       " '10.88')"
      ]
     },
     "execution_count": 30,
     "metadata": {},
     "output_type": "execute_result"
    }
   ],
   "source": [
    "# Reload model and check\n",
    "model = AutoModelForMaskedLM.from_pretrained(save_path_model3, local_files_only=True)\n",
    "trainer.model = model.cuda()\n",
    "\n",
    "# Evaluate and check\n",
    "eval_results = trainer.evaluate()\n",
    "eval_results, f\"{math.exp(eval_results['eval_loss']):.2f}\""
   ]
  },
  {
   "cell_type": "code",
   "execution_count": null,
   "metadata": {
    "colab": {
     "base_uri": "https://localhost:8080/",
     "height": 81
    },
    "executionInfo": {
     "elapsed": 665,
     "status": "ok",
     "timestamp": 1639417638652,
     "user": {
      "displayName": "vanadhi chelliah",
      "photoUrl": "https://lh3.googleusercontent.com/a/default-user=s64",
      "userId": "11158136158943693689"
     },
     "user_tz": -330
    },
    "id": "O_5sOBxccUhs",
    "outputId": "096e37df-44eb-4825-9e00-2a09ed12c3af"
   },
   "outputs": [
    {
     "data": {
      "text/html": [
       "\n",
       "  <style>\n",
       "    pre {\n",
       "        white-space: pre-wrap;\n",
       "    }\n",
       "  </style>\n",
       "  "
      ],
      "text/plain": [
       "<IPython.core.display.HTML object>"
      ]
     },
     "metadata": {},
     "output_type": "display_data"
    },
    {
     "data": {
      "text/html": [
       "<div>\n",
       "<style scoped>\n",
       "    .dataframe tbody tr th:only-of-type {\n",
       "        vertical-align: middle;\n",
       "    }\n",
       "\n",
       "    .dataframe tbody tr th {\n",
       "        vertical-align: top;\n",
       "    }\n",
       "\n",
       "    .dataframe thead th {\n",
       "        text-align: right;\n",
       "    }\n",
       "</style>\n",
       "<table border=\"1\" class=\"dataframe\">\n",
       "  <thead>\n",
       "    <tr style=\"text-align: right;\">\n",
       "      <th></th>\n",
       "      <th>index</th>\n",
       "      <th>eval_loss</th>\n",
       "      <th>eval_runtime</th>\n",
       "      <th>eval_samples_per_second</th>\n",
       "      <th>eval_steps_per_second</th>\n",
       "      <th>epoch</th>\n",
       "      <th>Perplexity</th>\n",
       "    </tr>\n",
       "  </thead>\n",
       "  <tbody>\n",
       "    <tr>\n",
       "      <th>0</th>\n",
       "      <td>finbert-fiqa</td>\n",
       "      <td>2.394273</td>\n",
       "      <td>32.8521</td>\n",
       "      <td>201.113</td>\n",
       "      <td>12.571</td>\n",
       "      <td>5.0</td>\n",
       "      <td>10.96</td>\n",
       "    </tr>\n",
       "  </tbody>\n",
       "</table>\n",
       "</div>"
      ],
      "text/plain": [
       "          index  eval_loss  ...  epoch  Perplexity\n",
       "0  finbert-fiqa   2.394273  ...    5.0       10.96\n",
       "\n",
       "[1 rows x 7 columns]"
      ]
     },
     "execution_count": 31,
     "metadata": {},
     "output_type": "execute_result"
    }
   ],
   "source": [
    "df_lmtrain_summary"
   ]
  },
  {
   "cell_type": "code",
   "execution_count": null,
   "metadata": {
    "id": "c-KDMaCBexhc"
   },
   "outputs": [],
   "source": []
  },
  {
   "cell_type": "markdown",
   "metadata": {
    "id": "-LWo29Gu5BsG"
   },
   "source": [
    "## Plot Perplexity"
   ]
  },
  {
   "cell_type": "code",
   "execution_count": null,
   "metadata": {
    "colab": {
     "base_uri": "https://localhost:8080/",
     "height": 262
    },
    "executionInfo": {
     "elapsed": 1405,
     "status": "ok",
     "timestamp": 1639140833615,
     "user": {
      "displayName": "vanadhi chelliah",
      "photoUrl": "https://lh3.googleusercontent.com/a/default-user=s64",
      "userId": "11158136158943693689"
     },
     "user_tz": -330
    },
    "id": "u7pJVrcW5FRl",
    "outputId": "7846d144-8f51-4f35-a7df-81e25106750a"
   },
   "outputs": [
    {
     "data": {
      "text/html": [
       "\n",
       "  <style>\n",
       "    pre {\n",
       "        white-space: pre-wrap;\n",
       "    }\n",
       "  </style>\n",
       "  "
      ],
      "text/plain": [
       "<IPython.core.display.HTML object>"
      ]
     },
     "metadata": {},
     "output_type": "display_data"
    },
    {
     "data": {
      "image/png": "[encoded data removed]",
      "text/plain": [
       "<Figure size 432x288 with 1 Axes>"
      ]
     },
     "metadata": {
      "needs_background": "light"
     },
     "output_type": "display_data"
    }
   ],
   "source": [
    "import matplotlib.pyplot as plt\n",
    "\n",
    "df_lmtrain_summary[\"Perplexity\"].astype(float).plot(kind='bar')\n",
    "plt.show()"
   ]
  },
  {
   "cell_type": "code",
   "execution_count": null,
   "metadata": {
    "id": "94FmypX55pzm"
   },
   "outputs": [],
   "source": []
  }
 ],
 "metadata": {
  "accelerator": "GPU",
  "colab": {
   "collapsed_sections": [
    "vPqU2js6qlM5",
    "F2AZT2S22-UL"
   ],
   "name": "03_FinLitQA_Language_Modeling_using_FIQA.ipynb",
   "provenance": []
  },
  "kernelspec": {
   "display_name": "Python 3",
   "language": "python",
   "name": "python3"
  },
  "language_info": {
   "codemirror_mode": {
    "name": "ipython",
    "version": 3
   },
   "file_extension": ".py",
   "mimetype": "text/x-python",
   "name": "python",
   "nbconvert_exporter": "python",
   "pygments_lexer": "ipython3",
   "version": "3.7.6"
  },
  "widgets": {
   "application/vnd.jupyter.widget-state+json": {
    "00a4f2a20f514fb88f551338ff88ae7f": {
     "model_module": "@jupyter-widgets/controls",
     "model_module_version": "1.5.0",
     "model_name": "DescriptionStyleModel",
     "state": {
      "_model_module": "@jupyter-widgets/controls",
      "_model_module_version": "1.5.0",
      "_model_name": "DescriptionStyleModel",
      "_view_count": null,
      "_view_module": "@jupyter-widgets/base",
      "_view_module_version": "1.2.0",
      "_view_name": "StyleView",
      "description_width": ""
     }
    },
    "00cc1b14ac89498eb19582ef83536ab0": {
     "model_module": "@jupyter-widgets/controls",
     "model_module_version": "1.5.0",
     "model_name": "ProgressStyleModel",
     "state": {
      "_model_module": "@jupyter-widgets/controls",
      "_model_module_version": "1.5.0",
      "_model_name": "ProgressStyleModel",
      "_view_count": null,
      "_view_module": "@jupyter-widgets/base",
      "_view_module_version": "1.2.0",
      "_view_name": "StyleView",
      "bar_color": null,
      "description_width": ""
     }
    },
    "0523b361f33f4baebee9b2d4c48dc7d2": {
     "model_module": "@jupyter-widgets/controls",
     "model_module_version": "1.5.0",
     "model_name": "FloatProgressModel",
     "state": {
      "_dom_classes": [],
      "_model_module": "@jupyter-widgets/controls",
      "_model_module_version": "1.5.0",
      "_model_name": "FloatProgressModel",
      "_view_count": null,
      "_view_module": "@jupyter-widgets/controls",
      "_view_module_version": "1.5.0",
      "_view_name": "ProgressView",
      "bar_style": "success",
      "description": "",
      "description_tooltip": null,
      "layout": "IPY_MODEL_b88b08d8213545e88ad98b8e5491ffae",
      "max": 466062,
      "min": 0,
      "orientation": "horizontal",
      "style": "IPY_MODEL_9819fc7ae4694c33817164be029a5656",
      "value": 466062
     }
    },
    "05eaf3f4a318432da9185bcab22ac0e0": {
     "model_module": "@jupyter-widgets/base",
     "model_module_version": "1.2.0",
     "model_name": "LayoutModel",
     "state": {
      "_model_module": "@jupyter-widgets/base",
      "_model_module_version": "1.2.0",
      "_model_name": "LayoutModel",
      "_view_count": null,
      "_view_module": "@jupyter-widgets/base",
      "_view_module_version": "1.2.0",
      "_view_name": "LayoutView",
      "align_content": null,
      "align_items": null,
      "align_self": null,
      "border": null,
      "bottom": null,
      "display": null,
      "flex": null,
      "flex_flow": null,
      "grid_area": null,
      "grid_auto_columns": null,
      "grid_auto_flow": null,
      "grid_auto_rows": null,
      "grid_column": null,
      "grid_gap": null,
      "grid_row": null,
      "grid_template_areas": null,
      "grid_template_columns": null,
      "grid_template_rows": null,
      "height": null,
      "justify_content": null,
      "justify_items": null,
      "left": null,
      "margin": null,
      "max_height": null,
      "max_width": null,
      "min_height": null,
      "min_width": null,
      "object_fit": null,
      "object_position": null,
      "order": null,
      "overflow": null,
      "overflow_x": null,
      "overflow_y": null,
      "padding": null,
      "right": null,
      "top": null,
      "visibility": null,
      "width": null
     }
    },
    "0681762af9564b2f8ebd2551fbda8b79": {
     "model_module": "@jupyter-widgets/controls",
     "model_module_version": "1.5.0",
     "model_name": "HTMLModel",
     "state": {
      "_dom_classes": [],
      "_model_module": "@jupyter-widgets/controls",
      "_model_module_version": "1.5.0",
      "_model_name": "HTMLModel",
      "_view_count": null,
      "_view_module": "@jupyter-widgets/controls",
      "_view_module_version": "1.5.0",
      "_view_name": "HTMLView",
      "description": "",
      "description_tooltip": null,
      "layout": "IPY_MODEL_d875aad1c4634354897c1dadfa101317",
      "placeholder": "​",
      "style": "IPY_MODEL_00a4f2a20f514fb88f551338ff88ae7f",
      "value": "100%"
     }
    },
    "078e98ce391b4e1ab19924989306e3c3": {
     "model_module": "@jupyter-widgets/controls",
     "model_module_version": "1.5.0",
     "model_name": "HTMLModel",
     "state": {
      "_dom_classes": [],
      "_model_module": "@jupyter-widgets/controls",
      "_model_module_version": "1.5.0",
      "_model_name": "HTMLModel",
      "_view_count": null,
      "_view_module": "@jupyter-widgets/controls",
      "_view_module_version": "1.5.0",
      "_view_name": "HTMLView",
      "description": "",
      "description_tooltip": null,
      "layout": "IPY_MODEL_82777bbf37694492aedb935ac6310666",
      "placeholder": "​",
      "style": "IPY_MODEL_7b7c1581886043cfa8cf94652924d642",
      "value": "Downloading: 100%"
     }
    },
    "0799fd8637c2482e8c5210d6ad9a706a": {
     "model_module": "@jupyter-widgets/base",
     "model_module_version": "1.2.0",
     "model_name": "LayoutModel",
     "state": {
      "_model_module": "@jupyter-widgets/base",
      "_model_module_version": "1.2.0",
      "_model_name": "LayoutModel",
      "_view_count": null,
      "_view_module": "@jupyter-widgets/base",
      "_view_module_version": "1.2.0",
      "_view_name": "LayoutView",
      "align_content": null,
      "align_items": null,
      "align_self": null,
      "border": null,
      "bottom": null,
      "display": null,
      "flex": null,
      "flex_flow": null,
      "grid_area": null,
      "grid_auto_columns": null,
      "grid_auto_flow": null,
      "grid_auto_rows": null,
      "grid_column": null,
      "grid_gap": null,
      "grid_row": null,
      "grid_template_areas": null,
      "grid_template_columns": null,
      "grid_template_rows": null,
      "height": null,
      "justify_content": null,
      "justify_items": null,
      "left": null,
      "margin": null,
      "max_height": null,
      "max_width": null,
      "min_height": null,
      "min_width": null,
      "object_fit": null,
      "object_position": null,
      "order": null,
      "overflow": null,
      "overflow_x": null,
      "overflow_y": null,
      "padding": null,
      "right": null,
      "top": null,
      "visibility": null,
      "width": null
     }
    },
    "08c0bdca3490417dbfa80af298b6ba4e": {
     "model_module": "@jupyter-widgets/controls",
     "model_module_version": "1.5.0",
     "model_name": "ProgressStyleModel",
     "state": {
      "_model_module": "@jupyter-widgets/controls",
      "_model_module_version": "1.5.0",
      "_model_name": "ProgressStyleModel",
      "_view_count": null,
      "_view_module": "@jupyter-widgets/base",
      "_view_module_version": "1.2.0",
      "_view_name": "StyleView",
      "bar_color": null,
      "description_width": ""
     }
    },
    "0a48f2b87a7c4c4da63a4b6d92adf6a7": {
     "model_module": "@jupyter-widgets/base",
     "model_module_version": "1.2.0",
     "model_name": "LayoutModel",
     "state": {
      "_model_module": "@jupyter-widgets/base",
      "_model_module_version": "1.2.0",
      "_model_name": "LayoutModel",
      "_view_count": null,
      "_view_module": "@jupyter-widgets/base",
      "_view_module_version": "1.2.0",
      "_view_name": "LayoutView",
      "align_content": null,
      "align_items": null,
      "align_self": null,
      "border": null,
      "bottom": null,
      "display": null,
      "flex": null,
      "flex_flow": null,
      "grid_area": null,
      "grid_auto_columns": null,
      "grid_auto_flow": null,
      "grid_auto_rows": null,
      "grid_column": null,
      "grid_gap": null,
      "grid_row": null,
      "grid_template_areas": null,
      "grid_template_columns": null,
      "grid_template_rows": null,
      "height": null,
      "justify_content": null,
      "justify_items": null,
      "left": null,
      "margin": null,
      "max_height": null,
      "max_width": null,
      "min_height": null,
      "min_width": null,
      "object_fit": null,
      "object_position": null,
      "order": null,
      "overflow": null,
      "overflow_x": null,
      "overflow_y": null,
      "padding": null,
      "right": null,
      "top": null,
      "visibility": null,
      "width": null
     }
    },
    "0a820405d8ad48a9bcd4105f074d79e2": {
     "model_module": "@jupyter-widgets/controls",
     "model_module_version": "1.5.0",
     "model_name": "HTMLModel",
     "state": {
      "_dom_classes": [],
      "_model_module": "@jupyter-widgets/controls",
      "_model_module_version": "1.5.0",
      "_model_name": "HTMLModel",
      "_view_count": null,
      "_view_module": "@jupyter-widgets/controls",
      "_view_module_version": "1.5.0",
      "_view_name": "HTMLView",
      "description": "",
      "description_tooltip": null,
      "layout": "IPY_MODEL_f9d713c5f1334107a881bbf471034564",
      "placeholder": "​",
      "style": "IPY_MODEL_2c6ebcafcf3645f68687cbfdac3a18ea",
      "value": " 2/2 [00:00&lt;00:00, 56.85it/s]"
     }
    },
    "0b51d34d9981423aab14ada5ca068414": {
     "model_module": "@jupyter-widgets/base",
     "model_module_version": "1.2.0",
     "model_name": "LayoutModel",
     "state": {
      "_model_module": "@jupyter-widgets/base",
      "_model_module_version": "1.2.0",
      "_model_name": "LayoutModel",
      "_view_count": null,
      "_view_module": "@jupyter-widgets/base",
      "_view_module_version": "1.2.0",
      "_view_name": "LayoutView",
      "align_content": null,
      "align_items": null,
      "align_self": null,
      "border": null,
      "bottom": null,
      "display": null,
      "flex": null,
      "flex_flow": null,
      "grid_area": null,
      "grid_auto_columns": null,
      "grid_auto_flow": null,
      "grid_auto_rows": null,
      "grid_column": null,
      "grid_gap": null,
      "grid_row": null,
      "grid_template_areas": null,
      "grid_template_columns": null,
      "grid_template_rows": null,
      "height": null,
      "justify_content": null,
      "justify_items": null,
      "left": null,
      "margin": null,
      "max_height": null,
      "max_width": null,
      "min_height": null,
      "min_width": null,
      "object_fit": null,
      "object_position": null,
      "order": null,
      "overflow": null,
      "overflow_x": null,
      "overflow_y": null,
      "padding": null,
      "right": null,
      "top": null,
      "visibility": null,
      "width": null
     }
    },
    "0c099748951a4a64aeb1f2fd68ef0246": {
     "model_module": "@jupyter-widgets/controls",
     "model_module_version": "1.5.0",
     "model_name": "FloatProgressModel",
     "state": {
      "_dom_classes": [],
      "_model_module": "@jupyter-widgets/controls",
      "_model_module_version": "1.5.0",
      "_model_name": "FloatProgressModel",
      "_view_count": null,
      "_view_module": "@jupyter-widgets/controls",
      "_view_module_version": "1.5.0",
      "_view_name": "ProgressView",
      "bar_style": "success",
      "description": "",
      "description_tooltip": null,
      "layout": "IPY_MODEL_c4e9bb1a42884fc580396e8fc8230aeb",
      "max": 2,
      "min": 0,
      "orientation": "horizontal",
      "style": "IPY_MODEL_fccdd1fef44b4b7180fe91791e482c72",
      "value": 2
     }
    },
    "0c708f47004b4001a455b78e83155f0d": {
     "model_module": "@jupyter-widgets/controls",
     "model_module_version": "1.5.0",
     "model_name": "HTMLModel",
     "state": {
      "_dom_classes": [],
      "_model_module": "@jupyter-widgets/controls",
      "_model_module_version": "1.5.0",
      "_model_name": "HTMLModel",
      "_view_count": null,
      "_view_module": "@jupyter-widgets/controls",
      "_view_module_version": "1.5.0",
      "_view_name": "HTMLView",
      "description": "",
      "description_tooltip": null,
      "layout": "IPY_MODEL_36401306f07b44269b703e200cc5fe1d",
      "placeholder": "​",
      "style": "IPY_MODEL_cea1900e428347fd9c3e788c3759873b",
      "value": "Downloading: 100%"
     }
    },
    "0c8f58847bef461aa5301324b0e100af": {
     "model_module": "@jupyter-widgets/controls",
     "model_module_version": "1.5.0",
     "model_name": "HTMLModel",
     "state": {
      "_dom_classes": [],
      "_model_module": "@jupyter-widgets/controls",
      "_model_module_version": "1.5.0",
      "_model_name": "HTMLModel",
      "_view_count": null,
      "_view_module": "@jupyter-widgets/controls",
      "_view_module_version": "1.5.0",
      "_view_name": "HTMLView",
      "description": "",
      "description_tooltip": null,
      "layout": "IPY_MODEL_0b51d34d9981423aab14ada5ca068414",
      "placeholder": "​",
      "style": "IPY_MODEL_b1bbd603080449248f8cf2b8beb1a169",
      "value": "Downloading: 100%"
     }
    },
    "0d4fd9e95de74598ba911fb398dbeeb8": {
     "model_module": "@jupyter-widgets/controls",
     "model_module_version": "1.5.0",
     "model_name": "HTMLModel",
     "state": {
      "_dom_classes": [],
      "_model_module": "@jupyter-widgets/controls",
      "_model_module_version": "1.5.0",
      "_model_name": "HTMLModel",
      "_view_count": null,
      "_view_module": "@jupyter-widgets/controls",
      "_view_module_version": "1.5.0",
      "_view_name": "HTMLView",
      "description": "",
      "description_tooltip": null,
      "layout": "IPY_MODEL_ff49481131d149f99630a3ee71652135",
      "placeholder": "​",
      "style": "IPY_MODEL_3bb7f41c503c40b8847809ab490ee351",
      "value": "Downloading: 100%"
     }
    },
    "0dc1ed3a8c524e28bff508c7d7b9157f": {
     "model_module": "@jupyter-widgets/controls",
     "model_module_version": "1.5.0",
     "model_name": "HTMLModel",
     "state": {
      "_dom_classes": [],
      "_model_module": "@jupyter-widgets/controls",
      "_model_module_version": "1.5.0",
      "_model_name": "HTMLModel",
      "_view_count": null,
      "_view_module": "@jupyter-widgets/controls",
      "_view_module_version": "1.5.0",
      "_view_name": "HTMLView",
      "description": "",
      "description_tooltip": null,
      "layout": "IPY_MODEL_e0e7d52f33fe4baa97c18b4221e097c6",
      "placeholder": "​",
      "style": "IPY_MODEL_771f5a15a65a4ebb9826cf4e22228f32",
      "value": "100%"
     }
    },
    "13fd5486e74643bfbed095039e21dcc3": {
     "model_module": "@jupyter-widgets/controls",
     "model_module_version": "1.5.0",
     "model_name": "DescriptionStyleModel",
     "state": {
      "_model_module": "@jupyter-widgets/controls",
      "_model_module_version": "1.5.0",
      "_model_name": "DescriptionStyleModel",
      "_view_count": null,
      "_view_module": "@jupyter-widgets/base",
      "_view_module_version": "1.2.0",
      "_view_name": "StyleView",
      "description_width": ""
     }
    },
    "1626e3043d58456d98b311f53cf7a323": {
     "model_module": "@jupyter-widgets/controls",
     "model_module_version": "1.5.0",
     "model_name": "HTMLModel",
     "state": {
      "_dom_classes": [],
      "_model_module": "@jupyter-widgets/controls",
      "_model_module_version": "1.5.0",
      "_model_name": "HTMLModel",
      "_view_count": null,
      "_view_module": "@jupyter-widgets/controls",
      "_view_module_version": "1.5.0",
      "_view_name": "HTMLView",
      "description": "",
      "description_tooltip": null,
      "layout": "IPY_MODEL_8b359ad2637f47f38732d7e1357750bb",
      "placeholder": "​",
      "style": "IPY_MODEL_e9217e7561874aed89d4951a1778b866",
      "value": " 1.29M/1.29M [00:00&lt;00:00, 1.26MB/s]"
     }
    },
    "168ec1088be64eb39426771a564cd211": {
     "model_module": "@jupyter-widgets/controls",
     "model_module_version": "1.5.0",
     "model_name": "HTMLModel",
     "state": {
      "_dom_classes": [],
      "_model_module": "@jupyter-widgets/controls",
      "_model_module_version": "1.5.0",
      "_model_name": "HTMLModel",
      "_view_count": null,
      "_view_module": "@jupyter-widgets/controls",
      "_view_module_version": "1.5.0",
      "_view_name": "HTMLView",
      "description": "",
      "description_tooltip": null,
      "layout": "IPY_MODEL_81aae7aff71749b5a59a8824fd18959f",
      "placeholder": "​",
      "style": "IPY_MODEL_91f1c2b9318840ecbfbf11851279326a",
      "value": " 14/14 [00:00&lt;00:00, 142.75ba/s]"
     }
    },
    "16ec1107413e4abd90f2e5f94324c970": {
     "model_module": "@jupyter-widgets/controls",
     "model_module_version": "1.5.0",
     "model_name": "HTMLModel",
     "state": {
      "_dom_classes": [],
      "_model_module": "@jupyter-widgets/controls",
      "_model_module_version": "1.5.0",
      "_model_name": "HTMLModel",
      "_view_count": null,
      "_view_module": "@jupyter-widgets/controls",
      "_view_module_version": "1.5.0",
      "_view_name": "HTMLView",
      "description": "",
      "description_tooltip": null,
      "layout": "IPY_MODEL_1b4999e694a845d384036d39019b4f49",
      "placeholder": "​",
      "style": "IPY_MODEL_27142e05faa047bf8c7152c5c575e1e2",
      "value": " 2/2 [00:00&lt;00:00, 34.93it/s]"
     }
    },
    "1a3e7f964cf14b8cb23831e1f9218493": {
     "model_module": "@jupyter-widgets/controls",
     "model_module_version": "1.5.0",
     "model_name": "HTMLModel",
     "state": {
      "_dom_classes": [],
      "_model_module": "@jupyter-widgets/controls",
      "_model_module_version": "1.5.0",
      "_model_name": "HTMLModel",
      "_view_count": null,
      "_view_module": "@jupyter-widgets/controls",
      "_view_module_version": "1.5.0",
      "_view_name": "HTMLView",
      "description": "",
      "description_tooltip": null,
      "layout": "IPY_MODEL_9cd2011d23c64d59949edd0ce9efc50c",
      "placeholder": "​",
      "style": "IPY_MODEL_91afa3c7e1c5481a895d593190cc1a91",
      "value": " 2/2 [00:00&lt;00:00, 33.07it/s]"
     }
    },
    "1b4999e694a845d384036d39019b4f49": {
     "model_module": "@jupyter-widgets/base",
     "model_module_version": "1.2.0",
     "model_name": "LayoutModel",
     "state": {
      "_model_module": "@jupyter-widgets/base",
      "_model_module_version": "1.2.0",
      "_model_name": "LayoutModel",
      "_view_count": null,
      "_view_module": "@jupyter-widgets/base",
      "_view_module_version": "1.2.0",
      "_view_name": "LayoutView",
      "align_content": null,
      "align_items": null,
      "align_self": null,
      "border": null,
      "bottom": null,
      "display": null,
      "flex": null,
      "flex_flow": null,
      "grid_area": null,
      "grid_auto_columns": null,
      "grid_auto_flow": null,
      "grid_auto_rows": null,
      "grid_column": null,
      "grid_gap": null,
      "grid_row": null,
      "grid_template_areas": null,
      "grid_template_columns": null,
      "grid_template_rows": null,
      "height": null,
      "justify_content": null,
      "justify_items": null,
      "left": null,
      "margin": null,
      "max_height": null,
      "max_width": null,
      "min_height": null,
      "min_width": null,
      "object_fit": null,
      "object_position": null,
      "order": null,
      "overflow": null,
      "overflow_x": null,
      "overflow_y": null,
      "padding": null,
      "right": null,
      "top": null,
      "visibility": null,
      "width": null
     }
    },
    "1dce54ce48594c4087541a800531696d": {
     "model_module": "@jupyter-widgets/controls",
     "model_module_version": "1.5.0",
     "model_name": "FloatProgressModel",
     "state": {
      "_dom_classes": [],
      "_model_module": "@jupyter-widgets/controls",
      "_model_module_version": "1.5.0",
      "_model_name": "FloatProgressModel",
      "_view_count": null,
      "_view_module": "@jupyter-widgets/controls",
      "_view_module_version": "1.5.0",
      "_view_name": "ProgressView",
      "bar_style": "success",
      "description": "",
      "description_tooltip": null,
      "layout": "IPY_MODEL_cdab46f92ddc403f9250c3230417e860",
      "max": 1355863,
      "min": 0,
      "orientation": "horizontal",
      "style": "IPY_MODEL_08c0bdca3490417dbfa80af298b6ba4e",
      "value": 1355863
     }
    },
    "1e0cd3bbda834765be1a4cf00c0113bd": {
     "model_module": "@jupyter-widgets/base",
     "model_module_version": "1.2.0",
     "model_name": "LayoutModel",
     "state": {
      "_model_module": "@jupyter-widgets/base",
      "_model_module_version": "1.2.0",
      "_model_name": "LayoutModel",
      "_view_count": null,
      "_view_module": "@jupyter-widgets/base",
      "_view_module_version": "1.2.0",
      "_view_name": "LayoutView",
      "align_content": null,
      "align_items": null,
      "align_self": null,
      "border": null,
      "bottom": null,
      "display": null,
      "flex": null,
      "flex_flow": null,
      "grid_area": null,
      "grid_auto_columns": null,
      "grid_auto_flow": null,
      "grid_auto_rows": null,
      "grid_column": null,
      "grid_gap": null,
      "grid_row": null,
      "grid_template_areas": null,
      "grid_template_columns": null,
      "grid_template_rows": null,
      "height": null,
      "justify_content": null,
      "justify_items": null,
      "left": null,
      "margin": null,
      "max_height": null,
      "max_width": null,
      "min_height": null,
      "min_width": null,
      "object_fit": null,
      "object_position": null,
      "order": null,
      "overflow": null,
      "overflow_x": null,
      "overflow_y": null,
      "padding": null,
      "right": null,
      "top": null,
      "visibility": null,
      "width": null
     }
    },
    "1fcbc343b0b54cfb994e43dc123d53b0": {
     "model_module": "@jupyter-widgets/base",
     "model_module_version": "1.2.0",
     "model_name": "LayoutModel",
     "state": {
      "_model_module": "@jupyter-widgets/base",
      "_model_module_version": "1.2.0",
      "_model_name": "LayoutModel",
      "_view_count": null,
      "_view_module": "@jupyter-widgets/base",
      "_view_module_version": "1.2.0",
      "_view_name": "LayoutView",
      "align_content": null,
      "align_items": null,
      "align_self": null,
      "border": null,
      "bottom": null,
      "display": null,
      "flex": null,
      "flex_flow": null,
      "grid_area": null,
      "grid_auto_columns": null,
      "grid_auto_flow": null,
      "grid_auto_rows": null,
      "grid_column": null,
      "grid_gap": null,
      "grid_row": null,
      "grid_template_areas": null,
      "grid_template_columns": null,
      "grid_template_rows": null,
      "height": null,
      "justify_content": null,
      "justify_items": null,
      "left": null,
      "margin": null,
      "max_height": null,
      "max_width": null,
      "min_height": null,
      "min_width": null,
      "object_fit": null,
      "object_position": null,
      "order": null,
      "overflow": null,
      "overflow_x": null,
      "overflow_y": null,
      "padding": null,
      "right": null,
      "top": null,
      "visibility": null,
      "width": null
     }
    },
    "2231b9eeca59404196009612c7f5e218": {
     "model_module": "@jupyter-widgets/controls",
     "model_module_version": "1.5.0",
     "model_name": "DescriptionStyleModel",
     "state": {
      "_model_module": "@jupyter-widgets/controls",
      "_model_module_version": "1.5.0",
      "_model_name": "DescriptionStyleModel",
      "_view_count": null,
      "_view_module": "@jupyter-widgets/base",
      "_view_module_version": "1.2.0",
      "_view_name": "StyleView",
      "description_width": ""
     }
    },
    "22a6c59267964216a770b150ad6e5649": {
     "model_module": "@jupyter-widgets/base",
     "model_module_version": "1.2.0",
     "model_name": "LayoutModel",
     "state": {
      "_model_module": "@jupyter-widgets/base",
      "_model_module_version": "1.2.0",
      "_model_name": "LayoutModel",
      "_view_count": null,
      "_view_module": "@jupyter-widgets/base",
      "_view_module_version": "1.2.0",
      "_view_name": "LayoutView",
      "align_content": null,
      "align_items": null,
      "align_self": null,
      "border": null,
      "bottom": null,
      "display": null,
      "flex": null,
      "flex_flow": null,
      "grid_area": null,
      "grid_auto_columns": null,
      "grid_auto_flow": null,
      "grid_auto_rows": null,
      "grid_column": null,
      "grid_gap": null,
      "grid_row": null,
      "grid_template_areas": null,
      "grid_template_columns": null,
      "grid_template_rows": null,
      "height": null,
      "justify_content": null,
      "justify_items": null,
      "left": null,
      "margin": null,
      "max_height": null,
      "max_width": null,
      "min_height": null,
      "min_width": null,
      "object_fit": null,
      "object_position": null,
      "order": null,
      "overflow": null,
      "overflow_x": null,
      "overflow_y": null,
      "padding": null,
      "right": null,
      "top": null,
      "visibility": null,
      "width": null
     }
    },
    "233a9b1210d54fdba664b2077fcae86c": {
     "model_module": "@jupyter-widgets/base",
     "model_module_version": "1.2.0",
     "model_name": "LayoutModel",
     "state": {
      "_model_module": "@jupyter-widgets/base",
      "_model_module_version": "1.2.0",
      "_model_name": "LayoutModel",
      "_view_count": null,
      "_view_module": "@jupyter-widgets/base",
      "_view_module_version": "1.2.0",
      "_view_name": "LayoutView",
      "align_content": null,
      "align_items": null,
      "align_self": null,
      "border": null,
      "bottom": null,
      "display": null,
      "flex": null,
      "flex_flow": null,
      "grid_area": null,
      "grid_auto_columns": null,
      "grid_auto_flow": null,
      "grid_auto_rows": null,
      "grid_column": null,
      "grid_gap": null,
      "grid_row": null,
      "grid_template_areas": null,
      "grid_template_columns": null,
      "grid_template_rows": null,
      "height": null,
      "justify_content": null,
      "justify_items": null,
      "left": null,
      "margin": null,
      "max_height": null,
      "max_width": null,
      "min_height": null,
      "min_width": null,
      "object_fit": null,
      "object_position": null,
      "order": null,
      "overflow": null,
      "overflow_x": null,
      "overflow_y": null,
      "padding": null,
      "right": null,
      "top": null,
      "visibility": null,
      "width": null
     }
    },
    "233b17fa32ac46a284955dbf2ac23a12": {
     "model_module": "@jupyter-widgets/controls",
     "model_module_version": "1.5.0",
     "model_name": "DescriptionStyleModel",
     "state": {
      "_model_module": "@jupyter-widgets/controls",
      "_model_module_version": "1.5.0",
      "_model_name": "DescriptionStyleModel",
      "_view_count": null,
      "_view_module": "@jupyter-widgets/base",
      "_view_module_version": "1.2.0",
      "_view_name": "StyleView",
      "description_width": ""
     }
    },
    "23a5fc11ccd042d687ef2099b3a78866": {
     "model_module": "@jupyter-widgets/controls",
     "model_module_version": "1.5.0",
     "model_name": "FloatProgressModel",
     "state": {
      "_dom_classes": [],
      "_model_module": "@jupyter-widgets/controls",
      "_model_module_version": "1.5.0",
      "_model_name": "FloatProgressModel",
      "_view_count": null,
      "_view_module": "@jupyter-widgets/controls",
      "_view_module_version": "1.5.0",
      "_view_name": "ProgressView",
      "bar_style": "success",
      "description": "",
      "description_tooltip": null,
      "layout": "IPY_MODEL_05eaf3f4a318432da9185bcab22ac0e0",
      "max": 14,
      "min": 0,
      "orientation": "horizontal",
      "style": "IPY_MODEL_d5f30d3bfa954c2cbe56bf4852391681",
      "value": 14
     }
    },
    "24c4f2b900864f6bb24e055f0ee09cb9": {
     "model_module": "@jupyter-widgets/base",
     "model_module_version": "1.2.0",
     "model_name": "LayoutModel",
     "state": {
      "_model_module": "@jupyter-widgets/base",
      "_model_module_version": "1.2.0",
      "_model_name": "LayoutModel",
      "_view_count": null,
      "_view_module": "@jupyter-widgets/base",
      "_view_module_version": "1.2.0",
      "_view_name": "LayoutView",
      "align_content": null,
      "align_items": null,
      "align_self": null,
      "border": null,
      "bottom": null,
      "display": null,
      "flex": null,
      "flex_flow": null,
      "grid_area": null,
      "grid_auto_columns": null,
      "grid_auto_flow": null,
      "grid_auto_rows": null,
      "grid_column": null,
      "grid_gap": null,
      "grid_row": null,
      "grid_template_areas": null,
      "grid_template_columns": null,
      "grid_template_rows": null,
      "height": null,
      "justify_content": null,
      "justify_items": null,
      "left": null,
      "margin": null,
      "max_height": null,
      "max_width": null,
      "min_height": null,
      "min_width": null,
      "object_fit": null,
      "object_position": null,
      "order": null,
      "overflow": null,
      "overflow_x": null,
      "overflow_y": null,
      "padding": null,
      "right": null,
      "top": null,
      "visibility": null,
      "width": null
     }
    },
    "25b31db57e7d4e4ca2518028c9bca5f8": {
     "model_module": "@jupyter-widgets/base",
     "model_module_version": "1.2.0",
     "model_name": "LayoutModel",
     "state": {
      "_model_module": "@jupyter-widgets/base",
      "_model_module_version": "1.2.0",
      "_model_name": "LayoutModel",
      "_view_count": null,
      "_view_module": "@jupyter-widgets/base",
      "_view_module_version": "1.2.0",
      "_view_name": "LayoutView",
      "align_content": null,
      "align_items": null,
      "align_self": null,
      "border": null,
      "bottom": null,
      "display": null,
      "flex": null,
      "flex_flow": null,
      "grid_area": null,
      "grid_auto_columns": null,
      "grid_auto_flow": null,
      "grid_auto_rows": null,
      "grid_column": null,
      "grid_gap": null,
      "grid_row": null,
      "grid_template_areas": null,
      "grid_template_columns": null,
      "grid_template_rows": null,
      "height": null,
      "justify_content": null,
      "justify_items": null,
      "left": null,
      "margin": null,
      "max_height": null,
      "max_width": null,
      "min_height": null,
      "min_width": null,
      "object_fit": null,
      "object_position": null,
      "order": null,
      "overflow": null,
      "overflow_x": null,
      "overflow_y": null,
      "padding": null,
      "right": null,
      "top": null,
      "visibility": null,
      "width": null
     }
    },
    "27142e05faa047bf8c7152c5c575e1e2": {
     "model_module": "@jupyter-widgets/controls",
     "model_module_version": "1.5.0",
     "model_name": "DescriptionStyleModel",
     "state": {
      "_model_module": "@jupyter-widgets/controls",
      "_model_module_version": "1.5.0",
      "_model_name": "DescriptionStyleModel",
      "_view_count": null,
      "_view_module": "@jupyter-widgets/base",
      "_view_module_version": "1.2.0",
      "_view_name": "StyleView",
      "description_width": ""
     }
    },
    "276f3654dad4459599f115d5ab515322": {
     "model_module": "@jupyter-widgets/base",
     "model_module_version": "1.2.0",
     "model_name": "LayoutModel",
     "state": {
      "_model_module": "@jupyter-widgets/base",
      "_model_module_version": "1.2.0",
      "_model_name": "LayoutModel",
      "_view_count": null,
      "_view_module": "@jupyter-widgets/base",
      "_view_module_version": "1.2.0",
      "_view_name": "LayoutView",
      "align_content": null,
      "align_items": null,
      "align_self": null,
      "border": null,
      "bottom": null,
      "display": null,
      "flex": null,
      "flex_flow": null,
      "grid_area": null,
      "grid_auto_columns": null,
      "grid_auto_flow": null,
      "grid_auto_rows": null,
      "grid_column": null,
      "grid_gap": null,
      "grid_row": null,
      "grid_template_areas": null,
      "grid_template_columns": null,
      "grid_template_rows": null,
      "height": null,
      "justify_content": null,
      "justify_items": null,
      "left": null,
      "margin": null,
      "max_height": null,
      "max_width": null,
      "min_height": null,
      "min_width": null,
      "object_fit": null,
      "object_position": null,
      "order": null,
      "overflow": null,
      "overflow_x": null,
      "overflow_y": null,
      "padding": null,
      "right": null,
      "top": null,
      "visibility": null,
      "width": null
     }
    },
    "285bb716e454417f8235ea494e1558dd": {
     "model_module": "@jupyter-widgets/base",
     "model_module_version": "1.2.0",
     "model_name": "LayoutModel",
     "state": {
      "_model_module": "@jupyter-widgets/base",
      "_model_module_version": "1.2.0",
      "_model_name": "LayoutModel",
      "_view_count": null,
      "_view_module": "@jupyter-widgets/base",
      "_view_module_version": "1.2.0",
      "_view_name": "LayoutView",
      "align_content": null,
      "align_items": null,
      "align_self": null,
      "border": null,
      "bottom": null,
      "display": null,
      "flex": null,
      "flex_flow": null,
      "grid_area": null,
      "grid_auto_columns": null,
      "grid_auto_flow": null,
      "grid_auto_rows": null,
      "grid_column": null,
      "grid_gap": null,
      "grid_row": null,
      "grid_template_areas": null,
      "grid_template_columns": null,
      "grid_template_rows": null,
      "height": null,
      "justify_content": null,
      "justify_items": null,
      "left": null,
      "margin": null,
      "max_height": null,
      "max_width": null,
      "min_height": null,
      "min_width": null,
      "object_fit": null,
      "object_position": null,
      "order": null,
      "overflow": null,
      "overflow_x": null,
      "overflow_y": null,
      "padding": null,
      "right": null,
      "top": null,
      "visibility": null,
      "width": null
     }
    },
    "28645b1f10cc4f3d80d92fa558892242": {
     "model_module": "@jupyter-widgets/base",
     "model_module_version": "1.2.0",
     "model_name": "LayoutModel",
     "state": {
      "_model_module": "@jupyter-widgets/base",
      "_model_module_version": "1.2.0",
      "_model_name": "LayoutModel",
      "_view_count": null,
      "_view_module": "@jupyter-widgets/base",
      "_view_module_version": "1.2.0",
      "_view_name": "LayoutView",
      "align_content": null,
      "align_items": null,
      "align_self": null,
      "border": null,
      "bottom": null,
      "display": null,
      "flex": null,
      "flex_flow": null,
      "grid_area": null,
      "grid_auto_columns": null,
      "grid_auto_flow": null,
      "grid_auto_rows": null,
      "grid_column": null,
      "grid_gap": null,
      "grid_row": null,
      "grid_template_areas": null,
      "grid_template_columns": null,
      "grid_template_rows": null,
      "height": null,
      "justify_content": null,
      "justify_items": null,
      "left": null,
      "margin": null,
      "max_height": null,
      "max_width": null,
      "min_height": null,
      "min_width": null,
      "object_fit": null,
      "object_position": null,
      "order": null,
      "overflow": null,
      "overflow_x": null,
      "overflow_y": null,
      "padding": null,
      "right": null,
      "top": null,
      "visibility": null,
      "width": null
     }
    },
    "28b6d3394da242c99e297be76ddd6f8e": {
     "model_module": "@jupyter-widgets/controls",
     "model_module_version": "1.5.0",
     "model_name": "DescriptionStyleModel",
     "state": {
      "_model_module": "@jupyter-widgets/controls",
      "_model_module_version": "1.5.0",
      "_model_name": "DescriptionStyleModel",
      "_view_count": null,
      "_view_module": "@jupyter-widgets/base",
      "_view_module_version": "1.2.0",
      "_view_name": "StyleView",
      "description_width": ""
     }
    },
    "29ea5cf3d2a744c8b681eb6ffbab0ff5": {
     "model_module": "@jupyter-widgets/base",
     "model_module_version": "1.2.0",
     "model_name": "LayoutModel",
     "state": {
      "_model_module": "@jupyter-widgets/base",
      "_model_module_version": "1.2.0",
      "_model_name": "LayoutModel",
      "_view_count": null,
      "_view_module": "@jupyter-widgets/base",
      "_view_module_version": "1.2.0",
      "_view_name": "LayoutView",
      "align_content": null,
      "align_items": null,
      "align_self": null,
      "border": null,
      "bottom": null,
      "display": null,
      "flex": null,
      "flex_flow": null,
      "grid_area": null,
      "grid_auto_columns": null,
      "grid_auto_flow": null,
      "grid_auto_rows": null,
      "grid_column": null,
      "grid_gap": null,
      "grid_row": null,
      "grid_template_areas": null,
      "grid_template_columns": null,
      "grid_template_rows": null,
      "height": null,
      "justify_content": null,
      "justify_items": null,
      "left": null,
      "margin": null,
      "max_height": null,
      "max_width": null,
      "min_height": null,
      "min_width": null,
      "object_fit": null,
      "object_position": null,
      "order": null,
      "overflow": null,
      "overflow_x": null,
      "overflow_y": null,
      "padding": null,
      "right": null,
      "top": null,
      "visibility": null,
      "width": null
     }
    },
    "2b2c2e4a75a34a7fbfc1de87160c7b20": {
     "model_module": "@jupyter-widgets/controls",
     "model_module_version": "1.5.0",
     "model_name": "DescriptionStyleModel",
     "state": {
      "_model_module": "@jupyter-widgets/controls",
      "_model_module_version": "1.5.0",
      "_model_name": "DescriptionStyleModel",
      "_view_count": null,
      "_view_module": "@jupyter-widgets/base",
      "_view_module_version": "1.2.0",
      "_view_name": "StyleView",
      "description_width": ""
     }
    },
    "2b81f83325be4e31bdc15912e3b05856": {
     "model_module": "@jupyter-widgets/controls",
     "model_module_version": "1.5.0",
     "model_name": "HBoxModel",
     "state": {
      "_dom_classes": [],
      "_model_module": "@jupyter-widgets/controls",
      "_model_module_version": "1.5.0",
      "_model_name": "HBoxModel",
      "_view_count": null,
      "_view_module": "@jupyter-widgets/controls",
      "_view_module_version": "1.5.0",
      "_view_name": "HBoxView",
      "box_style": "",
      "children": [
       "IPY_MODEL_0d4fd9e95de74598ba911fb398dbeeb8",
       "IPY_MODEL_2f56918446544874b3a19d13d04be4bd",
       "IPY_MODEL_845b7f5723ca49a6afa1692a1de59b97"
      ],
      "layout": "IPY_MODEL_0a48f2b87a7c4c4da63a4b6d92adf6a7"
     }
    },
    "2c26265db7494f48b7c14633175274c1": {
     "model_module": "@jupyter-widgets/controls",
     "model_module_version": "1.5.0",
     "model_name": "ProgressStyleModel",
     "state": {
      "_model_module": "@jupyter-widgets/controls",
      "_model_module_version": "1.5.0",
      "_model_name": "ProgressStyleModel",
      "_view_count": null,
      "_view_module": "@jupyter-widgets/base",
      "_view_module_version": "1.2.0",
      "_view_name": "StyleView",
      "bar_color": null,
      "description_width": ""
     }
    },
    "2c3c4f9c422843bba9238f9f07889bd0": {
     "model_module": "@jupyter-widgets/controls",
     "model_module_version": "1.5.0",
     "model_name": "HBoxModel",
     "state": {
      "_dom_classes": [],
      "_model_module": "@jupyter-widgets/controls",
      "_model_module_version": "1.5.0",
      "_model_name": "HBoxModel",
      "_view_count": null,
      "_view_module": "@jupyter-widgets/controls",
      "_view_module_version": "1.5.0",
      "_view_name": "HBoxView",
      "box_style": "",
      "children": [
       "IPY_MODEL_6ab03e0046014aff923464ca5b940db3",
       "IPY_MODEL_fcc31bbfa93f4ce7a1370a8a6c875dbc",
       "IPY_MODEL_83d62484fa7d4e0585c4557fee46eaf4"
      ],
      "layout": "IPY_MODEL_f717ce3a057e4f0e9e872c49041738cb"
     }
    },
    "2c6ebcafcf3645f68687cbfdac3a18ea": {
     "model_module": "@jupyter-widgets/controls",
     "model_module_version": "1.5.0",
     "model_name": "DescriptionStyleModel",
     "state": {
      "_model_module": "@jupyter-widgets/controls",
      "_model_module_version": "1.5.0",
      "_model_name": "DescriptionStyleModel",
      "_view_count": null,
      "_view_module": "@jupyter-widgets/base",
      "_view_module_version": "1.2.0",
      "_view_name": "StyleView",
      "description_width": ""
     }
    },
    "2d2ceee69f0b4cae99261c763fd09626": {
     "model_module": "@jupyter-widgets/controls",
     "model_module_version": "1.5.0",
     "model_name": "DescriptionStyleModel",
     "state": {
      "_model_module": "@jupyter-widgets/controls",
      "_model_module_version": "1.5.0",
      "_model_name": "DescriptionStyleModel",
      "_view_count": null,
      "_view_module": "@jupyter-widgets/base",
      "_view_module_version": "1.2.0",
      "_view_name": "StyleView",
      "description_width": ""
     }
    },
    "2f043af89f1f47b69a32a944069479b0": {
     "model_module": "@jupyter-widgets/controls",
     "model_module_version": "1.5.0",
     "model_name": "HTMLModel",
     "state": {
      "_dom_classes": [],
      "_model_module": "@jupyter-widgets/controls",
      "_model_module_version": "1.5.0",
      "_model_name": "HTMLModel",
      "_view_count": null,
      "_view_module": "@jupyter-widgets/controls",
      "_view_module_version": "1.5.0",
      "_view_name": "HTMLView",
      "description": "",
      "description_tooltip": null,
      "layout": "IPY_MODEL_b4e2bf2cb4634f2e84b20c987f897978",
      "placeholder": "​",
      "style": "IPY_MODEL_2231b9eeca59404196009612c7f5e218",
      "value": "Downloading: 100%"
     }
    },
    "2f56918446544874b3a19d13d04be4bd": {
     "model_module": "@jupyter-widgets/controls",
     "model_module_version": "1.5.0",
     "model_name": "FloatProgressModel",
     "state": {
      "_dom_classes": [],
      "_model_module": "@jupyter-widgets/controls",
      "_model_module_version": "1.5.0",
      "_model_name": "FloatProgressModel",
      "_view_count": null,
      "_view_module": "@jupyter-widgets/controls",
      "_view_module_version": "1.5.0",
      "_view_name": "ProgressView",
      "bar_style": "success",
      "description": "",
      "description_tooltip": null,
      "layout": "IPY_MODEL_a06fbfa7a22d43229ff62ea9b3a759af",
      "max": 28,
      "min": 0,
      "orientation": "horizontal",
      "style": "IPY_MODEL_d386a2e9c82d4905914ae8343ef74486",
      "value": 28
     }
    },
    "314f4254fd824209b18b873bfdc694c2": {
     "model_module": "@jupyter-widgets/base",
     "model_module_version": "1.2.0",
     "model_name": "LayoutModel",
     "state": {
      "_model_module": "@jupyter-widgets/base",
      "_model_module_version": "1.2.0",
      "_model_name": "LayoutModel",
      "_view_count": null,
      "_view_module": "@jupyter-widgets/base",
      "_view_module_version": "1.2.0",
      "_view_name": "LayoutView",
      "align_content": null,
      "align_items": null,
      "align_self": null,
      "border": null,
      "bottom": null,
      "display": null,
      "flex": null,
      "flex_flow": null,
      "grid_area": null,
      "grid_auto_columns": null,
      "grid_auto_flow": null,
      "grid_auto_rows": null,
      "grid_column": null,
      "grid_gap": null,
      "grid_row": null,
      "grid_template_areas": null,
      "grid_template_columns": null,
      "grid_template_rows": null,
      "height": null,
      "justify_content": null,
      "justify_items": null,
      "left": null,
      "margin": null,
      "max_height": null,
      "max_width": null,
      "min_height": null,
      "min_width": null,
      "object_fit": null,
      "object_position": null,
      "order": null,
      "overflow": null,
      "overflow_x": null,
      "overflow_y": null,
      "padding": null,
      "right": null,
      "top": null,
      "visibility": null,
      "width": null
     }
    },
    "31583f39321149ec95a9d675ea70a033": {
     "model_module": "@jupyter-widgets/controls",
     "model_module_version": "1.5.0",
     "model_name": "HTMLModel",
     "state": {
      "_dom_classes": [],
      "_model_module": "@jupyter-widgets/controls",
      "_model_module_version": "1.5.0",
      "_model_name": "HTMLModel",
      "_view_count": null,
      "_view_module": "@jupyter-widgets/controls",
      "_view_module_version": "1.5.0",
      "_view_name": "HTMLView",
      "description": "",
      "description_tooltip": null,
      "layout": "IPY_MODEL_888ac10b61e54e3f89dae818b5fbfc3c",
      "placeholder": "​",
      "style": "IPY_MODEL_a83d65920dfc4a198b95bc60643dbf0c",
      "value": "Downloading: 100%"
     }
    },
    "316f1208d8124435bc028304ff298322": {
     "model_module": "@jupyter-widgets/controls",
     "model_module_version": "1.5.0",
     "model_name": "ProgressStyleModel",
     "state": {
      "_model_module": "@jupyter-widgets/controls",
      "_model_module_version": "1.5.0",
      "_model_name": "ProgressStyleModel",
      "_view_count": null,
      "_view_module": "@jupyter-widgets/base",
      "_view_module_version": "1.2.0",
      "_view_name": "StyleView",
      "bar_color": null,
      "description_width": ""
     }
    },
    "31f1f74b7f7641b994638439187bbb6d": {
     "model_module": "@jupyter-widgets/base",
     "model_module_version": "1.2.0",
     "model_name": "LayoutModel",
     "state": {
      "_model_module": "@jupyter-widgets/base",
      "_model_module_version": "1.2.0",
      "_model_name": "LayoutModel",
      "_view_count": null,
      "_view_module": "@jupyter-widgets/base",
      "_view_module_version": "1.2.0",
      "_view_name": "LayoutView",
      "align_content": null,
      "align_items": null,
      "align_self": null,
      "border": null,
      "bottom": null,
      "display": null,
      "flex": null,
      "flex_flow": null,
      "grid_area": null,
      "grid_auto_columns": null,
      "grid_auto_flow": null,
      "grid_auto_rows": null,
      "grid_column": null,
      "grid_gap": null,
      "grid_row": null,
      "grid_template_areas": null,
      "grid_template_columns": null,
      "grid_template_rows": null,
      "height": null,
      "justify_content": null,
      "justify_items": null,
      "left": null,
      "margin": null,
      "max_height": null,
      "max_width": null,
      "min_height": null,
      "min_width": null,
      "object_fit": null,
      "object_position": null,
      "order": null,
      "overflow": null,
      "overflow_x": null,
      "overflow_y": null,
      "padding": null,
      "right": null,
      "top": null,
      "visibility": null,
      "width": null
     }
    },
    "33d1b3dba9c9431493b6f91fec99577f": {
     "model_module": "@jupyter-widgets/controls",
     "model_module_version": "1.5.0",
     "model_name": "FloatProgressModel",
     "state": {
      "_dom_classes": [],
      "_model_module": "@jupyter-widgets/controls",
      "_model_module_version": "1.5.0",
      "_model_name": "FloatProgressModel",
      "_view_count": null,
      "_view_module": "@jupyter-widgets/controls",
      "_view_module_version": "1.5.0",
      "_view_name": "ProgressView",
      "bar_style": "success",
      "description": "",
      "description_tooltip": null,
      "layout": "IPY_MODEL_69a9a1c12b9f4e23a1223138ed48fd4c",
      "max": 2,
      "min": 0,
      "orientation": "horizontal",
      "style": "IPY_MODEL_c0092847fc8d418b835c35a3a2f88487",
      "value": 2
     }
    },
    "35b9500ca1b7482f8e2a38b34589be9f": {
     "model_module": "@jupyter-widgets/controls",
     "model_module_version": "1.5.0",
     "model_name": "DescriptionStyleModel",
     "state": {
      "_model_module": "@jupyter-widgets/controls",
      "_model_module_version": "1.5.0",
      "_model_name": "DescriptionStyleModel",
      "_view_count": null,
      "_view_module": "@jupyter-widgets/base",
      "_view_module_version": "1.2.0",
      "_view_name": "StyleView",
      "description_width": ""
     }
    },
    "36401306f07b44269b703e200cc5fe1d": {
     "model_module": "@jupyter-widgets/base",
     "model_module_version": "1.2.0",
     "model_name": "LayoutModel",
     "state": {
      "_model_module": "@jupyter-widgets/base",
      "_model_module_version": "1.2.0",
      "_model_name": "LayoutModel",
      "_view_count": null,
      "_view_module": "@jupyter-widgets/base",
      "_view_module_version": "1.2.0",
      "_view_name": "LayoutView",
      "align_content": null,
      "align_items": null,
      "align_self": null,
      "border": null,
      "bottom": null,
      "display": null,
      "flex": null,
      "flex_flow": null,
      "grid_area": null,
      "grid_auto_columns": null,
      "grid_auto_flow": null,
      "grid_auto_rows": null,
      "grid_column": null,
      "grid_gap": null,
      "grid_row": null,
      "grid_template_areas": null,
      "grid_template_columns": null,
      "grid_template_rows": null,
      "height": null,
      "justify_content": null,
      "justify_items": null,
      "left": null,
      "margin": null,
      "max_height": null,
      "max_width": null,
      "min_height": null,
      "min_width": null,
      "object_fit": null,
      "object_position": null,
      "order": null,
      "overflow": null,
      "overflow_x": null,
      "overflow_y": null,
      "padding": null,
      "right": null,
      "top": null,
      "visibility": null,
      "width": null
     }
    },
    "37432f3d3b9f4798a19bf1fc254bacbd": {
     "model_module": "@jupyter-widgets/controls",
     "model_module_version": "1.5.0",
     "model_name": "HTMLModel",
     "state": {
      "_dom_classes": [],
      "_model_module": "@jupyter-widgets/controls",
      "_model_module_version": "1.5.0",
      "_model_name": "HTMLModel",
      "_view_count": null,
      "_view_module": "@jupyter-widgets/controls",
      "_view_module_version": "1.5.0",
      "_view_name": "HTMLView",
      "description": "",
      "description_tooltip": null,
      "layout": "IPY_MODEL_22a6c59267964216a770b150ad6e5649",
      "placeholder": "​",
      "style": "IPY_MODEL_5f20de44b46b4e13a74cb107b82cba62",
      "value": " 570/570 [00:00&lt;00:00, 10.9kB/s]"
     }
    },
    "38d6aa94f9dd4e5083ed1b094205606c": {
     "model_module": "@jupyter-widgets/controls",
     "model_module_version": "1.5.0",
     "model_name": "ProgressStyleModel",
     "state": {
      "_model_module": "@jupyter-widgets/controls",
      "_model_module_version": "1.5.0",
      "_model_name": "ProgressStyleModel",
      "_view_count": null,
      "_view_module": "@jupyter-widgets/base",
      "_view_module_version": "1.2.0",
      "_view_name": "StyleView",
      "bar_color": null,
      "description_width": ""
     }
    },
    "3900d52d92344acda20efb965679318e": {
     "model_module": "@jupyter-widgets/controls",
     "model_module_version": "1.5.0",
     "model_name": "FloatProgressModel",
     "state": {
      "_dom_classes": [],
      "_model_module": "@jupyter-widgets/controls",
      "_model_module_version": "1.5.0",
      "_model_name": "FloatProgressModel",
      "_view_count": null,
      "_view_module": "@jupyter-widgets/controls",
      "_view_module_version": "1.5.0",
      "_view_name": "ProgressView",
      "bar_style": "success",
      "description": "",
      "description_tooltip": null,
      "layout": "IPY_MODEL_31f1f74b7f7641b994638439187bbb6d",
      "max": 28,
      "min": 0,
      "orientation": "horizontal",
      "style": "IPY_MODEL_a3a59724a59647f387f098b1e2898f45",
      "value": 28
     }
    },
    "3bb7f41c503c40b8847809ab490ee351": {
     "model_module": "@jupyter-widgets/controls",
     "model_module_version": "1.5.0",
     "model_name": "DescriptionStyleModel",
     "state": {
      "_model_module": "@jupyter-widgets/controls",
      "_model_module_version": "1.5.0",
      "_model_name": "DescriptionStyleModel",
      "_view_count": null,
      "_view_module": "@jupyter-widgets/base",
      "_view_module_version": "1.2.0",
      "_view_name": "StyleView",
      "description_width": ""
     }
    },
    "3cafdf1a8d044ae7ac23d8c40b14c613": {
     "model_module": "@jupyter-widgets/controls",
     "model_module_version": "1.5.0",
     "model_name": "DescriptionStyleModel",
     "state": {
      "_model_module": "@jupyter-widgets/controls",
      "_model_module_version": "1.5.0",
      "_model_name": "DescriptionStyleModel",
      "_view_count": null,
      "_view_module": "@jupyter-widgets/base",
      "_view_module_version": "1.2.0",
      "_view_name": "StyleView",
      "description_width": ""
     }
    },
    "3e0db2441f6b445cb25786429186a5f4": {
     "model_module": "@jupyter-widgets/controls",
     "model_module_version": "1.5.0",
     "model_name": "HTMLModel",
     "state": {
      "_dom_classes": [],
      "_model_module": "@jupyter-widgets/controls",
      "_model_module_version": "1.5.0",
      "_model_name": "HTMLModel",
      "_view_count": null,
      "_view_module": "@jupyter-widgets/controls",
      "_view_module_version": "1.5.0",
      "_view_name": "HTMLView",
      "description": "",
      "description_tooltip": null,
      "layout": "IPY_MODEL_da5af35bd4bf4696b33168b5d8121fce",
      "placeholder": "​",
      "style": "IPY_MODEL_3fc36ba5b2984a399234b7828e7744d1",
      "value": "Downloading: 100%"
     }
    },
    "3e42f4a621a84c0cadfdf8f9d443d4e1": {
     "model_module": "@jupyter-widgets/base",
     "model_module_version": "1.2.0",
     "model_name": "LayoutModel",
     "state": {
      "_model_module": "@jupyter-widgets/base",
      "_model_module_version": "1.2.0",
      "_model_name": "LayoutModel",
      "_view_count": null,
      "_view_module": "@jupyter-widgets/base",
      "_view_module_version": "1.2.0",
      "_view_name": "LayoutView",
      "align_content": null,
      "align_items": null,
      "align_self": null,
      "border": null,
      "bottom": null,
      "display": null,
      "flex": null,
      "flex_flow": null,
      "grid_area": null,
      "grid_auto_columns": null,
      "grid_auto_flow": null,
      "grid_auto_rows": null,
      "grid_column": null,
      "grid_gap": null,
      "grid_row": null,
      "grid_template_areas": null,
      "grid_template_columns": null,
      "grid_template_rows": null,
      "height": null,
      "justify_content": null,
      "justify_items": null,
      "left": null,
      "margin": null,
      "max_height": null,
      "max_width": null,
      "min_height": null,
      "min_width": null,
      "object_fit": null,
      "object_position": null,
      "order": null,
      "overflow": null,
      "overflow_x": null,
      "overflow_y": null,
      "padding": null,
      "right": null,
      "top": null,
      "visibility": null,
      "width": null
     }
    },
    "3e781b3098a54b29b24b62077515c70a": {
     "model_module": "@jupyter-widgets/base",
     "model_module_version": "1.2.0",
     "model_name": "LayoutModel",
     "state": {
      "_model_module": "@jupyter-widgets/base",
      "_model_module_version": "1.2.0",
      "_model_name": "LayoutModel",
      "_view_count": null,
      "_view_module": "@jupyter-widgets/base",
      "_view_module_version": "1.2.0",
      "_view_name": "LayoutView",
      "align_content": null,
      "align_items": null,
      "align_self": null,
      "border": null,
      "bottom": null,
      "display": null,
      "flex": null,
      "flex_flow": null,
      "grid_area": null,
      "grid_auto_columns": null,
      "grid_auto_flow": null,
      "grid_auto_rows": null,
      "grid_column": null,
      "grid_gap": null,
      "grid_row": null,
      "grid_template_areas": null,
      "grid_template_columns": null,
      "grid_template_rows": null,
      "height": null,
      "justify_content": null,
      "justify_items": null,
      "left": null,
      "margin": null,
      "max_height": null,
      "max_width": null,
      "min_height": null,
      "min_width": null,
      "object_fit": null,
      "object_position": null,
      "order": null,
      "overflow": null,
      "overflow_x": null,
      "overflow_y": null,
      "padding": null,
      "right": null,
      "top": null,
      "visibility": null,
      "width": null
     }
    },
    "3f844d3b6f844501bdfc7a799e777f8d": {
     "model_module": "@jupyter-widgets/base",
     "model_module_version": "1.2.0",
     "model_name": "LayoutModel",
     "state": {
      "_model_module": "@jupyter-widgets/base",
      "_model_module_version": "1.2.0",
      "_model_name": "LayoutModel",
      "_view_count": null,
      "_view_module": "@jupyter-widgets/base",
      "_view_module_version": "1.2.0",
      "_view_name": "LayoutView",
      "align_content": null,
      "align_items": null,
      "align_self": null,
      "border": null,
      "bottom": null,
      "display": null,
      "flex": null,
      "flex_flow": null,
      "grid_area": null,
      "grid_auto_columns": null,
      "grid_auto_flow": null,
      "grid_auto_rows": null,
      "grid_column": null,
      "grid_gap": null,
      "grid_row": null,
      "grid_template_areas": null,
      "grid_template_columns": null,
      "grid_template_rows": null,
      "height": null,
      "justify_content": null,
      "justify_items": null,
      "left": null,
      "margin": null,
      "max_height": null,
      "max_width": null,
      "min_height": null,
      "min_width": null,
      "object_fit": null,
      "object_position": null,
      "order": null,
      "overflow": null,
      "overflow_x": null,
      "overflow_y": null,
      "padding": null,
      "right": null,
      "top": null,
      "visibility": null,
      "width": null
     }
    },
    "3fc36ba5b2984a399234b7828e7744d1": {
     "model_module": "@jupyter-widgets/controls",
     "model_module_version": "1.5.0",
     "model_name": "DescriptionStyleModel",
     "state": {
      "_model_module": "@jupyter-widgets/controls",
      "_model_module_version": "1.5.0",
      "_model_name": "DescriptionStyleModel",
      "_view_count": null,
      "_view_module": "@jupyter-widgets/base",
      "_view_module_version": "1.2.0",
      "_view_name": "StyleView",
      "description_width": ""
     }
    },
    "3fda3a602d324defb1f4cf2b9175748d": {
     "model_module": "@jupyter-widgets/controls",
     "model_module_version": "1.5.0",
     "model_name": "HBoxModel",
     "state": {
      "_dom_classes": [],
      "_model_module": "@jupyter-widgets/controls",
      "_model_module_version": "1.5.0",
      "_model_name": "HBoxModel",
      "_view_count": null,
      "_view_module": "@jupyter-widgets/controls",
      "_view_module_version": "1.5.0",
      "_view_name": "HBoxView",
      "box_style": "",
      "children": [
       "IPY_MODEL_a45bb1a7da254681877e2386b4a64e9f",
       "IPY_MODEL_9aca5b3749674ae68616fb365934db61",
       "IPY_MODEL_89e97e8df3664a008335af56ea6dfb28"
      ],
      "layout": "IPY_MODEL_92a8c8e236e04b06be561f7d4ed57e18"
     }
    },
    "4091797a137b47f982629c37345d2f39": {
     "model_module": "@jupyter-widgets/controls",
     "model_module_version": "1.5.0",
     "model_name": "HTMLModel",
     "state": {
      "_dom_classes": [],
      "_model_module": "@jupyter-widgets/controls",
      "_model_module_version": "1.5.0",
      "_model_name": "HTMLModel",
      "_view_count": null,
      "_view_module": "@jupyter-widgets/controls",
      "_view_module_version": "1.5.0",
      "_view_name": "HTMLView",
      "description": "",
      "description_tooltip": null,
      "layout": "IPY_MODEL_285bb716e454417f8235ea494e1558dd",
      "placeholder": "​",
      "style": "IPY_MODEL_35b9500ca1b7482f8e2a38b34589be9f",
      "value": "Downloading: 100%"
     }
    },
    "433eb846e56c4185b02e10201cbc48fe": {
     "model_module": "@jupyter-widgets/controls",
     "model_module_version": "1.5.0",
     "model_name": "FloatProgressModel",
     "state": {
      "_dom_classes": [],
      "_model_module": "@jupyter-widgets/controls",
      "_model_module_version": "1.5.0",
      "_model_name": "FloatProgressModel",
      "_view_count": null,
      "_view_module": "@jupyter-widgets/controls",
      "_view_module_version": "1.5.0",
      "_view_name": "ProgressView",
      "bar_style": "success",
      "description": "",
      "description_tooltip": null,
      "layout": "IPY_MODEL_29ea5cf3d2a744c8b681eb6ffbab0ff5",
      "max": 570,
      "min": 0,
      "orientation": "horizontal",
      "style": "IPY_MODEL_2c26265db7494f48b7c14633175274c1",
      "value": 570
     }
    },
    "445b1d95a2d04bb6aa54d9f9705a8fb5": {
     "model_module": "@jupyter-widgets/base",
     "model_module_version": "1.2.0",
     "model_name": "LayoutModel",
     "state": {
      "_model_module": "@jupyter-widgets/base",
      "_model_module_version": "1.2.0",
      "_model_name": "LayoutModel",
      "_view_count": null,
      "_view_module": "@jupyter-widgets/base",
      "_view_module_version": "1.2.0",
      "_view_name": "LayoutView",
      "align_content": null,
      "align_items": null,
      "align_self": null,
      "border": null,
      "bottom": null,
      "display": null,
      "flex": null,
      "flex_flow": null,
      "grid_area": null,
      "grid_auto_columns": null,
      "grid_auto_flow": null,
      "grid_auto_rows": null,
      "grid_column": null,
      "grid_gap": null,
      "grid_row": null,
      "grid_template_areas": null,
      "grid_template_columns": null,
      "grid_template_rows": null,
      "height": null,
      "justify_content": null,
      "justify_items": null,
      "left": null,
      "margin": null,
      "max_height": null,
      "max_width": null,
      "min_height": null,
      "min_width": null,
      "object_fit": null,
      "object_position": null,
      "order": null,
      "overflow": null,
      "overflow_x": null,
      "overflow_y": null,
      "padding": null,
      "right": null,
      "top": null,
      "visibility": null,
      "width": null
     }
    },
    "4552b4ac06ac4a77a22010f8a100b5d9": {
     "model_module": "@jupyter-widgets/controls",
     "model_module_version": "1.5.0",
     "model_name": "DescriptionStyleModel",
     "state": {
      "_model_module": "@jupyter-widgets/controls",
      "_model_module_version": "1.5.0",
      "_model_name": "DescriptionStyleModel",
      "_view_count": null,
      "_view_module": "@jupyter-widgets/base",
      "_view_module_version": "1.2.0",
      "_view_name": "StyleView",
      "description_width": ""
     }
    },
    "4672d76f527b407d8e5e7a06a340ab52": {
     "model_module": "@jupyter-widgets/controls",
     "model_module_version": "1.5.0",
     "model_name": "HTMLModel",
     "state": {
      "_dom_classes": [],
      "_model_module": "@jupyter-widgets/controls",
      "_model_module_version": "1.5.0",
      "_model_name": "HTMLModel",
      "_view_count": null,
      "_view_module": "@jupyter-widgets/controls",
      "_view_module_version": "1.5.0",
      "_view_name": "HTMLView",
      "description": "",
      "description_tooltip": null,
      "layout": "IPY_MODEL_57887ace596746eebe39594c6a945ca5",
      "placeholder": "​",
      "style": "IPY_MODEL_13fd5486e74643bfbed095039e21dcc3",
      "value": " 570/570 [00:00&lt;00:00, 16.0kB/s]"
     }
    },
    "4780bde659dc4387b1bc973c7541e2b3": {
     "model_module": "@jupyter-widgets/controls",
     "model_module_version": "1.5.0",
     "model_name": "HBoxModel",
     "state": {
      "_dom_classes": [],
      "_model_module": "@jupyter-widgets/controls",
      "_model_module_version": "1.5.0",
      "_model_name": "HBoxModel",
      "_view_count": null,
      "_view_module": "@jupyter-widgets/controls",
      "_view_module_version": "1.5.0",
      "_view_name": "HBoxView",
      "box_style": "",
      "children": [
       "IPY_MODEL_078e98ce391b4e1ab19924989306e3c3",
       "IPY_MODEL_ad27a38b2ca24c619582e2234bbc9394",
       "IPY_MODEL_37432f3d3b9f4798a19bf1fc254bacbd"
      ],
      "layout": "IPY_MODEL_fd8ac45696e84f949ea13d690b15e884"
     }
    },
    "49f4d0c4fe5f4ad2bc4cff971f2164d7": {
     "model_module": "@jupyter-widgets/controls",
     "model_module_version": "1.5.0",
     "model_name": "DescriptionStyleModel",
     "state": {
      "_model_module": "@jupyter-widgets/controls",
      "_model_module_version": "1.5.0",
      "_model_name": "DescriptionStyleModel",
      "_view_count": null,
      "_view_module": "@jupyter-widgets/base",
      "_view_module_version": "1.2.0",
      "_view_name": "StyleView",
      "description_width": ""
     }
    },
    "4b26b7b0ba9d49e984bbc0119bcddcb5": {
     "model_module": "@jupyter-widgets/controls",
     "model_module_version": "1.5.0",
     "model_name": "FloatProgressModel",
     "state": {
      "_dom_classes": [],
      "_model_module": "@jupyter-widgets/controls",
      "_model_module_version": "1.5.0",
      "_model_name": "FloatProgressModel",
      "_view_count": null,
      "_view_module": "@jupyter-widgets/controls",
      "_view_module_version": "1.5.0",
      "_view_name": "ProgressView",
      "bar_style": "success",
      "description": "",
      "description_tooltip": null,
      "layout": "IPY_MODEL_fbec4beb5624479a93962113a403d575",
      "max": 501200538,
      "min": 0,
      "orientation": "horizontal",
      "style": "IPY_MODEL_316f1208d8124435bc028304ff298322",
      "value": 501200538
     }
    },
    "4cf02be1ca9c4ca9b62555e9d9c1e1da": {
     "model_module": "@jupyter-widgets/base",
     "model_module_version": "1.2.0",
     "model_name": "LayoutModel",
     "state": {
      "_model_module": "@jupyter-widgets/base",
      "_model_module_version": "1.2.0",
      "_model_name": "LayoutModel",
      "_view_count": null,
      "_view_module": "@jupyter-widgets/base",
      "_view_module_version": "1.2.0",
      "_view_name": "LayoutView",
      "align_content": null,
      "align_items": null,
      "align_self": null,
      "border": null,
      "bottom": null,
      "display": null,
      "flex": null,
      "flex_flow": null,
      "grid_area": null,
      "grid_auto_columns": null,
      "grid_auto_flow": null,
      "grid_auto_rows": null,
      "grid_column": null,
      "grid_gap": null,
      "grid_row": null,
      "grid_template_areas": null,
      "grid_template_columns": null,
      "grid_template_rows": null,
      "height": null,
      "justify_content": null,
      "justify_items": null,
      "left": null,
      "margin": null,
      "max_height": null,
      "max_width": null,
      "min_height": null,
      "min_width": null,
      "object_fit": null,
      "object_position": null,
      "order": null,
      "overflow": null,
      "overflow_x": null,
      "overflow_y": null,
      "padding": null,
      "right": null,
      "top": null,
      "visibility": null,
      "width": null
     }
    },
    "4dc61a97d442451eb97101d47dcfdc4b": {
     "model_module": "@jupyter-widgets/base",
     "model_module_version": "1.2.0",
     "model_name": "LayoutModel",
     "state": {
      "_model_module": "@jupyter-widgets/base",
      "_model_module_version": "1.2.0",
      "_model_name": "LayoutModel",
      "_view_count": null,
      "_view_module": "@jupyter-widgets/base",
      "_view_module_version": "1.2.0",
      "_view_name": "LayoutView",
      "align_content": null,
      "align_items": null,
      "align_self": null,
      "border": null,
      "bottom": null,
      "display": null,
      "flex": null,
      "flex_flow": null,
      "grid_area": null,
      "grid_auto_columns": null,
      "grid_auto_flow": null,
      "grid_auto_rows": null,
      "grid_column": null,
      "grid_gap": null,
      "grid_row": null,
      "grid_template_areas": null,
      "grid_template_columns": null,
      "grid_template_rows": null,
      "height": null,
      "justify_content": null,
      "justify_items": null,
      "left": null,
      "margin": null,
      "max_height": null,
      "max_width": null,
      "min_height": null,
      "min_width": null,
      "object_fit": null,
      "object_position": null,
      "order": null,
      "overflow": null,
      "overflow_x": null,
      "overflow_y": null,
      "padding": null,
      "right": null,
      "top": null,
      "visibility": null,
      "width": null
     }
    },
    "4f493088a27f40e99af3dea30d80a6e4": {
     "model_module": "@jupyter-widgets/base",
     "model_module_version": "1.2.0",
     "model_name": "LayoutModel",
     "state": {
      "_model_module": "@jupyter-widgets/base",
      "_model_module_version": "1.2.0",
      "_model_name": "LayoutModel",
      "_view_count": null,
      "_view_module": "@jupyter-widgets/base",
      "_view_module_version": "1.2.0",
      "_view_name": "LayoutView",
      "align_content": null,
      "align_items": null,
      "align_self": null,
      "border": null,
      "bottom": null,
      "display": null,
      "flex": null,
      "flex_flow": null,
      "grid_area": null,
      "grid_auto_columns": null,
      "grid_auto_flow": null,
      "grid_auto_rows": null,
      "grid_column": null,
      "grid_gap": null,
      "grid_row": null,
      "grid_template_areas": null,
      "grid_template_columns": null,
      "grid_template_rows": null,
      "height": null,
      "justify_content": null,
      "justify_items": null,
      "left": null,
      "margin": null,
      "max_height": null,
      "max_width": null,
      "min_height": null,
      "min_width": null,
      "object_fit": null,
      "object_position": null,
      "order": null,
      "overflow": null,
      "overflow_x": null,
      "overflow_y": null,
      "padding": null,
      "right": null,
      "top": null,
      "visibility": null,
      "width": null
     }
    },
    "4f4f91ff20914065941edd6ac01fcbed": {
     "model_module": "@jupyter-widgets/controls",
     "model_module_version": "1.5.0",
     "model_name": "HTMLModel",
     "state": {
      "_dom_classes": [],
      "_model_module": "@jupyter-widgets/controls",
      "_model_module_version": "1.5.0",
      "_model_name": "HTMLModel",
      "_view_count": null,
      "_view_module": "@jupyter-widgets/controls",
      "_view_module_version": "1.5.0",
      "_view_name": "HTMLView",
      "description": "",
      "description_tooltip": null,
      "layout": "IPY_MODEL_1fcbc343b0b54cfb994e43dc123d53b0",
      "placeholder": "​",
      "style": "IPY_MODEL_9e9042b0752141a5aefd5b29e59f8739",
      "value": " 758/758 [00:00&lt;00:00, 25.9kB/s]"
     }
    },
    "508dbf2d7d7a420a8f7c336c80f6f4a0": {
     "model_module": "@jupyter-widgets/controls",
     "model_module_version": "1.5.0",
     "model_name": "FloatProgressModel",
     "state": {
      "_dom_classes": [],
      "_model_module": "@jupyter-widgets/controls",
      "_model_module_version": "1.5.0",
      "_model_name": "FloatProgressModel",
      "_view_count": null,
      "_view_module": "@jupyter-widgets/controls",
      "_view_module_version": "1.5.0",
      "_view_name": "ProgressView",
      "bar_style": "success",
      "description": "",
      "description_tooltip": null,
      "layout": "IPY_MODEL_3e42f4a621a84c0cadfdf8f9d443d4e1",
      "max": 758,
      "min": 0,
      "orientation": "horizontal",
      "style": "IPY_MODEL_8c55ab8185f34d949b8b0b0c89d69ef2",
      "value": 758
     }
    },
    "5091792f69bb4e5996bbd6007d993663": {
     "model_module": "@jupyter-widgets/controls",
     "model_module_version": "1.5.0",
     "model_name": "DescriptionStyleModel",
     "state": {
      "_model_module": "@jupyter-widgets/controls",
      "_model_module_version": "1.5.0",
      "_model_name": "DescriptionStyleModel",
      "_view_count": null,
      "_view_module": "@jupyter-widgets/base",
      "_view_module_version": "1.2.0",
      "_view_name": "StyleView",
      "description_width": ""
     }
    },
    "50e7de3177434fb2ab4fc0c0c0dbf6d3": {
     "model_module": "@jupyter-widgets/base",
     "model_module_version": "1.2.0",
     "model_name": "LayoutModel",
     "state": {
      "_model_module": "@jupyter-widgets/base",
      "_model_module_version": "1.2.0",
      "_model_name": "LayoutModel",
      "_view_count": null,
      "_view_module": "@jupyter-widgets/base",
      "_view_module_version": "1.2.0",
      "_view_name": "LayoutView",
      "align_content": null,
      "align_items": null,
      "align_self": null,
      "border": null,
      "bottom": null,
      "display": null,
      "flex": null,
      "flex_flow": null,
      "grid_area": null,
      "grid_auto_columns": null,
      "grid_auto_flow": null,
      "grid_auto_rows": null,
      "grid_column": null,
      "grid_gap": null,
      "grid_row": null,
      "grid_template_areas": null,
      "grid_template_columns": null,
      "grid_template_rows": null,
      "height": null,
      "justify_content": null,
      "justify_items": null,
      "left": null,
      "margin": null,
      "max_height": null,
      "max_width": null,
      "min_height": null,
      "min_width": null,
      "object_fit": null,
      "object_position": null,
      "order": null,
      "overflow": null,
      "overflow_x": null,
      "overflow_y": null,
      "padding": null,
      "right": null,
      "top": null,
      "visibility": null,
      "width": null
     }
    },
    "512ada174c194533bf419281a909d851": {
     "model_module": "@jupyter-widgets/base",
     "model_module_version": "1.2.0",
     "model_name": "LayoutModel",
     "state": {
      "_model_module": "@jupyter-widgets/base",
      "_model_module_version": "1.2.0",
      "_model_name": "LayoutModel",
      "_view_count": null,
      "_view_module": "@jupyter-widgets/base",
      "_view_module_version": "1.2.0",
      "_view_name": "LayoutView",
      "align_content": null,
      "align_items": null,
      "align_self": null,
      "border": null,
      "bottom": null,
      "display": null,
      "flex": null,
      "flex_flow": null,
      "grid_area": null,
      "grid_auto_columns": null,
      "grid_auto_flow": null,
      "grid_auto_rows": null,
      "grid_column": null,
      "grid_gap": null,
      "grid_row": null,
      "grid_template_areas": null,
      "grid_template_columns": null,
      "grid_template_rows": null,
      "height": null,
      "justify_content": null,
      "justify_items": null,
      "left": null,
      "margin": null,
      "max_height": null,
      "max_width": null,
      "min_height": null,
      "min_width": null,
      "object_fit": null,
      "object_position": null,
      "order": null,
      "overflow": null,
      "overflow_x": null,
      "overflow_y": null,
      "padding": null,
      "right": null,
      "top": null,
      "visibility": null,
      "width": null
     }
    },
    "520dd72f15f5494f990aa1c3b5cf18e3": {
     "model_module": "@jupyter-widgets/controls",
     "model_module_version": "1.5.0",
     "model_name": "DescriptionStyleModel",
     "state": {
      "_model_module": "@jupyter-widgets/controls",
      "_model_module_version": "1.5.0",
      "_model_name": "DescriptionStyleModel",
      "_view_count": null,
      "_view_module": "@jupyter-widgets/base",
      "_view_module_version": "1.2.0",
      "_view_name": "StyleView",
      "description_width": ""
     }
    },
    "522262e9f1ae451ab80ca1a0d69c5b68": {
     "model_module": "@jupyter-widgets/controls",
     "model_module_version": "1.5.0",
     "model_name": "HTMLModel",
     "state": {
      "_dom_classes": [],
      "_model_module": "@jupyter-widgets/controls",
      "_model_module_version": "1.5.0",
      "_model_name": "HTMLModel",
      "_view_count": null,
      "_view_module": "@jupyter-widgets/controls",
      "_view_module_version": "1.5.0",
      "_view_name": "HTMLView",
      "description": "",
      "description_tooltip": null,
      "layout": "IPY_MODEL_fd50e865a14346448dd3f3cf48e3961f",
      "placeholder": "​",
      "style": "IPY_MODEL_eb5e2fba6b584d7da07859598df07a5a",
      "value": " 455k/455k [00:00&lt;00:00, 632kB/s]"
     }
    },
    "525ad78991e044fcb29160ff6aa98c6f": {
     "model_module": "@jupyter-widgets/controls",
     "model_module_version": "1.5.0",
     "model_name": "ProgressStyleModel",
     "state": {
      "_model_module": "@jupyter-widgets/controls",
      "_model_module_version": "1.5.0",
      "_model_name": "ProgressStyleModel",
      "_view_count": null,
      "_view_module": "@jupyter-widgets/base",
      "_view_module_version": "1.2.0",
      "_view_name": "StyleView",
      "bar_color": null,
      "description_width": ""
     }
    },
    "532cbca774c740f89e2b96ad9164fd38": {
     "model_module": "@jupyter-widgets/base",
     "model_module_version": "1.2.0",
     "model_name": "LayoutModel",
     "state": {
      "_model_module": "@jupyter-widgets/base",
      "_model_module_version": "1.2.0",
      "_model_name": "LayoutModel",
      "_view_count": null,
      "_view_module": "@jupyter-widgets/base",
      "_view_module_version": "1.2.0",
      "_view_name": "LayoutView",
      "align_content": null,
      "align_items": null,
      "align_self": null,
      "border": null,
      "bottom": null,
      "display": null,
      "flex": null,
      "flex_flow": null,
      "grid_area": null,
      "grid_auto_columns": null,
      "grid_auto_flow": null,
      "grid_auto_rows": null,
      "grid_column": null,
      "grid_gap": null,
      "grid_row": null,
      "grid_template_areas": null,
      "grid_template_columns": null,
      "grid_template_rows": null,
      "height": null,
      "justify_content": null,
      "justify_items": null,
      "left": null,
      "margin": null,
      "max_height": null,
      "max_width": null,
      "min_height": null,
      "min_width": null,
      "object_fit": null,
      "object_position": null,
      "order": null,
      "overflow": null,
      "overflow_x": null,
      "overflow_y": null,
      "padding": null,
      "right": null,
      "top": null,
      "visibility": null,
      "width": null
     }
    },
    "55edca3b27664abe9c4a84cfcaa40d1e": {
     "model_module": "@jupyter-widgets/base",
     "model_module_version": "1.2.0",
     "model_name": "LayoutModel",
     "state": {
      "_model_module": "@jupyter-widgets/base",
      "_model_module_version": "1.2.0",
      "_model_name": "LayoutModel",
      "_view_count": null,
      "_view_module": "@jupyter-widgets/base",
      "_view_module_version": "1.2.0",
      "_view_name": "LayoutView",
      "align_content": null,
      "align_items": null,
      "align_self": null,
      "border": null,
      "bottom": null,
      "display": null,
      "flex": null,
      "flex_flow": null,
      "grid_area": null,
      "grid_auto_columns": null,
      "grid_auto_flow": null,
      "grid_auto_rows": null,
      "grid_column": null,
      "grid_gap": null,
      "grid_row": null,
      "grid_template_areas": null,
      "grid_template_columns": null,
      "grid_template_rows": null,
      "height": null,
      "justify_content": null,
      "justify_items": null,
      "left": null,
      "margin": null,
      "max_height": null,
      "max_width": null,
      "min_height": null,
      "min_width": null,
      "object_fit": null,
      "object_position": null,
      "order": null,
      "overflow": null,
      "overflow_x": null,
      "overflow_y": null,
      "padding": null,
      "right": null,
      "top": null,
      "visibility": null,
      "width": null
     }
    },
    "57887ace596746eebe39594c6a945ca5": {
     "model_module": "@jupyter-widgets/base",
     "model_module_version": "1.2.0",
     "model_name": "LayoutModel",
     "state": {
      "_model_module": "@jupyter-widgets/base",
      "_model_module_version": "1.2.0",
      "_model_name": "LayoutModel",
      "_view_count": null,
      "_view_module": "@jupyter-widgets/base",
      "_view_module_version": "1.2.0",
      "_view_name": "LayoutView",
      "align_content": null,
      "align_items": null,
      "align_self": null,
      "border": null,
      "bottom": null,
      "display": null,
      "flex": null,
      "flex_flow": null,
      "grid_area": null,
      "grid_auto_columns": null,
      "grid_auto_flow": null,
      "grid_auto_rows": null,
      "grid_column": null,
      "grid_gap": null,
      "grid_row": null,
      "grid_template_areas": null,
      "grid_template_columns": null,
      "grid_template_rows": null,
      "height": null,
      "justify_content": null,
      "justify_items": null,
      "left": null,
      "margin": null,
      "max_height": null,
      "max_width": null,
      "min_height": null,
      "min_width": null,
      "object_fit": null,
      "object_position": null,
      "order": null,
      "overflow": null,
      "overflow_x": null,
      "overflow_y": null,
      "padding": null,
      "right": null,
      "top": null,
      "visibility": null,
      "width": null
     }
    },
    "585b753dc0e747fb947ece73ff2cb4ed": {
     "model_module": "@jupyter-widgets/controls",
     "model_module_version": "1.5.0",
     "model_name": "HTMLModel",
     "state": {
      "_dom_classes": [],
      "_model_module": "@jupyter-widgets/controls",
      "_model_module_version": "1.5.0",
      "_model_name": "HTMLModel",
      "_view_count": null,
      "_view_module": "@jupyter-widgets/controls",
      "_view_module_version": "1.5.0",
      "_view_name": "HTMLView",
      "description": "",
      "description_tooltip": null,
      "layout": "IPY_MODEL_9bfc0389fd2a4f06b7d48c0262d257dc",
      "placeholder": "​",
      "style": "IPY_MODEL_4552b4ac06ac4a77a22010f8a100b5d9",
      "value": "100%"
     }
    },
    "586e783f12ca49c093815d4a36d9ab14": {
     "model_module": "@jupyter-widgets/controls",
     "model_module_version": "1.5.0",
     "model_name": "ProgressStyleModel",
     "state": {
      "_model_module": "@jupyter-widgets/controls",
      "_model_module_version": "1.5.0",
      "_model_name": "ProgressStyleModel",
      "_view_count": null,
      "_view_module": "@jupyter-widgets/base",
      "_view_module_version": "1.2.0",
      "_view_name": "StyleView",
      "bar_color": null,
      "description_width": ""
     }
    },
    "588257dd65df43789049475f2ad04ec1": {
     "model_module": "@jupyter-widgets/base",
     "model_module_version": "1.2.0",
     "model_name": "LayoutModel",
     "state": {
      "_model_module": "@jupyter-widgets/base",
      "_model_module_version": "1.2.0",
      "_model_name": "LayoutModel",
      "_view_count": null,
      "_view_module": "@jupyter-widgets/base",
      "_view_module_version": "1.2.0",
      "_view_name": "LayoutView",
      "align_content": null,
      "align_items": null,
      "align_self": null,
      "border": null,
      "bottom": null,
      "display": null,
      "flex": null,
      "flex_flow": null,
      "grid_area": null,
      "grid_auto_columns": null,
      "grid_auto_flow": null,
      "grid_auto_rows": null,
      "grid_column": null,
      "grid_gap": null,
      "grid_row": null,
      "grid_template_areas": null,
      "grid_template_columns": null,
      "grid_template_rows": null,
      "height": null,
      "justify_content": null,
      "justify_items": null,
      "left": null,
      "margin": null,
      "max_height": null,
      "max_width": null,
      "min_height": null,
      "min_width": null,
      "object_fit": null,
      "object_position": null,
      "order": null,
      "overflow": null,
      "overflow_x": null,
      "overflow_y": null,
      "padding": null,
      "right": null,
      "top": null,
      "visibility": null,
      "width": null
     }
    },
    "5a6325a7fba54ddaa09fb0c2abdb0e0f": {
     "model_module": "@jupyter-widgets/base",
     "model_module_version": "1.2.0",
     "model_name": "LayoutModel",
     "state": {
      "_model_module": "@jupyter-widgets/base",
      "_model_module_version": "1.2.0",
      "_model_name": "LayoutModel",
      "_view_count": null,
      "_view_module": "@jupyter-widgets/base",
      "_view_module_version": "1.2.0",
      "_view_name": "LayoutView",
      "align_content": null,
      "align_items": null,
      "align_self": null,
      "border": null,
      "bottom": null,
      "display": null,
      "flex": null,
      "flex_flow": null,
      "grid_area": null,
      "grid_auto_columns": null,
      "grid_auto_flow": null,
      "grid_auto_rows": null,
      "grid_column": null,
      "grid_gap": null,
      "grid_row": null,
      "grid_template_areas": null,
      "grid_template_columns": null,
      "grid_template_rows": null,
      "height": null,
      "justify_content": null,
      "justify_items": null,
      "left": null,
      "margin": null,
      "max_height": null,
      "max_width": null,
      "min_height": null,
      "min_width": null,
      "object_fit": null,
      "object_position": null,
      "order": null,
      "overflow": null,
      "overflow_x": null,
      "overflow_y": null,
      "padding": null,
      "right": null,
      "top": null,
      "visibility": null,
      "width": null
     }
    },
    "5b7074bf5b154411b64df8d1d66f0818": {
     "model_module": "@jupyter-widgets/controls",
     "model_module_version": "1.5.0",
     "model_name": "HBoxModel",
     "state": {
      "_dom_classes": [],
      "_model_module": "@jupyter-widgets/controls",
      "_model_module_version": "1.5.0",
      "_model_name": "HBoxModel",
      "_view_count": null,
      "_view_module": "@jupyter-widgets/controls",
      "_view_module_version": "1.5.0",
      "_view_name": "HBoxView",
      "box_style": "",
      "children": [
       "IPY_MODEL_2f043af89f1f47b69a32a944069479b0",
       "IPY_MODEL_9622c1b0554c4968a06f719dad83b52b",
       "IPY_MODEL_ef4f7d8103124fc5a71718691b9fec21"
      ],
      "layout": "IPY_MODEL_71fea61b864b4f719f77f0562905b6ce"
     }
    },
    "5c68bad5f20e4438a55503ed7ba902e8": {
     "model_module": "@jupyter-widgets/controls",
     "model_module_version": "1.5.0",
     "model_name": "HTMLModel",
     "state": {
      "_dom_classes": [],
      "_model_module": "@jupyter-widgets/controls",
      "_model_module_version": "1.5.0",
      "_model_name": "HTMLModel",
      "_view_count": null,
      "_view_module": "@jupyter-widgets/controls",
      "_view_module_version": "1.5.0",
      "_view_name": "HTMLView",
      "description": "",
      "description_tooltip": null,
      "layout": "IPY_MODEL_ef34a012c3b24d9693e7a389000b2818",
      "placeholder": "​",
      "style": "IPY_MODEL_3cafdf1a8d044ae7ac23d8c40b14c613",
      "value": "100%"
     }
    },
    "5da506f69220497cb930336cb13ea354": {
     "model_module": "@jupyter-widgets/controls",
     "model_module_version": "1.5.0",
     "model_name": "HTMLModel",
     "state": {
      "_dom_classes": [],
      "_model_module": "@jupyter-widgets/controls",
      "_model_module_version": "1.5.0",
      "_model_name": "HTMLModel",
      "_view_count": null,
      "_view_module": "@jupyter-widgets/controls",
      "_view_module_version": "1.5.0",
      "_view_name": "HTMLView",
      "description": "",
      "description_tooltip": null,
      "layout": "IPY_MODEL_7d22d91ed58e40df9d135a500b54dabe",
      "placeholder": "​",
      "style": "IPY_MODEL_f84bb386c16d46c3b4b47ec70c568aab",
      "value": "Downloading: 100%"
     }
    },
    "5f20de44b46b4e13a74cb107b82cba62": {
     "model_module": "@jupyter-widgets/controls",
     "model_module_version": "1.5.0",
     "model_name": "DescriptionStyleModel",
     "state": {
      "_model_module": "@jupyter-widgets/controls",
      "_model_module_version": "1.5.0",
      "_model_name": "DescriptionStyleModel",
      "_view_count": null,
      "_view_module": "@jupyter-widgets/base",
      "_view_module_version": "1.2.0",
      "_view_name": "StyleView",
      "description_width": ""
     }
    },
    "67e98fdc00274b338eaa3d17a9d0ee53": {
     "model_module": "@jupyter-widgets/base",
     "model_module_version": "1.2.0",
     "model_name": "LayoutModel",
     "state": {
      "_model_module": "@jupyter-widgets/base",
      "_model_module_version": "1.2.0",
      "_model_name": "LayoutModel",
      "_view_count": null,
      "_view_module": "@jupyter-widgets/base",
      "_view_module_version": "1.2.0",
      "_view_name": "LayoutView",
      "align_content": null,
      "align_items": null,
      "align_self": null,
      "border": null,
      "bottom": null,
      "display": null,
      "flex": null,
      "flex_flow": null,
      "grid_area": null,
      "grid_auto_columns": null,
      "grid_auto_flow": null,
      "grid_auto_rows": null,
      "grid_column": null,
      "grid_gap": null,
      "grid_row": null,
      "grid_template_areas": null,
      "grid_template_columns": null,
      "grid_template_rows": null,
      "height": null,
      "justify_content": null,
      "justify_items": null,
      "left": null,
      "margin": null,
      "max_height": null,
      "max_width": null,
      "min_height": null,
      "min_width": null,
      "object_fit": null,
      "object_position": null,
      "order": null,
      "overflow": null,
      "overflow_x": null,
      "overflow_y": null,
      "padding": null,
      "right": null,
      "top": null,
      "visibility": null,
      "width": null
     }
    },
    "69a9a1c12b9f4e23a1223138ed48fd4c": {
     "model_module": "@jupyter-widgets/base",
     "model_module_version": "1.2.0",
     "model_name": "LayoutModel",
     "state": {
      "_model_module": "@jupyter-widgets/base",
      "_model_module_version": "1.2.0",
      "_model_name": "LayoutModel",
      "_view_count": null,
      "_view_module": "@jupyter-widgets/base",
      "_view_module_version": "1.2.0",
      "_view_name": "LayoutView",
      "align_content": null,
      "align_items": null,
      "align_self": null,
      "border": null,
      "bottom": null,
      "display": null,
      "flex": null,
      "flex_flow": null,
      "grid_area": null,
      "grid_auto_columns": null,
      "grid_auto_flow": null,
      "grid_auto_rows": null,
      "grid_column": null,
      "grid_gap": null,
      "grid_row": null,
      "grid_template_areas": null,
      "grid_template_columns": null,
      "grid_template_rows": null,
      "height": null,
      "justify_content": null,
      "justify_items": null,
      "left": null,
      "margin": null,
      "max_height": null,
      "max_width": null,
      "min_height": null,
      "min_width": null,
      "object_fit": null,
      "object_position": null,
      "order": null,
      "overflow": null,
      "overflow_x": null,
      "overflow_y": null,
      "padding": null,
      "right": null,
      "top": null,
      "visibility": null,
      "width": null
     }
    },
    "6ab03e0046014aff923464ca5b940db3": {
     "model_module": "@jupyter-widgets/controls",
     "model_module_version": "1.5.0",
     "model_name": "HTMLModel",
     "state": {
      "_dom_classes": [],
      "_model_module": "@jupyter-widgets/controls",
      "_model_module_version": "1.5.0",
      "_model_name": "HTMLModel",
      "_view_count": null,
      "_view_module": "@jupyter-widgets/controls",
      "_view_module_version": "1.5.0",
      "_view_name": "HTMLView",
      "description": "",
      "description_tooltip": null,
      "layout": "IPY_MODEL_25b31db57e7d4e4ca2518028c9bca5f8",
      "placeholder": "​",
      "style": "IPY_MODEL_d1a4de10cb89459d8ee2f9cd9e230033",
      "value": "Downloading: 100%"
     }
    },
    "6bbfc499ac4d46148b8c3461ada30e33": {
     "model_module": "@jupyter-widgets/controls",
     "model_module_version": "1.5.0",
     "model_name": "HBoxModel",
     "state": {
      "_dom_classes": [],
      "_model_module": "@jupyter-widgets/controls",
      "_model_module_version": "1.5.0",
      "_model_name": "HBoxModel",
      "_view_count": null,
      "_view_module": "@jupyter-widgets/controls",
      "_view_module_version": "1.5.0",
      "_view_name": "HBoxView",
      "box_style": "",
      "children": [
       "IPY_MODEL_4091797a137b47f982629c37345d2f39",
       "IPY_MODEL_e60ef64ac3f4484d9c47edbc3ca65311",
       "IPY_MODEL_e65b19eb2b644c1fa023ab7ee1e01e6e"
      ],
      "layout": "IPY_MODEL_24c4f2b900864f6bb24e055f0ee09cb9"
     }
    },
    "6d7e10fa8f3a483d916d0bf8cadaaea5": {
     "model_module": "@jupyter-widgets/controls",
     "model_module_version": "1.5.0",
     "model_name": "HTMLModel",
     "state": {
      "_dom_classes": [],
      "_model_module": "@jupyter-widgets/controls",
      "_model_module_version": "1.5.0",
      "_model_name": "HTMLModel",
      "_view_count": null,
      "_view_module": "@jupyter-widgets/controls",
      "_view_module_version": "1.5.0",
      "_view_name": "HTMLView",
      "description": "",
      "description_tooltip": null,
      "layout": "IPY_MODEL_bf82e8480908411791d01eb5ed31c95d",
      "placeholder": "​",
      "style": "IPY_MODEL_ce2eb949d13542e98efa5f2ef729d59e",
      "value": " 418M/418M [00:09&lt;00:00, 49.1MB/s]"
     }
    },
    "6dc480b2ec76427e9088cb60a340d454": {
     "model_module": "@jupyter-widgets/controls",
     "model_module_version": "1.5.0",
     "model_name": "HBoxModel",
     "state": {
      "_dom_classes": [],
      "_model_module": "@jupyter-widgets/controls",
      "_model_module_version": "1.5.0",
      "_model_name": "HBoxModel",
      "_view_count": null,
      "_view_module": "@jupyter-widgets/controls",
      "_view_module_version": "1.5.0",
      "_view_name": "HBoxView",
      "box_style": "",
      "children": [
       "IPY_MODEL_0c8f58847bef461aa5301324b0e100af",
       "IPY_MODEL_3900d52d92344acda20efb965679318e",
       "IPY_MODEL_e749cf9b8d3345a9b6023cb4003a8534"
      ],
      "layout": "IPY_MODEL_98cf95496d6e486483f95c4ac3eacfc8"
     }
    },
    "700e4fd350184d989107186aebc4195e": {
     "model_module": "@jupyter-widgets/base",
     "model_module_version": "1.2.0",
     "model_name": "LayoutModel",
     "state": {
      "_model_module": "@jupyter-widgets/base",
      "_model_module_version": "1.2.0",
      "_model_name": "LayoutModel",
      "_view_count": null,
      "_view_module": "@jupyter-widgets/base",
      "_view_module_version": "1.2.0",
      "_view_name": "LayoutView",
      "align_content": null,
      "align_items": null,
      "align_self": null,
      "border": null,
      "bottom": null,
      "display": null,
      "flex": null,
      "flex_flow": null,
      "grid_area": null,
      "grid_auto_columns": null,
      "grid_auto_flow": null,
      "grid_auto_rows": null,
      "grid_column": null,
      "grid_gap": null,
      "grid_row": null,
      "grid_template_areas": null,
      "grid_template_columns": null,
      "grid_template_rows": null,
      "height": null,
      "justify_content": null,
      "justify_items": null,
      "left": null,
      "margin": null,
      "max_height": null,
      "max_width": null,
      "min_height": null,
      "min_width": null,
      "object_fit": null,
      "object_position": null,
      "order": null,
      "overflow": null,
      "overflow_x": null,
      "overflow_y": null,
      "padding": null,
      "right": null,
      "top": null,
      "visibility": null,
      "width": null
     }
    },
    "710d3474abdc45e7bb77127abc695406": {
     "model_module": "@jupyter-widgets/controls",
     "model_module_version": "1.5.0",
     "model_name": "HTMLModel",
     "state": {
      "_dom_classes": [],
      "_model_module": "@jupyter-widgets/controls",
      "_model_module_version": "1.5.0",
      "_model_name": "HTMLModel",
      "_view_count": null,
      "_view_module": "@jupyter-widgets/controls",
      "_view_module_version": "1.5.0",
      "_view_name": "HTMLView",
      "description": "",
      "description_tooltip": null,
      "layout": "IPY_MODEL_80b11ca8629f4f4eac8d98282756e924",
      "placeholder": "​",
      "style": "IPY_MODEL_c0f4b1f34efa437485c5b8b62f93fe6d",
      "value": " 4/4 [00:00&lt;00:00, 63.65ba/s]"
     }
    },
    "71fea61b864b4f719f77f0562905b6ce": {
     "model_module": "@jupyter-widgets/base",
     "model_module_version": "1.2.0",
     "model_name": "LayoutModel",
     "state": {
      "_model_module": "@jupyter-widgets/base",
      "_model_module_version": "1.2.0",
      "_model_name": "LayoutModel",
      "_view_count": null,
      "_view_module": "@jupyter-widgets/base",
      "_view_module_version": "1.2.0",
      "_view_name": "LayoutView",
      "align_content": null,
      "align_items": null,
      "align_self": null,
      "border": null,
      "bottom": null,
      "display": null,
      "flex": null,
      "flex_flow": null,
      "grid_area": null,
      "grid_auto_columns": null,
      "grid_auto_flow": null,
      "grid_auto_rows": null,
      "grid_column": null,
      "grid_gap": null,
      "grid_row": null,
      "grid_template_areas": null,
      "grid_template_columns": null,
      "grid_template_rows": null,
      "height": null,
      "justify_content": null,
      "justify_items": null,
      "left": null,
      "margin": null,
      "max_height": null,
      "max_width": null,
      "min_height": null,
      "min_width": null,
      "object_fit": null,
      "object_position": null,
      "order": null,
      "overflow": null,
      "overflow_x": null,
      "overflow_y": null,
      "padding": null,
      "right": null,
      "top": null,
      "visibility": null,
      "width": null
     }
    },
    "735dbdaf60dd4254a3772da68394ebd6": {
     "model_module": "@jupyter-widgets/base",
     "model_module_version": "1.2.0",
     "model_name": "LayoutModel",
     "state": {
      "_model_module": "@jupyter-widgets/base",
      "_model_module_version": "1.2.0",
      "_model_name": "LayoutModel",
      "_view_count": null,
      "_view_module": "@jupyter-widgets/base",
      "_view_module_version": "1.2.0",
      "_view_name": "LayoutView",
      "align_content": null,
      "align_items": null,
      "align_self": null,
      "border": null,
      "bottom": null,
      "display": null,
      "flex": null,
      "flex_flow": null,
      "grid_area": null,
      "grid_auto_columns": null,
      "grid_auto_flow": null,
      "grid_auto_rows": null,
      "grid_column": null,
      "grid_gap": null,
      "grid_row": null,
      "grid_template_areas": null,
      "grid_template_columns": null,
      "grid_template_rows": null,
      "height": null,
      "justify_content": null,
      "justify_items": null,
      "left": null,
      "margin": null,
      "max_height": null,
      "max_width": null,
      "min_height": null,
      "min_width": null,
      "object_fit": null,
      "object_position": null,
      "order": null,
      "overflow": null,
      "overflow_x": null,
      "overflow_y": null,
      "padding": null,
      "right": null,
      "top": null,
      "visibility": null,
      "width": null
     }
    },
    "740dac69e7fc4eeda5045d1b788eb58d": {
     "model_module": "@jupyter-widgets/controls",
     "model_module_version": "1.5.0",
     "model_name": "FloatProgressModel",
     "state": {
      "_dom_classes": [],
      "_model_module": "@jupyter-widgets/controls",
      "_model_module_version": "1.5.0",
      "_model_name": "FloatProgressModel",
      "_view_count": null,
      "_view_module": "@jupyter-widgets/controls",
      "_view_module_version": "1.5.0",
      "_view_name": "ProgressView",
      "bar_style": "success",
      "description": "",
      "description_tooltip": null,
      "layout": "IPY_MODEL_233a9b1210d54fdba664b2077fcae86c",
      "max": 2,
      "min": 0,
      "orientation": "horizontal",
      "style": "IPY_MODEL_ad79473d32d34060bf662b7ebcb6bf90",
      "value": 2
     }
    },
    "771f5a15a65a4ebb9826cf4e22228f32": {
     "model_module": "@jupyter-widgets/controls",
     "model_module_version": "1.5.0",
     "model_name": "DescriptionStyleModel",
     "state": {
      "_model_module": "@jupyter-widgets/controls",
      "_model_module_version": "1.5.0",
      "_model_name": "DescriptionStyleModel",
      "_view_count": null,
      "_view_module": "@jupyter-widgets/base",
      "_view_module_version": "1.2.0",
      "_view_name": "StyleView",
      "description_width": ""
     }
    },
    "78c6ecc794b94d8484cc838ff0b00025": {
     "model_module": "@jupyter-widgets/controls",
     "model_module_version": "1.5.0",
     "model_name": "DescriptionStyleModel",
     "state": {
      "_model_module": "@jupyter-widgets/controls",
      "_model_module_version": "1.5.0",
      "_model_name": "DescriptionStyleModel",
      "_view_count": null,
      "_view_module": "@jupyter-widgets/base",
      "_view_module_version": "1.2.0",
      "_view_name": "StyleView",
      "description_width": ""
     }
    },
    "7a817e2fe6d040abb1ab78d1dfe850c9": {
     "model_module": "@jupyter-widgets/controls",
     "model_module_version": "1.5.0",
     "model_name": "HTMLModel",
     "state": {
      "_dom_classes": [],
      "_model_module": "@jupyter-widgets/controls",
      "_model_module_version": "1.5.0",
      "_model_name": "HTMLModel",
      "_view_count": null,
      "_view_module": "@jupyter-widgets/controls",
      "_view_module_version": "1.5.0",
      "_view_name": "HTMLView",
      "description": "",
      "description_tooltip": null,
      "layout": "IPY_MODEL_e8c74204ab2c499580cf33da71749644",
      "placeholder": "​",
      "style": "IPY_MODEL_bf14bdbc01fd4ebbae57d3b2f94aa320",
      "value": " 420M/420M [00:14&lt;00:00, 28.6MB/s]"
     }
    },
    "7b7c1581886043cfa8cf94652924d642": {
     "model_module": "@jupyter-widgets/controls",
     "model_module_version": "1.5.0",
     "model_name": "DescriptionStyleModel",
     "state": {
      "_model_module": "@jupyter-widgets/controls",
      "_model_module_version": "1.5.0",
      "_model_name": "DescriptionStyleModel",
      "_view_count": null,
      "_view_module": "@jupyter-widgets/base",
      "_view_module_version": "1.2.0",
      "_view_name": "StyleView",
      "description_width": ""
     }
    },
    "7c8d7aedba1e42d9bd516745888219ae": {
     "model_module": "@jupyter-widgets/base",
     "model_module_version": "1.2.0",
     "model_name": "LayoutModel",
     "state": {
      "_model_module": "@jupyter-widgets/base",
      "_model_module_version": "1.2.0",
      "_model_name": "LayoutModel",
      "_view_count": null,
      "_view_module": "@jupyter-widgets/base",
      "_view_module_version": "1.2.0",
      "_view_name": "LayoutView",
      "align_content": null,
      "align_items": null,
      "align_self": null,
      "border": null,
      "bottom": null,
      "display": null,
      "flex": null,
      "flex_flow": null,
      "grid_area": null,
      "grid_auto_columns": null,
      "grid_auto_flow": null,
      "grid_auto_rows": null,
      "grid_column": null,
      "grid_gap": null,
      "grid_row": null,
      "grid_template_areas": null,
      "grid_template_columns": null,
      "grid_template_rows": null,
      "height": null,
      "justify_content": null,
      "justify_items": null,
      "left": null,
      "margin": null,
      "max_height": null,
      "max_width": null,
      "min_height": null,
      "min_width": null,
      "object_fit": null,
      "object_position": null,
      "order": null,
      "overflow": null,
      "overflow_x": null,
      "overflow_y": null,
      "padding": null,
      "right": null,
      "top": null,
      "visibility": null,
      "width": null
     }
    },
    "7cd5977d4564465fb85e5574d6e39102": {
     "model_module": "@jupyter-widgets/controls",
     "model_module_version": "1.5.0",
     "model_name": "DescriptionStyleModel",
     "state": {
      "_model_module": "@jupyter-widgets/controls",
      "_model_module_version": "1.5.0",
      "_model_name": "DescriptionStyleModel",
      "_view_count": null,
      "_view_module": "@jupyter-widgets/base",
      "_view_module_version": "1.2.0",
      "_view_name": "StyleView",
      "description_width": ""
     }
    },
    "7cf615d9c31f426fa1f99b49f7a7127f": {
     "model_module": "@jupyter-widgets/controls",
     "model_module_version": "1.5.0",
     "model_name": "ProgressStyleModel",
     "state": {
      "_model_module": "@jupyter-widgets/controls",
      "_model_module_version": "1.5.0",
      "_model_name": "ProgressStyleModel",
      "_view_count": null,
      "_view_module": "@jupyter-widgets/base",
      "_view_module_version": "1.2.0",
      "_view_name": "StyleView",
      "bar_color": null,
      "description_width": ""
     }
    },
    "7d22d91ed58e40df9d135a500b54dabe": {
     "model_module": "@jupyter-widgets/base",
     "model_module_version": "1.2.0",
     "model_name": "LayoutModel",
     "state": {
      "_model_module": "@jupyter-widgets/base",
      "_model_module_version": "1.2.0",
      "_model_name": "LayoutModel",
      "_view_count": null,
      "_view_module": "@jupyter-widgets/base",
      "_view_module_version": "1.2.0",
      "_view_name": "LayoutView",
      "align_content": null,
      "align_items": null,
      "align_self": null,
      "border": null,
      "bottom": null,
      "display": null,
      "flex": null,
      "flex_flow": null,
      "grid_area": null,
      "grid_auto_columns": null,
      "grid_auto_flow": null,
      "grid_auto_rows": null,
      "grid_column": null,
      "grid_gap": null,
      "grid_row": null,
      "grid_template_areas": null,
      "grid_template_columns": null,
      "grid_template_rows": null,
      "height": null,
      "justify_content": null,
      "justify_items": null,
      "left": null,
      "margin": null,
      "max_height": null,
      "max_width": null,
      "min_height": null,
      "min_width": null,
      "object_fit": null,
      "object_position": null,
      "order": null,
      "overflow": null,
      "overflow_x": null,
      "overflow_y": null,
      "padding": null,
      "right": null,
      "top": null,
      "visibility": null,
      "width": null
     }
    },
    "80b11ca8629f4f4eac8d98282756e924": {
     "model_module": "@jupyter-widgets/base",
     "model_module_version": "1.2.0",
     "model_name": "LayoutModel",
     "state": {
      "_model_module": "@jupyter-widgets/base",
      "_model_module_version": "1.2.0",
      "_model_name": "LayoutModel",
      "_view_count": null,
      "_view_module": "@jupyter-widgets/base",
      "_view_module_version": "1.2.0",
      "_view_name": "LayoutView",
      "align_content": null,
      "align_items": null,
      "align_self": null,
      "border": null,
      "bottom": null,
      "display": null,
      "flex": null,
      "flex_flow": null,
      "grid_area": null,
      "grid_auto_columns": null,
      "grid_auto_flow": null,
      "grid_auto_rows": null,
      "grid_column": null,
      "grid_gap": null,
      "grid_row": null,
      "grid_template_areas": null,
      "grid_template_columns": null,
      "grid_template_rows": null,
      "height": null,
      "justify_content": null,
      "justify_items": null,
      "left": null,
      "margin": null,
      "max_height": null,
      "max_width": null,
      "min_height": null,
      "min_width": null,
      "object_fit": null,
      "object_position": null,
      "order": null,
      "overflow": null,
      "overflow_x": null,
      "overflow_y": null,
      "padding": null,
      "right": null,
      "top": null,
      "visibility": null,
      "width": null
     }
    },
    "811f9383962842c5b2dfb426fd540a6b": {
     "model_module": "@jupyter-widgets/base",
     "model_module_version": "1.2.0",
     "model_name": "LayoutModel",
     "state": {
      "_model_module": "@jupyter-widgets/base",
      "_model_module_version": "1.2.0",
      "_model_name": "LayoutModel",
      "_view_count": null,
      "_view_module": "@jupyter-widgets/base",
      "_view_module_version": "1.2.0",
      "_view_name": "LayoutView",
      "align_content": null,
      "align_items": null,
      "align_self": null,
      "border": null,
      "bottom": null,
      "display": null,
      "flex": null,
      "flex_flow": null,
      "grid_area": null,
      "grid_auto_columns": null,
      "grid_auto_flow": null,
      "grid_auto_rows": null,
      "grid_column": null,
      "grid_gap": null,
      "grid_row": null,
      "grid_template_areas": null,
      "grid_template_columns": null,
      "grid_template_rows": null,
      "height": null,
      "justify_content": null,
      "justify_items": null,
      "left": null,
      "margin": null,
      "max_height": null,
      "max_width": null,
      "min_height": null,
      "min_width": null,
      "object_fit": null,
      "object_position": null,
      "order": null,
      "overflow": null,
      "overflow_x": null,
      "overflow_y": null,
      "padding": null,
      "right": null,
      "top": null,
      "visibility": null,
      "width": null
     }
    },
    "81aae7aff71749b5a59a8824fd18959f": {
     "model_module": "@jupyter-widgets/base",
     "model_module_version": "1.2.0",
     "model_name": "LayoutModel",
     "state": {
      "_model_module": "@jupyter-widgets/base",
      "_model_module_version": "1.2.0",
      "_model_name": "LayoutModel",
      "_view_count": null,
      "_view_module": "@jupyter-widgets/base",
      "_view_module_version": "1.2.0",
      "_view_name": "LayoutView",
      "align_content": null,
      "align_items": null,
      "align_self": null,
      "border": null,
      "bottom": null,
      "display": null,
      "flex": null,
      "flex_flow": null,
      "grid_area": null,
      "grid_auto_columns": null,
      "grid_auto_flow": null,
      "grid_auto_rows": null,
      "grid_column": null,
      "grid_gap": null,
      "grid_row": null,
      "grid_template_areas": null,
      "grid_template_columns": null,
      "grid_template_rows": null,
      "height": null,
      "justify_content": null,
      "justify_items": null,
      "left": null,
      "margin": null,
      "max_height": null,
      "max_width": null,
      "min_height": null,
      "min_width": null,
      "object_fit": null,
      "object_position": null,
      "order": null,
      "overflow": null,
      "overflow_x": null,
      "overflow_y": null,
      "padding": null,
      "right": null,
      "top": null,
      "visibility": null,
      "width": null
     }
    },
    "82777bbf37694492aedb935ac6310666": {
     "model_module": "@jupyter-widgets/base",
     "model_module_version": "1.2.0",
     "model_name": "LayoutModel",
     "state": {
      "_model_module": "@jupyter-widgets/base",
      "_model_module_version": "1.2.0",
      "_model_name": "LayoutModel",
      "_view_count": null,
      "_view_module": "@jupyter-widgets/base",
      "_view_module_version": "1.2.0",
      "_view_name": "LayoutView",
      "align_content": null,
      "align_items": null,
      "align_self": null,
      "border": null,
      "bottom": null,
      "display": null,
      "flex": null,
      "flex_flow": null,
      "grid_area": null,
      "grid_auto_columns": null,
      "grid_auto_flow": null,
      "grid_auto_rows": null,
      "grid_column": null,
      "grid_gap": null,
      "grid_row": null,
      "grid_template_areas": null,
      "grid_template_columns": null,
      "grid_template_rows": null,
      "height": null,
      "justify_content": null,
      "justify_items": null,
      "left": null,
      "margin": null,
      "max_height": null,
      "max_width": null,
      "min_height": null,
      "min_width": null,
      "object_fit": null,
      "object_position": null,
      "order": null,
      "overflow": null,
      "overflow_x": null,
      "overflow_y": null,
      "padding": null,
      "right": null,
      "top": null,
      "visibility": null,
      "width": null
     }
    },
    "828553ac56754508b7a485d920106aa2": {
     "model_module": "@jupyter-widgets/base",
     "model_module_version": "1.2.0",
     "model_name": "LayoutModel",
     "state": {
      "_model_module": "@jupyter-widgets/base",
      "_model_module_version": "1.2.0",
      "_model_name": "LayoutModel",
      "_view_count": null,
      "_view_module": "@jupyter-widgets/base",
      "_view_module_version": "1.2.0",
      "_view_name": "LayoutView",
      "align_content": null,
      "align_items": null,
      "align_self": null,
      "border": null,
      "bottom": null,
      "display": null,
      "flex": null,
      "flex_flow": null,
      "grid_area": null,
      "grid_auto_columns": null,
      "grid_auto_flow": null,
      "grid_auto_rows": null,
      "grid_column": null,
      "grid_gap": null,
      "grid_row": null,
      "grid_template_areas": null,
      "grid_template_columns": null,
      "grid_template_rows": null,
      "height": null,
      "justify_content": null,
      "justify_items": null,
      "left": null,
      "margin": null,
      "max_height": null,
      "max_width": null,
      "min_height": null,
      "min_width": null,
      "object_fit": null,
      "object_position": null,
      "order": null,
      "overflow": null,
      "overflow_x": null,
      "overflow_y": null,
      "padding": null,
      "right": null,
      "top": null,
      "visibility": null,
      "width": null
     }
    },
    "83d62484fa7d4e0585c4557fee46eaf4": {
     "model_module": "@jupyter-widgets/controls",
     "model_module_version": "1.5.0",
     "model_name": "HTMLModel",
     "state": {
      "_dom_classes": [],
      "_model_module": "@jupyter-widgets/controls",
      "_model_module_version": "1.5.0",
      "_model_name": "HTMLModel",
      "_view_count": null,
      "_view_module": "@jupyter-widgets/controls",
      "_view_module_version": "1.5.0",
      "_view_name": "HTMLView",
      "description": "",
      "description_tooltip": null,
      "layout": "IPY_MODEL_588257dd65df43789049475f2ad04ec1",
      "placeholder": "​",
      "style": "IPY_MODEL_cb6bace312cf4bc2b7d253ca8ee68800",
      "value": " 226k/226k [00:00&lt;00:00, 364kB/s]"
     }
    },
    "845b7f5723ca49a6afa1692a1de59b97": {
     "model_module": "@jupyter-widgets/controls",
     "model_module_version": "1.5.0",
     "model_name": "HTMLModel",
     "state": {
      "_dom_classes": [],
      "_model_module": "@jupyter-widgets/controls",
      "_model_module_version": "1.5.0",
      "_model_name": "HTMLModel",
      "_view_count": null,
      "_view_module": "@jupyter-widgets/controls",
      "_view_module_version": "1.5.0",
      "_view_name": "HTMLView",
      "description": "",
      "description_tooltip": null,
      "layout": "IPY_MODEL_4f493088a27f40e99af3dea30d80a6e4",
      "placeholder": "​",
      "style": "IPY_MODEL_d5a69c36b9bd421cab8cd9fe7628e292",
      "value": " 28.0/28.0 [00:00&lt;00:00, 631B/s]"
     }
    },
    "8866e632113347d8be012e81c4bb9dbe": {
     "model_module": "@jupyter-widgets/base",
     "model_module_version": "1.2.0",
     "model_name": "LayoutModel",
     "state": {
      "_model_module": "@jupyter-widgets/base",
      "_model_module_version": "1.2.0",
      "_model_name": "LayoutModel",
      "_view_count": null,
      "_view_module": "@jupyter-widgets/base",
      "_view_module_version": "1.2.0",
      "_view_name": "LayoutView",
      "align_content": null,
      "align_items": null,
      "align_self": null,
      "border": null,
      "bottom": null,
      "display": null,
      "flex": null,
      "flex_flow": null,
      "grid_area": null,
      "grid_auto_columns": null,
      "grid_auto_flow": null,
      "grid_auto_rows": null,
      "grid_column": null,
      "grid_gap": null,
      "grid_row": null,
      "grid_template_areas": null,
      "grid_template_columns": null,
      "grid_template_rows": null,
      "height": null,
      "justify_content": null,
      "justify_items": null,
      "left": null,
      "margin": null,
      "max_height": null,
      "max_width": null,
      "min_height": null,
      "min_width": null,
      "object_fit": null,
      "object_position": null,
      "order": null,
      "overflow": null,
      "overflow_x": null,
      "overflow_y": null,
      "padding": null,
      "right": null,
      "top": null,
      "visibility": null,
      "width": null
     }
    },
    "888ac10b61e54e3f89dae818b5fbfc3c": {
     "model_module": "@jupyter-widgets/base",
     "model_module_version": "1.2.0",
     "model_name": "LayoutModel",
     "state": {
      "_model_module": "@jupyter-widgets/base",
      "_model_module_version": "1.2.0",
      "_model_name": "LayoutModel",
      "_view_count": null,
      "_view_module": "@jupyter-widgets/base",
      "_view_module_version": "1.2.0",
      "_view_name": "LayoutView",
      "align_content": null,
      "align_items": null,
      "align_self": null,
      "border": null,
      "bottom": null,
      "display": null,
      "flex": null,
      "flex_flow": null,
      "grid_area": null,
      "grid_auto_columns": null,
      "grid_auto_flow": null,
      "grid_auto_rows": null,
      "grid_column": null,
      "grid_gap": null,
      "grid_row": null,
      "grid_template_areas": null,
      "grid_template_columns": null,
      "grid_template_rows": null,
      "height": null,
      "justify_content": null,
      "justify_items": null,
      "left": null,
      "margin": null,
      "max_height": null,
      "max_width": null,
      "min_height": null,
      "min_width": null,
      "object_fit": null,
      "object_position": null,
      "order": null,
      "overflow": null,
      "overflow_x": null,
      "overflow_y": null,
      "padding": null,
      "right": null,
      "top": null,
      "visibility": null,
      "width": null
     }
    },
    "89e97e8df3664a008335af56ea6dfb28": {
     "model_module": "@jupyter-widgets/controls",
     "model_module_version": "1.5.0",
     "model_name": "HTMLModel",
     "state": {
      "_dom_classes": [],
      "_model_module": "@jupyter-widgets/controls",
      "_model_module_version": "1.5.0",
      "_model_name": "HTMLModel",
      "_view_count": null,
      "_view_module": "@jupyter-widgets/controls",
      "_view_module_version": "1.5.0",
      "_view_name": "HTMLView",
      "description": "",
      "description_tooltip": null,
      "layout": "IPY_MODEL_532cbca774c740f89e2b96ad9164fd38",
      "placeholder": "​",
      "style": "IPY_MODEL_2b2c2e4a75a34a7fbfc1de87160c7b20",
      "value": " 878k/878k [00:00&lt;00:00, 1.25MB/s]"
     }
    },
    "8aa64fb7f8bc4c07bd1d511e83e88fb3": {
     "model_module": "@jupyter-widgets/base",
     "model_module_version": "1.2.0",
     "model_name": "LayoutModel",
     "state": {
      "_model_module": "@jupyter-widgets/base",
      "_model_module_version": "1.2.0",
      "_model_name": "LayoutModel",
      "_view_count": null,
      "_view_module": "@jupyter-widgets/base",
      "_view_module_version": "1.2.0",
      "_view_name": "LayoutView",
      "align_content": null,
      "align_items": null,
      "align_self": null,
      "border": null,
      "bottom": null,
      "display": null,
      "flex": null,
      "flex_flow": null,
      "grid_area": null,
      "grid_auto_columns": null,
      "grid_auto_flow": null,
      "grid_auto_rows": null,
      "grid_column": null,
      "grid_gap": null,
      "grid_row": null,
      "grid_template_areas": null,
      "grid_template_columns": null,
      "grid_template_rows": null,
      "height": null,
      "justify_content": null,
      "justify_items": null,
      "left": null,
      "margin": null,
      "max_height": null,
      "max_width": null,
      "min_height": null,
      "min_width": null,
      "object_fit": null,
      "object_position": null,
      "order": null,
      "overflow": null,
      "overflow_x": null,
      "overflow_y": null,
      "padding": null,
      "right": null,
      "top": null,
      "visibility": null,
      "width": null
     }
    },
    "8b359ad2637f47f38732d7e1357750bb": {
     "model_module": "@jupyter-widgets/base",
     "model_module_version": "1.2.0",
     "model_name": "LayoutModel",
     "state": {
      "_model_module": "@jupyter-widgets/base",
      "_model_module_version": "1.2.0",
      "_model_name": "LayoutModel",
      "_view_count": null,
      "_view_module": "@jupyter-widgets/base",
      "_view_module_version": "1.2.0",
      "_view_name": "LayoutView",
      "align_content": null,
      "align_items": null,
      "align_self": null,
      "border": null,
      "bottom": null,
      "display": null,
      "flex": null,
      "flex_flow": null,
      "grid_area": null,
      "grid_auto_columns": null,
      "grid_auto_flow": null,
      "grid_auto_rows": null,
      "grid_column": null,
      "grid_gap": null,
      "grid_row": null,
      "grid_template_areas": null,
      "grid_template_columns": null,
      "grid_template_rows": null,
      "height": null,
      "justify_content": null,
      "justify_items": null,
      "left": null,
      "margin": null,
      "max_height": null,
      "max_width": null,
      "min_height": null,
      "min_width": null,
      "object_fit": null,
      "object_position": null,
      "order": null,
      "overflow": null,
      "overflow_x": null,
      "overflow_y": null,
      "padding": null,
      "right": null,
      "top": null,
      "visibility": null,
      "width": null
     }
    },
    "8b9e51b6eecd4c89aa9d503a5ba6c9a6": {
     "model_module": "@jupyter-widgets/base",
     "model_module_version": "1.2.0",
     "model_name": "LayoutModel",
     "state": {
      "_model_module": "@jupyter-widgets/base",
      "_model_module_version": "1.2.0",
      "_model_name": "LayoutModel",
      "_view_count": null,
      "_view_module": "@jupyter-widgets/base",
      "_view_module_version": "1.2.0",
      "_view_name": "LayoutView",
      "align_content": null,
      "align_items": null,
      "align_self": null,
      "border": null,
      "bottom": null,
      "display": null,
      "flex": null,
      "flex_flow": null,
      "grid_area": null,
      "grid_auto_columns": null,
      "grid_auto_flow": null,
      "grid_auto_rows": null,
      "grid_column": null,
      "grid_gap": null,
      "grid_row": null,
      "grid_template_areas": null,
      "grid_template_columns": null,
      "grid_template_rows": null,
      "height": null,
      "justify_content": null,
      "justify_items": null,
      "left": null,
      "margin": null,
      "max_height": null,
      "max_width": null,
      "min_height": null,
      "min_width": null,
      "object_fit": null,
      "object_position": null,
      "order": null,
      "overflow": null,
      "overflow_x": null,
      "overflow_y": null,
      "padding": null,
      "right": null,
      "top": null,
      "visibility": null,
      "width": null
     }
    },
    "8ba955f9bb1944679d625fd3a1084705": {
     "model_module": "@jupyter-widgets/controls",
     "model_module_version": "1.5.0",
     "model_name": "FloatProgressModel",
     "state": {
      "_dom_classes": [],
      "_model_module": "@jupyter-widgets/controls",
      "_model_module_version": "1.5.0",
      "_model_name": "FloatProgressModel",
      "_view_count": null,
      "_view_module": "@jupyter-widgets/controls",
      "_view_module_version": "1.5.0",
      "_view_name": "ProgressView",
      "bar_style": "success",
      "description": "",
      "description_tooltip": null,
      "layout": "IPY_MODEL_8866e632113347d8be012e81c4bb9dbe",
      "max": 456318,
      "min": 0,
      "orientation": "horizontal",
      "style": "IPY_MODEL_c749f368b8504725811f12a0ec603830",
      "value": 456318
     }
    },
    "8bc6c359198c4a83961e3f56245582d7": {
     "model_module": "@jupyter-widgets/base",
     "model_module_version": "1.2.0",
     "model_name": "LayoutModel",
     "state": {
      "_model_module": "@jupyter-widgets/base",
      "_model_module_version": "1.2.0",
      "_model_name": "LayoutModel",
      "_view_count": null,
      "_view_module": "@jupyter-widgets/base",
      "_view_module_version": "1.2.0",
      "_view_name": "LayoutView",
      "align_content": null,
      "align_items": null,
      "align_self": null,
      "border": null,
      "bottom": null,
      "display": null,
      "flex": null,
      "flex_flow": null,
      "grid_area": null,
      "grid_auto_columns": null,
      "grid_auto_flow": null,
      "grid_auto_rows": null,
      "grid_column": null,
      "grid_gap": null,
      "grid_row": null,
      "grid_template_areas": null,
      "grid_template_columns": null,
      "grid_template_rows": null,
      "height": null,
      "justify_content": null,
      "justify_items": null,
      "left": null,
      "margin": null,
      "max_height": null,
      "max_width": null,
      "min_height": null,
      "min_width": null,
      "object_fit": null,
      "object_position": null,
      "order": null,
      "overflow": null,
      "overflow_x": null,
      "overflow_y": null,
      "padding": null,
      "right": null,
      "top": null,
      "visibility": null,
      "width": null
     }
    },
    "8c55ab8185f34d949b8b0b0c89d69ef2": {
     "model_module": "@jupyter-widgets/controls",
     "model_module_version": "1.5.0",
     "model_name": "ProgressStyleModel",
     "state": {
      "_model_module": "@jupyter-widgets/controls",
      "_model_module_version": "1.5.0",
      "_model_name": "ProgressStyleModel",
      "_view_count": null,
      "_view_module": "@jupyter-widgets/base",
      "_view_module_version": "1.2.0",
      "_view_name": "StyleView",
      "bar_color": null,
      "description_width": ""
     }
    },
    "8e0a401df7344d599c182d375c0ad61a": {
     "model_module": "@jupyter-widgets/base",
     "model_module_version": "1.2.0",
     "model_name": "LayoutModel",
     "state": {
      "_model_module": "@jupyter-widgets/base",
      "_model_module_version": "1.2.0",
      "_model_name": "LayoutModel",
      "_view_count": null,
      "_view_module": "@jupyter-widgets/base",
      "_view_module_version": "1.2.0",
      "_view_name": "LayoutView",
      "align_content": null,
      "align_items": null,
      "align_self": null,
      "border": null,
      "bottom": null,
      "display": null,
      "flex": null,
      "flex_flow": null,
      "grid_area": null,
      "grid_auto_columns": null,
      "grid_auto_flow": null,
      "grid_auto_rows": null,
      "grid_column": null,
      "grid_gap": null,
      "grid_row": null,
      "grid_template_areas": null,
      "grid_template_columns": null,
      "grid_template_rows": null,
      "height": null,
      "justify_content": null,
      "justify_items": null,
      "left": null,
      "margin": null,
      "max_height": null,
      "max_width": null,
      "min_height": null,
      "min_width": null,
      "object_fit": null,
      "object_position": null,
      "order": null,
      "overflow": null,
      "overflow_x": null,
      "overflow_y": null,
      "padding": null,
      "right": null,
      "top": null,
      "visibility": null,
      "width": null
     }
    },
    "8e26a533c1af4ee5bf89c64d7d76acab": {
     "model_module": "@jupyter-widgets/controls",
     "model_module_version": "1.5.0",
     "model_name": "HBoxModel",
     "state": {
      "_dom_classes": [],
      "_model_module": "@jupyter-widgets/controls",
      "_model_module_version": "1.5.0",
      "_model_name": "HBoxModel",
      "_view_count": null,
      "_view_module": "@jupyter-widgets/controls",
      "_view_module_version": "1.5.0",
      "_view_name": "HBoxView",
      "box_style": "",
      "children": [
       "IPY_MODEL_fddcf7e1409a4cb49a43c256f8c19cc8",
       "IPY_MODEL_9fc2cb44d3414d6582366469d48d4478",
       "IPY_MODEL_522262e9f1ae451ab80ca1a0d69c5b68"
      ],
      "layout": "IPY_MODEL_ddc3774afe004d9fb57009b600e51b98"
     }
    },
    "8edd11df1f264ea589ab6eff723e8d15": {
     "model_module": "@jupyter-widgets/controls",
     "model_module_version": "1.5.0",
     "model_name": "DescriptionStyleModel",
     "state": {
      "_model_module": "@jupyter-widgets/controls",
      "_model_module_version": "1.5.0",
      "_model_name": "DescriptionStyleModel",
      "_view_count": null,
      "_view_module": "@jupyter-widgets/base",
      "_view_module_version": "1.2.0",
      "_view_name": "StyleView",
      "description_width": ""
     }
    },
    "8eebb00704e84419b6228a967215a896": {
     "model_module": "@jupyter-widgets/controls",
     "model_module_version": "1.5.0",
     "model_name": "ProgressStyleModel",
     "state": {
      "_model_module": "@jupyter-widgets/controls",
      "_model_module_version": "1.5.0",
      "_model_name": "ProgressStyleModel",
      "_view_count": null,
      "_view_module": "@jupyter-widgets/base",
      "_view_module_version": "1.2.0",
      "_view_name": "StyleView",
      "bar_color": null,
      "description_width": ""
     }
    },
    "91afa3c7e1c5481a895d593190cc1a91": {
     "model_module": "@jupyter-widgets/controls",
     "model_module_version": "1.5.0",
     "model_name": "DescriptionStyleModel",
     "state": {
      "_model_module": "@jupyter-widgets/controls",
      "_model_module_version": "1.5.0",
      "_model_name": "DescriptionStyleModel",
      "_view_count": null,
      "_view_module": "@jupyter-widgets/base",
      "_view_module_version": "1.2.0",
      "_view_name": "StyleView",
      "description_width": ""
     }
    },
    "91f1c2b9318840ecbfbf11851279326a": {
     "model_module": "@jupyter-widgets/controls",
     "model_module_version": "1.5.0",
     "model_name": "DescriptionStyleModel",
     "state": {
      "_model_module": "@jupyter-widgets/controls",
      "_model_module_version": "1.5.0",
      "_model_name": "DescriptionStyleModel",
      "_view_count": null,
      "_view_module": "@jupyter-widgets/base",
      "_view_module_version": "1.2.0",
      "_view_name": "StyleView",
      "description_width": ""
     }
    },
    "92a8c8e236e04b06be561f7d4ed57e18": {
     "model_module": "@jupyter-widgets/base",
     "model_module_version": "1.2.0",
     "model_name": "LayoutModel",
     "state": {
      "_model_module": "@jupyter-widgets/base",
      "_model_module_version": "1.2.0",
      "_model_name": "LayoutModel",
      "_view_count": null,
      "_view_module": "@jupyter-widgets/base",
      "_view_module_version": "1.2.0",
      "_view_name": "LayoutView",
      "align_content": null,
      "align_items": null,
      "align_self": null,
      "border": null,
      "bottom": null,
      "display": null,
      "flex": null,
      "flex_flow": null,
      "grid_area": null,
      "grid_auto_columns": null,
      "grid_auto_flow": null,
      "grid_auto_rows": null,
      "grid_column": null,
      "grid_gap": null,
      "grid_row": null,
      "grid_template_areas": null,
      "grid_template_columns": null,
      "grid_template_rows": null,
      "height": null,
      "justify_content": null,
      "justify_items": null,
      "left": null,
      "margin": null,
      "max_height": null,
      "max_width": null,
      "min_height": null,
      "min_width": null,
      "object_fit": null,
      "object_position": null,
      "order": null,
      "overflow": null,
      "overflow_x": null,
      "overflow_y": null,
      "padding": null,
      "right": null,
      "top": null,
      "visibility": null,
      "width": null
     }
    },
    "92ad4cbd7b664c9db0ef9fb0aa80a195": {
     "model_module": "@jupyter-widgets/base",
     "model_module_version": "1.2.0",
     "model_name": "LayoutModel",
     "state": {
      "_model_module": "@jupyter-widgets/base",
      "_model_module_version": "1.2.0",
      "_model_name": "LayoutModel",
      "_view_count": null,
      "_view_module": "@jupyter-widgets/base",
      "_view_module_version": "1.2.0",
      "_view_name": "LayoutView",
      "align_content": null,
      "align_items": null,
      "align_self": null,
      "border": null,
      "bottom": null,
      "display": null,
      "flex": null,
      "flex_flow": null,
      "grid_area": null,
      "grid_auto_columns": null,
      "grid_auto_flow": null,
      "grid_auto_rows": null,
      "grid_column": null,
      "grid_gap": null,
      "grid_row": null,
      "grid_template_areas": null,
      "grid_template_columns": null,
      "grid_template_rows": null,
      "height": null,
      "justify_content": null,
      "justify_items": null,
      "left": null,
      "margin": null,
      "max_height": null,
      "max_width": null,
      "min_height": null,
      "min_width": null,
      "object_fit": null,
      "object_position": null,
      "order": null,
      "overflow": null,
      "overflow_x": null,
      "overflow_y": null,
      "padding": null,
      "right": null,
      "top": null,
      "visibility": null,
      "width": null
     }
    },
    "93989147b2754012aaaaa1da1d812388": {
     "model_module": "@jupyter-widgets/controls",
     "model_module_version": "1.5.0",
     "model_name": "DescriptionStyleModel",
     "state": {
      "_model_module": "@jupyter-widgets/controls",
      "_model_module_version": "1.5.0",
      "_model_name": "DescriptionStyleModel",
      "_view_count": null,
      "_view_module": "@jupyter-widgets/base",
      "_view_module_version": "1.2.0",
      "_view_name": "StyleView",
      "description_width": ""
     }
    },
    "9622c1b0554c4968a06f719dad83b52b": {
     "model_module": "@jupyter-widgets/controls",
     "model_module_version": "1.5.0",
     "model_name": "FloatProgressModel",
     "state": {
      "_dom_classes": [],
      "_model_module": "@jupyter-widgets/controls",
      "_model_module_version": "1.5.0",
      "_model_name": "FloatProgressModel",
      "_view_count": null,
      "_view_module": "@jupyter-widgets/controls",
      "_view_module_version": "1.5.0",
      "_view_name": "ProgressView",
      "bar_style": "success",
      "description": "",
      "description_tooltip": null,
      "layout": "IPY_MODEL_8bc6c359198c4a83961e3f56245582d7",
      "max": 481,
      "min": 0,
      "orientation": "horizontal",
      "style": "IPY_MODEL_a028e99a93114f32bdee1bf140e55e81",
      "value": 481
     }
    },
    "965f60ab8f444da79c81278cd4a6fa94": {
     "model_module": "@jupyter-widgets/controls",
     "model_module_version": "1.5.0",
     "model_name": "HTMLModel",
     "state": {
      "_dom_classes": [],
      "_model_module": "@jupyter-widgets/controls",
      "_model_module_version": "1.5.0",
      "_model_name": "HTMLModel",
      "_view_count": null,
      "_view_module": "@jupyter-widgets/controls",
      "_view_module_version": "1.5.0",
      "_view_name": "HTMLView",
      "description": "",
      "description_tooltip": null,
      "layout": "IPY_MODEL_314f4254fd824209b18b873bfdc694c2",
      "placeholder": "​",
      "style": "IPY_MODEL_d3a26a1565744f0a9fd62d2fbb3b791f",
      "value": "100%"
     }
    },
    "9710375efcc947b9b003188ab509d9e2": {
     "model_module": "@jupyter-widgets/controls",
     "model_module_version": "1.5.0",
     "model_name": "FloatProgressModel",
     "state": {
      "_dom_classes": [],
      "_model_module": "@jupyter-widgets/controls",
      "_model_module_version": "1.5.0",
      "_model_name": "FloatProgressModel",
      "_view_count": null,
      "_view_module": "@jupyter-widgets/controls",
      "_view_module_version": "1.5.0",
      "_view_name": "ProgressView",
      "bar_style": "success",
      "description": "",
      "description_tooltip": null,
      "layout": "IPY_MODEL_ff8de086d4114f0682076bd2cd9fd7ae",
      "max": 2,
      "min": 0,
      "orientation": "horizontal",
      "style": "IPY_MODEL_d29d858a994e4458a5a073880ebc2639",
      "value": 2
     }
    },
    "971db9d5742d4f99a49e03c9ab34f61b": {
     "model_module": "@jupyter-widgets/base",
     "model_module_version": "1.2.0",
     "model_name": "LayoutModel",
     "state": {
      "_model_module": "@jupyter-widgets/base",
      "_model_module_version": "1.2.0",
      "_model_name": "LayoutModel",
      "_view_count": null,
      "_view_module": "@jupyter-widgets/base",
      "_view_module_version": "1.2.0",
      "_view_name": "LayoutView",
      "align_content": null,
      "align_items": null,
      "align_self": null,
      "border": null,
      "bottom": null,
      "display": null,
      "flex": null,
      "flex_flow": null,
      "grid_area": null,
      "grid_auto_columns": null,
      "grid_auto_flow": null,
      "grid_auto_rows": null,
      "grid_column": null,
      "grid_gap": null,
      "grid_row": null,
      "grid_template_areas": null,
      "grid_template_columns": null,
      "grid_template_rows": null,
      "height": null,
      "justify_content": null,
      "justify_items": null,
      "left": null,
      "margin": null,
      "max_height": null,
      "max_width": null,
      "min_height": null,
      "min_width": null,
      "object_fit": null,
      "object_position": null,
      "order": null,
      "overflow": null,
      "overflow_x": null,
      "overflow_y": null,
      "padding": null,
      "right": null,
      "top": null,
      "visibility": null,
      "width": null
     }
    },
    "9819fc7ae4694c33817164be029a5656": {
     "model_module": "@jupyter-widgets/controls",
     "model_module_version": "1.5.0",
     "model_name": "ProgressStyleModel",
     "state": {
      "_model_module": "@jupyter-widgets/controls",
      "_model_module_version": "1.5.0",
      "_model_name": "ProgressStyleModel",
      "_view_count": null,
      "_view_module": "@jupyter-widgets/base",
      "_view_module_version": "1.2.0",
      "_view_name": "StyleView",
      "bar_color": null,
      "description_width": ""
     }
    },
    "9893999e7b23427a84cba1c420bc467b": {
     "model_module": "@jupyter-widgets/base",
     "model_module_version": "1.2.0",
     "model_name": "LayoutModel",
     "state": {
      "_model_module": "@jupyter-widgets/base",
      "_model_module_version": "1.2.0",
      "_model_name": "LayoutModel",
      "_view_count": null,
      "_view_module": "@jupyter-widgets/base",
      "_view_module_version": "1.2.0",
      "_view_name": "LayoutView",
      "align_content": null,
      "align_items": null,
      "align_self": null,
      "border": null,
      "bottom": null,
      "display": null,
      "flex": null,
      "flex_flow": null,
      "grid_area": null,
      "grid_auto_columns": null,
      "grid_auto_flow": null,
      "grid_auto_rows": null,
      "grid_column": null,
      "grid_gap": null,
      "grid_row": null,
      "grid_template_areas": null,
      "grid_template_columns": null,
      "grid_template_rows": null,
      "height": null,
      "justify_content": null,
      "justify_items": null,
      "left": null,
      "margin": null,
      "max_height": null,
      "max_width": null,
      "min_height": null,
      "min_width": null,
      "object_fit": null,
      "object_position": null,
      "order": null,
      "overflow": null,
      "overflow_x": null,
      "overflow_y": null,
      "padding": null,
      "right": null,
      "top": null,
      "visibility": null,
      "width": null
     }
    },
    "98cf95496d6e486483f95c4ac3eacfc8": {
     "model_module": "@jupyter-widgets/base",
     "model_module_version": "1.2.0",
     "model_name": "LayoutModel",
     "state": {
      "_model_module": "@jupyter-widgets/base",
      "_model_module_version": "1.2.0",
      "_model_name": "LayoutModel",
      "_view_count": null,
      "_view_module": "@jupyter-widgets/base",
      "_view_module_version": "1.2.0",
      "_view_name": "LayoutView",
      "align_content": null,
      "align_items": null,
      "align_self": null,
      "border": null,
      "bottom": null,
      "display": null,
      "flex": null,
      "flex_flow": null,
      "grid_area": null,
      "grid_auto_columns": null,
      "grid_auto_flow": null,
      "grid_auto_rows": null,
      "grid_column": null,
      "grid_gap": null,
      "grid_row": null,
      "grid_template_areas": null,
      "grid_template_columns": null,
      "grid_template_rows": null,
      "height": null,
      "justify_content": null,
      "justify_items": null,
      "left": null,
      "margin": null,
      "max_height": null,
      "max_width": null,
      "min_height": null,
      "min_width": null,
      "object_fit": null,
      "object_position": null,
      "order": null,
      "overflow": null,
      "overflow_x": null,
      "overflow_y": null,
      "padding": null,
      "right": null,
      "top": null,
      "visibility": null,
      "width": null
     }
    },
    "99fefb2f90b44c9b86a7a7e208492d67": {
     "model_module": "@jupyter-widgets/controls",
     "model_module_version": "1.5.0",
     "model_name": "HBoxModel",
     "state": {
      "_dom_classes": [],
      "_model_module": "@jupyter-widgets/controls",
      "_model_module_version": "1.5.0",
      "_model_name": "HBoxModel",
      "_view_count": null,
      "_view_module": "@jupyter-widgets/controls",
      "_view_module_version": "1.5.0",
      "_view_name": "HBoxView",
      "box_style": "",
      "children": [
       "IPY_MODEL_ff82a4e979334d65b01937a5622303a7",
       "IPY_MODEL_508dbf2d7d7a420a8f7c336c80f6f4a0",
       "IPY_MODEL_4f4f91ff20914065941edd6ac01fcbed"
      ],
      "layout": "IPY_MODEL_faf6e5091109448394b226467c12f902"
     }
    },
    "9aca5b3749674ae68616fb365934db61": {
     "model_module": "@jupyter-widgets/controls",
     "model_module_version": "1.5.0",
     "model_name": "FloatProgressModel",
     "state": {
      "_dom_classes": [],
      "_model_module": "@jupyter-widgets/controls",
      "_model_module_version": "1.5.0",
      "_model_name": "FloatProgressModel",
      "_view_count": null,
      "_view_module": "@jupyter-widgets/controls",
      "_view_module_version": "1.5.0",
      "_view_name": "ProgressView",
      "bar_style": "success",
      "description": "",
      "description_tooltip": null,
      "layout": "IPY_MODEL_4dc61a97d442451eb97101d47dcfdc4b",
      "max": 898823,
      "min": 0,
      "orientation": "horizontal",
      "style": "IPY_MODEL_7cf615d9c31f426fa1f99b49f7a7127f",
      "value": 898823
     }
    },
    "9bfc0389fd2a4f06b7d48c0262d257dc": {
     "model_module": "@jupyter-widgets/base",
     "model_module_version": "1.2.0",
     "model_name": "LayoutModel",
     "state": {
      "_model_module": "@jupyter-widgets/base",
      "_model_module_version": "1.2.0",
      "_model_name": "LayoutModel",
      "_view_count": null,
      "_view_module": "@jupyter-widgets/base",
      "_view_module_version": "1.2.0",
      "_view_name": "LayoutView",
      "align_content": null,
      "align_items": null,
      "align_self": null,
      "border": null,
      "bottom": null,
      "display": null,
      "flex": null,
      "flex_flow": null,
      "grid_area": null,
      "grid_auto_columns": null,
      "grid_auto_flow": null,
      "grid_auto_rows": null,
      "grid_column": null,
      "grid_gap": null,
      "grid_row": null,
      "grid_template_areas": null,
      "grid_template_columns": null,
      "grid_template_rows": null,
      "height": null,
      "justify_content": null,
      "justify_items": null,
      "left": null,
      "margin": null,
      "max_height": null,
      "max_width": null,
      "min_height": null,
      "min_width": null,
      "object_fit": null,
      "object_position": null,
      "order": null,
      "overflow": null,
      "overflow_x": null,
      "overflow_y": null,
      "padding": null,
      "right": null,
      "top": null,
      "visibility": null,
      "width": null
     }
    },
    "9cd2011d23c64d59949edd0ce9efc50c": {
     "model_module": "@jupyter-widgets/base",
     "model_module_version": "1.2.0",
     "model_name": "LayoutModel",
     "state": {
      "_model_module": "@jupyter-widgets/base",
      "_model_module_version": "1.2.0",
      "_model_name": "LayoutModel",
      "_view_count": null,
      "_view_module": "@jupyter-widgets/base",
      "_view_module_version": "1.2.0",
      "_view_name": "LayoutView",
      "align_content": null,
      "align_items": null,
      "align_self": null,
      "border": null,
      "bottom": null,
      "display": null,
      "flex": null,
      "flex_flow": null,
      "grid_area": null,
      "grid_auto_columns": null,
      "grid_auto_flow": null,
      "grid_auto_rows": null,
      "grid_column": null,
      "grid_gap": null,
      "grid_row": null,
      "grid_template_areas": null,
      "grid_template_columns": null,
      "grid_template_rows": null,
      "height": null,
      "justify_content": null,
      "justify_items": null,
      "left": null,
      "margin": null,
      "max_height": null,
      "max_width": null,
      "min_height": null,
      "min_width": null,
      "object_fit": null,
      "object_position": null,
      "order": null,
      "overflow": null,
      "overflow_x": null,
      "overflow_y": null,
      "padding": null,
      "right": null,
      "top": null,
      "visibility": null,
      "width": null
     }
    },
    "9e9042b0752141a5aefd5b29e59f8739": {
     "model_module": "@jupyter-widgets/controls",
     "model_module_version": "1.5.0",
     "model_name": "DescriptionStyleModel",
     "state": {
      "_model_module": "@jupyter-widgets/controls",
      "_model_module_version": "1.5.0",
      "_model_name": "DescriptionStyleModel",
      "_view_count": null,
      "_view_module": "@jupyter-widgets/base",
      "_view_module_version": "1.2.0",
      "_view_name": "StyleView",
      "description_width": ""
     }
    },
    "9f1ad57d3d204aef9f259dbaa30ce712": {
     "model_module": "@jupyter-widgets/controls",
     "model_module_version": "1.5.0",
     "model_name": "DescriptionStyleModel",
     "state": {
      "_model_module": "@jupyter-widgets/controls",
      "_model_module_version": "1.5.0",
      "_model_name": "DescriptionStyleModel",
      "_view_count": null,
      "_view_module": "@jupyter-widgets/base",
      "_view_module_version": "1.2.0",
      "_view_name": "StyleView",
      "description_width": ""
     }
    },
    "9f4a810864b743b3807fb5208c0a7fd6": {
     "model_module": "@jupyter-widgets/controls",
     "model_module_version": "1.5.0",
     "model_name": "HTMLModel",
     "state": {
      "_dom_classes": [],
      "_model_module": "@jupyter-widgets/controls",
      "_model_module_version": "1.5.0",
      "_model_name": "HTMLModel",
      "_view_count": null,
      "_view_module": "@jupyter-widgets/controls",
      "_view_module_version": "1.5.0",
      "_view_name": "HTMLView",
      "description": "",
      "description_tooltip": null,
      "layout": "IPY_MODEL_3f844d3b6f844501bdfc7a799e777f8d",
      "placeholder": "​",
      "style": "IPY_MODEL_f8c8ed2177bf496ebcc58657e297a8e5",
      "value": " 446k/446k [00:00&lt;00:00, 1.27MB/s]"
     }
    },
    "9fc2cb44d3414d6582366469d48d4478": {
     "model_module": "@jupyter-widgets/controls",
     "model_module_version": "1.5.0",
     "model_name": "FloatProgressModel",
     "state": {
      "_dom_classes": [],
      "_model_module": "@jupyter-widgets/controls",
      "_model_module_version": "1.5.0",
      "_model_name": "FloatProgressModel",
      "_view_count": null,
      "_view_module": "@jupyter-widgets/controls",
      "_view_module_version": "1.5.0",
      "_view_name": "ProgressView",
      "bar_style": "success",
      "description": "",
      "description_tooltip": null,
      "layout": "IPY_MODEL_276f3654dad4459599f115d5ab515322",
      "max": 466062,
      "min": 0,
      "orientation": "horizontal",
      "style": "IPY_MODEL_b9a1447b43c44d41bbbb904ce98ab9a9",
      "value": 466062
     }
    },
    "a028e99a93114f32bdee1bf140e55e81": {
     "model_module": "@jupyter-widgets/controls",
     "model_module_version": "1.5.0",
     "model_name": "ProgressStyleModel",
     "state": {
      "_model_module": "@jupyter-widgets/controls",
      "_model_module_version": "1.5.0",
      "_model_name": "ProgressStyleModel",
      "_view_count": null,
      "_view_module": "@jupyter-widgets/base",
      "_view_module_version": "1.2.0",
      "_view_name": "StyleView",
      "bar_color": null,
      "description_width": ""
     }
    },
    "a06fbfa7a22d43229ff62ea9b3a759af": {
     "model_module": "@jupyter-widgets/base",
     "model_module_version": "1.2.0",
     "model_name": "LayoutModel",
     "state": {
      "_model_module": "@jupyter-widgets/base",
      "_model_module_version": "1.2.0",
      "_model_name": "LayoutModel",
      "_view_count": null,
      "_view_module": "@jupyter-widgets/base",
      "_view_module_version": "1.2.0",
      "_view_name": "LayoutView",
      "align_content": null,
      "align_items": null,
      "align_self": null,
      "border": null,
      "bottom": null,
      "display": null,
      "flex": null,
      "flex_flow": null,
      "grid_area": null,
      "grid_auto_columns": null,
      "grid_auto_flow": null,
      "grid_auto_rows": null,
      "grid_column": null,
      "grid_gap": null,
      "grid_row": null,
      "grid_template_areas": null,
      "grid_template_columns": null,
      "grid_template_rows": null,
      "height": null,
      "justify_content": null,
      "justify_items": null,
      "left": null,
      "margin": null,
      "max_height": null,
      "max_width": null,
      "min_height": null,
      "min_width": null,
      "object_fit": null,
      "object_position": null,
      "order": null,
      "overflow": null,
      "overflow_x": null,
      "overflow_y": null,
      "padding": null,
      "right": null,
      "top": null,
      "visibility": null,
      "width": null
     }
    },
    "a134e9fee1664dd3acb95c3ce308313a": {
     "model_module": "@jupyter-widgets/controls",
     "model_module_version": "1.5.0",
     "model_name": "HBoxModel",
     "state": {
      "_dom_classes": [],
      "_model_module": "@jupyter-widgets/controls",
      "_model_module_version": "1.5.0",
      "_model_name": "HBoxModel",
      "_view_count": null,
      "_view_module": "@jupyter-widgets/controls",
      "_view_module_version": "1.5.0",
      "_view_name": "HBoxView",
      "box_style": "",
      "children": [
       "IPY_MODEL_0dc1ed3a8c524e28bff508c7d7b9157f",
       "IPY_MODEL_0c099748951a4a64aeb1f2fd68ef0246",
       "IPY_MODEL_aff49717716940278ed86ace813489e9"
      ],
      "layout": "IPY_MODEL_445b1d95a2d04bb6aa54d9f9705a8fb5"
     }
    },
    "a1e585df29784589a120a27e7b0496da": {
     "model_module": "@jupyter-widgets/controls",
     "model_module_version": "1.5.0",
     "model_name": "DescriptionStyleModel",
     "state": {
      "_model_module": "@jupyter-widgets/controls",
      "_model_module_version": "1.5.0",
      "_model_name": "DescriptionStyleModel",
      "_view_count": null,
      "_view_module": "@jupyter-widgets/base",
      "_view_module_version": "1.2.0",
      "_view_name": "StyleView",
      "description_width": ""
     }
    },
    "a297e26ab24d46bd80bede49354deacb": {
     "model_module": "@jupyter-widgets/controls",
     "model_module_version": "1.5.0",
     "model_name": "HTMLModel",
     "state": {
      "_dom_classes": [],
      "_model_module": "@jupyter-widgets/controls",
      "_model_module_version": "1.5.0",
      "_model_name": "HTMLModel",
      "_view_count": null,
      "_view_module": "@jupyter-widgets/controls",
      "_view_module_version": "1.5.0",
      "_view_name": "HTMLView",
      "description": "",
      "description_tooltip": null,
      "layout": "IPY_MODEL_ed03a95a6e2540b58eb8d7d7ec9e0d88",
      "placeholder": "​",
      "style": "IPY_MODEL_9f1ad57d3d204aef9f259dbaa30ce712",
      "value": " 2/2 [00:00&lt;00:00, 50.61it/s]"
     }
    },
    "a3a59724a59647f387f098b1e2898f45": {
     "model_module": "@jupyter-widgets/controls",
     "model_module_version": "1.5.0",
     "model_name": "ProgressStyleModel",
     "state": {
      "_model_module": "@jupyter-widgets/controls",
      "_model_module_version": "1.5.0",
      "_model_name": "ProgressStyleModel",
      "_view_count": null,
      "_view_module": "@jupyter-widgets/base",
      "_view_module_version": "1.2.0",
      "_view_name": "StyleView",
      "bar_color": null,
      "description_width": ""
     }
    },
    "a45bb1a7da254681877e2386b4a64e9f": {
     "model_module": "@jupyter-widgets/controls",
     "model_module_version": "1.5.0",
     "model_name": "HTMLModel",
     "state": {
      "_dom_classes": [],
      "_model_module": "@jupyter-widgets/controls",
      "_model_module_version": "1.5.0",
      "_model_name": "HTMLModel",
      "_view_count": null,
      "_view_module": "@jupyter-widgets/controls",
      "_view_module_version": "1.5.0",
      "_view_name": "HTMLView",
      "description": "",
      "description_tooltip": null,
      "layout": "IPY_MODEL_a533692c237a4c8aaff6364eeaa6f48b",
      "placeholder": "​",
      "style": "IPY_MODEL_28b6d3394da242c99e297be76ddd6f8e",
      "value": "Downloading: 100%"
     }
    },
    "a4c58d4138f94ebda089f02040bbb124": {
     "model_module": "@jupyter-widgets/base",
     "model_module_version": "1.2.0",
     "model_name": "LayoutModel",
     "state": {
      "_model_module": "@jupyter-widgets/base",
      "_model_module_version": "1.2.0",
      "_model_name": "LayoutModel",
      "_view_count": null,
      "_view_module": "@jupyter-widgets/base",
      "_view_module_version": "1.2.0",
      "_view_name": "LayoutView",
      "align_content": null,
      "align_items": null,
      "align_self": null,
      "border": null,
      "bottom": null,
      "display": null,
      "flex": null,
      "flex_flow": null,
      "grid_area": null,
      "grid_auto_columns": null,
      "grid_auto_flow": null,
      "grid_auto_rows": null,
      "grid_column": null,
      "grid_gap": null,
      "grid_row": null,
      "grid_template_areas": null,
      "grid_template_columns": null,
      "grid_template_rows": null,
      "height": null,
      "justify_content": null,
      "justify_items": null,
      "left": null,
      "margin": null,
      "max_height": null,
      "max_width": null,
      "min_height": null,
      "min_width": null,
      "object_fit": null,
      "object_position": null,
      "order": null,
      "overflow": null,
      "overflow_x": null,
      "overflow_y": null,
      "padding": null,
      "right": null,
      "top": null,
      "visibility": null,
      "width": null
     }
    },
    "a533692c237a4c8aaff6364eeaa6f48b": {
     "model_module": "@jupyter-widgets/base",
     "model_module_version": "1.2.0",
     "model_name": "LayoutModel",
     "state": {
      "_model_module": "@jupyter-widgets/base",
      "_model_module_version": "1.2.0",
      "_model_name": "LayoutModel",
      "_view_count": null,
      "_view_module": "@jupyter-widgets/base",
      "_view_module_version": "1.2.0",
      "_view_name": "LayoutView",
      "align_content": null,
      "align_items": null,
      "align_self": null,
      "border": null,
      "bottom": null,
      "display": null,
      "flex": null,
      "flex_flow": null,
      "grid_area": null,
      "grid_auto_columns": null,
      "grid_auto_flow": null,
      "grid_auto_rows": null,
      "grid_column": null,
      "grid_gap": null,
      "grid_row": null,
      "grid_template_areas": null,
      "grid_template_columns": null,
      "grid_template_rows": null,
      "height": null,
      "justify_content": null,
      "justify_items": null,
      "left": null,
      "margin": null,
      "max_height": null,
      "max_width": null,
      "min_height": null,
      "min_width": null,
      "object_fit": null,
      "object_position": null,
      "order": null,
      "overflow": null,
      "overflow_x": null,
      "overflow_y": null,
      "padding": null,
      "right": null,
      "top": null,
      "visibility": null,
      "width": null
     }
    },
    "a83d65920dfc4a198b95bc60643dbf0c": {
     "model_module": "@jupyter-widgets/controls",
     "model_module_version": "1.5.0",
     "model_name": "DescriptionStyleModel",
     "state": {
      "_model_module": "@jupyter-widgets/controls",
      "_model_module_version": "1.5.0",
      "_model_name": "DescriptionStyleModel",
      "_view_count": null,
      "_view_module": "@jupyter-widgets/base",
      "_view_module_version": "1.2.0",
      "_view_name": "StyleView",
      "description_width": ""
     }
    },
    "a88ddeca6b2e4393a06e34cb81131847": {
     "model_module": "@jupyter-widgets/base",
     "model_module_version": "1.2.0",
     "model_name": "LayoutModel",
     "state": {
      "_model_module": "@jupyter-widgets/base",
      "_model_module_version": "1.2.0",
      "_model_name": "LayoutModel",
      "_view_count": null,
      "_view_module": "@jupyter-widgets/base",
      "_view_module_version": "1.2.0",
      "_view_name": "LayoutView",
      "align_content": null,
      "align_items": null,
      "align_self": null,
      "border": null,
      "bottom": null,
      "display": null,
      "flex": null,
      "flex_flow": null,
      "grid_area": null,
      "grid_auto_columns": null,
      "grid_auto_flow": null,
      "grid_auto_rows": null,
      "grid_column": null,
      "grid_gap": null,
      "grid_row": null,
      "grid_template_areas": null,
      "grid_template_columns": null,
      "grid_template_rows": null,
      "height": null,
      "justify_content": null,
      "justify_items": null,
      "left": null,
      "margin": null,
      "max_height": null,
      "max_width": null,
      "min_height": null,
      "min_width": null,
      "object_fit": null,
      "object_position": null,
      "order": null,
      "overflow": null,
      "overflow_x": null,
      "overflow_y": null,
      "padding": null,
      "right": null,
      "top": null,
      "visibility": null,
      "width": null
     }
    },
    "aa5fb47d77cd413a83c788fcb900d8e2": {
     "model_module": "@jupyter-widgets/controls",
     "model_module_version": "1.5.0",
     "model_name": "FloatProgressModel",
     "state": {
      "_dom_classes": [],
      "_model_module": "@jupyter-widgets/controls",
      "_model_module_version": "1.5.0",
      "_model_name": "FloatProgressModel",
      "_view_count": null,
      "_view_module": "@jupyter-widgets/controls",
      "_view_module_version": "1.5.0",
      "_view_name": "ProgressView",
      "bar_style": "success",
      "description": "",
      "description_tooltip": null,
      "layout": "IPY_MODEL_a4c58d4138f94ebda089f02040bbb124",
      "max": 2,
      "min": 0,
      "orientation": "horizontal",
      "style": "IPY_MODEL_cbe6b766a14d49f799b12c32dcabed42",
      "value": 2
     }
    },
    "aae546a16cf34e3f9a14e6a42e5f7131": {
     "model_module": "@jupyter-widgets/controls",
     "model_module_version": "1.5.0",
     "model_name": "HBoxModel",
     "state": {
      "_dom_classes": [],
      "_model_module": "@jupyter-widgets/controls",
      "_model_module_version": "1.5.0",
      "_model_name": "HBoxModel",
      "_view_count": null,
      "_view_module": "@jupyter-widgets/controls",
      "_view_module_version": "1.5.0",
      "_view_name": "HBoxView",
      "box_style": "",
      "children": [
       "IPY_MODEL_0681762af9564b2f8ebd2551fbda8b79",
       "IPY_MODEL_9710375efcc947b9b003188ab509d9e2",
       "IPY_MODEL_1a3e7f964cf14b8cb23831e1f9218493"
      ],
      "layout": "IPY_MODEL_5a6325a7fba54ddaa09fb0c2abdb0e0f"
     }
    },
    "ad27a38b2ca24c619582e2234bbc9394": {
     "model_module": "@jupyter-widgets/controls",
     "model_module_version": "1.5.0",
     "model_name": "FloatProgressModel",
     "state": {
      "_dom_classes": [],
      "_model_module": "@jupyter-widgets/controls",
      "_model_module_version": "1.5.0",
      "_model_name": "FloatProgressModel",
      "_view_count": null,
      "_view_module": "@jupyter-widgets/controls",
      "_view_module_version": "1.5.0",
      "_view_name": "ProgressView",
      "bar_style": "success",
      "description": "",
      "description_tooltip": null,
      "layout": "IPY_MODEL_3e781b3098a54b29b24b62077515c70a",
      "max": 570,
      "min": 0,
      "orientation": "horizontal",
      "style": "IPY_MODEL_38d6aa94f9dd4e5083ed1b094205606c",
      "value": 570
     }
    },
    "ad3d288564b44255bfec14cc7b10c370": {
     "model_module": "@jupyter-widgets/controls",
     "model_module_version": "1.5.0",
     "model_name": "HBoxModel",
     "state": {
      "_dom_classes": [],
      "_model_module": "@jupyter-widgets/controls",
      "_model_module_version": "1.5.0",
      "_model_name": "HBoxModel",
      "_view_count": null,
      "_view_module": "@jupyter-widgets/controls",
      "_view_module_version": "1.5.0",
      "_view_name": "HBoxView",
      "box_style": "",
      "children": [
       "IPY_MODEL_bc46911d3dff4d9fb10ceff9db382529",
       "IPY_MODEL_aa5fb47d77cd413a83c788fcb900d8e2",
       "IPY_MODEL_16ec1107413e4abd90f2e5f94324c970"
      ],
      "layout": "IPY_MODEL_1e0cd3bbda834765be1a4cf00c0113bd"
     }
    },
    "ad79473d32d34060bf662b7ebcb6bf90": {
     "model_module": "@jupyter-widgets/controls",
     "model_module_version": "1.5.0",
     "model_name": "ProgressStyleModel",
     "state": {
      "_model_module": "@jupyter-widgets/controls",
      "_model_module_version": "1.5.0",
      "_model_name": "ProgressStyleModel",
      "_view_count": null,
      "_view_module": "@jupyter-widgets/base",
      "_view_module_version": "1.2.0",
      "_view_name": "StyleView",
      "bar_color": null,
      "description_width": ""
     }
    },
    "af79fc2eb3274de89a632d73854fd0f5": {
     "model_module": "@jupyter-widgets/controls",
     "model_module_version": "1.5.0",
     "model_name": "HTMLModel",
     "state": {
      "_dom_classes": [],
      "_model_module": "@jupyter-widgets/controls",
      "_model_module_version": "1.5.0",
      "_model_name": "HTMLModel",
      "_view_count": null,
      "_view_module": "@jupyter-widgets/controls",
      "_view_module_version": "1.5.0",
      "_view_name": "HTMLView",
      "description": "",
      "description_tooltip": null,
      "layout": "IPY_MODEL_a88ddeca6b2e4393a06e34cb81131847",
      "placeholder": "​",
      "style": "IPY_MODEL_b449a9c873404308bb43688b7a9bd573",
      "value": "100%"
     }
    },
    "afa1fa9a3e0f41f48f33edbc75917caf": {
     "model_module": "@jupyter-widgets/controls",
     "model_module_version": "1.5.0",
     "model_name": "FloatProgressModel",
     "state": {
      "_dom_classes": [],
      "_model_module": "@jupyter-widgets/controls",
      "_model_module_version": "1.5.0",
      "_model_name": "FloatProgressModel",
      "_view_count": null,
      "_view_module": "@jupyter-widgets/controls",
      "_view_module_version": "1.5.0",
      "_view_name": "ProgressView",
      "bar_style": "success",
      "description": "",
      "description_tooltip": null,
      "layout": "IPY_MODEL_92ad4cbd7b664c9db0ef9fb0aa80a195",
      "max": 437992753,
      "min": 0,
      "orientation": "horizontal",
      "style": "IPY_MODEL_8eebb00704e84419b6228a967215a896",
      "value": 437992753
     }
    },
    "aff49717716940278ed86ace813489e9": {
     "model_module": "@jupyter-widgets/controls",
     "model_module_version": "1.5.0",
     "model_name": "HTMLModel",
     "state": {
      "_dom_classes": [],
      "_model_module": "@jupyter-widgets/controls",
      "_model_module_version": "1.5.0",
      "_model_name": "HTMLModel",
      "_view_count": null,
      "_view_module": "@jupyter-widgets/controls",
      "_view_module_version": "1.5.0",
      "_view_name": "HTMLView",
      "description": "",
      "description_tooltip": null,
      "layout": "IPY_MODEL_4cf02be1ca9c4ca9b62555e9d9c1e1da",
      "placeholder": "​",
      "style": "IPY_MODEL_49f4d0c4fe5f4ad2bc4cff971f2164d7",
      "value": " 2/2 [00:00&lt;00:00, 66.72it/s]"
     }
    },
    "b0fc074835e648ec90a3872f05238959": {
     "model_module": "@jupyter-widgets/base",
     "model_module_version": "1.2.0",
     "model_name": "LayoutModel",
     "state": {
      "_model_module": "@jupyter-widgets/base",
      "_model_module_version": "1.2.0",
      "_model_name": "LayoutModel",
      "_view_count": null,
      "_view_module": "@jupyter-widgets/base",
      "_view_module_version": "1.2.0",
      "_view_name": "LayoutView",
      "align_content": null,
      "align_items": null,
      "align_self": null,
      "border": null,
      "bottom": null,
      "display": null,
      "flex": null,
      "flex_flow": null,
      "grid_area": null,
      "grid_auto_columns": null,
      "grid_auto_flow": null,
      "grid_auto_rows": null,
      "grid_column": null,
      "grid_gap": null,
      "grid_row": null,
      "grid_template_areas": null,
      "grid_template_columns": null,
      "grid_template_rows": null,
      "height": null,
      "justify_content": null,
      "justify_items": null,
      "left": null,
      "margin": null,
      "max_height": null,
      "max_width": null,
      "min_height": null,
      "min_width": null,
      "object_fit": null,
      "object_position": null,
      "order": null,
      "overflow": null,
      "overflow_x": null,
      "overflow_y": null,
      "padding": null,
      "right": null,
      "top": null,
      "visibility": null,
      "width": null
     }
    },
    "b1b28222d3464b29bf3b780db5eda7d5": {
     "model_module": "@jupyter-widgets/controls",
     "model_module_version": "1.5.0",
     "model_name": "HTMLModel",
     "state": {
      "_dom_classes": [],
      "_model_module": "@jupyter-widgets/controls",
      "_model_module_version": "1.5.0",
      "_model_name": "HTMLModel",
      "_view_count": null,
      "_view_module": "@jupyter-widgets/controls",
      "_view_module_version": "1.5.0",
      "_view_name": "HTMLView",
      "description": "",
      "description_tooltip": null,
      "layout": "IPY_MODEL_f199ed5038084eddb874ded45f88c9a2",
      "placeholder": "​",
      "style": "IPY_MODEL_8edd11df1f264ea589ab6eff723e8d15",
      "value": " 455k/455k [00:00&lt;00:00, 1.32MB/s]"
     }
    },
    "b1bbd603080449248f8cf2b8beb1a169": {
     "model_module": "@jupyter-widgets/controls",
     "model_module_version": "1.5.0",
     "model_name": "DescriptionStyleModel",
     "state": {
      "_model_module": "@jupyter-widgets/controls",
      "_model_module_version": "1.5.0",
      "_model_name": "DescriptionStyleModel",
      "_view_count": null,
      "_view_module": "@jupyter-widgets/base",
      "_view_module_version": "1.2.0",
      "_view_name": "StyleView",
      "description_width": ""
     }
    },
    "b28d2be33b0e42c8b02ccaad2e08286f": {
     "model_module": "@jupyter-widgets/controls",
     "model_module_version": "1.5.0",
     "model_name": "HBoxModel",
     "state": {
      "_dom_classes": [],
      "_model_module": "@jupyter-widgets/controls",
      "_model_module_version": "1.5.0",
      "_model_name": "HBoxModel",
      "_view_count": null,
      "_view_module": "@jupyter-widgets/controls",
      "_view_module_version": "1.5.0",
      "_view_name": "HBoxView",
      "box_style": "",
      "children": [
       "IPY_MODEL_af79fc2eb3274de89a632d73854fd0f5",
       "IPY_MODEL_23a5fc11ccd042d687ef2099b3a78866",
       "IPY_MODEL_168ec1088be64eb39426771a564cd211"
      ],
      "layout": "IPY_MODEL_971db9d5742d4f99a49e03c9ab34f61b"
     }
    },
    "b2d280213b094c6e91d9ebae794d314b": {
     "model_module": "@jupyter-widgets/controls",
     "model_module_version": "1.5.0",
     "model_name": "FloatProgressModel",
     "state": {
      "_dom_classes": [],
      "_model_module": "@jupyter-widgets/controls",
      "_model_module_version": "1.5.0",
      "_model_name": "FloatProgressModel",
      "_view_count": null,
      "_view_module": "@jupyter-widgets/controls",
      "_view_module_version": "1.5.0",
      "_view_name": "ProgressView",
      "bar_style": "success",
      "description": "",
      "description_tooltip": null,
      "layout": "IPY_MODEL_50e7de3177434fb2ab4fc0c0c0dbf6d3",
      "max": 4,
      "min": 0,
      "orientation": "horizontal",
      "style": "IPY_MODEL_586e783f12ca49c093815d4a36d9ab14",
      "value": 4
     }
    },
    "b449a9c873404308bb43688b7a9bd573": {
     "model_module": "@jupyter-widgets/controls",
     "model_module_version": "1.5.0",
     "model_name": "DescriptionStyleModel",
     "state": {
      "_model_module": "@jupyter-widgets/controls",
      "_model_module_version": "1.5.0",
      "_model_name": "DescriptionStyleModel",
      "_view_count": null,
      "_view_module": "@jupyter-widgets/base",
      "_view_module_version": "1.2.0",
      "_view_name": "StyleView",
      "description_width": ""
     }
    },
    "b4e2bf2cb4634f2e84b20c987f897978": {
     "model_module": "@jupyter-widgets/base",
     "model_module_version": "1.2.0",
     "model_name": "LayoutModel",
     "state": {
      "_model_module": "@jupyter-widgets/base",
      "_model_module_version": "1.2.0",
      "_model_name": "LayoutModel",
      "_view_count": null,
      "_view_module": "@jupyter-widgets/base",
      "_view_module_version": "1.2.0",
      "_view_name": "LayoutView",
      "align_content": null,
      "align_items": null,
      "align_self": null,
      "border": null,
      "bottom": null,
      "display": null,
      "flex": null,
      "flex_flow": null,
      "grid_area": null,
      "grid_auto_columns": null,
      "grid_auto_flow": null,
      "grid_auto_rows": null,
      "grid_column": null,
      "grid_gap": null,
      "grid_row": null,
      "grid_template_areas": null,
      "grid_template_columns": null,
      "grid_template_rows": null,
      "height": null,
      "justify_content": null,
      "justify_items": null,
      "left": null,
      "margin": null,
      "max_height": null,
      "max_width": null,
      "min_height": null,
      "min_width": null,
      "object_fit": null,
      "object_position": null,
      "order": null,
      "overflow": null,
      "overflow_x": null,
      "overflow_y": null,
      "padding": null,
      "right": null,
      "top": null,
      "visibility": null,
      "width": null
     }
    },
    "b610aa0316d84b06a56e131bd9ca299c": {
     "model_module": "@jupyter-widgets/controls",
     "model_module_version": "1.5.0",
     "model_name": "HBoxModel",
     "state": {
      "_dom_classes": [],
      "_model_module": "@jupyter-widgets/controls",
      "_model_module_version": "1.5.0",
      "_model_name": "HBoxModel",
      "_view_count": null,
      "_view_module": "@jupyter-widgets/controls",
      "_view_module_version": "1.5.0",
      "_view_name": "HBoxView",
      "box_style": "",
      "children": [
       "IPY_MODEL_c1399750fb1b4f248932df5678edf11e",
       "IPY_MODEL_33d1b3dba9c9431493b6f91fec99577f",
       "IPY_MODEL_0a820405d8ad48a9bcd4105f074d79e2"
      ],
      "layout": "IPY_MODEL_b0fc074835e648ec90a3872f05238959"
     }
    },
    "b88b08d8213545e88ad98b8e5491ffae": {
     "model_module": "@jupyter-widgets/base",
     "model_module_version": "1.2.0",
     "model_name": "LayoutModel",
     "state": {
      "_model_module": "@jupyter-widgets/base",
      "_model_module_version": "1.2.0",
      "_model_name": "LayoutModel",
      "_view_count": null,
      "_view_module": "@jupyter-widgets/base",
      "_view_module_version": "1.2.0",
      "_view_name": "LayoutView",
      "align_content": null,
      "align_items": null,
      "align_self": null,
      "border": null,
      "bottom": null,
      "display": null,
      "flex": null,
      "flex_flow": null,
      "grid_area": null,
      "grid_auto_columns": null,
      "grid_auto_flow": null,
      "grid_auto_rows": null,
      "grid_column": null,
      "grid_gap": null,
      "grid_row": null,
      "grid_template_areas": null,
      "grid_template_columns": null,
      "grid_template_rows": null,
      "height": null,
      "justify_content": null,
      "justify_items": null,
      "left": null,
      "margin": null,
      "max_height": null,
      "max_width": null,
      "min_height": null,
      "min_width": null,
      "object_fit": null,
      "object_position": null,
      "order": null,
      "overflow": null,
      "overflow_x": null,
      "overflow_y": null,
      "padding": null,
      "right": null,
      "top": null,
      "visibility": null,
      "width": null
     }
    },
    "b9a1447b43c44d41bbbb904ce98ab9a9": {
     "model_module": "@jupyter-widgets/controls",
     "model_module_version": "1.5.0",
     "model_name": "ProgressStyleModel",
     "state": {
      "_model_module": "@jupyter-widgets/controls",
      "_model_module_version": "1.5.0",
      "_model_name": "ProgressStyleModel",
      "_view_count": null,
      "_view_module": "@jupyter-widgets/base",
      "_view_module_version": "1.2.0",
      "_view_name": "StyleView",
      "bar_color": null,
      "description_width": ""
     }
    },
    "bafafdf415fa4b7f900a93760b0351c3": {
     "model_module": "@jupyter-widgets/controls",
     "model_module_version": "1.5.0",
     "model_name": "DescriptionStyleModel",
     "state": {
      "_model_module": "@jupyter-widgets/controls",
      "_model_module_version": "1.5.0",
      "_model_name": "DescriptionStyleModel",
      "_view_count": null,
      "_view_module": "@jupyter-widgets/base",
      "_view_module_version": "1.2.0",
      "_view_name": "StyleView",
      "description_width": ""
     }
    },
    "bc46911d3dff4d9fb10ceff9db382529": {
     "model_module": "@jupyter-widgets/controls",
     "model_module_version": "1.5.0",
     "model_name": "HTMLModel",
     "state": {
      "_dom_classes": [],
      "_model_module": "@jupyter-widgets/controls",
      "_model_module_version": "1.5.0",
      "_model_name": "HTMLModel",
      "_view_count": null,
      "_view_module": "@jupyter-widgets/controls",
      "_view_module_version": "1.5.0",
      "_view_name": "HTMLView",
      "description": "",
      "description_tooltip": null,
      "layout": "IPY_MODEL_f9180bb0bd334199bb7ababf44acd43f",
      "placeholder": "​",
      "style": "IPY_MODEL_2d2ceee69f0b4cae99261c763fd09626",
      "value": "100%"
     }
    },
    "bef53cb8b3d7498a8b2c17abf7fea7af": {
     "model_module": "@jupyter-widgets/controls",
     "model_module_version": "1.5.0",
     "model_name": "ProgressStyleModel",
     "state": {
      "_model_module": "@jupyter-widgets/controls",
      "_model_module_version": "1.5.0",
      "_model_name": "ProgressStyleModel",
      "_view_count": null,
      "_view_module": "@jupyter-widgets/base",
      "_view_module_version": "1.2.0",
      "_view_name": "StyleView",
      "bar_color": null,
      "description_width": ""
     }
    },
    "bf14bdbc01fd4ebbae57d3b2f94aa320": {
     "model_module": "@jupyter-widgets/controls",
     "model_module_version": "1.5.0",
     "model_name": "DescriptionStyleModel",
     "state": {
      "_model_module": "@jupyter-widgets/controls",
      "_model_module_version": "1.5.0",
      "_model_name": "DescriptionStyleModel",
      "_view_count": null,
      "_view_module": "@jupyter-widgets/base",
      "_view_module_version": "1.2.0",
      "_view_name": "StyleView",
      "description_width": ""
     }
    },
    "bf67e58b6df8451091d182a763a8a234": {
     "model_module": "@jupyter-widgets/base",
     "model_module_version": "1.2.0",
     "model_name": "LayoutModel",
     "state": {
      "_model_module": "@jupyter-widgets/base",
      "_model_module_version": "1.2.0",
      "_model_name": "LayoutModel",
      "_view_count": null,
      "_view_module": "@jupyter-widgets/base",
      "_view_module_version": "1.2.0",
      "_view_name": "LayoutView",
      "align_content": null,
      "align_items": null,
      "align_self": null,
      "border": null,
      "bottom": null,
      "display": null,
      "flex": null,
      "flex_flow": null,
      "grid_area": null,
      "grid_auto_columns": null,
      "grid_auto_flow": null,
      "grid_auto_rows": null,
      "grid_column": null,
      "grid_gap": null,
      "grid_row": null,
      "grid_template_areas": null,
      "grid_template_columns": null,
      "grid_template_rows": null,
      "height": null,
      "justify_content": null,
      "justify_items": null,
      "left": null,
      "margin": null,
      "max_height": null,
      "max_width": null,
      "min_height": null,
      "min_width": null,
      "object_fit": null,
      "object_position": null,
      "order": null,
      "overflow": null,
      "overflow_x": null,
      "overflow_y": null,
      "padding": null,
      "right": null,
      "top": null,
      "visibility": null,
      "width": null
     }
    },
    "bf82e8480908411791d01eb5ed31c95d": {
     "model_module": "@jupyter-widgets/base",
     "model_module_version": "1.2.0",
     "model_name": "LayoutModel",
     "state": {
      "_model_module": "@jupyter-widgets/base",
      "_model_module_version": "1.2.0",
      "_model_name": "LayoutModel",
      "_view_count": null,
      "_view_module": "@jupyter-widgets/base",
      "_view_module_version": "1.2.0",
      "_view_name": "LayoutView",
      "align_content": null,
      "align_items": null,
      "align_self": null,
      "border": null,
      "bottom": null,
      "display": null,
      "flex": null,
      "flex_flow": null,
      "grid_area": null,
      "grid_auto_columns": null,
      "grid_auto_flow": null,
      "grid_auto_rows": null,
      "grid_column": null,
      "grid_gap": null,
      "grid_row": null,
      "grid_template_areas": null,
      "grid_template_columns": null,
      "grid_template_rows": null,
      "height": null,
      "justify_content": null,
      "justify_items": null,
      "left": null,
      "margin": null,
      "max_height": null,
      "max_width": null,
      "min_height": null,
      "min_width": null,
      "object_fit": null,
      "object_position": null,
      "order": null,
      "overflow": null,
      "overflow_x": null,
      "overflow_y": null,
      "padding": null,
      "right": null,
      "top": null,
      "visibility": null,
      "width": null
     }
    },
    "c0092847fc8d418b835c35a3a2f88487": {
     "model_module": "@jupyter-widgets/controls",
     "model_module_version": "1.5.0",
     "model_name": "ProgressStyleModel",
     "state": {
      "_model_module": "@jupyter-widgets/controls",
      "_model_module_version": "1.5.0",
      "_model_name": "ProgressStyleModel",
      "_view_count": null,
      "_view_module": "@jupyter-widgets/base",
      "_view_module_version": "1.2.0",
      "_view_name": "StyleView",
      "bar_color": null,
      "description_width": ""
     }
    },
    "c0e33df580624a1386d342aabdc279bb": {
     "model_module": "@jupyter-widgets/controls",
     "model_module_version": "1.5.0",
     "model_name": "HBoxModel",
     "state": {
      "_dom_classes": [],
      "_model_module": "@jupyter-widgets/controls",
      "_model_module_version": "1.5.0",
      "_model_name": "HBoxModel",
      "_view_count": null,
      "_view_module": "@jupyter-widgets/controls",
      "_view_module_version": "1.5.0",
      "_view_name": "HBoxView",
      "box_style": "",
      "children": [
       "IPY_MODEL_5da506f69220497cb930336cb13ea354",
       "IPY_MODEL_8ba955f9bb1944679d625fd3a1084705",
       "IPY_MODEL_9f4a810864b743b3807fb5208c0a7fd6"
      ],
      "layout": "IPY_MODEL_700e4fd350184d989107186aebc4195e"
     }
    },
    "c0f4b1f34efa437485c5b8b62f93fe6d": {
     "model_module": "@jupyter-widgets/controls",
     "model_module_version": "1.5.0",
     "model_name": "DescriptionStyleModel",
     "state": {
      "_model_module": "@jupyter-widgets/controls",
      "_model_module_version": "1.5.0",
      "_model_name": "DescriptionStyleModel",
      "_view_count": null,
      "_view_module": "@jupyter-widgets/base",
      "_view_module_version": "1.2.0",
      "_view_name": "StyleView",
      "description_width": ""
     }
    },
    "c111801fe8c14059812b7c3fc7dc56d8": {
     "model_module": "@jupyter-widgets/controls",
     "model_module_version": "1.5.0",
     "model_name": "HTMLModel",
     "state": {
      "_dom_classes": [],
      "_model_module": "@jupyter-widgets/controls",
      "_model_module_version": "1.5.0",
      "_model_name": "HTMLModel",
      "_view_count": null,
      "_view_module": "@jupyter-widgets/controls",
      "_view_module_version": "1.5.0",
      "_view_name": "HTMLView",
      "description": "",
      "description_tooltip": null,
      "layout": "IPY_MODEL_e8ad557975ed40c8b6ca4a4a7ddc45f5",
      "placeholder": "​",
      "style": "IPY_MODEL_5091792f69bb4e5996bbd6007d993663",
      "value": "Downloading: 100%"
     }
    },
    "c1399750fb1b4f248932df5678edf11e": {
     "model_module": "@jupyter-widgets/controls",
     "model_module_version": "1.5.0",
     "model_name": "HTMLModel",
     "state": {
      "_dom_classes": [],
      "_model_module": "@jupyter-widgets/controls",
      "_model_module_version": "1.5.0",
      "_model_name": "HTMLModel",
      "_view_count": null,
      "_view_module": "@jupyter-widgets/controls",
      "_view_module_version": "1.5.0",
      "_view_name": "HTMLView",
      "description": "",
      "description_tooltip": null,
      "layout": "IPY_MODEL_d906b40b2dca402eb42f5d5d9a310e5d",
      "placeholder": "​",
      "style": "IPY_MODEL_233b17fa32ac46a284955dbf2ac23a12",
      "value": "100%"
     }
    },
    "c249fb6519fe4651a3b8b50b81b079cf": {
     "model_module": "@jupyter-widgets/controls",
     "model_module_version": "1.5.0",
     "model_name": "ProgressStyleModel",
     "state": {
      "_model_module": "@jupyter-widgets/controls",
      "_model_module_version": "1.5.0",
      "_model_name": "ProgressStyleModel",
      "_view_count": null,
      "_view_module": "@jupyter-widgets/base",
      "_view_module_version": "1.2.0",
      "_view_name": "StyleView",
      "bar_color": null,
      "description_width": ""
     }
    },
    "c4e534aeb285436eb3000ab88bfe9f65": {
     "model_module": "@jupyter-widgets/controls",
     "model_module_version": "1.5.0",
     "model_name": "HTMLModel",
     "state": {
      "_dom_classes": [],
      "_model_module": "@jupyter-widgets/controls",
      "_model_module_version": "1.5.0",
      "_model_name": "HTMLModel",
      "_view_count": null,
      "_view_module": "@jupyter-widgets/controls",
      "_view_module_version": "1.5.0",
      "_view_name": "HTMLView",
      "description": "",
      "description_tooltip": null,
      "layout": "IPY_MODEL_67e98fdc00274b338eaa3d17a9d0ee53",
      "placeholder": "​",
      "style": "IPY_MODEL_a1e585df29784589a120a27e7b0496da",
      "value": "Downloading: 100%"
     }
    },
    "c4e9bb1a42884fc580396e8fc8230aeb": {
     "model_module": "@jupyter-widgets/base",
     "model_module_version": "1.2.0",
     "model_name": "LayoutModel",
     "state": {
      "_model_module": "@jupyter-widgets/base",
      "_model_module_version": "1.2.0",
      "_model_name": "LayoutModel",
      "_view_count": null,
      "_view_module": "@jupyter-widgets/base",
      "_view_module_version": "1.2.0",
      "_view_name": "LayoutView",
      "align_content": null,
      "align_items": null,
      "align_self": null,
      "border": null,
      "bottom": null,
      "display": null,
      "flex": null,
      "flex_flow": null,
      "grid_area": null,
      "grid_auto_columns": null,
      "grid_auto_flow": null,
      "grid_auto_rows": null,
      "grid_column": null,
      "grid_gap": null,
      "grid_row": null,
      "grid_template_areas": null,
      "grid_template_columns": null,
      "grid_template_rows": null,
      "height": null,
      "justify_content": null,
      "justify_items": null,
      "left": null,
      "margin": null,
      "max_height": null,
      "max_width": null,
      "min_height": null,
      "min_width": null,
      "object_fit": null,
      "object_position": null,
      "order": null,
      "overflow": null,
      "overflow_x": null,
      "overflow_y": null,
      "padding": null,
      "right": null,
      "top": null,
      "visibility": null,
      "width": null
     }
    },
    "c509e68fbb884c2a877c59f5d953feca": {
     "model_module": "@jupyter-widgets/controls",
     "model_module_version": "1.5.0",
     "model_name": "HTMLModel",
     "state": {
      "_dom_classes": [],
      "_model_module": "@jupyter-widgets/controls",
      "_model_module_version": "1.5.0",
      "_model_name": "HTMLModel",
      "_view_count": null,
      "_view_module": "@jupyter-widgets/controls",
      "_view_module_version": "1.5.0",
      "_view_name": "HTMLView",
      "description": "",
      "description_tooltip": null,
      "layout": "IPY_MODEL_512ada174c194533bf419281a909d851",
      "placeholder": "​",
      "style": "IPY_MODEL_da11b668bdb346c791ca9faf6526d3de",
      "value": " 2/2 [00:00&lt;00:00, 52.00it/s]"
     }
    },
    "c5d16385209f44aeb2fcf727b815c215": {
     "model_module": "@jupyter-widgets/controls",
     "model_module_version": "1.5.0",
     "model_name": "HBoxModel",
     "state": {
      "_dom_classes": [],
      "_model_module": "@jupyter-widgets/controls",
      "_model_module_version": "1.5.0",
      "_model_name": "HBoxModel",
      "_view_count": null,
      "_view_module": "@jupyter-widgets/controls",
      "_view_module_version": "1.5.0",
      "_view_name": "HBoxView",
      "box_style": "",
      "children": [
       "IPY_MODEL_965f60ab8f444da79c81278cd4a6fa94",
       "IPY_MODEL_b2d280213b094c6e91d9ebae794d314b",
       "IPY_MODEL_710d3474abdc45e7bb77127abc695406"
      ],
      "layout": "IPY_MODEL_828553ac56754508b7a485d920106aa2"
     }
    },
    "c749f368b8504725811f12a0ec603830": {
     "model_module": "@jupyter-widgets/controls",
     "model_module_version": "1.5.0",
     "model_name": "ProgressStyleModel",
     "state": {
      "_model_module": "@jupyter-widgets/controls",
      "_model_module_version": "1.5.0",
      "_model_name": "ProgressStyleModel",
      "_view_count": null,
      "_view_module": "@jupyter-widgets/base",
      "_view_module_version": "1.2.0",
      "_view_name": "StyleView",
      "bar_color": null,
      "description_width": ""
     }
    },
    "c84cf6683751491c95fe0f5af5b15d2a": {
     "model_module": "@jupyter-widgets/controls",
     "model_module_version": "1.5.0",
     "model_name": "DescriptionStyleModel",
     "state": {
      "_model_module": "@jupyter-widgets/controls",
      "_model_module_version": "1.5.0",
      "_model_name": "DescriptionStyleModel",
      "_view_count": null,
      "_view_module": "@jupyter-widgets/base",
      "_view_module_version": "1.2.0",
      "_view_name": "StyleView",
      "description_width": ""
     }
    },
    "c8716805d3224ccf9b28807fa333e162": {
     "model_module": "@jupyter-widgets/controls",
     "model_module_version": "1.5.0",
     "model_name": "HTMLModel",
     "state": {
      "_dom_classes": [],
      "_model_module": "@jupyter-widgets/controls",
      "_model_module_version": "1.5.0",
      "_model_name": "HTMLModel",
      "_view_count": null,
      "_view_module": "@jupyter-widgets/controls",
      "_view_module_version": "1.5.0",
      "_view_name": "HTMLView",
      "description": "",
      "description_tooltip": null,
      "layout": "IPY_MODEL_8b9e51b6eecd4c89aa9d503a5ba6c9a6",
      "placeholder": "​",
      "style": "IPY_MODEL_bafafdf415fa4b7f900a93760b0351c3",
      "value": "Downloading: 100%"
     }
    },
    "cb531327a0df452da99e5b67d4447805": {
     "model_module": "@jupyter-widgets/base",
     "model_module_version": "1.2.0",
     "model_name": "LayoutModel",
     "state": {
      "_model_module": "@jupyter-widgets/base",
      "_model_module_version": "1.2.0",
      "_model_name": "LayoutModel",
      "_view_count": null,
      "_view_module": "@jupyter-widgets/base",
      "_view_module_version": "1.2.0",
      "_view_name": "LayoutView",
      "align_content": null,
      "align_items": null,
      "align_self": null,
      "border": null,
      "bottom": null,
      "display": null,
      "flex": null,
      "flex_flow": null,
      "grid_area": null,
      "grid_auto_columns": null,
      "grid_auto_flow": null,
      "grid_auto_rows": null,
      "grid_column": null,
      "grid_gap": null,
      "grid_row": null,
      "grid_template_areas": null,
      "grid_template_columns": null,
      "grid_template_rows": null,
      "height": null,
      "justify_content": null,
      "justify_items": null,
      "left": null,
      "margin": null,
      "max_height": null,
      "max_width": null,
      "min_height": null,
      "min_width": null,
      "object_fit": null,
      "object_position": null,
      "order": null,
      "overflow": null,
      "overflow_x": null,
      "overflow_y": null,
      "padding": null,
      "right": null,
      "top": null,
      "visibility": null,
      "width": null
     }
    },
    "cb5899d6be4a45d9b5215d07bb1e1e7d": {
     "model_module": "@jupyter-widgets/controls",
     "model_module_version": "1.5.0",
     "model_name": "HBoxModel",
     "state": {
      "_dom_classes": [],
      "_model_module": "@jupyter-widgets/controls",
      "_model_module_version": "1.5.0",
      "_model_name": "HBoxModel",
      "_view_count": null,
      "_view_module": "@jupyter-widgets/controls",
      "_view_module_version": "1.5.0",
      "_view_name": "HBoxView",
      "box_style": "",
      "children": [
       "IPY_MODEL_585b753dc0e747fb947ece73ff2cb4ed",
       "IPY_MODEL_f6b31cd8b9fa413587501b9f2130ef6d",
       "IPY_MODEL_c509e68fbb884c2a877c59f5d953feca"
      ],
      "layout": "IPY_MODEL_f8666dcbaf784af9a77e646b0d02afaa"
     }
    },
    "cb6bace312cf4bc2b7d253ca8ee68800": {
     "model_module": "@jupyter-widgets/controls",
     "model_module_version": "1.5.0",
     "model_name": "DescriptionStyleModel",
     "state": {
      "_model_module": "@jupyter-widgets/controls",
      "_model_module_version": "1.5.0",
      "_model_name": "DescriptionStyleModel",
      "_view_count": null,
      "_view_module": "@jupyter-widgets/base",
      "_view_module_version": "1.2.0",
      "_view_name": "StyleView",
      "description_width": ""
     }
    },
    "cbe6b766a14d49f799b12c32dcabed42": {
     "model_module": "@jupyter-widgets/controls",
     "model_module_version": "1.5.0",
     "model_name": "ProgressStyleModel",
     "state": {
      "_model_module": "@jupyter-widgets/controls",
      "_model_module_version": "1.5.0",
      "_model_name": "ProgressStyleModel",
      "_view_count": null,
      "_view_module": "@jupyter-widgets/base",
      "_view_module_version": "1.2.0",
      "_view_name": "StyleView",
      "bar_color": null,
      "description_width": ""
     }
    },
    "cd62447d1c33458eacb315835ee1e29c": {
     "model_module": "@jupyter-widgets/base",
     "model_module_version": "1.2.0",
     "model_name": "LayoutModel",
     "state": {
      "_model_module": "@jupyter-widgets/base",
      "_model_module_version": "1.2.0",
      "_model_name": "LayoutModel",
      "_view_count": null,
      "_view_module": "@jupyter-widgets/base",
      "_view_module_version": "1.2.0",
      "_view_name": "LayoutView",
      "align_content": null,
      "align_items": null,
      "align_self": null,
      "border": null,
      "bottom": null,
      "display": null,
      "flex": null,
      "flex_flow": null,
      "grid_area": null,
      "grid_auto_columns": null,
      "grid_auto_flow": null,
      "grid_auto_rows": null,
      "grid_column": null,
      "grid_gap": null,
      "grid_row": null,
      "grid_template_areas": null,
      "grid_template_columns": null,
      "grid_template_rows": null,
      "height": null,
      "justify_content": null,
      "justify_items": null,
      "left": null,
      "margin": null,
      "max_height": null,
      "max_width": null,
      "min_height": null,
      "min_width": null,
      "object_fit": null,
      "object_position": null,
      "order": null,
      "overflow": null,
      "overflow_x": null,
      "overflow_y": null,
      "padding": null,
      "right": null,
      "top": null,
      "visibility": null,
      "width": null
     }
    },
    "cdab46f92ddc403f9250c3230417e860": {
     "model_module": "@jupyter-widgets/base",
     "model_module_version": "1.2.0",
     "model_name": "LayoutModel",
     "state": {
      "_model_module": "@jupyter-widgets/base",
      "_model_module_version": "1.2.0",
      "_model_name": "LayoutModel",
      "_view_count": null,
      "_view_module": "@jupyter-widgets/base",
      "_view_module_version": "1.2.0",
      "_view_name": "LayoutView",
      "align_content": null,
      "align_items": null,
      "align_self": null,
      "border": null,
      "bottom": null,
      "display": null,
      "flex": null,
      "flex_flow": null,
      "grid_area": null,
      "grid_auto_columns": null,
      "grid_auto_flow": null,
      "grid_auto_rows": null,
      "grid_column": null,
      "grid_gap": null,
      "grid_row": null,
      "grid_template_areas": null,
      "grid_template_columns": null,
      "grid_template_rows": null,
      "height": null,
      "justify_content": null,
      "justify_items": null,
      "left": null,
      "margin": null,
      "max_height": null,
      "max_width": null,
      "min_height": null,
      "min_width": null,
      "object_fit": null,
      "object_position": null,
      "order": null,
      "overflow": null,
      "overflow_x": null,
      "overflow_y": null,
      "padding": null,
      "right": null,
      "top": null,
      "visibility": null,
      "width": null
     }
    },
    "ce2eb949d13542e98efa5f2ef729d59e": {
     "model_module": "@jupyter-widgets/controls",
     "model_module_version": "1.5.0",
     "model_name": "DescriptionStyleModel",
     "state": {
      "_model_module": "@jupyter-widgets/controls",
      "_model_module_version": "1.5.0",
      "_model_name": "DescriptionStyleModel",
      "_view_count": null,
      "_view_module": "@jupyter-widgets/base",
      "_view_module_version": "1.2.0",
      "_view_name": "StyleView",
      "description_width": ""
     }
    },
    "cea1900e428347fd9c3e788c3759873b": {
     "model_module": "@jupyter-widgets/controls",
     "model_module_version": "1.5.0",
     "model_name": "DescriptionStyleModel",
     "state": {
      "_model_module": "@jupyter-widgets/controls",
      "_model_module_version": "1.5.0",
      "_model_name": "DescriptionStyleModel",
      "_view_count": null,
      "_view_module": "@jupyter-widgets/base",
      "_view_module_version": "1.2.0",
      "_view_name": "StyleView",
      "description_width": ""
     }
    },
    "d1a4de10cb89459d8ee2f9cd9e230033": {
     "model_module": "@jupyter-widgets/controls",
     "model_module_version": "1.5.0",
     "model_name": "DescriptionStyleModel",
     "state": {
      "_model_module": "@jupyter-widgets/controls",
      "_model_module_version": "1.5.0",
      "_model_name": "DescriptionStyleModel",
      "_view_count": null,
      "_view_module": "@jupyter-widgets/base",
      "_view_module_version": "1.2.0",
      "_view_name": "StyleView",
      "description_width": ""
     }
    },
    "d29d858a994e4458a5a073880ebc2639": {
     "model_module": "@jupyter-widgets/controls",
     "model_module_version": "1.5.0",
     "model_name": "ProgressStyleModel",
     "state": {
      "_model_module": "@jupyter-widgets/controls",
      "_model_module_version": "1.5.0",
      "_model_name": "ProgressStyleModel",
      "_view_count": null,
      "_view_module": "@jupyter-widgets/base",
      "_view_module_version": "1.2.0",
      "_view_name": "StyleView",
      "bar_color": null,
      "description_width": ""
     }
    },
    "d386a2e9c82d4905914ae8343ef74486": {
     "model_module": "@jupyter-widgets/controls",
     "model_module_version": "1.5.0",
     "model_name": "ProgressStyleModel",
     "state": {
      "_model_module": "@jupyter-widgets/controls",
      "_model_module_version": "1.5.0",
      "_model_name": "ProgressStyleModel",
      "_view_count": null,
      "_view_module": "@jupyter-widgets/base",
      "_view_module_version": "1.2.0",
      "_view_name": "StyleView",
      "bar_color": null,
      "description_width": ""
     }
    },
    "d394495d055c43298c2e09e5dc22b3d6": {
     "model_module": "@jupyter-widgets/controls",
     "model_module_version": "1.5.0",
     "model_name": "HBoxModel",
     "state": {
      "_dom_classes": [],
      "_model_module": "@jupyter-widgets/controls",
      "_model_module_version": "1.5.0",
      "_model_name": "HBoxModel",
      "_view_count": null,
      "_view_module": "@jupyter-widgets/controls",
      "_view_module_version": "1.5.0",
      "_view_name": "HBoxView",
      "box_style": "",
      "children": [
       "IPY_MODEL_c4e534aeb285436eb3000ab88bfe9f65",
       "IPY_MODEL_433eb846e56c4185b02e10201cbc48fe",
       "IPY_MODEL_4672d76f527b407d8e5e7a06a340ab52"
      ],
      "layout": "IPY_MODEL_28645b1f10cc4f3d80d92fa558892242"
     }
    },
    "d3a26a1565744f0a9fd62d2fbb3b791f": {
     "model_module": "@jupyter-widgets/controls",
     "model_module_version": "1.5.0",
     "model_name": "DescriptionStyleModel",
     "state": {
      "_model_module": "@jupyter-widgets/controls",
      "_model_module_version": "1.5.0",
      "_model_name": "DescriptionStyleModel",
      "_view_count": null,
      "_view_module": "@jupyter-widgets/base",
      "_view_module_version": "1.2.0",
      "_view_name": "StyleView",
      "description_width": ""
     }
    },
    "d5a69c36b9bd421cab8cd9fe7628e292": {
     "model_module": "@jupyter-widgets/controls",
     "model_module_version": "1.5.0",
     "model_name": "DescriptionStyleModel",
     "state": {
      "_model_module": "@jupyter-widgets/controls",
      "_model_module_version": "1.5.0",
      "_model_name": "DescriptionStyleModel",
      "_view_count": null,
      "_view_module": "@jupyter-widgets/base",
      "_view_module_version": "1.2.0",
      "_view_name": "StyleView",
      "description_width": ""
     }
    },
    "d5f30d3bfa954c2cbe56bf4852391681": {
     "model_module": "@jupyter-widgets/controls",
     "model_module_version": "1.5.0",
     "model_name": "ProgressStyleModel",
     "state": {
      "_model_module": "@jupyter-widgets/controls",
      "_model_module_version": "1.5.0",
      "_model_name": "ProgressStyleModel",
      "_view_count": null,
      "_view_module": "@jupyter-widgets/base",
      "_view_module_version": "1.2.0",
      "_view_name": "StyleView",
      "bar_color": null,
      "description_width": ""
     }
    },
    "d7829f9ec88149af98fa28b503d05802": {
     "model_module": "@jupyter-widgets/base",
     "model_module_version": "1.2.0",
     "model_name": "LayoutModel",
     "state": {
      "_model_module": "@jupyter-widgets/base",
      "_model_module_version": "1.2.0",
      "_model_name": "LayoutModel",
      "_view_count": null,
      "_view_module": "@jupyter-widgets/base",
      "_view_module_version": "1.2.0",
      "_view_name": "LayoutView",
      "align_content": null,
      "align_items": null,
      "align_self": null,
      "border": null,
      "bottom": null,
      "display": null,
      "flex": null,
      "flex_flow": null,
      "grid_area": null,
      "grid_auto_columns": null,
      "grid_auto_flow": null,
      "grid_auto_rows": null,
      "grid_column": null,
      "grid_gap": null,
      "grid_row": null,
      "grid_template_areas": null,
      "grid_template_columns": null,
      "grid_template_rows": null,
      "height": null,
      "justify_content": null,
      "justify_items": null,
      "left": null,
      "margin": null,
      "max_height": null,
      "max_width": null,
      "min_height": null,
      "min_width": null,
      "object_fit": null,
      "object_position": null,
      "order": null,
      "overflow": null,
      "overflow_x": null,
      "overflow_y": null,
      "padding": null,
      "right": null,
      "top": null,
      "visibility": null,
      "width": null
     }
    },
    "d875aad1c4634354897c1dadfa101317": {
     "model_module": "@jupyter-widgets/base",
     "model_module_version": "1.2.0",
     "model_name": "LayoutModel",
     "state": {
      "_model_module": "@jupyter-widgets/base",
      "_model_module_version": "1.2.0",
      "_model_name": "LayoutModel",
      "_view_count": null,
      "_view_module": "@jupyter-widgets/base",
      "_view_module_version": "1.2.0",
      "_view_name": "LayoutView",
      "align_content": null,
      "align_items": null,
      "align_self": null,
      "border": null,
      "bottom": null,
      "display": null,
      "flex": null,
      "flex_flow": null,
      "grid_area": null,
      "grid_auto_columns": null,
      "grid_auto_flow": null,
      "grid_auto_rows": null,
      "grid_column": null,
      "grid_gap": null,
      "grid_row": null,
      "grid_template_areas": null,
      "grid_template_columns": null,
      "grid_template_rows": null,
      "height": null,
      "justify_content": null,
      "justify_items": null,
      "left": null,
      "margin": null,
      "max_height": null,
      "max_width": null,
      "min_height": null,
      "min_width": null,
      "object_fit": null,
      "object_position": null,
      "order": null,
      "overflow": null,
      "overflow_x": null,
      "overflow_y": null,
      "padding": null,
      "right": null,
      "top": null,
      "visibility": null,
      "width": null
     }
    },
    "d906b40b2dca402eb42f5d5d9a310e5d": {
     "model_module": "@jupyter-widgets/base",
     "model_module_version": "1.2.0",
     "model_name": "LayoutModel",
     "state": {
      "_model_module": "@jupyter-widgets/base",
      "_model_module_version": "1.2.0",
      "_model_name": "LayoutModel",
      "_view_count": null,
      "_view_module": "@jupyter-widgets/base",
      "_view_module_version": "1.2.0",
      "_view_name": "LayoutView",
      "align_content": null,
      "align_items": null,
      "align_self": null,
      "border": null,
      "bottom": null,
      "display": null,
      "flex": null,
      "flex_flow": null,
      "grid_area": null,
      "grid_auto_columns": null,
      "grid_auto_flow": null,
      "grid_auto_rows": null,
      "grid_column": null,
      "grid_gap": null,
      "grid_row": null,
      "grid_template_areas": null,
      "grid_template_columns": null,
      "grid_template_rows": null,
      "height": null,
      "justify_content": null,
      "justify_items": null,
      "left": null,
      "margin": null,
      "max_height": null,
      "max_width": null,
      "min_height": null,
      "min_width": null,
      "object_fit": null,
      "object_position": null,
      "order": null,
      "overflow": null,
      "overflow_x": null,
      "overflow_y": null,
      "padding": null,
      "right": null,
      "top": null,
      "visibility": null,
      "width": null
     }
    },
    "d9af6db30f59460faeaef573eaba0e3f": {
     "model_module": "@jupyter-widgets/base",
     "model_module_version": "1.2.0",
     "model_name": "LayoutModel",
     "state": {
      "_model_module": "@jupyter-widgets/base",
      "_model_module_version": "1.2.0",
      "_model_name": "LayoutModel",
      "_view_count": null,
      "_view_module": "@jupyter-widgets/base",
      "_view_module_version": "1.2.0",
      "_view_name": "LayoutView",
      "align_content": null,
      "align_items": null,
      "align_self": null,
      "border": null,
      "bottom": null,
      "display": null,
      "flex": null,
      "flex_flow": null,
      "grid_area": null,
      "grid_auto_columns": null,
      "grid_auto_flow": null,
      "grid_auto_rows": null,
      "grid_column": null,
      "grid_gap": null,
      "grid_row": null,
      "grid_template_areas": null,
      "grid_template_columns": null,
      "grid_template_rows": null,
      "height": null,
      "justify_content": null,
      "justify_items": null,
      "left": null,
      "margin": null,
      "max_height": null,
      "max_width": null,
      "min_height": null,
      "min_width": null,
      "object_fit": null,
      "object_position": null,
      "order": null,
      "overflow": null,
      "overflow_x": null,
      "overflow_y": null,
      "padding": null,
      "right": null,
      "top": null,
      "visibility": null,
      "width": null
     }
    },
    "da11b668bdb346c791ca9faf6526d3de": {
     "model_module": "@jupyter-widgets/controls",
     "model_module_version": "1.5.0",
     "model_name": "DescriptionStyleModel",
     "state": {
      "_model_module": "@jupyter-widgets/controls",
      "_model_module_version": "1.5.0",
      "_model_name": "DescriptionStyleModel",
      "_view_count": null,
      "_view_module": "@jupyter-widgets/base",
      "_view_module_version": "1.2.0",
      "_view_name": "StyleView",
      "description_width": ""
     }
    },
    "da5af35bd4bf4696b33168b5d8121fce": {
     "model_module": "@jupyter-widgets/base",
     "model_module_version": "1.2.0",
     "model_name": "LayoutModel",
     "state": {
      "_model_module": "@jupyter-widgets/base",
      "_model_module_version": "1.2.0",
      "_model_name": "LayoutModel",
      "_view_count": null,
      "_view_module": "@jupyter-widgets/base",
      "_view_module_version": "1.2.0",
      "_view_name": "LayoutView",
      "align_content": null,
      "align_items": null,
      "align_self": null,
      "border": null,
      "bottom": null,
      "display": null,
      "flex": null,
      "flex_flow": null,
      "grid_area": null,
      "grid_auto_columns": null,
      "grid_auto_flow": null,
      "grid_auto_rows": null,
      "grid_column": null,
      "grid_gap": null,
      "grid_row": null,
      "grid_template_areas": null,
      "grid_template_columns": null,
      "grid_template_rows": null,
      "height": null,
      "justify_content": null,
      "justify_items": null,
      "left": null,
      "margin": null,
      "max_height": null,
      "max_width": null,
      "min_height": null,
      "min_width": null,
      "object_fit": null,
      "object_position": null,
      "order": null,
      "overflow": null,
      "overflow_x": null,
      "overflow_y": null,
      "padding": null,
      "right": null,
      "top": null,
      "visibility": null,
      "width": null
     }
    },
    "db8b20738f2744089eadd8b380b52ca3": {
     "model_module": "@jupyter-widgets/controls",
     "model_module_version": "1.5.0",
     "model_name": "HBoxModel",
     "state": {
      "_dom_classes": [],
      "_model_module": "@jupyter-widgets/controls",
      "_model_module_version": "1.5.0",
      "_model_name": "HBoxModel",
      "_view_count": null,
      "_view_module": "@jupyter-widgets/controls",
      "_view_module_version": "1.5.0",
      "_view_name": "HBoxView",
      "box_style": "",
      "children": [
       "IPY_MODEL_5c68bad5f20e4438a55503ed7ba902e8",
       "IPY_MODEL_740dac69e7fc4eeda5045d1b788eb58d",
       "IPY_MODEL_a297e26ab24d46bd80bede49354deacb"
      ],
      "layout": "IPY_MODEL_d7829f9ec88149af98fa28b503d05802"
     }
    },
    "ddc3774afe004d9fb57009b600e51b98": {
     "model_module": "@jupyter-widgets/base",
     "model_module_version": "1.2.0",
     "model_name": "LayoutModel",
     "state": {
      "_model_module": "@jupyter-widgets/base",
      "_model_module_version": "1.2.0",
      "_model_name": "LayoutModel",
      "_view_count": null,
      "_view_module": "@jupyter-widgets/base",
      "_view_module_version": "1.2.0",
      "_view_name": "LayoutView",
      "align_content": null,
      "align_items": null,
      "align_self": null,
      "border": null,
      "bottom": null,
      "display": null,
      "flex": null,
      "flex_flow": null,
      "grid_area": null,
      "grid_auto_columns": null,
      "grid_auto_flow": null,
      "grid_auto_rows": null,
      "grid_column": null,
      "grid_gap": null,
      "grid_row": null,
      "grid_template_areas": null,
      "grid_template_columns": null,
      "grid_template_rows": null,
      "height": null,
      "justify_content": null,
      "justify_items": null,
      "left": null,
      "margin": null,
      "max_height": null,
      "max_width": null,
      "min_height": null,
      "min_width": null,
      "object_fit": null,
      "object_position": null,
      "order": null,
      "overflow": null,
      "overflow_x": null,
      "overflow_y": null,
      "padding": null,
      "right": null,
      "top": null,
      "visibility": null,
      "width": null
     }
    },
    "e0e7d52f33fe4baa97c18b4221e097c6": {
     "model_module": "@jupyter-widgets/base",
     "model_module_version": "1.2.0",
     "model_name": "LayoutModel",
     "state": {
      "_model_module": "@jupyter-widgets/base",
      "_model_module_version": "1.2.0",
      "_model_name": "LayoutModel",
      "_view_count": null,
      "_view_module": "@jupyter-widgets/base",
      "_view_module_version": "1.2.0",
      "_view_name": "LayoutView",
      "align_content": null,
      "align_items": null,
      "align_self": null,
      "border": null,
      "bottom": null,
      "display": null,
      "flex": null,
      "flex_flow": null,
      "grid_area": null,
      "grid_auto_columns": null,
      "grid_auto_flow": null,
      "grid_auto_rows": null,
      "grid_column": null,
      "grid_gap": null,
      "grid_row": null,
      "grid_template_areas": null,
      "grid_template_columns": null,
      "grid_template_rows": null,
      "height": null,
      "justify_content": null,
      "justify_items": null,
      "left": null,
      "margin": null,
      "max_height": null,
      "max_width": null,
      "min_height": null,
      "min_width": null,
      "object_fit": null,
      "object_position": null,
      "order": null,
      "overflow": null,
      "overflow_x": null,
      "overflow_y": null,
      "padding": null,
      "right": null,
      "top": null,
      "visibility": null,
      "width": null
     }
    },
    "e41df5f5f97643c68d1a2a94668826bd": {
     "model_module": "@jupyter-widgets/controls",
     "model_module_version": "1.5.0",
     "model_name": "HBoxModel",
     "state": {
      "_dom_classes": [],
      "_model_module": "@jupyter-widgets/controls",
      "_model_module_version": "1.5.0",
      "_model_name": "HBoxModel",
      "_view_count": null,
      "_view_module": "@jupyter-widgets/controls",
      "_view_module_version": "1.5.0",
      "_view_name": "HBoxView",
      "box_style": "",
      "children": [
       "IPY_MODEL_0c708f47004b4001a455b78e83155f0d",
       "IPY_MODEL_0523b361f33f4baebee9b2d4c48dc7d2",
       "IPY_MODEL_b1b28222d3464b29bf3b780db5eda7d5"
      ],
      "layout": "IPY_MODEL_811f9383962842c5b2dfb426fd540a6b"
     }
    },
    "e60ef64ac3f4484d9c47edbc3ca65311": {
     "model_module": "@jupyter-widgets/controls",
     "model_module_version": "1.5.0",
     "model_name": "FloatProgressModel",
     "state": {
      "_dom_classes": [],
      "_model_module": "@jupyter-widgets/controls",
      "_model_module_version": "1.5.0",
      "_model_name": "FloatProgressModel",
      "_view_count": null,
      "_view_module": "@jupyter-widgets/controls",
      "_view_module_version": "1.5.0",
      "_view_name": "ProgressView",
      "bar_style": "success",
      "description": "",
      "description_tooltip": null,
      "layout": "IPY_MODEL_735dbdaf60dd4254a3772da68394ebd6",
      "max": 231508,
      "min": 0,
      "orientation": "horizontal",
      "style": "IPY_MODEL_525ad78991e044fcb29160ff6aa98c6f",
      "value": 231508
     }
    },
    "e65b19eb2b644c1fa023ab7ee1e01e6e": {
     "model_module": "@jupyter-widgets/controls",
     "model_module_version": "1.5.0",
     "model_name": "HTMLModel",
     "state": {
      "_dom_classes": [],
      "_model_module": "@jupyter-widgets/controls",
      "_model_module_version": "1.5.0",
      "_model_name": "HTMLModel",
      "_view_count": null,
      "_view_module": "@jupyter-widgets/controls",
      "_view_module_version": "1.5.0",
      "_view_name": "HTMLView",
      "description": "",
      "description_tooltip": null,
      "layout": "IPY_MODEL_feea9385d5b5403eb26a082f52aab157",
      "placeholder": "​",
      "style": "IPY_MODEL_fd656b459f0a4557b2648894cb6ccf1e",
      "value": " 226k/226k [00:00&lt;00:00, 746kB/s]"
     }
    },
    "e72f707f082f4298a3e7952c51dfc766": {
     "model_module": "@jupyter-widgets/controls",
     "model_module_version": "1.5.0",
     "model_name": "HBoxModel",
     "state": {
      "_dom_classes": [],
      "_model_module": "@jupyter-widgets/controls",
      "_model_module_version": "1.5.0",
      "_model_name": "HBoxModel",
      "_view_count": null,
      "_view_module": "@jupyter-widgets/controls",
      "_view_module_version": "1.5.0",
      "_view_name": "HBoxView",
      "box_style": "",
      "children": [
       "IPY_MODEL_31583f39321149ec95a9d675ea70a033",
       "IPY_MODEL_afa1fa9a3e0f41f48f33edbc75917caf",
       "IPY_MODEL_6d7e10fa8f3a483d916d0bf8cadaaea5"
      ],
      "layout": "IPY_MODEL_9893999e7b23427a84cba1c420bc467b"
     }
    },
    "e749cf9b8d3345a9b6023cb4003a8534": {
     "model_module": "@jupyter-widgets/controls",
     "model_module_version": "1.5.0",
     "model_name": "HTMLModel",
     "state": {
      "_dom_classes": [],
      "_model_module": "@jupyter-widgets/controls",
      "_model_module_version": "1.5.0",
      "_model_name": "HTMLModel",
      "_view_count": null,
      "_view_module": "@jupyter-widgets/controls",
      "_view_module_version": "1.5.0",
      "_view_name": "HTMLView",
      "description": "",
      "description_tooltip": null,
      "layout": "IPY_MODEL_cd62447d1c33458eacb315835ee1e29c",
      "placeholder": "​",
      "style": "IPY_MODEL_7cd5977d4564465fb85e5574d6e39102",
      "value": " 28.0/28.0 [00:00&lt;00:00, 827B/s]"
     }
    },
    "e8630ba561a64fc1b9cd0f136a7c4918": {
     "model_module": "@jupyter-widgets/base",
     "model_module_version": "1.2.0",
     "model_name": "LayoutModel",
     "state": {
      "_model_module": "@jupyter-widgets/base",
      "_model_module_version": "1.2.0",
      "_model_name": "LayoutModel",
      "_view_count": null,
      "_view_module": "@jupyter-widgets/base",
      "_view_module_version": "1.2.0",
      "_view_name": "LayoutView",
      "align_content": null,
      "align_items": null,
      "align_self": null,
      "border": null,
      "bottom": null,
      "display": null,
      "flex": null,
      "flex_flow": null,
      "grid_area": null,
      "grid_auto_columns": null,
      "grid_auto_flow": null,
      "grid_auto_rows": null,
      "grid_column": null,
      "grid_gap": null,
      "grid_row": null,
      "grid_template_areas": null,
      "grid_template_columns": null,
      "grid_template_rows": null,
      "height": null,
      "justify_content": null,
      "justify_items": null,
      "left": null,
      "margin": null,
      "max_height": null,
      "max_width": null,
      "min_height": null,
      "min_width": null,
      "object_fit": null,
      "object_position": null,
      "order": null,
      "overflow": null,
      "overflow_x": null,
      "overflow_y": null,
      "padding": null,
      "right": null,
      "top": null,
      "visibility": null,
      "width": null
     }
    },
    "e8ad557975ed40c8b6ca4a4a7ddc45f5": {
     "model_module": "@jupyter-widgets/base",
     "model_module_version": "1.2.0",
     "model_name": "LayoutModel",
     "state": {
      "_model_module": "@jupyter-widgets/base",
      "_model_module_version": "1.2.0",
      "_model_name": "LayoutModel",
      "_view_count": null,
      "_view_module": "@jupyter-widgets/base",
      "_view_module_version": "1.2.0",
      "_view_name": "LayoutView",
      "align_content": null,
      "align_items": null,
      "align_self": null,
      "border": null,
      "bottom": null,
      "display": null,
      "flex": null,
      "flex_flow": null,
      "grid_area": null,
      "grid_auto_columns": null,
      "grid_auto_flow": null,
      "grid_auto_rows": null,
      "grid_column": null,
      "grid_gap": null,
      "grid_row": null,
      "grid_template_areas": null,
      "grid_template_columns": null,
      "grid_template_rows": null,
      "height": null,
      "justify_content": null,
      "justify_items": null,
      "left": null,
      "margin": null,
      "max_height": null,
      "max_width": null,
      "min_height": null,
      "min_width": null,
      "object_fit": null,
      "object_position": null,
      "order": null,
      "overflow": null,
      "overflow_x": null,
      "overflow_y": null,
      "padding": null,
      "right": null,
      "top": null,
      "visibility": null,
      "width": null
     }
    },
    "e8c74204ab2c499580cf33da71749644": {
     "model_module": "@jupyter-widgets/base",
     "model_module_version": "1.2.0",
     "model_name": "LayoutModel",
     "state": {
      "_model_module": "@jupyter-widgets/base",
      "_model_module_version": "1.2.0",
      "_model_name": "LayoutModel",
      "_view_count": null,
      "_view_module": "@jupyter-widgets/base",
      "_view_module_version": "1.2.0",
      "_view_name": "LayoutView",
      "align_content": null,
      "align_items": null,
      "align_self": null,
      "border": null,
      "bottom": null,
      "display": null,
      "flex": null,
      "flex_flow": null,
      "grid_area": null,
      "grid_auto_columns": null,
      "grid_auto_flow": null,
      "grid_auto_rows": null,
      "grid_column": null,
      "grid_gap": null,
      "grid_row": null,
      "grid_template_areas": null,
      "grid_template_columns": null,
      "grid_template_rows": null,
      "height": null,
      "justify_content": null,
      "justify_items": null,
      "left": null,
      "margin": null,
      "max_height": null,
      "max_width": null,
      "min_height": null,
      "min_width": null,
      "object_fit": null,
      "object_position": null,
      "order": null,
      "overflow": null,
      "overflow_x": null,
      "overflow_y": null,
      "padding": null,
      "right": null,
      "top": null,
      "visibility": null,
      "width": null
     }
    },
    "e9217e7561874aed89d4951a1778b866": {
     "model_module": "@jupyter-widgets/controls",
     "model_module_version": "1.5.0",
     "model_name": "DescriptionStyleModel",
     "state": {
      "_model_module": "@jupyter-widgets/controls",
      "_model_module_version": "1.5.0",
      "_model_name": "DescriptionStyleModel",
      "_view_count": null,
      "_view_module": "@jupyter-widgets/base",
      "_view_module_version": "1.2.0",
      "_view_name": "StyleView",
      "description_width": ""
     }
    },
    "eb5e2fba6b584d7da07859598df07a5a": {
     "model_module": "@jupyter-widgets/controls",
     "model_module_version": "1.5.0",
     "model_name": "DescriptionStyleModel",
     "state": {
      "_model_module": "@jupyter-widgets/controls",
      "_model_module_version": "1.5.0",
      "_model_name": "DescriptionStyleModel",
      "_view_count": null,
      "_view_module": "@jupyter-widgets/base",
      "_view_module_version": "1.2.0",
      "_view_name": "StyleView",
      "description_width": ""
     }
    },
    "ed03a95a6e2540b58eb8d7d7ec9e0d88": {
     "model_module": "@jupyter-widgets/base",
     "model_module_version": "1.2.0",
     "model_name": "LayoutModel",
     "state": {
      "_model_module": "@jupyter-widgets/base",
      "_model_module_version": "1.2.0",
      "_model_name": "LayoutModel",
      "_view_count": null,
      "_view_module": "@jupyter-widgets/base",
      "_view_module_version": "1.2.0",
      "_view_name": "LayoutView",
      "align_content": null,
      "align_items": null,
      "align_self": null,
      "border": null,
      "bottom": null,
      "display": null,
      "flex": null,
      "flex_flow": null,
      "grid_area": null,
      "grid_auto_columns": null,
      "grid_auto_flow": null,
      "grid_auto_rows": null,
      "grid_column": null,
      "grid_gap": null,
      "grid_row": null,
      "grid_template_areas": null,
      "grid_template_columns": null,
      "grid_template_rows": null,
      "height": null,
      "justify_content": null,
      "justify_items": null,
      "left": null,
      "margin": null,
      "max_height": null,
      "max_width": null,
      "min_height": null,
      "min_width": null,
      "object_fit": null,
      "object_position": null,
      "order": null,
      "overflow": null,
      "overflow_x": null,
      "overflow_y": null,
      "padding": null,
      "right": null,
      "top": null,
      "visibility": null,
      "width": null
     }
    },
    "ef34a012c3b24d9693e7a389000b2818": {
     "model_module": "@jupyter-widgets/base",
     "model_module_version": "1.2.0",
     "model_name": "LayoutModel",
     "state": {
      "_model_module": "@jupyter-widgets/base",
      "_model_module_version": "1.2.0",
      "_model_name": "LayoutModel",
      "_view_count": null,
      "_view_module": "@jupyter-widgets/base",
      "_view_module_version": "1.2.0",
      "_view_name": "LayoutView",
      "align_content": null,
      "align_items": null,
      "align_self": null,
      "border": null,
      "bottom": null,
      "display": null,
      "flex": null,
      "flex_flow": null,
      "grid_area": null,
      "grid_auto_columns": null,
      "grid_auto_flow": null,
      "grid_auto_rows": null,
      "grid_column": null,
      "grid_gap": null,
      "grid_row": null,
      "grid_template_areas": null,
      "grid_template_columns": null,
      "grid_template_rows": null,
      "height": null,
      "justify_content": null,
      "justify_items": null,
      "left": null,
      "margin": null,
      "max_height": null,
      "max_width": null,
      "min_height": null,
      "min_width": null,
      "object_fit": null,
      "object_position": null,
      "order": null,
      "overflow": null,
      "overflow_x": null,
      "overflow_y": null,
      "padding": null,
      "right": null,
      "top": null,
      "visibility": null,
      "width": null
     }
    },
    "ef4f7d8103124fc5a71718691b9fec21": {
     "model_module": "@jupyter-widgets/controls",
     "model_module_version": "1.5.0",
     "model_name": "HTMLModel",
     "state": {
      "_dom_classes": [],
      "_model_module": "@jupyter-widgets/controls",
      "_model_module_version": "1.5.0",
      "_model_name": "HTMLModel",
      "_view_count": null,
      "_view_module": "@jupyter-widgets/controls",
      "_view_module_version": "1.5.0",
      "_view_name": "HTMLView",
      "description": "",
      "description_tooltip": null,
      "layout": "IPY_MODEL_bf67e58b6df8451091d182a763a8a234",
      "placeholder": "​",
      "style": "IPY_MODEL_520dd72f15f5494f990aa1c3b5cf18e3",
      "value": " 481/481 [00:00&lt;00:00, 13.8kB/s]"
     }
    },
    "f199ed5038084eddb874ded45f88c9a2": {
     "model_module": "@jupyter-widgets/base",
     "model_module_version": "1.2.0",
     "model_name": "LayoutModel",
     "state": {
      "_model_module": "@jupyter-widgets/base",
      "_model_module_version": "1.2.0",
      "_model_name": "LayoutModel",
      "_view_count": null,
      "_view_module": "@jupyter-widgets/base",
      "_view_module_version": "1.2.0",
      "_view_name": "LayoutView",
      "align_content": null,
      "align_items": null,
      "align_self": null,
      "border": null,
      "bottom": null,
      "display": null,
      "flex": null,
      "flex_flow": null,
      "grid_area": null,
      "grid_auto_columns": null,
      "grid_auto_flow": null,
      "grid_auto_rows": null,
      "grid_column": null,
      "grid_gap": null,
      "grid_row": null,
      "grid_template_areas": null,
      "grid_template_columns": null,
      "grid_template_rows": null,
      "height": null,
      "justify_content": null,
      "justify_items": null,
      "left": null,
      "margin": null,
      "max_height": null,
      "max_width": null,
      "min_height": null,
      "min_width": null,
      "object_fit": null,
      "object_position": null,
      "order": null,
      "overflow": null,
      "overflow_x": null,
      "overflow_y": null,
      "padding": null,
      "right": null,
      "top": null,
      "visibility": null,
      "width": null
     }
    },
    "f2c5e55fbad24685ba0c3b5b06616ed4": {
     "model_module": "@jupyter-widgets/base",
     "model_module_version": "1.2.0",
     "model_name": "LayoutModel",
     "state": {
      "_model_module": "@jupyter-widgets/base",
      "_model_module_version": "1.2.0",
      "_model_name": "LayoutModel",
      "_view_count": null,
      "_view_module": "@jupyter-widgets/base",
      "_view_module_version": "1.2.0",
      "_view_name": "LayoutView",
      "align_content": null,
      "align_items": null,
      "align_self": null,
      "border": null,
      "bottom": null,
      "display": null,
      "flex": null,
      "flex_flow": null,
      "grid_area": null,
      "grid_auto_columns": null,
      "grid_auto_flow": null,
      "grid_auto_rows": null,
      "grid_column": null,
      "grid_gap": null,
      "grid_row": null,
      "grid_template_areas": null,
      "grid_template_columns": null,
      "grid_template_rows": null,
      "height": null,
      "justify_content": null,
      "justify_items": null,
      "left": null,
      "margin": null,
      "max_height": null,
      "max_width": null,
      "min_height": null,
      "min_width": null,
      "object_fit": null,
      "object_position": null,
      "order": null,
      "overflow": null,
      "overflow_x": null,
      "overflow_y": null,
      "padding": null,
      "right": null,
      "top": null,
      "visibility": null,
      "width": null
     }
    },
    "f6b31cd8b9fa413587501b9f2130ef6d": {
     "model_module": "@jupyter-widgets/controls",
     "model_module_version": "1.5.0",
     "model_name": "FloatProgressModel",
     "state": {
      "_dom_classes": [],
      "_model_module": "@jupyter-widgets/controls",
      "_model_module_version": "1.5.0",
      "_model_name": "FloatProgressModel",
      "_view_count": null,
      "_view_module": "@jupyter-widgets/controls",
      "_view_module_version": "1.5.0",
      "_view_name": "ProgressView",
      "bar_style": "success",
      "description": "",
      "description_tooltip": null,
      "layout": "IPY_MODEL_0799fd8637c2482e8c5210d6ad9a706a",
      "max": 2,
      "min": 0,
      "orientation": "horizontal",
      "style": "IPY_MODEL_bef53cb8b3d7498a8b2c17abf7fea7af",
      "value": 2
     }
    },
    "f717ce3a057e4f0e9e872c49041738cb": {
     "model_module": "@jupyter-widgets/base",
     "model_module_version": "1.2.0",
     "model_name": "LayoutModel",
     "state": {
      "_model_module": "@jupyter-widgets/base",
      "_model_module_version": "1.2.0",
      "_model_name": "LayoutModel",
      "_view_count": null,
      "_view_module": "@jupyter-widgets/base",
      "_view_module_version": "1.2.0",
      "_view_name": "LayoutView",
      "align_content": null,
      "align_items": null,
      "align_self": null,
      "border": null,
      "bottom": null,
      "display": null,
      "flex": null,
      "flex_flow": null,
      "grid_area": null,
      "grid_auto_columns": null,
      "grid_auto_flow": null,
      "grid_auto_rows": null,
      "grid_column": null,
      "grid_gap": null,
      "grid_row": null,
      "grid_template_areas": null,
      "grid_template_columns": null,
      "grid_template_rows": null,
      "height": null,
      "justify_content": null,
      "justify_items": null,
      "left": null,
      "margin": null,
      "max_height": null,
      "max_width": null,
      "min_height": null,
      "min_width": null,
      "object_fit": null,
      "object_position": null,
      "order": null,
      "overflow": null,
      "overflow_x": null,
      "overflow_y": null,
      "padding": null,
      "right": null,
      "top": null,
      "visibility": null,
      "width": null
     }
    },
    "f84bb386c16d46c3b4b47ec70c568aab": {
     "model_module": "@jupyter-widgets/controls",
     "model_module_version": "1.5.0",
     "model_name": "DescriptionStyleModel",
     "state": {
      "_model_module": "@jupyter-widgets/controls",
      "_model_module_version": "1.5.0",
      "_model_name": "DescriptionStyleModel",
      "_view_count": null,
      "_view_module": "@jupyter-widgets/base",
      "_view_module_version": "1.2.0",
      "_view_name": "StyleView",
      "description_width": ""
     }
    },
    "f85ca496bc2f4dbc9d949184ed252e36": {
     "model_module": "@jupyter-widgets/controls",
     "model_module_version": "1.5.0",
     "model_name": "HBoxModel",
     "state": {
      "_dom_classes": [],
      "_model_module": "@jupyter-widgets/controls",
      "_model_module_version": "1.5.0",
      "_model_name": "HBoxModel",
      "_view_count": null,
      "_view_module": "@jupyter-widgets/controls",
      "_view_module_version": "1.5.0",
      "_view_name": "HBoxView",
      "box_style": "",
      "children": [
       "IPY_MODEL_c111801fe8c14059812b7c3fc7dc56d8",
       "IPY_MODEL_4b26b7b0ba9d49e984bbc0119bcddcb5",
       "IPY_MODEL_fd9f5644e16342ae9a1d2f41cac3bec2"
      ],
      "layout": "IPY_MODEL_8e0a401df7344d599c182d375c0ad61a"
     }
    },
    "f8666dcbaf784af9a77e646b0d02afaa": {
     "model_module": "@jupyter-widgets/base",
     "model_module_version": "1.2.0",
     "model_name": "LayoutModel",
     "state": {
      "_model_module": "@jupyter-widgets/base",
      "_model_module_version": "1.2.0",
      "_model_name": "LayoutModel",
      "_view_count": null,
      "_view_module": "@jupyter-widgets/base",
      "_view_module_version": "1.2.0",
      "_view_name": "LayoutView",
      "align_content": null,
      "align_items": null,
      "align_self": null,
      "border": null,
      "bottom": null,
      "display": null,
      "flex": null,
      "flex_flow": null,
      "grid_area": null,
      "grid_auto_columns": null,
      "grid_auto_flow": null,
      "grid_auto_rows": null,
      "grid_column": null,
      "grid_gap": null,
      "grid_row": null,
      "grid_template_areas": null,
      "grid_template_columns": null,
      "grid_template_rows": null,
      "height": null,
      "justify_content": null,
      "justify_items": null,
      "left": null,
      "margin": null,
      "max_height": null,
      "max_width": null,
      "min_height": null,
      "min_width": null,
      "object_fit": null,
      "object_position": null,
      "order": null,
      "overflow": null,
      "overflow_x": null,
      "overflow_y": null,
      "padding": null,
      "right": null,
      "top": null,
      "visibility": null,
      "width": null
     }
    },
    "f894cdda1b3c4383bfa2492f22b6b8dc": {
     "model_module": "@jupyter-widgets/controls",
     "model_module_version": "1.5.0",
     "model_name": "HBoxModel",
     "state": {
      "_dom_classes": [],
      "_model_module": "@jupyter-widgets/controls",
      "_model_module_version": "1.5.0",
      "_model_name": "HBoxModel",
      "_view_count": null,
      "_view_module": "@jupyter-widgets/controls",
      "_view_module_version": "1.5.0",
      "_view_name": "HBoxView",
      "box_style": "",
      "children": [
       "IPY_MODEL_c8716805d3224ccf9b28807fa333e162",
       "IPY_MODEL_ff07a66ed9ab42eb8c91a0aec1df57c7",
       "IPY_MODEL_7a817e2fe6d040abb1ab78d1dfe850c9"
      ],
      "layout": "IPY_MODEL_e8630ba561a64fc1b9cd0f136a7c4918"
     }
    },
    "f8c8ed2177bf496ebcc58657e297a8e5": {
     "model_module": "@jupyter-widgets/controls",
     "model_module_version": "1.5.0",
     "model_name": "DescriptionStyleModel",
     "state": {
      "_model_module": "@jupyter-widgets/controls",
      "_model_module_version": "1.5.0",
      "_model_name": "DescriptionStyleModel",
      "_view_count": null,
      "_view_module": "@jupyter-widgets/base",
      "_view_module_version": "1.2.0",
      "_view_name": "StyleView",
      "description_width": ""
     }
    },
    "f9180bb0bd334199bb7ababf44acd43f": {
     "model_module": "@jupyter-widgets/base",
     "model_module_version": "1.2.0",
     "model_name": "LayoutModel",
     "state": {
      "_model_module": "@jupyter-widgets/base",
      "_model_module_version": "1.2.0",
      "_model_name": "LayoutModel",
      "_view_count": null,
      "_view_module": "@jupyter-widgets/base",
      "_view_module_version": "1.2.0",
      "_view_name": "LayoutView",
      "align_content": null,
      "align_items": null,
      "align_self": null,
      "border": null,
      "bottom": null,
      "display": null,
      "flex": null,
      "flex_flow": null,
      "grid_area": null,
      "grid_auto_columns": null,
      "grid_auto_flow": null,
      "grid_auto_rows": null,
      "grid_column": null,
      "grid_gap": null,
      "grid_row": null,
      "grid_template_areas": null,
      "grid_template_columns": null,
      "grid_template_rows": null,
      "height": null,
      "justify_content": null,
      "justify_items": null,
      "left": null,
      "margin": null,
      "max_height": null,
      "max_width": null,
      "min_height": null,
      "min_width": null,
      "object_fit": null,
      "object_position": null,
      "order": null,
      "overflow": null,
      "overflow_x": null,
      "overflow_y": null,
      "padding": null,
      "right": null,
      "top": null,
      "visibility": null,
      "width": null
     }
    },
    "f9d713c5f1334107a881bbf471034564": {
     "model_module": "@jupyter-widgets/base",
     "model_module_version": "1.2.0",
     "model_name": "LayoutModel",
     "state": {
      "_model_module": "@jupyter-widgets/base",
      "_model_module_version": "1.2.0",
      "_model_name": "LayoutModel",
      "_view_count": null,
      "_view_module": "@jupyter-widgets/base",
      "_view_module_version": "1.2.0",
      "_view_name": "LayoutView",
      "align_content": null,
      "align_items": null,
      "align_self": null,
      "border": null,
      "bottom": null,
      "display": null,
      "flex": null,
      "flex_flow": null,
      "grid_area": null,
      "grid_auto_columns": null,
      "grid_auto_flow": null,
      "grid_auto_rows": null,
      "grid_column": null,
      "grid_gap": null,
      "grid_row": null,
      "grid_template_areas": null,
      "grid_template_columns": null,
      "grid_template_rows": null,
      "height": null,
      "justify_content": null,
      "justify_items": null,
      "left": null,
      "margin": null,
      "max_height": null,
      "max_width": null,
      "min_height": null,
      "min_width": null,
      "object_fit": null,
      "object_position": null,
      "order": null,
      "overflow": null,
      "overflow_x": null,
      "overflow_y": null,
      "padding": null,
      "right": null,
      "top": null,
      "visibility": null,
      "width": null
     }
    },
    "faf6e5091109448394b226467c12f902": {
     "model_module": "@jupyter-widgets/base",
     "model_module_version": "1.2.0",
     "model_name": "LayoutModel",
     "state": {
      "_model_module": "@jupyter-widgets/base",
      "_model_module_version": "1.2.0",
      "_model_name": "LayoutModel",
      "_view_count": null,
      "_view_module": "@jupyter-widgets/base",
      "_view_module_version": "1.2.0",
      "_view_name": "LayoutView",
      "align_content": null,
      "align_items": null,
      "align_self": null,
      "border": null,
      "bottom": null,
      "display": null,
      "flex": null,
      "flex_flow": null,
      "grid_area": null,
      "grid_auto_columns": null,
      "grid_auto_flow": null,
      "grid_auto_rows": null,
      "grid_column": null,
      "grid_gap": null,
      "grid_row": null,
      "grid_template_areas": null,
      "grid_template_columns": null,
      "grid_template_rows": null,
      "height": null,
      "justify_content": null,
      "justify_items": null,
      "left": null,
      "margin": null,
      "max_height": null,
      "max_width": null,
      "min_height": null,
      "min_width": null,
      "object_fit": null,
      "object_position": null,
      "order": null,
      "overflow": null,
      "overflow_x": null,
      "overflow_y": null,
      "padding": null,
      "right": null,
      "top": null,
      "visibility": null,
      "width": null
     }
    },
    "fbec4beb5624479a93962113a403d575": {
     "model_module": "@jupyter-widgets/base",
     "model_module_version": "1.2.0",
     "model_name": "LayoutModel",
     "state": {
      "_model_module": "@jupyter-widgets/base",
      "_model_module_version": "1.2.0",
      "_model_name": "LayoutModel",
      "_view_count": null,
      "_view_module": "@jupyter-widgets/base",
      "_view_module_version": "1.2.0",
      "_view_name": "LayoutView",
      "align_content": null,
      "align_items": null,
      "align_self": null,
      "border": null,
      "bottom": null,
      "display": null,
      "flex": null,
      "flex_flow": null,
      "grid_area": null,
      "grid_auto_columns": null,
      "grid_auto_flow": null,
      "grid_auto_rows": null,
      "grid_column": null,
      "grid_gap": null,
      "grid_row": null,
      "grid_template_areas": null,
      "grid_template_columns": null,
      "grid_template_rows": null,
      "height": null,
      "justify_content": null,
      "justify_items": null,
      "left": null,
      "margin": null,
      "max_height": null,
      "max_width": null,
      "min_height": null,
      "min_width": null,
      "object_fit": null,
      "object_position": null,
      "order": null,
      "overflow": null,
      "overflow_x": null,
      "overflow_y": null,
      "padding": null,
      "right": null,
      "top": null,
      "visibility": null,
      "width": null
     }
    },
    "fcc31bbfa93f4ce7a1370a8a6c875dbc": {
     "model_module": "@jupyter-widgets/controls",
     "model_module_version": "1.5.0",
     "model_name": "FloatProgressModel",
     "state": {
      "_dom_classes": [],
      "_model_module": "@jupyter-widgets/controls",
      "_model_module_version": "1.5.0",
      "_model_name": "FloatProgressModel",
      "_view_count": null,
      "_view_module": "@jupyter-widgets/controls",
      "_view_module_version": "1.5.0",
      "_view_name": "ProgressView",
      "bar_style": "success",
      "description": "",
      "description_tooltip": null,
      "layout": "IPY_MODEL_8aa64fb7f8bc4c07bd1d511e83e88fb3",
      "max": 231508,
      "min": 0,
      "orientation": "horizontal",
      "style": "IPY_MODEL_c249fb6519fe4651a3b8b50b81b079cf",
      "value": 231508
     }
    },
    "fccdd1fef44b4b7180fe91791e482c72": {
     "model_module": "@jupyter-widgets/controls",
     "model_module_version": "1.5.0",
     "model_name": "ProgressStyleModel",
     "state": {
      "_model_module": "@jupyter-widgets/controls",
      "_model_module_version": "1.5.0",
      "_model_name": "ProgressStyleModel",
      "_view_count": null,
      "_view_module": "@jupyter-widgets/base",
      "_view_module_version": "1.2.0",
      "_view_name": "StyleView",
      "bar_color": null,
      "description_width": ""
     }
    },
    "fd4dfebe5d3249bc91e456a45a7e782a": {
     "model_module": "@jupyter-widgets/controls",
     "model_module_version": "1.5.0",
     "model_name": "HBoxModel",
     "state": {
      "_dom_classes": [],
      "_model_module": "@jupyter-widgets/controls",
      "_model_module_version": "1.5.0",
      "_model_name": "HBoxModel",
      "_view_count": null,
      "_view_module": "@jupyter-widgets/controls",
      "_view_module_version": "1.5.0",
      "_view_name": "HBoxView",
      "box_style": "",
      "children": [
       "IPY_MODEL_3e0db2441f6b445cb25786429186a5f4",
       "IPY_MODEL_1dce54ce48594c4087541a800531696d",
       "IPY_MODEL_1626e3043d58456d98b311f53cf7a323"
      ],
      "layout": "IPY_MODEL_cb531327a0df452da99e5b67d4447805"
     }
    },
    "fd50e865a14346448dd3f3cf48e3961f": {
     "model_module": "@jupyter-widgets/base",
     "model_module_version": "1.2.0",
     "model_name": "LayoutModel",
     "state": {
      "_model_module": "@jupyter-widgets/base",
      "_model_module_version": "1.2.0",
      "_model_name": "LayoutModel",
      "_view_count": null,
      "_view_module": "@jupyter-widgets/base",
      "_view_module_version": "1.2.0",
      "_view_name": "LayoutView",
      "align_content": null,
      "align_items": null,
      "align_self": null,
      "border": null,
      "bottom": null,
      "display": null,
      "flex": null,
      "flex_flow": null,
      "grid_area": null,
      "grid_auto_columns": null,
      "grid_auto_flow": null,
      "grid_auto_rows": null,
      "grid_column": null,
      "grid_gap": null,
      "grid_row": null,
      "grid_template_areas": null,
      "grid_template_columns": null,
      "grid_template_rows": null,
      "height": null,
      "justify_content": null,
      "justify_items": null,
      "left": null,
      "margin": null,
      "max_height": null,
      "max_width": null,
      "min_height": null,
      "min_width": null,
      "object_fit": null,
      "object_position": null,
      "order": null,
      "overflow": null,
      "overflow_x": null,
      "overflow_y": null,
      "padding": null,
      "right": null,
      "top": null,
      "visibility": null,
      "width": null
     }
    },
    "fd656b459f0a4557b2648894cb6ccf1e": {
     "model_module": "@jupyter-widgets/controls",
     "model_module_version": "1.5.0",
     "model_name": "DescriptionStyleModel",
     "state": {
      "_model_module": "@jupyter-widgets/controls",
      "_model_module_version": "1.5.0",
      "_model_name": "DescriptionStyleModel",
      "_view_count": null,
      "_view_module": "@jupyter-widgets/base",
      "_view_module_version": "1.2.0",
      "_view_name": "StyleView",
      "description_width": ""
     }
    },
    "fd8ac45696e84f949ea13d690b15e884": {
     "model_module": "@jupyter-widgets/base",
     "model_module_version": "1.2.0",
     "model_name": "LayoutModel",
     "state": {
      "_model_module": "@jupyter-widgets/base",
      "_model_module_version": "1.2.0",
      "_model_name": "LayoutModel",
      "_view_count": null,
      "_view_module": "@jupyter-widgets/base",
      "_view_module_version": "1.2.0",
      "_view_name": "LayoutView",
      "align_content": null,
      "align_items": null,
      "align_self": null,
      "border": null,
      "bottom": null,
      "display": null,
      "flex": null,
      "flex_flow": null,
      "grid_area": null,
      "grid_auto_columns": null,
      "grid_auto_flow": null,
      "grid_auto_rows": null,
      "grid_column": null,
      "grid_gap": null,
      "grid_row": null,
      "grid_template_areas": null,
      "grid_template_columns": null,
      "grid_template_rows": null,
      "height": null,
      "justify_content": null,
      "justify_items": null,
      "left": null,
      "margin": null,
      "max_height": null,
      "max_width": null,
      "min_height": null,
      "min_width": null,
      "object_fit": null,
      "object_position": null,
      "order": null,
      "overflow": null,
      "overflow_x": null,
      "overflow_y": null,
      "padding": null,
      "right": null,
      "top": null,
      "visibility": null,
      "width": null
     }
    },
    "fd9f5644e16342ae9a1d2f41cac3bec2": {
     "model_module": "@jupyter-widgets/controls",
     "model_module_version": "1.5.0",
     "model_name": "HTMLModel",
     "state": {
      "_dom_classes": [],
      "_model_module": "@jupyter-widgets/controls",
      "_model_module_version": "1.5.0",
      "_model_name": "HTMLModel",
      "_view_count": null,
      "_view_module": "@jupyter-widgets/controls",
      "_view_module_version": "1.5.0",
      "_view_name": "HTMLView",
      "description": "",
      "description_tooltip": null,
      "layout": "IPY_MODEL_d9af6db30f59460faeaef573eaba0e3f",
      "placeholder": "​",
      "style": "IPY_MODEL_93989147b2754012aaaaa1da1d812388",
      "value": " 478M/478M [00:09&lt;00:00, 48.4MB/s]"
     }
    },
    "fddcf7e1409a4cb49a43c256f8c19cc8": {
     "model_module": "@jupyter-widgets/controls",
     "model_module_version": "1.5.0",
     "model_name": "HTMLModel",
     "state": {
      "_dom_classes": [],
      "_model_module": "@jupyter-widgets/controls",
      "_model_module_version": "1.5.0",
      "_model_name": "HTMLModel",
      "_view_count": null,
      "_view_module": "@jupyter-widgets/controls",
      "_view_module_version": "1.5.0",
      "_view_name": "HTMLView",
      "description": "",
      "description_tooltip": null,
      "layout": "IPY_MODEL_f2c5e55fbad24685ba0c3b5b06616ed4",
      "placeholder": "​",
      "style": "IPY_MODEL_c84cf6683751491c95fe0f5af5b15d2a",
      "value": "Downloading: 100%"
     }
    },
    "feea9385d5b5403eb26a082f52aab157": {
     "model_module": "@jupyter-widgets/base",
     "model_module_version": "1.2.0",
     "model_name": "LayoutModel",
     "state": {
      "_model_module": "@jupyter-widgets/base",
      "_model_module_version": "1.2.0",
      "_model_name": "LayoutModel",
      "_view_count": null,
      "_view_module": "@jupyter-widgets/base",
      "_view_module_version": "1.2.0",
      "_view_name": "LayoutView",
      "align_content": null,
      "align_items": null,
      "align_self": null,
      "border": null,
      "bottom": null,
      "display": null,
      "flex": null,
      "flex_flow": null,
      "grid_area": null,
      "grid_auto_columns": null,
      "grid_auto_flow": null,
      "grid_auto_rows": null,
      "grid_column": null,
      "grid_gap": null,
      "grid_row": null,
      "grid_template_areas": null,
      "grid_template_columns": null,
      "grid_template_rows": null,
      "height": null,
      "justify_content": null,
      "justify_items": null,
      "left": null,
      "margin": null,
      "max_height": null,
      "max_width": null,
      "min_height": null,
      "min_width": null,
      "object_fit": null,
      "object_position": null,
      "order": null,
      "overflow": null,
      "overflow_x": null,
      "overflow_y": null,
      "padding": null,
      "right": null,
      "top": null,
      "visibility": null,
      "width": null
     }
    },
    "ff07a66ed9ab42eb8c91a0aec1df57c7": {
     "model_module": "@jupyter-widgets/controls",
     "model_module_version": "1.5.0",
     "model_name": "FloatProgressModel",
     "state": {
      "_dom_classes": [],
      "_model_module": "@jupyter-widgets/controls",
      "_model_module_version": "1.5.0",
      "_model_name": "FloatProgressModel",
      "_view_count": null,
      "_view_module": "@jupyter-widgets/controls",
      "_view_module_version": "1.5.0",
      "_view_name": "ProgressView",
      "bar_style": "success",
      "description": "",
      "description_tooltip": null,
      "layout": "IPY_MODEL_7c8d7aedba1e42d9bd516745888219ae",
      "max": 440473133,
      "min": 0,
      "orientation": "horizontal",
      "style": "IPY_MODEL_00cc1b14ac89498eb19582ef83536ab0",
      "value": 440473133
     }
    },
    "ff49481131d149f99630a3ee71652135": {
     "model_module": "@jupyter-widgets/base",
     "model_module_version": "1.2.0",
     "model_name": "LayoutModel",
     "state": {
      "_model_module": "@jupyter-widgets/base",
      "_model_module_version": "1.2.0",
      "_model_name": "LayoutModel",
      "_view_count": null,
      "_view_module": "@jupyter-widgets/base",
      "_view_module_version": "1.2.0",
      "_view_name": "LayoutView",
      "align_content": null,
      "align_items": null,
      "align_self": null,
      "border": null,
      "bottom": null,
      "display": null,
      "flex": null,
      "flex_flow": null,
      "grid_area": null,
      "grid_auto_columns": null,
      "grid_auto_flow": null,
      "grid_auto_rows": null,
      "grid_column": null,
      "grid_gap": null,
      "grid_row": null,
      "grid_template_areas": null,
      "grid_template_columns": null,
      "grid_template_rows": null,
      "height": null,
      "justify_content": null,
      "justify_items": null,
      "left": null,
      "margin": null,
      "max_height": null,
      "max_width": null,
      "min_height": null,
      "min_width": null,
      "object_fit": null,
      "object_position": null,
      "order": null,
      "overflow": null,
      "overflow_x": null,
      "overflow_y": null,
      "padding": null,
      "right": null,
      "top": null,
      "visibility": null,
      "width": null
     }
    },
    "ff82a4e979334d65b01937a5622303a7": {
     "model_module": "@jupyter-widgets/controls",
     "model_module_version": "1.5.0",
     "model_name": "HTMLModel",
     "state": {
      "_dom_classes": [],
      "_model_module": "@jupyter-widgets/controls",
      "_model_module_version": "1.5.0",
      "_model_name": "HTMLModel",
      "_view_count": null,
      "_view_module": "@jupyter-widgets/controls",
      "_view_module_version": "1.5.0",
      "_view_name": "HTMLView",
      "description": "",
      "description_tooltip": null,
      "layout": "IPY_MODEL_55edca3b27664abe9c4a84cfcaa40d1e",
      "placeholder": "​",
      "style": "IPY_MODEL_78c6ecc794b94d8484cc838ff0b00025",
      "value": "Downloading: 100%"
     }
    },
    "ff8de086d4114f0682076bd2cd9fd7ae": {
     "model_module": "@jupyter-widgets/base",
     "model_module_version": "1.2.0",
     "model_name": "LayoutModel",
     "state": {
      "_model_module": "@jupyter-widgets/base",
      "_model_module_version": "1.2.0",
      "_model_name": "LayoutModel",
      "_view_count": null,
      "_view_module": "@jupyter-widgets/base",
      "_view_module_version": "1.2.0",
      "_view_name": "LayoutView",
      "align_content": null,
      "align_items": null,
      "align_self": null,
      "border": null,
      "bottom": null,
      "display": null,
      "flex": null,
      "flex_flow": null,
      "grid_area": null,
      "grid_auto_columns": null,
      "grid_auto_flow": null,
      "grid_auto_rows": null,
      "grid_column": null,
      "grid_gap": null,
      "grid_row": null,
      "grid_template_areas": null,
      "grid_template_columns": null,
      "grid_template_rows": null,
      "height": null,
      "justify_content": null,
      "justify_items": null,
      "left": null,
      "margin": null,
      "max_height": null,
      "max_width": null,
      "min_height": null,
      "min_width": null,
      "object_fit": null,
      "object_position": null,
      "order": null,
      "overflow": null,
      "overflow_x": null,
      "overflow_y": null,
      "padding": null,
      "right": null,
      "top": null,
      "visibility": null,
      "width": null
     }
    }
   }
  }
 },
 "nbformat": 4,
 "nbformat_minor": 1
}
