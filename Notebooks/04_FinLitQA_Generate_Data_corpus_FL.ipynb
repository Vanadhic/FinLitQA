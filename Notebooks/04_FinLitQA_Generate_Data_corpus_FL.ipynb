{
 "cells": [
  {
   "cell_type": "markdown",
   "metadata": {
    "id": "UPpIJIGmQ6PE"
   },
   "source": [
    "# Generating the Domain data corpus for domain adaptive fine-tuning\n",
    "\n",
    "Initialization - Set Runtime type as GPU"
   ]
  },
  {
   "cell_type": "markdown",
   "metadata": {},
   "source": [
    "This Notebook is part of the final Thesis.\n",
    "\n",
    "The following objectives are achieved in this Notebook\n",
    "\n",
    "1. To do Domain adaptive fine-tuning of the pre-trained Language models, a data corpus needs to be created. \n",
    "2. Downloadable contents from NCFE.ORG are used to create the data corpus for domain adaptation of the language models. \n",
    "3. The downloadable data are largely in the form of PDFs, and Presentations. The PDFs are all merged, converted to text, pre-processed, chunked, and then uploaded as Hugging Face dataset for Language Modeling (LM). "
   ]
  },
  {
   "cell_type": "code",
   "execution_count": 1,
   "metadata": {
    "colab": {
     "base_uri": "https://localhost:8080/"
    },
    "executionInfo": {
     "elapsed": 26,
     "status": "ok",
     "timestamp": 1639120523169,
     "user": {
      "displayName": "vanadhi chelliah",
      "photoUrl": "https://lh3.googleusercontent.com/a/default-user=s64",
      "userId": "11158136158943693689"
     },
     "user_tz": -330
    },
    "id": "N6HWGqB7FKyz",
    "outputId": "6480bb22-2fb2-4237-e331-1d438300a9c5",
    "pycharm": {
     "name": "#%%\n"
    }
   },
   "outputs": [
    {
     "name": "stdout",
     "output_type": "stream",
     "text": [
      "Fri Dec 10 07:15:22 2021       \n",
      "+-----------------------------------------------------------------------------+\n",
      "| NVIDIA-SMI 495.44       Driver Version: 460.32.03    CUDA Version: 11.2     |\n",
      "|-------------------------------+----------------------+----------------------+\n",
      "| GPU  Name        Persistence-M| Bus-Id        Disp.A | Volatile Uncorr. ECC |\n",
      "| Fan  Temp  Perf  Pwr:Usage/Cap|         Memory-Usage | GPU-Util  Compute M. |\n",
      "|                               |                      |               MIG M. |\n",
      "|===============================+======================+======================|\n",
      "|   0  Tesla P100-PCIE...  Off  | 00000000:00:04.0 Off |                    0 |\n",
      "| N/A   37C    P0    28W / 250W |      0MiB / 16280MiB |      0%      Default |\n",
      "|                               |                      |                  N/A |\n",
      "+-------------------------------+----------------------+----------------------+\n",
      "                                                                               \n",
      "+-----------------------------------------------------------------------------+\n",
      "| Processes:                                                                  |\n",
      "|  GPU   GI   CI        PID   Type   Process name                  GPU Memory |\n",
      "|        ID   ID                                                   Usage      |\n",
      "|=============================================================================|\n",
      "|  No running processes found                                                 |\n",
      "+-----------------------------------------------------------------------------+\n"
     ]
    }
   ],
   "source": [
    "# Make sure you have a GPU running\n",
    "!nvidia-smi"
   ]
  },
  {
   "cell_type": "code",
   "execution_count": 3,
   "metadata": {
    "colab": {
     "base_uri": "https://localhost:8080/"
    },
    "executionInfo": {
     "elapsed": 44185,
     "status": "ok",
     "timestamp": 1639120581874,
     "user": {
      "displayName": "vanadhi chelliah",
      "photoUrl": "https://lh3.googleusercontent.com/a/default-user=s64",
      "userId": "11158136158943693689"
     },
     "user_tz": -330
    },
    "id": "UrV7a_2eNjW2",
    "outputId": "9bf02a3f-46f8-4979-9c6a-f3443aecad8b"
   },
   "outputs": [
    {
     "name": "stdout",
     "output_type": "stream",
     "text": [
      "Mounted at /content/drive\n"
     ]
    }
   ],
   "source": [
    "from google.colab import drive\n",
    "drive.mount('/content/drive')"
   ]
  },
  {
   "cell_type": "code",
   "execution_count": 4,
   "metadata": {
    "colab": {
     "base_uri": "https://localhost:8080/",
     "height": 1000
    },
    "executionInfo": {
     "elapsed": 74143,
     "status": "ok",
     "timestamp": 1639120659807,
     "user": {
      "displayName": "vanadhi chelliah",
      "photoUrl": "https://lh3.googleusercontent.com/a/default-user=s64",
      "userId": "11158136158943693689"
     },
     "user_tz": -330
    },
    "id": "_QCegtBnFKy2",
    "outputId": "bb6b71c9-9844-4c17-f826-852ccd6557d8"
   },
   "outputs": [
    {
     "name": "stdout",
     "output_type": "stream",
     "text": [
      "Collecting grpcio-tools==1.34.1\n",
      "  Downloading grpcio_tools-1.34.1-cp37-cp37m-manylinux2014_x86_64.whl (2.5 MB)\n",
      "\u001b[K     |████████████████████████████████| 2.5 MB 8.9 MB/s \n",
      "\u001b[?25hRequirement already satisfied: protobuf<4.0dev,>=3.5.0.post1 in /usr/local/lib/python3.7/dist-packages (from grpcio-tools==1.34.1) (3.17.3)\n",
      "Requirement already satisfied: grpcio>=1.34.1 in /usr/local/lib/python3.7/dist-packages (from grpcio-tools==1.34.1) (1.42.0)\n",
      "Requirement already satisfied: setuptools in /usr/local/lib/python3.7/dist-packages (from grpcio-tools==1.34.1) (57.4.0)\n",
      "Requirement already satisfied: six>=1.5.2 in /usr/local/lib/python3.7/dist-packages (from grpcio>=1.34.1->grpcio-tools==1.34.1) (1.15.0)\n",
      "Installing collected packages: grpcio-tools\n",
      "Successfully installed grpcio-tools-1.34.1\n",
      "Collecting git+https://github.com/deepset-ai/haystack.git\n",
      "  Cloning https://github.com/deepset-ai/haystack.git to /tmp/pip-req-build-9r1uyme_\n",
      "  Running command git clone -q https://github.com/deepset-ai/haystack.git /tmp/pip-req-build-9r1uyme_\n",
      "Requirement already satisfied: setuptools in /usr/local/lib/python3.7/dist-packages (from farm-haystack==1.0.0) (57.4.0)\n",
      "Requirement already satisfied: wheel in /usr/local/lib/python3.7/dist-packages (from farm-haystack==1.0.0) (0.37.0)\n",
      "Requirement already satisfied: torch<1.11,>1.5 in /usr/local/lib/python3.7/dist-packages (from farm-haystack==1.0.0) (1.10.0+cu111)\n",
      "Requirement already satisfied: tqdm in /usr/local/lib/python3.7/dist-packages (from farm-haystack==1.0.0) (4.62.3)\n",
      "Requirement already satisfied: requests in /usr/local/lib/python3.7/dist-packages (from farm-haystack==1.0.0) (2.23.0)\n",
      "Requirement already satisfied: scipy>=1.3.2 in /usr/local/lib/python3.7/dist-packages (from farm-haystack==1.0.0) (1.4.1)\n",
      "Requirement already satisfied: sklearn in /usr/local/lib/python3.7/dist-packages (from farm-haystack==1.0.0) (0.0)\n",
      "Collecting seqeval\n",
      "  Downloading seqeval-1.2.2.tar.gz (43 kB)\n",
      "\u001b[K     |████████████████████████████████| 43 kB 1.7 MB/s \n",
      "\u001b[?25hCollecting mlflow<=1.13.1\n",
      "  Downloading mlflow-1.13.1-py3-none-any.whl (14.1 MB)\n",
      "\u001b[K     |████████████████████████████████| 14.1 MB 9.4 MB/s \n",
      "\u001b[?25hCollecting transformers==4.7.0\n",
      "  Downloading transformers-4.7.0-py3-none-any.whl (2.5 MB)\n",
      "\u001b[K     |████████████████████████████████| 2.5 MB 13.1 MB/s \n",
      "\u001b[?25hRequirement already satisfied: dill in /usr/local/lib/python3.7/dist-packages (from farm-haystack==1.0.0) (0.3.4)\n",
      "Requirement already satisfied: psutil in /usr/local/lib/python3.7/dist-packages (from farm-haystack==1.0.0) (5.4.8)\n",
      "Collecting fastapi\n",
      "  Downloading fastapi-0.70.0-py3-none-any.whl (51 kB)\n",
      "\u001b[K     |████████████████████████████████| 51 kB 562 kB/s \n",
      "\u001b[?25hCollecting uvicorn\n",
      "  Downloading uvicorn-0.16.0-py3-none-any.whl (54 kB)\n",
      "\u001b[K     |████████████████████████████████| 54 kB 3.2 MB/s \n",
      "\u001b[?25hCollecting gunicorn\n",
      "  Downloading gunicorn-20.1.0-py3-none-any.whl (79 kB)\n",
      "\u001b[K     |████████████████████████████████| 79 kB 7.6 MB/s \n",
      "\u001b[?25hRequirement already satisfied: pandas in /usr/local/lib/python3.7/dist-packages (from farm-haystack==1.0.0) (1.1.5)\n",
      "Collecting elasticsearch<=7.10,>=7.7\n",
      "  Downloading elasticsearch-7.10.0-py2.py3-none-any.whl (321 kB)\n",
      "\u001b[K     |████████████████████████████████| 321 kB 39.1 MB/s \n",
      "\u001b[?25hCollecting elastic-apm\n",
      "  Downloading elastic_apm-6.7.2-cp37-cp37m-manylinux_2_5_x86_64.manylinux1_x86_64.manylinux_2_17_x86_64.manylinux2014_x86_64.whl (359 kB)\n",
      "\u001b[K     |████████████████████████████████| 359 kB 40.4 MB/s \n",
      "\u001b[?25hCollecting tox\n",
      "  Downloading tox-3.24.4-py2.py3-none-any.whl (85 kB)\n",
      "\u001b[K     |████████████████████████████████| 85 kB 4.3 MB/s \n",
      "\u001b[?25hRequirement already satisfied: coverage in /usr/local/lib/python3.7/dist-packages (from farm-haystack==1.0.0) (3.7.1)\n",
      "Collecting langdetect\n",
      "  Downloading langdetect-1.0.9.tar.gz (981 kB)\n",
      "\u001b[K     |████████████████████████████████| 981 kB 37.8 MB/s \n",
      "\u001b[?25hCollecting pytesseract==0.3.7\n",
      "  Downloading pytesseract-0.3.7.tar.gz (13 kB)\n",
      "Collecting pillow==8.3.2\n",
      "  Downloading Pillow-8.3.2-cp37-cp37m-manylinux_2_17_x86_64.manylinux2014_x86_64.whl (3.0 MB)\n",
      "\u001b[K     |████████████████████████████████| 3.0 MB 44.3 MB/s \n",
      "\u001b[?25hCollecting pdf2image==1.14.0\n",
      "  Downloading pdf2image-1.14.0-py3-none-any.whl (10 kB)\n",
      "Collecting sentence-transformers>=0.4.0\n",
      "  Downloading sentence-transformers-2.1.0.tar.gz (78 kB)\n",
      "\u001b[K     |████████████████████████████████| 78 kB 6.8 MB/s \n",
      "\u001b[?25hCollecting python-multipart\n",
      "  Downloading python-multipart-0.0.5.tar.gz (32 kB)\n",
      "Collecting python-docx\n",
      "  Downloading python-docx-0.8.11.tar.gz (5.6 MB)\n",
      "\u001b[K     |████████████████████████████████| 5.6 MB 34.5 MB/s \n",
      "\u001b[?25hRequirement already satisfied: sqlalchemy>=1.4.2 in /usr/local/lib/python3.7/dist-packages (from farm-haystack==1.0.0) (1.4.27)\n",
      "Collecting sqlalchemy_utils\n",
      "  Downloading SQLAlchemy_Utils-0.37.9-py3-none-any.whl (100 kB)\n",
      "\u001b[K     |████████████████████████████████| 100 kB 8.3 MB/s \n",
      "\u001b[?25hCollecting faiss-cpu>=1.6.3\n",
      "  Downloading faiss_cpu-1.7.1.post3-cp37-cp37m-manylinux_2_17_x86_64.manylinux2014_x86_64.whl (8.5 MB)\n",
      "\u001b[K     |████████████████████████████████| 8.5 MB 22.9 MB/s \n",
      "\u001b[?25hCollecting tika\n",
      "  Downloading tika-1.24.tar.gz (28 kB)\n",
      "Collecting httptools\n",
      "  Downloading httptools-0.3.0-cp37-cp37m-manylinux_2_5_x86_64.manylinux1_x86_64.manylinux_2_12_x86_64.manylinux2010_x86_64.whl (402 kB)\n",
      "\u001b[K     |████████████████████████████████| 402 kB 43.3 MB/s \n",
      "\u001b[?25hRequirement already satisfied: nltk in /usr/local/lib/python3.7/dist-packages (from farm-haystack==1.0.0) (3.2.5)\n",
      "Requirement already satisfied: more_itertools in /usr/local/lib/python3.7/dist-packages (from farm-haystack==1.0.0) (8.12.0)\n",
      "Requirement already satisfied: networkx in /usr/local/lib/python3.7/dist-packages (from farm-haystack==1.0.0) (2.6.3)\n",
      "Collecting pymilvus\n",
      "  Downloading pymilvus-1.1.2-py3-none-any.whl (56 kB)\n",
      "\u001b[K     |████████████████████████████████| 56 kB 4.3 MB/s \n",
      "\u001b[?25hCollecting SPARQLWrapper\n",
      "  Downloading SPARQLWrapper-1.8.5-py3-none-any.whl (26 kB)\n",
      "Collecting mmh3\n",
      "  Downloading mmh3-3.0.0-cp37-cp37m-manylinux2010_x86_64.whl (50 kB)\n",
      "\u001b[K     |████████████████████████████████| 50 kB 7.2 MB/s \n",
      "\u001b[?25hCollecting weaviate-client==2.5.0\n",
      "  Downloading weaviate_client-2.5.0-py3-none-any.whl (56 kB)\n",
      "\u001b[K     |████████████████████████████████| 56 kB 4.0 MB/s \n",
      "\u001b[?25hCollecting ray==1.5.0\n",
      "  Downloading ray-1.5.0-cp37-cp37m-manylinux2014_x86_64.whl (51.5 MB)\n",
      "\u001b[K     |████████████████████████████████| 51.5 MB 99 kB/s \n",
      "\u001b[?25hCollecting dataclasses-json\n",
      "  Downloading dataclasses_json-0.5.6-py3-none-any.whl (25 kB)\n",
      "Collecting quantulum3\n",
      "  Downloading quantulum3-0.7.9-py3-none-any.whl (10.7 MB)\n",
      "\u001b[K     |████████████████████████████████| 10.7 MB 19.7 MB/s \n",
      "\u001b[?25hCollecting azure-ai-formrecognizer==3.2.0b2\n",
      "  Downloading azure_ai_formrecognizer-3.2.0b2-py2.py3-none-any.whl (219 kB)\n",
      "\u001b[K     |████████████████████████████████| 219 kB 42.1 MB/s \n",
      "\u001b[?25hCollecting psycopg2-binary\n",
      "  Downloading psycopg2_binary-2.9.2-cp37-cp37m-manylinux_2_17_x86_64.manylinux2014_x86_64.whl (3.0 MB)\n",
      "\u001b[K     |████████████████████████████████| 3.0 MB 40.0 MB/s \n",
      "\u001b[?25hCollecting uvloop==0.14\n",
      "  Downloading uvloop-0.14.0-cp37-cp37m-manylinux2010_x86_64.whl (3.8 MB)\n",
      "\u001b[K     |████████████████████████████████| 3.8 MB 30.0 MB/s \n",
      "\u001b[?25hCollecting msrest>=0.6.21\n",
      "  Downloading msrest-0.6.21-py2.py3-none-any.whl (85 kB)\n",
      "\u001b[K     |████████████████████████████████| 85 kB 4.2 MB/s \n",
      "\u001b[?25hCollecting azure-core<2.0.0,>=1.13.0\n",
      "  Downloading azure_core-1.21.1-py2.py3-none-any.whl (178 kB)\n",
      "\u001b[K     |████████████████████████████████| 178 kB 51.8 MB/s \n",
      "\u001b[?25hCollecting azure-common~=1.1\n",
      "  Downloading azure_common-1.1.27-py2.py3-none-any.whl (12 kB)\n",
      "Requirement already satisfied: six>=1.11.0 in /usr/local/lib/python3.7/dist-packages (from azure-ai-formrecognizer==3.2.0b2->farm-haystack==1.0.0) (1.15.0)\n",
      "Requirement already satisfied: pyyaml in /usr/local/lib/python3.7/dist-packages (from ray==1.5.0->farm-haystack==1.0.0) (3.13)\n",
      "Requirement already satisfied: protobuf>=3.15.3 in /usr/local/lib/python3.7/dist-packages (from ray==1.5.0->farm-haystack==1.0.0) (3.17.3)\n",
      "Requirement already satisfied: numpy>=1.16 in /usr/local/lib/python3.7/dist-packages (from ray==1.5.0->farm-haystack==1.0.0) (1.19.5)\n",
      "Requirement already satisfied: prometheus-client>=0.7.1 in /usr/local/lib/python3.7/dist-packages (from ray==1.5.0->farm-haystack==1.0.0) (0.12.0)\n",
      "Collecting gpustat\n",
      "  Downloading gpustat-0.6.0.tar.gz (78 kB)\n",
      "\u001b[K     |████████████████████████████████| 78 kB 6.7 MB/s \n",
      "\u001b[?25hCollecting py-spy>=0.2.0\n",
      "  Downloading py_spy-0.3.11-py2.py3-none-manylinux_2_5_x86_64.manylinux1_x86_64.whl (3.0 MB)\n",
      "\u001b[K     |████████████████████████████████| 3.0 MB 29.1 MB/s \n",
      "\u001b[?25hRequirement already satisfied: msgpack<2.0.0,>=1.0.0 in /usr/local/lib/python3.7/dist-packages (from ray==1.5.0->farm-haystack==1.0.0) (1.0.3)\n",
      "Collecting redis>=3.5.0\n",
      "  Downloading redis-4.0.2-py3-none-any.whl (119 kB)\n",
      "\u001b[K     |████████████████████████████████| 119 kB 46.3 MB/s \n",
      "\u001b[?25hCollecting aioredis\n",
      "  Downloading aioredis-2.0.0-py3-none-any.whl (69 kB)\n",
      "\u001b[K     |████████████████████████████████| 69 kB 6.4 MB/s \n",
      "\u001b[?25hRequirement already satisfied: click>=7.0 in /usr/local/lib/python3.7/dist-packages (from ray==1.5.0->farm-haystack==1.0.0) (7.1.2)\n",
      "Requirement already satisfied: grpcio>=1.28.1 in /usr/local/lib/python3.7/dist-packages (from ray==1.5.0->farm-haystack==1.0.0) (1.42.0)\n",
      "Requirement already satisfied: filelock in /usr/local/lib/python3.7/dist-packages (from ray==1.5.0->farm-haystack==1.0.0) (3.4.0)\n",
      "Collecting aiohttp\n",
      "  Downloading aiohttp-3.8.1-cp37-cp37m-manylinux_2_5_x86_64.manylinux1_x86_64.manylinux_2_12_x86_64.manylinux2010_x86_64.whl (1.1 MB)\n",
      "\u001b[K     |████████████████████████████████| 1.1 MB 24.0 MB/s \n",
      "\u001b[?25hCollecting opencensus\n",
      "  Downloading opencensus-0.8.0-py2.py3-none-any.whl (128 kB)\n",
      "\u001b[K     |████████████████████████████████| 128 kB 48.8 MB/s \n",
      "\u001b[?25hCollecting colorama\n",
      "  Downloading colorama-0.4.4-py2.py3-none-any.whl (16 kB)\n",
      "Collecting aiohttp-cors\n",
      "  Downloading aiohttp_cors-0.7.0-py3-none-any.whl (27 kB)\n",
      "Collecting pydantic>=1.8\n",
      "  Downloading pydantic-1.8.2-cp37-cp37m-manylinux2014_x86_64.whl (10.1 MB)\n",
      "\u001b[K     |████████████████████████████████| 10.1 MB 26.6 MB/s \n",
      "\u001b[?25hRequirement already satisfied: jsonschema in /usr/local/lib/python3.7/dist-packages (from ray==1.5.0->farm-haystack==1.0.0) (2.6.0)\n",
      "Collecting huggingface-hub==0.0.8\n",
      "  Downloading huggingface_hub-0.0.8-py3-none-any.whl (34 kB)\n",
      "Requirement already satisfied: importlib-metadata in /usr/local/lib/python3.7/dist-packages (from transformers==4.7.0->farm-haystack==1.0.0) (4.8.2)\n",
      "Requirement already satisfied: regex!=2019.12.17 in /usr/local/lib/python3.7/dist-packages (from transformers==4.7.0->farm-haystack==1.0.0) (2019.12.20)\n",
      "Collecting tokenizers<0.11,>=0.10.1\n",
      "  Downloading tokenizers-0.10.3-cp37-cp37m-manylinux_2_5_x86_64.manylinux1_x86_64.manylinux_2_12_x86_64.manylinux2010_x86_64.whl (3.3 MB)\n",
      "\u001b[K     |████████████████████████████████| 3.3 MB 40.8 MB/s \n",
      "\u001b[?25hCollecting sacremoses\n",
      "  Downloading sacremoses-0.0.46-py3-none-any.whl (895 kB)\n",
      "\u001b[K     |████████████████████████████████| 895 kB 33.6 MB/s \n",
      "\u001b[?25hRequirement already satisfied: packaging in /usr/local/lib/python3.7/dist-packages (from transformers==4.7.0->farm-haystack==1.0.0) (21.3)\n",
      "Collecting validators>=0.18.2\n",
      "  Downloading validators-0.18.2-py3-none-any.whl (19 kB)\n",
      "Requirement already satisfied: urllib3<2,>=1.21.1 in /usr/local/lib/python3.7/dist-packages (from elasticsearch<=7.10,>=7.7->farm-haystack==1.0.0) (1.24.3)\n",
      "Requirement already satisfied: certifi in /usr/local/lib/python3.7/dist-packages (from elasticsearch<=7.10,>=7.7->farm-haystack==1.0.0) (2021.10.8)\n",
      "Collecting docker>=4.0.0\n",
      "  Downloading docker-5.0.3-py2.py3-none-any.whl (146 kB)\n",
      "\u001b[K     |████████████████████████████████| 146 kB 54.2 MB/s \n",
      "\u001b[?25hRequirement already satisfied: Flask in /usr/local/lib/python3.7/dist-packages (from mlflow<=1.13.1->farm-haystack==1.0.0) (1.1.4)\n",
      "Requirement already satisfied: python-dateutil in /usr/local/lib/python3.7/dist-packages (from mlflow<=1.13.1->farm-haystack==1.0.0) (2.8.2)\n",
      "Collecting databricks-cli>=0.8.7\n",
      "  Downloading databricks-cli-0.16.2.tar.gz (58 kB)\n",
      "\u001b[K     |████████████████████████████████| 58 kB 5.3 MB/s \n",
      "\u001b[?25hCollecting querystring-parser\n",
      "  Downloading querystring_parser-1.2.4-py2.py3-none-any.whl (7.9 kB)\n",
      "Collecting azure-storage-blob>=12.0.0\n",
      "  Downloading azure_storage_blob-12.9.0-py2.py3-none-any.whl (356 kB)\n",
      "\u001b[K     |████████████████████████████████| 356 kB 37.4 MB/s \n",
      "\u001b[?25hCollecting prometheus-flask-exporter\n",
      "  Downloading prometheus_flask_exporter-0.18.6-py3-none-any.whl (17 kB)\n",
      "Requirement already satisfied: entrypoints in /usr/local/lib/python3.7/dist-packages (from mlflow<=1.13.1->farm-haystack==1.0.0) (0.3)\n",
      "Requirement already satisfied: cloudpickle in /usr/local/lib/python3.7/dist-packages (from mlflow<=1.13.1->farm-haystack==1.0.0) (1.3.0)\n",
      "Collecting alembic<=1.4.1\n",
      "  Downloading alembic-1.4.1.tar.gz (1.1 MB)\n",
      "\u001b[K     |████████████████████████████████| 1.1 MB 40.4 MB/s \n",
      "\u001b[?25hRequirement already satisfied: sqlparse>=0.3.1 in /usr/local/lib/python3.7/dist-packages (from mlflow<=1.13.1->farm-haystack==1.0.0) (0.4.2)\n",
      "Collecting gitpython>=2.1.0\n",
      "  Downloading GitPython-3.1.24-py3-none-any.whl (180 kB)\n",
      "\u001b[K     |████████████████████████████████| 180 kB 42.9 MB/s \n",
      "\u001b[?25hCollecting Mako\n",
      "  Downloading Mako-1.1.6-py2.py3-none-any.whl (75 kB)\n",
      "\u001b[K     |████████████████████████████████| 75 kB 3.9 MB/s \n",
      "\u001b[?25hCollecting python-editor>=0.3\n",
      "  Downloading python_editor-1.0.4-py3-none-any.whl (4.9 kB)\n",
      "Collecting cryptography>=2.1.4\n",
      "  Downloading cryptography-36.0.0-cp36-abi3-manylinux_2_24_x86_64.whl (3.6 MB)\n",
      "\u001b[K     |████████████████████████████████| 3.6 MB 27.3 MB/s \n",
      "\u001b[?25hRequirement already satisfied: cffi>=1.12 in /usr/local/lib/python3.7/dist-packages (from cryptography>=2.1.4->azure-storage-blob>=12.0.0->mlflow<=1.13.1->farm-haystack==1.0.0) (1.15.0)\n",
      "Requirement already satisfied: pycparser in /usr/local/lib/python3.7/dist-packages (from cffi>=1.12->cryptography>=2.1.4->azure-storage-blob>=12.0.0->mlflow<=1.13.1->farm-haystack==1.0.0) (2.21)\n",
      "Requirement already satisfied: tabulate>=0.7.7 in /usr/local/lib/python3.7/dist-packages (from databricks-cli>=0.8.7->mlflow<=1.13.1->farm-haystack==1.0.0) (0.8.9)\n",
      "Collecting websocket-client>=0.32.0\n",
      "  Downloading websocket_client-1.2.3-py3-none-any.whl (53 kB)\n",
      "\u001b[K     |████████████████████████████████| 53 kB 2.0 MB/s \n",
      "\u001b[?25hRequirement already satisfied: typing-extensions>=3.7.4.3 in /usr/local/lib/python3.7/dist-packages (from gitpython>=2.1.0->mlflow<=1.13.1->farm-haystack==1.0.0) (3.10.0.2)\n",
      "Collecting gitdb<5,>=4.0.1\n",
      "  Downloading gitdb-4.0.9-py3-none-any.whl (63 kB)\n",
      "\u001b[K     |████████████████████████████████| 63 kB 1.4 MB/s \n",
      "\u001b[?25hCollecting smmap<6,>=3.0.1\n",
      "  Downloading smmap-5.0.0-py3-none-any.whl (24 kB)\n",
      "Collecting isodate>=0.6.0\n",
      "  Downloading isodate-0.6.0-py2.py3-none-any.whl (45 kB)\n",
      "\u001b[K     |████████████████████████████████| 45 kB 3.1 MB/s \n",
      "\u001b[?25hRequirement already satisfied: requests-oauthlib>=0.5.0 in /usr/local/lib/python3.7/dist-packages (from msrest>=0.6.21->azure-ai-formrecognizer==3.2.0b2->farm-haystack==1.0.0) (1.3.0)\n",
      "Collecting deprecated\n",
      "  Downloading Deprecated-1.2.13-py2.py3-none-any.whl (9.6 kB)\n",
      "Requirement already satisfied: chardet<4,>=3.0.2 in /usr/local/lib/python3.7/dist-packages (from requests->farm-haystack==1.0.0) (3.0.4)\n",
      "Requirement already satisfied: idna<3,>=2.5 in /usr/local/lib/python3.7/dist-packages (from requests->farm-haystack==1.0.0) (2.10)\n",
      "Requirement already satisfied: oauthlib>=3.0.0 in /usr/local/lib/python3.7/dist-packages (from requests-oauthlib>=0.5.0->msrest>=0.6.21->azure-ai-formrecognizer==3.2.0b2->farm-haystack==1.0.0) (3.1.1)\n",
      "Requirement already satisfied: torchvision in /usr/local/lib/python3.7/dist-packages (from sentence-transformers>=0.4.0->farm-haystack==1.0.0) (0.11.1+cu111)\n",
      "Requirement already satisfied: scikit-learn in /usr/local/lib/python3.7/dist-packages (from sentence-transformers>=0.4.0->farm-haystack==1.0.0) (1.0.1)\n",
      "Collecting sentencepiece\n",
      "  Downloading sentencepiece-0.1.96-cp37-cp37m-manylinux_2_17_x86_64.manylinux2014_x86_64.whl (1.2 MB)\n",
      "\u001b[K     |████████████████████████████████| 1.2 MB 33.2 MB/s \n",
      "\u001b[?25hRequirement already satisfied: greenlet!=0.4.17 in /usr/local/lib/python3.7/dist-packages (from sqlalchemy>=1.4.2->farm-haystack==1.0.0) (1.1.2)\n",
      "Requirement already satisfied: decorator>=3.4.0 in /usr/local/lib/python3.7/dist-packages (from validators>=0.18.2->weaviate-client==2.5.0->farm-haystack==1.0.0) (4.4.2)\n",
      "Collecting frozenlist>=1.1.1\n",
      "  Downloading frozenlist-1.2.0-cp37-cp37m-manylinux_2_5_x86_64.manylinux1_x86_64.manylinux_2_12_x86_64.manylinux2010_x86_64.whl (192 kB)\n",
      "\u001b[K     |████████████████████████████████| 192 kB 32.8 MB/s \n",
      "\u001b[?25hCollecting yarl<2.0,>=1.0\n",
      "  Downloading yarl-1.7.2-cp37-cp37m-manylinux_2_5_x86_64.manylinux1_x86_64.manylinux_2_12_x86_64.manylinux2010_x86_64.whl (271 kB)\n",
      "\u001b[K     |████████████████████████████████| 271 kB 49.2 MB/s \n",
      "\u001b[?25hCollecting async-timeout<5.0,>=4.0.0a3\n",
      "  Downloading async_timeout-4.0.1-py3-none-any.whl (5.7 kB)\n",
      "Requirement already satisfied: charset-normalizer<3.0,>=2.0 in /usr/local/lib/python3.7/dist-packages (from aiohttp->ray==1.5.0->farm-haystack==1.0.0) (2.0.8)\n",
      "Collecting aiosignal>=1.1.2\n",
      "  Downloading aiosignal-1.2.0-py3-none-any.whl (8.2 kB)\n",
      "Collecting multidict<7.0,>=4.5\n",
      "  Downloading multidict-5.2.0-cp37-cp37m-manylinux_2_5_x86_64.manylinux1_x86_64.manylinux_2_12_x86_64.manylinux2010_x86_64.whl (160 kB)\n",
      "\u001b[K     |████████████████████████████████| 160 kB 52.8 MB/s \n",
      "\u001b[?25hRequirement already satisfied: attrs>=17.3.0 in /usr/local/lib/python3.7/dist-packages (from aiohttp->ray==1.5.0->farm-haystack==1.0.0) (21.2.0)\n",
      "Collecting asynctest==0.13.0\n",
      "  Downloading asynctest-0.13.0-py3-none-any.whl (26 kB)\n",
      "Collecting typing-inspect>=0.4.0\n",
      "  Downloading typing_inspect-0.7.1-py3-none-any.whl (8.4 kB)\n",
      "Collecting marshmallow<4.0.0,>=3.3.0\n",
      "  Downloading marshmallow-3.14.1-py3-none-any.whl (47 kB)\n",
      "\u001b[K     |████████████████████████████████| 47 kB 4.7 MB/s \n",
      "\u001b[?25hCollecting marshmallow-enum<2.0.0,>=1.5.1\n",
      "  Downloading marshmallow_enum-1.5.1-py2.py3-none-any.whl (4.2 kB)\n",
      "Collecting mypy-extensions>=0.3.0\n",
      "  Downloading mypy_extensions-0.4.3-py2.py3-none-any.whl (4.5 kB)\n",
      "Requirement already satisfied: wrapt<2,>=1.10 in /usr/local/lib/python3.7/dist-packages (from deprecated->redis>=3.5.0->ray==1.5.0->farm-haystack==1.0.0) (1.13.3)\n",
      "Collecting starlette==0.16.0\n",
      "  Downloading starlette-0.16.0-py3-none-any.whl (61 kB)\n",
      "\u001b[K     |████████████████████████████████| 61 kB 249 kB/s \n",
      "\u001b[?25hCollecting anyio<4,>=3.0.0\n",
      "  Downloading anyio-3.4.0-py3-none-any.whl (78 kB)\n",
      "\u001b[K     |████████████████████████████████| 78 kB 6.8 MB/s \n",
      "\u001b[?25hCollecting sniffio>=1.1\n",
      "  Downloading sniffio-1.2.0-py3-none-any.whl (10 kB)\n",
      "Requirement already satisfied: Werkzeug<2.0,>=0.15 in /usr/local/lib/python3.7/dist-packages (from Flask->mlflow<=1.13.1->farm-haystack==1.0.0) (1.0.1)\n",
      "Requirement already satisfied: Jinja2<3.0,>=2.10.1 in /usr/local/lib/python3.7/dist-packages (from Flask->mlflow<=1.13.1->farm-haystack==1.0.0) (2.11.3)\n",
      "Requirement already satisfied: itsdangerous<2.0,>=0.24 in /usr/local/lib/python3.7/dist-packages (from Flask->mlflow<=1.13.1->farm-haystack==1.0.0) (1.1.0)\n",
      "Requirement already satisfied: MarkupSafe>=0.23 in /usr/local/lib/python3.7/dist-packages (from Jinja2<3.0,>=2.10.1->Flask->mlflow<=1.13.1->farm-haystack==1.0.0) (2.0.1)\n",
      "Requirement already satisfied: nvidia-ml-py3>=7.352.0 in /usr/local/lib/python3.7/dist-packages (from gpustat->ray==1.5.0->farm-haystack==1.0.0) (7.352.0)\n",
      "Collecting blessings>=1.6\n",
      "  Downloading blessings-1.7-py3-none-any.whl (18 kB)\n",
      "Requirement already satisfied: zipp>=0.5 in /usr/local/lib/python3.7/dist-packages (from importlib-metadata->transformers==4.7.0->farm-haystack==1.0.0) (3.6.0)\n",
      "Requirement already satisfied: google-api-core<3.0.0,>=1.0.0 in /usr/local/lib/python3.7/dist-packages (from opencensus->ray==1.5.0->farm-haystack==1.0.0) (1.26.3)\n",
      "Collecting opencensus-context==0.1.2\n",
      "  Downloading opencensus_context-0.1.2-py2.py3-none-any.whl (4.4 kB)\n",
      "Requirement already satisfied: googleapis-common-protos<2.0dev,>=1.6.0 in /usr/local/lib/python3.7/dist-packages (from google-api-core<3.0.0,>=1.0.0->opencensus->ray==1.5.0->farm-haystack==1.0.0) (1.53.0)\n",
      "Requirement already satisfied: pytz in /usr/local/lib/python3.7/dist-packages (from google-api-core<3.0.0,>=1.0.0->opencensus->ray==1.5.0->farm-haystack==1.0.0) (2018.9)\n",
      "Requirement already satisfied: google-auth<2.0dev,>=1.21.1 in /usr/local/lib/python3.7/dist-packages (from google-api-core<3.0.0,>=1.0.0->opencensus->ray==1.5.0->farm-haystack==1.0.0) (1.35.0)\n",
      "Requirement already satisfied: rsa<5,>=3.1.4 in /usr/local/lib/python3.7/dist-packages (from google-auth<2.0dev,>=1.21.1->google-api-core<3.0.0,>=1.0.0->opencensus->ray==1.5.0->farm-haystack==1.0.0) (4.8)\n",
      "Requirement already satisfied: cachetools<5.0,>=2.0.0 in /usr/local/lib/python3.7/dist-packages (from google-auth<2.0dev,>=1.21.1->google-api-core<3.0.0,>=1.0.0->opencensus->ray==1.5.0->farm-haystack==1.0.0) (4.2.4)\n",
      "Requirement already satisfied: pyasn1-modules>=0.2.1 in /usr/local/lib/python3.7/dist-packages (from google-auth<2.0dev,>=1.21.1->google-api-core<3.0.0,>=1.0.0->opencensus->ray==1.5.0->farm-haystack==1.0.0) (0.2.8)\n",
      "Requirement already satisfied: pyparsing!=3.0.5,>=2.0.2 in /usr/local/lib/python3.7/dist-packages (from packaging->transformers==4.7.0->farm-haystack==1.0.0) (3.0.6)\n",
      "Requirement already satisfied: pyasn1<0.5.0,>=0.4.6 in /usr/local/lib/python3.7/dist-packages (from pyasn1-modules>=0.2.1->google-auth<2.0dev,>=1.21.1->google-api-core<3.0.0,>=1.0.0->opencensus->ray==1.5.0->farm-haystack==1.0.0) (0.4.8)\n",
      "Collecting ujson>=2.0.0\n",
      "  Downloading ujson-4.3.0-cp37-cp37m-manylinux_2_17_x86_64.manylinux2014_x86_64.whl (216 kB)\n",
      "\u001b[K     |████████████████████████████████| 216 kB 43.5 MB/s \n",
      "\u001b[?25hCollecting grpcio>=1.28.1\n",
      "  Downloading grpcio-1.37.1-cp37-cp37m-manylinux2014_x86_64.whl (4.2 MB)\n",
      "\u001b[K     |████████████████████████████████| 4.2 MB 30.2 MB/s \n",
      "\u001b[?25hRequirement already satisfied: grpcio-tools<1.38.0,>=1.22.0 in /usr/local/lib/python3.7/dist-packages (from pymilvus->farm-haystack==1.0.0) (1.34.1)\n",
      "Requirement already satisfied: lxml>=2.3.2 in /usr/local/lib/python3.7/dist-packages (from python-docx->farm-haystack==1.0.0) (4.2.6)\n",
      "Requirement already satisfied: inflect in /usr/local/lib/python3.7/dist-packages (from quantulum3->farm-haystack==1.0.0) (2.1.0)\n",
      "Collecting num2words\n",
      "  Downloading num2words-0.5.10-py3-none-any.whl (101 kB)\n",
      "\u001b[K     |████████████████████████████████| 101 kB 10.9 MB/s \n",
      "\u001b[?25hRequirement already satisfied: docopt>=0.6.2 in /usr/local/lib/python3.7/dist-packages (from num2words->quantulum3->farm-haystack==1.0.0) (0.6.2)\n",
      "Requirement already satisfied: joblib in /usr/local/lib/python3.7/dist-packages (from sacremoses->transformers==4.7.0->farm-haystack==1.0.0) (1.1.0)\n",
      "Requirement already satisfied: threadpoolctl>=2.0.0 in /usr/local/lib/python3.7/dist-packages (from scikit-learn->sentence-transformers>=0.4.0->farm-haystack==1.0.0) (3.0.0)\n",
      "Collecting rdflib>=4.0\n",
      "  Downloading rdflib-6.0.2-py3-none-any.whl (407 kB)\n",
      "\u001b[K     |████████████████████████████████| 407 kB 47.3 MB/s \n",
      "\u001b[?25hRequirement already satisfied: py>=1.4.17 in /usr/local/lib/python3.7/dist-packages (from tox->farm-haystack==1.0.0) (1.11.0)\n",
      "Collecting virtualenv!=20.0.0,!=20.0.1,!=20.0.2,!=20.0.3,!=20.0.4,!=20.0.5,!=20.0.6,!=20.0.7,>=16.0.0\n",
      "  Downloading virtualenv-20.10.0-py2.py3-none-any.whl (5.6 MB)\n",
      "\u001b[K     |████████████████████████████████| 5.6 MB 27.1 MB/s \n",
      "\u001b[?25hCollecting pluggy>=0.12.0\n",
      "  Downloading pluggy-1.0.0-py2.py3-none-any.whl (13 kB)\n",
      "Requirement already satisfied: toml>=0.9.4 in /usr/local/lib/python3.7/dist-packages (from tox->farm-haystack==1.0.0) (0.10.2)\n",
      "Collecting platformdirs<3,>=2\n",
      "  Downloading platformdirs-2.4.0-py3-none-any.whl (14 kB)\n",
      "Collecting backports.entry-points-selectable>=1.0.4\n",
      "  Downloading backports.entry_points_selectable-1.1.1-py2.py3-none-any.whl (6.2 kB)\n",
      "Collecting distlib<1,>=0.3.1\n",
      "  Downloading distlib-0.3.4-py2.py3-none-any.whl (461 kB)\n",
      "\u001b[K     |████████████████████████████████| 461 kB 40.6 MB/s \n",
      "\u001b[?25hCollecting asgiref>=3.4.0\n",
      "  Downloading asgiref-3.4.1-py3-none-any.whl (25 kB)\n",
      "Collecting h11>=0.8\n",
      "  Downloading h11-0.12.0-py3-none-any.whl (54 kB)\n",
      "\u001b[K     |████████████████████████████████| 54 kB 3.3 MB/s \n",
      "\u001b[?25hBuilding wheels for collected packages: farm-haystack, pytesseract, alembic, databricks-cli, sentence-transformers, gpustat, langdetect, python-docx, python-multipart, seqeval, tika\n",
      "  Building wheel for farm-haystack (setup.py) ... \u001b[?25l\u001b[?25hdone\n",
      "  Created wheel for farm-haystack: filename=farm_haystack-1.0.0-py3-none-any.whl size=374642 sha256=5e6c1a9d1d2566bf63d78a1f8109fab31a1ba531663a90cf2ce3b8580d9c0966\n",
      "  Stored in directory: /tmp/pip-ephem-wheel-cache-1krc392i/wheels/a7/05/3b/9b33368d9af06a39f8e6af2e97fa2af876e893ade323cfc2c9\n",
      "  Building wheel for pytesseract (setup.py) ... \u001b[?25l\u001b[?25hdone\n",
      "  Created wheel for pytesseract: filename=pytesseract-0.3.7-py2.py3-none-any.whl size=13954 sha256=4c89012c88065bebcbf2df7eab614e45e8e0ad963b54d64e9b07935575896fb5\n",
      "  Stored in directory: /root/.cache/pip/wheels/67/71/6c/7a8c5ca2e699752506999ae7baeb692e2b4fc6488c2cddcb22\n",
      "  Building wheel for alembic (setup.py) ... \u001b[?25l\u001b[?25hdone\n",
      "  Created wheel for alembic: filename=alembic-1.4.1-py2.py3-none-any.whl size=158172 sha256=bb73b828229624b2b5bb8839a834e2cff835b98c8d4147ba01cc470934c7eff2\n",
      "  Stored in directory: /root/.cache/pip/wheels/be/5d/0a/9e13f53f4f5dfb67cd8d245bb7cdffe12f135846f491a283e3\n",
      "  Building wheel for databricks-cli (setup.py) ... \u001b[?25l\u001b[?25hdone\n",
      "  Created wheel for databricks-cli: filename=databricks_cli-0.16.2-py3-none-any.whl size=106811 sha256=3afffa0c09c8e78f939a84e42bc72eca12e5389d6f0f7d15c7e3dbf12dc03341\n",
      "  Stored in directory: /root/.cache/pip/wheels/f4/5c/ed/e1ce20a53095f63b27b4964abbad03e59cf3472822addf7d29\n",
      "  Building wheel for sentence-transformers (setup.py) ... \u001b[?25l\u001b[?25hdone\n",
      "  Created wheel for sentence-transformers: filename=sentence_transformers-2.1.0-py3-none-any.whl size=121000 sha256=9f03cb59236d85bc4fd23eda814e63549632fadcee194afdd30714a840d16162\n",
      "  Stored in directory: /root/.cache/pip/wheels/90/f0/bb/ed1add84da70092ea526466eadc2bfb197c4bcb8d4fa5f7bad\n",
      "  Building wheel for gpustat (setup.py) ... \u001b[?25l\u001b[?25hdone\n",
      "  Created wheel for gpustat: filename=gpustat-0.6.0-py3-none-any.whl size=12617 sha256=4c586a6b88a6067b66dee24ac21155286f7ee5e4486f47defe77b52f4d79caf9\n",
      "  Stored in directory: /root/.cache/pip/wheels/e6/67/af/f1ad15974b8fd95f59a63dbf854483ebe5c7a46a93930798b8\n",
      "  Building wheel for langdetect (setup.py) ... \u001b[?25l\u001b[?25hdone\n",
      "  Created wheel for langdetect: filename=langdetect-1.0.9-py3-none-any.whl size=993242 sha256=a8d0f7bba7d6a2cac4ba73b0682e3aa5aefc4d2c83057657e171dd9e3a0171bd\n",
      "  Stored in directory: /root/.cache/pip/wheels/c5/96/8a/f90c59ed25d75e50a8c10a1b1c2d4c402e4dacfa87f3aff36a\n",
      "  Building wheel for python-docx (setup.py) ... \u001b[?25l\u001b[?25hdone\n",
      "  Created wheel for python-docx: filename=python_docx-0.8.11-py3-none-any.whl size=184508 sha256=4f2eee46b79106addfb3f717e1c24f3adb15d4ad60a62a42ea9e09d74008126a\n",
      "  Stored in directory: /root/.cache/pip/wheels/f6/6f/b9/d798122a8b55b74ad30b5f52b01482169b445fbb84a11797a6\n",
      "  Building wheel for python-multipart (setup.py) ... \u001b[?25l\u001b[?25hdone\n",
      "  Created wheel for python-multipart: filename=python_multipart-0.0.5-py3-none-any.whl size=31678 sha256=e172f138d8de21724d7f678fbf2102cb9e04a7e662ca22eccf13a0c69a912a9f\n",
      "  Stored in directory: /root/.cache/pip/wheels/2c/41/7c/bfd1c180534ffdcc0972f78c5758f89881602175d48a8bcd2c\n",
      "  Building wheel for seqeval (setup.py) ... \u001b[?25l\u001b[?25hdone\n",
      "  Created wheel for seqeval: filename=seqeval-1.2.2-py3-none-any.whl size=16181 sha256=723bbad824cac0c899339bca8ca323a84b2035f1a28ecaee235b4f55bd926fe0\n",
      "  Stored in directory: /root/.cache/pip/wheels/05/96/ee/7cac4e74f3b19e3158dce26a20a1c86b3533c43ec72a549fd7\n",
      "  Building wheel for tika (setup.py) ... \u001b[?25l\u001b[?25hdone\n",
      "  Created wheel for tika: filename=tika-1.24-py3-none-any.whl size=32891 sha256=d3c10fde09aaf454701770b0ddb7f977f97b520230ade06eafb3826fc4c49c0d\n",
      "  Stored in directory: /root/.cache/pip/wheels/ec/2b/38/58ff05467a742e32f67f5d0de048fa046e764e2fbb25ac93f3\n",
      "Successfully built farm-haystack pytesseract alembic databricks-cli sentence-transformers gpustat langdetect python-docx python-multipart seqeval tika\n",
      "Installing collected packages: multidict, frozenlist, yarl, sniffio, smmap, isodate, asynctest, async-timeout, aiosignal, websocket-client, tokenizers, sacremoses, python-editor, platformdirs, pillow, opencensus-context, mypy-extensions, msrest, marshmallow, Mako, huggingface-hub, grpcio, gitdb, distlib, deprecated, cryptography, blessings, backports.entry-points-selectable, azure-core, anyio, aiohttp, virtualenv, validators, ujson, typing-inspect, transformers, starlette, sentencepiece, redis, rdflib, querystring-parser, pydantic, py-spy, prometheus-flask-exporter, pluggy, opencensus, num2words, marshmallow-enum, h11, gunicorn, gpustat, gitpython, docker, databricks-cli, colorama, azure-storage-blob, azure-common, asgiref, alembic, aioredis, aiohttp-cors, weaviate-client, uvloop, uvicorn, tox, tika, sqlalchemy-utils, SPARQLWrapper, seqeval, sentence-transformers, ray, quantulum3, python-multipart, python-docx, pytesseract, pymilvus, psycopg2-binary, pdf2image, mmh3, mlflow, langdetect, httptools, fastapi, faiss-cpu, elasticsearch, elastic-apm, dataclasses-json, azure-ai-formrecognizer, farm-haystack\n",
      "  Attempting uninstall: pillow\n",
      "    Found existing installation: Pillow 7.1.2\n",
      "    Uninstalling Pillow-7.1.2:\n",
      "      Successfully uninstalled Pillow-7.1.2\n",
      "  Attempting uninstall: grpcio\n",
      "    Found existing installation: grpcio 1.42.0\n",
      "    Uninstalling grpcio-1.42.0:\n",
      "      Successfully uninstalled grpcio-1.42.0\n",
      "  Attempting uninstall: pluggy\n",
      "    Found existing installation: pluggy 0.7.1\n",
      "    Uninstalling pluggy-0.7.1:\n",
      "      Successfully uninstalled pluggy-0.7.1\n",
      "\u001b[31mERROR: pip's dependency resolver does not currently take into account all the packages that are installed. This behaviour is the source of the following dependency conflicts.\n",
      "pytest 3.6.4 requires pluggy<0.8,>=0.5, but you have pluggy 1.0.0 which is incompatible.\n",
      "datascience 0.10.6 requires folium==0.2.1, but you have folium 0.8.3 which is incompatible.\n",
      "albumentations 0.1.12 requires imgaug<0.2.7,>=0.2.5, but you have imgaug 0.2.9 which is incompatible.\u001b[0m\n",
      "Successfully installed Mako-1.1.6 SPARQLWrapper-1.8.5 aiohttp-3.8.1 aiohttp-cors-0.7.0 aioredis-2.0.0 aiosignal-1.2.0 alembic-1.4.1 anyio-3.4.0 asgiref-3.4.1 async-timeout-4.0.1 asynctest-0.13.0 azure-ai-formrecognizer-3.2.0b2 azure-common-1.1.27 azure-core-1.21.1 azure-storage-blob-12.9.0 backports.entry-points-selectable-1.1.1 blessings-1.7 colorama-0.4.4 cryptography-36.0.0 databricks-cli-0.16.2 dataclasses-json-0.5.6 deprecated-1.2.13 distlib-0.3.4 docker-5.0.3 elastic-apm-6.7.2 elasticsearch-7.10.0 faiss-cpu-1.7.1.post3 farm-haystack-1.0.0 fastapi-0.70.0 frozenlist-1.2.0 gitdb-4.0.9 gitpython-3.1.24 gpustat-0.6.0 grpcio-1.37.1 gunicorn-20.1.0 h11-0.12.0 httptools-0.3.0 huggingface-hub-0.0.8 isodate-0.6.0 langdetect-1.0.9 marshmallow-3.14.1 marshmallow-enum-1.5.1 mlflow-1.13.1 mmh3-3.0.0 msrest-0.6.21 multidict-5.2.0 mypy-extensions-0.4.3 num2words-0.5.10 opencensus-0.8.0 opencensus-context-0.1.2 pdf2image-1.14.0 pillow-8.3.2 platformdirs-2.4.0 pluggy-1.0.0 prometheus-flask-exporter-0.18.6 psycopg2-binary-2.9.2 py-spy-0.3.11 pydantic-1.8.2 pymilvus-1.1.2 pytesseract-0.3.7 python-docx-0.8.11 python-editor-1.0.4 python-multipart-0.0.5 quantulum3-0.7.9 querystring-parser-1.2.4 ray-1.5.0 rdflib-6.0.2 redis-4.0.2 sacremoses-0.0.46 sentence-transformers-2.1.0 sentencepiece-0.1.96 seqeval-1.2.2 smmap-5.0.0 sniffio-1.2.0 sqlalchemy-utils-0.37.9 starlette-0.16.0 tika-1.24 tokenizers-0.10.3 tox-3.24.4 transformers-4.7.0 typing-inspect-0.7.1 ujson-4.3.0 uvicorn-0.16.0 uvloop-0.14.0 validators-0.18.2 virtualenv-20.10.0 weaviate-client-2.5.0 websocket-client-1.2.3 yarl-1.7.2\n"
     ]
    },
    {
     "data": {
      "application/vnd.colab-display-data+json": {
       "pip_warning": {
        "packages": [
         "PIL"
        ]
       }
      }
     },
     "metadata": {},
     "output_type": "display_data"
    },
    {
     "name": "stdout",
     "output_type": "stream",
     "text": [
      "--2021-12-10 07:17:37--  https://dl.xpdfreader.com/xpdf-tools-linux-4.03.tar.gz\n",
      "Resolving dl.xpdfreader.com (dl.xpdfreader.com)... 45.79.72.155\n",
      "Connecting to dl.xpdfreader.com (dl.xpdfreader.com)|45.79.72.155|:443... connected.\n",
      "HTTP request sent, awaiting response... 200 OK\n",
      "Length: 23024720 (22M) [application/x-gzip]\n",
      "Saving to: ‘xpdf-tools-linux-4.03.tar.gz’\n",
      "\n",
      "xpdf-tools-linux-4. 100%[===================>]  21.96M  79.0MB/s    in 0.3s    \n",
      "\n",
      "2021-12-10 07:17:38 (79.0 MB/s) - ‘xpdf-tools-linux-4.03.tar.gz’ saved [23024720/23024720]\n",
      "\n",
      "xpdf-tools-linux-4.03/\n",
      "xpdf-tools-linux-4.03/ANNOUNCE\n",
      "xpdf-tools-linux-4.03/bin32/\n",
      "xpdf-tools-linux-4.03/bin32/pdftotext\n",
      "xpdf-tools-linux-4.03/bin32/pdfinfo\n",
      "xpdf-tools-linux-4.03/bin32/pdftopng\n",
      "xpdf-tools-linux-4.03/bin32/pdfimages\n",
      "xpdf-tools-linux-4.03/bin32/pdftoppm\n",
      "xpdf-tools-linux-4.03/bin32/pdftops\n",
      "xpdf-tools-linux-4.03/bin32/pdfdetach\n",
      "xpdf-tools-linux-4.03/bin32/pdffonts\n",
      "xpdf-tools-linux-4.03/bin32/pdftohtml\n",
      "xpdf-tools-linux-4.03/CHANGES\n",
      "xpdf-tools-linux-4.03/bin64/\n",
      "xpdf-tools-linux-4.03/bin64/pdftotext\n",
      "xpdf-tools-linux-4.03/bin64/pdfinfo\n",
      "xpdf-tools-linux-4.03/bin64/pdftopng\n",
      "xpdf-tools-linux-4.03/bin64/pdfimages\n",
      "xpdf-tools-linux-4.03/bin64/pdftoppm\n",
      "xpdf-tools-linux-4.03/bin64/pdftops\n",
      "xpdf-tools-linux-4.03/bin64/pdfdetach\n",
      "xpdf-tools-linux-4.03/bin64/pdffonts\n",
      "xpdf-tools-linux-4.03/bin64/pdftohtml\n",
      "xpdf-tools-linux-4.03/INSTALL\n",
      "xpdf-tools-linux-4.03/COPYING3\n",
      "xpdf-tools-linux-4.03/doc/\n",
      "xpdf-tools-linux-4.03/doc/pdftotext.1\n",
      "xpdf-tools-linux-4.03/doc/pdfdetach.1\n",
      "xpdf-tools-linux-4.03/doc/pdftopng.1\n",
      "xpdf-tools-linux-4.03/doc/sample-xpdfrc\n",
      "xpdf-tools-linux-4.03/doc/xpdfrc.5\n",
      "xpdf-tools-linux-4.03/doc/pdftops.1\n",
      "xpdf-tools-linux-4.03/doc/pdffonts.1\n",
      "xpdf-tools-linux-4.03/doc/pdftoppm.1\n",
      "xpdf-tools-linux-4.03/doc/pdfimages.1\n",
      "xpdf-tools-linux-4.03/doc/pdftohtml.1\n",
      "xpdf-tools-linux-4.03/doc/pdfinfo.1\n",
      "xpdf-tools-linux-4.03/COPYING\n",
      "xpdf-tools-linux-4.03/README\n"
     ]
    }
   ],
   "source": [
    "# Let's start by installing Haystack\n",
    "\n",
    "# Install the latest release of Haystack in your own environment\n",
    "#! pip install farm-haystack\n",
    "\n",
    "# Install the latest master of Haystack\n",
    "!pip install grpcio-tools==1.34.1 -q \n",
    "!pip install git+https://github.com/deepset-ai/haystack.git -q\n",
    "!wget --no-check-certificate https://dl.xpdfreader.com/xpdf-tools-linux-4.03.tar.gz\n",
    "!tar -xvf xpdf-tools-linux-4.03.tar.gz && sudo cp xpdf-tools-linux-4.03/bin64/pdftotext /usr/local/bin\n",
    "\n",
    "# If you run this notebook on Google Colab, you might need to\n",
    "# restart the runtime after installing haystack."
   ]
  },
  {
   "cell_type": "code",
   "execution_count": 1,
   "metadata": {
    "colab": {
     "base_uri": "https://localhost:8080/"
    },
    "executionInfo": {
     "elapsed": 12988,
     "status": "ok",
     "timestamp": 1639120695359,
     "user": {
      "displayName": "vanadhi chelliah",
      "photoUrl": "https://lh3.googleusercontent.com/a/default-user=s64",
      "userId": "11158136158943693689"
     },
     "user_tz": -330
    },
    "id": "1AzhDOGfh8Zq",
    "outputId": "fef2b802-3eb3-4893-a0a9-855bb0587320"
   },
   "outputs": [
    {
     "name": "stderr",
     "output_type": "stream",
     "text": [
      "/usr/local/lib/python3.7/dist-packages/ray/autoscaler/_private/cli_logger.py:61: FutureWarning: Not all Ray CLI dependencies were found. In Ray 1.4+, the Ray CLI, autoscaler, and dashboard will only be usable via `pip install 'ray[default]'`. Please update your install command.\n",
      "  \"update your install command.\", FutureWarning)\n",
      "INFO - haystack.modeling.utils -  Using devices: CUDA:0\n",
      "INFO - haystack.modeling.utils -  Number of GPUs: 1\n"
     ]
    }
   ],
   "source": [
    "from haystack.modeling.utils import initialize_device_settings\n",
    "\n",
    "devices, n_gpu = initialize_device_settings(use_cuda=True)"
   ]
  },
  {
   "cell_type": "code",
   "execution_count": 2,
   "metadata": {
    "colab": {
     "base_uri": "https://localhost:8080/"
    },
    "executionInfo": {
     "elapsed": 5676,
     "status": "ok",
     "timestamp": 1639120701022,
     "user": {
      "displayName": "vanadhi chelliah",
      "photoUrl": "https://lh3.googleusercontent.com/a/default-user=s64",
      "userId": "11158136158943693689"
     },
     "user_tz": -330
    },
    "id": "rMibJn7giBZz",
    "outputId": "8b363dd2-ec5d-4deb-d318-36302f629d73"
   },
   "outputs": [
    {
     "name": "stdout",
     "output_type": "stream",
     "text": [
      "\u001b[K     |████████████████████████████████| 298 kB 8.2 MB/s \n",
      "\u001b[K     |████████████████████████████████| 61 kB 300 kB/s \n",
      "\u001b[K     |████████████████████████████████| 243 kB 40.0 MB/s \n",
      "\u001b[K     |████████████████████████████████| 132 kB 42.3 MB/s \n",
      "\u001b[31mERROR: pip's dependency resolver does not currently take into account all the packages that are installed. This behaviour is the source of the following dependency conflicts.\n",
      "transformers 4.7.0 requires huggingface-hub==0.0.8, but you have huggingface-hub 0.2.1 which is incompatible.\u001b[0m\n",
      "\u001b[?25h"
     ]
    }
   ],
   "source": [
    "!pip install datasets -q"
   ]
  },
  {
   "cell_type": "code",
   "execution_count": 1,
   "metadata": {
    "executionInfo": {
     "elapsed": 1949,
     "status": "ok",
     "timestamp": 1639120720674,
     "user": {
      "displayName": "vanadhi chelliah",
      "photoUrl": "https://lh3.googleusercontent.com/a/default-user=s64",
      "userId": "11158136158943693689"
     },
     "user_tz": -330
    },
    "id": "JCXpNVUdiCEo"
   },
   "outputs": [],
   "source": [
    "import datasets\n",
    "from datasets import load_dataset"
   ]
  },
  {
   "cell_type": "code",
   "execution_count": 2,
   "metadata": {
    "colab": {
     "base_uri": "https://localhost:8080/"
    },
    "executionInfo": {
     "elapsed": 5473,
     "status": "ok",
     "timestamp": 1639120726135,
     "user": {
      "displayName": "vanadhi chelliah",
      "photoUrl": "https://lh3.googleusercontent.com/a/default-user=s64",
      "userId": "11158136158943693689"
     },
     "user_tz": -330
    },
    "id": "URvSksL1gtDK",
    "outputId": "6d2341e7-21d4-414b-aadd-758264655834"
   },
   "outputs": [
    {
     "name": "stdout",
     "output_type": "stream",
     "text": [
      "\u001b[?25l\r",
      "\u001b[K     |████▎                           | 10 kB 23.9 MB/s eta 0:00:01\r",
      "\u001b[K     |████████▌                       | 20 kB 21.6 MB/s eta 0:00:01\r",
      "\u001b[K     |████████████▊                   | 30 kB 16.4 MB/s eta 0:00:01\r",
      "\u001b[K     |█████████████████               | 40 kB 14.3 MB/s eta 0:00:01\r",
      "\u001b[K     |█████████████████████▏          | 51 kB 7.2 MB/s eta 0:00:01\r",
      "\u001b[K     |█████████████████████████▍      | 61 kB 7.6 MB/s eta 0:00:01\r",
      "\u001b[K     |█████████████████████████████▋  | 71 kB 8.1 MB/s eta 0:00:01\r",
      "\u001b[K     |████████████████████████████████| 77 kB 3.9 MB/s \n",
      "\u001b[?25h  Building wheel for pypdf2 (setup.py) ... \u001b[?25l\u001b[?25hdone\n"
     ]
    }
   ],
   "source": [
    "# required for pdf merge\n",
    "! pip install pypdf2 -q"
   ]
  },
  {
   "cell_type": "code",
   "execution_count": null,
   "metadata": {
    "id": "2WyLLHWVPNzJ"
   },
   "outputs": [],
   "source": [
    "# # required for pdf converter\n",
    "# !apt-get install python-dev libxml2-dev libxslt1-dev antiword unrtf poppler-utils \\\n",
    "#      pstotext tesseract-ocr \\\n",
    "#      flac ffmpeg lame libmad0 libsox-fmt-mp3 sox libjpeg-dev swig libasound2-dev libpulse-dev"
   ]
  },
  {
   "cell_type": "code",
   "execution_count": 3,
   "metadata": {
    "colab": {
     "base_uri": "https://localhost:8080/"
    },
    "executionInfo": {
     "elapsed": 26014,
     "status": "ok",
     "timestamp": 1639120753975,
     "user": {
      "displayName": "vanadhi chelliah",
      "photoUrl": "https://lh3.googleusercontent.com/a/default-user=s64",
      "userId": "11158136158943693689"
     },
     "user_tz": -330
    },
    "id": "X7UyA5Rsi696",
    "outputId": "aa111a04-3bd9-4b90-83d3-ad36a1a3e283"
   },
   "outputs": [
    {
     "name": "stdout",
     "output_type": "stream",
     "text": [
      "\u001b[K     |████████████████████████████████| 106 kB 12.5 MB/s \n",
      "\u001b[K     |████████████████████████████████| 111 kB 41.8 MB/s \n",
      "\u001b[K     |████████████████████████████████| 69 kB 2.9 MB/s \n",
      "\u001b[K     |████████████████████████████████| 5.6 MB 19.8 MB/s \n",
      "\u001b[K     |████████████████████████████████| 10.1 MB 36.7 MB/s \n",
      "\u001b[K     |████████████████████████████████| 32.8 MB 1.4 MB/s \n",
      "\u001b[K     |████████████████████████████████| 103 kB 51.9 MB/s \n",
      "\u001b[K     |████████████████████████████████| 2.0 MB 37.8 MB/s \n",
      "\u001b[K     |████████████████████████████████| 128 kB 28.4 MB/s \n",
      "\u001b[K     |████████████████████████████████| 112 kB 37.7 MB/s \n",
      "\u001b[K     |████████████████████████████████| 73 kB 2.4 MB/s \n",
      "\u001b[K     |████████████████████████████████| 149 kB 46.6 MB/s \n",
      "\u001b[K     |████████████████████████████████| 70 kB 7.5 MB/s \n",
      "\u001b[K     |████████████████████████████████| 339 kB 47.1 MB/s \n",
      "\u001b[?25h  Building wheel for textract (setup.py) ... \u001b[?25l\u001b[?25hdone\n",
      "  Building wheel for EbookLib (setup.py) ... \u001b[?25l\u001b[?25hdone\n",
      "  Building wheel for docx2txt (setup.py) ... \u001b[?25l\u001b[?25hdone\n",
      "  Building wheel for compressed-rtf (setup.py) ... \u001b[?25l\u001b[?25hdone\n",
      "  Building wheel for olefile (setup.py) ... \u001b[?25l\u001b[?25hdone\n",
      "  Building wheel for python-pptx (setup.py) ... \u001b[?25l\u001b[?25hdone\n",
      "\u001b[31mERROR: pip's dependency resolver does not currently take into account all the packages that are installed. This behaviour is the source of the following dependency conflicts.\n",
      "tox 3.24.4 requires six>=1.14.0, but you have six 1.12.0 which is incompatible.\n",
      "pytest 3.6.4 requires pluggy<0.8,>=0.5, but you have pluggy 1.0.0 which is incompatible.\n",
      "google-colab 1.0.0 requires six~=1.15.0, but you have six 1.12.0 which is incompatible.\n",
      "google-api-python-client 1.12.8 requires six<2dev,>=1.13.0, but you have six 1.12.0 which is incompatible.\n",
      "google-api-core 1.26.3 requires six>=1.13.0, but you have six 1.12.0 which is incompatible.\n",
      "datascience 0.10.6 requires folium==0.2.1, but you have folium 0.8.3 which is incompatible.\n",
      "albumentations 0.1.12 requires imgaug<0.2.7,>=0.2.5, but you have imgaug 0.2.9 which is incompatible.\u001b[0m\n"
     ]
    }
   ],
   "source": [
    "!pip install git+https://github.com/deanmalmgren/textract -q"
   ]
  },
  {
   "cell_type": "code",
   "execution_count": 1,
   "metadata": {
    "colab": {
     "base_uri": "https://localhost:8080/"
    },
    "executionInfo": {
     "elapsed": 6209,
     "status": "ok",
     "timestamp": 1639120772705,
     "user": {
      "displayName": "vanadhi chelliah",
      "photoUrl": "https://lh3.googleusercontent.com/a/default-user=s64",
      "userId": "11158136158943693689"
     },
     "user_tz": -330
    },
    "id": "GcgmnvD_Gc8T",
    "outputId": "03cdca09-28f2-426e-89d5-7c60abac9093"
   },
   "outputs": [
    {
     "name": "stderr",
     "output_type": "stream",
     "text": [
      "/usr/local/lib/python3.7/dist-packages/ray/autoscaler/_private/cli_logger.py:61: FutureWarning: Not all Ray CLI dependencies were found. In Ray 1.4+, the Ray CLI, autoscaler, and dashboard will only be usable via `pip install 'ray[default]'`. Please update your install command.\n",
      "  \"update your install command.\", FutureWarning)\n"
     ]
    }
   ],
   "source": [
    "# Here are the imports we need\n",
    "from haystack.nodes import TextConverter, PDFToTextConverter, DocxToTextConverter, PreProcessor\n",
    "from haystack.utils import convert_files_to_dicts, fetch_archive_from_http"
   ]
  },
  {
   "cell_type": "code",
   "execution_count": 2,
   "metadata": {
    "executionInfo": {
     "elapsed": 25,
     "status": "ok",
     "timestamp": 1639120772708,
     "user": {
      "displayName": "vanadhi chelliah",
      "photoUrl": "https://lh3.googleusercontent.com/a/default-user=s64",
      "userId": "11158136158943693689"
     },
     "user_tz": -330
    },
    "id": "WQS_bWaRg9cB"
   },
   "outputs": [],
   "source": [
    "import numpy as np\n",
    "import pandas as pd\n",
    "import regex as re\n",
    "import os\n",
    "import torch\n",
    "import json\n",
    "import sys\n",
    "import time\n",
    "import datetime\n",
    "import random\n",
    "import collections\n",
    "from pathlib import Path"
   ]
  },
  {
   "cell_type": "code",
   "execution_count": 3,
   "metadata": {
    "executionInfo": {
     "elapsed": 7,
     "status": "ok",
     "timestamp": 1639120774418,
     "user": {
      "displayName": "vanadhi chelliah",
      "photoUrl": "https://lh3.googleusercontent.com/a/default-user=s64",
      "userId": "11158136158943693689"
     },
     "user_tz": -330
    },
    "id": "ilQBDs3Kg9cC"
   },
   "outputs": [],
   "source": [
    "# Utility Function - Show random elements\n",
    "from datasets import ClassLabel\n",
    "import random\n",
    "import pandas as pd\n",
    "from IPython.display import display, HTML\n",
    "\n",
    "def show_random_elements(dataset, num_examples=5):\n",
    "    assert num_examples <= len(dataset), \"Can't pick more elements than there are in the dataset.\"\n",
    "    picks = []\n",
    "    for _ in range(num_examples):\n",
    "        pick = random.randint(0, len(dataset)-1)\n",
    "        while pick in picks:\n",
    "            pick = random.randint(0, len(dataset)-1)\n",
    "        picks.append(pick)\n",
    "    \n",
    "    df = pd.DataFrame(dataset[picks])\n",
    "    for column, typ in dataset.features.items():\n",
    "        if isinstance(typ, ClassLabel):\n",
    "            df[column] = df[column].transform(lambda i: typ.names[i])\n",
    "    display(HTML(df.to_html()))"
   ]
  },
  {
   "cell_type": "markdown",
   "metadata": {
    "id": "5ncyCEDFGwTR"
   },
   "source": [
    "# Merge Multiple PDFs"
   ]
  },
  {
   "cell_type": "markdown",
   "metadata": {
    "id": "NbTDMct7g9cM"
   },
   "source": [
    "First of all, custom data needs to be created for the Language model pre-training. This is done by consolidating all the downloadable contents from NCFE.org and then combining them all into a text document using available tools. "
   ]
  },
  {
   "cell_type": "code",
   "execution_count": 52,
   "metadata": {
    "executionInfo": {
     "elapsed": 574,
     "status": "ok",
     "timestamp": 1639126537677,
     "user": {
      "displayName": "vanadhi chelliah",
      "photoUrl": "https://lh3.googleusercontent.com/a/default-user=s64",
      "userId": "11158136158943693689"
     },
     "user_tz": -330
    },
    "id": "CsiWwc7MeBe-"
   },
   "outputs": [],
   "source": [
    "# Merge all pdf files in a current directory \n",
    "\n",
    "from glob import glob\n",
    "from PyPDF2 import PdfFileMerger\n",
    "\n",
    "def pdf_merge():\n",
    "    ''' \n",
    "    Merges all the pdf files in current directory \n",
    "    Creates a new merged pdf file in the current directory\n",
    "    '''\n",
    "    merger = PdfFileMerger(strict=False)\n",
    "    allpdfs = [a for a in glob(\"*.pdf\")]\n",
    "    for pdf in allpdfs:\n",
    "        print (pdf)\n",
    "        merger.append(pdf)\n",
    "    #[merger.append(pdf) for pdf in allpdfs]\n",
    "    with open(\"Merged_pdfs.pdf\", \"wb\") as new_file:\n",
    "        merger.write(new_file)"
   ]
  },
  {
   "cell_type": "code",
   "execution_count": 5,
   "metadata": {
    "colab": {
     "base_uri": "https://localhost:8080/"
    },
    "executionInfo": {
     "elapsed": 592,
     "status": "ok",
     "timestamp": 1639120785062,
     "user": {
      "displayName": "vanadhi chelliah",
      "photoUrl": "https://lh3.googleusercontent.com/a/default-user=s64",
      "userId": "11158136158943693689"
     },
     "user_tz": -330
    },
    "id": "kcirDJp1JK_W",
    "outputId": "93ba9559-b652-4f18-d69b-c40a319e2eb5"
   },
   "outputs": [
    {
     "name": "stdout",
     "output_type": "stream",
     "text": [
      "/content/drive/MyDrive/FinLitQA/NCFE_Content\n",
      "\n"
     ]
    }
   ],
   "source": [
    "# Change Directory to merge pdfs from \n",
    "\n",
    "os.chdir('/content/drive/MyDrive/FinLitQA/NCFE_Content')\n",
    "print(os.getcwd() + \"\\n\")"
   ]
  },
  {
   "cell_type": "code",
   "execution_count": 35,
   "metadata": {
    "executionInfo": {
     "elapsed": 370,
     "status": "ok",
     "timestamp": 1639123869162,
     "user": {
      "displayName": "vanadhi chelliah",
      "photoUrl": "https://lh3.googleusercontent.com/a/default-user=s64",
      "userId": "11158136158943693689"
     },
     "user_tz": -330
    },
    "id": "TFVTw8Dug9cQ"
   },
   "outputs": [],
   "source": [
    "# Merges all the pdfs in the current directory and create a new merged file in the current directory\n",
    "# Correctly specify the current directory before merge\n",
    "# Change Directory to merge pdfs from \n",
    "\n",
    "path_list = ['/content/drive/MyDrive/FinLitQA/NCFE_Content/NCFE_Booklets',\n",
    "             '/content/drive/MyDrive/FinLitQA/NCFE_Content/NCFE_Derivatives',\n",
    "             '/content/drive/MyDrive/FinLitQA/NCFE_Content/NCFE_Equity',\n",
    "             '/content/drive/MyDrive/FinLitQA/NCFE_Content/NCFE_FAQ',\n",
    "             '/content/drive/MyDrive/FinLitQA/NCFE_Content/NCFE_Handbooks',\n",
    "             '/content/drive/MyDrive/FinLitQA/NCFE_Content/NCFE_Insurance',\n",
    "             '/content/drive/MyDrive/FinLitQA/NCFE_Content/NCFE_Mutual_Fund',\n",
    "             '/content/drive/MyDrive/FinLitQA/NCFE_Content/NCFE_Others',\n",
    "             '/content/drive/MyDrive/FinLitQA/NCFE_Content/NCFE_Pensions',\n",
    "             '/content/drive/MyDrive/FinLitQA/NCFE_Content/NCFE_Target_Group_Booklets',\n",
    "             '/content/drive/MyDrive/FinLitQA/NCFE_Content/Other_Books'\n",
    "             ]\n",
    "\n",
    "path_list1 = ['/content/drive/MyDrive/FinLitQA/NCFE_Content/Other_Books']\n"
   ]
  },
  {
   "cell_type": "code",
   "execution_count": 56,
   "metadata": {
    "colab": {
     "base_uri": "https://localhost:8080/"
    },
    "executionInfo": {
     "elapsed": 2949,
     "status": "ok",
     "timestamp": 1639126699280,
     "user": {
      "displayName": "vanadhi chelliah",
      "photoUrl": "https://lh3.googleusercontent.com/a/default-user=s64",
      "userId": "11158136158943693689"
     },
     "user_tz": -330
    },
    "id": "0oc-0ETTZWEw",
    "outputId": "6cd71438-5436-4b2d-b677-749fb31d1994"
   },
   "outputs": [
    {
     "name": "stdout",
     "output_type": "stream",
     "text": [
      "Now merging documents in /content/drive/MyDrive/FinLitQA/NCFE_Content/Other_Books.\n",
      "Law.pdf\n",
      "Financial_planning.pdf\n",
      "Banking.pdf\n",
      "Banking_Study.pdf\n",
      "Fundamentals.pdf\n"
     ]
    }
   ],
   "source": [
    "for p in path_list1:\n",
    "    print (f'Now merging documents in {p}.')\n",
    "    os.chdir(p)\n",
    "    pdf_merge()"
   ]
  },
  {
   "cell_type": "code",
   "execution_count": 57,
   "metadata": {
    "colab": {
     "base_uri": "https://localhost:8080/"
    },
    "executionInfo": {
     "elapsed": 1503,
     "status": "ok",
     "timestamp": 1639126710449,
     "user": {
      "displayName": "vanadhi chelliah",
      "photoUrl": "https://lh3.googleusercontent.com/a/default-user=s64",
      "userId": "11158136158943693689"
     },
     "user_tz": -330
    },
    "id": "ZJPyu0Mwg9cS",
    "outputId": "ee2ab4d9-6576-4ed4-b433-72d4055c1c8e"
   },
   "outputs": [
    {
     "name": "stdout",
     "output_type": "stream",
     "text": [
      "/content/drive/MyDrive/FinLitQA/NCFE_Content\n",
      "mkdir: cannot create directory ‘Merged_pdfs’: File exists\n",
      "/content/drive/MyDrive/FinLitQA/NCFE_Content/NCFE_Booklets/Merged_pdfs.pdf\n",
      "/content/drive/MyDrive/FinLitQA/NCFE_Content/Merged_PDFs/Merged_2021-12-10 08_58_281.pdf\n",
      "/content/drive/MyDrive/FinLitQA/NCFE_Content/NCFE_Derivatives/Merged_pdfs.pdf\n",
      "/content/drive/MyDrive/FinLitQA/NCFE_Content/Merged_PDFs/Merged_2021-12-10 08_58_282.pdf\n",
      "/content/drive/MyDrive/FinLitQA/NCFE_Content/NCFE_Equity/Merged_pdfs.pdf\n",
      "/content/drive/MyDrive/FinLitQA/NCFE_Content/Merged_PDFs/Merged_2021-12-10 08_58_283.pdf\n",
      "/content/drive/MyDrive/FinLitQA/NCFE_Content/NCFE_FAQ/Merged_pdfs.pdf\n",
      "/content/drive/MyDrive/FinLitQA/NCFE_Content/Merged_PDFs/Merged_2021-12-10 08_58_284.pdf\n",
      "/content/drive/MyDrive/FinLitQA/NCFE_Content/NCFE_Handbooks/Merged_pdfs.pdf\n",
      "/content/drive/MyDrive/FinLitQA/NCFE_Content/Merged_PDFs/Merged_2021-12-10 08_58_285.pdf\n",
      "/content/drive/MyDrive/FinLitQA/NCFE_Content/NCFE_Insurance/Merged_pdfs.pdf\n",
      "/content/drive/MyDrive/FinLitQA/NCFE_Content/Merged_PDFs/Merged_2021-12-10 08_58_286.pdf\n",
      "/content/drive/MyDrive/FinLitQA/NCFE_Content/NCFE_Mutual_Fund/Merged_pdfs.pdf\n",
      "/content/drive/MyDrive/FinLitQA/NCFE_Content/Merged_PDFs/Merged_2021-12-10 08_58_287.pdf\n",
      "/content/drive/MyDrive/FinLitQA/NCFE_Content/NCFE_Others/Merged_pdfs.pdf\n",
      "/content/drive/MyDrive/FinLitQA/NCFE_Content/Merged_PDFs/Merged_2021-12-10 08_58_288.pdf\n",
      "/content/drive/MyDrive/FinLitQA/NCFE_Content/NCFE_Pensions/Merged_pdfs.pdf\n",
      "/content/drive/MyDrive/FinLitQA/NCFE_Content/Merged_PDFs/Merged_2021-12-10 08_58_289.pdf\n",
      "/content/drive/MyDrive/FinLitQA/NCFE_Content/NCFE_Target_Group_Booklets/Merged_pdfs.pdf\n",
      "/content/drive/MyDrive/FinLitQA/NCFE_Content/Merged_PDFs/Merged_2021-12-10 08_58_2810.pdf\n",
      "/content/drive/MyDrive/FinLitQA/NCFE_Content/Other_Books/Merged_pdfs.pdf\n",
      "/content/drive/MyDrive/FinLitQA/NCFE_Content/Merged_PDFs/Merged_2021-12-10 08_58_2811.pdf\n"
     ]
    }
   ],
   "source": [
    "# After creating merged Pdf documents for individual sections copy them all to one folder to create the master merged file\n",
    "\n",
    "import shutil\n",
    "import datetime\n",
    "\n",
    "now = str(datetime.datetime.now())[:19]\n",
    "now = now.replace(\":\",\"_\")\n",
    "\n",
    "# Current Directory \n",
    "%cd /content/drive/MyDrive/FinLitQA/NCFE_Content\n",
    "\n",
    "# Create Directory to save the model\n",
    "!mkdir Merged_pdfs\n",
    "\n",
    "ctr = 1\n",
    "for p in path_list:\n",
    "    src_dir= p+\"/\"+\"Merged_pdfs.pdf\"\n",
    "    print (src_dir)\n",
    "    dst_dir=\"/content/drive/MyDrive/FinLitQA/NCFE_Content/Merged_PDFs/Merged_\"+str(now)+str(ctr)+\".pdf\"\n",
    "    print (dst_dir)\n",
    "    shutil.copy(src_dir,dst_dir)\n",
    "    ctr+=1"
   ]
  },
  {
   "cell_type": "code",
   "execution_count": 59,
   "metadata": {
    "colab": {
     "base_uri": "https://localhost:8080/"
    },
    "executionInfo": {
     "elapsed": 34996,
     "status": "ok",
     "timestamp": 1639126877181,
     "user": {
      "displayName": "vanadhi chelliah",
      "photoUrl": "https://lh3.googleusercontent.com/a/default-user=s64",
      "userId": "11158136158943693689"
     },
     "user_tz": -330
    },
    "id": "lmL3QmZHg9cS",
    "outputId": "57ce7dc1-13fb-424e-e6f6-29dce1cca710"
   },
   "outputs": [
    {
     "name": "stdout",
     "output_type": "stream",
     "text": [
      "Merged_2021-12-10 08_58_281.pdf\n",
      "Merged_2021-12-10 08_58_282.pdf\n",
      "Merged_2021-12-10 08_58_283.pdf\n",
      "Merged_2021-12-10 08_58_284.pdf\n",
      "Merged_2021-12-10 08_58_285.pdf\n",
      "Merged_2021-12-10 08_58_286.pdf\n",
      "Merged_2021-12-10 08_58_287.pdf\n",
      "Merged_2021-12-10 08_58_288.pdf\n",
      "Merged_2021-12-10 08_58_289.pdf\n",
      "Merged_2021-12-10 08_58_2810.pdf\n",
      "Merged_2021-12-10 08_58_2811.pdf\n"
     ]
    }
   ],
   "source": [
    "# Merge all the documents in the Merged Pdfs folder to create a master pdf file\n",
    "\n",
    "os.chdir(\"/content/drive/MyDrive/FinLitQA/NCFE_Content/Merged_PDFs\")\n",
    "pdf_merge()"
   ]
  },
  {
   "cell_type": "markdown",
   "metadata": {
    "id": "otG88bAfg9cT"
   },
   "source": [
    "# Convert Merged pdf to text"
   ]
  },
  {
   "cell_type": "code",
   "execution_count": 60,
   "metadata": {
    "executionInfo": {
     "elapsed": 18416,
     "status": "ok",
     "timestamp": 1639126901240,
     "user": {
      "displayName": "vanadhi chelliah",
      "photoUrl": "https://lh3.googleusercontent.com/a/default-user=s64",
      "userId": "11158136158943693689"
     },
     "user_tz": -330
    },
    "id": "oLAsbYbEOK-U"
   },
   "outputs": [],
   "source": [
    "# Using File Converter\n",
    "from haystack.nodes import PDFToTextConverter\n",
    "\n",
    "converter = PDFToTextConverter(remove_numeric_tables=True, valid_languages=[\"de\",\"en\"])\n",
    "\n",
    "final_merged_file_path = '/content/drive/MyDrive/FinLitQA/NCFE_Content/Merged_PDFs/Merged_pdfs.pdf'\n",
    "\n",
    "merged_text = converter.convert(file_path=final_merged_file_path, meta=None)"
   ]
  },
  {
   "cell_type": "code",
   "execution_count": 82,
   "metadata": {
    "executionInfo": {
     "elapsed": 429,
     "status": "ok",
     "timestamp": 1639127293567,
     "user": {
      "displayName": "vanadhi chelliah",
      "photoUrl": "https://lh3.googleusercontent.com/a/default-user=s64",
      "userId": "11158136158943693689"
     },
     "user_tz": -330
    },
    "id": "6qXFFXPre_Fm"
   },
   "outputs": [],
   "source": [
    "# merged_text, len(merged_text)"
   ]
  },
  {
   "cell_type": "code",
   "execution_count": 61,
   "metadata": {
    "colab": {
     "base_uri": "https://localhost:8080/"
    },
    "executionInfo": {
     "elapsed": 607,
     "status": "ok",
     "timestamp": 1639126911165,
     "user": {
      "displayName": "vanadhi chelliah",
      "photoUrl": "https://lh3.googleusercontent.com/a/default-user=s64",
      "userId": "11158136158943693689"
     },
     "user_tz": -330
    },
    "id": "MzP2oK0pSJ4z",
    "outputId": "b398fb67-ea31-404a-a966-ddc8e0233f00"
   },
   "outputs": [
    {
     "data": {
      "text/plain": [
       "list"
      ]
     },
     "execution_count": 61,
     "metadata": {},
     "output_type": "execute_result"
    }
   ],
   "source": [
    "type(merged_text)"
   ]
  },
  {
   "cell_type": "code",
   "execution_count": 62,
   "metadata": {
    "executionInfo": {
     "elapsed": 401,
     "status": "ok",
     "timestamp": 1639126914169,
     "user": {
      "displayName": "vanadhi chelliah",
      "photoUrl": "https://lh3.googleusercontent.com/a/default-user=s64",
      "userId": "11158136158943693689"
     },
     "user_tz": -330
    },
    "id": "RVgHsgOZyWxw"
   },
   "outputs": [],
   "source": [
    "merged_text_clean = merged_text.copy()"
   ]
  },
  {
   "cell_type": "code",
   "execution_count": null,
   "metadata": {
    "id": "go6Vs37Btr3E"
   },
   "outputs": [],
   "source": [
    "# merged_df = pd.DataFrame([merged_text])\n",
    "# merged_df"
   ]
  },
  {
   "cell_type": "markdown",
   "metadata": {
    "id": "McvS7Hp8TO9e"
   },
   "source": [
    "# Cleaning and Pre-processing"
   ]
  },
  {
   "cell_type": "code",
   "execution_count": 63,
   "metadata": {
    "executionInfo": {
     "elapsed": 9,
     "status": "ok",
     "timestamp": 1639126920303,
     "user": {
      "displayName": "vanadhi chelliah",
      "photoUrl": "https://lh3.googleusercontent.com/a/default-user=s64",
      "userId": "11158136158943693689"
     },
     "user_tz": -330
    },
    "id": "lcdP_LlVWa_k"
   },
   "outputs": [],
   "source": [
    "import regex as re\n",
    "\n",
    "def clean_text(text):\n",
    "    \"\"\"Returns a lower-cased string with punctuations and special characters removed.\n",
    "    Returns:\n",
    "        processed_text: str\n",
    "    ----------\n",
    "    Arguments:\n",
    "        text: str of text\n",
    "    \"\"\"\n",
    "    text = str(text)\n",
    "    #Substitute punctuations and special characters for a space\n",
    "    x = re.sub('[…“”%!&\"@#()\\-\\*\\+,/:;<=>?@[\\]\\^_`{\\}~]', ' ', text)\n",
    "    #Remove periods\n",
    "    y = re.sub('[\\.\\']', \"\", x)\n",
    "    #Remove Newlines\n",
    "    y = re.sub(\"\\n\", \"\", text)\n",
    "    text = text.strip().replace('\\n', ' ')\n",
    "    # Apply lower-case\n",
    "    cleaned_text = text.lower()\n",
    "\n",
    "    return cleaned_text"
   ]
  },
  {
   "cell_type": "code",
   "execution_count": null,
   "metadata": {
    "id": "9FMqE0CXs1Sr"
   },
   "outputs": [],
   "source": [
    "# merged_df['content_clean'] = merged_df['content'].apply(clean_text)\n",
    "# merged_df.head()"
   ]
  },
  {
   "cell_type": "markdown",
   "metadata": {
    "id": "cTfnO1dPC3Or",
    "pycharm": {
     "name": "#%% md\n"
    }
   },
   "source": [
    "**Cleaning**\n",
    "\n",
    "- `clean_empty_lines` will normalize 3 or more consecutive empty lines to be just a two empty lines\n",
    "- `clean_whitespace` will remove any whitespace at the beginning or end of each line in the text\n",
    "- `clean_header_footer` will remove any long header or footer texts that are repeated on each page"
   ]
  },
  {
   "cell_type": "code",
   "execution_count": 64,
   "metadata": {
    "executionInfo": {
     "elapsed": 443,
     "status": "ok",
     "timestamp": 1639126926803,
     "user": {
      "displayName": "vanadhi chelliah",
      "photoUrl": "https://lh3.googleusercontent.com/a/default-user=s64",
      "userId": "11158136158943693689"
     },
     "user_tz": -330
    },
    "id": "Nj3lZHyFC3Oq",
    "pycharm": {
     "name": "#%%\n"
    }
   },
   "outputs": [],
   "source": [
    "# This is a default usage of the PreProcessor.\n",
    "# Here, it performs cleaning of consecutive whitespaces\n",
    "# and splits a single large document into smaller documents.\n",
    "# Each document is up to 1000 words long and document breaks cannot fall in the middle of sentences\n",
    "# Note how the single document passed into the document gets split into 5 smaller documents\n",
    "\n",
    "def pre_process(doc_txt):\n",
    "    preprocessor = PreProcessor(\n",
    "        clean_empty_lines=True,\n",
    "        clean_whitespace=True,\n",
    "        clean_header_footer=True,\n",
    "        split_by=\"word\",\n",
    "        split_length=200,\n",
    "        split_respect_sentence_boundary=True\n",
    "    )\n",
    "    processed_text = preprocessor.process(doc_txt)\n",
    "    return processed_text\n"
   ]
  },
  {
   "cell_type": "code",
   "execution_count": 65,
   "metadata": {
    "colab": {
     "base_uri": "https://localhost:8080/",
     "output_embedded_package_id": "1BFO6ydjDWASPjGRPoy0R7vxdgv66vjH4"
    },
    "executionInfo": {
     "elapsed": 3751,
     "status": "ok",
     "timestamp": 1639126935933,
     "user": {
      "displayName": "vanadhi chelliah",
      "photoUrl": "https://lh3.googleusercontent.com/a/default-user=s64",
      "userId": "11158136158943693689"
     },
     "user_tz": -330
    },
    "id": "TQ7PYwSqRoi0",
    "outputId": "515245c2-07eb-48b9-abb3-1f0e9e8128fe"
   },
   "outputs": [
    {
     "data": {
      "text/plain": [
       "Output hidden; open in https://colab.research.google.com to view."
      ]
     },
     "metadata": {},
     "output_type": "display_data"
    }
   ],
   "source": [
    "merged_text_clean"
   ]
  },
  {
   "cell_type": "code",
   "execution_count": 66,
   "metadata": {
    "executionInfo": {
     "elapsed": 389,
     "status": "ok",
     "timestamp": 1639126942211,
     "user": {
      "displayName": "vanadhi chelliah",
      "photoUrl": "https://lh3.googleusercontent.com/a/default-user=s64",
      "userId": "11158136158943693689"
     },
     "user_tz": -330
    },
    "id": "BDiR73K9R6q8"
   },
   "outputs": [],
   "source": [
    "merged_dict = merged_text_clean[0]"
   ]
  },
  {
   "cell_type": "code",
   "execution_count": 30,
   "metadata": {
    "colab": {
     "base_uri": "https://localhost:8080/",
     "output_embedded_package_id": "1NMQLhbLK07O4_9sQ4xMpXr3wVqZqL8FL"
    },
    "executionInfo": {
     "elapsed": 2891,
     "status": "ok",
     "timestamp": 1639122439650,
     "user": {
      "displayName": "vanadhi chelliah",
      "photoUrl": "https://lh3.googleusercontent.com/a/default-user=s64",
      "userId": "11158136158943693689"
     },
     "user_tz": -330
    },
    "id": "08MAWO21T0o0",
    "outputId": "7aa3ec35-2149-4e8a-af17-92aa097b7014"
   },
   "outputs": [
    {
     "data": {
      "text/plain": [
       "Output hidden; open in https://colab.research.google.com to view."
      ]
     },
     "metadata": {},
     "output_type": "display_data"
    }
   ],
   "source": [
    "merged_dict"
   ]
  },
  {
   "cell_type": "code",
   "execution_count": 67,
   "metadata": {
    "executionInfo": {
     "elapsed": 529,
     "status": "ok",
     "timestamp": 1639126945190,
     "user": {
      "displayName": "vanadhi chelliah",
      "photoUrl": "https://lh3.googleusercontent.com/a/default-user=s64",
      "userId": "11158136158943693689"
     },
     "user_tz": -330
    },
    "id": "27Ukiv2mvqy_"
   },
   "outputs": [],
   "source": [
    "merged_dict.update({'content': clean_text(merged_dict['content'])}) "
   ]
  },
  {
   "cell_type": "code",
   "execution_count": 68,
   "metadata": {
    "colab": {
     "base_uri": "https://localhost:8080/",
     "output_embedded_package_id": "1x31sLq2D7aWikV_B8KA1q2DB6u6d2V9s"
    },
    "executionInfo": {
     "elapsed": 3458,
     "status": "ok",
     "timestamp": 1639126951891,
     "user": {
      "displayName": "vanadhi chelliah",
      "photoUrl": "https://lh3.googleusercontent.com/a/default-user=s64",
      "userId": "11158136158943693689"
     },
     "user_tz": -330
    },
    "id": "4IxSjQr_vzU7",
    "outputId": "badea230-9fbd-447a-be08-954693da8da2"
   },
   "outputs": [
    {
     "data": {
      "text/plain": [
       "Output hidden; open in https://colab.research.google.com to view."
      ]
     },
     "metadata": {},
     "output_type": "display_data"
    }
   ],
   "source": [
    "merged_dict"
   ]
  },
  {
   "cell_type": "code",
   "execution_count": 69,
   "metadata": {
    "colab": {
     "base_uri": "https://localhost:8080/"
    },
    "executionInfo": {
     "elapsed": 7652,
     "status": "ok",
     "timestamp": 1639126973887,
     "user": {
      "displayName": "vanadhi chelliah",
      "photoUrl": "https://lh3.googleusercontent.com/a/default-user=s64",
      "userId": "11158136158943693689"
     },
     "user_tz": -330
    },
    "id": "mELyKMXDfRKN",
    "outputId": "26d597b1-b473-46c0-bf61-dee5a890c016"
   },
   "outputs": [
    {
     "name": "stderr",
     "output_type": "stream",
     "text": [
      "WARNING - haystack.nodes.preprocessor.preprocessor -  One or more sentence found with word count higher than the split length.\n"
     ]
    },
    {
     "name": "stdout",
     "output_type": "stream",
     "text": [
      "n_docs_input: 1\n",
      "n_docs_output: 4003\n"
     ]
    }
   ],
   "source": [
    "# Pre-process the merged-text using the PreProcessor utility\n",
    "\n",
    "ncfe_docs = pre_process(merged_dict)\n",
    "\n",
    "print(f\"n_docs_input: 1\\nn_docs_output: {len(ncfe_docs)}\")"
   ]
  },
  {
   "cell_type": "code",
   "execution_count": 70,
   "metadata": {
    "colab": {
     "base_uri": "https://localhost:8080/"
    },
    "executionInfo": {
     "elapsed": 468,
     "status": "ok",
     "timestamp": 1639126977898,
     "user": {
      "displayName": "vanadhi chelliah",
      "photoUrl": "https://lh3.googleusercontent.com/a/default-user=s64",
      "userId": "11158136158943693689"
     },
     "user_tz": -330
    },
    "id": "SaWT8LK7fWt3",
    "outputId": "3bbc8425-ed01-4cbf-e862-0bb6c2a1b2df"
   },
   "outputs": [
    {
     "data": {
      "text/plain": [
       "(4003,\n",
       " [{'content': 'fundamental messages in financial literacy savings national centre for financial education\\nsavings   one by one makes a bundle you don\\'t need much money to start saving. whether you are a student, a farmer, a teacher, nurse, banker, market vendor, taxi driver or a business person, you can always put a little money aside. when you save regularly, your money will \"grow\". spend less to save more you can save by spending less. cutting down on consumption, such as alcohol and on buying new clothes for every function, enables you to save more money to provide for you and your family\\'s future. encourage your children to save parents should teach children to start saving for a purpose while they are still young. this helps children to understand the value of money and to develop a savings culture at an early age. you can help a child save money in a small tin or box (piggy bank). save to avoid unnecessary debt savings are the best way to pay for day-today costs like school fees, clothing and medical charges. it is better to save for such expenses than to borrow.',\n",
       "   'content_type': 'text',\n",
       "   'meta': {'_split_id': 0}},\n",
       "  {'content': 'for example, if you start saving for your children\\'s\\nsavings education early enough, you may not need to take an education loan or borrow money from a friend to pay fees. while people sometimes get into \"debt trouble\" by borrowing unwisely, they never get into \"savings trouble\". always have an \"emergency fund\" savings are very helpful in addressing unexpected or unforeseen problems such as illness, accidents, unemployment, robbery, drought, funerals, too much rain that destroys crops etc. in such situations, your savings can help you as you recover. make sure that you keep money for emergencies. if you ever have to use part of your emergency fund, top it up again as soon as you can. save for special events have a savings account or a small tin or box to save for luxuries such as birthdays, a wedding ceremony or holidays. you can plan ahead for this and hence save over a long period of time. for example, if you plan to have a wedding at the end of next year, you can plan to save 10, 000/= every month for 20 months. by the wedding day, you would have saved 2, 00,000/=.',\n",
       "   'content_type': 'text',\n",
       "   'meta': {'_split_id': 1}},\n",
       "  {'content': \"it is your right to enjoy your money if you plan and save towards such luxuries. savings   4 steps to achieve your savings goals decide what you want to save for and find out how much it will cost  whether it is buying a house, land, starting/improving a business, studying or saving for your child's school fees, etc. ensure that what you are saving for is realistic and not over-ambitious. start saving now  the sooner you start, the sooner you'll get there. put your savings in a safe and secure place where you earn good interest. keep saving regularly and over a long period of time. it's only then that your money can accumulate. make use of a standing order sometimes you may not be disciplined enough to save regularly. you can go to your bank and set up a standing order to ensure that you do save regularly. a standing order is an instruction to a bank to pay a set amount of money at regular intervals from one account to another. however, take note of the charges.\",\n",
       "   'content_type': 'text',\n",
       "   'meta': {'_split_id': 2}},\n",
       "  {'content': \"if you are an employee, you can also ask your employer to transfer part of your salary directly to your savings account. national centre for financial education nism bhavan, plot no. 82, sector 17, vashi, navi mumbai 400 703 email: ncfe@nism.ac.in | website: www.ncfeindia.org\\nfundamental messages in financial literacy insurance national centre for financial education\\ninsurance   protect yourself and your loved ones no one plans to get in an accident or become seriously ill. the chances of these things happening to you may be very small. so we may put off buying the insurance we need. but these things do happen. it's only when the event occurs that we realize that we may not be as well protected as we would wish. insurance is a way to protect yourself and your loved ones from financial hardship in case losses occur. insurance is a contract insurance is a contract, called a policy, between you and an insurance provider,  under which you can be compensated for certain losses. you pay a fee called a premium.\",\n",
       "   'content_type': 'text',\n",
       "   'meta': {'_split_id': 3}},\n",
       "  {'content': 'in exchange, the insurance company agrees to pay you a certain amount of money if the event you are insured against happens during the term of the policy. before buying insurance before buying insurance, look at all the protections you currently have, privately or through your employer. keep in mind that some types of insurance are very expensive and may not be worthwhile. consult an insurance agent or broker to help you determine what types of insurance and levels of coverage are available, and then decide what is right for you. insurance life insurance life insurance provides a financial payment to your beneficiary upon your death. when you buy a life insurance policy, you name a beneficiary, the person (or persons) who will receive the payment. the insurance company pays the amount of your insurance to the beneficiary after your death. review your life insurance coverage when your life circumstances change such as getting married, having a baby or supporting your parents. health insurance in the recent past the cost of treatment has increased many folds. a simple visit to a doctor now costs anywhere between 300 to 3000 rupees, depending on where you live.',\n",
       "   'content_type': 'text',\n",
       "   'meta': {'_split_id': 4}}],\n",
       " [{'content': 'd) to maintain its secrecy, the society sends to each of its members, rectified/changed program intimations at regular intervals. 8.4 core banking solution : core banking solutions are banking applications on a platform enabling a phased, strategic approach that lets people improve operations, reduce costs, and prepare for growth. implementing\\nfundamental of banking a modular, component-based enterprise solution ensures strong integration with your existing technologies. an overall serviceoriented-architecture (soa) helps banks to reduce the risk that can result from multiple data entries and out-of-date information, increase management approval, and avoid the potential disruption to business caused by replacing entire systems. core banking solutions is new jargon frequently used in banking circles. the advancement in technology, especially internet and information technology has led to new ways of doing business in banking. these technologies have cut down time, working simultaneously on different issues and increasing efficiency. the platform where communication technology and information technology are merged to suit core needs of banking is known as core banking solutions. here computer software is developed to perform core operations of banking like recording of transactions, passbook maintenance, interest calculations on loans and deposits, customer records, balance of payments and withdrawal are done.',\n",
       "   'content_type': 'text',\n",
       "   'meta': {'_split_id': 3998}},\n",
       "  {'content': 'this software is installed at different branches of bank and then interconnected by means of communication lines like telephones, satellite, internet etc. it allows the user (customers) to operate accounts from any branch if it has installed core banking solutions. this new platform has changed the way banks are working. 8.4.1. meaning : core banking is a general term used to describe the services provided by a group of networked bank branches. bank customers\\ntechnology in banking may access their funds and other simple transactions from any of the member branch offices. core banking is normally defined as the business conducted by a banking institution with its retail and small business customers. many banks treat the retail customers as their core banking customers, and have a separate line of business to manage small businesses. larger businesses are managed via the corporate banking division of the institution. core banking basically is depositing and lending of money. normal core banking functions will include deposit accounts, loans, mortgages and payments. banks make these services available across multiple channels like atms, internet banking, and branches. 8.4.2. benefits : 1) centralised working. 2) branch concept goes for the data compilation at head office.',\n",
       "   'content_type': 'text',\n",
       "   'meta': {'_split_id': 3999}},\n",
       "  {'content': '3) customer becomes customer of bank and not of a branch. 4) any where service / any branch banking available to customer. 5) centralised mis. 6) centralised control. 7) change in operational areas such as change in rate of interest etc. can be done at one place that avoids human errors in different way at different locations. 8) avoidance of repetitive work at each branch location. 9) centralised audit possible. fundamental of banking 10) manpower at branch level gets reduced. 11) branch becomes only service location and due to shedding away of many of the work areas they can concentrate on customer service. 12) marketing, recovery, product innovation can be looked by head office in more effective way. 13) assessment of any deposit or loan scheme can be judged at any moment for all branches and suitable modifications or closure of scheme can be thought. 14) introduction of new deposit or loan scheme can be launched with all correct details at all branches at same time. 15) centralised clearing at each city. 16) mailing solution can reduce paper work and give faster communication and decision. 17) assessment / view of work at any work station on-line and live.',\n",
       "   'content_type': 'text',\n",
       "   'meta': {'_split_id': 4000}},\n",
       "  {'content': '18) measurement of quality and quantity of work of any employee from central location. review questions 20 words questions q. 1. what is tele - banking ? q. 2. what do you mean by atm ? technology in banking q. 3. what do you mean by debit - cards ? q. 4. what is credit cards ? q. 5. what is net banking ? 50 words questions q. 1. discuss the term of \"swift\". q. 2. discuss the core banking solution. q. 3. discuss the elimination of manual processing of data. q. 4. give any five advantages of tele-banking. q. 5. give the advantages of credit cards. 150 words questions q. 1. write a short note on \"swift\". q. 2. explain a note on ingredients of core banking system. q. 3. explain the importance of technology in banking. q. 4. state the need of technology in banking. q. 5. discuss the term \"management information system\". q. 6. write a short notes on : 1) general principles of lending. 2) diversification of risks. 3) liquidity and safety. 4) balance sheet. 5) multiple credit creation. fundamental of banking 500 words questions q. 1. explain the conflict between liquidity and profitability. q.',\n",
       "   'content_type': 'text',\n",
       "   'meta': {'_split_id': 4001}},\n",
       "  {'content': '2. what is credit creation ? explain the process and limitations of credit creation. q. 3. explain in detail liabilities and asset side of commercial bank balance sheet. ]]]',\n",
       "   'content_type': 'text',\n",
       "   'meta': {'_split_id': 4002}}])"
      ]
     },
     "execution_count": 70,
     "metadata": {},
     "output_type": "execute_result"
    }
   ],
   "source": [
    "len(ncfe_docs), ncfe_docs[:5], ncfe_docs[-5:]"
   ]
  },
  {
   "cell_type": "code",
   "execution_count": 71,
   "metadata": {
    "executionInfo": {
     "elapsed": 368,
     "status": "ok",
     "timestamp": 1639127072376,
     "user": {
      "displayName": "vanadhi chelliah",
      "photoUrl": "https://lh3.googleusercontent.com/a/default-user=s64",
      "userId": "11158136158943693689"
     },
     "user_tz": -330
    },
    "id": "vbraqqpAFQUa"
   },
   "outputs": [],
   "source": [
    "import pandas as pd\n",
    "ncfe_data_df = pd.DataFrame.from_dict(ncfe_docs)"
   ]
  },
  {
   "cell_type": "code",
   "execution_count": 72,
   "metadata": {
    "executionInfo": {
     "elapsed": 606,
     "status": "ok",
     "timestamp": 1639127074203,
     "user": {
      "displayName": "vanadhi chelliah",
      "photoUrl": "https://lh3.googleusercontent.com/a/default-user=s64",
      "userId": "11158136158943693689"
     },
     "user_tz": -330
    },
    "id": "9SKpKmfJ1Tfj"
   },
   "outputs": [],
   "source": [
    "ncfe_data_df = ncfe_data_df[\"content\"]"
   ]
  },
  {
   "cell_type": "code",
   "execution_count": 73,
   "metadata": {
    "colab": {
     "base_uri": "https://localhost:8080/"
    },
    "executionInfo": {
     "elapsed": 4,
     "status": "ok",
     "timestamp": 1639127074575,
     "user": {
      "displayName": "vanadhi chelliah",
      "photoUrl": "https://lh3.googleusercontent.com/a/default-user=s64",
      "userId": "11158136158943693689"
     },
     "user_tz": -330
    },
    "id": "z8w9aD3SKPCC",
    "outputId": "4fbf70c4-a8d8-4efb-daba-e7f4bc58e0eb"
   },
   "outputs": [
    {
     "data": {
      "text/plain": [
       "0    fundamental messages in financial literacy savings national centre for finan...\n",
       "1    for example, if you start saving for your children's\\nsavings education earl...\n",
       "2    it is your right to enjoy your money if you plan and save towards such luxur...\n",
       "3    if you are an employee, you can also ask your employer to transfer part of y...\n",
       "4    in exchange, the insurance company agrees to pay you a certain amount of mon...\n",
       "Name: content, dtype: object"
      ]
     },
     "execution_count": 73,
     "metadata": {},
     "output_type": "execute_result"
    }
   ],
   "source": [
    "ncfe_data_df.head()"
   ]
  },
  {
   "cell_type": "markdown",
   "metadata": {
    "id": "4STVx0VAHG_g"
   },
   "source": [
    "# Write Data to Drive"
   ]
  },
  {
   "cell_type": "code",
   "execution_count": 74,
   "metadata": {
    "executionInfo": {
     "elapsed": 378,
     "status": "ok",
     "timestamp": 1639127079622,
     "user": {
      "displayName": "vanadhi chelliah",
      "photoUrl": "https://lh3.googleusercontent.com/a/default-user=s64",
      "userId": "11158136158943693689"
     },
     "user_tz": -330
    },
    "id": "-cPEKi1pOKUB"
   },
   "outputs": [],
   "source": [
    "# Copy CSV file to Google Drive\n",
    "\n",
    "ncfe_data_df.to_csv('ncfe_data.txt', header=True, index=True, sep='\\t', mode='a')"
   ]
  },
  {
   "cell_type": "code",
   "execution_count": 75,
   "metadata": {
    "executionInfo": {
     "elapsed": 1141,
     "status": "ok",
     "timestamp": 1639127082299,
     "user": {
      "displayName": "vanadhi chelliah",
      "photoUrl": "https://lh3.googleusercontent.com/a/default-user=s64",
      "userId": "11158136158943693689"
     },
     "user_tz": -330
    },
    "id": "KukWLvXOK-Fd"
   },
   "outputs": [],
   "source": [
    "# Write to drive location\n",
    "\n",
    "!cp ncfe_data.txt \"/content/drive/MyDrive/FinLitQA/NCFE_Content\""
   ]
  },
  {
   "cell_type": "markdown",
   "metadata": {
    "id": "y0V109nEg9cd"
   },
   "source": [
    "# Prepare Data for Training"
   ]
  },
  {
   "cell_type": "code",
   "execution_count": 76,
   "metadata": {
    "executionInfo": {
     "elapsed": 564,
     "status": "ok",
     "timestamp": 1639127092769,
     "user": {
      "displayName": "vanadhi chelliah",
      "photoUrl": "https://lh3.googleusercontent.com/a/default-user=s64",
      "userId": "11158136158943693689"
     },
     "user_tz": -330
    },
    "id": "NZkSuQlng9cd"
   },
   "outputs": [],
   "source": [
    "from sklearn.model_selection import train_test_split\n",
    "ncfe_data_train, ncfe_data_valid = train_test_split(ncfe_data_df, test_size=0.2, random_state=100, shuffle=True)"
   ]
  },
  {
   "cell_type": "code",
   "execution_count": 77,
   "metadata": {
    "executionInfo": {
     "elapsed": 1537,
     "status": "ok",
     "timestamp": 1639127094994,
     "user": {
      "displayName": "vanadhi chelliah",
      "photoUrl": "https://lh3.googleusercontent.com/a/default-user=s64",
      "userId": "11158136158943693689"
     },
     "user_tz": -330
    },
    "id": "--xhoEpCg9cd"
   },
   "outputs": [],
   "source": [
    "# Write data to file\n",
    "# Created three new text files in the FinLitQA/NCFE_Content folder \n",
    "# ncfe_data.txt , ncfe_data_train.txt, ncfe_data_valid.txt\n",
    "\n",
    "import csv\n",
    "\n",
    "ncfe_data_path = '/content/drive/MyDrive/FinLitQA/NCFE_Content/ncfe_data.txt'\n",
    "ncfe_data_train_path = '/content/drive/MyDrive/FinLitQA/NCFE_Content/ncfe_data_train.txt'\n",
    "ncfe_data_valid_path = '/content/drive/MyDrive/FinLitQA/NCFE_Content/ncfe_data_valid.txt'\n",
    "\n",
    "ncfe_data_df.to_csv(ncfe_data_path ,index=False,header=False, sep=\"\\t\")\n",
    "ncfe_data_train.to_csv(ncfe_data_train_path, index=False,header=False, sep=\"\\t\")\n",
    "ncfe_data_valid.to_csv(ncfe_data_valid_path, index=False,header=False, sep=\"\\t\")"
   ]
  },
  {
   "cell_type": "code",
   "execution_count": 78,
   "metadata": {
    "colab": {
     "base_uri": "https://localhost:8080/"
    },
    "executionInfo": {
     "elapsed": 413,
     "status": "ok",
     "timestamp": 1639127098111,
     "user": {
      "displayName": "vanadhi chelliah",
      "photoUrl": "https://lh3.googleusercontent.com/a/default-user=s64",
      "userId": "11158136158943693689"
     },
     "user_tz": -330
    },
    "id": "iabRH8nOg9ce",
    "outputId": "b792685e-5e23-47b9-d2ad-96715ff285f0"
   },
   "outputs": [
    {
     "name": "stdout",
     "output_type": "stream",
     "text": [
      "(4003,) (3202,) (801,)\n"
     ]
    }
   ],
   "source": [
    "print (ncfe_data_df.shape, ncfe_data_train.shape, ncfe_data_valid.shape)"
   ]
  },
  {
   "cell_type": "code",
   "execution_count": 79,
   "metadata": {
    "colab": {
     "base_uri": "https://localhost:8080/",
     "height": 391,
     "referenced_widgets": [
      "3308665fd16e4b90b1d9742a64e76a80",
      "2d1d631b950a4ad3ac99cceb6f97801a",
      "b34b1ace82f442a196887f81bb970ea5",
      "10cf8282535f409096fea13d120bd15c",
      "56966d437866413bb95739f580026d52",
      "a06e85ed159c426fabdaf615d8e9eb51",
      "ad6643218c354e72855566c82b23b533",
      "c6f558407d6548588b1960bf34e8a9e0",
      "5f4854f580a74dcb893a031bbeb192e8",
      "9a82fcfb6aa34480bf51d7caaf62cedc",
      "40374d10497e44a291f9f100f7f8ee30",
      "552be956fc5648a4bb37559fa8518396",
      "1ed77d6be6d34cd98cf41e728d90f844",
      "26bd448b6f144be29ad8ac3cae5af2fa",
      "06fb1107b7284dab867c25035126ace0",
      "81dc49f165ee4e92ad5ea8fa83321ac0",
      "a6ef4f5429d64fe1943e5176483adedc",
      "c39d6b38af96456fb5e0218edae6d7a2",
      "b70b060172d5412990f00a5e1d9102f6",
      "20e14d08dd9947efaea2536f9f691d36",
      "1ce26667fd224965b430fe21b7469557",
      "da927f81ef69448b88d702a978db29d2",
      "33e53fb1f1df4f8e8a4d373b018ca745",
      "adc3dd6987bd449794cea79627579698",
      "e34be5962cbb42efbe9488f0dbf73ba9",
      "9585edf6051b4b859f6c43a254021628",
      "68eda0a8624743a3b9f925fed726ec5f",
      "d83f68f0f42b45969148684735790df0",
      "e3c32863b4bc41928b763fd0414091d1",
      "724b1fbf3f504e3190e0bf0057a55ca6",
      "8c226a89a1c54a468d7d5e75fe9077a3",
      "de8bfdb39b0e4ac7b061f20a16334eea",
      "ccfbb3bdd5de4a3792331d9c27ed224f"
     ]
    },
    "executionInfo": {
     "elapsed": 1479,
     "status": "ok",
     "timestamp": 1639127105125,
     "user": {
      "displayName": "vanadhi chelliah",
      "photoUrl": "https://lh3.googleusercontent.com/a/default-user=s64",
      "userId": "11158136158943693689"
     },
     "user_tz": -330
    },
    "id": "1gYLq5eLg9ce",
    "outputId": "883d3a56-3586-4b23-b87d-100a6b119322"
   },
   "outputs": [
    {
     "name": "stderr",
     "output_type": "stream",
     "text": [
      "WARNING - datasets.builder -  Using custom data configuration default-3f4ed03ae061731f\n"
     ]
    },
    {
     "name": "stdout",
     "output_type": "stream",
     "text": [
      "Downloading and preparing dataset text/default to /root/.cache/huggingface/datasets/text/default-3f4ed03ae061731f/0.0.0/e16f44aa1b321ece1f87b07977cc5d70be93d69b20486d6dacd62e12cf25c9a5...\n"
     ]
    },
    {
     "data": {
      "application/vnd.jupyter.widget-view+json": {
       "model_id": "3308665fd16e4b90b1d9742a64e76a80",
       "version_major": 2,
       "version_minor": 0
      },
      "text/plain": [
       "  0%|          | 0/2 [00:00<?, ?it/s]"
      ]
     },
     "metadata": {},
     "output_type": "display_data"
    },
    {
     "data": {
      "application/vnd.jupyter.widget-view+json": {
       "model_id": "552be956fc5648a4bb37559fa8518396",
       "version_major": 2,
       "version_minor": 0
      },
      "text/plain": [
       "  0%|          | 0/2 [00:00<?, ?it/s]"
      ]
     },
     "metadata": {},
     "output_type": "display_data"
    },
    {
     "name": "stdout",
     "output_type": "stream",
     "text": [
      "Dataset text downloaded and prepared to /root/.cache/huggingface/datasets/text/default-3f4ed03ae061731f/0.0.0/e16f44aa1b321ece1f87b07977cc5d70be93d69b20486d6dacd62e12cf25c9a5. Subsequent calls will reuse this data.\n"
     ]
    },
    {
     "data": {
      "application/vnd.jupyter.widget-view+json": {
       "model_id": "33e53fb1f1df4f8e8a4d373b018ca745",
       "version_major": 2,
       "version_minor": 0
      },
      "text/plain": [
       "  0%|          | 0/2 [00:00<?, ?it/s]"
      ]
     },
     "metadata": {},
     "output_type": "display_data"
    },
    {
     "data": {
      "text/plain": [
       "(DatasetDict({\n",
       "    train: Dataset({\n",
       "        features: ['text'],\n",
       "        num_rows: 4690\n",
       "    })\n",
       "    validation: Dataset({\n",
       "        features: ['text'],\n",
       "        num_rows: 1220\n",
       "    })\n",
       "}),\n",
       " {'train': ['text'], 'validation': ['text']})"
      ]
     },
     "execution_count": 79,
     "metadata": {},
     "output_type": "execute_result"
    }
   ],
   "source": [
    "from datasets import load_dataset\n",
    "finlit_data = load_dataset(\"text\", data_files={\"train\": ncfe_data_train_path,\n",
    "                                             \"validation\": ncfe_data_valid_path})\n",
    "\n",
    "finlit_data, finlit_data.column_names"
   ]
  },
  {
   "cell_type": "code",
   "execution_count": 80,
   "metadata": {
    "colab": {
     "base_uri": "https://localhost:8080/",
     "height": 501
    },
    "executionInfo": {
     "elapsed": 662,
     "status": "ok",
     "timestamp": 1639127113766,
     "user": {
      "displayName": "vanadhi chelliah",
      "photoUrl": "https://lh3.googleusercontent.com/a/default-user=s64",
      "userId": "11158136158943693689"
     },
     "user_tz": -330
    },
    "id": "JwCSSjNsg9cf",
    "outputId": "b8374980-a369-4294-987e-a8b7cd9a99b0"
   },
   "outputs": [
    {
     "data": {
      "text/html": [
       "<table border=\"1\" class=\"dataframe\">\n",
       "  <thead>\n",
       "    <tr style=\"text-align: right;\">\n",
       "      <th></th>\n",
       "      <th>text</th>\n",
       "    </tr>\n",
       "  </thead>\n",
       "  <tbody>\n",
       "    <tr>\n",
       "      <th>0</th>\n",
       "      <td>\"market capitalization companies with market cap in excess of us$ 3.5 billion  public float at least 50% public float  financial viability companies should have four consecutive quarters of positive earnings</td>\n",
       "    </tr>\n",
       "    <tr>\n",
       "      <th>1</th>\n",
       "      <td>\"applications for such permission should be addressed to the chief, publishing and multimedia service, information division, fao, viale delle terme di caracalla, 00100 rome, italy or by e-mail to copyright@ fao.org i</td>\n",
       "    </tr>\n",
       "    <tr>\n",
       "      <th>2</th>\n",
       "      <td>\"every bank maintains a credit investigation department at its head office and main offices in larger cities to collect information regarding the financial position of its borrowers. at other centres, credit investigation is performed by branch managers. the credit information is collected through the following sources: 1. credit information bureau: the reserve bank of india has established within itself a credit information bureau which collects credit information from the banks under section 45-c (1) of the reserve bank of india act, 1934. banks are required to furnish such credit information in respect of credit limits of ` 5 lakhs and over in case of secured advances and ` 1 lakh and over in case of unsecured advances. they mention the nature of facility, security and charge along with outstanding balance. after consolidating such information in respect of each customer, the reserve bank supplies to the applicant-banks information relating to the total limits sanctioned to and the number of banks dealing with a party. thus, the banks can</td>\n",
       "    </tr>\n",
       "    <tr>\n",
       "      <th>3</th>\n",
       "      <td>procedure of opening and operating of deposit account iii) in case of payment by mistake, bank can collect such amount from the account holder. 3.1.6. specimen signature : a new customer is required to sign an account opening form and a specimen signature slip/card in the presence of an authorised officer who attests his specimen signature at the time of opening an account. the specimen signature cards are preserved by the bank. the bank compares the signature on the withdrawal slip with the specimen signature. importance : i) the signature on the card can be verified at the time of withdrawl. ii) it provides payment of money to right person. iii) one cannot say that he has not withdrawn money from the bank. 3.1.7. nomination : in case of death of an account holder, the problem of whom to pay the balance arises. now-a-days banks take nomination in writing in case of all accounts. in case of the death of an account holder the bank pays the money to the nominee and closes the account. a nomination made by a depositor in the prescribed manner will confer the nominee right to receive the amount of deposit from the bank.</td>\n",
       "    </tr>\n",
       "    <tr>\n",
       "      <th>4</th>\n",
       "      <td>10,000 more than rs. 10,000 less than rs. 10,000 more than rs. 10,000  commission payable nil rs. 150 nil rs.</td>\n",
       "    </tr>\n",
       "  </tbody>\n",
       "</table>"
      ],
      "text/plain": [
       "<IPython.core.display.HTML object>"
      ]
     },
     "metadata": {},
     "output_type": "display_data"
    }
   ],
   "source": [
    "show_random_elements(finlit_data[\"train\"])"
   ]
  },
  {
   "cell_type": "code",
   "execution_count": 81,
   "metadata": {
    "colab": {
     "base_uri": "https://localhost:8080/",
     "height": 535
    },
    "executionInfo": {
     "elapsed": 424,
     "status": "ok",
     "timestamp": 1639127132820,
     "user": {
      "displayName": "vanadhi chelliah",
      "photoUrl": "https://lh3.googleusercontent.com/a/default-user=s64",
      "userId": "11158136158943693689"
     },
     "user_tz": -330
    },
    "id": "nEB2oc0uhubi",
    "outputId": "d974ca03-7563-4f63-a60d-bf319e7a2b21"
   },
   "outputs": [
    {
     "data": {
      "text/html": [
       "<table border=\"1\" class=\"dataframe\">\n",
       "  <thead>\n",
       "    <tr style=\"text-align: right;\">\n",
       "      <th></th>\n",
       "      <th>text</th>\n",
       "    </tr>\n",
       "  </thead>\n",
       "  <tbody>\n",
       "    <tr>\n",
       "      <th>0</th>\n",
       "      <td>\"as time passes, the proportion of payment allocated to the principal increases and interest payment decreases. notice that in the 20th year, the total interest payment is ` 26,096 and the principal amount paid is ` 4,99,905. allocation of interest versus principal per year on ` 47,02,500 at annual interest rate of 9.5% for a 10 year loan</td>\n",
       "    </tr>\n",
       "    <tr>\n",
       "      <th>1</th>\n",
       "      <td>syllabus module iii, elective paper 9.1: banking law and practice (100 marks) level of knowledge: expert knowledge objective: to acquire specialized knowledge of law and practice relating to banking detailed contents: 1. overview of banking system 2. regulatory framework and compliances a. provisions of rbi act 1935, banking regulation act 1949, prevention of money laundering act, 2002. b. government and rbi's powers opening of new banks and branch licensing constitution of board of directors and their rights banks share holders and their rights crr and slr concepts cashcurrency management winding up - amalgamation and mergers powers to control advances - selective credit control  monetary and credit policy audit and inspection supervision and control - board for financial supervision  its scope and role disclosure of accounts and balance sheets submission of returns to rbi, corporate governance.\"</td>\n",
       "    </tr>\n",
       "    <tr>\n",
       "      <th>2</th>\n",
       "      <td>\"b omits to see this</td>\n",
       "    </tr>\n",
       "    <tr>\n",
       "      <th>3</th>\n",
       "      <td>debentures these are similar to bonds, but are issued by companies. there are different kinds of debentures, which can be offered. they are as follows:  non convertible debentures (ncd)  total amount redeemed by the issuer  partially convertible debentures (pcd)  part is redeemed and part is converted to equity shares with or without the option to the investor  fully convertible debentures (fcd)  whole value is converted into equity. the conversion price is stated when the instrument is issued company fixed deposits these are similar to bank fixed deposits, issued by companies to attract small investors. however, they are repayable only on maturity. they offer attractive interest rates, however, they are insecured. ratings are guide to investor for safety. mutual funds a mutual fund is a body corporate that pools money from many investors and invests the money in stocks, bonds, short-term money-market instruments, other securities or assets, or some combination of these investments.\"</td>\n",
       "    </tr>\n",
       "    <tr>\n",
       "      <th>4</th>\n",
       "      <td>wave characteristic  final leg in the direction of the dominant trend  news is almost universally positive and everyone is bullish  many average investors finally buy in, right before the top  volume is often lower in wave five than in wave three  momentum indicators start to show divergences  at the end of a major bull market, bears may very well be ridiculed  wave a  corrections are typically harder to identify than impulse moves  fundamental news is usually still positive  analysts see the drop as a correction in a still-active bull market  some technical indicators that accompany wave a include o increased volume o rising implied volatility in the options markets and o possibly a turn higher in open interest in related futures markets</td>\n",
       "    </tr>\n",
       "  </tbody>\n",
       "</table>"
      ],
      "text/plain": [
       "<IPython.core.display.HTML object>"
      ]
     },
     "metadata": {},
     "output_type": "display_data"
    }
   ],
   "source": [
    "show_random_elements(finlit_data[\"validation\"])"
   ]
  },
  {
   "cell_type": "code",
   "execution_count": null,
   "metadata": {
    "id": "lvdAAGEr61bP"
   },
   "outputs": [],
   "source": []
  }
 ],
 "metadata": {
  "accelerator": "GPU",
  "colab": {
   "collapsed_sections": [],
   "name": "04_FinLitQA_Generate_Data_corpus_FL.ipynb",
   "provenance": []
  },
  "kernelspec": {
   "display_name": "Python 3",
   "language": "python",
   "name": "python3"
  },
  "language_info": {
   "codemirror_mode": {
    "name": "ipython",
    "version": 3
   },
   "file_extension": ".py",
   "mimetype": "text/x-python",
   "name": "python",
   "nbconvert_exporter": "python",
   "pygments_lexer": "ipython3",
   "version": "3.7.6"
  },
  "widgets": {
   "application/vnd.jupyter.widget-state+json": {
    "06fb1107b7284dab867c25035126ace0": {
     "model_module": "@jupyter-widgets/controls",
     "model_module_version": "1.5.0",
     "model_name": "FloatProgressModel",
     "state": {
      "_dom_classes": [],
      "_model_module": "@jupyter-widgets/controls",
      "_model_module_version": "1.5.0",
      "_model_name": "FloatProgressModel",
      "_view_count": null,
      "_view_module": "@jupyter-widgets/controls",
      "_view_module_version": "1.5.0",
      "_view_name": "ProgressView",
      "bar_style": "success",
      "description": "",
      "description_tooltip": null,
      "layout": "IPY_MODEL_20e14d08dd9947efaea2536f9f691d36",
      "max": 2,
      "min": 0,
      "orientation": "horizontal",
      "style": "IPY_MODEL_b70b060172d5412990f00a5e1d9102f6",
      "value": 2
     }
    },
    "10cf8282535f409096fea13d120bd15c": {
     "model_module": "@jupyter-widgets/controls",
     "model_module_version": "1.5.0",
     "model_name": "FloatProgressModel",
     "state": {
      "_dom_classes": [],
      "_model_module": "@jupyter-widgets/controls",
      "_model_module_version": "1.5.0",
      "_model_name": "FloatProgressModel",
      "_view_count": null,
      "_view_module": "@jupyter-widgets/controls",
      "_view_module_version": "1.5.0",
      "_view_name": "ProgressView",
      "bar_style": "success",
      "description": "",
      "description_tooltip": null,
      "layout": "IPY_MODEL_5f4854f580a74dcb893a031bbeb192e8",
      "max": 2,
      "min": 0,
      "orientation": "horizontal",
      "style": "IPY_MODEL_c6f558407d6548588b1960bf34e8a9e0",
      "value": 2
     }
    },
    "1ce26667fd224965b430fe21b7469557": {
     "model_module": "@jupyter-widgets/controls",
     "model_module_version": "1.5.0",
     "model_name": "DescriptionStyleModel",
     "state": {
      "_model_module": "@jupyter-widgets/controls",
      "_model_module_version": "1.5.0",
      "_model_name": "DescriptionStyleModel",
      "_view_count": null,
      "_view_module": "@jupyter-widgets/base",
      "_view_module_version": "1.2.0",
      "_view_name": "StyleView",
      "description_width": ""
     }
    },
    "1ed77d6be6d34cd98cf41e728d90f844": {
     "model_module": "@jupyter-widgets/base",
     "model_module_version": "1.2.0",
     "model_name": "LayoutModel",
     "state": {
      "_model_module": "@jupyter-widgets/base",
      "_model_module_version": "1.2.0",
      "_model_name": "LayoutModel",
      "_view_count": null,
      "_view_module": "@jupyter-widgets/base",
      "_view_module_version": "1.2.0",
      "_view_name": "LayoutView",
      "align_content": null,
      "align_items": null,
      "align_self": null,
      "border": null,
      "bottom": null,
      "display": null,
      "flex": null,
      "flex_flow": null,
      "grid_area": null,
      "grid_auto_columns": null,
      "grid_auto_flow": null,
      "grid_auto_rows": null,
      "grid_column": null,
      "grid_gap": null,
      "grid_row": null,
      "grid_template_areas": null,
      "grid_template_columns": null,
      "grid_template_rows": null,
      "height": null,
      "justify_content": null,
      "justify_items": null,
      "left": null,
      "margin": null,
      "max_height": null,
      "max_width": null,
      "min_height": null,
      "min_width": null,
      "object_fit": null,
      "object_position": null,
      "order": null,
      "overflow": null,
      "overflow_x": null,
      "overflow_y": null,
      "padding": null,
      "right": null,
      "top": null,
      "visibility": null,
      "width": null
     }
    },
    "20e14d08dd9947efaea2536f9f691d36": {
     "model_module": "@jupyter-widgets/base",
     "model_module_version": "1.2.0",
     "model_name": "LayoutModel",
     "state": {
      "_model_module": "@jupyter-widgets/base",
      "_model_module_version": "1.2.0",
      "_model_name": "LayoutModel",
      "_view_count": null,
      "_view_module": "@jupyter-widgets/base",
      "_view_module_version": "1.2.0",
      "_view_name": "LayoutView",
      "align_content": null,
      "align_items": null,
      "align_self": null,
      "border": null,
      "bottom": null,
      "display": null,
      "flex": null,
      "flex_flow": null,
      "grid_area": null,
      "grid_auto_columns": null,
      "grid_auto_flow": null,
      "grid_auto_rows": null,
      "grid_column": null,
      "grid_gap": null,
      "grid_row": null,
      "grid_template_areas": null,
      "grid_template_columns": null,
      "grid_template_rows": null,
      "height": null,
      "justify_content": null,
      "justify_items": null,
      "left": null,
      "margin": null,
      "max_height": null,
      "max_width": null,
      "min_height": null,
      "min_width": null,
      "object_fit": null,
      "object_position": null,
      "order": null,
      "overflow": null,
      "overflow_x": null,
      "overflow_y": null,
      "padding": null,
      "right": null,
      "top": null,
      "visibility": null,
      "width": null
     }
    },
    "26bd448b6f144be29ad8ac3cae5af2fa": {
     "model_module": "@jupyter-widgets/controls",
     "model_module_version": "1.5.0",
     "model_name": "HTMLModel",
     "state": {
      "_dom_classes": [],
      "_model_module": "@jupyter-widgets/controls",
      "_model_module_version": "1.5.0",
      "_model_name": "HTMLModel",
      "_view_count": null,
      "_view_module": "@jupyter-widgets/controls",
      "_view_module_version": "1.5.0",
      "_view_name": "HTMLView",
      "description": "",
      "description_tooltip": null,
      "layout": "IPY_MODEL_c39d6b38af96456fb5e0218edae6d7a2",
      "placeholder": "​",
      "style": "IPY_MODEL_a6ef4f5429d64fe1943e5176483adedc",
      "value": "100%"
     }
    },
    "2d1d631b950a4ad3ac99cceb6f97801a": {
     "model_module": "@jupyter-widgets/base",
     "model_module_version": "1.2.0",
     "model_name": "LayoutModel",
     "state": {
      "_model_module": "@jupyter-widgets/base",
      "_model_module_version": "1.2.0",
      "_model_name": "LayoutModel",
      "_view_count": null,
      "_view_module": "@jupyter-widgets/base",
      "_view_module_version": "1.2.0",
      "_view_name": "LayoutView",
      "align_content": null,
      "align_items": null,
      "align_self": null,
      "border": null,
      "bottom": null,
      "display": null,
      "flex": null,
      "flex_flow": null,
      "grid_area": null,
      "grid_auto_columns": null,
      "grid_auto_flow": null,
      "grid_auto_rows": null,
      "grid_column": null,
      "grid_gap": null,
      "grid_row": null,
      "grid_template_areas": null,
      "grid_template_columns": null,
      "grid_template_rows": null,
      "height": null,
      "justify_content": null,
      "justify_items": null,
      "left": null,
      "margin": null,
      "max_height": null,
      "max_width": null,
      "min_height": null,
      "min_width": null,
      "object_fit": null,
      "object_position": null,
      "order": null,
      "overflow": null,
      "overflow_x": null,
      "overflow_y": null,
      "padding": null,
      "right": null,
      "top": null,
      "visibility": null,
      "width": null
     }
    },
    "3308665fd16e4b90b1d9742a64e76a80": {
     "model_module": "@jupyter-widgets/controls",
     "model_module_version": "1.5.0",
     "model_name": "HBoxModel",
     "state": {
      "_dom_classes": [],
      "_model_module": "@jupyter-widgets/controls",
      "_model_module_version": "1.5.0",
      "_model_name": "HBoxModel",
      "_view_count": null,
      "_view_module": "@jupyter-widgets/controls",
      "_view_module_version": "1.5.0",
      "_view_name": "HBoxView",
      "box_style": "",
      "children": [
       "IPY_MODEL_b34b1ace82f442a196887f81bb970ea5",
       "IPY_MODEL_10cf8282535f409096fea13d120bd15c",
       "IPY_MODEL_56966d437866413bb95739f580026d52"
      ],
      "layout": "IPY_MODEL_2d1d631b950a4ad3ac99cceb6f97801a"
     }
    },
    "33e53fb1f1df4f8e8a4d373b018ca745": {
     "model_module": "@jupyter-widgets/controls",
     "model_module_version": "1.5.0",
     "model_name": "HBoxModel",
     "state": {
      "_dom_classes": [],
      "_model_module": "@jupyter-widgets/controls",
      "_model_module_version": "1.5.0",
      "_model_name": "HBoxModel",
      "_view_count": null,
      "_view_module": "@jupyter-widgets/controls",
      "_view_module_version": "1.5.0",
      "_view_name": "HBoxView",
      "box_style": "",
      "children": [
       "IPY_MODEL_e34be5962cbb42efbe9488f0dbf73ba9",
       "IPY_MODEL_9585edf6051b4b859f6c43a254021628",
       "IPY_MODEL_68eda0a8624743a3b9f925fed726ec5f"
      ],
      "layout": "IPY_MODEL_adc3dd6987bd449794cea79627579698"
     }
    },
    "40374d10497e44a291f9f100f7f8ee30": {
     "model_module": "@jupyter-widgets/base",
     "model_module_version": "1.2.0",
     "model_name": "LayoutModel",
     "state": {
      "_model_module": "@jupyter-widgets/base",
      "_model_module_version": "1.2.0",
      "_model_name": "LayoutModel",
      "_view_count": null,
      "_view_module": "@jupyter-widgets/base",
      "_view_module_version": "1.2.0",
      "_view_name": "LayoutView",
      "align_content": null,
      "align_items": null,
      "align_self": null,
      "border": null,
      "bottom": null,
      "display": null,
      "flex": null,
      "flex_flow": null,
      "grid_area": null,
      "grid_auto_columns": null,
      "grid_auto_flow": null,
      "grid_auto_rows": null,
      "grid_column": null,
      "grid_gap": null,
      "grid_row": null,
      "grid_template_areas": null,
      "grid_template_columns": null,
      "grid_template_rows": null,
      "height": null,
      "justify_content": null,
      "justify_items": null,
      "left": null,
      "margin": null,
      "max_height": null,
      "max_width": null,
      "min_height": null,
      "min_width": null,
      "object_fit": null,
      "object_position": null,
      "order": null,
      "overflow": null,
      "overflow_x": null,
      "overflow_y": null,
      "padding": null,
      "right": null,
      "top": null,
      "visibility": null,
      "width": null
     }
    },
    "552be956fc5648a4bb37559fa8518396": {
     "model_module": "@jupyter-widgets/controls",
     "model_module_version": "1.5.0",
     "model_name": "HBoxModel",
     "state": {
      "_dom_classes": [],
      "_model_module": "@jupyter-widgets/controls",
      "_model_module_version": "1.5.0",
      "_model_name": "HBoxModel",
      "_view_count": null,
      "_view_module": "@jupyter-widgets/controls",
      "_view_module_version": "1.5.0",
      "_view_name": "HBoxView",
      "box_style": "",
      "children": [
       "IPY_MODEL_26bd448b6f144be29ad8ac3cae5af2fa",
       "IPY_MODEL_06fb1107b7284dab867c25035126ace0",
       "IPY_MODEL_81dc49f165ee4e92ad5ea8fa83321ac0"
      ],
      "layout": "IPY_MODEL_1ed77d6be6d34cd98cf41e728d90f844"
     }
    },
    "56966d437866413bb95739f580026d52": {
     "model_module": "@jupyter-widgets/controls",
     "model_module_version": "1.5.0",
     "model_name": "HTMLModel",
     "state": {
      "_dom_classes": [],
      "_model_module": "@jupyter-widgets/controls",
      "_model_module_version": "1.5.0",
      "_model_name": "HTMLModel",
      "_view_count": null,
      "_view_module": "@jupyter-widgets/controls",
      "_view_module_version": "1.5.0",
      "_view_name": "HTMLView",
      "description": "",
      "description_tooltip": null,
      "layout": "IPY_MODEL_40374d10497e44a291f9f100f7f8ee30",
      "placeholder": "​",
      "style": "IPY_MODEL_9a82fcfb6aa34480bf51d7caaf62cedc",
      "value": " 2/2 [00:00&lt;00:00, 47.71it/s]"
     }
    },
    "5f4854f580a74dcb893a031bbeb192e8": {
     "model_module": "@jupyter-widgets/base",
     "model_module_version": "1.2.0",
     "model_name": "LayoutModel",
     "state": {
      "_model_module": "@jupyter-widgets/base",
      "_model_module_version": "1.2.0",
      "_model_name": "LayoutModel",
      "_view_count": null,
      "_view_module": "@jupyter-widgets/base",
      "_view_module_version": "1.2.0",
      "_view_name": "LayoutView",
      "align_content": null,
      "align_items": null,
      "align_self": null,
      "border": null,
      "bottom": null,
      "display": null,
      "flex": null,
      "flex_flow": null,
      "grid_area": null,
      "grid_auto_columns": null,
      "grid_auto_flow": null,
      "grid_auto_rows": null,
      "grid_column": null,
      "grid_gap": null,
      "grid_row": null,
      "grid_template_areas": null,
      "grid_template_columns": null,
      "grid_template_rows": null,
      "height": null,
      "justify_content": null,
      "justify_items": null,
      "left": null,
      "margin": null,
      "max_height": null,
      "max_width": null,
      "min_height": null,
      "min_width": null,
      "object_fit": null,
      "object_position": null,
      "order": null,
      "overflow": null,
      "overflow_x": null,
      "overflow_y": null,
      "padding": null,
      "right": null,
      "top": null,
      "visibility": null,
      "width": null
     }
    },
    "68eda0a8624743a3b9f925fed726ec5f": {
     "model_module": "@jupyter-widgets/controls",
     "model_module_version": "1.5.0",
     "model_name": "HTMLModel",
     "state": {
      "_dom_classes": [],
      "_model_module": "@jupyter-widgets/controls",
      "_model_module_version": "1.5.0",
      "_model_name": "HTMLModel",
      "_view_count": null,
      "_view_module": "@jupyter-widgets/controls",
      "_view_module_version": "1.5.0",
      "_view_name": "HTMLView",
      "description": "",
      "description_tooltip": null,
      "layout": "IPY_MODEL_ccfbb3bdd5de4a3792331d9c27ed224f",
      "placeholder": "​",
      "style": "IPY_MODEL_de8bfdb39b0e4ac7b061f20a16334eea",
      "value": " 2/2 [00:00&lt;00:00, 40.45it/s]"
     }
    },
    "724b1fbf3f504e3190e0bf0057a55ca6": {
     "model_module": "@jupyter-widgets/controls",
     "model_module_version": "1.5.0",
     "model_name": "ProgressStyleModel",
     "state": {
      "_model_module": "@jupyter-widgets/controls",
      "_model_module_version": "1.5.0",
      "_model_name": "ProgressStyleModel",
      "_view_count": null,
      "_view_module": "@jupyter-widgets/base",
      "_view_module_version": "1.2.0",
      "_view_name": "StyleView",
      "bar_color": null,
      "description_width": ""
     }
    },
    "81dc49f165ee4e92ad5ea8fa83321ac0": {
     "model_module": "@jupyter-widgets/controls",
     "model_module_version": "1.5.0",
     "model_name": "HTMLModel",
     "state": {
      "_dom_classes": [],
      "_model_module": "@jupyter-widgets/controls",
      "_model_module_version": "1.5.0",
      "_model_name": "HTMLModel",
      "_view_count": null,
      "_view_module": "@jupyter-widgets/controls",
      "_view_module_version": "1.5.0",
      "_view_name": "HTMLView",
      "description": "",
      "description_tooltip": null,
      "layout": "IPY_MODEL_da927f81ef69448b88d702a978db29d2",
      "placeholder": "​",
      "style": "IPY_MODEL_1ce26667fd224965b430fe21b7469557",
      "value": " 2/2 [00:00&lt;00:00, 19.83it/s]"
     }
    },
    "8c226a89a1c54a468d7d5e75fe9077a3": {
     "model_module": "@jupyter-widgets/base",
     "model_module_version": "1.2.0",
     "model_name": "LayoutModel",
     "state": {
      "_model_module": "@jupyter-widgets/base",
      "_model_module_version": "1.2.0",
      "_model_name": "LayoutModel",
      "_view_count": null,
      "_view_module": "@jupyter-widgets/base",
      "_view_module_version": "1.2.0",
      "_view_name": "LayoutView",
      "align_content": null,
      "align_items": null,
      "align_self": null,
      "border": null,
      "bottom": null,
      "display": null,
      "flex": null,
      "flex_flow": null,
      "grid_area": null,
      "grid_auto_columns": null,
      "grid_auto_flow": null,
      "grid_auto_rows": null,
      "grid_column": null,
      "grid_gap": null,
      "grid_row": null,
      "grid_template_areas": null,
      "grid_template_columns": null,
      "grid_template_rows": null,
      "height": null,
      "justify_content": null,
      "justify_items": null,
      "left": null,
      "margin": null,
      "max_height": null,
      "max_width": null,
      "min_height": null,
      "min_width": null,
      "object_fit": null,
      "object_position": null,
      "order": null,
      "overflow": null,
      "overflow_x": null,
      "overflow_y": null,
      "padding": null,
      "right": null,
      "top": null,
      "visibility": null,
      "width": null
     }
    },
    "9585edf6051b4b859f6c43a254021628": {
     "model_module": "@jupyter-widgets/controls",
     "model_module_version": "1.5.0",
     "model_name": "FloatProgressModel",
     "state": {
      "_dom_classes": [],
      "_model_module": "@jupyter-widgets/controls",
      "_model_module_version": "1.5.0",
      "_model_name": "FloatProgressModel",
      "_view_count": null,
      "_view_module": "@jupyter-widgets/controls",
      "_view_module_version": "1.5.0",
      "_view_name": "ProgressView",
      "bar_style": "success",
      "description": "",
      "description_tooltip": null,
      "layout": "IPY_MODEL_8c226a89a1c54a468d7d5e75fe9077a3",
      "max": 2,
      "min": 0,
      "orientation": "horizontal",
      "style": "IPY_MODEL_724b1fbf3f504e3190e0bf0057a55ca6",
      "value": 2
     }
    },
    "9a82fcfb6aa34480bf51d7caaf62cedc": {
     "model_module": "@jupyter-widgets/controls",
     "model_module_version": "1.5.0",
     "model_name": "DescriptionStyleModel",
     "state": {
      "_model_module": "@jupyter-widgets/controls",
      "_model_module_version": "1.5.0",
      "_model_name": "DescriptionStyleModel",
      "_view_count": null,
      "_view_module": "@jupyter-widgets/base",
      "_view_module_version": "1.2.0",
      "_view_name": "StyleView",
      "description_width": ""
     }
    },
    "a06e85ed159c426fabdaf615d8e9eb51": {
     "model_module": "@jupyter-widgets/controls",
     "model_module_version": "1.5.0",
     "model_name": "DescriptionStyleModel",
     "state": {
      "_model_module": "@jupyter-widgets/controls",
      "_model_module_version": "1.5.0",
      "_model_name": "DescriptionStyleModel",
      "_view_count": null,
      "_view_module": "@jupyter-widgets/base",
      "_view_module_version": "1.2.0",
      "_view_name": "StyleView",
      "description_width": ""
     }
    },
    "a6ef4f5429d64fe1943e5176483adedc": {
     "model_module": "@jupyter-widgets/controls",
     "model_module_version": "1.5.0",
     "model_name": "DescriptionStyleModel",
     "state": {
      "_model_module": "@jupyter-widgets/controls",
      "_model_module_version": "1.5.0",
      "_model_name": "DescriptionStyleModel",
      "_view_count": null,
      "_view_module": "@jupyter-widgets/base",
      "_view_module_version": "1.2.0",
      "_view_name": "StyleView",
      "description_width": ""
     }
    },
    "ad6643218c354e72855566c82b23b533": {
     "model_module": "@jupyter-widgets/base",
     "model_module_version": "1.2.0",
     "model_name": "LayoutModel",
     "state": {
      "_model_module": "@jupyter-widgets/base",
      "_model_module_version": "1.2.0",
      "_model_name": "LayoutModel",
      "_view_count": null,
      "_view_module": "@jupyter-widgets/base",
      "_view_module_version": "1.2.0",
      "_view_name": "LayoutView",
      "align_content": null,
      "align_items": null,
      "align_self": null,
      "border": null,
      "bottom": null,
      "display": null,
      "flex": null,
      "flex_flow": null,
      "grid_area": null,
      "grid_auto_columns": null,
      "grid_auto_flow": null,
      "grid_auto_rows": null,
      "grid_column": null,
      "grid_gap": null,
      "grid_row": null,
      "grid_template_areas": null,
      "grid_template_columns": null,
      "grid_template_rows": null,
      "height": null,
      "justify_content": null,
      "justify_items": null,
      "left": null,
      "margin": null,
      "max_height": null,
      "max_width": null,
      "min_height": null,
      "min_width": null,
      "object_fit": null,
      "object_position": null,
      "order": null,
      "overflow": null,
      "overflow_x": null,
      "overflow_y": null,
      "padding": null,
      "right": null,
      "top": null,
      "visibility": null,
      "width": null
     }
    },
    "adc3dd6987bd449794cea79627579698": {
     "model_module": "@jupyter-widgets/base",
     "model_module_version": "1.2.0",
     "model_name": "LayoutModel",
     "state": {
      "_model_module": "@jupyter-widgets/base",
      "_model_module_version": "1.2.0",
      "_model_name": "LayoutModel",
      "_view_count": null,
      "_view_module": "@jupyter-widgets/base",
      "_view_module_version": "1.2.0",
      "_view_name": "LayoutView",
      "align_content": null,
      "align_items": null,
      "align_self": null,
      "border": null,
      "bottom": null,
      "display": null,
      "flex": null,
      "flex_flow": null,
      "grid_area": null,
      "grid_auto_columns": null,
      "grid_auto_flow": null,
      "grid_auto_rows": null,
      "grid_column": null,
      "grid_gap": null,
      "grid_row": null,
      "grid_template_areas": null,
      "grid_template_columns": null,
      "grid_template_rows": null,
      "height": null,
      "justify_content": null,
      "justify_items": null,
      "left": null,
      "margin": null,
      "max_height": null,
      "max_width": null,
      "min_height": null,
      "min_width": null,
      "object_fit": null,
      "object_position": null,
      "order": null,
      "overflow": null,
      "overflow_x": null,
      "overflow_y": null,
      "padding": null,
      "right": null,
      "top": null,
      "visibility": null,
      "width": null
     }
    },
    "b34b1ace82f442a196887f81bb970ea5": {
     "model_module": "@jupyter-widgets/controls",
     "model_module_version": "1.5.0",
     "model_name": "HTMLModel",
     "state": {
      "_dom_classes": [],
      "_model_module": "@jupyter-widgets/controls",
      "_model_module_version": "1.5.0",
      "_model_name": "HTMLModel",
      "_view_count": null,
      "_view_module": "@jupyter-widgets/controls",
      "_view_module_version": "1.5.0",
      "_view_name": "HTMLView",
      "description": "",
      "description_tooltip": null,
      "layout": "IPY_MODEL_ad6643218c354e72855566c82b23b533",
      "placeholder": "​",
      "style": "IPY_MODEL_a06e85ed159c426fabdaf615d8e9eb51",
      "value": "100%"
     }
    },
    "b70b060172d5412990f00a5e1d9102f6": {
     "model_module": "@jupyter-widgets/controls",
     "model_module_version": "1.5.0",
     "model_name": "ProgressStyleModel",
     "state": {
      "_model_module": "@jupyter-widgets/controls",
      "_model_module_version": "1.5.0",
      "_model_name": "ProgressStyleModel",
      "_view_count": null,
      "_view_module": "@jupyter-widgets/base",
      "_view_module_version": "1.2.0",
      "_view_name": "StyleView",
      "bar_color": null,
      "description_width": ""
     }
    },
    "c39d6b38af96456fb5e0218edae6d7a2": {
     "model_module": "@jupyter-widgets/base",
     "model_module_version": "1.2.0",
     "model_name": "LayoutModel",
     "state": {
      "_model_module": "@jupyter-widgets/base",
      "_model_module_version": "1.2.0",
      "_model_name": "LayoutModel",
      "_view_count": null,
      "_view_module": "@jupyter-widgets/base",
      "_view_module_version": "1.2.0",
      "_view_name": "LayoutView",
      "align_content": null,
      "align_items": null,
      "align_self": null,
      "border": null,
      "bottom": null,
      "display": null,
      "flex": null,
      "flex_flow": null,
      "grid_area": null,
      "grid_auto_columns": null,
      "grid_auto_flow": null,
      "grid_auto_rows": null,
      "grid_column": null,
      "grid_gap": null,
      "grid_row": null,
      "grid_template_areas": null,
      "grid_template_columns": null,
      "grid_template_rows": null,
      "height": null,
      "justify_content": null,
      "justify_items": null,
      "left": null,
      "margin": null,
      "max_height": null,
      "max_width": null,
      "min_height": null,
      "min_width": null,
      "object_fit": null,
      "object_position": null,
      "order": null,
      "overflow": null,
      "overflow_x": null,
      "overflow_y": null,
      "padding": null,
      "right": null,
      "top": null,
      "visibility": null,
      "width": null
     }
    },
    "c6f558407d6548588b1960bf34e8a9e0": {
     "model_module": "@jupyter-widgets/controls",
     "model_module_version": "1.5.0",
     "model_name": "ProgressStyleModel",
     "state": {
      "_model_module": "@jupyter-widgets/controls",
      "_model_module_version": "1.5.0",
      "_model_name": "ProgressStyleModel",
      "_view_count": null,
      "_view_module": "@jupyter-widgets/base",
      "_view_module_version": "1.2.0",
      "_view_name": "StyleView",
      "bar_color": null,
      "description_width": ""
     }
    },
    "ccfbb3bdd5de4a3792331d9c27ed224f": {
     "model_module": "@jupyter-widgets/base",
     "model_module_version": "1.2.0",
     "model_name": "LayoutModel",
     "state": {
      "_model_module": "@jupyter-widgets/base",
      "_model_module_version": "1.2.0",
      "_model_name": "LayoutModel",
      "_view_count": null,
      "_view_module": "@jupyter-widgets/base",
      "_view_module_version": "1.2.0",
      "_view_name": "LayoutView",
      "align_content": null,
      "align_items": null,
      "align_self": null,
      "border": null,
      "bottom": null,
      "display": null,
      "flex": null,
      "flex_flow": null,
      "grid_area": null,
      "grid_auto_columns": null,
      "grid_auto_flow": null,
      "grid_auto_rows": null,
      "grid_column": null,
      "grid_gap": null,
      "grid_row": null,
      "grid_template_areas": null,
      "grid_template_columns": null,
      "grid_template_rows": null,
      "height": null,
      "justify_content": null,
      "justify_items": null,
      "left": null,
      "margin": null,
      "max_height": null,
      "max_width": null,
      "min_height": null,
      "min_width": null,
      "object_fit": null,
      "object_position": null,
      "order": null,
      "overflow": null,
      "overflow_x": null,
      "overflow_y": null,
      "padding": null,
      "right": null,
      "top": null,
      "visibility": null,
      "width": null
     }
    },
    "d83f68f0f42b45969148684735790df0": {
     "model_module": "@jupyter-widgets/controls",
     "model_module_version": "1.5.0",
     "model_name": "DescriptionStyleModel",
     "state": {
      "_model_module": "@jupyter-widgets/controls",
      "_model_module_version": "1.5.0",
      "_model_name": "DescriptionStyleModel",
      "_view_count": null,
      "_view_module": "@jupyter-widgets/base",
      "_view_module_version": "1.2.0",
      "_view_name": "StyleView",
      "description_width": ""
     }
    },
    "da927f81ef69448b88d702a978db29d2": {
     "model_module": "@jupyter-widgets/base",
     "model_module_version": "1.2.0",
     "model_name": "LayoutModel",
     "state": {
      "_model_module": "@jupyter-widgets/base",
      "_model_module_version": "1.2.0",
      "_model_name": "LayoutModel",
      "_view_count": null,
      "_view_module": "@jupyter-widgets/base",
      "_view_module_version": "1.2.0",
      "_view_name": "LayoutView",
      "align_content": null,
      "align_items": null,
      "align_self": null,
      "border": null,
      "bottom": null,
      "display": null,
      "flex": null,
      "flex_flow": null,
      "grid_area": null,
      "grid_auto_columns": null,
      "grid_auto_flow": null,
      "grid_auto_rows": null,
      "grid_column": null,
      "grid_gap": null,
      "grid_row": null,
      "grid_template_areas": null,
      "grid_template_columns": null,
      "grid_template_rows": null,
      "height": null,
      "justify_content": null,
      "justify_items": null,
      "left": null,
      "margin": null,
      "max_height": null,
      "max_width": null,
      "min_height": null,
      "min_width": null,
      "object_fit": null,
      "object_position": null,
      "order": null,
      "overflow": null,
      "overflow_x": null,
      "overflow_y": null,
      "padding": null,
      "right": null,
      "top": null,
      "visibility": null,
      "width": null
     }
    },
    "de8bfdb39b0e4ac7b061f20a16334eea": {
     "model_module": "@jupyter-widgets/controls",
     "model_module_version": "1.5.0",
     "model_name": "DescriptionStyleModel",
     "state": {
      "_model_module": "@jupyter-widgets/controls",
      "_model_module_version": "1.5.0",
      "_model_name": "DescriptionStyleModel",
      "_view_count": null,
      "_view_module": "@jupyter-widgets/base",
      "_view_module_version": "1.2.0",
      "_view_name": "StyleView",
      "description_width": ""
     }
    },
    "e34be5962cbb42efbe9488f0dbf73ba9": {
     "model_module": "@jupyter-widgets/controls",
     "model_module_version": "1.5.0",
     "model_name": "HTMLModel",
     "state": {
      "_dom_classes": [],
      "_model_module": "@jupyter-widgets/controls",
      "_model_module_version": "1.5.0",
      "_model_name": "HTMLModel",
      "_view_count": null,
      "_view_module": "@jupyter-widgets/controls",
      "_view_module_version": "1.5.0",
      "_view_name": "HTMLView",
      "description": "",
      "description_tooltip": null,
      "layout": "IPY_MODEL_e3c32863b4bc41928b763fd0414091d1",
      "placeholder": "​",
      "style": "IPY_MODEL_d83f68f0f42b45969148684735790df0",
      "value": "100%"
     }
    },
    "e3c32863b4bc41928b763fd0414091d1": {
     "model_module": "@jupyter-widgets/base",
     "model_module_version": "1.2.0",
     "model_name": "LayoutModel",
     "state": {
      "_model_module": "@jupyter-widgets/base",
      "_model_module_version": "1.2.0",
      "_model_name": "LayoutModel",
      "_view_count": null,
      "_view_module": "@jupyter-widgets/base",
      "_view_module_version": "1.2.0",
      "_view_name": "LayoutView",
      "align_content": null,
      "align_items": null,
      "align_self": null,
      "border": null,
      "bottom": null,
      "display": null,
      "flex": null,
      "flex_flow": null,
      "grid_area": null,
      "grid_auto_columns": null,
      "grid_auto_flow": null,
      "grid_auto_rows": null,
      "grid_column": null,
      "grid_gap": null,
      "grid_row": null,
      "grid_template_areas": null,
      "grid_template_columns": null,
      "grid_template_rows": null,
      "height": null,
      "justify_content": null,
      "justify_items": null,
      "left": null,
      "margin": null,
      "max_height": null,
      "max_width": null,
      "min_height": null,
      "min_width": null,
      "object_fit": null,
      "object_position": null,
      "order": null,
      "overflow": null,
      "overflow_x": null,
      "overflow_y": null,
      "padding": null,
      "right": null,
      "top": null,
      "visibility": null,
      "width": null
     }
    }
   }
  }
 },
 "nbformat": 4,
 "nbformat_minor": 1
}
